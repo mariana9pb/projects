{
 "cells": [
  {
   "cell_type": "markdown",
   "metadata": {},
   "source": [
    "# Proyecto Sprint 11: Aprendizaje Automático\n"
   ]
  },
  {
   "cell_type": "markdown",
   "metadata": {},
   "source": [
    "**Descripción del proyecto**\n",
    "\n",
    "Trabajas en la compañía de extracción de petróleo OilyGiant. Tu tarea es encontrar los mejores lugares donde abrir 200 pozos nuevos de petróleo.\n",
    "\n",
    "Para completar esta tarea, tendrás que realizar los siguientes pasos:\n",
    "\n",
    "- Leer los archivos con los parámetros recogidos de pozos petrolíferos en la región seleccionada: calidad de crudo y volumen de reservas.\n",
    "- Crear un modelo para predecir el volumen de reservas en pozos nuevos.\n",
    "- Elegir los pozos petrolíferos que tienen los valores estimados más altos.\n",
    "- Elegir la región con el beneficio total más alto para los pozos petrolíferos seleccionados.\n",
    "\n",
    "Tienes datos sobre muestras de crudo de tres regiones. Ya se conocen los parámetros de cada pozo petrolero de la región. Crea un modelo que ayude a elegir la región con el mayor margen de beneficio. Analiza los beneficios y riesgos potenciales utilizando la técnica bootstrapping.\n",
    "\n",
    "- Solo se debe usar la regresión lineal para el entrenamiento del modelo.\n",
    "- Al explorar la región, se lleva a cabo un estudio de 500 puntos con la selección de los mejores 200 puntos para el cálculo del beneficio.\n",
    "- El presupuesto para el desarrollo de 200 pozos petroleros es de 100 millones de dólares.\n",
    "- Un barril de materias primas genera 4.5 USD de ingresos. El ingreso de una unidad de producto es de 4500 dólares (el volumen de reservas está expresado en miles de barriles).\n",
    "- Después de la evaluación de riesgo, mantén solo las regiones con riesgo de pérdidas inferior al 2.5%. De las que se ajustan a los criterios, se debe seleccionar la región con el beneficio promedio más alto."
   ]
  },
  {
   "cell_type": "markdown",
   "metadata": {},
   "source": [
    "## Preparación de los datos"
   ]
  },
  {
   "cell_type": "code",
   "execution_count": 1,
   "metadata": {},
   "outputs": [],
   "source": [
    "# importar las librerías\n",
    "import pandas as pd\n",
    "import numpy as np\n",
    "from numpy.random import RandomState\n",
    "from sklearn.model_selection import train_test_split\n",
    "from sklearn.preprocessing import StandardScaler\n",
    "from sklearn.linear_model import LinearRegression\n",
    "from sklearn.metrics import mean_squared_error, r2_score\n",
    "from sklearn.metrics import mean_absolute_error\n",
    "\n"
   ]
  },
  {
   "cell_type": "code",
   "execution_count": 2,
   "metadata": {},
   "outputs": [
    {
     "data": {
      "text/html": [
       "<div>\n",
       "<style scoped>\n",
       "    .dataframe tbody tr th:only-of-type {\n",
       "        vertical-align: middle;\n",
       "    }\n",
       "\n",
       "    .dataframe tbody tr th {\n",
       "        vertical-align: top;\n",
       "    }\n",
       "\n",
       "    .dataframe thead th {\n",
       "        text-align: right;\n",
       "    }\n",
       "</style>\n",
       "<table border=\"1\" class=\"dataframe\">\n",
       "  <thead>\n",
       "    <tr style=\"text-align: right;\">\n",
       "      <th></th>\n",
       "      <th>id</th>\n",
       "      <th>f0</th>\n",
       "      <th>f1</th>\n",
       "      <th>f2</th>\n",
       "      <th>product</th>\n",
       "    </tr>\n",
       "  </thead>\n",
       "  <tbody>\n",
       "    <tr>\n",
       "      <th>0</th>\n",
       "      <td>fwXo0</td>\n",
       "      <td>-1.146987</td>\n",
       "      <td>0.963328</td>\n",
       "      <td>-0.828965</td>\n",
       "      <td>27.758673</td>\n",
       "    </tr>\n",
       "    <tr>\n",
       "      <th>1</th>\n",
       "      <td>WJtFt</td>\n",
       "      <td>0.262778</td>\n",
       "      <td>0.269839</td>\n",
       "      <td>-2.530187</td>\n",
       "      <td>56.069697</td>\n",
       "    </tr>\n",
       "    <tr>\n",
       "      <th>2</th>\n",
       "      <td>ovLUW</td>\n",
       "      <td>0.194587</td>\n",
       "      <td>0.289035</td>\n",
       "      <td>-5.586433</td>\n",
       "      <td>62.871910</td>\n",
       "    </tr>\n",
       "    <tr>\n",
       "      <th>3</th>\n",
       "      <td>q6cA6</td>\n",
       "      <td>2.236060</td>\n",
       "      <td>-0.553760</td>\n",
       "      <td>0.930038</td>\n",
       "      <td>114.572842</td>\n",
       "    </tr>\n",
       "    <tr>\n",
       "      <th>4</th>\n",
       "      <td>WPMUX</td>\n",
       "      <td>-0.515993</td>\n",
       "      <td>1.716266</td>\n",
       "      <td>5.899011</td>\n",
       "      <td>149.600746</td>\n",
       "    </tr>\n",
       "    <tr>\n",
       "      <th>...</th>\n",
       "      <td>...</td>\n",
       "      <td>...</td>\n",
       "      <td>...</td>\n",
       "      <td>...</td>\n",
       "      <td>...</td>\n",
       "    </tr>\n",
       "    <tr>\n",
       "      <th>99995</th>\n",
       "      <td>4GxBu</td>\n",
       "      <td>-1.777037</td>\n",
       "      <td>1.125220</td>\n",
       "      <td>6.263374</td>\n",
       "      <td>172.327046</td>\n",
       "    </tr>\n",
       "    <tr>\n",
       "      <th>99996</th>\n",
       "      <td>YKFjq</td>\n",
       "      <td>-1.261523</td>\n",
       "      <td>-0.894828</td>\n",
       "      <td>2.524545</td>\n",
       "      <td>138.748846</td>\n",
       "    </tr>\n",
       "    <tr>\n",
       "      <th>99997</th>\n",
       "      <td>tKPY3</td>\n",
       "      <td>-1.199934</td>\n",
       "      <td>-2.957637</td>\n",
       "      <td>5.219411</td>\n",
       "      <td>157.080080</td>\n",
       "    </tr>\n",
       "    <tr>\n",
       "      <th>99998</th>\n",
       "      <td>nmxp2</td>\n",
       "      <td>-2.419896</td>\n",
       "      <td>2.417221</td>\n",
       "      <td>-5.548444</td>\n",
       "      <td>51.795253</td>\n",
       "    </tr>\n",
       "    <tr>\n",
       "      <th>99999</th>\n",
       "      <td>V9kWn</td>\n",
       "      <td>-2.551421</td>\n",
       "      <td>-2.025625</td>\n",
       "      <td>6.090891</td>\n",
       "      <td>102.775767</td>\n",
       "    </tr>\n",
       "  </tbody>\n",
       "</table>\n",
       "<p>100000 rows × 5 columns</p>\n",
       "</div>"
      ],
      "text/plain": [
       "          id        f0        f1        f2     product\n",
       "0      fwXo0 -1.146987  0.963328 -0.828965   27.758673\n",
       "1      WJtFt  0.262778  0.269839 -2.530187   56.069697\n",
       "2      ovLUW  0.194587  0.289035 -5.586433   62.871910\n",
       "3      q6cA6  2.236060 -0.553760  0.930038  114.572842\n",
       "4      WPMUX -0.515993  1.716266  5.899011  149.600746\n",
       "...      ...       ...       ...       ...         ...\n",
       "99995  4GxBu -1.777037  1.125220  6.263374  172.327046\n",
       "99996  YKFjq -1.261523 -0.894828  2.524545  138.748846\n",
       "99997  tKPY3 -1.199934 -2.957637  5.219411  157.080080\n",
       "99998  nmxp2 -2.419896  2.417221 -5.548444   51.795253\n",
       "99999  V9kWn -2.551421 -2.025625  6.090891  102.775767\n",
       "\n",
       "[100000 rows x 5 columns]"
      ]
     },
     "execution_count": 2,
     "metadata": {},
     "output_type": "execute_result"
    }
   ],
   "source": [
    "# crea los dataframe\n",
    "\n",
    "geo_df_0 = pd.read_csv('/datasets/geo_data_0.csv')\n",
    "#geo_df_0\n",
    "\n",
    "geo_df_1 = pd.read_csv('/datasets/geo_data_1.csv')\n",
    "#geo_df_1\n",
    "\n",
    "geo_df_2 = pd.read_csv('/datasets/geo_data_2.csv')\n",
    "geo_df_2\n"
   ]
  },
  {
   "cell_type": "code",
   "execution_count": 3,
   "metadata": {
    "scrolled": true
   },
   "outputs": [],
   "source": [
    "# eliminar la columna 'id', de los 3 dataframes, irrelevante para el entrenamiento del modelo\n",
    "#geo_df_0 = geo_df_0.drop('id', axis = 1)\n",
    "#geo_df_1 = geo_df_1.drop('id', axis = 1)\n",
    "#geo_df_2 = geo_df_2.drop('id', axis = 1)\n",
    "\n",
    "#geo_df_0"
   ]
  },
  {
   "cell_type": "markdown",
   "metadata": {},
   "source": [
    "## Entrenamiento del modelo"
   ]
  },
  {
   "cell_type": "code",
   "execution_count": 4,
   "metadata": {},
   "outputs": [],
   "source": [
    "# función para dividir los datos y entrenar el modelo\n",
    "\n",
    "numeric_columns = ['f0', 'f1', 'f2']\n",
    "\n",
    "def split_and_train_model(df, numeric_columns, test_size=0.25, random_state=12345):\n",
    "   \n",
    "    # Separar en características (features) y objetivo (target)\n",
    "    target = df['product']\n",
    "    features = df.drop(['product', 'id'], axis=1)\n",
    "    \n",
    "    # Dividir en entrenamiento y validación\n",
    "    features_train, features_valid, target_train, target_valid = train_test_split(\n",
    "        features, target, test_size=test_size, random_state=random_state)\n",
    "    \n",
    "    # Escalar las características numéricas\n",
    "    scaler = StandardScaler()\n",
    "    scaler.fit(features_train[numeric_columns])\n",
    "    \n",
    "    features_train[numeric_columns] = scaler.transform(features_train[numeric_columns])\n",
    "    features_valid[numeric_columns] = scaler.transform(features_valid[numeric_columns])\n",
    "\n",
    "    # Inicializar el modelo\n",
    "    model = LinearRegression()\n",
    "    \n",
    "    # Entrenar el modelo\n",
    "    model.fit(features_train, target_train)\n",
    "    \n",
    "    # Realizar las predicciones\n",
    "    predicted_valid = model.predict(features_valid)\n",
    "    \n",
    "    # Calcular el MSE y RMSE\n",
    "    mse = mean_squared_error(target_valid, predicted_valid)\n",
    "    rmse = mse ** 0.5\n",
    "    \n",
    "    results = pd.DataFrame({\n",
    "        'target': target_valid,\n",
    "        'predicted': predicted_valid\n",
    "    })\n",
    "    \n",
    "    return results, rmse"
   ]
  },
  {
   "cell_type": "markdown",
   "metadata": {},
   "source": [
    "### Primera región"
   ]
  },
  {
   "cell_type": "code",
   "execution_count": 5,
   "metadata": {},
   "outputs": [
    {
     "name": "stdout",
     "output_type": "stream",
     "text": [
      "           target   predicted\n",
      "71751   10.038645   95.894952\n",
      "80493  114.551489   77.572583\n",
      "2655   132.603635   77.892640\n",
      "53233  169.072125   90.175134\n",
      "91141  122.325180   70.510088\n",
      "...           ...         ...\n",
      "12581  170.116726  103.037104\n",
      "18456   93.632175   85.403255\n",
      "73035  127.352259   61.509833\n",
      "63834   99.782700  118.180397\n",
      "43558  177.821022  118.169392\n",
      "\n",
      "[25000 rows x 2 columns]\n",
      "Volumen medio de reservas predicho 92.59256778438035\n",
      "Volumen medio de reservas real 92.07859674082927\n",
      "RMSE = 37.5794217150813\n"
     ]
    },
    {
     "name": "stderr",
     "output_type": "stream",
     "text": [
      "/tmp/ipykernel_161/2666597112.py:19: SettingWithCopyWarning: \n",
      "A value is trying to be set on a copy of a slice from a DataFrame.\n",
      "Try using .loc[row_indexer,col_indexer] = value instead\n",
      "\n",
      "See the caveats in the documentation: https://pandas.pydata.org/pandas-docs/stable/user_guide/indexing.html#returning-a-view-versus-a-copy\n",
      "  features_train[numeric_columns] = scaler.transform(features_train[numeric_columns])\n",
      "/opt/conda/envs/python3/lib/python3.9/site-packages/pandas/core/indexing.py:1637: SettingWithCopyWarning: \n",
      "A value is trying to be set on a copy of a slice from a DataFrame\n",
      "\n",
      "See the caveats in the documentation: https://pandas.pydata.org/pandas-docs/stable/user_guide/indexing.html#returning-a-view-versus-a-copy\n",
      "  self._setitem_single_block(indexer, value, name)\n",
      "/opt/conda/envs/python3/lib/python3.9/site-packages/pandas/core/indexing.py:692: SettingWithCopyWarning: \n",
      "A value is trying to be set on a copy of a slice from a DataFrame\n",
      "\n",
      "See the caveats in the documentation: https://pandas.pydata.org/pandas-docs/stable/user_guide/indexing.html#returning-a-view-versus-a-copy\n",
      "  iloc._setitem_with_indexer(indexer, value, self.name)\n",
      "/tmp/ipykernel_161/2666597112.py:20: SettingWithCopyWarning: \n",
      "A value is trying to be set on a copy of a slice from a DataFrame.\n",
      "Try using .loc[row_indexer,col_indexer] = value instead\n",
      "\n",
      "See the caveats in the documentation: https://pandas.pydata.org/pandas-docs/stable/user_guide/indexing.html#returning-a-view-versus-a-copy\n",
      "  features_valid[numeric_columns] = scaler.transform(features_valid[numeric_columns])\n",
      "/opt/conda/envs/python3/lib/python3.9/site-packages/pandas/core/indexing.py:1637: SettingWithCopyWarning: \n",
      "A value is trying to be set on a copy of a slice from a DataFrame\n",
      "\n",
      "See the caveats in the documentation: https://pandas.pydata.org/pandas-docs/stable/user_guide/indexing.html#returning-a-view-versus-a-copy\n",
      "  self._setitem_single_block(indexer, value, name)\n",
      "/opt/conda/envs/python3/lib/python3.9/site-packages/pandas/core/indexing.py:692: SettingWithCopyWarning: \n",
      "A value is trying to be set on a copy of a slice from a DataFrame\n",
      "\n",
      "See the caveats in the documentation: https://pandas.pydata.org/pandas-docs/stable/user_guide/indexing.html#returning-a-view-versus-a-copy\n",
      "  iloc._setitem_with_indexer(indexer, value, self.name)\n"
     ]
    }
   ],
   "source": [
    "# aplica la función a la primera región\n",
    "results, rmse = split_and_train_model(geo_df_0, numeric_columns)\n",
    "region_0_data = results\n",
    "print(region_0_data)\n",
    "mean_volume_predicted_0 = results['predicted'].mean()\n",
    "mean_volume_0 = results['target'].mean()\n",
    "print('Volumen medio de reservas predicho', mean_volume_predicted_0)\n",
    "print('Volumen medio de reservas real', mean_volume_0)\n",
    "print(\"RMSE =\", rmse)\n",
    "\n"
   ]
  },
  {
   "cell_type": "markdown",
   "metadata": {},
   "source": [
    "### Segunda región"
   ]
  },
  {
   "cell_type": "code",
   "execution_count": 6,
   "metadata": {},
   "outputs": [
    {
     "name": "stdout",
     "output_type": "stream",
     "text": [
      "           target   predicted\n",
      "71751   80.859783   82.663314\n",
      "80493   53.906522   54.431786\n",
      "2655    30.132364   29.748760\n",
      "53233   53.906522   53.552133\n",
      "91141    0.000000    1.243856\n",
      "...           ...         ...\n",
      "12581  137.945408  136.869211\n",
      "18456  110.992147  110.693465\n",
      "73035  137.945408  137.879341\n",
      "63834   84.038886   83.761966\n",
      "43558   53.906522   53.958466\n",
      "\n",
      "[25000 rows x 2 columns]\n",
      "Volumen medio de reservas predicho 68.728546895446\n",
      "Volumen medio de reservas real 68.72313602435997\n",
      "RMSE = 0.893099286775617\n"
     ]
    },
    {
     "name": "stderr",
     "output_type": "stream",
     "text": [
      "/tmp/ipykernel_161/2666597112.py:19: SettingWithCopyWarning: \n",
      "A value is trying to be set on a copy of a slice from a DataFrame.\n",
      "Try using .loc[row_indexer,col_indexer] = value instead\n",
      "\n",
      "See the caveats in the documentation: https://pandas.pydata.org/pandas-docs/stable/user_guide/indexing.html#returning-a-view-versus-a-copy\n",
      "  features_train[numeric_columns] = scaler.transform(features_train[numeric_columns])\n",
      "/opt/conda/envs/python3/lib/python3.9/site-packages/pandas/core/indexing.py:1637: SettingWithCopyWarning: \n",
      "A value is trying to be set on a copy of a slice from a DataFrame\n",
      "\n",
      "See the caveats in the documentation: https://pandas.pydata.org/pandas-docs/stable/user_guide/indexing.html#returning-a-view-versus-a-copy\n",
      "  self._setitem_single_block(indexer, value, name)\n",
      "/opt/conda/envs/python3/lib/python3.9/site-packages/pandas/core/indexing.py:692: SettingWithCopyWarning: \n",
      "A value is trying to be set on a copy of a slice from a DataFrame\n",
      "\n",
      "See the caveats in the documentation: https://pandas.pydata.org/pandas-docs/stable/user_guide/indexing.html#returning-a-view-versus-a-copy\n",
      "  iloc._setitem_with_indexer(indexer, value, self.name)\n",
      "/tmp/ipykernel_161/2666597112.py:20: SettingWithCopyWarning: \n",
      "A value is trying to be set on a copy of a slice from a DataFrame.\n",
      "Try using .loc[row_indexer,col_indexer] = value instead\n",
      "\n",
      "See the caveats in the documentation: https://pandas.pydata.org/pandas-docs/stable/user_guide/indexing.html#returning-a-view-versus-a-copy\n",
      "  features_valid[numeric_columns] = scaler.transform(features_valid[numeric_columns])\n",
      "/opt/conda/envs/python3/lib/python3.9/site-packages/pandas/core/indexing.py:1637: SettingWithCopyWarning: \n",
      "A value is trying to be set on a copy of a slice from a DataFrame\n",
      "\n",
      "See the caveats in the documentation: https://pandas.pydata.org/pandas-docs/stable/user_guide/indexing.html#returning-a-view-versus-a-copy\n",
      "  self._setitem_single_block(indexer, value, name)\n",
      "/opt/conda/envs/python3/lib/python3.9/site-packages/pandas/core/indexing.py:692: SettingWithCopyWarning: \n",
      "A value is trying to be set on a copy of a slice from a DataFrame\n",
      "\n",
      "See the caveats in the documentation: https://pandas.pydata.org/pandas-docs/stable/user_guide/indexing.html#returning-a-view-versus-a-copy\n",
      "  iloc._setitem_with_indexer(indexer, value, self.name)\n"
     ]
    }
   ],
   "source": [
    "# aplica la función a la segunda región\n",
    "results, rmse = split_and_train_model(geo_df_1, numeric_columns)\n",
    "region_1_data = results\n",
    "print(region_1_data)\n",
    "mean_volume_predicted_1 = results['predicted'].mean()\n",
    "mean_volume_1 = results['target'].mean()\n",
    "print('Volumen medio de reservas predicho', mean_volume_predicted_1)\n",
    "print('Volumen medio de reservas real', mean_volume_1)\n",
    "print(\"RMSE =\", rmse)"
   ]
  },
  {
   "cell_type": "markdown",
   "metadata": {},
   "source": [
    "### Tercera región"
   ]
  },
  {
   "cell_type": "code",
   "execution_count": 7,
   "metadata": {},
   "outputs": [
    {
     "name": "stdout",
     "output_type": "stream",
     "text": [
      "           target   predicted\n",
      "71751   61.212375   93.599633\n",
      "80493   41.850118   75.105159\n",
      "2655    57.776581   90.066809\n",
      "53233  100.053761  105.162375\n",
      "91141  109.897122  115.303310\n",
      "...           ...         ...\n",
      "12581   28.492402   78.765887\n",
      "18456   21.431303   95.603394\n",
      "73035  125.487229   99.407281\n",
      "63834   99.422903   77.779912\n",
      "43558  127.445075  129.032417\n",
      "\n",
      "[25000 rows x 2 columns]\n",
      "Volumen medio de reservas predicho 94.96504596800489\n",
      "Volumen medio de reservas real 94.88423280885438\n",
      "RMSE = 40.02970873393434\n"
     ]
    },
    {
     "name": "stderr",
     "output_type": "stream",
     "text": [
      "/tmp/ipykernel_161/2666597112.py:19: SettingWithCopyWarning: \n",
      "A value is trying to be set on a copy of a slice from a DataFrame.\n",
      "Try using .loc[row_indexer,col_indexer] = value instead\n",
      "\n",
      "See the caveats in the documentation: https://pandas.pydata.org/pandas-docs/stable/user_guide/indexing.html#returning-a-view-versus-a-copy\n",
      "  features_train[numeric_columns] = scaler.transform(features_train[numeric_columns])\n",
      "/opt/conda/envs/python3/lib/python3.9/site-packages/pandas/core/indexing.py:1637: SettingWithCopyWarning: \n",
      "A value is trying to be set on a copy of a slice from a DataFrame\n",
      "\n",
      "See the caveats in the documentation: https://pandas.pydata.org/pandas-docs/stable/user_guide/indexing.html#returning-a-view-versus-a-copy\n",
      "  self._setitem_single_block(indexer, value, name)\n",
      "/opt/conda/envs/python3/lib/python3.9/site-packages/pandas/core/indexing.py:692: SettingWithCopyWarning: \n",
      "A value is trying to be set on a copy of a slice from a DataFrame\n",
      "\n",
      "See the caveats in the documentation: https://pandas.pydata.org/pandas-docs/stable/user_guide/indexing.html#returning-a-view-versus-a-copy\n",
      "  iloc._setitem_with_indexer(indexer, value, self.name)\n",
      "/tmp/ipykernel_161/2666597112.py:20: SettingWithCopyWarning: \n",
      "A value is trying to be set on a copy of a slice from a DataFrame.\n",
      "Try using .loc[row_indexer,col_indexer] = value instead\n",
      "\n",
      "See the caveats in the documentation: https://pandas.pydata.org/pandas-docs/stable/user_guide/indexing.html#returning-a-view-versus-a-copy\n",
      "  features_valid[numeric_columns] = scaler.transform(features_valid[numeric_columns])\n",
      "/opt/conda/envs/python3/lib/python3.9/site-packages/pandas/core/indexing.py:1637: SettingWithCopyWarning: \n",
      "A value is trying to be set on a copy of a slice from a DataFrame\n",
      "\n",
      "See the caveats in the documentation: https://pandas.pydata.org/pandas-docs/stable/user_guide/indexing.html#returning-a-view-versus-a-copy\n",
      "  self._setitem_single_block(indexer, value, name)\n",
      "/opt/conda/envs/python3/lib/python3.9/site-packages/pandas/core/indexing.py:692: SettingWithCopyWarning: \n",
      "A value is trying to be set on a copy of a slice from a DataFrame\n",
      "\n",
      "See the caveats in the documentation: https://pandas.pydata.org/pandas-docs/stable/user_guide/indexing.html#returning-a-view-versus-a-copy\n",
      "  iloc._setitem_with_indexer(indexer, value, self.name)\n"
     ]
    }
   ],
   "source": [
    "# aplica la función a la tercera región\n",
    "results, rmse = split_and_train_model(geo_df_2, numeric_columns)\n",
    "region_2_data = results\n",
    "print(region_2_data)\n",
    "mean_volume_predicted_2 = results['predicted'].mean()\n",
    "mean_volume_2 = results['target'].mean()\n",
    "print('Volumen medio de reservas predicho', mean_volume_predicted_2)\n",
    "print('Volumen medio de reservas real', mean_volume_2)\n",
    "print(\"RMSE =\", rmse)"
   ]
  },
  {
   "cell_type": "markdown",
   "metadata": {},
   "source": [
    "Se observa que el modelo de la segunda región tiene un error cuadrado de 0.893 miles de barriles, mientras que la primera y tercer región tienen un error cuadrado de 37.579 y 40.029."
   ]
  },
  {
   "cell_type": "markdown",
   "metadata": {},
   "source": [
    "## Preparación para el cálculo de ganancias"
   ]
  },
  {
   "cell_type": "code",
   "execution_count": 8,
   "metadata": {},
   "outputs": [],
   "source": [
    "# crea las variables con las condiciones del proyecto \n",
    "budget = 100000000\n",
    "well_count = 200\n",
    "earnings_per_unit = 4500\n",
    "earnings_per_barrel = earnings_per_unit/1000\n",
    "minimum_return_per_well = 500000\n"
   ]
  },
  {
   "cell_type": "code",
   "execution_count": 9,
   "metadata": {},
   "outputs": [
    {
     "name": "stdout",
     "output_type": "stream",
     "text": [
      "Volumen medio de reservas en la región 1: 92.59256778438035 miles de barriles\n",
      "Volumen medio de reservas en la región 2: 68.728546895446 miles de barriles\n",
      "Volumen medio de reservas en la región 3: 94.96504596800489 miles de barriles\n",
      "Región 0 NO cumple con el umbral de ingresos de 500000 USD\n",
      "Región 1 NO cumple con el umbral de ingresos de 500000 USD\n",
      "Región 2 NO cumple con el umbral de ingresos de 500000 USD\n"
     ]
    }
   ],
   "source": [
    "# calcular el volumen medio de reservas predicho de cada región\n",
    "\n",
    "threshold = minimum_return_per_well / earnings_per_unit\n",
    "\n",
    "# Comparar con el umbral\n",
    "print(f\"Volumen medio de reservas en la región 1: {mean_volume_predicted_0} miles de barriles\")\n",
    "print(f\"Volumen medio de reservas en la región 2: {mean_volume_predicted_1} miles de barriles\")\n",
    "print(f\"Volumen medio de reservas en la región 3: {mean_volume_predicted_2} miles de barriles\")\n",
    "\n",
    "# Compara con el umbral\n",
    "# Comparación directa de los volúmenes medios con el umbral\n",
    "print(f\"Región 0 {'cumple' if mean_volume_0 >= threshold else 'NO cumple'} con el umbral de ingresos de {minimum_return_per_well} USD\")\n",
    "print(f\"Región 1 {'cumple' if mean_volume_1 >= threshold else 'NO cumple'} con el umbral de ingresos de {minimum_return_per_well} USD\")\n",
    "print(f\"Región 2 {'cumple' if mean_volume_2 >= threshold else 'NO cumple'} con el umbral de ingresos de {minimum_return_per_well} USD\")"
   ]
  },
  {
   "cell_type": "markdown",
   "metadata": {},
   "source": [
    "Ninguna región cumple con el umbral mínimo de ingresos, es decir, de 111.1 unidades "
   ]
  },
  {
   "cell_type": "markdown",
   "metadata": {},
   "source": [
    "## Cálculo de ganancia de pozos seleccionados"
   ]
  },
  {
   "cell_type": "code",
   "execution_count": 10,
   "metadata": {},
   "outputs": [
    {
     "name": "stdout",
     "output_type": "stream",
     "text": [
      "La ganancia potencial es de $139960488.77465132. Supera el presupuesto.\n",
      "La ganancia potencial es de $124857120.51973544. Supera el presupuesto.\n",
      "La ganancia potencial es de $133217543.96243258. Supera el presupuesto.\n",
      "La región 0 es la mejor opción para desarrollar los pozos.\n"
     ]
    }
   ],
   "source": [
    "def earning_calc(df):\n",
    "    # Ordenar por la predicción de reservas\n",
    "    best_wells = df.sort_values(by='predicted', ascending=False).head(200)\n",
    "    \n",
    "    # Calcular la suma de las reservas de los 200 pozos\n",
    "    total_volume = best_wells['predicted'].sum()\n",
    "    \n",
    "    # Calcular la ganancia\n",
    "    earnings = total_volume * earnings_per_unit \n",
    "    \n",
    "    # Verificar si se ajusta al presupuesto\n",
    "    if earnings >= budget:\n",
    "        print(f\"La ganancia potencial es de ${earnings}. Supera el presupuesto.\")\n",
    "    else:\n",
    "        print(f\"La ganancia potencial es de ${earnings}. NO supera el presupuesto.\")\n",
    "    \n",
    "    return earnings\n",
    "\n",
    "# aplicar a las regiones\n",
    "earnings_region_0 = earning_calc(region_0_data)\n",
    "earnings_region_1 = earning_calc(region_1_data)\n",
    "earnings_region_2 = earning_calc(region_2_data)\n",
    "\n",
    "# Conclusión\n",
    "if earnings_region_0 > earnings_region_1 and earnings_region_0 > earnings_region_2:\n",
    "    print(\"La región 0 es la mejor opción para desarrollar los pozos.\")\n",
    "elif earnings_region_1 > earnings_region_0 and earnings_region_1 > earnings_region_2:\n",
    "    print(\"La región 1 es la mejor opción para desarrollar los pozos.\")\n",
    "else:\n",
    "    print(\"La región 2 es la mejor opción para desarrollar los pozos.\")"
   ]
  },
  {
   "cell_type": "markdown",
   "metadata": {},
   "source": [
    "## Cálculo de riesgos y ganancias para cada región"
   ]
  },
  {
   "cell_type": "markdown",
   "metadata": {},
   "source": [
    "Se aplica la técnica de remuestreo de bootstrapping para estimar las ganancias, con reemplazo, para calcular el beneficio promedio, el intervalo de confianza y riesgo de pérdidas."
   ]
  },
  {
   "cell_type": "code",
   "execution_count": 17,
   "metadata": {},
   "outputs": [
    {
     "name": "stdout",
     "output_type": "stream",
     "text": [
      "Región 0: Ganancia promedio: 83374370.06, IC 95%: [80784765.2121128  86173543.61871937], Riesgo de pérdidas: 100.0%\n",
      "Región 1: Ganancia promedio: 61776643.86, IC 95%: [56589593.15879872 67713594.84185767], Riesgo de pérdidas: 100.0%\n",
      "Región 2: Ganancia promedio: 85519650.69, IC 95%: [83022793.93277714 88024683.62345989], Riesgo de pérdidas: 100.0%\n"
     ]
    }
   ],
   "source": [
    "state = RandomState(12345)\n",
    "\n",
    "def bootstrap(region_data, size=1000):\n",
    "    # Realizar bootstrapping\n",
    "    earnings_bootstrap = []\n",
    "    \n",
    "    for i in range(size):\n",
    "        # Realizar un muestreo aleatorio con reemplazo de los 200 mejores pozos\n",
    "        sample = region_data.sample(n=200, replace=True, random_state = state)\n",
    "        \n",
    "        # Calcular la ganancia de esta muestra\n",
    "        sample_volume = sample['predicted'].sum()\n",
    "        sample_earning = sample_volume * earnings_per_unit\n",
    "        earnings_bootstrap.append(sample_earning)\n",
    "    \n",
    "    # Calcular el beneficio promedio y el intervalo de confianza\n",
    "    mean_earning = np.mean(earnings_bootstrap)\n",
    "    interval = np.percentile(earnings_bootstrap, [2.5, 97.5])  # Intervalo de confianza del 95%\n",
    "    \n",
    "    # Calcular riesgo de pérdidas\n",
    "    loss = len([x for x in earnings_bootstrap if x < budget]) / size * 100\n",
    "    \n",
    "    return mean_earning, interval, loss\n",
    "\n",
    "# Aplicar bootstrapping a cada región\n",
    "mean_earnings_0, interval_0, loss_0 = bootstrap(region_0_data)\n",
    "mean_earnings_1, interval_1, loss_1 = bootstrap(region_1_data)\n",
    "mean_earnings_2, interval_2, loss_2 = bootstrap(region_2_data)\n",
    "\n",
    "print(f\"Región 0: Ganancia promedio: {mean_earnings_0:.2f}, IC 95%: {interval_0}, Riesgo de pérdidas: {loss_0}%\")\n",
    "print(f\"Región 1: Ganancia promedio: {mean_earnings_1:.2f}, IC 95%: {interval_1}, Riesgo de pérdidas: {loss_1}%\")\n",
    "print(f\"Región 2: Ganancia promedio: {mean_earnings_2:.2f}, IC 95%: {interval_2}, Riesgo de pérdidas: {loss_2}%\")\n"
   ]
  },
  {
   "cell_type": "markdown",
   "metadata": {},
   "source": [
    "## Conclusión"
   ]
  },
  {
   "cell_type": "markdown",
   "metadata": {},
   "source": [
    "Aplicando la técnica de bootstrapping, ninguna región sería viable para realizar el proyecto. La región 2 tiene mayores posibilidades de ingreso, pero ninguna de alcanzar o superar el presupuesto."
   ]
  }
 ],
 "metadata": {
  "ExecuteTimeLog": [
   {
    "duration": 294,
    "start_time": "2025-01-26T06:31:13.946Z"
   },
   {
    "duration": 511,
    "start_time": "2025-01-26T06:31:42.182Z"
   },
   {
    "duration": 60,
    "start_time": "2025-01-26T06:31:50.864Z"
   },
   {
    "duration": 59,
    "start_time": "2025-01-26T06:32:17.572Z"
   },
   {
    "duration": 59,
    "start_time": "2025-01-26T06:32:36.565Z"
   },
   {
    "duration": 60,
    "start_time": "2025-01-26T06:34:04.165Z"
   },
   {
    "duration": 60,
    "start_time": "2025-01-26T06:34:22.230Z"
   },
   {
    "duration": 102,
    "start_time": "2025-01-26T06:35:27.475Z"
   },
   {
    "duration": 94,
    "start_time": "2025-01-26T06:35:33.970Z"
   },
   {
    "duration": 206,
    "start_time": "2025-01-26T06:43:22.910Z"
   },
   {
    "duration": 280,
    "start_time": "2025-01-26T06:43:45.600Z"
   },
   {
    "duration": 232,
    "start_time": "2025-01-26T06:43:54.758Z"
   },
   {
    "duration": 221,
    "start_time": "2025-01-26T06:44:04.426Z"
   },
   {
    "duration": 220,
    "start_time": "2025-01-26T06:44:39.608Z"
   },
   {
    "duration": 230,
    "start_time": "2025-01-26T06:44:48.220Z"
   },
   {
    "duration": 11,
    "start_time": "2025-01-26T06:46:06.797Z"
   },
   {
    "duration": 734,
    "start_time": "2025-01-26T06:46:32.001Z"
   },
   {
    "duration": 226,
    "start_time": "2025-01-26T06:46:52.752Z"
   },
   {
    "duration": 13,
    "start_time": "2025-01-26T06:47:22.226Z"
   },
   {
    "duration": 37,
    "start_time": "2025-01-26T06:47:39.026Z"
   },
   {
    "duration": 221,
    "start_time": "2025-01-26T06:47:42.856Z"
   },
   {
    "duration": 16,
    "start_time": "2025-01-26T06:47:45.325Z"
   },
   {
    "duration": 40,
    "start_time": "2025-01-26T06:47:52.416Z"
   },
   {
    "duration": 228,
    "start_time": "2025-01-26T06:48:02.590Z"
   },
   {
    "duration": 15,
    "start_time": "2025-01-26T06:48:07.279Z"
   },
   {
    "duration": 802,
    "start_time": "2025-01-26T06:49:43.505Z"
   },
   {
    "duration": 228,
    "start_time": "2025-01-26T06:49:44.309Z"
   },
   {
    "duration": 15,
    "start_time": "2025-01-26T06:49:44.540Z"
   },
   {
    "duration": 232,
    "start_time": "2025-01-26T06:56:44.892Z"
   },
   {
    "duration": 22,
    "start_time": "2025-01-26T06:57:09.695Z"
   },
   {
    "duration": 21,
    "start_time": "2025-01-26T06:57:39.710Z"
   },
   {
    "duration": 29,
    "start_time": "2025-01-26T07:08:18.038Z"
   },
   {
    "duration": 57,
    "start_time": "2025-01-26T07:14:20.348Z"
   },
   {
    "duration": 927,
    "start_time": "2025-01-26T07:14:39.145Z"
   },
   {
    "duration": 30,
    "start_time": "2025-01-26T07:15:32.931Z"
   },
   {
    "duration": 31,
    "start_time": "2025-01-26T07:19:20.746Z"
   },
   {
    "duration": 34,
    "start_time": "2025-01-26T07:19:30.731Z"
   },
   {
    "duration": 5,
    "start_time": "2025-01-26T07:20:37.223Z"
   },
   {
    "duration": 31,
    "start_time": "2025-01-26T07:21:49.985Z"
   },
   {
    "duration": 29,
    "start_time": "2025-01-26T07:22:14.718Z"
   },
   {
    "duration": 30,
    "start_time": "2025-01-26T07:22:39.421Z"
   },
   {
    "duration": 766,
    "start_time": "2025-01-26T07:26:07.738Z"
   },
   {
    "duration": 232,
    "start_time": "2025-01-26T07:26:08.506Z"
   },
   {
    "duration": 17,
    "start_time": "2025-01-26T07:26:08.739Z"
   },
   {
    "duration": 4,
    "start_time": "2025-01-26T07:26:08.758Z"
   },
   {
    "duration": 41,
    "start_time": "2025-01-26T07:26:08.764Z"
   },
   {
    "duration": 90,
    "start_time": "2025-01-26T07:26:08.806Z"
   },
   {
    "duration": 107,
    "start_time": "2025-01-26T07:26:08.898Z"
   },
   {
    "duration": 33,
    "start_time": "2025-01-26T07:26:54.013Z"
   },
   {
    "duration": 732,
    "start_time": "2025-01-26T07:27:14.768Z"
   },
   {
    "duration": 226,
    "start_time": "2025-01-26T07:27:15.503Z"
   },
   {
    "duration": 16,
    "start_time": "2025-01-26T07:27:15.731Z"
   },
   {
    "duration": 5,
    "start_time": "2025-01-26T07:27:15.749Z"
   },
   {
    "duration": 750,
    "start_time": "2025-01-26T07:27:15.755Z"
   },
   {
    "duration": 0,
    "start_time": "2025-01-26T07:27:16.507Z"
   },
   {
    "duration": 0,
    "start_time": "2025-01-26T07:27:16.508Z"
   },
   {
    "duration": 31,
    "start_time": "2025-01-26T07:27:26.653Z"
   },
   {
    "duration": 31,
    "start_time": "2025-01-26T07:27:51.312Z"
   },
   {
    "duration": 28,
    "start_time": "2025-01-26T07:28:05.241Z"
   },
   {
    "duration": 6,
    "start_time": "2025-01-26T07:41:07.785Z"
   },
   {
    "duration": 2,
    "start_time": "2025-01-26T07:41:48.901Z"
   },
   {
    "duration": 3,
    "start_time": "2025-01-26T07:43:10.955Z"
   },
   {
    "duration": 3,
    "start_time": "2025-01-26T07:47:04.229Z"
   },
   {
    "duration": 3,
    "start_time": "2025-01-26T07:47:20.569Z"
   },
   {
    "duration": 863,
    "start_time": "2025-01-26T07:58:34.435Z"
   },
   {
    "duration": 254,
    "start_time": "2025-01-26T07:58:35.300Z"
   },
   {
    "duration": 18,
    "start_time": "2025-01-26T07:58:35.557Z"
   },
   {
    "duration": 6,
    "start_time": "2025-01-26T07:58:35.586Z"
   },
   {
    "duration": 34,
    "start_time": "2025-01-26T07:58:35.594Z"
   },
   {
    "duration": 161,
    "start_time": "2025-01-26T07:58:35.630Z"
   },
   {
    "duration": 108,
    "start_time": "2025-01-26T07:58:35.793Z"
   },
   {
    "duration": 3,
    "start_time": "2025-01-26T07:58:35.903Z"
   },
   {
    "duration": 332,
    "start_time": "2025-01-26T07:58:35.908Z"
   },
   {
    "duration": 18,
    "start_time": "2025-01-26T07:59:11.717Z"
   },
   {
    "duration": 4,
    "start_time": "2025-01-26T07:59:44.503Z"
   },
   {
    "duration": 725,
    "start_time": "2025-01-26T08:02:23.664Z"
   },
   {
    "duration": 221,
    "start_time": "2025-01-26T08:02:24.391Z"
   },
   {
    "duration": 20,
    "start_time": "2025-01-26T08:02:24.614Z"
   },
   {
    "duration": 6,
    "start_time": "2025-01-26T08:02:24.636Z"
   },
   {
    "duration": 52,
    "start_time": "2025-01-26T08:02:24.643Z"
   },
   {
    "duration": 397,
    "start_time": "2025-01-26T08:02:24.696Z"
   },
   {
    "duration": 0,
    "start_time": "2025-01-26T08:02:25.095Z"
   },
   {
    "duration": 0,
    "start_time": "2025-01-26T08:02:25.096Z"
   },
   {
    "duration": 0,
    "start_time": "2025-01-26T08:02:25.097Z"
   },
   {
    "duration": 773,
    "start_time": "2025-01-26T08:03:05.726Z"
   },
   {
    "duration": 231,
    "start_time": "2025-01-26T08:03:06.501Z"
   },
   {
    "duration": 16,
    "start_time": "2025-01-26T08:03:06.734Z"
   },
   {
    "duration": 4,
    "start_time": "2025-01-26T08:03:06.753Z"
   },
   {
    "duration": 46,
    "start_time": "2025-01-26T08:03:06.759Z"
   },
   {
    "duration": 96,
    "start_time": "2025-01-26T08:03:06.807Z"
   },
   {
    "duration": 108,
    "start_time": "2025-01-26T08:03:06.905Z"
   },
   {
    "duration": 72,
    "start_time": "2025-01-26T08:03:07.015Z"
   },
   {
    "duration": 294,
    "start_time": "2025-01-26T08:03:07.090Z"
   },
   {
    "duration": 757,
    "start_time": "2025-01-26T08:03:31.024Z"
   },
   {
    "duration": 228,
    "start_time": "2025-01-26T08:03:31.783Z"
   },
   {
    "duration": 17,
    "start_time": "2025-01-26T08:03:32.013Z"
   },
   {
    "duration": 5,
    "start_time": "2025-01-26T08:03:32.032Z"
   },
   {
    "duration": 50,
    "start_time": "2025-01-26T08:03:32.039Z"
   },
   {
    "duration": 107,
    "start_time": "2025-01-26T08:03:32.090Z"
   },
   {
    "duration": 101,
    "start_time": "2025-01-26T08:03:32.200Z"
   },
   {
    "duration": 4,
    "start_time": "2025-01-26T08:03:32.306Z"
   },
   {
    "duration": 258,
    "start_time": "2025-01-26T08:03:32.387Z"
   },
   {
    "duration": 765,
    "start_time": "2025-01-26T08:04:06.159Z"
   },
   {
    "duration": 247,
    "start_time": "2025-01-26T08:04:06.926Z"
   },
   {
    "duration": 22,
    "start_time": "2025-01-26T08:04:07.175Z"
   },
   {
    "duration": 5,
    "start_time": "2025-01-26T08:04:07.200Z"
   },
   {
    "duration": 35,
    "start_time": "2025-01-26T08:04:07.207Z"
   },
   {
    "duration": 145,
    "start_time": "2025-01-26T08:04:07.245Z"
   },
   {
    "duration": 102,
    "start_time": "2025-01-26T08:04:07.394Z"
   },
   {
    "duration": 5,
    "start_time": "2025-01-26T08:04:07.501Z"
   },
   {
    "duration": 81,
    "start_time": "2025-01-26T08:04:07.509Z"
   },
   {
    "duration": 29,
    "start_time": "2025-01-26T08:04:51.532Z"
   },
   {
    "duration": 28,
    "start_time": "2025-01-26T08:05:13.940Z"
   },
   {
    "duration": 29,
    "start_time": "2025-01-26T08:05:25.916Z"
   },
   {
    "duration": 737,
    "start_time": "2025-01-26T08:05:44.450Z"
   },
   {
    "duration": 224,
    "start_time": "2025-01-26T08:05:45.189Z"
   },
   {
    "duration": 16,
    "start_time": "2025-01-26T08:05:45.415Z"
   },
   {
    "duration": 4,
    "start_time": "2025-01-26T08:05:45.434Z"
   },
   {
    "duration": 49,
    "start_time": "2025-01-26T08:05:45.439Z"
   },
   {
    "duration": 104,
    "start_time": "2025-01-26T08:05:45.489Z"
   },
   {
    "duration": 110,
    "start_time": "2025-01-26T08:05:45.595Z"
   },
   {
    "duration": 2,
    "start_time": "2025-01-26T08:05:45.709Z"
   },
   {
    "duration": 4,
    "start_time": "2025-01-26T08:05:45.713Z"
   },
   {
    "duration": 4,
    "start_time": "2025-01-26T08:06:14.192Z"
   },
   {
    "duration": 4,
    "start_time": "2025-01-26T08:07:13.743Z"
   },
   {
    "duration": 728,
    "start_time": "2025-01-26T08:19:53.957Z"
   },
   {
    "duration": 247,
    "start_time": "2025-01-26T08:19:54.687Z"
   },
   {
    "duration": 18,
    "start_time": "2025-01-26T08:19:54.935Z"
   },
   {
    "duration": 5,
    "start_time": "2025-01-26T08:19:54.955Z"
   },
   {
    "duration": 45,
    "start_time": "2025-01-26T08:19:54.962Z"
   },
   {
    "duration": 94,
    "start_time": "2025-01-26T08:19:55.009Z"
   },
   {
    "duration": 109,
    "start_time": "2025-01-26T08:19:55.105Z"
   },
   {
    "duration": 3,
    "start_time": "2025-01-26T08:19:55.286Z"
   },
   {
    "duration": 4,
    "start_time": "2025-01-26T08:19:55.290Z"
   },
   {
    "duration": 18,
    "start_time": "2025-01-26T08:19:55.296Z"
   },
   {
    "duration": 813,
    "start_time": "2025-01-26T08:21:47.805Z"
   },
   {
    "duration": 226,
    "start_time": "2025-01-26T08:21:48.620Z"
   },
   {
    "duration": 16,
    "start_time": "2025-01-26T08:21:48.848Z"
   },
   {
    "duration": 5,
    "start_time": "2025-01-26T08:21:48.867Z"
   },
   {
    "duration": 40,
    "start_time": "2025-01-26T08:21:48.874Z"
   },
   {
    "duration": 90,
    "start_time": "2025-01-26T08:21:48.916Z"
   },
   {
    "duration": 177,
    "start_time": "2025-01-26T08:21:49.009Z"
   },
   {
    "duration": 3,
    "start_time": "2025-01-26T08:21:49.188Z"
   },
   {
    "duration": 4,
    "start_time": "2025-01-26T08:21:49.193Z"
   },
   {
    "duration": 87,
    "start_time": "2025-01-26T08:21:49.200Z"
   },
   {
    "duration": 745,
    "start_time": "2025-01-26T08:26:55.551Z"
   },
   {
    "duration": 228,
    "start_time": "2025-01-26T08:26:56.298Z"
   },
   {
    "duration": 17,
    "start_time": "2025-01-26T08:26:56.528Z"
   },
   {
    "duration": 4,
    "start_time": "2025-01-26T08:26:56.549Z"
   },
   {
    "duration": 44,
    "start_time": "2025-01-26T08:26:56.554Z"
   },
   {
    "duration": 101,
    "start_time": "2025-01-26T08:26:56.600Z"
   },
   {
    "duration": 102,
    "start_time": "2025-01-26T08:26:56.702Z"
   },
   {
    "duration": 3,
    "start_time": "2025-01-26T08:26:56.806Z"
   },
   {
    "duration": 79,
    "start_time": "2025-01-26T08:26:56.810Z"
   },
   {
    "duration": 15,
    "start_time": "2025-01-26T08:26:56.891Z"
   },
   {
    "duration": 7,
    "start_time": "2025-01-26T08:26:56.907Z"
   },
   {
    "duration": 238,
    "start_time": "2025-01-26T08:39:18.517Z"
   },
   {
    "duration": 717,
    "start_time": "2025-01-26T08:39:48.076Z"
   },
   {
    "duration": 238,
    "start_time": "2025-01-26T08:39:48.795Z"
   },
   {
    "duration": 17,
    "start_time": "2025-01-26T08:39:49.034Z"
   },
   {
    "duration": 5,
    "start_time": "2025-01-26T08:39:49.055Z"
   },
   {
    "duration": 53,
    "start_time": "2025-01-26T08:39:49.062Z"
   },
   {
    "duration": 88,
    "start_time": "2025-01-26T08:39:49.119Z"
   },
   {
    "duration": 178,
    "start_time": "2025-01-26T08:39:49.209Z"
   },
   {
    "duration": 3,
    "start_time": "2025-01-26T08:39:49.389Z"
   },
   {
    "duration": 5,
    "start_time": "2025-01-26T08:39:49.394Z"
   },
   {
    "duration": 85,
    "start_time": "2025-01-26T08:39:49.402Z"
   },
   {
    "duration": 247,
    "start_time": "2025-01-26T08:39:49.488Z"
   },
   {
    "duration": 3,
    "start_time": "2025-01-26T08:40:02.434Z"
   },
   {
    "duration": 241,
    "start_time": "2025-01-26T08:40:12.556Z"
   },
   {
    "duration": 629,
    "start_time": "2025-01-26T08:40:44.097Z"
   },
   {
    "duration": 726,
    "start_time": "2025-01-27T04:33:59.295Z"
   },
   {
    "duration": 224,
    "start_time": "2025-01-27T04:34:00.023Z"
   },
   {
    "duration": 16,
    "start_time": "2025-01-27T04:34:00.249Z"
   },
   {
    "duration": 4,
    "start_time": "2025-01-27T04:34:00.269Z"
   },
   {
    "duration": 46,
    "start_time": "2025-01-27T04:34:00.275Z"
   },
   {
    "duration": 97,
    "start_time": "2025-01-27T04:34:00.322Z"
   },
   {
    "duration": 102,
    "start_time": "2025-01-27T04:34:00.420Z"
   },
   {
    "duration": 2,
    "start_time": "2025-01-27T04:34:00.524Z"
   },
   {
    "duration": 4,
    "start_time": "2025-01-27T04:34:00.528Z"
   },
   {
    "duration": 87,
    "start_time": "2025-01-27T04:34:00.534Z"
   },
   {
    "duration": 480,
    "start_time": "2025-01-27T04:34:00.623Z"
   },
   {
    "duration": 743,
    "start_time": "2025-01-27T04:34:12.871Z"
   },
   {
    "duration": 229,
    "start_time": "2025-01-27T04:34:13.616Z"
   },
   {
    "duration": 16,
    "start_time": "2025-01-27T04:34:13.847Z"
   },
   {
    "duration": 5,
    "start_time": "2025-01-27T04:34:13.865Z"
   },
   {
    "duration": 47,
    "start_time": "2025-01-27T04:34:13.871Z"
   },
   {
    "duration": 101,
    "start_time": "2025-01-27T04:34:13.920Z"
   },
   {
    "duration": 102,
    "start_time": "2025-01-27T04:34:14.023Z"
   },
   {
    "duration": 2,
    "start_time": "2025-01-27T04:34:14.127Z"
   },
   {
    "duration": 80,
    "start_time": "2025-01-27T04:34:14.132Z"
   },
   {
    "duration": 14,
    "start_time": "2025-01-27T04:34:14.217Z"
   },
   {
    "duration": 747,
    "start_time": "2025-01-27T04:34:14.232Z"
   },
   {
    "duration": 738,
    "start_time": "2025-01-27T04:38:48.773Z"
   },
   {
    "duration": 231,
    "start_time": "2025-01-27T04:38:49.515Z"
   },
   {
    "duration": 2,
    "start_time": "2025-01-27T04:38:49.748Z"
   },
   {
    "duration": 5,
    "start_time": "2025-01-27T04:38:49.752Z"
   },
   {
    "duration": 55,
    "start_time": "2025-01-27T04:38:49.758Z"
   },
   {
    "duration": 109,
    "start_time": "2025-01-27T04:38:49.816Z"
   },
   {
    "duration": 103,
    "start_time": "2025-01-27T04:38:49.927Z"
   },
   {
    "duration": 3,
    "start_time": "2025-01-27T04:38:50.032Z"
   },
   {
    "duration": 79,
    "start_time": "2025-01-27T04:38:50.037Z"
   },
   {
    "duration": 14,
    "start_time": "2025-01-27T04:38:50.119Z"
   },
   {
    "duration": 750,
    "start_time": "2025-01-27T04:38:50.135Z"
   },
   {
    "duration": 245,
    "start_time": "2025-01-27T04:39:25.994Z"
   },
   {
    "duration": 238,
    "start_time": "2025-01-27T04:39:40.051Z"
   },
   {
    "duration": 213,
    "start_time": "2025-01-27T04:39:48.846Z"
   },
   {
    "duration": 221,
    "start_time": "2025-01-27T04:39:59.719Z"
   },
   {
    "duration": 227,
    "start_time": "2025-01-27T04:40:09.049Z"
   },
   {
    "duration": 229,
    "start_time": "2025-01-27T04:40:15.369Z"
   },
   {
    "duration": 229,
    "start_time": "2025-01-27T04:40:18.737Z"
   },
   {
    "duration": 218,
    "start_time": "2025-01-27T04:40:28.375Z"
   },
   {
    "duration": 217,
    "start_time": "2025-01-27T04:41:04.090Z"
   },
   {
    "duration": 228,
    "start_time": "2025-01-27T04:41:15.137Z"
   },
   {
    "duration": 633,
    "start_time": "2025-01-27T04:48:28.657Z"
   },
   {
    "duration": 471,
    "start_time": "2025-01-27T04:49:16.252Z"
   },
   {
    "duration": 613,
    "start_time": "2025-01-27T04:49:47.949Z"
   },
   {
    "duration": 626,
    "start_time": "2025-01-27T04:55:50.288Z"
   },
   {
    "duration": 639,
    "start_time": "2025-01-27T04:56:44.724Z"
   },
   {
    "duration": 766,
    "start_time": "2025-01-27T05:00:31.744Z"
   },
   {
    "duration": 230,
    "start_time": "2025-01-27T05:00:32.512Z"
   },
   {
    "duration": 3,
    "start_time": "2025-01-27T05:00:32.744Z"
   },
   {
    "duration": 5,
    "start_time": "2025-01-27T05:00:32.749Z"
   },
   {
    "duration": 59,
    "start_time": "2025-01-27T05:00:32.756Z"
   },
   {
    "duration": 101,
    "start_time": "2025-01-27T05:00:32.817Z"
   },
   {
    "duration": 107,
    "start_time": "2025-01-27T05:00:32.922Z"
   },
   {
    "duration": 4,
    "start_time": "2025-01-27T05:00:33.033Z"
   },
   {
    "duration": 4,
    "start_time": "2025-01-27T05:00:33.112Z"
   },
   {
    "duration": 14,
    "start_time": "2025-01-27T05:00:33.118Z"
   },
   {
    "duration": 740,
    "start_time": "2025-01-27T05:00:33.133Z"
   },
   {
    "duration": 700,
    "start_time": "2025-01-27T05:03:30.371Z"
   },
   {
    "duration": 805,
    "start_time": "2025-01-27T05:03:48.046Z"
   },
   {
    "duration": 620,
    "start_time": "2025-01-27T05:04:07.092Z"
   },
   {
    "duration": 702,
    "start_time": "2025-01-27T05:04:32.367Z"
   },
   {
    "duration": 1049,
    "start_time": "2025-01-27T05:05:00.006Z"
   },
   {
    "duration": 632,
    "start_time": "2025-01-27T05:05:13.943Z"
   },
   {
    "duration": 8,
    "start_time": "2025-01-27T05:09:19.563Z"
   }
  ],
  "kernelspec": {
   "display_name": "Python 3 (ipykernel)",
   "language": "python",
   "name": "python3"
  },
  "language_info": {
   "codemirror_mode": {
    "name": "ipython",
    "version": 3
   },
   "file_extension": ".py",
   "mimetype": "text/x-python",
   "name": "python",
   "nbconvert_exporter": "python",
   "pygments_lexer": "ipython3",
   "version": "3.9.19"
  },
  "toc": {
   "base_numbering": 1,
   "nav_menu": {},
   "number_sections": true,
   "sideBar": true,
   "skip_h1_title": true,
   "title_cell": "Table of Contents",
   "title_sidebar": "Contents",
   "toc_cell": false,
   "toc_position": {
    "height": "calc(100% - 180px)",
    "left": "10px",
    "top": "150px",
    "width": "252.792px"
   },
   "toc_section_display": true,
   "toc_window_display": false
  }
 },
 "nbformat": 4,
 "nbformat_minor": 2
}
