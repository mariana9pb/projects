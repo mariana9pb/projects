{
 "cells": [
  {
   "cell_type": "markdown",
   "metadata": {},
   "source": [
    "El servicio de venta de autos usados Rusty Bargain está desarrollando una aplicación para atraer nuevos clientes. Gracias a esa app, puedes averiguar rápidamente el valor de mercado de tu coche. Tienes acceso al historial: especificaciones técnicas, versiones de equipamiento y precios. Tienes que crear un modelo que determine el valor de mercado.\n",
    "A Rusty Bargain le interesa:\n",
    "- la calidad de la predicción;\n",
    "- la velocidad de la predicción;\n",
    "- el tiempo requerido para el entrenamiento"
   ]
  },
  {
   "cell_type": "markdown",
   "metadata": {},
   "source": [
    "## Preparación de datos"
   ]
  },
  {
   "cell_type": "code",
   "execution_count": 1,
   "metadata": {
    "trusted": false
   },
   "outputs": [],
   "source": [
    "#importar librerías\n",
    "import pandas as pd\n",
    "import numpy as np\n",
    "from sklearn.model_selection import train_test_split\n",
    "from sklearn.preprocessing import StandardScaler, LabelEncoder\n",
    "from sklearn.linear_model import LinearRegression\n",
    "from sklearn.ensemble import RandomForestRegressor\n",
    "from sklearn.metrics import mean_squared_error\n",
    "from catboost import CatBoostRegressor\n",
    "import lightgbm as lgb\n",
    "import time"
   ]
  },
  {
   "cell_type": "code",
   "execution_count": 2,
   "metadata": {
    "trusted": false
   },
   "outputs": [],
   "source": [
    "#leer datos\n",
    "\n",
    "df = pd.read_csv('/datasets/car_data.csv')"
   ]
  },
  {
   "cell_type": "code",
   "execution_count": 3,
   "metadata": {
    "trusted": false
   },
   "outputs": [
    {
     "name": "stdout",
     "output_type": "stream",
     "text": [
      "<class 'pandas.core.frame.DataFrame'>\n",
      "RangeIndex: 354369 entries, 0 to 354368\n",
      "Data columns (total 16 columns):\n",
      " #   Column             Non-Null Count   Dtype \n",
      "---  ------             --------------   ----- \n",
      " 0   DateCrawled        354369 non-null  object\n",
      " 1   Price              354369 non-null  int64 \n",
      " 2   VehicleType        316879 non-null  object\n",
      " 3   RegistrationYear   354369 non-null  int64 \n",
      " 4   Gearbox            334536 non-null  object\n",
      " 5   Power              354369 non-null  int64 \n",
      " 6   Model              334664 non-null  object\n",
      " 7   Mileage            354369 non-null  int64 \n",
      " 8   RegistrationMonth  354369 non-null  int64 \n",
      " 9   FuelType           321474 non-null  object\n",
      " 10  Brand              354369 non-null  object\n",
      " 11  NotRepaired        283215 non-null  object\n",
      " 12  DateCreated        354369 non-null  object\n",
      " 13  NumberOfPictures   354369 non-null  int64 \n",
      " 14  PostalCode         354369 non-null  int64 \n",
      " 15  LastSeen           354369 non-null  object\n",
      "dtypes: int64(7), object(9)\n",
      "memory usage: 43.3+ MB\n"
     ]
    }
   ],
   "source": [
    "df.info()"
   ]
  },
  {
   "cell_type": "code",
   "execution_count": 4,
   "metadata": {
    "trusted": false
   },
   "outputs": [
    {
     "data": {
      "text/html": [
       "<div>\n",
       "<style scoped>\n",
       "    .dataframe tbody tr th:only-of-type {\n",
       "        vertical-align: middle;\n",
       "    }\n",
       "\n",
       "    .dataframe tbody tr th {\n",
       "        vertical-align: top;\n",
       "    }\n",
       "\n",
       "    .dataframe thead th {\n",
       "        text-align: right;\n",
       "    }\n",
       "</style>\n",
       "<table border=\"1\" class=\"dataframe\">\n",
       "  <thead>\n",
       "    <tr style=\"text-align: right;\">\n",
       "      <th></th>\n",
       "      <th>Price</th>\n",
       "      <th>VehicleType</th>\n",
       "      <th>RegistrationYear</th>\n",
       "      <th>Gearbox</th>\n",
       "      <th>Power</th>\n",
       "      <th>Model</th>\n",
       "      <th>Mileage</th>\n",
       "      <th>RegistrationMonth</th>\n",
       "      <th>FuelType</th>\n",
       "      <th>Brand</th>\n",
       "      <th>NotRepaired</th>\n",
       "    </tr>\n",
       "  </thead>\n",
       "  <tbody>\n",
       "    <tr>\n",
       "      <th>0</th>\n",
       "      <td>480</td>\n",
       "      <td>NaN</td>\n",
       "      <td>1993</td>\n",
       "      <td>manual</td>\n",
       "      <td>0</td>\n",
       "      <td>golf</td>\n",
       "      <td>150000</td>\n",
       "      <td>0</td>\n",
       "      <td>petrol</td>\n",
       "      <td>volkswagen</td>\n",
       "      <td>NaN</td>\n",
       "    </tr>\n",
       "    <tr>\n",
       "      <th>1</th>\n",
       "      <td>18300</td>\n",
       "      <td>coupe</td>\n",
       "      <td>2011</td>\n",
       "      <td>manual</td>\n",
       "      <td>190</td>\n",
       "      <td>NaN</td>\n",
       "      <td>125000</td>\n",
       "      <td>5</td>\n",
       "      <td>gasoline</td>\n",
       "      <td>audi</td>\n",
       "      <td>yes</td>\n",
       "    </tr>\n",
       "    <tr>\n",
       "      <th>2</th>\n",
       "      <td>9800</td>\n",
       "      <td>suv</td>\n",
       "      <td>2004</td>\n",
       "      <td>auto</td>\n",
       "      <td>163</td>\n",
       "      <td>grand</td>\n",
       "      <td>125000</td>\n",
       "      <td>8</td>\n",
       "      <td>gasoline</td>\n",
       "      <td>jeep</td>\n",
       "      <td>NaN</td>\n",
       "    </tr>\n",
       "    <tr>\n",
       "      <th>3</th>\n",
       "      <td>1500</td>\n",
       "      <td>small</td>\n",
       "      <td>2001</td>\n",
       "      <td>manual</td>\n",
       "      <td>75</td>\n",
       "      <td>golf</td>\n",
       "      <td>150000</td>\n",
       "      <td>6</td>\n",
       "      <td>petrol</td>\n",
       "      <td>volkswagen</td>\n",
       "      <td>no</td>\n",
       "    </tr>\n",
       "    <tr>\n",
       "      <th>4</th>\n",
       "      <td>3600</td>\n",
       "      <td>small</td>\n",
       "      <td>2008</td>\n",
       "      <td>manual</td>\n",
       "      <td>69</td>\n",
       "      <td>fabia</td>\n",
       "      <td>90000</td>\n",
       "      <td>7</td>\n",
       "      <td>gasoline</td>\n",
       "      <td>skoda</td>\n",
       "      <td>no</td>\n",
       "    </tr>\n",
       "    <tr>\n",
       "      <th>...</th>\n",
       "      <td>...</td>\n",
       "      <td>...</td>\n",
       "      <td>...</td>\n",
       "      <td>...</td>\n",
       "      <td>...</td>\n",
       "      <td>...</td>\n",
       "      <td>...</td>\n",
       "      <td>...</td>\n",
       "      <td>...</td>\n",
       "      <td>...</td>\n",
       "      <td>...</td>\n",
       "    </tr>\n",
       "    <tr>\n",
       "      <th>354364</th>\n",
       "      <td>0</td>\n",
       "      <td>NaN</td>\n",
       "      <td>2005</td>\n",
       "      <td>manual</td>\n",
       "      <td>0</td>\n",
       "      <td>colt</td>\n",
       "      <td>150000</td>\n",
       "      <td>7</td>\n",
       "      <td>petrol</td>\n",
       "      <td>mitsubishi</td>\n",
       "      <td>yes</td>\n",
       "    </tr>\n",
       "    <tr>\n",
       "      <th>354365</th>\n",
       "      <td>2200</td>\n",
       "      <td>NaN</td>\n",
       "      <td>2005</td>\n",
       "      <td>NaN</td>\n",
       "      <td>0</td>\n",
       "      <td>NaN</td>\n",
       "      <td>20000</td>\n",
       "      <td>1</td>\n",
       "      <td>NaN</td>\n",
       "      <td>sonstige_autos</td>\n",
       "      <td>NaN</td>\n",
       "    </tr>\n",
       "    <tr>\n",
       "      <th>354366</th>\n",
       "      <td>1199</td>\n",
       "      <td>convertible</td>\n",
       "      <td>2000</td>\n",
       "      <td>auto</td>\n",
       "      <td>101</td>\n",
       "      <td>fortwo</td>\n",
       "      <td>125000</td>\n",
       "      <td>3</td>\n",
       "      <td>petrol</td>\n",
       "      <td>smart</td>\n",
       "      <td>no</td>\n",
       "    </tr>\n",
       "    <tr>\n",
       "      <th>354367</th>\n",
       "      <td>9200</td>\n",
       "      <td>bus</td>\n",
       "      <td>1996</td>\n",
       "      <td>manual</td>\n",
       "      <td>102</td>\n",
       "      <td>transporter</td>\n",
       "      <td>150000</td>\n",
       "      <td>3</td>\n",
       "      <td>gasoline</td>\n",
       "      <td>volkswagen</td>\n",
       "      <td>no</td>\n",
       "    </tr>\n",
       "    <tr>\n",
       "      <th>354368</th>\n",
       "      <td>3400</td>\n",
       "      <td>wagon</td>\n",
       "      <td>2002</td>\n",
       "      <td>manual</td>\n",
       "      <td>100</td>\n",
       "      <td>golf</td>\n",
       "      <td>150000</td>\n",
       "      <td>6</td>\n",
       "      <td>gasoline</td>\n",
       "      <td>volkswagen</td>\n",
       "      <td>NaN</td>\n",
       "    </tr>\n",
       "  </tbody>\n",
       "</table>\n",
       "<p>354369 rows × 11 columns</p>\n",
       "</div>"
      ],
      "text/plain": [
       "        Price  VehicleType  RegistrationYear Gearbox  Power        Model  \\\n",
       "0         480          NaN              1993  manual      0         golf   \n",
       "1       18300        coupe              2011  manual    190          NaN   \n",
       "2        9800          suv              2004    auto    163        grand   \n",
       "3        1500        small              2001  manual     75         golf   \n",
       "4        3600        small              2008  manual     69        fabia   \n",
       "...       ...          ...               ...     ...    ...          ...   \n",
       "354364      0          NaN              2005  manual      0         colt   \n",
       "354365   2200          NaN              2005     NaN      0          NaN   \n",
       "354366   1199  convertible              2000    auto    101       fortwo   \n",
       "354367   9200          bus              1996  manual    102  transporter   \n",
       "354368   3400        wagon              2002  manual    100         golf   \n",
       "\n",
       "        Mileage  RegistrationMonth  FuelType           Brand NotRepaired  \n",
       "0        150000                  0    petrol      volkswagen         NaN  \n",
       "1        125000                  5  gasoline            audi         yes  \n",
       "2        125000                  8  gasoline            jeep         NaN  \n",
       "3        150000                  6    petrol      volkswagen          no  \n",
       "4         90000                  7  gasoline           skoda          no  \n",
       "...         ...                ...       ...             ...         ...  \n",
       "354364   150000                  7    petrol      mitsubishi         yes  \n",
       "354365    20000                  1       NaN  sonstige_autos         NaN  \n",
       "354366   125000                  3    petrol           smart          no  \n",
       "354367   150000                  3  gasoline      volkswagen          no  \n",
       "354368   150000                  6  gasoline      volkswagen         NaN  \n",
       "\n",
       "[354369 rows x 11 columns]"
      ]
     },
     "execution_count": 4,
     "metadata": {},
     "output_type": "execute_result"
    }
   ],
   "source": [
    "# eliminar columnas irrelevantes\n",
    "df = df.drop(['DateCrawled', 'DateCreated', 'NumberOfPictures', 'PostalCode', 'LastSeen'], axis=1)\n",
    "df"
   ]
  },
  {
   "cell_type": "code",
   "execution_count": 5,
   "metadata": {
    "trusted": false
   },
   "outputs": [
    {
     "name": "stdout",
     "output_type": "stream",
     "text": [
      "<class 'pandas.core.frame.DataFrame'>\n",
      "RangeIndex: 354369 entries, 0 to 354368\n",
      "Data columns (total 11 columns):\n",
      " #   Column             Non-Null Count   Dtype \n",
      "---  ------             --------------   ----- \n",
      " 0   Price              354369 non-null  int64 \n",
      " 1   VehicleType        316879 non-null  object\n",
      " 2   RegistrationYear   354369 non-null  int64 \n",
      " 3   Gearbox            334536 non-null  object\n",
      " 4   Power              354369 non-null  int64 \n",
      " 5   Model              334664 non-null  object\n",
      " 6   Mileage            354369 non-null  int64 \n",
      " 7   RegistrationMonth  354369 non-null  int64 \n",
      " 8   FuelType           321474 non-null  object\n",
      " 9   Brand              354369 non-null  object\n",
      " 10  NotRepaired        283215 non-null  object\n",
      "dtypes: int64(5), object(6)\n",
      "memory usage: 29.7+ MB\n"
     ]
    }
   ],
   "source": [
    "df.info()"
   ]
  },
  {
   "cell_type": "code",
   "execution_count": 6,
   "metadata": {
    "trusted": false
   },
   "outputs": [
    {
     "name": "stdout",
     "output_type": "stream",
     "text": [
      "Index(['price', 'vehicletype', 'registrationyear', 'gearbox', 'power', 'model',\n",
      "       'mileage', 'registrationmonth', 'fueltype', 'brand', 'notrepaired'],\n",
      "      dtype='object')\n"
     ]
    }
   ],
   "source": [
    "# renombrar las columnas en minúsculas\n",
    "df.columns = df.columns.str.lower()\n",
    "\n",
    "print(df.columns)"
   ]
  },
  {
   "cell_type": "code",
   "execution_count": 7,
   "metadata": {
    "trusted": false
   },
   "outputs": [
    {
     "data": {
      "text/plain": [
       "price                    0\n",
       "vehicletype          37490\n",
       "registrationyear         0\n",
       "gearbox              19833\n",
       "power                    0\n",
       "model                19705\n",
       "mileage                  0\n",
       "registrationmonth        0\n",
       "fueltype             32895\n",
       "brand                    0\n",
       "notrepaired          71154\n",
       "dtype: int64"
      ]
     },
     "execution_count": 7,
     "metadata": {},
     "output_type": "execute_result"
    }
   ],
   "source": [
    "#conteo de valores nulos\n",
    "df.isna().sum()"
   ]
  },
  {
   "cell_type": "code",
   "execution_count": 8,
   "metadata": {
    "trusted": false
   },
   "outputs": [
    {
     "name": "stdout",
     "output_type": "stream",
     "text": [
      "price                    0\n",
      "vehicletype              0\n",
      "registrationyear         0\n",
      "gearbox              19833\n",
      "power                    0\n",
      "model                    0\n",
      "mileage                  0\n",
      "registrationmonth        0\n",
      "fueltype                 0\n",
      "brand                    0\n",
      "notrepaired              0\n",
      "dtype: int64\n"
     ]
    }
   ],
   "source": [
    "# rellenar valores nulos para columnas VehicleType, Model y NotRepaired\n",
    "df['vehicletype'].fillna('Unknown', inplace=True)\n",
    "df['model'].fillna('Unknown', inplace=True)\n",
    "df['notrepaired'].fillna('Unknown', inplace=True)\n",
    "df['fueltype'].fillna('Unknown', inplace=True)\n",
    "\n",
    "# verificar nulos\n",
    "print(df.isna().sum())"
   ]
  },
  {
   "cell_type": "code",
   "execution_count": 9,
   "metadata": {
    "trusted": false
   },
   "outputs": [
    {
     "name": "stdout",
     "output_type": "stream",
     "text": [
      "11089\n"
     ]
    }
   ],
   "source": [
    "# Rellenar los valores nulos en \"Gearbox\" según categoría\n",
    "\n",
    "# filtrar los valores no \"Unknown\" para 'vehicleType' y 'model'\n",
    "df_filtered_gearbox = df[df['vehicletype'] != 'Unknown']\n",
    "df_filtered_gearbox = df_filtered_gearbox[df_filtered_gearbox['model'] != 'Unknown']\n",
    "\n",
    "# Agrupar por 'vehicleType', 'brand', 'model' y obtener el valor de 'gearbox'\n",
    "gearbox_mode = df_filtered_gearbox.groupby(['vehicletype', 'brand', 'model'])['gearbox'].agg(pd.Series.mode).reset_index()\n",
    "\n",
    "# merge para rellenar los valores de 'Gearbox' en los datos originales\n",
    "df = df.merge(gearbox_mode, on=['vehicletype', 'brand', 'model'], how='left', suffixes=('', '_mode'))\n",
    "\n",
    "# rellenar los valores nulos de 'Gearbox' con la moda calculada\n",
    "df['gearbox'].fillna(df['gearbox_mode'], inplace=True)\n",
    "\n",
    "# eliminar la columna extra 'gearbox_mode'\n",
    "df.drop(columns=['gearbox_mode'], inplace=True)\n",
    "\n",
    "# verificar si hay valores nulos en Gearbox\n",
    "print(df['gearbox'].isna().sum())"
   ]
  },
  {
   "cell_type": "code",
   "execution_count": 10,
   "metadata": {
    "trusted": false
   },
   "outputs": [
    {
     "name": "stdout",
     "output_type": "stream",
     "text": [
      "price                0\n",
      "vehicletype          0\n",
      "registrationyear     0\n",
      "gearbox              0\n",
      "power                0\n",
      "model                0\n",
      "mileage              0\n",
      "registrationmonth    0\n",
      "fueltype             0\n",
      "brand                0\n",
      "notrepaired          0\n",
      "dtype: int64\n"
     ]
    }
   ],
   "source": [
    "# rellenar los últimos valores nulos en 'gearbox'\n",
    "df['gearbox'].fillna('Unknown', inplace=True)\n",
    "print(df.isna().sum())"
   ]
  },
  {
   "cell_type": "code",
   "execution_count": 11,
   "metadata": {
    "trusted": false
   },
   "outputs": [
    {
     "name": "stdout",
     "output_type": "stream",
     "text": [
      "<class 'pandas.core.frame.DataFrame'>\n",
      "Int64Index: 354369 entries, 0 to 354368\n",
      "Data columns (total 11 columns):\n",
      " #   Column             Non-Null Count   Dtype \n",
      "---  ------             --------------   ----- \n",
      " 0   price              354369 non-null  int64 \n",
      " 1   vehicletype        354369 non-null  object\n",
      " 2   registrationyear   354369 non-null  int64 \n",
      " 3   gearbox            354369 non-null  object\n",
      " 4   power              354369 non-null  int64 \n",
      " 5   model              354369 non-null  object\n",
      " 6   mileage            354369 non-null  int64 \n",
      " 7   registrationmonth  354369 non-null  int64 \n",
      " 8   fueltype           354369 non-null  object\n",
      " 9   brand              354369 non-null  object\n",
      " 10  notrepaired        354369 non-null  object\n",
      "dtypes: int64(5), object(6)\n",
      "memory usage: 32.4+ MB\n"
     ]
    }
   ],
   "source": [
    "df.info()"
   ]
  },
  {
   "cell_type": "code",
   "execution_count": 12,
   "metadata": {
    "trusted": false
   },
   "outputs": [
    {
     "data": {
      "text/html": [
       "<div>\n",
       "<style scoped>\n",
       "    .dataframe tbody tr th:only-of-type {\n",
       "        vertical-align: middle;\n",
       "    }\n",
       "\n",
       "    .dataframe tbody tr th {\n",
       "        vertical-align: top;\n",
       "    }\n",
       "\n",
       "    .dataframe thead th {\n",
       "        text-align: right;\n",
       "    }\n",
       "</style>\n",
       "<table border=\"1\" class=\"dataframe\">\n",
       "  <thead>\n",
       "    <tr style=\"text-align: right;\">\n",
       "      <th></th>\n",
       "      <th>price</th>\n",
       "      <th>registrationyear</th>\n",
       "      <th>power</th>\n",
       "      <th>mileage</th>\n",
       "      <th>registrationmonth</th>\n",
       "    </tr>\n",
       "  </thead>\n",
       "  <tbody>\n",
       "    <tr>\n",
       "      <th>count</th>\n",
       "      <td>354369.000000</td>\n",
       "      <td>354369.000000</td>\n",
       "      <td>354369.000000</td>\n",
       "      <td>354369.000000</td>\n",
       "      <td>354369.000000</td>\n",
       "    </tr>\n",
       "    <tr>\n",
       "      <th>mean</th>\n",
       "      <td>4416.656776</td>\n",
       "      <td>2004.234448</td>\n",
       "      <td>110.094337</td>\n",
       "      <td>128211.172535</td>\n",
       "      <td>5.714645</td>\n",
       "    </tr>\n",
       "    <tr>\n",
       "      <th>std</th>\n",
       "      <td>4514.158514</td>\n",
       "      <td>90.227958</td>\n",
       "      <td>189.850405</td>\n",
       "      <td>37905.341530</td>\n",
       "      <td>3.726421</td>\n",
       "    </tr>\n",
       "    <tr>\n",
       "      <th>min</th>\n",
       "      <td>0.000000</td>\n",
       "      <td>1000.000000</td>\n",
       "      <td>0.000000</td>\n",
       "      <td>5000.000000</td>\n",
       "      <td>0.000000</td>\n",
       "    </tr>\n",
       "    <tr>\n",
       "      <th>25%</th>\n",
       "      <td>1050.000000</td>\n",
       "      <td>1999.000000</td>\n",
       "      <td>69.000000</td>\n",
       "      <td>125000.000000</td>\n",
       "      <td>3.000000</td>\n",
       "    </tr>\n",
       "    <tr>\n",
       "      <th>50%</th>\n",
       "      <td>2700.000000</td>\n",
       "      <td>2003.000000</td>\n",
       "      <td>105.000000</td>\n",
       "      <td>150000.000000</td>\n",
       "      <td>6.000000</td>\n",
       "    </tr>\n",
       "    <tr>\n",
       "      <th>75%</th>\n",
       "      <td>6400.000000</td>\n",
       "      <td>2008.000000</td>\n",
       "      <td>143.000000</td>\n",
       "      <td>150000.000000</td>\n",
       "      <td>9.000000</td>\n",
       "    </tr>\n",
       "    <tr>\n",
       "      <th>max</th>\n",
       "      <td>20000.000000</td>\n",
       "      <td>9999.000000</td>\n",
       "      <td>20000.000000</td>\n",
       "      <td>150000.000000</td>\n",
       "      <td>12.000000</td>\n",
       "    </tr>\n",
       "  </tbody>\n",
       "</table>\n",
       "</div>"
      ],
      "text/plain": [
       "               price  registrationyear          power        mileage  \\\n",
       "count  354369.000000     354369.000000  354369.000000  354369.000000   \n",
       "mean     4416.656776       2004.234448     110.094337  128211.172535   \n",
       "std      4514.158514         90.227958     189.850405   37905.341530   \n",
       "min         0.000000       1000.000000       0.000000    5000.000000   \n",
       "25%      1050.000000       1999.000000      69.000000  125000.000000   \n",
       "50%      2700.000000       2003.000000     105.000000  150000.000000   \n",
       "75%      6400.000000       2008.000000     143.000000  150000.000000   \n",
       "max     20000.000000       9999.000000   20000.000000  150000.000000   \n",
       "\n",
       "       registrationmonth  \n",
       "count      354369.000000  \n",
       "mean            5.714645  \n",
       "std             3.726421  \n",
       "min             0.000000  \n",
       "25%             3.000000  \n",
       "50%             6.000000  \n",
       "75%             9.000000  \n",
       "max            12.000000  "
      ]
     },
     "execution_count": 12,
     "metadata": {},
     "output_type": "execute_result"
    }
   ],
   "source": [
    "df.describe()"
   ]
  },
  {
   "cell_type": "markdown",
   "metadata": {},
   "source": [
    "## Entrenamiento del modelo "
   ]
  },
  {
   "cell_type": "code",
   "execution_count": 13,
   "metadata": {
    "trusted": false
   },
   "outputs": [
    {
     "data": {
      "text/html": [
       "<div>\n",
       "<style scoped>\n",
       "    .dataframe tbody tr th:only-of-type {\n",
       "        vertical-align: middle;\n",
       "    }\n",
       "\n",
       "    .dataframe tbody tr th {\n",
       "        vertical-align: top;\n",
       "    }\n",
       "\n",
       "    .dataframe thead th {\n",
       "        text-align: right;\n",
       "    }\n",
       "</style>\n",
       "<table border=\"1\" class=\"dataframe\">\n",
       "  <thead>\n",
       "    <tr style=\"text-align: right;\">\n",
       "      <th></th>\n",
       "      <th>price</th>\n",
       "      <th>vehicletype</th>\n",
       "      <th>registrationyear</th>\n",
       "      <th>gearbox</th>\n",
       "      <th>power</th>\n",
       "      <th>model</th>\n",
       "      <th>mileage</th>\n",
       "      <th>registrationmonth</th>\n",
       "      <th>fueltype</th>\n",
       "      <th>brand</th>\n",
       "      <th>notrepaired</th>\n",
       "    </tr>\n",
       "  </thead>\n",
       "  <tbody>\n",
       "    <tr>\n",
       "      <th>0</th>\n",
       "      <td>480</td>\n",
       "      <td>0</td>\n",
       "      <td>1993</td>\n",
       "      <td>4</td>\n",
       "      <td>0</td>\n",
       "      <td>117</td>\n",
       "      <td>150000</td>\n",
       "      <td>0</td>\n",
       "      <td>7</td>\n",
       "      <td>38</td>\n",
       "      <td>0</td>\n",
       "    </tr>\n",
       "    <tr>\n",
       "      <th>1</th>\n",
       "      <td>18300</td>\n",
       "      <td>3</td>\n",
       "      <td>2011</td>\n",
       "      <td>4</td>\n",
       "      <td>190</td>\n",
       "      <td>26</td>\n",
       "      <td>125000</td>\n",
       "      <td>5</td>\n",
       "      <td>3</td>\n",
       "      <td>1</td>\n",
       "      <td>2</td>\n",
       "    </tr>\n",
       "    <tr>\n",
       "      <th>2</th>\n",
       "      <td>9800</td>\n",
       "      <td>7</td>\n",
       "      <td>2004</td>\n",
       "      <td>3</td>\n",
       "      <td>163</td>\n",
       "      <td>118</td>\n",
       "      <td>125000</td>\n",
       "      <td>8</td>\n",
       "      <td>3</td>\n",
       "      <td>14</td>\n",
       "      <td>0</td>\n",
       "    </tr>\n",
       "    <tr>\n",
       "      <th>3</th>\n",
       "      <td>1500</td>\n",
       "      <td>6</td>\n",
       "      <td>2001</td>\n",
       "      <td>4</td>\n",
       "      <td>75</td>\n",
       "      <td>117</td>\n",
       "      <td>150000</td>\n",
       "      <td>6</td>\n",
       "      <td>7</td>\n",
       "      <td>38</td>\n",
       "      <td>1</td>\n",
       "    </tr>\n",
       "    <tr>\n",
       "      <th>4</th>\n",
       "      <td>3600</td>\n",
       "      <td>6</td>\n",
       "      <td>2008</td>\n",
       "      <td>4</td>\n",
       "      <td>69</td>\n",
       "      <td>102</td>\n",
       "      <td>90000</td>\n",
       "      <td>7</td>\n",
       "      <td>3</td>\n",
       "      <td>31</td>\n",
       "      <td>1</td>\n",
       "    </tr>\n",
       "  </tbody>\n",
       "</table>\n",
       "</div>"
      ],
      "text/plain": [
       "   price  vehicletype  registrationyear  gearbox  power  model  mileage  \\\n",
       "0    480            0              1993        4      0    117   150000   \n",
       "1  18300            3              2011        4    190     26   125000   \n",
       "2   9800            7              2004        3    163    118   125000   \n",
       "3   1500            6              2001        4     75    117   150000   \n",
       "4   3600            6              2008        4     69    102    90000   \n",
       "\n",
       "   registrationmonth  fueltype  brand  notrepaired  \n",
       "0                  0         7     38            0  \n",
       "1                  5         3      1            2  \n",
       "2                  8         3     14            0  \n",
       "3                  6         7     38            1  \n",
       "4                  7         3     31            1  "
      ]
     },
     "execution_count": 13,
     "metadata": {},
     "output_type": "execute_result"
    }
   ],
   "source": [
    "# codificación con label encoder para regresión lineal y bosque aleatorio\n",
    "\n",
    "label_encoder = LabelEncoder()\n",
    "\n",
    "categorical_columns = ['vehicletype', 'gearbox', 'model', 'fueltype', 'brand', 'notrepaired']\n",
    "df[categorical_columns] = df[categorical_columns].astype(str)\n",
    "\n",
    "for col in categorical_columns:\n",
    "    df[col] = label_encoder.fit_transform(df[col])\n",
    "\n",
    "# verificar dataFrame después de la codificación\n",
    "df.head()"
   ]
  },
  {
   "cell_type": "code",
   "execution_count": 14,
   "metadata": {
    "trusted": false
   },
   "outputs": [],
   "source": [
    "# dividir en entrenamiento y prueba\n",
    "\n",
    "target = df['price'] \n",
    "features = df.drop('price', axis=1) \n",
    "\n",
    "# escalar características numéricas\n",
    "scaler = StandardScaler()\n",
    "numeric_columns = ['registrationyear', 'power', 'mileage', 'registrationmonth']\n",
    "features[numeric_columns] = scaler.fit_transform(features[numeric_columns])\n",
    "\n",
    "features_train, features_valid, target_train, target_valid = train_test_split(\n",
    "    features, target, test_size=0.25, random_state=12345\n",
    ")\n"
   ]
  },
  {
   "cell_type": "markdown",
   "metadata": {},
   "source": [
    "### Regresión lineal"
   ]
  },
  {
   "cell_type": "code",
   "execution_count": 15,
   "metadata": {
    "trusted": false
   },
   "outputs": [
    {
     "name": "stdout",
     "output_type": "stream",
     "text": [
      "RMSE para Regresión Lineal: 4071.5587424687446\n"
     ]
    }
   ],
   "source": [
    "#modelo de regresión lineal\n",
    "start = time.time()\n",
    "linear_model = LinearRegression()\n",
    "linear_model.fit(features_train, target_train)\n",
    "train_time_linear = time.time() - start\n",
    "\n",
    "start = time.time()\n",
    "predictions_linear = linear_model.predict(features_valid)  \n",
    "predict_time_linear = time.time() - start\n",
    "\n",
    "# evaluación con RMSE\n",
    "rmse_linear = np.sqrt(mean_squared_error(target_valid, predictions_linear))\n",
    "print(f\"RMSE para Regresión Lineal: {rmse_linear}\")\n"
   ]
  },
  {
   "cell_type": "markdown",
   "metadata": {},
   "source": [
    "El modelo de regresión lineal tiene un RMSE de aproximadamente 4071.56, por lo que en promedio, las predicciones de precios del modelo difieren del valor real en unos 4071.56 euros. Este valor es alto considerando que el precio promedio de un auto en el dataset es de 4416 euros, sirve como referencia (prueba de cordura)."
   ]
  },
  {
   "cell_type": "markdown",
   "metadata": {},
   "source": [
    "### Bosque Aleatorio"
   ]
  },
  {
   "cell_type": "code",
   "execution_count": 16,
   "metadata": {
    "trusted": false
   },
   "outputs": [
    {
     "name": "stdout",
     "output_type": "stream",
     "text": [
      "RMSE para Bosque Aleatorio: 1969.2164926796618\n"
     ]
    }
   ],
   "source": [
    "# modelo de bosque aleatorio\n",
    "start = time.time()\n",
    "rf_model = RandomForestRegressor(n_estimators= 33, max_depth = 11, random_state=12345)\n",
    "rf_model.fit(features_train, target_train)\n",
    "train_time_rf = time.time() - start\n",
    "\n",
    "# predicciones\n",
    "start = time.time()\n",
    "predictions_rf = rf_model.predict(features_valid)\n",
    "predict_time_rf = time.time() - start\n",
    "\n",
    "# evaluación con RMSE\n",
    "rmse_rf = np.sqrt(mean_squared_error(target_valid, predictions_rf))\n",
    "print(f\"RMSE para Bosque Aleatorio: {rmse_rf}\")"
   ]
  },
  {
   "cell_type": "markdown",
   "metadata": {},
   "source": [
    "El bosque aleatorio con 33 árboles y profundidad de 11, logró un RMSE de 1969."
   ]
  },
  {
   "cell_type": "markdown",
   "metadata": {},
   "source": [
    "### Modelo LightGBM"
   ]
  },
  {
   "cell_type": "code",
   "execution_count": 17,
   "metadata": {
    "trusted": false
   },
   "outputs": [
    {
     "name": "stderr",
     "output_type": "stream",
     "text": [
      "/opt/conda/envs/python3/lib/python3.9/site-packages/lightgbm/engine.py:181: UserWarning: 'early_stopping_rounds' argument is deprecated and will be removed in a future release of LightGBM. Pass 'early_stopping()' callback via 'callbacks' argument instead.\n",
      "  _log_warning(\"'early_stopping_rounds' argument is deprecated and will be removed in a future release of LightGBM. \"\n"
     ]
    },
    {
     "name": "stdout",
     "output_type": "stream",
     "text": [
      "[LightGBM] [Warning] Auto-choosing col-wise multi-threading, the overhead of testing was 0.294157 seconds.\n",
      "You can set `force_col_wise=true` to remove the overhead.\n",
      "[LightGBM] [Info] Total Bins 699\n",
      "[LightGBM] [Info] Number of data points in the train set: 265776, number of used features: 10\n",
      "[LightGBM] [Info] Start training from score 4413.365319\n",
      "[1]\tvalid_0's rmse: 4367.61\n",
      "Training until validation scores don't improve for 50 rounds\n",
      "[2]\tvalid_0's rmse: 4251.38\n",
      "[3]\tvalid_0's rmse: 4110.44\n",
      "[4]\tvalid_0's rmse: 3979.58\n",
      "[5]\tvalid_0's rmse: 3856.75\n",
      "[6]\tvalid_0's rmse: 3742.49\n",
      "[7]\tvalid_0's rmse: 3643.78\n",
      "[8]\tvalid_0's rmse: 3542.64\n",
      "[9]\tvalid_0's rmse: 3447.83\n",
      "[10]\tvalid_0's rmse: 3359.29\n",
      "[11]\tvalid_0's rmse: 3277\n",
      "[12]\tvalid_0's rmse: 3200.78\n",
      "[13]\tvalid_0's rmse: 3129.11\n",
      "[14]\tvalid_0's rmse: 3062.45\n",
      "[15]\tvalid_0's rmse: 3000.93\n",
      "[16]\tvalid_0's rmse: 2943.24\n",
      "[17]\tvalid_0's rmse: 2894.03\n",
      "[18]\tvalid_0's rmse: 2843.61\n",
      "[19]\tvalid_0's rmse: 2795.55\n",
      "[20]\tvalid_0's rmse: 2750.55\n",
      "[21]\tvalid_0's rmse: 2709.03\n",
      "[22]\tvalid_0's rmse: 2669.19\n",
      "[23]\tvalid_0's rmse: 2631.33\n",
      "[24]\tvalid_0's rmse: 2597.17\n",
      "[25]\tvalid_0's rmse: 2563.98\n",
      "[26]\tvalid_0's rmse: 2532.77\n",
      "[27]\tvalid_0's rmse: 2503.87\n",
      "[28]\tvalid_0's rmse: 2476.98\n",
      "[29]\tvalid_0's rmse: 2451.22\n",
      "[30]\tvalid_0's rmse: 2427.99\n",
      "[31]\tvalid_0's rmse: 2405.54\n",
      "[32]\tvalid_0's rmse: 2384.18\n",
      "[33]\tvalid_0's rmse: 2365.16\n",
      "[34]\tvalid_0's rmse: 2345.71\n",
      "[35]\tvalid_0's rmse: 2328.87\n",
      "[36]\tvalid_0's rmse: 2309.67\n",
      "[37]\tvalid_0's rmse: 2294.1\n",
      "[38]\tvalid_0's rmse: 2276.96\n",
      "[39]\tvalid_0's rmse: 2263.38\n",
      "[40]\tvalid_0's rmse: 2249.28\n",
      "[41]\tvalid_0's rmse: 2237.15\n",
      "[42]\tvalid_0's rmse: 2223.71\n",
      "[43]\tvalid_0's rmse: 2212.33\n",
      "[44]\tvalid_0's rmse: 2201.17\n",
      "[45]\tvalid_0's rmse: 2189.35\n",
      "[46]\tvalid_0's rmse: 2180.14\n",
      "[47]\tvalid_0's rmse: 2169.85\n",
      "[48]\tvalid_0's rmse: 2160.21\n",
      "[49]\tvalid_0's rmse: 2152.48\n",
      "[50]\tvalid_0's rmse: 2142.35\n",
      "[51]\tvalid_0's rmse: 2132.32\n",
      "[52]\tvalid_0's rmse: 2124.03\n",
      "[53]\tvalid_0's rmse: 2116.71\n",
      "[54]\tvalid_0's rmse: 2109.34\n",
      "[55]\tvalid_0's rmse: 2101.98\n",
      "[56]\tvalid_0's rmse: 2094.78\n",
      "[57]\tvalid_0's rmse: 2088.5\n",
      "[58]\tvalid_0's rmse: 2082.56\n",
      "[59]\tvalid_0's rmse: 2076.15\n",
      "[60]\tvalid_0's rmse: 2070.84\n",
      "[61]\tvalid_0's rmse: 2064.95\n",
      "[62]\tvalid_0's rmse: 2059.34\n",
      "[63]\tvalid_0's rmse: 2053.93\n",
      "[64]\tvalid_0's rmse: 2048.07\n",
      "[65]\tvalid_0's rmse: 2043.39\n",
      "[66]\tvalid_0's rmse: 2037.96\n",
      "[67]\tvalid_0's rmse: 2033.96\n",
      "[68]\tvalid_0's rmse: 2030.22\n",
      "[69]\tvalid_0's rmse: 2026.01\n",
      "[70]\tvalid_0's rmse: 2021.43\n",
      "[71]\tvalid_0's rmse: 2016.94\n",
      "[72]\tvalid_0's rmse: 2013.6\n",
      "[73]\tvalid_0's rmse: 2010.19\n",
      "[74]\tvalid_0's rmse: 2006.77\n",
      "[75]\tvalid_0's rmse: 2003.3\n",
      "[76]\tvalid_0's rmse: 2000.08\n",
      "[77]\tvalid_0's rmse: 1997.05\n",
      "[78]\tvalid_0's rmse: 1994.33\n",
      "[79]\tvalid_0's rmse: 1991.34\n",
      "[80]\tvalid_0's rmse: 1988.55\n",
      "[81]\tvalid_0's rmse: 1985.36\n",
      "[82]\tvalid_0's rmse: 1983.25\n",
      "[83]\tvalid_0's rmse: 1980.97\n",
      "[84]\tvalid_0's rmse: 1978.79\n",
      "[85]\tvalid_0's rmse: 1976.27\n",
      "[86]\tvalid_0's rmse: 1974.05\n",
      "[87]\tvalid_0's rmse: 1971.97\n",
      "[88]\tvalid_0's rmse: 1969.51\n",
      "[89]\tvalid_0's rmse: 1967.21\n",
      "[90]\tvalid_0's rmse: 1965.09\n",
      "[91]\tvalid_0's rmse: 1963.29\n",
      "[92]\tvalid_0's rmse: 1961.38\n",
      "[93]\tvalid_0's rmse: 1959.37\n",
      "[94]\tvalid_0's rmse: 1956.96\n",
      "[95]\tvalid_0's rmse: 1954.05\n",
      "[96]\tvalid_0's rmse: 1952.43\n",
      "[97]\tvalid_0's rmse: 1950.6\n",
      "[98]\tvalid_0's rmse: 1948.89\n",
      "[99]\tvalid_0's rmse: 1947.3\n",
      "[100]\tvalid_0's rmse: 1945.53\n",
      "[101]\tvalid_0's rmse: 1943.48\n",
      "[102]\tvalid_0's rmse: 1942.16\n",
      "[103]\tvalid_0's rmse: 1941.02\n",
      "[104]\tvalid_0's rmse: 1939.17\n",
      "[105]\tvalid_0's rmse: 1937.4\n",
      "[106]\tvalid_0's rmse: 1936.29\n",
      "[107]\tvalid_0's rmse: 1933.99\n",
      "[108]\tvalid_0's rmse: 1932.68\n",
      "[109]\tvalid_0's rmse: 1931.41\n",
      "[110]\tvalid_0's rmse: 1929.71\n",
      "[111]\tvalid_0's rmse: 1928.6\n",
      "[112]\tvalid_0's rmse: 1926.65\n",
      "[113]\tvalid_0's rmse: 1925.04\n",
      "[114]\tvalid_0's rmse: 1923.98\n",
      "[115]\tvalid_0's rmse: 1922.47\n",
      "[116]\tvalid_0's rmse: 1921.26\n",
      "[117]\tvalid_0's rmse: 1920.33\n",
      "[118]\tvalid_0's rmse: 1918.64\n",
      "[119]\tvalid_0's rmse: 1917.35\n",
      "[120]\tvalid_0's rmse: 1915.76\n",
      "[121]\tvalid_0's rmse: 1914.76\n",
      "[122]\tvalid_0's rmse: 1913.31\n",
      "[123]\tvalid_0's rmse: 1912.26\n",
      "[124]\tvalid_0's rmse: 1911.12\n",
      "[125]\tvalid_0's rmse: 1910.27\n",
      "[126]\tvalid_0's rmse: 1909.25\n",
      "[127]\tvalid_0's rmse: 1907.81\n",
      "[128]\tvalid_0's rmse: 1906.73\n",
      "[129]\tvalid_0's rmse: 1905.73\n",
      "[130]\tvalid_0's rmse: 1904.4\n",
      "[131]\tvalid_0's rmse: 1903.66\n",
      "[132]\tvalid_0's rmse: 1902.59\n",
      "[133]\tvalid_0's rmse: 1901.37\n",
      "[134]\tvalid_0's rmse: 1900.36\n",
      "[135]\tvalid_0's rmse: 1899.14\n",
      "[136]\tvalid_0's rmse: 1898.53\n",
      "[137]\tvalid_0's rmse: 1897.58\n",
      "[138]\tvalid_0's rmse: 1896.83\n",
      "[139]\tvalid_0's rmse: 1895.97\n",
      "[140]\tvalid_0's rmse: 1895.12\n",
      "[141]\tvalid_0's rmse: 1893.74\n",
      "[142]\tvalid_0's rmse: 1892.81\n",
      "[143]\tvalid_0's rmse: 1891.74\n",
      "[144]\tvalid_0's rmse: 1891.09\n",
      "[145]\tvalid_0's rmse: 1890.46\n",
      "[146]\tvalid_0's rmse: 1889.48\n",
      "[147]\tvalid_0's rmse: 1888.7\n",
      "[148]\tvalid_0's rmse: 1887.63\n",
      "[149]\tvalid_0's rmse: 1886.91\n",
      "[150]\tvalid_0's rmse: 1886.2\n",
      "[151]\tvalid_0's rmse: 1885.65\n",
      "[152]\tvalid_0's rmse: 1884.78\n",
      "[153]\tvalid_0's rmse: 1884.12\n",
      "[154]\tvalid_0's rmse: 1883.2\n",
      "[155]\tvalid_0's rmse: 1882.64\n",
      "[156]\tvalid_0's rmse: 1881.7\n",
      "[157]\tvalid_0's rmse: 1881.37\n",
      "[158]\tvalid_0's rmse: 1880.56\n",
      "[159]\tvalid_0's rmse: 1880.06\n",
      "[160]\tvalid_0's rmse: 1879.2\n",
      "[161]\tvalid_0's rmse: 1878.28\n",
      "[162]\tvalid_0's rmse: 1877.65\n",
      "[163]\tvalid_0's rmse: 1876.53\n",
      "[164]\tvalid_0's rmse: 1876.05\n",
      "[165]\tvalid_0's rmse: 1875.56\n",
      "[166]\tvalid_0's rmse: 1874.81\n",
      "[167]\tvalid_0's rmse: 1873.71\n",
      "[168]\tvalid_0's rmse: 1872.72\n",
      "[169]\tvalid_0's rmse: 1871.95\n",
      "[170]\tvalid_0's rmse: 1871.36\n",
      "[171]\tvalid_0's rmse: 1871.04\n",
      "[172]\tvalid_0's rmse: 1870.37\n",
      "[173]\tvalid_0's rmse: 1869.57\n",
      "[174]\tvalid_0's rmse: 1869.34\n",
      "[175]\tvalid_0's rmse: 1868.76\n",
      "[176]\tvalid_0's rmse: 1867.92\n",
      "[177]\tvalid_0's rmse: 1867.25\n",
      "[178]\tvalid_0's rmse: 1866.3\n",
      "[179]\tvalid_0's rmse: 1865.96\n",
      "[180]\tvalid_0's rmse: 1865.23\n",
      "[181]\tvalid_0's rmse: 1864.93\n",
      "[182]\tvalid_0's rmse: 1864.48\n",
      "[183]\tvalid_0's rmse: 1864.08\n",
      "[184]\tvalid_0's rmse: 1863.37\n",
      "[185]\tvalid_0's rmse: 1862.79\n",
      "[186]\tvalid_0's rmse: 1862.41\n",
      "[187]\tvalid_0's rmse: 1862.04\n",
      "[188]\tvalid_0's rmse: 1861.42\n",
      "[189]\tvalid_0's rmse: 1860.98\n",
      "[190]\tvalid_0's rmse: 1860.42\n",
      "[191]\tvalid_0's rmse: 1860.01\n",
      "[192]\tvalid_0's rmse: 1859.37\n",
      "[193]\tvalid_0's rmse: 1858.88\n",
      "[194]\tvalid_0's rmse: 1858.38\n",
      "[195]\tvalid_0's rmse: 1857.61\n",
      "[196]\tvalid_0's rmse: 1857.07\n",
      "[197]\tvalid_0's rmse: 1856.8\n",
      "[198]\tvalid_0's rmse: 1856.41\n",
      "[199]\tvalid_0's rmse: 1856.02\n",
      "[200]\tvalid_0's rmse: 1855.32\n",
      "[201]\tvalid_0's rmse: 1854.8\n",
      "[202]\tvalid_0's rmse: 1854.06\n",
      "[203]\tvalid_0's rmse: 1853.69\n",
      "[204]\tvalid_0's rmse: 1853.02\n",
      "[205]\tvalid_0's rmse: 1852.43\n",
      "[206]\tvalid_0's rmse: 1851.84\n",
      "[207]\tvalid_0's rmse: 1851.62\n",
      "[208]\tvalid_0's rmse: 1851.06\n",
      "[209]\tvalid_0's rmse: 1850.28\n",
      "[210]\tvalid_0's rmse: 1849.91\n",
      "[211]\tvalid_0's rmse: 1849.34\n",
      "[212]\tvalid_0's rmse: 1848.7\n",
      "[213]\tvalid_0's rmse: 1848.25\n",
      "[214]\tvalid_0's rmse: 1847.54\n",
      "[215]\tvalid_0's rmse: 1847.04\n",
      "[216]\tvalid_0's rmse: 1846.84\n",
      "[217]\tvalid_0's rmse: 1846.59\n",
      "[218]\tvalid_0's rmse: 1846.03\n",
      "[219]\tvalid_0's rmse: 1845.23\n",
      "[220]\tvalid_0's rmse: 1844.64\n",
      "[221]\tvalid_0's rmse: 1844.25\n",
      "[222]\tvalid_0's rmse: 1844.04\n",
      "[223]\tvalid_0's rmse: 1843.65\n",
      "[224]\tvalid_0's rmse: 1843.44\n",
      "[225]\tvalid_0's rmse: 1842.99\n",
      "[226]\tvalid_0's rmse: 1842.71\n",
      "[227]\tvalid_0's rmse: 1842.16\n",
      "[228]\tvalid_0's rmse: 1841.61\n",
      "[229]\tvalid_0's rmse: 1841.21\n",
      "[230]\tvalid_0's rmse: 1840.57\n",
      "[231]\tvalid_0's rmse: 1840.46\n",
      "[232]\tvalid_0's rmse: 1839.96\n",
      "[233]\tvalid_0's rmse: 1839.43\n",
      "[234]\tvalid_0's rmse: 1839.33\n",
      "[235]\tvalid_0's rmse: 1839.16\n",
      "[236]\tvalid_0's rmse: 1838.7\n",
      "[237]\tvalid_0's rmse: 1838.19\n",
      "[238]\tvalid_0's rmse: 1837.78\n",
      "[239]\tvalid_0's rmse: 1837.47\n",
      "[240]\tvalid_0's rmse: 1837.26\n",
      "[241]\tvalid_0's rmse: 1836.84\n",
      "[242]\tvalid_0's rmse: 1836.58\n",
      "[243]\tvalid_0's rmse: 1836.06\n",
      "[244]\tvalid_0's rmse: 1835.66\n",
      "[245]\tvalid_0's rmse: 1835.21\n",
      "[246]\tvalid_0's rmse: 1834.69\n",
      "[247]\tvalid_0's rmse: 1834.34\n",
      "[248]\tvalid_0's rmse: 1833.98\n",
      "[249]\tvalid_0's rmse: 1833.63\n",
      "[250]\tvalid_0's rmse: 1833.21\n",
      "[251]\tvalid_0's rmse: 1832.77\n",
      "[252]\tvalid_0's rmse: 1832.5\n",
      "[253]\tvalid_0's rmse: 1832.06\n",
      "[254]\tvalid_0's rmse: 1831.89\n",
      "[255]\tvalid_0's rmse: 1831.73\n",
      "[256]\tvalid_0's rmse: 1831.44\n",
      "[257]\tvalid_0's rmse: 1831.01\n",
      "[258]\tvalid_0's rmse: 1830.8\n",
      "[259]\tvalid_0's rmse: 1830.3\n",
      "[260]\tvalid_0's rmse: 1830.03\n",
      "[261]\tvalid_0's rmse: 1829.63\n",
      "[262]\tvalid_0's rmse: 1829.33\n",
      "[263]\tvalid_0's rmse: 1829\n",
      "[264]\tvalid_0's rmse: 1828.81\n"
     ]
    },
    {
     "name": "stdout",
     "output_type": "stream",
     "text": [
      "[265]\tvalid_0's rmse: 1828.34\n",
      "[266]\tvalid_0's rmse: 1827.81\n",
      "[267]\tvalid_0's rmse: 1827.56\n",
      "[268]\tvalid_0's rmse: 1827.14\n",
      "[269]\tvalid_0's rmse: 1826.9\n",
      "[270]\tvalid_0's rmse: 1826.62\n",
      "[271]\tvalid_0's rmse: 1826.23\n",
      "[272]\tvalid_0's rmse: 1826.06\n",
      "[273]\tvalid_0's rmse: 1825.72\n",
      "[274]\tvalid_0's rmse: 1825.39\n",
      "[275]\tvalid_0's rmse: 1825.08\n",
      "[276]\tvalid_0's rmse: 1824.8\n",
      "[277]\tvalid_0's rmse: 1824.35\n",
      "[278]\tvalid_0's rmse: 1823.82\n",
      "[279]\tvalid_0's rmse: 1823.52\n",
      "[280]\tvalid_0's rmse: 1823.01\n",
      "[281]\tvalid_0's rmse: 1822.53\n",
      "[282]\tvalid_0's rmse: 1822.14\n",
      "[283]\tvalid_0's rmse: 1821.7\n",
      "[284]\tvalid_0's rmse: 1821.58\n",
      "[285]\tvalid_0's rmse: 1821.37\n",
      "[286]\tvalid_0's rmse: 1821.19\n",
      "[287]\tvalid_0's rmse: 1820.86\n",
      "[288]\tvalid_0's rmse: 1820.51\n",
      "[289]\tvalid_0's rmse: 1820.11\n",
      "[290]\tvalid_0's rmse: 1819.69\n",
      "[291]\tvalid_0's rmse: 1819.38\n",
      "[292]\tvalid_0's rmse: 1819.23\n",
      "[293]\tvalid_0's rmse: 1819.12\n",
      "[294]\tvalid_0's rmse: 1818.76\n",
      "[295]\tvalid_0's rmse: 1818.39\n",
      "[296]\tvalid_0's rmse: 1818.05\n",
      "[297]\tvalid_0's rmse: 1817.71\n",
      "[298]\tvalid_0's rmse: 1817.38\n",
      "[299]\tvalid_0's rmse: 1817.2\n",
      "[300]\tvalid_0's rmse: 1816.98\n",
      "[301]\tvalid_0's rmse: 1816.73\n",
      "[302]\tvalid_0's rmse: 1816.44\n",
      "[303]\tvalid_0's rmse: 1816.29\n",
      "[304]\tvalid_0's rmse: 1815.79\n",
      "[305]\tvalid_0's rmse: 1815.44\n",
      "[306]\tvalid_0's rmse: 1815.12\n",
      "[307]\tvalid_0's rmse: 1814.65\n",
      "[308]\tvalid_0's rmse: 1814.52\n",
      "[309]\tvalid_0's rmse: 1814.15\n",
      "[310]\tvalid_0's rmse: 1813.71\n",
      "[311]\tvalid_0's rmse: 1813.43\n",
      "[312]\tvalid_0's rmse: 1813.18\n",
      "[313]\tvalid_0's rmse: 1812.91\n",
      "[314]\tvalid_0's rmse: 1812.52\n",
      "[315]\tvalid_0's rmse: 1812.15\n",
      "[316]\tvalid_0's rmse: 1811.67\n",
      "[317]\tvalid_0's rmse: 1811.36\n",
      "[318]\tvalid_0's rmse: 1810.99\n",
      "[319]\tvalid_0's rmse: 1810.73\n",
      "[320]\tvalid_0's rmse: 1810.55\n",
      "[321]\tvalid_0's rmse: 1810.29\n",
      "[322]\tvalid_0's rmse: 1810.08\n",
      "[323]\tvalid_0's rmse: 1809.88\n",
      "[324]\tvalid_0's rmse: 1809.52\n",
      "[325]\tvalid_0's rmse: 1809.18\n",
      "[326]\tvalid_0's rmse: 1808.88\n",
      "[327]\tvalid_0's rmse: 1808.63\n",
      "[328]\tvalid_0's rmse: 1808.34\n",
      "[329]\tvalid_0's rmse: 1808.22\n",
      "[330]\tvalid_0's rmse: 1807.93\n",
      "[331]\tvalid_0's rmse: 1807.64\n",
      "[332]\tvalid_0's rmse: 1807.38\n",
      "[333]\tvalid_0's rmse: 1807.09\n",
      "[334]\tvalid_0's rmse: 1806.71\n",
      "[335]\tvalid_0's rmse: 1806.33\n",
      "[336]\tvalid_0's rmse: 1806.05\n",
      "[337]\tvalid_0's rmse: 1805.78\n",
      "[338]\tvalid_0's rmse: 1805.73\n",
      "[339]\tvalid_0's rmse: 1805.58\n",
      "[340]\tvalid_0's rmse: 1805.26\n",
      "[341]\tvalid_0's rmse: 1804.89\n",
      "[342]\tvalid_0's rmse: 1804.78\n",
      "[343]\tvalid_0's rmse: 1804.68\n",
      "[344]\tvalid_0's rmse: 1804.37\n",
      "[345]\tvalid_0's rmse: 1804.12\n",
      "[346]\tvalid_0's rmse: 1803.67\n",
      "[347]\tvalid_0's rmse: 1803.41\n",
      "[348]\tvalid_0's rmse: 1803.22\n",
      "[349]\tvalid_0's rmse: 1802.76\n",
      "[350]\tvalid_0's rmse: 1802.56\n",
      "[351]\tvalid_0's rmse: 1802.38\n",
      "[352]\tvalid_0's rmse: 1802\n",
      "[353]\tvalid_0's rmse: 1801.66\n",
      "[354]\tvalid_0's rmse: 1801.46\n",
      "[355]\tvalid_0's rmse: 1801.22\n",
      "[356]\tvalid_0's rmse: 1801.14\n",
      "[357]\tvalid_0's rmse: 1801.01\n",
      "[358]\tvalid_0's rmse: 1800.94\n",
      "[359]\tvalid_0's rmse: 1800.65\n",
      "[360]\tvalid_0's rmse: 1800.43\n",
      "[361]\tvalid_0's rmse: 1800.22\n",
      "[362]\tvalid_0's rmse: 1799.9\n",
      "[363]\tvalid_0's rmse: 1799.79\n",
      "[364]\tvalid_0's rmse: 1799.53\n",
      "[365]\tvalid_0's rmse: 1799.2\n",
      "[366]\tvalid_0's rmse: 1799.01\n",
      "[367]\tvalid_0's rmse: 1798.77\n",
      "[368]\tvalid_0's rmse: 1798.62\n",
      "[369]\tvalid_0's rmse: 1798.47\n",
      "[370]\tvalid_0's rmse: 1798.18\n",
      "[371]\tvalid_0's rmse: 1797.92\n",
      "[372]\tvalid_0's rmse: 1797.76\n",
      "[373]\tvalid_0's rmse: 1797.65\n",
      "[374]\tvalid_0's rmse: 1797.48\n",
      "[375]\tvalid_0's rmse: 1797.35\n",
      "[376]\tvalid_0's rmse: 1797.27\n",
      "[377]\tvalid_0's rmse: 1796.97\n",
      "[378]\tvalid_0's rmse: 1796.9\n",
      "[379]\tvalid_0's rmse: 1796.78\n",
      "[380]\tvalid_0's rmse: 1796.5\n",
      "[381]\tvalid_0's rmse: 1796.29\n",
      "[382]\tvalid_0's rmse: 1796.07\n",
      "[383]\tvalid_0's rmse: 1795.93\n",
      "[384]\tvalid_0's rmse: 1795.92\n",
      "[385]\tvalid_0's rmse: 1795.8\n",
      "[386]\tvalid_0's rmse: 1795.65\n",
      "[387]\tvalid_0's rmse: 1795.49\n",
      "[388]\tvalid_0's rmse: 1795.2\n",
      "[389]\tvalid_0's rmse: 1795.07\n",
      "[390]\tvalid_0's rmse: 1794.85\n",
      "[391]\tvalid_0's rmse: 1794.75\n",
      "[392]\tvalid_0's rmse: 1794.62\n",
      "[393]\tvalid_0's rmse: 1794.48\n",
      "[394]\tvalid_0's rmse: 1794.36\n",
      "[395]\tvalid_0's rmse: 1794.03\n",
      "[396]\tvalid_0's rmse: 1793.79\n",
      "[397]\tvalid_0's rmse: 1793.72\n",
      "[398]\tvalid_0's rmse: 1793.69\n",
      "[399]\tvalid_0's rmse: 1793.4\n",
      "[400]\tvalid_0's rmse: 1793.21\n",
      "[401]\tvalid_0's rmse: 1793.13\n",
      "[402]\tvalid_0's rmse: 1793.1\n",
      "[403]\tvalid_0's rmse: 1793.06\n",
      "[404]\tvalid_0's rmse: 1792.97\n",
      "[405]\tvalid_0's rmse: 1792.94\n",
      "[406]\tvalid_0's rmse: 1792.61\n",
      "[407]\tvalid_0's rmse: 1792.44\n",
      "[408]\tvalid_0's rmse: 1792.27\n",
      "[409]\tvalid_0's rmse: 1792.13\n",
      "[410]\tvalid_0's rmse: 1791.94\n",
      "[411]\tvalid_0's rmse: 1791.83\n",
      "[412]\tvalid_0's rmse: 1791.7\n",
      "[413]\tvalid_0's rmse: 1791.43\n",
      "[414]\tvalid_0's rmse: 1791.37\n",
      "[415]\tvalid_0's rmse: 1791.16\n",
      "[416]\tvalid_0's rmse: 1791.1\n",
      "[417]\tvalid_0's rmse: 1790.84\n",
      "[418]\tvalid_0's rmse: 1790.7\n",
      "[419]\tvalid_0's rmse: 1790.67\n",
      "[420]\tvalid_0's rmse: 1790.48\n",
      "[421]\tvalid_0's rmse: 1790.27\n",
      "[422]\tvalid_0's rmse: 1789.89\n",
      "[423]\tvalid_0's rmse: 1789.81\n",
      "[424]\tvalid_0's rmse: 1789.68\n",
      "[425]\tvalid_0's rmse: 1789.65\n",
      "[426]\tvalid_0's rmse: 1789.47\n",
      "[427]\tvalid_0's rmse: 1789.3\n",
      "[428]\tvalid_0's rmse: 1789.28\n",
      "[429]\tvalid_0's rmse: 1788.96\n",
      "[430]\tvalid_0's rmse: 1788.86\n",
      "[431]\tvalid_0's rmse: 1788.68\n",
      "[432]\tvalid_0's rmse: 1788.61\n",
      "[433]\tvalid_0's rmse: 1788.42\n",
      "[434]\tvalid_0's rmse: 1788.33\n",
      "[435]\tvalid_0's rmse: 1788.19\n",
      "[436]\tvalid_0's rmse: 1788.15\n",
      "[437]\tvalid_0's rmse: 1788.03\n",
      "[438]\tvalid_0's rmse: 1788.01\n",
      "[439]\tvalid_0's rmse: 1787.7\n",
      "[440]\tvalid_0's rmse: 1787.47\n",
      "[441]\tvalid_0's rmse: 1787.31\n",
      "[442]\tvalid_0's rmse: 1786.99\n",
      "[443]\tvalid_0's rmse: 1786.9\n",
      "[444]\tvalid_0's rmse: 1786.83\n",
      "[445]\tvalid_0's rmse: 1786.43\n",
      "[446]\tvalid_0's rmse: 1786.21\n",
      "[447]\tvalid_0's rmse: 1786.05\n",
      "[448]\tvalid_0's rmse: 1785.89\n",
      "[449]\tvalid_0's rmse: 1785.81\n",
      "[450]\tvalid_0's rmse: 1785.69\n",
      "[451]\tvalid_0's rmse: 1785.54\n",
      "[452]\tvalid_0's rmse: 1785.33\n",
      "[453]\tvalid_0's rmse: 1785.07\n",
      "[454]\tvalid_0's rmse: 1785.05\n",
      "[455]\tvalid_0's rmse: 1784.72\n",
      "[456]\tvalid_0's rmse: 1784.64\n",
      "[457]\tvalid_0's rmse: 1784.45\n",
      "[458]\tvalid_0's rmse: 1784.28\n",
      "[459]\tvalid_0's rmse: 1784.14\n",
      "[460]\tvalid_0's rmse: 1784.04\n",
      "[461]\tvalid_0's rmse: 1783.9\n",
      "[462]\tvalid_0's rmse: 1783.86\n",
      "[463]\tvalid_0's rmse: 1783.76\n",
      "[464]\tvalid_0's rmse: 1783.53\n",
      "[465]\tvalid_0's rmse: 1783.22\n",
      "[466]\tvalid_0's rmse: 1783\n",
      "[467]\tvalid_0's rmse: 1782.81\n",
      "[468]\tvalid_0's rmse: 1782.51\n",
      "[469]\tvalid_0's rmse: 1782.4\n",
      "[470]\tvalid_0's rmse: 1782.31\n",
      "[471]\tvalid_0's rmse: 1782.19\n",
      "[472]\tvalid_0's rmse: 1782.16\n",
      "[473]\tvalid_0's rmse: 1781.94\n",
      "[474]\tvalid_0's rmse: 1781.7\n",
      "[475]\tvalid_0's rmse: 1781.51\n",
      "[476]\tvalid_0's rmse: 1781.32\n",
      "[477]\tvalid_0's rmse: 1781.19\n",
      "[478]\tvalid_0's rmse: 1781.1\n",
      "[479]\tvalid_0's rmse: 1780.9\n",
      "[480]\tvalid_0's rmse: 1780.85\n",
      "[481]\tvalid_0's rmse: 1780.67\n",
      "[482]\tvalid_0's rmse: 1780.61\n",
      "[483]\tvalid_0's rmse: 1780.47\n",
      "[484]\tvalid_0's rmse: 1780.36\n",
      "[485]\tvalid_0's rmse: 1780.29\n",
      "[486]\tvalid_0's rmse: 1780\n",
      "[487]\tvalid_0's rmse: 1779.82\n",
      "[488]\tvalid_0's rmse: 1779.77\n",
      "[489]\tvalid_0's rmse: 1779.51\n",
      "[490]\tvalid_0's rmse: 1779.3\n",
      "[491]\tvalid_0's rmse: 1779.1\n",
      "[492]\tvalid_0's rmse: 1778.91\n",
      "[493]\tvalid_0's rmse: 1778.78\n",
      "[494]\tvalid_0's rmse: 1778.75\n",
      "[495]\tvalid_0's rmse: 1778.75\n",
      "[496]\tvalid_0's rmse: 1778.67\n",
      "[497]\tvalid_0's rmse: 1778.47\n",
      "[498]\tvalid_0's rmse: 1778.3\n",
      "[499]\tvalid_0's rmse: 1778.14\n",
      "[500]\tvalid_0's rmse: 1778.13\n",
      "[501]\tvalid_0's rmse: 1777.96\n",
      "[502]\tvalid_0's rmse: 1777.94\n",
      "[503]\tvalid_0's rmse: 1777.91\n",
      "[504]\tvalid_0's rmse: 1777.73\n",
      "[505]\tvalid_0's rmse: 1777.61\n",
      "[506]\tvalid_0's rmse: 1777.41\n",
      "[507]\tvalid_0's rmse: 1777.35\n",
      "[508]\tvalid_0's rmse: 1777.33\n",
      "[509]\tvalid_0's rmse: 1777.33\n",
      "[510]\tvalid_0's rmse: 1777.26\n",
      "[511]\tvalid_0's rmse: 1777.11\n",
      "[512]\tvalid_0's rmse: 1776.96\n",
      "[513]\tvalid_0's rmse: 1776.74\n",
      "[514]\tvalid_0's rmse: 1776.47\n",
      "[515]\tvalid_0's rmse: 1776.26\n",
      "[516]\tvalid_0's rmse: 1776.21\n",
      "[517]\tvalid_0's rmse: 1776.01\n",
      "[518]\tvalid_0's rmse: 1775.82\n",
      "[519]\tvalid_0's rmse: 1775.7\n",
      "[520]\tvalid_0's rmse: 1775.53\n",
      "[521]\tvalid_0's rmse: 1775.32\n",
      "[522]\tvalid_0's rmse: 1775.19\n",
      "[523]\tvalid_0's rmse: 1775.07\n",
      "[524]\tvalid_0's rmse: 1774.94\n",
      "[525]\tvalid_0's rmse: 1774.88\n",
      "[526]\tvalid_0's rmse: 1774.78\n",
      "[527]\tvalid_0's rmse: 1774.64\n",
      "[528]\tvalid_0's rmse: 1774.46\n",
      "[529]\tvalid_0's rmse: 1774.46\n",
      "[530]\tvalid_0's rmse: 1774.42\n",
      "[531]\tvalid_0's rmse: 1774.31\n",
      "[532]\tvalid_0's rmse: 1774.17\n",
      "[533]\tvalid_0's rmse: 1774.01\n",
      "[534]\tvalid_0's rmse: 1773.85\n",
      "[535]\tvalid_0's rmse: 1773.56\n",
      "[536]\tvalid_0's rmse: 1773.37\n",
      "[537]\tvalid_0's rmse: 1773.18\n",
      "[538]\tvalid_0's rmse: 1773.02\n",
      "[539]\tvalid_0's rmse: 1772.92\n",
      "[540]\tvalid_0's rmse: 1772.87\n",
      "[541]\tvalid_0's rmse: 1772.78\n",
      "[542]\tvalid_0's rmse: 1772.75\n",
      "[543]\tvalid_0's rmse: 1772.58\n",
      "[544]\tvalid_0's rmse: 1772.39\n",
      "[545]\tvalid_0's rmse: 1772.36\n",
      "[546]\tvalid_0's rmse: 1772.18\n",
      "[547]\tvalid_0's rmse: 1772.08\n",
      "[548]\tvalid_0's rmse: 1771.9\n"
     ]
    },
    {
     "name": "stdout",
     "output_type": "stream",
     "text": [
      "[549]\tvalid_0's rmse: 1771.67\n",
      "[550]\tvalid_0's rmse: 1771.47\n",
      "[551]\tvalid_0's rmse: 1771.49\n",
      "[552]\tvalid_0's rmse: 1771.51\n",
      "[553]\tvalid_0's rmse: 1771.33\n",
      "[554]\tvalid_0's rmse: 1771.07\n",
      "[555]\tvalid_0's rmse: 1771\n",
      "[556]\tvalid_0's rmse: 1770.94\n",
      "[557]\tvalid_0's rmse: 1770.89\n",
      "[558]\tvalid_0's rmse: 1770.78\n",
      "[559]\tvalid_0's rmse: 1770.72\n",
      "[560]\tvalid_0's rmse: 1770.73\n",
      "[561]\tvalid_0's rmse: 1770.51\n",
      "[562]\tvalid_0's rmse: 1770.39\n",
      "[563]\tvalid_0's rmse: 1770.31\n",
      "[564]\tvalid_0's rmse: 1770.17\n",
      "[565]\tvalid_0's rmse: 1769.92\n",
      "[566]\tvalid_0's rmse: 1769.86\n",
      "[567]\tvalid_0's rmse: 1769.6\n",
      "[568]\tvalid_0's rmse: 1769.47\n",
      "[569]\tvalid_0's rmse: 1769.33\n",
      "[570]\tvalid_0's rmse: 1769.18\n",
      "[571]\tvalid_0's rmse: 1769.14\n",
      "[572]\tvalid_0's rmse: 1769.13\n",
      "[573]\tvalid_0's rmse: 1768.98\n",
      "[574]\tvalid_0's rmse: 1768.76\n",
      "[575]\tvalid_0's rmse: 1768.57\n",
      "[576]\tvalid_0's rmse: 1768.45\n",
      "[577]\tvalid_0's rmse: 1768.28\n",
      "[578]\tvalid_0's rmse: 1768.15\n",
      "[579]\tvalid_0's rmse: 1768\n",
      "[580]\tvalid_0's rmse: 1767.81\n",
      "[581]\tvalid_0's rmse: 1767.75\n",
      "[582]\tvalid_0's rmse: 1767.75\n",
      "[583]\tvalid_0's rmse: 1767.68\n",
      "[584]\tvalid_0's rmse: 1767.61\n",
      "[585]\tvalid_0's rmse: 1767.43\n",
      "[586]\tvalid_0's rmse: 1767.33\n",
      "[587]\tvalid_0's rmse: 1767.11\n",
      "[588]\tvalid_0's rmse: 1766.96\n",
      "[589]\tvalid_0's rmse: 1766.76\n",
      "[590]\tvalid_0's rmse: 1766.6\n",
      "[591]\tvalid_0's rmse: 1766.47\n",
      "[592]\tvalid_0's rmse: 1766.29\n",
      "[593]\tvalid_0's rmse: 1766.15\n",
      "[594]\tvalid_0's rmse: 1766.15\n",
      "[595]\tvalid_0's rmse: 1765.98\n",
      "[596]\tvalid_0's rmse: 1765.91\n",
      "[597]\tvalid_0's rmse: 1765.78\n",
      "[598]\tvalid_0's rmse: 1765.71\n",
      "[599]\tvalid_0's rmse: 1765.63\n",
      "[600]\tvalid_0's rmse: 1765.46\n",
      "[601]\tvalid_0's rmse: 1765.39\n",
      "[602]\tvalid_0's rmse: 1765.34\n",
      "[603]\tvalid_0's rmse: 1765.25\n",
      "[604]\tvalid_0's rmse: 1765.05\n",
      "[605]\tvalid_0's rmse: 1764.9\n",
      "[606]\tvalid_0's rmse: 1764.72\n",
      "[607]\tvalid_0's rmse: 1764.57\n",
      "[608]\tvalid_0's rmse: 1764.44\n",
      "[609]\tvalid_0's rmse: 1764.22\n",
      "[610]\tvalid_0's rmse: 1764.05\n",
      "[611]\tvalid_0's rmse: 1763.98\n",
      "[612]\tvalid_0's rmse: 1763.81\n",
      "[613]\tvalid_0's rmse: 1763.73\n",
      "[614]\tvalid_0's rmse: 1763.63\n",
      "[615]\tvalid_0's rmse: 1763.5\n",
      "[616]\tvalid_0's rmse: 1763.42\n",
      "[617]\tvalid_0's rmse: 1763.33\n",
      "[618]\tvalid_0's rmse: 1763.31\n",
      "[619]\tvalid_0's rmse: 1763.14\n",
      "[620]\tvalid_0's rmse: 1763.02\n",
      "[621]\tvalid_0's rmse: 1762.96\n",
      "[622]\tvalid_0's rmse: 1762.84\n",
      "[623]\tvalid_0's rmse: 1762.81\n",
      "[624]\tvalid_0's rmse: 1762.78\n",
      "[625]\tvalid_0's rmse: 1762.64\n",
      "[626]\tvalid_0's rmse: 1762.53\n",
      "[627]\tvalid_0's rmse: 1762.52\n",
      "[628]\tvalid_0's rmse: 1762.5\n",
      "[629]\tvalid_0's rmse: 1762.45\n",
      "[630]\tvalid_0's rmse: 1762.38\n",
      "[631]\tvalid_0's rmse: 1762.29\n",
      "[632]\tvalid_0's rmse: 1762.25\n",
      "[633]\tvalid_0's rmse: 1762.21\n",
      "[634]\tvalid_0's rmse: 1762.16\n",
      "[635]\tvalid_0's rmse: 1762.02\n",
      "[636]\tvalid_0's rmse: 1762\n",
      "[637]\tvalid_0's rmse: 1761.86\n",
      "[638]\tvalid_0's rmse: 1761.75\n",
      "[639]\tvalid_0's rmse: 1761.68\n",
      "[640]\tvalid_0's rmse: 1761.48\n",
      "[641]\tvalid_0's rmse: 1761.45\n",
      "[642]\tvalid_0's rmse: 1761.4\n",
      "[643]\tvalid_0's rmse: 1761.26\n",
      "[644]\tvalid_0's rmse: 1761.18\n",
      "[645]\tvalid_0's rmse: 1761.04\n",
      "[646]\tvalid_0's rmse: 1760.89\n",
      "[647]\tvalid_0's rmse: 1760.84\n",
      "[648]\tvalid_0's rmse: 1760.8\n",
      "[649]\tvalid_0's rmse: 1760.67\n",
      "[650]\tvalid_0's rmse: 1760.6\n",
      "[651]\tvalid_0's rmse: 1760.61\n",
      "[652]\tvalid_0's rmse: 1760.39\n",
      "[653]\tvalid_0's rmse: 1760.22\n",
      "[654]\tvalid_0's rmse: 1760.13\n",
      "[655]\tvalid_0's rmse: 1760.05\n",
      "[656]\tvalid_0's rmse: 1759.9\n",
      "[657]\tvalid_0's rmse: 1759.76\n",
      "[658]\tvalid_0's rmse: 1759.71\n",
      "[659]\tvalid_0's rmse: 1759.53\n",
      "[660]\tvalid_0's rmse: 1759.4\n",
      "[661]\tvalid_0's rmse: 1759.32\n",
      "[662]\tvalid_0's rmse: 1759.31\n",
      "[663]\tvalid_0's rmse: 1759.23\n",
      "[664]\tvalid_0's rmse: 1759.1\n",
      "[665]\tvalid_0's rmse: 1758.99\n",
      "[666]\tvalid_0's rmse: 1758.82\n",
      "[667]\tvalid_0's rmse: 1758.52\n",
      "[668]\tvalid_0's rmse: 1758.46\n",
      "[669]\tvalid_0's rmse: 1758.45\n",
      "[670]\tvalid_0's rmse: 1758.37\n",
      "[671]\tvalid_0's rmse: 1758.21\n",
      "[672]\tvalid_0's rmse: 1758.07\n",
      "[673]\tvalid_0's rmse: 1758.04\n",
      "[674]\tvalid_0's rmse: 1758\n",
      "[675]\tvalid_0's rmse: 1757.87\n",
      "[676]\tvalid_0's rmse: 1757.72\n",
      "[677]\tvalid_0's rmse: 1757.7\n",
      "[678]\tvalid_0's rmse: 1757.58\n",
      "[679]\tvalid_0's rmse: 1757.42\n",
      "[680]\tvalid_0's rmse: 1757.36\n",
      "[681]\tvalid_0's rmse: 1757.29\n",
      "[682]\tvalid_0's rmse: 1757.15\n",
      "[683]\tvalid_0's rmse: 1756.99\n",
      "[684]\tvalid_0's rmse: 1756.78\n",
      "[685]\tvalid_0's rmse: 1756.65\n",
      "[686]\tvalid_0's rmse: 1756.46\n",
      "[687]\tvalid_0's rmse: 1756.38\n",
      "[688]\tvalid_0's rmse: 1756.32\n",
      "[689]\tvalid_0's rmse: 1756.27\n",
      "[690]\tvalid_0's rmse: 1756.2\n",
      "[691]\tvalid_0's rmse: 1756.21\n",
      "[692]\tvalid_0's rmse: 1756.2\n",
      "[693]\tvalid_0's rmse: 1756.03\n",
      "[694]\tvalid_0's rmse: 1755.87\n",
      "[695]\tvalid_0's rmse: 1755.84\n",
      "[696]\tvalid_0's rmse: 1755.68\n",
      "[697]\tvalid_0's rmse: 1755.57\n",
      "[698]\tvalid_0's rmse: 1755.33\n",
      "[699]\tvalid_0's rmse: 1755.31\n",
      "[700]\tvalid_0's rmse: 1755.19\n",
      "[701]\tvalid_0's rmse: 1755.05\n",
      "[702]\tvalid_0's rmse: 1754.92\n",
      "[703]\tvalid_0's rmse: 1754.68\n",
      "[704]\tvalid_0's rmse: 1754.54\n",
      "[705]\tvalid_0's rmse: 1754.49\n",
      "[706]\tvalid_0's rmse: 1754.43\n",
      "[707]\tvalid_0's rmse: 1754.42\n",
      "[708]\tvalid_0's rmse: 1754.44\n",
      "[709]\tvalid_0's rmse: 1754.34\n",
      "[710]\tvalid_0's rmse: 1754.21\n",
      "[711]\tvalid_0's rmse: 1754.16\n",
      "[712]\tvalid_0's rmse: 1753.93\n",
      "[713]\tvalid_0's rmse: 1753.86\n",
      "[714]\tvalid_0's rmse: 1753.79\n",
      "[715]\tvalid_0's rmse: 1753.59\n",
      "[716]\tvalid_0's rmse: 1753.54\n",
      "[717]\tvalid_0's rmse: 1753.44\n",
      "[718]\tvalid_0's rmse: 1753.39\n",
      "[719]\tvalid_0's rmse: 1753.32\n",
      "[720]\tvalid_0's rmse: 1753.31\n",
      "[721]\tvalid_0's rmse: 1753.21\n",
      "[722]\tvalid_0's rmse: 1753.08\n",
      "[723]\tvalid_0's rmse: 1753.01\n",
      "[724]\tvalid_0's rmse: 1752.82\n",
      "[725]\tvalid_0's rmse: 1752.76\n",
      "[726]\tvalid_0's rmse: 1752.64\n",
      "[727]\tvalid_0's rmse: 1752.62\n",
      "[728]\tvalid_0's rmse: 1752.56\n",
      "[729]\tvalid_0's rmse: 1752.52\n",
      "[730]\tvalid_0's rmse: 1752.48\n",
      "[731]\tvalid_0's rmse: 1752.37\n",
      "[732]\tvalid_0's rmse: 1752.26\n",
      "[733]\tvalid_0's rmse: 1752.18\n",
      "[734]\tvalid_0's rmse: 1752.12\n",
      "[735]\tvalid_0's rmse: 1751.98\n",
      "[736]\tvalid_0's rmse: 1751.87\n",
      "[737]\tvalid_0's rmse: 1751.69\n",
      "[738]\tvalid_0's rmse: 1751.58\n",
      "[739]\tvalid_0's rmse: 1751.56\n",
      "[740]\tvalid_0's rmse: 1751.44\n",
      "[741]\tvalid_0's rmse: 1751.38\n",
      "[742]\tvalid_0's rmse: 1751.24\n",
      "[743]\tvalid_0's rmse: 1751.07\n",
      "[744]\tvalid_0's rmse: 1750.85\n",
      "[745]\tvalid_0's rmse: 1750.76\n",
      "[746]\tvalid_0's rmse: 1750.72\n",
      "[747]\tvalid_0's rmse: 1750.71\n",
      "[748]\tvalid_0's rmse: 1750.71\n",
      "[749]\tvalid_0's rmse: 1750.59\n",
      "[750]\tvalid_0's rmse: 1750.6\n",
      "[751]\tvalid_0's rmse: 1750.4\n",
      "[752]\tvalid_0's rmse: 1750.36\n",
      "[753]\tvalid_0's rmse: 1750.21\n",
      "[754]\tvalid_0's rmse: 1750.05\n",
      "[755]\tvalid_0's rmse: 1749.93\n",
      "[756]\tvalid_0's rmse: 1749.66\n",
      "[757]\tvalid_0's rmse: 1749.54\n",
      "[758]\tvalid_0's rmse: 1749.51\n",
      "[759]\tvalid_0's rmse: 1749.49\n",
      "[760]\tvalid_0's rmse: 1749.41\n",
      "[761]\tvalid_0's rmse: 1749.24\n",
      "[762]\tvalid_0's rmse: 1749.22\n",
      "[763]\tvalid_0's rmse: 1749.21\n",
      "[764]\tvalid_0's rmse: 1749.12\n",
      "[765]\tvalid_0's rmse: 1749.12\n",
      "[766]\tvalid_0's rmse: 1749.05\n",
      "[767]\tvalid_0's rmse: 1748.95\n",
      "[768]\tvalid_0's rmse: 1748.81\n",
      "[769]\tvalid_0's rmse: 1748.71\n",
      "[770]\tvalid_0's rmse: 1748.67\n",
      "[771]\tvalid_0's rmse: 1748.57\n",
      "[772]\tvalid_0's rmse: 1748.58\n",
      "[773]\tvalid_0's rmse: 1748.53\n",
      "[774]\tvalid_0's rmse: 1748.35\n",
      "[775]\tvalid_0's rmse: 1748.24\n",
      "[776]\tvalid_0's rmse: 1748.19\n",
      "[777]\tvalid_0's rmse: 1748.21\n",
      "[778]\tvalid_0's rmse: 1748.16\n",
      "[779]\tvalid_0's rmse: 1748.14\n",
      "[780]\tvalid_0's rmse: 1748.07\n",
      "[781]\tvalid_0's rmse: 1748.02\n",
      "[782]\tvalid_0's rmse: 1748\n",
      "[783]\tvalid_0's rmse: 1747.96\n",
      "[784]\tvalid_0's rmse: 1747.85\n",
      "[785]\tvalid_0's rmse: 1747.73\n",
      "[786]\tvalid_0's rmse: 1747.78\n",
      "[787]\tvalid_0's rmse: 1747.73\n",
      "[788]\tvalid_0's rmse: 1747.66\n",
      "[789]\tvalid_0's rmse: 1747.65\n",
      "[790]\tvalid_0's rmse: 1747.65\n",
      "[791]\tvalid_0's rmse: 1747.53\n",
      "[792]\tvalid_0's rmse: 1747.46\n",
      "[793]\tvalid_0's rmse: 1747.43\n",
      "[794]\tvalid_0's rmse: 1747.32\n",
      "[795]\tvalid_0's rmse: 1747.14\n",
      "[796]\tvalid_0's rmse: 1747.05\n",
      "[797]\tvalid_0's rmse: 1746.98\n",
      "[798]\tvalid_0's rmse: 1746.92\n",
      "[799]\tvalid_0's rmse: 1746.76\n",
      "[800]\tvalid_0's rmse: 1746.74\n",
      "[801]\tvalid_0's rmse: 1746.53\n",
      "[802]\tvalid_0's rmse: 1746.49\n",
      "[803]\tvalid_0's rmse: 1746.42\n",
      "[804]\tvalid_0's rmse: 1746.42\n",
      "[805]\tvalid_0's rmse: 1746.33\n",
      "[806]\tvalid_0's rmse: 1746.29\n",
      "[807]\tvalid_0's rmse: 1746.32\n",
      "[808]\tvalid_0's rmse: 1746.25\n",
      "[809]\tvalid_0's rmse: 1746.12\n",
      "[810]\tvalid_0's rmse: 1746.05\n",
      "[811]\tvalid_0's rmse: 1746.05\n",
      "[812]\tvalid_0's rmse: 1746.04\n",
      "[813]\tvalid_0's rmse: 1745.86\n",
      "[814]\tvalid_0's rmse: 1745.81\n",
      "[815]\tvalid_0's rmse: 1745.81\n",
      "[816]\tvalid_0's rmse: 1745.82\n",
      "[817]\tvalid_0's rmse: 1745.74\n",
      "[818]\tvalid_0's rmse: 1745.68\n",
      "[819]\tvalid_0's rmse: 1745.63\n",
      "[820]\tvalid_0's rmse: 1745.56\n",
      "[821]\tvalid_0's rmse: 1745.46\n",
      "[822]\tvalid_0's rmse: 1745.43\n",
      "[823]\tvalid_0's rmse: 1745.32\n"
     ]
    },
    {
     "name": "stdout",
     "output_type": "stream",
     "text": [
      "[824]\tvalid_0's rmse: 1745.23\n",
      "[825]\tvalid_0's rmse: 1745.15\n",
      "[826]\tvalid_0's rmse: 1745.07\n",
      "[827]\tvalid_0's rmse: 1745.11\n",
      "[828]\tvalid_0's rmse: 1745.11\n",
      "[829]\tvalid_0's rmse: 1745.09\n",
      "[830]\tvalid_0's rmse: 1744.95\n",
      "[831]\tvalid_0's rmse: 1744.89\n",
      "[832]\tvalid_0's rmse: 1744.8\n",
      "[833]\tvalid_0's rmse: 1744.66\n",
      "[834]\tvalid_0's rmse: 1744.48\n",
      "[835]\tvalid_0's rmse: 1744.45\n",
      "[836]\tvalid_0's rmse: 1744.4\n",
      "[837]\tvalid_0's rmse: 1744.4\n",
      "[838]\tvalid_0's rmse: 1744.35\n",
      "[839]\tvalid_0's rmse: 1744.27\n",
      "[840]\tvalid_0's rmse: 1744.25\n",
      "[841]\tvalid_0's rmse: 1744.22\n",
      "[842]\tvalid_0's rmse: 1744.12\n",
      "[843]\tvalid_0's rmse: 1744.06\n",
      "[844]\tvalid_0's rmse: 1743.92\n",
      "[845]\tvalid_0's rmse: 1743.83\n",
      "[846]\tvalid_0's rmse: 1743.75\n",
      "[847]\tvalid_0's rmse: 1743.72\n",
      "[848]\tvalid_0's rmse: 1743.68\n",
      "[849]\tvalid_0's rmse: 1743.7\n",
      "[850]\tvalid_0's rmse: 1743.64\n",
      "[851]\tvalid_0's rmse: 1743.53\n",
      "[852]\tvalid_0's rmse: 1743.45\n",
      "[853]\tvalid_0's rmse: 1743.35\n",
      "[854]\tvalid_0's rmse: 1743.28\n",
      "[855]\tvalid_0's rmse: 1743.2\n",
      "[856]\tvalid_0's rmse: 1743.18\n",
      "[857]\tvalid_0's rmse: 1743.04\n",
      "[858]\tvalid_0's rmse: 1742.95\n",
      "[859]\tvalid_0's rmse: 1742.86\n",
      "[860]\tvalid_0's rmse: 1742.76\n",
      "[861]\tvalid_0's rmse: 1742.74\n",
      "[862]\tvalid_0's rmse: 1742.65\n",
      "[863]\tvalid_0's rmse: 1742.63\n",
      "[864]\tvalid_0's rmse: 1742.57\n",
      "[865]\tvalid_0's rmse: 1742.48\n",
      "[866]\tvalid_0's rmse: 1742.37\n",
      "[867]\tvalid_0's rmse: 1742.32\n",
      "[868]\tvalid_0's rmse: 1742.29\n",
      "[869]\tvalid_0's rmse: 1742.29\n",
      "[870]\tvalid_0's rmse: 1742.22\n",
      "[871]\tvalid_0's rmse: 1742.11\n",
      "[872]\tvalid_0's rmse: 1742\n",
      "[873]\tvalid_0's rmse: 1741.89\n",
      "[874]\tvalid_0's rmse: 1741.79\n",
      "[875]\tvalid_0's rmse: 1741.66\n",
      "[876]\tvalid_0's rmse: 1741.58\n",
      "[877]\tvalid_0's rmse: 1741.52\n",
      "[878]\tvalid_0's rmse: 1741.43\n",
      "[879]\tvalid_0's rmse: 1741.41\n",
      "[880]\tvalid_0's rmse: 1741.39\n",
      "[881]\tvalid_0's rmse: 1741.29\n",
      "[882]\tvalid_0's rmse: 1741.31\n",
      "[883]\tvalid_0's rmse: 1741.3\n",
      "[884]\tvalid_0's rmse: 1741.29\n",
      "[885]\tvalid_0's rmse: 1741.23\n",
      "[886]\tvalid_0's rmse: 1741.24\n",
      "[887]\tvalid_0's rmse: 1741.18\n",
      "[888]\tvalid_0's rmse: 1741.15\n",
      "[889]\tvalid_0's rmse: 1741.13\n",
      "[890]\tvalid_0's rmse: 1741.08\n",
      "[891]\tvalid_0's rmse: 1741.04\n",
      "[892]\tvalid_0's rmse: 1740.88\n",
      "[893]\tvalid_0's rmse: 1740.83\n",
      "[894]\tvalid_0's rmse: 1740.73\n",
      "[895]\tvalid_0's rmse: 1740.57\n",
      "[896]\tvalid_0's rmse: 1740.58\n",
      "[897]\tvalid_0's rmse: 1740.53\n",
      "[898]\tvalid_0's rmse: 1740.52\n",
      "[899]\tvalid_0's rmse: 1740.37\n",
      "[900]\tvalid_0's rmse: 1740.16\n",
      "[901]\tvalid_0's rmse: 1740.01\n",
      "[902]\tvalid_0's rmse: 1739.99\n",
      "[903]\tvalid_0's rmse: 1739.97\n",
      "[904]\tvalid_0's rmse: 1739.88\n",
      "[905]\tvalid_0's rmse: 1739.84\n",
      "[906]\tvalid_0's rmse: 1739.65\n",
      "[907]\tvalid_0's rmse: 1739.55\n",
      "[908]\tvalid_0's rmse: 1739.37\n",
      "[909]\tvalid_0's rmse: 1739.33\n",
      "[910]\tvalid_0's rmse: 1739.27\n",
      "[911]\tvalid_0's rmse: 1739.17\n",
      "[912]\tvalid_0's rmse: 1739.09\n",
      "[913]\tvalid_0's rmse: 1738.99\n",
      "[914]\tvalid_0's rmse: 1738.99\n",
      "[915]\tvalid_0's rmse: 1738.94\n",
      "[916]\tvalid_0's rmse: 1738.93\n",
      "[917]\tvalid_0's rmse: 1738.92\n",
      "[918]\tvalid_0's rmse: 1738.9\n",
      "[919]\tvalid_0's rmse: 1738.93\n",
      "[920]\tvalid_0's rmse: 1738.92\n",
      "[921]\tvalid_0's rmse: 1738.78\n",
      "[922]\tvalid_0's rmse: 1738.75\n",
      "[923]\tvalid_0's rmse: 1738.66\n",
      "[924]\tvalid_0's rmse: 1738.63\n",
      "[925]\tvalid_0's rmse: 1738.57\n",
      "[926]\tvalid_0's rmse: 1738.55\n",
      "[927]\tvalid_0's rmse: 1738.48\n",
      "[928]\tvalid_0's rmse: 1738.31\n",
      "[929]\tvalid_0's rmse: 1738.27\n",
      "[930]\tvalid_0's rmse: 1738.18\n",
      "[931]\tvalid_0's rmse: 1738.09\n",
      "[932]\tvalid_0's rmse: 1737.96\n",
      "[933]\tvalid_0's rmse: 1737.85\n",
      "[934]\tvalid_0's rmse: 1737.77\n",
      "[935]\tvalid_0's rmse: 1737.76\n",
      "[936]\tvalid_0's rmse: 1737.7\n",
      "[937]\tvalid_0's rmse: 1737.68\n",
      "[938]\tvalid_0's rmse: 1737.53\n",
      "[939]\tvalid_0's rmse: 1737.43\n",
      "[940]\tvalid_0's rmse: 1737.31\n",
      "[941]\tvalid_0's rmse: 1737.31\n",
      "[942]\tvalid_0's rmse: 1737.33\n",
      "[943]\tvalid_0's rmse: 1737.27\n",
      "[944]\tvalid_0's rmse: 1737.15\n",
      "[945]\tvalid_0's rmse: 1737.15\n",
      "[946]\tvalid_0's rmse: 1737.11\n",
      "[947]\tvalid_0's rmse: 1737.13\n",
      "[948]\tvalid_0's rmse: 1737.05\n",
      "[949]\tvalid_0's rmse: 1737.06\n",
      "[950]\tvalid_0's rmse: 1736.96\n",
      "[951]\tvalid_0's rmse: 1736.84\n",
      "[952]\tvalid_0's rmse: 1736.74\n",
      "[953]\tvalid_0's rmse: 1736.74\n",
      "[954]\tvalid_0's rmse: 1736.74\n",
      "[955]\tvalid_0's rmse: 1736.63\n",
      "[956]\tvalid_0's rmse: 1736.54\n",
      "[957]\tvalid_0's rmse: 1736.53\n",
      "[958]\tvalid_0's rmse: 1736.47\n",
      "[959]\tvalid_0's rmse: 1736.5\n",
      "[960]\tvalid_0's rmse: 1736.5\n",
      "[961]\tvalid_0's rmse: 1736.37\n",
      "[962]\tvalid_0's rmse: 1736.34\n",
      "[963]\tvalid_0's rmse: 1736.34\n",
      "[964]\tvalid_0's rmse: 1736.29\n",
      "[965]\tvalid_0's rmse: 1736.24\n",
      "[966]\tvalid_0's rmse: 1736.18\n",
      "[967]\tvalid_0's rmse: 1736.14\n",
      "[968]\tvalid_0's rmse: 1736.06\n",
      "[969]\tvalid_0's rmse: 1735.91\n",
      "[970]\tvalid_0's rmse: 1735.83\n",
      "[971]\tvalid_0's rmse: 1735.78\n",
      "[972]\tvalid_0's rmse: 1735.69\n",
      "[973]\tvalid_0's rmse: 1735.65\n",
      "[974]\tvalid_0's rmse: 1735.65\n",
      "[975]\tvalid_0's rmse: 1735.6\n",
      "[976]\tvalid_0's rmse: 1735.53\n",
      "[977]\tvalid_0's rmse: 1735.58\n",
      "[978]\tvalid_0's rmse: 1735.59\n",
      "[979]\tvalid_0's rmse: 1735.56\n",
      "[980]\tvalid_0's rmse: 1735.52\n",
      "[981]\tvalid_0's rmse: 1735.42\n",
      "[982]\tvalid_0's rmse: 1735.34\n",
      "[983]\tvalid_0's rmse: 1735.28\n",
      "[984]\tvalid_0's rmse: 1735.29\n",
      "[985]\tvalid_0's rmse: 1735.22\n",
      "[986]\tvalid_0's rmse: 1735.2\n",
      "[987]\tvalid_0's rmse: 1735.13\n",
      "[988]\tvalid_0's rmse: 1735.06\n",
      "[989]\tvalid_0's rmse: 1735.05\n",
      "[990]\tvalid_0's rmse: 1734.97\n",
      "[991]\tvalid_0's rmse: 1734.85\n",
      "[992]\tvalid_0's rmse: 1734.75\n",
      "[993]\tvalid_0's rmse: 1734.73\n",
      "[994]\tvalid_0's rmse: 1734.67\n",
      "[995]\tvalid_0's rmse: 1734.65\n",
      "[996]\tvalid_0's rmse: 1734.64\n",
      "[997]\tvalid_0's rmse: 1734.59\n",
      "[998]\tvalid_0's rmse: 1734.58\n",
      "[999]\tvalid_0's rmse: 1734.58\n",
      "[1000]\tvalid_0's rmse: 1734.54\n",
      "Did not meet early stopping. Best iteration is:\n",
      "[1000]\tvalid_0's rmse: 1734.54\n",
      "RMSE para LightGBM: 1734.539633153977\n"
     ]
    }
   ],
   "source": [
    "# crear datasets para LightGBM\n",
    "\n",
    "train_data = lgb.Dataset(features_train, label=target_train)\n",
    "valid_data = lgb.Dataset(features_valid, label=target_valid, reference=train_data)\n",
    "\n",
    "\n",
    "# parámetros para LightGBM\n",
    "params = {\n",
    "    'objective': 'regression',\n",
    "    'metric': 'rmse',\n",
    "    'boosting_type': 'gbdt',\n",
    "    'num_leaves': 31,\n",
    "    'learning_rate': 0.05,\n",
    "    'feature_fraction': 0.9\n",
    "}\n",
    "\n",
    "# entrenamiento del modelo\n",
    "start = time.time()\n",
    "lgb_model_1 = lgb.train(params, train_data, valid_sets=[valid_data], num_boost_round=1000, early_stopping_rounds=50)\n",
    "train_time_lgb1  = time.time() - start\n",
    "\n",
    "# predicciones\n",
    "start = time.time()\n",
    "predictions_lgb1  = lgb_model_1.predict(features_valid, num_iteration=lgb_model_1.best_iteration)\n",
    "predict_time_lgb1  = time.time() - start\n",
    "\n",
    "# evaluación con RMSE\n",
    "rmse_lgb1  = np.sqrt(mean_squared_error(target_valid, predictions_lgb1))\n",
    "print(f\"RMSE para LightGBM: {rmse_lgb1}\")\n",
    "\n"
   ]
  },
  {
   "cell_type": "code",
   "execution_count": 19,
   "metadata": {
    "trusted": false
   },
   "outputs": [
    {
     "name": "stdout",
     "output_type": "stream",
     "text": [
      "[LightGBM] [Warning] Auto-choosing row-wise multi-threading, the overhead of testing was 0.002316 seconds.\n",
      "You can set `force_row_wise=true` to remove the overhead.\n",
      "And if memory is not enough, you can set `force_col_wise=true`.\n",
      "[LightGBM] [Info] Total Bins 699\n",
      "[LightGBM] [Info] Number of data points in the train set: 265776, number of used features: 10\n",
      "[LightGBM] [Info] Start training from score 4413.365319\n",
      "[1]\tvalid_0's rmse: 4443.7\n",
      "Training until validation scores don't improve for 30 rounds\n",
      "[2]\tvalid_0's rmse: 4367.31\n",
      "[3]\tvalid_0's rmse: 4274.58\n",
      "[4]\tvalid_0's rmse: 4185.95\n",
      "[5]\tvalid_0's rmse: 4117.66\n",
      "[6]\tvalid_0's rmse: 4033.97\n",
      "[7]\tvalid_0's rmse: 3958.56\n",
      "[8]\tvalid_0's rmse: 3880.65\n",
      "[9]\tvalid_0's rmse: 3805.78\n",
      "[10]\tvalid_0's rmse: 3734.14\n",
      "[11]\tvalid_0's rmse: 3664.96\n",
      "[12]\tvalid_0's rmse: 3598.45\n",
      "[13]\tvalid_0's rmse: 3534.1\n",
      "[14]\tvalid_0's rmse: 3472.52\n",
      "[15]\tvalid_0's rmse: 3418.52\n",
      "[16]\tvalid_0's rmse: 3361.5\n",
      "[17]\tvalid_0's rmse: 3315.92\n",
      "[18]\tvalid_0's rmse: 3272.69\n",
      "[19]\tvalid_0's rmse: 3221.33\n",
      "[20]\tvalid_0's rmse: 3172.09\n",
      "[21]\tvalid_0's rmse: 3124.59\n",
      "[22]\tvalid_0's rmse: 3079.04\n",
      "[23]\tvalid_0's rmse: 3035.12\n",
      "[24]\tvalid_0's rmse: 2993.52\n",
      "[25]\tvalid_0's rmse: 2952.55\n",
      "[26]\tvalid_0's rmse: 2913.21\n",
      "[27]\tvalid_0's rmse: 2875.77\n",
      "[28]\tvalid_0's rmse: 2840.1\n",
      "[29]\tvalid_0's rmse: 2806.17\n",
      "[30]\tvalid_0's rmse: 2772.4\n",
      "[31]\tvalid_0's rmse: 2740.92\n",
      "[32]\tvalid_0's rmse: 2710.6\n",
      "[33]\tvalid_0's rmse: 2681.78\n",
      "[34]\tvalid_0's rmse: 2654.39\n",
      "[35]\tvalid_0's rmse: 2627.41\n",
      "[36]\tvalid_0's rmse: 2600.99\n",
      "[37]\tvalid_0's rmse: 2576.46\n",
      "[38]\tvalid_0's rmse: 2551.97\n",
      "[39]\tvalid_0's rmse: 2528.94\n",
      "[40]\tvalid_0's rmse: 2507.12\n",
      "[41]\tvalid_0's rmse: 2487.96\n",
      "[42]\tvalid_0's rmse: 2467.73\n",
      "[43]\tvalid_0's rmse: 2448.07\n",
      "[44]\tvalid_0's rmse: 2429.42\n",
      "[45]\tvalid_0's rmse: 2413.36\n",
      "[46]\tvalid_0's rmse: 2394.41\n",
      "[47]\tvalid_0's rmse: 2381.22\n",
      "[48]\tvalid_0's rmse: 2364.12\n",
      "[49]\tvalid_0's rmse: 2348.28\n",
      "[50]\tvalid_0's rmse: 2334.61\n",
      "[51]\tvalid_0's rmse: 2319.2\n",
      "[52]\tvalid_0's rmse: 2305\n",
      "[53]\tvalid_0's rmse: 2290.72\n",
      "[54]\tvalid_0's rmse: 2278.96\n",
      "[55]\tvalid_0's rmse: 2265.36\n",
      "[56]\tvalid_0's rmse: 2253.02\n",
      "[57]\tvalid_0's rmse: 2241.34\n",
      "[58]\tvalid_0's rmse: 2229.77\n",
      "[59]\tvalid_0's rmse: 2218.32\n",
      "[60]\tvalid_0's rmse: 2207.3\n",
      "[61]\tvalid_0's rmse: 2196.33\n",
      "[62]\tvalid_0's rmse: 2187.13\n",
      "[63]\tvalid_0's rmse: 2178.85\n",
      "[64]\tvalid_0's rmse: 2169.04\n",
      "[65]\tvalid_0's rmse: 2160.81\n",
      "[66]\tvalid_0's rmse: 2151.74\n",
      "[67]\tvalid_0's rmse: 2144.13\n",
      "[68]\tvalid_0's rmse: 2137.08\n",
      "[69]\tvalid_0's rmse: 2129.82\n",
      "[70]\tvalid_0's rmse: 2121.87\n",
      "[71]\tvalid_0's rmse: 2114.73\n",
      "[72]\tvalid_0's rmse: 2107.88\n",
      "[73]\tvalid_0's rmse: 2101.97\n",
      "[74]\tvalid_0's rmse: 2094.82\n",
      "[75]\tvalid_0's rmse: 2088.52\n",
      "[76]\tvalid_0's rmse: 2081.96\n",
      "[77]\tvalid_0's rmse: 2075.93\n",
      "[78]\tvalid_0's rmse: 2070.73\n",
      "[79]\tvalid_0's rmse: 2065.91\n",
      "[80]\tvalid_0's rmse: 2060.63\n",
      "[81]\tvalid_0's rmse: 2055.68\n",
      "[82]\tvalid_0's rmse: 2050.91\n",
      "[83]\tvalid_0's rmse: 2046.52\n",
      "[84]\tvalid_0's rmse: 2041.9\n",
      "[85]\tvalid_0's rmse: 2036.13\n",
      "[86]\tvalid_0's rmse: 2031.8\n",
      "[87]\tvalid_0's rmse: 2027.2\n",
      "[88]\tvalid_0's rmse: 2022.23\n",
      "[89]\tvalid_0's rmse: 2017.65\n",
      "[90]\tvalid_0's rmse: 2013.32\n",
      "[91]\tvalid_0's rmse: 2008.95\n",
      "[92]\tvalid_0's rmse: 2005.43\n",
      "[93]\tvalid_0's rmse: 2001.48\n",
      "[94]\tvalid_0's rmse: 1997.54\n",
      "[95]\tvalid_0's rmse: 1993.63\n",
      "[96]\tvalid_0's rmse: 1989.89\n",
      "[97]\tvalid_0's rmse: 1987.13\n",
      "[98]\tvalid_0's rmse: 1983.87\n",
      "[99]\tvalid_0's rmse: 1980.74\n",
      "[100]\tvalid_0's rmse: 1977.41\n",
      "[101]\tvalid_0's rmse: 1974.34\n",
      "[102]\tvalid_0's rmse: 1971.53\n",
      "[103]\tvalid_0's rmse: 1968.84\n",
      "[104]\tvalid_0's rmse: 1965.68\n",
      "[105]\tvalid_0's rmse: 1962.87\n",
      "[106]\tvalid_0's rmse: 1959.67\n",
      "[107]\tvalid_0's rmse: 1957.26\n",
      "[108]\tvalid_0's rmse: 1954.65\n",
      "[109]\tvalid_0's rmse: 1952.16\n",
      "[110]\tvalid_0's rmse: 1949.76\n",
      "[111]\tvalid_0's rmse: 1947.19\n",
      "[112]\tvalid_0's rmse: 1944.95\n",
      "[113]\tvalid_0's rmse: 1941.98\n",
      "[114]\tvalid_0's rmse: 1939.7\n",
      "[115]\tvalid_0's rmse: 1937.21\n",
      "[116]\tvalid_0's rmse: 1934.63\n",
      "[117]\tvalid_0's rmse: 1932.82\n",
      "[118]\tvalid_0's rmse: 1930.83\n",
      "[119]\tvalid_0's rmse: 1928.61\n",
      "[120]\tvalid_0's rmse: 1926.67\n",
      "[121]\tvalid_0's rmse: 1924.32\n",
      "[122]\tvalid_0's rmse: 1922.71\n",
      "[123]\tvalid_0's rmse: 1920.57\n",
      "[124]\tvalid_0's rmse: 1918.85\n",
      "[125]\tvalid_0's rmse: 1916.85\n",
      "[126]\tvalid_0's rmse: 1915.08\n",
      "[127]\tvalid_0's rmse: 1913.23\n",
      "[128]\tvalid_0's rmse: 1911.42\n",
      "[129]\tvalid_0's rmse: 1910.01\n",
      "[130]\tvalid_0's rmse: 1908.3\n",
      "[131]\tvalid_0's rmse: 1906.99\n",
      "[132]\tvalid_0's rmse: 1905.73\n",
      "[133]\tvalid_0's rmse: 1904.38\n",
      "[134]\tvalid_0's rmse: 1902.79\n",
      "[135]\tvalid_0's rmse: 1901.54\n",
      "[136]\tvalid_0's rmse: 1900.14\n",
      "[137]\tvalid_0's rmse: 1898.67\n",
      "[138]\tvalid_0's rmse: 1897.26\n",
      "[139]\tvalid_0's rmse: 1895.73\n",
      "[140]\tvalid_0's rmse: 1894.41\n",
      "[141]\tvalid_0's rmse: 1893.35\n",
      "[142]\tvalid_0's rmse: 1892.1\n",
      "[143]\tvalid_0's rmse: 1890.81\n",
      "[144]\tvalid_0's rmse: 1889.38\n",
      "[145]\tvalid_0's rmse: 1888.08\n",
      "[146]\tvalid_0's rmse: 1886.6\n",
      "[147]\tvalid_0's rmse: 1885.51\n",
      "[148]\tvalid_0's rmse: 1884.41\n",
      "[149]\tvalid_0's rmse: 1883.51\n",
      "[150]\tvalid_0's rmse: 1882.52\n",
      "[151]\tvalid_0's rmse: 1881.54\n",
      "[152]\tvalid_0's rmse: 1880.67\n",
      "[153]\tvalid_0's rmse: 1879.72\n",
      "[154]\tvalid_0's rmse: 1878.6\n",
      "[155]\tvalid_0's rmse: 1877.75\n",
      "[156]\tvalid_0's rmse: 1876.76\n",
      "[157]\tvalid_0's rmse: 1875.9\n",
      "[158]\tvalid_0's rmse: 1875.18\n",
      "[159]\tvalid_0's rmse: 1873.72\n",
      "[160]\tvalid_0's rmse: 1872.79\n",
      "[161]\tvalid_0's rmse: 1871.45\n",
      "[162]\tvalid_0's rmse: 1870.41\n",
      "[163]\tvalid_0's rmse: 1869.5\n",
      "[164]\tvalid_0's rmse: 1868.7\n",
      "[165]\tvalid_0's rmse: 1867.92\n",
      "[166]\tvalid_0's rmse: 1867.28\n",
      "[167]\tvalid_0's rmse: 1866.47\n",
      "[168]\tvalid_0's rmse: 1865.62\n",
      "[169]\tvalid_0's rmse: 1864.72\n",
      "[170]\tvalid_0's rmse: 1863.67\n",
      "[171]\tvalid_0's rmse: 1862.71\n",
      "[172]\tvalid_0's rmse: 1861.82\n",
      "[173]\tvalid_0's rmse: 1861.09\n",
      "[174]\tvalid_0's rmse: 1860.49\n",
      "[175]\tvalid_0's rmse: 1859.75\n",
      "[176]\tvalid_0's rmse: 1859.1\n",
      "[177]\tvalid_0's rmse: 1858.59\n",
      "[178]\tvalid_0's rmse: 1857.63\n",
      "[179]\tvalid_0's rmse: 1856.99\n",
      "[180]\tvalid_0's rmse: 1856.36\n",
      "[181]\tvalid_0's rmse: 1855.37\n",
      "[182]\tvalid_0's rmse: 1854.49\n",
      "[183]\tvalid_0's rmse: 1853.88\n",
      "[184]\tvalid_0's rmse: 1853.32\n",
      "[185]\tvalid_0's rmse: 1852.77\n",
      "[186]\tvalid_0's rmse: 1852\n",
      "[187]\tvalid_0's rmse: 1851.33\n",
      "[188]\tvalid_0's rmse: 1850.8\n",
      "[189]\tvalid_0's rmse: 1849.83\n",
      "[190]\tvalid_0's rmse: 1849.02\n",
      "[191]\tvalid_0's rmse: 1848.22\n",
      "[192]\tvalid_0's rmse: 1847.54\n",
      "[193]\tvalid_0's rmse: 1846.73\n",
      "[194]\tvalid_0's rmse: 1846.1\n",
      "[195]\tvalid_0's rmse: 1845.71\n",
      "[196]\tvalid_0's rmse: 1844.78\n",
      "[197]\tvalid_0's rmse: 1844.18\n",
      "[198]\tvalid_0's rmse: 1843.78\n",
      "[199]\tvalid_0's rmse: 1843.22\n",
      "[200]\tvalid_0's rmse: 1842.74\n",
      "[201]\tvalid_0's rmse: 1841.98\n",
      "[202]\tvalid_0's rmse: 1841.58\n",
      "[203]\tvalid_0's rmse: 1841.12\n",
      "[204]\tvalid_0's rmse: 1840.56\n",
      "[205]\tvalid_0's rmse: 1839.71\n",
      "[206]\tvalid_0's rmse: 1839.34\n",
      "[207]\tvalid_0's rmse: 1838.44\n",
      "[208]\tvalid_0's rmse: 1838.06\n",
      "[209]\tvalid_0's rmse: 1837.19\n",
      "[210]\tvalid_0's rmse: 1836.52\n",
      "[211]\tvalid_0's rmse: 1836.12\n",
      "[212]\tvalid_0's rmse: 1835.66\n",
      "[213]\tvalid_0's rmse: 1834.96\n",
      "[214]\tvalid_0's rmse: 1834.53\n",
      "[215]\tvalid_0's rmse: 1834.21\n",
      "[216]\tvalid_0's rmse: 1833.84\n",
      "[217]\tvalid_0's rmse: 1833.43\n",
      "[218]\tvalid_0's rmse: 1832.98\n",
      "[219]\tvalid_0's rmse: 1832.61\n",
      "[220]\tvalid_0's rmse: 1832.25\n",
      "[221]\tvalid_0's rmse: 1831.58\n",
      "[222]\tvalid_0's rmse: 1831.1\n",
      "[223]\tvalid_0's rmse: 1830.64\n",
      "[224]\tvalid_0's rmse: 1829.93\n",
      "[225]\tvalid_0's rmse: 1829.12\n",
      "[226]\tvalid_0's rmse: 1828.41\n",
      "[227]\tvalid_0's rmse: 1827.77\n",
      "[228]\tvalid_0's rmse: 1827.17\n",
      "[229]\tvalid_0's rmse: 1826.68\n",
      "[230]\tvalid_0's rmse: 1826.05\n",
      "[231]\tvalid_0's rmse: 1825.62\n",
      "[232]\tvalid_0's rmse: 1825.22\n",
      "[233]\tvalid_0's rmse: 1824.87\n",
      "[234]\tvalid_0's rmse: 1824.64\n",
      "[235]\tvalid_0's rmse: 1824.2\n",
      "[236]\tvalid_0's rmse: 1823.91\n",
      "[237]\tvalid_0's rmse: 1823.44\n",
      "[238]\tvalid_0's rmse: 1823.17\n",
      "[239]\tvalid_0's rmse: 1822.87\n",
      "[240]\tvalid_0's rmse: 1822.57\n",
      "[241]\tvalid_0's rmse: 1822.13\n",
      "[242]\tvalid_0's rmse: 1821.56\n",
      "[243]\tvalid_0's rmse: 1821.28\n",
      "[244]\tvalid_0's rmse: 1820.72\n",
      "[245]\tvalid_0's rmse: 1820.26\n",
      "[246]\tvalid_0's rmse: 1819.8\n",
      "[247]\tvalid_0's rmse: 1819.44\n",
      "[248]\tvalid_0's rmse: 1819.09\n",
      "[249]\tvalid_0's rmse: 1818.55\n",
      "[250]\tvalid_0's rmse: 1818.02\n",
      "[251]\tvalid_0's rmse: 1817.54\n",
      "[252]\tvalid_0's rmse: 1817.36\n",
      "[253]\tvalid_0's rmse: 1817.09\n",
      "[254]\tvalid_0's rmse: 1816.7\n",
      "[255]\tvalid_0's rmse: 1816.36\n",
      "[256]\tvalid_0's rmse: 1816.11\n",
      "[257]\tvalid_0's rmse: 1815.76\n",
      "[258]\tvalid_0's rmse: 1815.37\n",
      "[259]\tvalid_0's rmse: 1815.01\n",
      "[260]\tvalid_0's rmse: 1814.73\n",
      "[261]\tvalid_0's rmse: 1814.05\n",
      "[262]\tvalid_0's rmse: 1813.54\n",
      "[263]\tvalid_0's rmse: 1813.09\n",
      "[264]\tvalid_0's rmse: 1812.61\n",
      "[265]\tvalid_0's rmse: 1812.25\n",
      "[266]\tvalid_0's rmse: 1811.83\n"
     ]
    },
    {
     "name": "stdout",
     "output_type": "stream",
     "text": [
      "[267]\tvalid_0's rmse: 1811.3\n",
      "[268]\tvalid_0's rmse: 1810.82\n",
      "[269]\tvalid_0's rmse: 1810.55\n",
      "[270]\tvalid_0's rmse: 1810.17\n",
      "[271]\tvalid_0's rmse: 1809.68\n",
      "[272]\tvalid_0's rmse: 1809.29\n",
      "[273]\tvalid_0's rmse: 1808.86\n",
      "[274]\tvalid_0's rmse: 1808.5\n",
      "[275]\tvalid_0's rmse: 1808.14\n",
      "[276]\tvalid_0's rmse: 1807.75\n",
      "[277]\tvalid_0's rmse: 1807.34\n",
      "[278]\tvalid_0's rmse: 1807.03\n",
      "[279]\tvalid_0's rmse: 1806.66\n",
      "[280]\tvalid_0's rmse: 1806.32\n",
      "[281]\tvalid_0's rmse: 1805.8\n",
      "[282]\tvalid_0's rmse: 1805.47\n",
      "[283]\tvalid_0's rmse: 1805.1\n",
      "[284]\tvalid_0's rmse: 1804.82\n",
      "[285]\tvalid_0's rmse: 1804.39\n",
      "[286]\tvalid_0's rmse: 1803.97\n",
      "[287]\tvalid_0's rmse: 1803.55\n",
      "[288]\tvalid_0's rmse: 1803.31\n",
      "[289]\tvalid_0's rmse: 1802.84\n",
      "[290]\tvalid_0's rmse: 1802.62\n",
      "[291]\tvalid_0's rmse: 1802.45\n",
      "[292]\tvalid_0's rmse: 1802.21\n",
      "[293]\tvalid_0's rmse: 1801.75\n",
      "[294]\tvalid_0's rmse: 1801.41\n",
      "[295]\tvalid_0's rmse: 1800.78\n",
      "[296]\tvalid_0's rmse: 1800.52\n",
      "[297]\tvalid_0's rmse: 1800.15\n",
      "[298]\tvalid_0's rmse: 1799.79\n",
      "[299]\tvalid_0's rmse: 1799.46\n",
      "[300]\tvalid_0's rmse: 1799.22\n",
      "[301]\tvalid_0's rmse: 1799.03\n",
      "[302]\tvalid_0's rmse: 1798.82\n",
      "[303]\tvalid_0's rmse: 1798.56\n",
      "[304]\tvalid_0's rmse: 1798.36\n",
      "[305]\tvalid_0's rmse: 1798.1\n",
      "[306]\tvalid_0's rmse: 1797.93\n",
      "[307]\tvalid_0's rmse: 1797.55\n",
      "[308]\tvalid_0's rmse: 1797.18\n",
      "[309]\tvalid_0's rmse: 1796.9\n",
      "[310]\tvalid_0's rmse: 1796.54\n",
      "[311]\tvalid_0's rmse: 1796.34\n",
      "[312]\tvalid_0's rmse: 1796.22\n",
      "[313]\tvalid_0's rmse: 1796.02\n",
      "[314]\tvalid_0's rmse: 1795.7\n",
      "[315]\tvalid_0's rmse: 1795.56\n",
      "[316]\tvalid_0's rmse: 1795.35\n",
      "[317]\tvalid_0's rmse: 1795.06\n",
      "[318]\tvalid_0's rmse: 1794.77\n",
      "[319]\tvalid_0's rmse: 1794.72\n",
      "[320]\tvalid_0's rmse: 1794.43\n",
      "[321]\tvalid_0's rmse: 1794.09\n",
      "[322]\tvalid_0's rmse: 1793.77\n",
      "[323]\tvalid_0's rmse: 1793.64\n",
      "[324]\tvalid_0's rmse: 1793.35\n",
      "[325]\tvalid_0's rmse: 1793.15\n",
      "[326]\tvalid_0's rmse: 1792.92\n",
      "[327]\tvalid_0's rmse: 1792.79\n",
      "[328]\tvalid_0's rmse: 1792.72\n",
      "[329]\tvalid_0's rmse: 1792.56\n",
      "[330]\tvalid_0's rmse: 1792.41\n",
      "[331]\tvalid_0's rmse: 1792.08\n",
      "[332]\tvalid_0's rmse: 1791.8\n",
      "[333]\tvalid_0's rmse: 1791.56\n",
      "[334]\tvalid_0's rmse: 1791.33\n",
      "[335]\tvalid_0's rmse: 1790.98\n",
      "[336]\tvalid_0's rmse: 1790.65\n",
      "[337]\tvalid_0's rmse: 1790.59\n",
      "[338]\tvalid_0's rmse: 1790.3\n",
      "[339]\tvalid_0's rmse: 1790.12\n",
      "[340]\tvalid_0's rmse: 1789.96\n",
      "[341]\tvalid_0's rmse: 1789.61\n",
      "[342]\tvalid_0's rmse: 1789.47\n",
      "[343]\tvalid_0's rmse: 1789.25\n",
      "[344]\tvalid_0's rmse: 1789.09\n",
      "[345]\tvalid_0's rmse: 1789\n",
      "[346]\tvalid_0's rmse: 1788.77\n",
      "[347]\tvalid_0's rmse: 1788.48\n",
      "[348]\tvalid_0's rmse: 1788.31\n",
      "[349]\tvalid_0's rmse: 1788.15\n",
      "[350]\tvalid_0's rmse: 1787.87\n",
      "[351]\tvalid_0's rmse: 1787.5\n",
      "[352]\tvalid_0's rmse: 1787.25\n",
      "[353]\tvalid_0's rmse: 1787.07\n",
      "[354]\tvalid_0's rmse: 1786.78\n",
      "[355]\tvalid_0's rmse: 1786.37\n",
      "[356]\tvalid_0's rmse: 1786.12\n",
      "[357]\tvalid_0's rmse: 1785.9\n",
      "[358]\tvalid_0's rmse: 1785.53\n",
      "[359]\tvalid_0's rmse: 1785.31\n",
      "[360]\tvalid_0's rmse: 1784.97\n",
      "[361]\tvalid_0's rmse: 1784.77\n",
      "[362]\tvalid_0's rmse: 1784.62\n",
      "[363]\tvalid_0's rmse: 1784.48\n",
      "[364]\tvalid_0's rmse: 1784.36\n",
      "[365]\tvalid_0's rmse: 1784.18\n",
      "[366]\tvalid_0's rmse: 1783.83\n",
      "[367]\tvalid_0's rmse: 1783.6\n",
      "[368]\tvalid_0's rmse: 1783.27\n",
      "[369]\tvalid_0's rmse: 1783.01\n",
      "[370]\tvalid_0's rmse: 1782.72\n",
      "[371]\tvalid_0's rmse: 1782.55\n",
      "[372]\tvalid_0's rmse: 1782.31\n",
      "[373]\tvalid_0's rmse: 1782.12\n",
      "[374]\tvalid_0's rmse: 1781.8\n",
      "[375]\tvalid_0's rmse: 1781.56\n",
      "[376]\tvalid_0's rmse: 1781.27\n",
      "[377]\tvalid_0's rmse: 1781.06\n",
      "[378]\tvalid_0's rmse: 1781\n",
      "[379]\tvalid_0's rmse: 1780.78\n",
      "[380]\tvalid_0's rmse: 1780.45\n",
      "[381]\tvalid_0's rmse: 1780.2\n",
      "[382]\tvalid_0's rmse: 1779.96\n",
      "[383]\tvalid_0's rmse: 1779.59\n",
      "[384]\tvalid_0's rmse: 1779.32\n",
      "[385]\tvalid_0's rmse: 1779.14\n",
      "[386]\tvalid_0's rmse: 1778.83\n",
      "[387]\tvalid_0's rmse: 1778.71\n",
      "[388]\tvalid_0's rmse: 1778.39\n",
      "[389]\tvalid_0's rmse: 1778.3\n",
      "[390]\tvalid_0's rmse: 1778.04\n",
      "[391]\tvalid_0's rmse: 1777.92\n",
      "[392]\tvalid_0's rmse: 1777.76\n",
      "[393]\tvalid_0's rmse: 1777.69\n",
      "[394]\tvalid_0's rmse: 1777.46\n",
      "[395]\tvalid_0's rmse: 1777.33\n",
      "[396]\tvalid_0's rmse: 1777.17\n",
      "[397]\tvalid_0's rmse: 1777.04\n",
      "[398]\tvalid_0's rmse: 1776.78\n",
      "[399]\tvalid_0's rmse: 1776.51\n",
      "[400]\tvalid_0's rmse: 1776.31\n",
      "[401]\tvalid_0's rmse: 1776.12\n",
      "[402]\tvalid_0's rmse: 1776\n",
      "[403]\tvalid_0's rmse: 1775.89\n",
      "[404]\tvalid_0's rmse: 1775.81\n",
      "[405]\tvalid_0's rmse: 1775.65\n",
      "[406]\tvalid_0's rmse: 1775.54\n",
      "[407]\tvalid_0's rmse: 1775.31\n",
      "[408]\tvalid_0's rmse: 1775.11\n",
      "[409]\tvalid_0's rmse: 1775.05\n",
      "[410]\tvalid_0's rmse: 1774.91\n",
      "[411]\tvalid_0's rmse: 1774.64\n",
      "[412]\tvalid_0's rmse: 1774.33\n",
      "[413]\tvalid_0's rmse: 1774.05\n",
      "[414]\tvalid_0's rmse: 1773.82\n",
      "[415]\tvalid_0's rmse: 1773.61\n",
      "[416]\tvalid_0's rmse: 1773.35\n",
      "[417]\tvalid_0's rmse: 1773.06\n",
      "[418]\tvalid_0's rmse: 1772.96\n",
      "[419]\tvalid_0's rmse: 1772.94\n",
      "[420]\tvalid_0's rmse: 1772.7\n",
      "[421]\tvalid_0's rmse: 1772.55\n",
      "[422]\tvalid_0's rmse: 1772.48\n",
      "[423]\tvalid_0's rmse: 1772.33\n",
      "[424]\tvalid_0's rmse: 1772.23\n",
      "[425]\tvalid_0's rmse: 1772.12\n",
      "[426]\tvalid_0's rmse: 1772.04\n",
      "[427]\tvalid_0's rmse: 1771.95\n",
      "[428]\tvalid_0's rmse: 1771.9\n",
      "[429]\tvalid_0's rmse: 1771.78\n",
      "[430]\tvalid_0's rmse: 1771.72\n",
      "[431]\tvalid_0's rmse: 1771.54\n",
      "[432]\tvalid_0's rmse: 1771.48\n",
      "[433]\tvalid_0's rmse: 1771.35\n",
      "[434]\tvalid_0's rmse: 1771.21\n",
      "[435]\tvalid_0's rmse: 1771.14\n",
      "[436]\tvalid_0's rmse: 1771.04\n",
      "[437]\tvalid_0's rmse: 1770.94\n",
      "[438]\tvalid_0's rmse: 1770.83\n",
      "[439]\tvalid_0's rmse: 1770.64\n",
      "[440]\tvalid_0's rmse: 1770.29\n",
      "[441]\tvalid_0's rmse: 1770.07\n",
      "[442]\tvalid_0's rmse: 1770.01\n",
      "[443]\tvalid_0's rmse: 1769.86\n",
      "[444]\tvalid_0's rmse: 1769.77\n",
      "[445]\tvalid_0's rmse: 1769.67\n",
      "[446]\tvalid_0's rmse: 1769.51\n",
      "[447]\tvalid_0's rmse: 1769.43\n",
      "[448]\tvalid_0's rmse: 1769.22\n",
      "[449]\tvalid_0's rmse: 1769.03\n",
      "[450]\tvalid_0's rmse: 1768.89\n",
      "[451]\tvalid_0's rmse: 1768.74\n",
      "[452]\tvalid_0's rmse: 1768.58\n",
      "[453]\tvalid_0's rmse: 1768.51\n",
      "[454]\tvalid_0's rmse: 1768.36\n",
      "[455]\tvalid_0's rmse: 1768.28\n",
      "[456]\tvalid_0's rmse: 1768.13\n",
      "[457]\tvalid_0's rmse: 1767.93\n",
      "[458]\tvalid_0's rmse: 1767.79\n",
      "[459]\tvalid_0's rmse: 1767.68\n",
      "[460]\tvalid_0's rmse: 1767.54\n",
      "[461]\tvalid_0's rmse: 1767.55\n",
      "[462]\tvalid_0's rmse: 1767.51\n",
      "[463]\tvalid_0's rmse: 1767.5\n",
      "[464]\tvalid_0's rmse: 1767.4\n",
      "[465]\tvalid_0's rmse: 1767.29\n",
      "[466]\tvalid_0's rmse: 1767.09\n",
      "[467]\tvalid_0's rmse: 1766.9\n",
      "[468]\tvalid_0's rmse: 1766.7\n",
      "[469]\tvalid_0's rmse: 1766.54\n",
      "[470]\tvalid_0's rmse: 1766.47\n",
      "[471]\tvalid_0's rmse: 1766.46\n",
      "[472]\tvalid_0's rmse: 1766.42\n",
      "[473]\tvalid_0's rmse: 1766.41\n",
      "[474]\tvalid_0's rmse: 1766.26\n",
      "[475]\tvalid_0's rmse: 1766.24\n",
      "[476]\tvalid_0's rmse: 1766.08\n",
      "[477]\tvalid_0's rmse: 1765.89\n",
      "[478]\tvalid_0's rmse: 1765.73\n",
      "[479]\tvalid_0's rmse: 1765.66\n",
      "[480]\tvalid_0's rmse: 1765.53\n",
      "[481]\tvalid_0's rmse: 1765.33\n",
      "[482]\tvalid_0's rmse: 1765.1\n",
      "[483]\tvalid_0's rmse: 1765.07\n",
      "[484]\tvalid_0's rmse: 1764.92\n",
      "[485]\tvalid_0's rmse: 1764.86\n",
      "[486]\tvalid_0's rmse: 1764.72\n",
      "[487]\tvalid_0's rmse: 1764.6\n",
      "[488]\tvalid_0's rmse: 1764.51\n",
      "[489]\tvalid_0's rmse: 1764.46\n",
      "[490]\tvalid_0's rmse: 1764.41\n",
      "[491]\tvalid_0's rmse: 1764.3\n",
      "[492]\tvalid_0's rmse: 1764.16\n",
      "[493]\tvalid_0's rmse: 1764.02\n",
      "[494]\tvalid_0's rmse: 1763.91\n",
      "[495]\tvalid_0's rmse: 1763.72\n",
      "[496]\tvalid_0's rmse: 1763.54\n",
      "[497]\tvalid_0's rmse: 1763.41\n",
      "[498]\tvalid_0's rmse: 1763.24\n",
      "[499]\tvalid_0's rmse: 1763.06\n",
      "[500]\tvalid_0's rmse: 1762.84\n",
      "[501]\tvalid_0's rmse: 1762.74\n",
      "[502]\tvalid_0's rmse: 1762.58\n",
      "[503]\tvalid_0's rmse: 1762.49\n",
      "[504]\tvalid_0's rmse: 1762.36\n",
      "[505]\tvalid_0's rmse: 1762.22\n",
      "[506]\tvalid_0's rmse: 1761.97\n",
      "[507]\tvalid_0's rmse: 1761.78\n",
      "[508]\tvalid_0's rmse: 1761.7\n",
      "[509]\tvalid_0's rmse: 1761.57\n",
      "[510]\tvalid_0's rmse: 1761.5\n",
      "[511]\tvalid_0's rmse: 1761.41\n",
      "[512]\tvalid_0's rmse: 1761.31\n",
      "[513]\tvalid_0's rmse: 1761.16\n",
      "[514]\tvalid_0's rmse: 1761.02\n",
      "[515]\tvalid_0's rmse: 1760.75\n",
      "[516]\tvalid_0's rmse: 1760.67\n",
      "[517]\tvalid_0's rmse: 1760.6\n",
      "[518]\tvalid_0's rmse: 1760.4\n",
      "[519]\tvalid_0's rmse: 1760.17\n",
      "[520]\tvalid_0's rmse: 1759.95\n",
      "[521]\tvalid_0's rmse: 1759.87\n",
      "[522]\tvalid_0's rmse: 1759.72\n",
      "[523]\tvalid_0's rmse: 1759.65\n",
      "[524]\tvalid_0's rmse: 1759.44\n",
      "[525]\tvalid_0's rmse: 1759.32\n",
      "[526]\tvalid_0's rmse: 1759.19\n",
      "[527]\tvalid_0's rmse: 1759.08\n",
      "[528]\tvalid_0's rmse: 1758.96\n",
      "[529]\tvalid_0's rmse: 1758.78\n",
      "[530]\tvalid_0's rmse: 1758.8\n",
      "[531]\tvalid_0's rmse: 1758.68\n",
      "[532]\tvalid_0's rmse: 1758.58\n",
      "[533]\tvalid_0's rmse: 1758.5\n",
      "[534]\tvalid_0's rmse: 1758.31\n",
      "[535]\tvalid_0's rmse: 1758.22\n",
      "[536]\tvalid_0's rmse: 1758.12\n",
      "[537]\tvalid_0's rmse: 1758.02\n",
      "[538]\tvalid_0's rmse: 1757.88\n",
      "[539]\tvalid_0's rmse: 1757.82\n",
      "[540]\tvalid_0's rmse: 1757.8\n",
      "[541]\tvalid_0's rmse: 1757.72\n",
      "[542]\tvalid_0's rmse: 1757.64\n",
      "[543]\tvalid_0's rmse: 1757.41\n",
      "[544]\tvalid_0's rmse: 1757.22\n"
     ]
    },
    {
     "name": "stdout",
     "output_type": "stream",
     "text": [
      "[545]\tvalid_0's rmse: 1757.1\n",
      "[546]\tvalid_0's rmse: 1757.09\n",
      "[547]\tvalid_0's rmse: 1756.84\n",
      "[548]\tvalid_0's rmse: 1756.59\n",
      "[549]\tvalid_0's rmse: 1756.47\n",
      "[550]\tvalid_0's rmse: 1756.24\n",
      "[551]\tvalid_0's rmse: 1756.06\n",
      "[552]\tvalid_0's rmse: 1755.95\n",
      "[553]\tvalid_0's rmse: 1755.84\n",
      "[554]\tvalid_0's rmse: 1755.74\n",
      "[555]\tvalid_0's rmse: 1755.7\n",
      "[556]\tvalid_0's rmse: 1755.62\n",
      "[557]\tvalid_0's rmse: 1755.53\n",
      "[558]\tvalid_0's rmse: 1755.45\n",
      "[559]\tvalid_0's rmse: 1755.37\n",
      "[560]\tvalid_0's rmse: 1755.23\n",
      "[561]\tvalid_0's rmse: 1755.03\n",
      "[562]\tvalid_0's rmse: 1754.86\n",
      "[563]\tvalid_0's rmse: 1754.67\n",
      "[564]\tvalid_0's rmse: 1754.58\n",
      "[565]\tvalid_0's rmse: 1754.41\n",
      "[566]\tvalid_0's rmse: 1754.25\n",
      "[567]\tvalid_0's rmse: 1754.02\n",
      "[568]\tvalid_0's rmse: 1753.84\n",
      "[569]\tvalid_0's rmse: 1753.77\n",
      "[570]\tvalid_0's rmse: 1753.59\n",
      "[571]\tvalid_0's rmse: 1753.55\n",
      "[572]\tvalid_0's rmse: 1753.44\n",
      "[573]\tvalid_0's rmse: 1753.39\n",
      "[574]\tvalid_0's rmse: 1753.26\n",
      "[575]\tvalid_0's rmse: 1753.16\n",
      "[576]\tvalid_0's rmse: 1753.1\n",
      "[577]\tvalid_0's rmse: 1753.09\n",
      "[578]\tvalid_0's rmse: 1753.08\n",
      "[579]\tvalid_0's rmse: 1753.06\n",
      "[580]\tvalid_0's rmse: 1752.92\n",
      "[581]\tvalid_0's rmse: 1752.92\n",
      "[582]\tvalid_0's rmse: 1752.9\n",
      "[583]\tvalid_0's rmse: 1752.92\n",
      "[584]\tvalid_0's rmse: 1752.89\n",
      "[585]\tvalid_0's rmse: 1752.91\n",
      "[586]\tvalid_0's rmse: 1752.78\n",
      "[587]\tvalid_0's rmse: 1752.6\n",
      "[588]\tvalid_0's rmse: 1752.45\n",
      "[589]\tvalid_0's rmse: 1752.33\n",
      "[590]\tvalid_0's rmse: 1752.15\n",
      "[591]\tvalid_0's rmse: 1752.12\n",
      "[592]\tvalid_0's rmse: 1752.07\n",
      "[593]\tvalid_0's rmse: 1752.08\n",
      "[594]\tvalid_0's rmse: 1752.07\n",
      "[595]\tvalid_0's rmse: 1752.06\n",
      "[596]\tvalid_0's rmse: 1751.94\n",
      "[597]\tvalid_0's rmse: 1751.86\n",
      "[598]\tvalid_0's rmse: 1751.81\n",
      "[599]\tvalid_0's rmse: 1751.72\n",
      "[600]\tvalid_0's rmse: 1751.52\n",
      "[601]\tvalid_0's rmse: 1751.45\n",
      "[602]\tvalid_0's rmse: 1751.39\n",
      "[603]\tvalid_0's rmse: 1751.3\n",
      "[604]\tvalid_0's rmse: 1751.27\n",
      "[605]\tvalid_0's rmse: 1751.28\n",
      "[606]\tvalid_0's rmse: 1751.17\n",
      "[607]\tvalid_0's rmse: 1751.08\n",
      "[608]\tvalid_0's rmse: 1751.07\n",
      "[609]\tvalid_0's rmse: 1750.99\n",
      "[610]\tvalid_0's rmse: 1750.9\n",
      "[611]\tvalid_0's rmse: 1750.89\n",
      "[612]\tvalid_0's rmse: 1750.81\n",
      "[613]\tvalid_0's rmse: 1750.74\n",
      "[614]\tvalid_0's rmse: 1750.64\n",
      "[615]\tvalid_0's rmse: 1750.46\n",
      "[616]\tvalid_0's rmse: 1750.28\n",
      "[617]\tvalid_0's rmse: 1750.1\n",
      "[618]\tvalid_0's rmse: 1749.95\n",
      "[619]\tvalid_0's rmse: 1749.77\n",
      "[620]\tvalid_0's rmse: 1749.67\n",
      "[621]\tvalid_0's rmse: 1749.45\n",
      "[622]\tvalid_0's rmse: 1749.44\n",
      "[623]\tvalid_0's rmse: 1749.39\n",
      "[624]\tvalid_0's rmse: 1749.25\n",
      "[625]\tvalid_0's rmse: 1749.15\n",
      "[626]\tvalid_0's rmse: 1749.13\n",
      "[627]\tvalid_0's rmse: 1749.1\n",
      "[628]\tvalid_0's rmse: 1749.11\n",
      "[629]\tvalid_0's rmse: 1748.95\n",
      "[630]\tvalid_0's rmse: 1748.93\n",
      "[631]\tvalid_0's rmse: 1748.75\n",
      "[632]\tvalid_0's rmse: 1748.66\n",
      "[633]\tvalid_0's rmse: 1748.66\n",
      "[634]\tvalid_0's rmse: 1748.6\n",
      "[635]\tvalid_0's rmse: 1748.59\n",
      "[636]\tvalid_0's rmse: 1748.53\n",
      "[637]\tvalid_0's rmse: 1748.49\n",
      "[638]\tvalid_0's rmse: 1748.46\n",
      "[639]\tvalid_0's rmse: 1748.44\n",
      "[640]\tvalid_0's rmse: 1748.43\n",
      "[641]\tvalid_0's rmse: 1748.34\n",
      "[642]\tvalid_0's rmse: 1748.29\n",
      "[643]\tvalid_0's rmse: 1748.22\n",
      "[644]\tvalid_0's rmse: 1748.17\n",
      "[645]\tvalid_0's rmse: 1748.07\n",
      "[646]\tvalid_0's rmse: 1747.92\n",
      "[647]\tvalid_0's rmse: 1747.85\n",
      "[648]\tvalid_0's rmse: 1747.71\n",
      "[649]\tvalid_0's rmse: 1747.6\n",
      "[650]\tvalid_0's rmse: 1747.5\n",
      "[651]\tvalid_0's rmse: 1747.39\n",
      "[652]\tvalid_0's rmse: 1747.28\n",
      "[653]\tvalid_0's rmse: 1747.13\n",
      "[654]\tvalid_0's rmse: 1747.03\n",
      "[655]\tvalid_0's rmse: 1746.88\n",
      "[656]\tvalid_0's rmse: 1746.82\n",
      "[657]\tvalid_0's rmse: 1746.71\n",
      "[658]\tvalid_0's rmse: 1746.6\n",
      "[659]\tvalid_0's rmse: 1746.41\n",
      "[660]\tvalid_0's rmse: 1746.3\n",
      "[661]\tvalid_0's rmse: 1746.27\n",
      "[662]\tvalid_0's rmse: 1746.11\n",
      "[663]\tvalid_0's rmse: 1746.07\n",
      "[664]\tvalid_0's rmse: 1745.93\n",
      "[665]\tvalid_0's rmse: 1745.88\n",
      "[666]\tvalid_0's rmse: 1745.71\n",
      "[667]\tvalid_0's rmse: 1745.55\n",
      "[668]\tvalid_0's rmse: 1745.5\n",
      "[669]\tvalid_0's rmse: 1745.3\n",
      "[670]\tvalid_0's rmse: 1745.17\n",
      "[671]\tvalid_0's rmse: 1745.05\n",
      "[672]\tvalid_0's rmse: 1744.98\n",
      "[673]\tvalid_0's rmse: 1744.81\n",
      "[674]\tvalid_0's rmse: 1744.71\n",
      "[675]\tvalid_0's rmse: 1744.63\n",
      "[676]\tvalid_0's rmse: 1744.58\n",
      "[677]\tvalid_0's rmse: 1744.59\n",
      "[678]\tvalid_0's rmse: 1744.56\n",
      "[679]\tvalid_0's rmse: 1744.55\n",
      "[680]\tvalid_0's rmse: 1744.43\n",
      "[681]\tvalid_0's rmse: 1744.3\n",
      "[682]\tvalid_0's rmse: 1744.21\n",
      "[683]\tvalid_0's rmse: 1744.16\n",
      "[684]\tvalid_0's rmse: 1744.01\n",
      "[685]\tvalid_0's rmse: 1743.91\n",
      "[686]\tvalid_0's rmse: 1743.71\n",
      "[687]\tvalid_0's rmse: 1743.55\n",
      "[688]\tvalid_0's rmse: 1743.39\n",
      "[689]\tvalid_0's rmse: 1743.18\n",
      "[690]\tvalid_0's rmse: 1743.05\n",
      "[691]\tvalid_0's rmse: 1743\n",
      "[692]\tvalid_0's rmse: 1742.93\n",
      "[693]\tvalid_0's rmse: 1742.88\n",
      "[694]\tvalid_0's rmse: 1742.85\n",
      "[695]\tvalid_0's rmse: 1742.79\n",
      "[696]\tvalid_0's rmse: 1742.76\n",
      "[697]\tvalid_0's rmse: 1742.66\n",
      "[698]\tvalid_0's rmse: 1742.6\n",
      "[699]\tvalid_0's rmse: 1742.54\n",
      "[700]\tvalid_0's rmse: 1742.37\n",
      "[701]\tvalid_0's rmse: 1742.23\n",
      "[702]\tvalid_0's rmse: 1742.1\n",
      "[703]\tvalid_0's rmse: 1741.98\n",
      "[704]\tvalid_0's rmse: 1741.86\n",
      "[705]\tvalid_0's rmse: 1741.74\n",
      "[706]\tvalid_0's rmse: 1741.73\n",
      "[707]\tvalid_0's rmse: 1741.6\n",
      "[708]\tvalid_0's rmse: 1741.44\n",
      "[709]\tvalid_0's rmse: 1741.33\n",
      "[710]\tvalid_0's rmse: 1741.28\n",
      "[711]\tvalid_0's rmse: 1741.23\n",
      "[712]\tvalid_0's rmse: 1741.23\n",
      "[713]\tvalid_0's rmse: 1741.21\n",
      "[714]\tvalid_0's rmse: 1741.23\n",
      "[715]\tvalid_0's rmse: 1741.22\n",
      "[716]\tvalid_0's rmse: 1741.08\n",
      "[717]\tvalid_0's rmse: 1741\n",
      "[718]\tvalid_0's rmse: 1740.86\n",
      "[719]\tvalid_0's rmse: 1740.76\n",
      "[720]\tvalid_0's rmse: 1740.71\n",
      "[721]\tvalid_0's rmse: 1740.59\n",
      "[722]\tvalid_0's rmse: 1740.45\n",
      "[723]\tvalid_0's rmse: 1740.31\n",
      "[724]\tvalid_0's rmse: 1740.21\n",
      "[725]\tvalid_0's rmse: 1740.05\n",
      "[726]\tvalid_0's rmse: 1740\n",
      "[727]\tvalid_0's rmse: 1739.99\n",
      "[728]\tvalid_0's rmse: 1739.95\n",
      "[729]\tvalid_0's rmse: 1739.9\n",
      "[730]\tvalid_0's rmse: 1739.83\n",
      "[731]\tvalid_0's rmse: 1739.69\n",
      "[732]\tvalid_0's rmse: 1739.56\n",
      "[733]\tvalid_0's rmse: 1739.3\n",
      "[734]\tvalid_0's rmse: 1739.24\n",
      "[735]\tvalid_0's rmse: 1739.14\n",
      "[736]\tvalid_0's rmse: 1739.04\n",
      "[737]\tvalid_0's rmse: 1738.93\n",
      "[738]\tvalid_0's rmse: 1738.79\n",
      "[739]\tvalid_0's rmse: 1738.7\n",
      "[740]\tvalid_0's rmse: 1738.62\n",
      "[741]\tvalid_0's rmse: 1738.62\n",
      "[742]\tvalid_0's rmse: 1738.61\n",
      "[743]\tvalid_0's rmse: 1738.58\n",
      "[744]\tvalid_0's rmse: 1738.57\n",
      "[745]\tvalid_0's rmse: 1738.52\n",
      "[746]\tvalid_0's rmse: 1738.39\n",
      "[747]\tvalid_0's rmse: 1738.28\n",
      "[748]\tvalid_0's rmse: 1738.2\n",
      "[749]\tvalid_0's rmse: 1738.14\n",
      "[750]\tvalid_0's rmse: 1738.02\n",
      "[751]\tvalid_0's rmse: 1737.94\n",
      "[752]\tvalid_0's rmse: 1737.86\n",
      "[753]\tvalid_0's rmse: 1737.8\n",
      "[754]\tvalid_0's rmse: 1737.74\n",
      "[755]\tvalid_0's rmse: 1737.74\n",
      "[756]\tvalid_0's rmse: 1737.67\n",
      "[757]\tvalid_0's rmse: 1737.62\n",
      "[758]\tvalid_0's rmse: 1737.53\n",
      "[759]\tvalid_0's rmse: 1737.37\n",
      "[760]\tvalid_0's rmse: 1737.33\n",
      "[761]\tvalid_0's rmse: 1737.23\n",
      "[762]\tvalid_0's rmse: 1737.18\n",
      "[763]\tvalid_0's rmse: 1737.07\n",
      "[764]\tvalid_0's rmse: 1736.97\n",
      "[765]\tvalid_0's rmse: 1736.9\n",
      "[766]\tvalid_0's rmse: 1736.77\n",
      "[767]\tvalid_0's rmse: 1736.65\n",
      "[768]\tvalid_0's rmse: 1736.5\n",
      "[769]\tvalid_0's rmse: 1736.36\n",
      "[770]\tvalid_0's rmse: 1736.29\n",
      "[771]\tvalid_0's rmse: 1736.19\n",
      "[772]\tvalid_0's rmse: 1736.13\n",
      "[773]\tvalid_0's rmse: 1736.04\n",
      "[774]\tvalid_0's rmse: 1736\n",
      "[775]\tvalid_0's rmse: 1735.93\n",
      "[776]\tvalid_0's rmse: 1735.81\n",
      "[777]\tvalid_0's rmse: 1735.69\n",
      "[778]\tvalid_0's rmse: 1735.57\n",
      "[779]\tvalid_0's rmse: 1735.5\n",
      "[780]\tvalid_0's rmse: 1735.41\n",
      "[781]\tvalid_0's rmse: 1735.32\n",
      "[782]\tvalid_0's rmse: 1735.25\n",
      "[783]\tvalid_0's rmse: 1735.13\n",
      "[784]\tvalid_0's rmse: 1735.1\n",
      "[785]\tvalid_0's rmse: 1735.08\n",
      "[786]\tvalid_0's rmse: 1734.98\n",
      "[787]\tvalid_0's rmse: 1734.96\n",
      "[788]\tvalid_0's rmse: 1734.96\n",
      "[789]\tvalid_0's rmse: 1734.95\n",
      "[790]\tvalid_0's rmse: 1734.93\n",
      "[791]\tvalid_0's rmse: 1734.84\n",
      "[792]\tvalid_0's rmse: 1734.81\n",
      "[793]\tvalid_0's rmse: 1734.77\n",
      "[794]\tvalid_0's rmse: 1734.75\n",
      "[795]\tvalid_0's rmse: 1734.65\n",
      "[796]\tvalid_0's rmse: 1734.63\n",
      "[797]\tvalid_0's rmse: 1734.57\n",
      "[798]\tvalid_0's rmse: 1734.54\n",
      "[799]\tvalid_0's rmse: 1734.41\n",
      "[800]\tvalid_0's rmse: 1734.36\n",
      "[801]\tvalid_0's rmse: 1734.3\n",
      "[802]\tvalid_0's rmse: 1734.21\n",
      "[803]\tvalid_0's rmse: 1734.16\n",
      "[804]\tvalid_0's rmse: 1734.12\n",
      "[805]\tvalid_0's rmse: 1734.08\n",
      "[806]\tvalid_0's rmse: 1733.98\n",
      "[807]\tvalid_0's rmse: 1733.9\n",
      "[808]\tvalid_0's rmse: 1733.82\n",
      "[809]\tvalid_0's rmse: 1733.79\n",
      "[810]\tvalid_0's rmse: 1733.74\n",
      "[811]\tvalid_0's rmse: 1733.7\n",
      "[812]\tvalid_0's rmse: 1733.58\n",
      "[813]\tvalid_0's rmse: 1733.44\n",
      "[814]\tvalid_0's rmse: 1733.32\n",
      "[815]\tvalid_0's rmse: 1733.21\n",
      "[816]\tvalid_0's rmse: 1733.18\n",
      "[817]\tvalid_0's rmse: 1733.15\n",
      "[818]\tvalid_0's rmse: 1733.11\n",
      "[819]\tvalid_0's rmse: 1733.07\n",
      "[820]\tvalid_0's rmse: 1733.05\n",
      "[821]\tvalid_0's rmse: 1732.95\n",
      "[822]\tvalid_0's rmse: 1732.86\n",
      "[823]\tvalid_0's rmse: 1732.74\n",
      "[824]\tvalid_0's rmse: 1732.76\n"
     ]
    },
    {
     "name": "stdout",
     "output_type": "stream",
     "text": [
      "[825]\tvalid_0's rmse: 1732.77\n",
      "[826]\tvalid_0's rmse: 1732.71\n",
      "[827]\tvalid_0's rmse: 1732.63\n",
      "[828]\tvalid_0's rmse: 1732.54\n",
      "[829]\tvalid_0's rmse: 1732.46\n",
      "[830]\tvalid_0's rmse: 1732.35\n",
      "[831]\tvalid_0's rmse: 1732.23\n",
      "[832]\tvalid_0's rmse: 1732.04\n",
      "[833]\tvalid_0's rmse: 1731.94\n",
      "[834]\tvalid_0's rmse: 1731.84\n",
      "[835]\tvalid_0's rmse: 1731.7\n",
      "[836]\tvalid_0's rmse: 1731.61\n",
      "[837]\tvalid_0's rmse: 1731.53\n",
      "[838]\tvalid_0's rmse: 1731.44\n",
      "[839]\tvalid_0's rmse: 1731.36\n",
      "[840]\tvalid_0's rmse: 1731.33\n",
      "[841]\tvalid_0's rmse: 1731.25\n",
      "[842]\tvalid_0's rmse: 1731.17\n",
      "[843]\tvalid_0's rmse: 1731.12\n",
      "[844]\tvalid_0's rmse: 1731.09\n",
      "[845]\tvalid_0's rmse: 1731.01\n",
      "[846]\tvalid_0's rmse: 1730.95\n",
      "[847]\tvalid_0's rmse: 1730.91\n",
      "[848]\tvalid_0's rmse: 1730.86\n",
      "[849]\tvalid_0's rmse: 1730.85\n",
      "[850]\tvalid_0's rmse: 1730.79\n",
      "[851]\tvalid_0's rmse: 1730.66\n",
      "[852]\tvalid_0's rmse: 1730.6\n",
      "[853]\tvalid_0's rmse: 1730.52\n",
      "[854]\tvalid_0's rmse: 1730.4\n",
      "[855]\tvalid_0's rmse: 1730.31\n",
      "[856]\tvalid_0's rmse: 1730.24\n",
      "[857]\tvalid_0's rmse: 1730.21\n",
      "[858]\tvalid_0's rmse: 1730.15\n",
      "[859]\tvalid_0's rmse: 1730.06\n",
      "[860]\tvalid_0's rmse: 1729.99\n",
      "[861]\tvalid_0's rmse: 1729.9\n",
      "[862]\tvalid_0's rmse: 1729.82\n",
      "[863]\tvalid_0's rmse: 1729.74\n",
      "[864]\tvalid_0's rmse: 1729.69\n",
      "[865]\tvalid_0's rmse: 1729.7\n",
      "[866]\tvalid_0's rmse: 1729.64\n",
      "[867]\tvalid_0's rmse: 1729.57\n",
      "[868]\tvalid_0's rmse: 1729.54\n",
      "[869]\tvalid_0's rmse: 1729.43\n",
      "[870]\tvalid_0's rmse: 1729.37\n",
      "[871]\tvalid_0's rmse: 1729.31\n",
      "[872]\tvalid_0's rmse: 1729.27\n",
      "[873]\tvalid_0's rmse: 1729.27\n",
      "[874]\tvalid_0's rmse: 1729.21\n",
      "[875]\tvalid_0's rmse: 1729.18\n",
      "[876]\tvalid_0's rmse: 1729.15\n",
      "[877]\tvalid_0's rmse: 1729.1\n",
      "[878]\tvalid_0's rmse: 1729.06\n",
      "[879]\tvalid_0's rmse: 1729.02\n",
      "[880]\tvalid_0's rmse: 1729\n",
      "[881]\tvalid_0's rmse: 1728.99\n",
      "[882]\tvalid_0's rmse: 1728.96\n",
      "[883]\tvalid_0's rmse: 1728.96\n",
      "[884]\tvalid_0's rmse: 1728.92\n",
      "[885]\tvalid_0's rmse: 1728.85\n",
      "[886]\tvalid_0's rmse: 1728.76\n",
      "[887]\tvalid_0's rmse: 1728.72\n",
      "[888]\tvalid_0's rmse: 1728.67\n",
      "[889]\tvalid_0's rmse: 1728.6\n",
      "[890]\tvalid_0's rmse: 1728.59\n",
      "[891]\tvalid_0's rmse: 1728.53\n",
      "[892]\tvalid_0's rmse: 1728.46\n",
      "[893]\tvalid_0's rmse: 1728.42\n",
      "[894]\tvalid_0's rmse: 1728.44\n",
      "[895]\tvalid_0's rmse: 1728.41\n",
      "[896]\tvalid_0's rmse: 1728.33\n",
      "[897]\tvalid_0's rmse: 1728.25\n",
      "[898]\tvalid_0's rmse: 1728.22\n",
      "[899]\tvalid_0's rmse: 1728.19\n",
      "[900]\tvalid_0's rmse: 1728.16\n",
      "[901]\tvalid_0's rmse: 1728.04\n",
      "[902]\tvalid_0's rmse: 1727.94\n",
      "[903]\tvalid_0's rmse: 1727.89\n",
      "[904]\tvalid_0's rmse: 1727.82\n",
      "[905]\tvalid_0's rmse: 1727.83\n",
      "[906]\tvalid_0's rmse: 1727.8\n",
      "[907]\tvalid_0's rmse: 1727.75\n",
      "[908]\tvalid_0's rmse: 1727.68\n",
      "[909]\tvalid_0's rmse: 1727.65\n",
      "[910]\tvalid_0's rmse: 1727.62\n",
      "[911]\tvalid_0's rmse: 1727.53\n",
      "[912]\tvalid_0's rmse: 1727.4\n",
      "[913]\tvalid_0's rmse: 1727.29\n",
      "[914]\tvalid_0's rmse: 1727.23\n",
      "[915]\tvalid_0's rmse: 1727.13\n",
      "[916]\tvalid_0's rmse: 1727.15\n",
      "[917]\tvalid_0's rmse: 1727.14\n",
      "[918]\tvalid_0's rmse: 1727.13\n",
      "[919]\tvalid_0's rmse: 1727.13\n",
      "[920]\tvalid_0's rmse: 1727.14\n",
      "[921]\tvalid_0's rmse: 1727\n",
      "[922]\tvalid_0's rmse: 1726.98\n",
      "[923]\tvalid_0's rmse: 1726.91\n",
      "[924]\tvalid_0's rmse: 1726.88\n",
      "[925]\tvalid_0's rmse: 1726.78\n",
      "[926]\tvalid_0's rmse: 1726.64\n",
      "[927]\tvalid_0's rmse: 1726.56\n",
      "[928]\tvalid_0's rmse: 1726.42\n",
      "[929]\tvalid_0's rmse: 1726.34\n",
      "[930]\tvalid_0's rmse: 1726.26\n",
      "[931]\tvalid_0's rmse: 1726.22\n",
      "[932]\tvalid_0's rmse: 1726.21\n",
      "[933]\tvalid_0's rmse: 1726.16\n",
      "[934]\tvalid_0's rmse: 1726.08\n",
      "[935]\tvalid_0's rmse: 1726.05\n",
      "[936]\tvalid_0's rmse: 1726\n",
      "[937]\tvalid_0's rmse: 1726.03\n",
      "[938]\tvalid_0's rmse: 1725.98\n",
      "[939]\tvalid_0's rmse: 1725.96\n",
      "[940]\tvalid_0's rmse: 1725.95\n",
      "[941]\tvalid_0's rmse: 1725.92\n",
      "[942]\tvalid_0's rmse: 1725.84\n",
      "[943]\tvalid_0's rmse: 1725.77\n",
      "[944]\tvalid_0's rmse: 1725.7\n",
      "[945]\tvalid_0's rmse: 1725.66\n",
      "[946]\tvalid_0's rmse: 1725.59\n",
      "[947]\tvalid_0's rmse: 1725.54\n",
      "[948]\tvalid_0's rmse: 1725.4\n",
      "[949]\tvalid_0's rmse: 1725.27\n",
      "[950]\tvalid_0's rmse: 1725.19\n",
      "[951]\tvalid_0's rmse: 1725.11\n",
      "[952]\tvalid_0's rmse: 1725.03\n",
      "[953]\tvalid_0's rmse: 1724.95\n",
      "[954]\tvalid_0's rmse: 1724.96\n",
      "[955]\tvalid_0's rmse: 1724.94\n",
      "[956]\tvalid_0's rmse: 1724.89\n",
      "[957]\tvalid_0's rmse: 1724.82\n",
      "[958]\tvalid_0's rmse: 1724.73\n",
      "[959]\tvalid_0's rmse: 1724.69\n",
      "[960]\tvalid_0's rmse: 1724.57\n",
      "[961]\tvalid_0's rmse: 1724.49\n",
      "[962]\tvalid_0's rmse: 1724.37\n",
      "[963]\tvalid_0's rmse: 1724.28\n",
      "[964]\tvalid_0's rmse: 1724.18\n",
      "[965]\tvalid_0's rmse: 1724.05\n",
      "[966]\tvalid_0's rmse: 1723.92\n",
      "[967]\tvalid_0's rmse: 1723.87\n",
      "[968]\tvalid_0's rmse: 1723.78\n",
      "[969]\tvalid_0's rmse: 1723.68\n",
      "[970]\tvalid_0's rmse: 1723.64\n",
      "[971]\tvalid_0's rmse: 1723.59\n",
      "[972]\tvalid_0's rmse: 1723.55\n",
      "[973]\tvalid_0's rmse: 1723.48\n",
      "[974]\tvalid_0's rmse: 1723.41\n",
      "[975]\tvalid_0's rmse: 1723.31\n",
      "[976]\tvalid_0's rmse: 1723.31\n",
      "[977]\tvalid_0's rmse: 1723.26\n",
      "[978]\tvalid_0's rmse: 1723.26\n",
      "[979]\tvalid_0's rmse: 1723.21\n",
      "[980]\tvalid_0's rmse: 1723.21\n",
      "[981]\tvalid_0's rmse: 1723.06\n",
      "[982]\tvalid_0's rmse: 1722.95\n",
      "[983]\tvalid_0's rmse: 1722.81\n",
      "[984]\tvalid_0's rmse: 1722.73\n",
      "[985]\tvalid_0's rmse: 1722.73\n",
      "[986]\tvalid_0's rmse: 1722.73\n",
      "[987]\tvalid_0's rmse: 1722.72\n",
      "[988]\tvalid_0's rmse: 1722.73\n",
      "[989]\tvalid_0's rmse: 1722.74\n",
      "[990]\tvalid_0's rmse: 1722.74\n",
      "[991]\tvalid_0's rmse: 1722.74\n",
      "[992]\tvalid_0's rmse: 1722.66\n",
      "[993]\tvalid_0's rmse: 1722.64\n",
      "[994]\tvalid_0's rmse: 1722.67\n",
      "[995]\tvalid_0's rmse: 1722.65\n",
      "[996]\tvalid_0's rmse: 1722.61\n",
      "[997]\tvalid_0's rmse: 1722.52\n",
      "[998]\tvalid_0's rmse: 1722.54\n",
      "[999]\tvalid_0's rmse: 1722.54\n",
      "[1000]\tvalid_0's rmse: 1722.47\n",
      "Did not meet early stopping. Best iteration is:\n",
      "[1000]\tvalid_0's rmse: 1722.47\n",
      "RMSE para LightGBM: 1722.4712142844235\n"
     ]
    }
   ],
   "source": [
    "#2do modelo con LightGBM modificando parámetros\n",
    "train_data = lgb.Dataset(features_train, label=target_train)\n",
    "valid_data = lgb.Dataset(features_valid, label=target_valid, reference=train_data)\n",
    "\n",
    "params = {\n",
    "    'objective': 'regression',\n",
    "    'metric': 'rmse',\n",
    "    'boosting_type': 'gbdt',\n",
    "    'num_leaves': 64,             # más hojas = más complejo\n",
    "    'learning_rate': 0.03,        # un poco más lento\n",
    "    'feature_fraction': 0.8,\n",
    "    'bagging_fraction': 0.8,\n",
    "    'bagging_freq': 5,\n",
    "    'max_depth': -1               # sin límite de profundidad\n",
    "}\n",
    "\n",
    "start = time.time()\n",
    "lgb_model_2 = lgb.train(params, train_data, valid_sets=[valid_data], num_boost_round=1000, early_stopping_rounds=30)\n",
    "train_time_lgb2  = time.time() - start\n",
    "\n",
    "start = time.time()\n",
    "predictions_lgb2 = lgb_model_2.predict(features_valid, num_iteration=lgb_model_2.best_iteration)\n",
    "predict_time_lgb2  = time.time() - start\n",
    "\n",
    "\n",
    "rmse_lgb2 = np.sqrt(mean_squared_error(target_valid, predictions_lgb2))\n",
    "print(f\"RMSE para LightGBM: {rmse_lgb2}\")"
   ]
  },
  {
   "cell_type": "markdown",
   "metadata": {},
   "source": [
    "El modelo con lightGBM ajustando parámetros como: aumentar número de hojas, y learning rate más lento, obtuvo una mejora en el RMSE de 12 euros con respecto al primer modelo de lightGBM, el tiempo de ejecución a comparar."
   ]
  },
  {
   "cell_type": "markdown",
   "metadata": {},
   "source": [
    "### Modelo de CatBoost"
   ]
  },
  {
   "cell_type": "code",
   "execution_count": 21,
   "metadata": {
    "trusted": false
   },
   "outputs": [
    {
     "name": "stdout",
     "output_type": "stream",
     "text": [
      "0:\tlearn: 4368.1320155\ttotal: 364ms\tremaining: 6m 3s\n",
      "100:\tlearn: 2001.7095522\ttotal: 23.3s\tremaining: 3m 27s\n",
      "200:\tlearn: 1908.1172498\ttotal: 45.1s\tremaining: 2m 59s\n",
      "300:\tlearn: 1859.4189888\ttotal: 1m 7s\tremaining: 2m 37s\n",
      "400:\tlearn: 1827.8693972\ttotal: 1m 30s\tremaining: 2m 15s\n",
      "500:\tlearn: 1806.0479287\ttotal: 1m 52s\tremaining: 1m 52s\n",
      "600:\tlearn: 1788.6685267\ttotal: 2m 14s\tremaining: 1m 29s\n",
      "700:\tlearn: 1775.8003925\ttotal: 2m 37s\tremaining: 1m 7s\n",
      "800:\tlearn: 1764.0502882\ttotal: 2m 59s\tremaining: 44.7s\n",
      "900:\tlearn: 1754.6603400\ttotal: 3m 21s\tremaining: 22.1s\n",
      "999:\tlearn: 1746.7014200\ttotal: 3m 43s\tremaining: 0us\n",
      "RMSE para CatBoost: 1786.1109571406228\n"
     ]
    }
   ],
   "source": [
    "# entrenar el modelo de CatBoost\n",
    "catboost_model_1 = CatBoostRegressor(\n",
    "    iterations=1000,          # Número de iteraciones\n",
    "    depth=6,                  # Profundidad del árbol\n",
    "    learning_rate=0.05,       # Tasa de aprendizaje\n",
    "    loss_function='RMSE',     # Función de pérdida\n",
    "    cat_features=[features_train.columns.get_loc(col) for col in categorical_columns],  \n",
    "    verbose=100               # Muestra información cada 100 iteraciones\n",
    ")\n",
    "\n",
    "# entrenamiento del modelo\n",
    "start = time.time()\n",
    "catboost_model_1.fit(features_train, target_train)\n",
    "train_time_cat1 = time.time() - start\n",
    "\n",
    "# predicciones\n",
    "start = time.time()\n",
    "predictions_cat1 = catboost_model_1.predict(features_valid)\n",
    "predict_time_cat1 = time.time() - start\n",
    "\n",
    "# evaluación con RMSE\n",
    "rmse_cat1 = np.sqrt(mean_squared_error(target_valid, predictions_cat1))\n",
    "print(f\"RMSE para CatBoost: {rmse_cat1}\")"
   ]
  },
  {
   "cell_type": "code",
   "execution_count": 23,
   "metadata": {
    "trusted": false
   },
   "outputs": [
    {
     "name": "stdout",
     "output_type": "stream",
     "text": [
      "0:\tlearn: 4416.9344263\ttotal: 432ms\tremaining: 6m 27s\n",
      "100:\tlearn: 1990.4926530\ttotal: 39.4s\tremaining: 5m 11s\n",
      "200:\tlearn: 1865.2402314\ttotal: 1m 15s\tremaining: 4m 22s\n",
      "300:\tlearn: 1811.4214280\ttotal: 1m 50s\tremaining: 3m 40s\n",
      "400:\tlearn: 1774.3072836\ttotal: 2m 27s\tremaining: 3m 3s\n",
      "500:\tlearn: 1746.0902561\ttotal: 3m 4s\tremaining: 2m 26s\n",
      "600:\tlearn: 1723.6981957\ttotal: 3m 40s\tremaining: 1m 49s\n",
      "700:\tlearn: 1705.9277865\ttotal: 4m 18s\tremaining: 1m 13s\n",
      "800:\tlearn: 1690.5767135\ttotal: 4m 55s\tremaining: 36.5s\n",
      "899:\tlearn: 1675.6785892\ttotal: 5m 31s\tremaining: 0us\n",
      "RMSE para CatBoost: 1756.2733001793104\n"
     ]
    }
   ],
   "source": [
    "# segundo modelo de CatBoost\n",
    "\n",
    "catboost_model_2 = CatBoostRegressor(\n",
    "    iterations=900,          # menor número de iteraciones\n",
    "    depth=9,                  # mayor profundidad\n",
    "    learning_rate=0.03,       # aprendizaje más lento\n",
    "    loss_function='RMSE',     \n",
    "    cat_features=[features_train.columns.get_loc(col) for col in categorical_columns],  \n",
    "    verbose=100               \n",
    ")\n",
    "\n",
    "start = time.time()\n",
    "catboost_model_2.fit(features_train, target_train)\n",
    "train_time_cat2 = time.time() - start\n",
    "\n",
    "start = time.time()\n",
    "predictions_cat2 = catboost_model_2.predict(features_valid)\n",
    "predict_time_cat2 = time.time() - start\n",
    "\n",
    "rmse_cat2 = np.sqrt(mean_squared_error(target_valid, predictions_cat2))\n",
    "print(f\"RMSE para CatBoost: {rmse_cat2}\")"
   ]
  },
  {
   "cell_type": "markdown",
   "metadata": {},
   "source": [
    "El segundo modelo de CatBoost con menores iteraciones pero mayor profundidad y menor tasa de aprendizaje, logró un mejor performance con la métrica de RMSE con respecto al primer modelo de Catboost."
   ]
  },
  {
   "cell_type": "markdown",
   "metadata": {},
   "source": [
    "## Análisis de los modelos"
   ]
  },
  {
   "cell_type": "code",
   "execution_count": 24,
   "metadata": {
    "trusted": false
   },
   "outputs": [
    {
     "name": "stdout",
     "output_type": "stream",
     "text": [
      "             Modelo         RMSE  Tiempo de Entrenamiento (s)  \\\n",
      "0        LightGBM 2  1722.471214                    45.986643   \n",
      "1        LightGBM 1  1734.539633                   912.479229   \n",
      "2        CatBoost 2  1756.273300                   332.939108   \n",
      "3        CatBoost 1  1786.110957                   224.367124   \n",
      "4  Bosque Aleatorio  1969.216493                    12.983249   \n",
      "5  Regresión Lineal  4071.558742                     0.043465   \n",
      "\n",
      "   Tiempo de Predicción (s)  \n",
      "0                  6.421412  \n",
      "1                  4.606434  \n",
      "2                  0.506796  \n",
      "3                  0.345819  \n",
      "4                  0.222264  \n",
      "5                  0.074935  \n"
     ]
    }
   ],
   "source": [
    "resultados_modelos = [\n",
    "    {\n",
    "        \"Modelo\": \"Regresión Lineal\",\n",
    "        \"RMSE\": rmse_linear,\n",
    "        \"Tiempo de Entrenamiento (s)\": train_time_linear,\n",
    "        \"Tiempo de Predicción (s)\": predict_time_linear\n",
    "    },\n",
    "    {\n",
    "        \"Modelo\": \"Bosque Aleatorio\",\n",
    "        \"RMSE\": rmse_rf,\n",
    "        \"Tiempo de Entrenamiento (s)\": train_time_rf,\n",
    "        \"Tiempo de Predicción (s)\": predict_time_rf\n",
    "    },\n",
    "    {\n",
    "        \"Modelo\": \"LightGBM 1\",\n",
    "        \"RMSE\": rmse_lgb1,\n",
    "        \"Tiempo de Entrenamiento (s)\": train_time_lgb1,\n",
    "        \"Tiempo de Predicción (s)\": predict_time_lgb1\n",
    "    },\n",
    "    {\n",
    "        \"Modelo\": \"LightGBM 2\",\n",
    "        \"RMSE\": rmse_lgb2,\n",
    "        \"Tiempo de Entrenamiento (s)\": train_time_lgb2,\n",
    "        \"Tiempo de Predicción (s)\": predict_time_lgb2\n",
    "    },\n",
    "    {\n",
    "        \"Modelo\": \"CatBoost 1\",\n",
    "        \"RMSE\": rmse_cat1,\n",
    "        \"Tiempo de Entrenamiento (s)\": train_time_cat1,\n",
    "        \"Tiempo de Predicción (s)\": predict_time_cat1\n",
    "    },\n",
    "    {\n",
    "        \"Modelo\": \"CatBoost 2\",\n",
    "        \"RMSE\": rmse_cat2,\n",
    "        \"Tiempo de Entrenamiento (s)\": train_time_cat2,\n",
    "        \"Tiempo de Predicción (s)\": predict_time_cat2\n",
    "    }\n",
    "]\n",
    "\n",
    "# convertir a DataFrame para visualización\n",
    "df_resultados = pd.DataFrame(resultados_modelos)\n",
    "\n",
    "# ordernar por RMSE\n",
    "df_resultados = df_resultados.sort_values(by=\"RMSE\").reset_index(drop=True)\n",
    "\n",
    "print(df_resultados)"
   ]
  },
  {
   "cell_type": "markdown",
   "metadata": {},
   "source": [
    "## Conclusión"
   ]
  },
  {
   "cell_type": "markdown",
   "metadata": {},
   "source": [
    "Después de preparar los datos, se entrenaron diferentes modelos para determinar el valor de los autos. Al utilizar la regresión lineal, bosque aleatorio, LightGBM y Catboost con diferentes parámetros, el modelo con menor error resultó el segundo entrenamiento de LightGBM, con más hojas y sin límite de profundidad, a diferencia del primero. Por comparación con la prueba de cordura (la regresión lineal"
   ]
  },
  {
   "cell_type": "markdown",
   "metadata": {},
   "source": [
    "# Lista de control"
   ]
  },
  {
   "cell_type": "markdown",
   "metadata": {},
   "source": [
    "Escribe 'x' para verificar. Luego presiona Shift+Enter"
   ]
  },
  {
   "cell_type": "markdown",
   "metadata": {},
   "source": [
    "- [x]  Jupyter Notebook está abierto\n",
    "- [ ]  El código no tiene errores- [ ]  Las celdas con el código han sido colocadas en orden de ejecución- [ ]  Los datos han sido descargados y preparados- [ ]  Los modelos han sido entrenados\n",
    "- [ ]  Se realizó el análisis de velocidad y calidad de los modelos"
   ]
  }
 ],
 "metadata": {
  "ExecuteTimeLog": [
   {
    "duration": 153,
    "start_time": "2025-03-31T21:49:57.554Z"
   },
   {
    "duration": 325,
    "start_time": "2025-03-31T21:50:01.127Z"
   },
   {
    "duration": 441,
    "start_time": "2025-03-31T21:50:04.524Z"
   },
   {
    "duration": 21,
    "start_time": "2025-03-31T21:50:18.760Z"
   },
   {
    "duration": 3,
    "start_time": "2025-03-31T21:53:26.743Z"
   },
   {
    "duration": 16,
    "start_time": "2025-03-31T21:53:31.732Z"
   },
   {
    "duration": 651,
    "start_time": "2025-03-31T21:53:39.620Z"
   },
   {
    "duration": 322,
    "start_time": "2025-03-31T21:53:46.118Z"
   },
   {
    "duration": 487,
    "start_time": "2025-03-31T21:53:46.442Z"
   },
   {
    "duration": 23,
    "start_time": "2025-03-31T21:53:46.931Z"
   },
   {
    "duration": 27,
    "start_time": "2025-03-31T21:53:46.956Z"
   },
   {
    "duration": 80,
    "start_time": "2025-03-31T22:18:34.643Z"
   },
   {
    "duration": 59,
    "start_time": "2025-03-31T22:19:03.986Z"
   },
   {
    "duration": 15,
    "start_time": "2025-03-31T22:19:12.757Z"
   },
   {
    "duration": 91,
    "start_time": "2025-03-31T22:19:23.856Z"
   },
   {
    "duration": 63,
    "start_time": "2025-03-31T22:19:38.731Z"
   },
   {
    "duration": 140,
    "start_time": "2025-03-31T22:19:55.734Z"
   },
   {
    "duration": 124,
    "start_time": "2025-03-31T22:20:05.942Z"
   },
   {
    "duration": 116,
    "start_time": "2025-03-31T22:20:25.813Z"
   },
   {
    "duration": 15,
    "start_time": "2025-03-31T22:20:34.419Z"
   },
   {
    "duration": 58,
    "start_time": "2025-03-31T22:21:04.202Z"
   },
   {
    "duration": 60,
    "start_time": "2025-03-31T22:21:19.304Z"
   },
   {
    "duration": 136,
    "start_time": "2025-03-31T22:27:22.494Z"
   },
   {
    "duration": 324,
    "start_time": "2025-03-31T22:27:42.023Z"
   },
   {
    "duration": 406,
    "start_time": "2025-03-31T22:27:42.529Z"
   },
   {
    "duration": 23,
    "start_time": "2025-03-31T22:27:43.692Z"
   },
   {
    "duration": 32,
    "start_time": "2025-03-31T22:27:46.191Z"
   },
   {
    "duration": 61,
    "start_time": "2025-03-31T22:27:48.224Z"
   },
   {
    "duration": 18,
    "start_time": "2025-03-31T22:28:07.511Z"
   },
   {
    "duration": 28,
    "start_time": "2025-03-31T22:28:33.319Z"
   },
   {
    "duration": 40,
    "start_time": "2025-03-31T22:28:52.666Z"
   },
   {
    "duration": 59,
    "start_time": "2025-03-31T22:29:01.573Z"
   },
   {
    "duration": 41,
    "start_time": "2025-03-31T22:29:19.706Z"
   },
   {
    "duration": 101,
    "start_time": "2025-03-31T22:31:34.464Z"
   },
   {
    "duration": 336,
    "start_time": "2025-03-31T22:32:51.701Z"
   },
   {
    "duration": 457,
    "start_time": "2025-03-31T22:32:52.039Z"
   },
   {
    "duration": 28,
    "start_time": "2025-03-31T22:32:52.498Z"
   },
   {
    "duration": 26,
    "start_time": "2025-03-31T22:32:52.528Z"
   },
   {
    "duration": 89,
    "start_time": "2025-03-31T22:32:52.557Z"
   },
   {
    "duration": 95,
    "start_time": "2025-03-31T22:32:52.649Z"
   },
   {
    "duration": 121,
    "start_time": "2025-03-31T22:32:52.745Z"
   },
   {
    "duration": 321,
    "start_time": "2025-03-31T22:33:09.338Z"
   },
   {
    "duration": 432,
    "start_time": "2025-03-31T22:33:09.662Z"
   },
   {
    "duration": 34,
    "start_time": "2025-03-31T22:33:10.096Z"
   },
   {
    "duration": 28,
    "start_time": "2025-03-31T22:33:10.133Z"
   },
   {
    "duration": 78,
    "start_time": "2025-03-31T22:33:10.164Z"
   },
   {
    "duration": 121,
    "start_time": "2025-03-31T22:33:10.243Z"
   },
   {
    "duration": 749,
    "start_time": "2025-03-31T22:41:23.287Z"
   },
   {
    "duration": 6,
    "start_time": "2025-03-31T22:42:03.224Z"
   },
   {
    "duration": 201,
    "start_time": "2025-03-31T22:42:18.009Z"
   },
   {
    "duration": 267,
    "start_time": "2025-03-31T22:43:14.600Z"
   },
   {
    "duration": 294,
    "start_time": "2025-03-31T22:43:30.003Z"
   },
   {
    "duration": 406,
    "start_time": "2025-03-31T22:43:30.299Z"
   },
   {
    "duration": 25,
    "start_time": "2025-03-31T22:43:30.707Z"
   },
   {
    "duration": 33,
    "start_time": "2025-03-31T22:43:30.733Z"
   },
   {
    "duration": 78,
    "start_time": "2025-03-31T22:43:30.769Z"
   },
   {
    "duration": 99,
    "start_time": "2025-03-31T22:43:30.848Z"
   },
   {
    "duration": 746,
    "start_time": "2025-03-31T22:43:30.949Z"
   },
   {
    "duration": 477,
    "start_time": "2025-03-31T22:44:12.182Z"
   },
   {
    "duration": 280,
    "start_time": "2025-03-31T22:46:03.666Z"
   },
   {
    "duration": 427,
    "start_time": "2025-03-31T22:46:03.948Z"
   },
   {
    "duration": 24,
    "start_time": "2025-03-31T22:46:04.377Z"
   },
   {
    "duration": 36,
    "start_time": "2025-03-31T22:46:04.403Z"
   },
   {
    "duration": 93,
    "start_time": "2025-03-31T22:46:04.442Z"
   },
   {
    "duration": 100,
    "start_time": "2025-03-31T22:46:04.537Z"
   },
   {
    "duration": 482,
    "start_time": "2025-03-31T22:46:04.639Z"
   },
   {
    "duration": 13,
    "start_time": "2025-03-31T22:46:59.836Z"
   },
   {
    "duration": 15,
    "start_time": "2025-03-31T22:47:08.691Z"
   },
   {
    "duration": 104,
    "start_time": "2025-03-31T22:47:28.556Z"
   },
   {
    "duration": 372,
    "start_time": "2025-03-31T22:53:31.761Z"
   },
   {
    "duration": 135,
    "start_time": "2025-03-31T22:56:30.175Z"
   },
   {
    "duration": 348,
    "start_time": "2025-03-31T22:56:39.816Z"
   },
   {
    "duration": 429,
    "start_time": "2025-03-31T22:56:40.166Z"
   },
   {
    "duration": 27,
    "start_time": "2025-03-31T22:56:40.597Z"
   },
   {
    "duration": 34,
    "start_time": "2025-03-31T22:56:40.626Z"
   },
   {
    "duration": 97,
    "start_time": "2025-03-31T22:56:40.664Z"
   },
   {
    "duration": 95,
    "start_time": "2025-03-31T22:56:40.764Z"
   },
   {
    "duration": 494,
    "start_time": "2025-03-31T22:56:40.862Z"
   },
   {
    "duration": 80,
    "start_time": "2025-03-31T22:56:41.358Z"
   },
   {
    "duration": 432,
    "start_time": "2025-03-31T22:56:41.440Z"
   },
   {
    "duration": 6,
    "start_time": "2025-03-31T22:57:56.747Z"
   },
   {
    "duration": 146,
    "start_time": "2025-03-31T22:58:19.306Z"
   },
   {
    "duration": 105,
    "start_time": "2025-03-31T22:58:41.225Z"
   },
   {
    "duration": 302,
    "start_time": "2025-03-31T22:59:26.832Z"
   },
   {
    "duration": 417,
    "start_time": "2025-03-31T22:59:27.137Z"
   },
   {
    "duration": 24,
    "start_time": "2025-03-31T22:59:27.556Z"
   },
   {
    "duration": 39,
    "start_time": "2025-03-31T22:59:27.581Z"
   },
   {
    "duration": 60,
    "start_time": "2025-03-31T22:59:27.622Z"
   },
   {
    "duration": 104,
    "start_time": "2025-03-31T22:59:27.684Z"
   },
   {
    "duration": 517,
    "start_time": "2025-03-31T22:59:27.790Z"
   },
   {
    "duration": 778,
    "start_time": "2025-03-31T22:59:28.309Z"
   },
   {
    "duration": 0,
    "start_time": "2025-03-31T22:59:29.089Z"
   },
   {
    "duration": 239,
    "start_time": "2025-03-31T23:01:09.773Z"
   },
   {
    "duration": 215,
    "start_time": "2025-03-31T23:01:44.054Z"
   },
   {
    "duration": 358,
    "start_time": "2025-03-31T23:02:58.898Z"
   },
   {
    "duration": 105,
    "start_time": "2025-03-31T23:03:45.943Z"
   },
   {
    "duration": 282,
    "start_time": "2025-03-31T23:05:16.904Z"
   },
   {
    "duration": 307,
    "start_time": "2025-03-31T23:05:27.308Z"
   },
   {
    "duration": 444,
    "start_time": "2025-03-31T23:05:27.618Z"
   },
   {
    "duration": 22,
    "start_time": "2025-03-31T23:05:28.065Z"
   },
   {
    "duration": 33,
    "start_time": "2025-03-31T23:05:28.089Z"
   },
   {
    "duration": 101,
    "start_time": "2025-03-31T23:05:28.124Z"
   },
   {
    "duration": 143,
    "start_time": "2025-03-31T23:05:28.227Z"
   },
   {
    "duration": 515,
    "start_time": "2025-03-31T23:05:28.372Z"
   },
   {
    "duration": 81,
    "start_time": "2025-03-31T23:05:28.889Z"
   },
   {
    "duration": 440,
    "start_time": "2025-03-31T23:05:28.972Z"
   },
   {
    "duration": 148,
    "start_time": "2025-03-31T23:06:05.448Z"
   },
   {
    "duration": 345,
    "start_time": "2025-03-31T23:06:14.270Z"
   },
   {
    "duration": 520,
    "start_time": "2025-03-31T23:06:14.618Z"
   },
   {
    "duration": 31,
    "start_time": "2025-03-31T23:06:15.140Z"
   },
   {
    "duration": 41,
    "start_time": "2025-03-31T23:06:15.173Z"
   },
   {
    "duration": 92,
    "start_time": "2025-03-31T23:06:15.217Z"
   },
   {
    "duration": 131,
    "start_time": "2025-03-31T23:06:15.311Z"
   },
   {
    "duration": 635,
    "start_time": "2025-03-31T23:06:15.445Z"
   },
   {
    "duration": 105,
    "start_time": "2025-03-31T23:06:16.082Z"
   },
   {
    "duration": 515,
    "start_time": "2025-03-31T23:06:16.188Z"
   },
   {
    "duration": 382,
    "start_time": "2025-04-03T18:48:35.789Z"
   },
   {
    "duration": 320,
    "start_time": "2025-04-03T18:48:53.022Z"
   },
   {
    "duration": 77,
    "start_time": "2025-04-03T18:49:29.452Z"
   },
   {
    "duration": 268,
    "start_time": "2025-04-03T18:49:43.785Z"
   },
   {
    "duration": 783,
    "start_time": "2025-04-03T18:49:54.408Z"
   },
   {
    "duration": 461,
    "start_time": "2025-04-03T18:50:15.719Z"
   },
   {
    "duration": 585,
    "start_time": "2025-04-03T18:50:32.121Z"
   },
   {
    "duration": 93,
    "start_time": "2025-04-03T18:50:50.054Z"
   },
   {
    "duration": 270,
    "start_time": "2025-04-03T18:51:00.605Z"
   },
   {
    "duration": 401,
    "start_time": "2025-04-03T18:51:00.878Z"
   },
   {
    "duration": 22,
    "start_time": "2025-04-03T18:51:01.281Z"
   },
   {
    "duration": 38,
    "start_time": "2025-04-03T18:51:01.305Z"
   },
   {
    "duration": 86,
    "start_time": "2025-04-03T18:51:01.345Z"
   },
   {
    "duration": 98,
    "start_time": "2025-04-03T18:51:01.433Z"
   },
   {
    "duration": 489,
    "start_time": "2025-04-03T18:51:01.533Z"
   },
   {
    "duration": 72,
    "start_time": "2025-04-03T18:51:02.024Z"
   },
   {
    "duration": 557,
    "start_time": "2025-04-03T18:51:02.097Z"
   },
   {
    "duration": 286,
    "start_time": "2025-04-03T18:51:14.929Z"
   },
   {
    "duration": 306,
    "start_time": "2025-04-03T18:52:05.879Z"
   },
   {
    "duration": 428,
    "start_time": "2025-04-03T18:52:06.188Z"
   },
   {
    "duration": 24,
    "start_time": "2025-04-03T18:52:06.618Z"
   },
   {
    "duration": 28,
    "start_time": "2025-04-03T18:52:06.644Z"
   },
   {
    "duration": 77,
    "start_time": "2025-04-03T18:52:06.674Z"
   },
   {
    "duration": 108,
    "start_time": "2025-04-03T18:52:06.752Z"
   },
   {
    "duration": 481,
    "start_time": "2025-04-03T18:52:06.862Z"
   },
   {
    "duration": 67,
    "start_time": "2025-04-03T18:52:07.345Z"
   },
   {
    "duration": 1009,
    "start_time": "2025-04-03T18:52:07.414Z"
   },
   {
    "duration": 61,
    "start_time": "2025-04-03T18:52:36.618Z"
   },
   {
    "duration": 305,
    "start_time": "2025-04-03T18:52:47.265Z"
   },
   {
    "duration": 402,
    "start_time": "2025-04-03T18:52:47.573Z"
   },
   {
    "duration": 22,
    "start_time": "2025-04-03T18:52:47.977Z"
   },
   {
    "duration": 108,
    "start_time": "2025-04-03T18:52:48.001Z"
   },
   {
    "duration": 31,
    "start_time": "2025-04-03T18:52:48.111Z"
   },
   {
    "duration": 60,
    "start_time": "2025-04-03T18:52:48.144Z"
   },
   {
    "duration": 117,
    "start_time": "2025-04-03T18:52:48.205Z"
   },
   {
    "duration": 489,
    "start_time": "2025-04-03T18:52:48.324Z"
   },
   {
    "duration": 69,
    "start_time": "2025-04-03T18:52:48.815Z"
   },
   {
    "duration": 321,
    "start_time": "2025-04-03T18:53:07.745Z"
   },
   {
    "duration": 426,
    "start_time": "2025-04-03T18:53:08.068Z"
   },
   {
    "duration": 21,
    "start_time": "2025-04-03T18:53:08.496Z"
   },
   {
    "duration": 36,
    "start_time": "2025-04-03T18:53:08.519Z"
   },
   {
    "duration": 86,
    "start_time": "2025-04-03T18:53:08.558Z"
   },
   {
    "duration": 64,
    "start_time": "2025-04-03T18:53:08.647Z"
   },
   {
    "duration": 114,
    "start_time": "2025-04-03T18:53:08.713Z"
   },
   {
    "duration": 472,
    "start_time": "2025-04-03T18:53:08.831Z"
   },
   {
    "duration": 77,
    "start_time": "2025-04-03T18:53:09.305Z"
   },
   {
    "duration": 3,
    "start_time": "2025-04-03T18:53:57.088Z"
   },
   {
    "duration": 311,
    "start_time": "2025-04-03T18:55:41.544Z"
   },
   {
    "duration": 418,
    "start_time": "2025-04-03T18:55:41.857Z"
   },
   {
    "duration": 23,
    "start_time": "2025-04-03T18:55:42.277Z"
   },
   {
    "duration": 41,
    "start_time": "2025-04-03T18:55:42.302Z"
   },
   {
    "duration": 64,
    "start_time": "2025-04-03T18:55:42.344Z"
   },
   {
    "duration": 3,
    "start_time": "2025-04-03T18:55:42.410Z"
   },
   {
    "duration": 64,
    "start_time": "2025-04-03T18:55:42.431Z"
   },
   {
    "duration": 114,
    "start_time": "2025-04-03T18:55:42.497Z"
   },
   {
    "duration": 475,
    "start_time": "2025-04-03T18:55:42.613Z"
   },
   {
    "duration": 74,
    "start_time": "2025-04-03T18:55:43.090Z"
   },
   {
    "duration": 66,
    "start_time": "2025-04-03T18:56:55.695Z"
   },
   {
    "duration": 181,
    "start_time": "2025-04-03T20:05:55.863Z"
   },
   {
    "duration": 587,
    "start_time": "2025-04-03T20:06:01.372Z"
   },
   {
    "duration": 263,
    "start_time": "2025-04-03T20:06:06.238Z"
   },
   {
    "duration": 451,
    "start_time": "2025-04-03T20:07:38.313Z"
   },
   {
    "duration": 32,
    "start_time": "2025-04-03T20:11:01.553Z"
   },
   {
    "duration": 60,
    "start_time": "2025-04-03T20:11:06.480Z"
   },
   {
    "duration": 139,
    "start_time": "2025-04-03T20:33:52.657Z"
   },
   {
    "duration": 94,
    "start_time": "2025-04-03T20:34:15.509Z"
   },
   {
    "duration": 134,
    "start_time": "2025-04-03T20:35:29.315Z"
   },
   {
    "duration": 139,
    "start_time": "2025-04-03T20:35:55.496Z"
   },
   {
    "duration": 2,
    "start_time": "2025-04-03T20:36:02.839Z"
   },
   {
    "duration": 178,
    "start_time": "2025-04-03T20:36:07.170Z"
   },
   {
    "duration": 828,
    "start_time": "2025-04-03T20:36:36.519Z"
   },
   {
    "duration": 400,
    "start_time": "2025-04-03T20:36:37.349Z"
   },
   {
    "duration": 21,
    "start_time": "2025-04-03T20:36:37.750Z"
   },
   {
    "duration": 27,
    "start_time": "2025-04-03T20:36:37.772Z"
   },
   {
    "duration": 80,
    "start_time": "2025-04-03T20:36:37.801Z"
   },
   {
    "duration": 3,
    "start_time": "2025-04-03T20:36:37.883Z"
   },
   {
    "duration": 70,
    "start_time": "2025-04-03T20:36:37.888Z"
   },
   {
    "duration": 109,
    "start_time": "2025-04-03T20:36:37.959Z"
   },
   {
    "duration": 494,
    "start_time": "2025-04-03T20:36:38.070Z"
   },
   {
    "duration": 75,
    "start_time": "2025-04-03T20:36:38.566Z"
   },
   {
    "duration": 60,
    "start_time": "2025-04-03T20:36:38.643Z"
   },
   {
    "duration": 330,
    "start_time": "2025-04-03T20:36:38.704Z"
   },
   {
    "duration": 59,
    "start_time": "2025-04-03T20:36:39.035Z"
   },
   {
    "duration": 506,
    "start_time": "2025-04-03T20:36:39.096Z"
   },
   {
    "duration": 103,
    "start_time": "2025-04-03T20:38:34.139Z"
   },
   {
    "duration": 55,
    "start_time": "2025-04-03T20:38:47.826Z"
   },
   {
    "duration": 60,
    "start_time": "2025-04-03T20:41:36.646Z"
   },
   {
    "duration": 859,
    "start_time": "2025-04-03T20:41:41.579Z"
   },
   {
    "duration": 394,
    "start_time": "2025-04-03T20:41:42.440Z"
   },
   {
    "duration": 20,
    "start_time": "2025-04-03T20:41:42.836Z"
   },
   {
    "duration": 26,
    "start_time": "2025-04-03T20:41:42.858Z"
   },
   {
    "duration": 84,
    "start_time": "2025-04-03T20:41:42.887Z"
   },
   {
    "duration": 4,
    "start_time": "2025-04-03T20:41:42.972Z"
   },
   {
    "duration": 72,
    "start_time": "2025-04-03T20:41:42.977Z"
   },
   {
    "duration": 111,
    "start_time": "2025-04-03T20:41:43.051Z"
   },
   {
    "duration": 468,
    "start_time": "2025-04-03T20:41:43.164Z"
   },
   {
    "duration": 68,
    "start_time": "2025-04-03T20:41:43.634Z"
   },
   {
    "duration": 74,
    "start_time": "2025-04-03T20:41:43.703Z"
   },
   {
    "duration": 309,
    "start_time": "2025-04-03T20:41:43.779Z"
   },
   {
    "duration": 199,
    "start_time": "2025-04-03T20:41:44.090Z"
   },
   {
    "duration": 0,
    "start_time": "2025-04-03T20:41:44.292Z"
   },
   {
    "duration": 150,
    "start_time": "2025-04-03T20:42:05.607Z"
   },
   {
    "duration": 56,
    "start_time": "2025-04-03T20:42:15.396Z"
   },
   {
    "duration": 826,
    "start_time": "2025-04-03T20:43:32.727Z"
   },
   {
    "duration": 415,
    "start_time": "2025-04-03T20:43:33.555Z"
   },
   {
    "duration": 21,
    "start_time": "2025-04-03T20:43:33.972Z"
   },
   {
    "duration": 41,
    "start_time": "2025-04-03T20:43:33.994Z"
   },
   {
    "duration": 66,
    "start_time": "2025-04-03T20:43:34.037Z"
   },
   {
    "duration": 3,
    "start_time": "2025-04-03T20:43:34.104Z"
   },
   {
    "duration": 75,
    "start_time": "2025-04-03T20:43:34.109Z"
   },
   {
    "duration": 115,
    "start_time": "2025-04-03T20:43:34.185Z"
   },
   {
    "duration": 486,
    "start_time": "2025-04-03T20:43:34.302Z"
   },
   {
    "duration": 74,
    "start_time": "2025-04-03T20:43:34.789Z"
   },
   {
    "duration": 70,
    "start_time": "2025-04-03T20:43:34.865Z"
   },
   {
    "duration": 314,
    "start_time": "2025-04-03T20:43:34.938Z"
   },
   {
    "duration": 58,
    "start_time": "2025-04-03T20:43:35.254Z"
   },
   {
    "duration": 126,
    "start_time": "2025-04-03T20:43:35.315Z"
   },
   {
    "duration": 393,
    "start_time": "2025-04-03T20:44:10.543Z"
   },
   {
    "duration": 57,
    "start_time": "2025-04-03T20:44:25.215Z"
   },
   {
    "duration": 57,
    "start_time": "2025-04-03T20:44:47.056Z"
   },
   {
    "duration": 49,
    "start_time": "2025-04-03T20:45:10.107Z"
   },
   {
    "duration": 14,
    "start_time": "2025-04-03T20:45:33.716Z"
   },
   {
    "duration": 898,
    "start_time": "2025-04-03T20:45:44.337Z"
   },
   {
    "duration": 404,
    "start_time": "2025-04-03T20:45:45.237Z"
   },
   {
    "duration": 21,
    "start_time": "2025-04-03T20:45:45.642Z"
   },
   {
    "duration": 28,
    "start_time": "2025-04-03T20:45:45.665Z"
   },
   {
    "duration": 85,
    "start_time": "2025-04-03T20:45:45.696Z"
   },
   {
    "duration": 3,
    "start_time": "2025-04-03T20:45:45.783Z"
   },
   {
    "duration": 84,
    "start_time": "2025-04-03T20:45:45.787Z"
   },
   {
    "duration": 108,
    "start_time": "2025-04-03T20:45:45.873Z"
   },
   {
    "duration": 511,
    "start_time": "2025-04-03T20:45:45.983Z"
   },
   {
    "duration": 78,
    "start_time": "2025-04-03T20:45:46.496Z"
   },
   {
    "duration": 63,
    "start_time": "2025-04-03T20:45:46.576Z"
   },
   {
    "duration": 319,
    "start_time": "2025-04-03T20:45:46.640Z"
   },
   {
    "duration": 58,
    "start_time": "2025-04-03T20:45:46.961Z"
   },
   {
    "duration": 514,
    "start_time": "2025-04-03T20:45:47.033Z"
   },
   {
    "duration": 15,
    "start_time": "2025-04-03T20:45:55.436Z"
   },
   {
    "duration": 75,
    "start_time": "2025-04-03T20:46:23.761Z"
   },
   {
    "duration": 858,
    "start_time": "2025-04-03T20:46:29.498Z"
   },
   {
    "duration": 410,
    "start_time": "2025-04-03T20:46:30.358Z"
   },
   {
    "duration": 23,
    "start_time": "2025-04-03T20:46:30.769Z"
   },
   {
    "duration": 39,
    "start_time": "2025-04-03T20:46:30.794Z"
   },
   {
    "duration": 65,
    "start_time": "2025-04-03T20:46:30.837Z"
   },
   {
    "duration": 3,
    "start_time": "2025-04-03T20:46:30.904Z"
   },
   {
    "duration": 77,
    "start_time": "2025-04-03T20:46:30.908Z"
   },
   {
    "duration": 112,
    "start_time": "2025-04-03T20:46:30.986Z"
   },
   {
    "duration": 481,
    "start_time": "2025-04-03T20:46:31.100Z"
   },
   {
    "duration": 80,
    "start_time": "2025-04-03T20:46:31.582Z"
   },
   {
    "duration": 69,
    "start_time": "2025-04-03T20:46:31.664Z"
   },
   {
    "duration": 319,
    "start_time": "2025-04-03T20:46:31.735Z"
   },
   {
    "duration": 57,
    "start_time": "2025-04-03T20:46:32.055Z"
   },
   {
    "duration": 409,
    "start_time": "2025-04-03T20:46:32.115Z"
   },
   {
    "duration": 87,
    "start_time": "2025-04-03T20:47:10.089Z"
   },
   {
    "duration": 15,
    "start_time": "2025-04-03T20:47:31.501Z"
   },
   {
    "duration": 872,
    "start_time": "2025-04-03T20:47:39.070Z"
   },
   {
    "duration": 416,
    "start_time": "2025-04-03T20:47:39.944Z"
   },
   {
    "duration": 20,
    "start_time": "2025-04-03T20:47:40.362Z"
   },
   {
    "duration": 30,
    "start_time": "2025-04-03T20:47:40.384Z"
   },
   {
    "duration": 62,
    "start_time": "2025-04-03T20:47:40.433Z"
   },
   {
    "duration": 3,
    "start_time": "2025-04-03T20:47:40.497Z"
   },
   {
    "duration": 70,
    "start_time": "2025-04-03T20:47:40.502Z"
   },
   {
    "duration": 107,
    "start_time": "2025-04-03T20:47:40.573Z"
   },
   {
    "duration": 498,
    "start_time": "2025-04-03T20:47:40.682Z"
   },
   {
    "duration": 76,
    "start_time": "2025-04-03T20:47:41.181Z"
   },
   {
    "duration": 62,
    "start_time": "2025-04-03T20:47:41.259Z"
   },
   {
    "duration": 313,
    "start_time": "2025-04-03T20:47:41.331Z"
   },
   {
    "duration": 62,
    "start_time": "2025-04-03T20:47:41.646Z"
   },
   {
    "duration": 402,
    "start_time": "2025-04-03T20:47:41.710Z"
   },
   {
    "duration": 2,
    "start_time": "2025-04-03T20:48:25.374Z"
   },
   {
    "duration": 849,
    "start_time": "2025-04-07T16:17:45.995Z"
   },
   {
    "duration": 481,
    "start_time": "2025-04-07T16:17:46.846Z"
   },
   {
    "duration": 20,
    "start_time": "2025-04-07T16:17:47.329Z"
   },
   {
    "duration": 28,
    "start_time": "2025-04-07T16:17:47.352Z"
   },
   {
    "duration": 75,
    "start_time": "2025-04-07T16:17:47.381Z"
   },
   {
    "duration": 4,
    "start_time": "2025-04-07T16:17:47.457Z"
   },
   {
    "duration": 70,
    "start_time": "2025-04-07T16:17:47.462Z"
   },
   {
    "duration": 108,
    "start_time": "2025-04-07T16:17:47.533Z"
   },
   {
    "duration": 484,
    "start_time": "2025-04-07T16:17:47.642Z"
   },
   {
    "duration": 67,
    "start_time": "2025-04-07T16:17:48.129Z"
   },
   {
    "duration": 60,
    "start_time": "2025-04-07T16:17:48.210Z"
   },
   {
    "duration": 337,
    "start_time": "2025-04-07T16:17:48.272Z"
   },
   {
    "duration": 59,
    "start_time": "2025-04-07T16:17:48.611Z"
   },
   {
    "duration": 2,
    "start_time": "2025-04-07T16:17:48.672Z"
   },
   {
    "duration": 7,
    "start_time": "2025-04-07T16:18:14.715Z"
   },
   {
    "duration": 157,
    "start_time": "2025-04-07T16:18:49.095Z"
   },
   {
    "duration": 1231,
    "start_time": "2025-04-07T16:18:51.348Z"
   },
   {
    "duration": 890,
    "start_time": "2025-04-07T16:20:06.707Z"
   },
   {
    "duration": 432,
    "start_time": "2025-04-07T16:20:07.601Z"
   },
   {
    "duration": 27,
    "start_time": "2025-04-07T16:20:08.035Z"
   },
   {
    "duration": 46,
    "start_time": "2025-04-07T16:20:08.064Z"
   },
   {
    "duration": 78,
    "start_time": "2025-04-07T16:20:08.113Z"
   },
   {
    "duration": 17,
    "start_time": "2025-04-07T16:20:08.193Z"
   },
   {
    "duration": 64,
    "start_time": "2025-04-07T16:20:08.212Z"
   },
   {
    "duration": 124,
    "start_time": "2025-04-07T16:20:08.278Z"
   },
   {
    "duration": 514,
    "start_time": "2025-04-07T16:20:08.403Z"
   },
   {
    "duration": 71,
    "start_time": "2025-04-07T16:20:08.919Z"
   },
   {
    "duration": 71,
    "start_time": "2025-04-07T16:20:08.991Z"
   },
   {
    "duration": 332,
    "start_time": "2025-04-07T16:20:09.063Z"
   },
   {
    "duration": 212,
    "start_time": "2025-04-07T16:20:09.397Z"
   },
   {
    "duration": 2,
    "start_time": "2025-04-07T16:20:09.612Z"
   },
   {
    "duration": 388,
    "start_time": "2025-04-07T16:23:14.584Z"
   },
   {
    "duration": 57,
    "start_time": "2025-04-07T16:25:27.823Z"
   },
   {
    "duration": 160,
    "start_time": "2025-04-07T16:25:52.059Z"
   },
   {
    "duration": 866,
    "start_time": "2025-04-07T16:25:57.674Z"
   },
   {
    "duration": 408,
    "start_time": "2025-04-07T16:25:58.542Z"
   },
   {
    "duration": 22,
    "start_time": "2025-04-07T16:25:58.951Z"
   },
   {
    "duration": 42,
    "start_time": "2025-04-07T16:25:58.975Z"
   },
   {
    "duration": 65,
    "start_time": "2025-04-07T16:25:59.021Z"
   },
   {
    "duration": 4,
    "start_time": "2025-04-07T16:25:59.087Z"
   },
   {
    "duration": 76,
    "start_time": "2025-04-07T16:25:59.092Z"
   },
   {
    "duration": 114,
    "start_time": "2025-04-07T16:25:59.169Z"
   },
   {
    "duration": 488,
    "start_time": "2025-04-07T16:25:59.285Z"
   },
   {
    "duration": 78,
    "start_time": "2025-04-07T16:25:59.776Z"
   },
   {
    "duration": 67,
    "start_time": "2025-04-07T16:25:59.855Z"
   },
   {
    "duration": 318,
    "start_time": "2025-04-07T16:25:59.923Z"
   },
   {
    "duration": 236,
    "start_time": "2025-04-07T16:26:00.243Z"
   },
   {
    "duration": 496,
    "start_time": "2025-04-07T16:26:00.482Z"
   },
   {
    "duration": 882,
    "start_time": "2025-04-07T16:26:58.841Z"
   },
   {
    "duration": 415,
    "start_time": "2025-04-07T16:26:59.725Z"
   },
   {
    "duration": 21,
    "start_time": "2025-04-07T16:27:00.142Z"
   },
   {
    "duration": 22,
    "start_time": "2025-04-07T16:27:00.165Z"
   },
   {
    "duration": 80,
    "start_time": "2025-04-07T16:27:00.190Z"
   },
   {
    "duration": 3,
    "start_time": "2025-04-07T16:27:00.272Z"
   },
   {
    "duration": 72,
    "start_time": "2025-04-07T16:27:00.277Z"
   },
   {
    "duration": 112,
    "start_time": "2025-04-07T16:27:00.351Z"
   },
   {
    "duration": 492,
    "start_time": "2025-04-07T16:27:00.465Z"
   },
   {
    "duration": 76,
    "start_time": "2025-04-07T16:27:00.960Z"
   },
   {
    "duration": 60,
    "start_time": "2025-04-07T16:27:01.038Z"
   },
   {
    "duration": 313,
    "start_time": "2025-04-07T16:27:01.109Z"
   },
   {
    "duration": 222,
    "start_time": "2025-04-07T16:27:01.424Z"
   },
   {
    "duration": 74,
    "start_time": "2025-04-07T16:27:01.649Z"
   },
   {
    "duration": 66707,
    "start_time": "2025-04-07T16:27:36.390Z"
   },
   {
    "duration": 30852,
    "start_time": "2025-04-07T16:29:37.958Z"
   },
   {
    "duration": 900,
    "start_time": "2025-04-12T06:08:25.003Z"
   },
   {
    "duration": 420,
    "start_time": "2025-04-12T06:08:25.905Z"
   },
   {
    "duration": 21,
    "start_time": "2025-04-12T06:08:26.327Z"
   },
   {
    "duration": 37,
    "start_time": "2025-04-12T06:08:26.350Z"
   },
   {
    "duration": 65,
    "start_time": "2025-04-12T06:08:26.389Z"
   },
   {
    "duration": 4,
    "start_time": "2025-04-12T06:08:26.456Z"
   },
   {
    "duration": 77,
    "start_time": "2025-04-12T06:08:26.462Z"
   },
   {
    "duration": 115,
    "start_time": "2025-04-12T06:08:26.541Z"
   },
   {
    "duration": 504,
    "start_time": "2025-04-12T06:08:26.658Z"
   },
   {
    "duration": 74,
    "start_time": "2025-04-12T06:08:27.164Z"
   },
   {
    "duration": 72,
    "start_time": "2025-04-12T06:08:27.240Z"
   },
   {
    "duration": 324,
    "start_time": "2025-04-12T06:08:27.314Z"
   },
   {
    "duration": 224,
    "start_time": "2025-04-12T06:08:27.640Z"
   },
   {
    "duration": 51,
    "start_time": "2025-04-12T06:08:27.868Z"
   },
   {
    "duration": 70072,
    "start_time": "2025-04-12T06:08:27.921Z"
   },
   {
    "duration": 873,
    "start_time": "2025-04-12T06:11:41.534Z"
   },
   {
    "duration": 417,
    "start_time": "2025-04-12T06:11:42.409Z"
   },
   {
    "duration": 20,
    "start_time": "2025-04-12T06:11:42.828Z"
   },
   {
    "duration": 42,
    "start_time": "2025-04-12T06:11:42.850Z"
   },
   {
    "duration": 62,
    "start_time": "2025-04-12T06:11:42.895Z"
   },
   {
    "duration": 4,
    "start_time": "2025-04-12T06:11:42.959Z"
   },
   {
    "duration": 78,
    "start_time": "2025-04-12T06:11:42.965Z"
   },
   {
    "duration": 113,
    "start_time": "2025-04-12T06:11:43.045Z"
   },
   {
    "duration": 501,
    "start_time": "2025-04-12T06:11:43.159Z"
   },
   {
    "duration": 89,
    "start_time": "2025-04-12T06:11:43.662Z"
   },
   {
    "duration": 73,
    "start_time": "2025-04-12T06:11:43.753Z"
   },
   {
    "duration": 364,
    "start_time": "2025-04-12T06:11:43.829Z"
   },
   {
    "duration": 216,
    "start_time": "2025-04-12T06:11:44.195Z"
   },
   {
    "duration": 94,
    "start_time": "2025-04-12T06:11:44.415Z"
   },
   {
    "duration": 8534,
    "start_time": "2025-04-12T06:11:44.511Z"
   },
   {
    "duration": 27211,
    "start_time": "2025-04-12T06:11:53.047Z"
   },
   {
    "duration": 230567,
    "start_time": "2025-04-12T06:12:20.260Z"
   },
   {
    "duration": 245,
    "start_time": "2025-04-12T06:16:10.828Z"
   },
   {
    "duration": 8632,
    "start_time": "2025-04-12T06:18:40.442Z"
   },
   {
    "duration": 9835,
    "start_time": "2025-04-12T06:19:25.263Z"
   },
   {
    "duration": 12037,
    "start_time": "2025-04-12T06:19:41.864Z"
   },
   {
    "duration": 14515,
    "start_time": "2025-04-12T06:20:00.704Z"
   },
   {
    "duration": 16792,
    "start_time": "2025-04-12T06:20:49.838Z"
   },
   {
    "duration": 18771,
    "start_time": "2025-04-12T06:21:16.915Z"
   },
   {
    "duration": 12579,
    "start_time": "2025-04-12T06:21:53.337Z"
   },
   {
    "duration": 867,
    "start_time": "2025-04-12T06:29:54.938Z"
   },
   {
    "duration": 427,
    "start_time": "2025-04-12T06:29:55.807Z"
   },
   {
    "duration": 21,
    "start_time": "2025-04-12T06:29:56.235Z"
   },
   {
    "duration": 42,
    "start_time": "2025-04-12T06:29:56.258Z"
   },
   {
    "duration": 65,
    "start_time": "2025-04-12T06:29:56.303Z"
   },
   {
    "duration": 16,
    "start_time": "2025-04-12T06:29:56.370Z"
   },
   {
    "duration": 61,
    "start_time": "2025-04-12T06:29:56.388Z"
   },
   {
    "duration": 116,
    "start_time": "2025-04-12T06:29:56.451Z"
   },
   {
    "duration": 498,
    "start_time": "2025-04-12T06:29:56.569Z"
   },
   {
    "duration": 77,
    "start_time": "2025-04-12T06:29:57.069Z"
   },
   {
    "duration": 76,
    "start_time": "2025-04-12T06:29:57.148Z"
   },
   {
    "duration": 75,
    "start_time": "2025-04-12T06:29:57.226Z"
   },
   {
    "duration": 332,
    "start_time": "2025-04-12T06:29:57.303Z"
   },
   {
    "duration": 224,
    "start_time": "2025-04-12T06:29:57.639Z"
   },
   {
    "duration": 56,
    "start_time": "2025-04-12T06:29:57.866Z"
   },
   {
    "duration": 12788,
    "start_time": "2025-04-12T06:29:57.924Z"
   },
   {
    "duration": 33797,
    "start_time": "2025-04-12T06:30:10.714Z"
   },
   {
    "duration": 232025,
    "start_time": "2025-04-12T06:30:44.514Z"
   },
   {
    "duration": 13248,
    "start_time": "2025-04-12T06:34:36.542Z"
   },
   {
    "duration": 923,
    "start_time": "2025-04-12T06:36:51.807Z"
   },
   {
    "duration": 449,
    "start_time": "2025-04-12T06:36:52.732Z"
   },
   {
    "duration": 147,
    "start_time": "2025-04-12T06:36:53.184Z"
   },
   {
    "duration": 63,
    "start_time": "2025-04-12T06:36:53.334Z"
   },
   {
    "duration": 63,
    "start_time": "2025-04-12T06:36:53.399Z"
   },
   {
    "duration": 3,
    "start_time": "2025-04-12T06:36:53.464Z"
   },
   {
    "duration": 73,
    "start_time": "2025-04-12T06:36:53.486Z"
   },
   {
    "duration": 112,
    "start_time": "2025-04-12T06:36:53.561Z"
   },
   {
    "duration": 478,
    "start_time": "2025-04-12T06:36:53.675Z"
   },
   {
    "duration": 84,
    "start_time": "2025-04-12T06:36:54.157Z"
   },
   {
    "duration": 68,
    "start_time": "2025-04-12T06:36:54.243Z"
   },
   {
    "duration": 49,
    "start_time": "2025-04-12T06:36:54.313Z"
   },
   {
    "duration": 339,
    "start_time": "2025-04-12T06:36:54.364Z"
   },
   {
    "duration": 213,
    "start_time": "2025-04-12T06:36:54.704Z"
   },
   {
    "duration": 88,
    "start_time": "2025-04-12T06:36:54.919Z"
   },
   {
    "duration": 12588,
    "start_time": "2025-04-12T06:36:55.010Z"
   },
   {
    "duration": 333986,
    "start_time": "2025-04-12T06:37:07.600Z"
   },
   {
    "duration": 228019,
    "start_time": "2025-04-12T06:42:41.588Z"
   },
   {
    "duration": 12573,
    "start_time": "2025-04-12T06:46:29.609Z"
   },
   {
    "duration": 51470,
    "start_time": "2025-04-12T06:51:49.019Z"
   },
   {
    "duration": 924,
    "start_time": "2025-04-12T06:55:48.711Z"
   },
   {
    "duration": 428,
    "start_time": "2025-04-12T06:55:49.638Z"
   },
   {
    "duration": 99,
    "start_time": "2025-04-12T06:55:50.067Z"
   },
   {
    "duration": 42,
    "start_time": "2025-04-12T06:55:50.170Z"
   },
   {
    "duration": 72,
    "start_time": "2025-04-12T06:55:50.214Z"
   },
   {
    "duration": 3,
    "start_time": "2025-04-12T06:55:50.289Z"
   },
   {
    "duration": 59,
    "start_time": "2025-04-12T06:55:50.294Z"
   },
   {
    "duration": 123,
    "start_time": "2025-04-12T06:55:50.355Z"
   },
   {
    "duration": 492,
    "start_time": "2025-04-12T06:55:50.480Z"
   },
   {
    "duration": 71,
    "start_time": "2025-04-12T06:55:50.975Z"
   },
   {
    "duration": 77,
    "start_time": "2025-04-12T06:55:51.048Z"
   },
   {
    "duration": 45,
    "start_time": "2025-04-12T06:55:51.127Z"
   },
   {
    "duration": 301,
    "start_time": "2025-04-12T06:55:51.186Z"
   },
   {
    "duration": 215,
    "start_time": "2025-04-12T06:55:51.489Z"
   },
   {
    "duration": 88,
    "start_time": "2025-04-12T06:55:51.705Z"
   },
   {
    "duration": 12193,
    "start_time": "2025-04-12T06:55:51.795Z"
   },
   {
    "duration": 30215,
    "start_time": "2025-04-12T06:56:03.990Z"
   },
   {
    "duration": 49501,
    "start_time": "2025-04-12T06:56:34.209Z"
   },
   {
    "duration": 228948,
    "start_time": "2025-04-12T06:57:23.712Z"
   },
   {
    "duration": 12851,
    "start_time": "2025-04-12T07:01:12.662Z"
   },
   {
    "duration": 0,
    "start_time": "2025-04-12T07:01:25.515Z"
   },
   {
    "duration": 6,
    "start_time": "2025-04-12T07:01:31.834Z"
   },
   {
    "duration": 37037,
    "start_time": "2025-04-12T07:01:42.656Z"
   },
   {
    "duration": 44917,
    "start_time": "2025-04-12T07:02:29.671Z"
   },
   {
    "duration": 47022,
    "start_time": "2025-04-12T07:03:25.384Z"
   },
   {
    "duration": 49633,
    "start_time": "2025-04-12T07:04:59.069Z"
   },
   {
    "duration": 254236,
    "start_time": "2025-04-12T07:09:50.009Z"
   },
   {
    "duration": 302869,
    "start_time": "2025-04-12T07:15:19.304Z"
   },
   {
    "duration": 339803,
    "start_time": "2025-04-12T07:20:40.257Z"
   },
   {
    "duration": 27914,
    "start_time": "2025-04-12T07:31:30.272Z"
   },
   {
    "duration": 16,
    "start_time": "2025-04-12T07:33:39.844Z"
   },
   {
    "duration": 4,
    "start_time": "2025-04-12T07:33:46.214Z"
   },
   {
    "duration": 12614,
    "start_time": "2025-04-12T07:33:50.343Z"
   },
   {
    "duration": 883,
    "start_time": "2025-04-12T07:39:50.282Z"
   },
   {
    "duration": 420,
    "start_time": "2025-04-12T07:39:51.167Z"
   },
   {
    "duration": 103,
    "start_time": "2025-04-12T07:39:51.589Z"
   },
   {
    "duration": 40,
    "start_time": "2025-04-12T07:39:51.695Z"
   },
   {
    "duration": 74,
    "start_time": "2025-04-12T07:39:51.737Z"
   },
   {
    "duration": 3,
    "start_time": "2025-04-12T07:39:51.813Z"
   },
   {
    "duration": 71,
    "start_time": "2025-04-12T07:39:51.818Z"
   },
   {
    "duration": 104,
    "start_time": "2025-04-12T07:39:51.891Z"
   },
   {
    "duration": 473,
    "start_time": "2025-04-12T07:39:51.997Z"
   },
   {
    "duration": 72,
    "start_time": "2025-04-12T07:39:52.473Z"
   },
   {
    "duration": 70,
    "start_time": "2025-04-12T07:39:52.547Z"
   },
   {
    "duration": 44,
    "start_time": "2025-04-12T07:39:52.619Z"
   },
   {
    "duration": 325,
    "start_time": "2025-04-12T07:39:52.665Z"
   },
   {
    "duration": 212,
    "start_time": "2025-04-12T07:39:52.992Z"
   },
   {
    "duration": 87,
    "start_time": "2025-04-12T07:39:53.206Z"
   },
   {
    "duration": 12894,
    "start_time": "2025-04-12T07:39:53.295Z"
   },
   {
    "duration": 30323,
    "start_time": "2025-04-12T07:40:06.191Z"
   },
   {
    "duration": 51904,
    "start_time": "2025-04-12T07:40:36.517Z"
   },
   {
    "duration": 230421,
    "start_time": "2025-04-12T07:41:28.424Z"
   },
   {
    "duration": 340907,
    "start_time": "2025-04-12T07:45:18.847Z"
   },
   {
    "duration": 4,
    "start_time": "2025-04-12T07:50:59.756Z"
   },
   {
    "duration": 13059,
    "start_time": "2025-04-12T07:50:59.762Z"
   },
   {
    "duration": 963,
    "start_time": "2025-04-14T05:27:56.497Z"
   },
   {
    "duration": 460,
    "start_time": "2025-04-14T05:27:57.464Z"
   },
   {
    "duration": 93,
    "start_time": "2025-04-14T05:27:57.926Z"
   },
   {
    "duration": 44,
    "start_time": "2025-04-14T05:27:58.022Z"
   },
   {
    "duration": 90,
    "start_time": "2025-04-14T05:27:58.068Z"
   },
   {
    "duration": 4,
    "start_time": "2025-04-14T05:27:58.160Z"
   },
   {
    "duration": 60,
    "start_time": "2025-04-14T05:27:58.165Z"
   },
   {
    "duration": 134,
    "start_time": "2025-04-14T05:27:58.227Z"
   },
   {
    "duration": 480,
    "start_time": "2025-04-14T05:27:58.363Z"
   },
   {
    "duration": 76,
    "start_time": "2025-04-14T05:27:58.846Z"
   },
   {
    "duration": 85,
    "start_time": "2025-04-14T05:27:58.924Z"
   },
   {
    "duration": 63,
    "start_time": "2025-04-14T05:27:59.010Z"
   },
   {
    "duration": 343,
    "start_time": "2025-04-14T05:27:59.076Z"
   },
   {
    "duration": 207,
    "start_time": "2025-04-14T05:27:59.421Z"
   },
   {
    "duration": 124,
    "start_time": "2025-04-14T05:27:59.630Z"
   },
   {
    "duration": 13122,
    "start_time": "2025-04-14T05:27:59.761Z"
   },
   {
    "duration": 349761,
    "start_time": "2025-04-14T05:28:12.885Z"
   },
   {
    "duration": 2132515,
    "start_time": "2025-04-14T05:34:02.650Z"
   },
   {
    "duration": 232605,
    "start_time": "2025-04-14T06:09:35.167Z"
   },
   {
    "duration": 344123,
    "start_time": "2025-04-14T06:13:27.775Z"
   },
   {
    "duration": 4,
    "start_time": "2025-04-14T06:19:11.900Z"
   },
   {
    "duration": 501,
    "start_time": "2025-04-14T06:19:11.907Z"
   },
   {
    "duration": 0,
    "start_time": "2025-04-14T06:19:12.410Z"
   },
   {
    "duration": 4,
    "start_time": "2025-04-14T06:28:04.059Z"
   },
   {
    "duration": 285,
    "start_time": "2025-04-14T06:28:10.108Z"
   },
   {
    "duration": 5,
    "start_time": "2025-04-14T06:31:58.912Z"
   },
   {
    "duration": 181,
    "start_time": "2025-04-14T06:32:01.699Z"
   },
   {
    "duration": 19,
    "start_time": "2025-04-14T06:33:20.907Z"
   },
   {
    "duration": 4,
    "start_time": "2025-04-14T06:33:27.609Z"
   },
   {
    "duration": 52,
    "start_time": "2025-04-14T06:33:32.827Z"
   },
   {
    "duration": 4,
    "start_time": "2025-04-14T06:34:04.535Z"
   },
   {
    "duration": 164,
    "start_time": "2025-04-14T06:34:07.812Z"
   },
   {
    "duration": 882,
    "start_time": "2025-04-14T06:46:24.703Z"
   },
   {
    "duration": 440,
    "start_time": "2025-04-14T06:46:25.587Z"
   },
   {
    "duration": 96,
    "start_time": "2025-04-14T06:46:26.029Z"
   },
   {
    "duration": 50,
    "start_time": "2025-04-14T06:46:26.128Z"
   },
   {
    "duration": 87,
    "start_time": "2025-04-14T06:46:26.180Z"
   },
   {
    "duration": 3,
    "start_time": "2025-04-14T06:46:26.269Z"
   },
   {
    "duration": 75,
    "start_time": "2025-04-14T06:46:26.274Z"
   },
   {
    "duration": 111,
    "start_time": "2025-04-14T06:46:26.350Z"
   },
   {
    "duration": 491,
    "start_time": "2025-04-14T06:46:26.464Z"
   },
   {
    "duration": 70,
    "start_time": "2025-04-14T06:46:26.958Z"
   },
   {
    "duration": 77,
    "start_time": "2025-04-14T06:46:27.042Z"
   },
   {
    "duration": 59,
    "start_time": "2025-04-14T06:46:27.121Z"
   },
   {
    "duration": 328,
    "start_time": "2025-04-14T06:46:27.182Z"
   },
   {
    "duration": 220,
    "start_time": "2025-04-14T06:46:27.512Z"
   },
   {
    "duration": 128,
    "start_time": "2025-04-14T06:46:27.736Z"
   },
   {
    "duration": 13210,
    "start_time": "2025-04-14T06:46:27.871Z"
   },
   {
    "duration": 917091,
    "start_time": "2025-04-14T06:46:41.083Z"
   },
   {
    "duration": 49728,
    "start_time": "2025-04-14T07:01:58.175Z"
   },
   {
    "duration": 0,
    "start_time": "2025-04-14T07:02:47.906Z"
   },
   {
    "duration": 0,
    "start_time": "2025-04-14T07:02:47.907Z"
   },
   {
    "duration": 0,
    "start_time": "2025-04-14T07:02:47.908Z"
   },
   {
    "duration": 0,
    "start_time": "2025-04-14T07:02:47.909Z"
   },
   {
    "duration": 0,
    "start_time": "2025-04-14T07:02:47.911Z"
   },
   {
    "duration": 0,
    "start_time": "2025-04-14T07:02:47.911Z"
   },
   {
    "duration": 52416,
    "start_time": "2025-04-14T07:03:49.155Z"
   },
   {
    "duration": 18,
    "start_time": "2025-04-14T07:05:20.056Z"
   },
   {
    "duration": 224718,
    "start_time": "2025-04-14T07:05:30.301Z"
   },
   {
    "duration": 333963,
    "start_time": "2025-04-14T07:09:50.596Z"
   },
   {
    "duration": 333451,
    "start_time": "2025-04-14T07:16:57.020Z"
   },
   {
    "duration": 7,
    "start_time": "2025-04-14T07:22:45.348Z"
   }
  ],
  "kernelspec": {
   "display_name": "Python 3 (ipykernel)",
   "language": "python",
   "name": "python3"
  },
  "language_info": {
   "codemirror_mode": {
    "name": "ipython",
    "version": 3
   },
   "file_extension": ".py",
   "mimetype": "text/x-python",
   "name": "python",
   "nbconvert_exporter": "python",
   "pygments_lexer": "ipython3",
   "version": "3.9.19"
  },
  "toc": {
   "base_numbering": 1,
   "nav_menu": {},
   "number_sections": true,
   "sideBar": true,
   "skip_h1_title": true,
   "title_cell": "Table of Contents",
   "title_sidebar": "Contents",
   "toc_cell": false,
   "toc_position": {
    "height": "calc(100% - 180px)",
    "left": "10px",
    "top": "150px",
    "width": "252.781px"
   },
   "toc_section_display": true,
   "toc_window_display": true
  }
 },
 "nbformat": 4,
 "nbformat_minor": 2
}
