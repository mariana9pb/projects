{
 "cells": [
  {
   "cell_type": "markdown",
   "metadata": {
    "id": "3rYiDeEH0q0f"
   },
   "source": [
    "# ¿Cuál es la mejor tarifa?\n"
   ]
  },
  {
   "cell_type": "markdown",
   "metadata": {
    "id": "VNddPNRQ0q0w"
   },
   "source": [
    "Megaline es un operador de telecomunicaciones que ofrece a sus clientes dos tarifas de prepago: Surf y Ultimate. Este proyecto tiene por objetivo proporcionar información al departamento comercial sobre cuál de las tarifas genera más ingresos para poder ajustar su presupuesto de publicidad.\n",
    "\n",
    "Los datos proporcionados por la empresa incluyen información de 500 clientes como: nombre de los clientes, ciudad donde residen, tarifa que usan y su actividad en 2018 (cantidad de llamadas, mensajes de texto y MB utilizados). \n",
    "\n",
    "Con esta información se realizará un análisis de las tarifas, mediante el comportamiento de los clientes, con el fin de determinar cuál de las dos tarifas genera mayores ingresos."
   ]
  },
  {
   "cell_type": "markdown",
   "metadata": {
    "id": "MQi4IPy70q0y"
   },
   "source": [
    "## Inicialización"
   ]
  },
  {
   "cell_type": "code",
   "execution_count": 1,
   "metadata": {
    "id": "MtYIuBxu0q0z"
   },
   "outputs": [],
   "source": [
    "# Cargar todas las librerías\n",
    "import pandas as pd\n",
    "import numpy as np\n",
    "from scipy import stats as st\n",
    "import math as mt\n",
    "import matplotlib.pyplot as plt\n"
   ]
  },
  {
   "cell_type": "markdown",
   "metadata": {
    "id": "4ysWWC5i0q00"
   },
   "source": [
    "## Cargar datos"
   ]
  },
  {
   "cell_type": "code",
   "execution_count": 2,
   "metadata": {
    "id": "CCqPW7rS0q01"
   },
   "outputs": [],
   "source": [
    "# Carga los archivos de datos en diferentes DataFrames\n",
    "df_users = pd.read_csv('/datasets/megaline_users.csv')\n",
    "df_calls = pd.read_csv('/datasets/megaline_calls.csv')\n",
    "df_messages = pd.read_csv('/datasets/megaline_messages.csv')\n",
    "df_internet = pd.read_csv('/datasets/megaline_internet.csv')\n",
    "df_plans = pd.read_csv('/datasets/megaline_plans.csv')\n"
   ]
  },
  {
   "cell_type": "markdown",
   "metadata": {
    "id": "69qqoJ3r0q01"
   },
   "source": [
    "## Preparar los datos"
   ]
  },
  {
   "cell_type": "markdown",
   "metadata": {
    "id": "vUuZw80S0q01"
   },
   "source": [
    "Previo al análisis, se explora cada dataframe por separado para tener una noción inicial de los datos, detectar valores ausentes o tipos de datos incorrectos y aplicar las correcciones necesarias."
   ]
  },
  {
   "cell_type": "markdown",
   "metadata": {
    "id": "ohBhimvH0q01"
   },
   "source": [
    "## Tarifas"
   ]
  },
  {
   "cell_type": "code",
   "execution_count": 3,
   "metadata": {
    "id": "GptqP3Q40q02"
   },
   "outputs": [
    {
     "name": "stdout",
     "output_type": "stream",
     "text": [
      "<class 'pandas.core.frame.DataFrame'>\n",
      "RangeIndex: 2 entries, 0 to 1\n",
      "Data columns (total 8 columns):\n",
      " #   Column                 Non-Null Count  Dtype  \n",
      "---  ------                 --------------  -----  \n",
      " 0   messages_included      2 non-null      int64  \n",
      " 1   mb_per_month_included  2 non-null      int64  \n",
      " 2   minutes_included       2 non-null      int64  \n",
      " 3   usd_monthly_pay        2 non-null      int64  \n",
      " 4   usd_per_gb             2 non-null      int64  \n",
      " 5   usd_per_message        2 non-null      float64\n",
      " 6   usd_per_minute         2 non-null      float64\n",
      " 7   plan_name              2 non-null      object \n",
      "dtypes: float64(2), int64(5), object(1)\n",
      "memory usage: 256.0+ bytes\n"
     ]
    }
   ],
   "source": [
    "# Imprime la información general/resumida sobre el DataFrame de las tarifas\n",
    "df_plans.info()"
   ]
  },
  {
   "cell_type": "code",
   "execution_count": 4,
   "metadata": {
    "id": "64xzjwL70q02"
   },
   "outputs": [
    {
     "name": "stdout",
     "output_type": "stream",
     "text": [
      "   messages_included  mb_per_month_included  minutes_included  \\\n",
      "0                 50                  15360               500   \n",
      "1               1000                  30720              3000   \n",
      "\n",
      "   usd_monthly_pay  usd_per_gb  usd_per_message  usd_per_minute plan_name  \n",
      "0               20          10             0.03            0.03      surf  \n",
      "1               70           7             0.01            0.01  ultimate  \n"
     ]
    }
   ],
   "source": [
    "# Imprime una muestra de los datos para las tarifas\n",
    "print(df_plans)"
   ]
  },
  {
   "cell_type": "markdown",
   "metadata": {
    "id": "mEc_3_hs0q02"
   },
   "source": [
    "df_plans tiene los tipos de datos adecuados para cada columna y no hay valores ausentes con los que lidiar. Si existieran valores ausentes en este dataframe, lo más apropiado sería preguntar directamente al departamento comercial. Se puede agregar otra columna de gb_per_month_included, para convertir mb a gb y facilitar el análisis más adelante."
   ]
  },
  {
   "cell_type": "markdown",
   "metadata": {
    "id": "LJir7bml0q03"
   },
   "source": [
    "## Enriquecer los datos"
   ]
  },
  {
   "cell_type": "markdown",
   "metadata": {
    "id": "eqADpCfg0q04"
   },
   "source": [
    "Se agrega una columna adicional 'gb_per_month_included' para redondear mb a gb"
   ]
  },
  {
   "cell_type": "code",
   "execution_count": 5,
   "metadata": {
    "id": "gfcIEuXV0q04"
   },
   "outputs": [
    {
     "name": "stdout",
     "output_type": "stream",
     "text": [
      "   messages_included  mb_per_month_included  minutes_included  \\\n",
      "0                 50                  15360               500   \n",
      "1               1000                  30720              3000   \n",
      "\n",
      "   usd_monthly_pay  usd_per_gb  usd_per_message  usd_per_minute plan_name  \\\n",
      "0               20          10             0.03            0.03      surf   \n",
      "1               70           7             0.01            0.01  ultimate   \n",
      "\n",
      "   gb_per_month_included  \n",
      "0                     15  \n",
      "1                     30  \n"
     ]
    }
   ],
   "source": [
    "df_plans['gb_per_month_included'] =(df_plans['mb_per_month_included']/1000).astype('int64')\n",
    "print(df_plans)"
   ]
  },
  {
   "cell_type": "markdown",
   "metadata": {
    "id": "1n2X6WXf0q04"
   },
   "source": [
    "## Usuarios/as"
   ]
  },
  {
   "cell_type": "code",
   "execution_count": 6,
   "metadata": {
    "id": "2NgjWFqx0q05"
   },
   "outputs": [
    {
     "name": "stdout",
     "output_type": "stream",
     "text": [
      "<class 'pandas.core.frame.DataFrame'>\n",
      "RangeIndex: 500 entries, 0 to 499\n",
      "Data columns (total 8 columns):\n",
      " #   Column      Non-Null Count  Dtype \n",
      "---  ------      --------------  ----- \n",
      " 0   user_id     500 non-null    int64 \n",
      " 1   first_name  500 non-null    object\n",
      " 2   last_name   500 non-null    object\n",
      " 3   age         500 non-null    int64 \n",
      " 4   city        500 non-null    object\n",
      " 5   reg_date    500 non-null    object\n",
      " 6   plan        500 non-null    object\n",
      " 7   churn_date  34 non-null     object\n",
      "dtypes: int64(2), object(6)\n",
      "memory usage: 31.4+ KB\n"
     ]
    }
   ],
   "source": [
    "# Imprime la información general/resumida sobre el DataFrame de usuarios\n",
    "df_users.info()"
   ]
  },
  {
   "cell_type": "code",
   "execution_count": 7,
   "metadata": {
    "id": "1IN1L9uh0q05"
   },
   "outputs": [
    {
     "name": "stdout",
     "output_type": "stream",
     "text": [
      "   user_id first_name  last_name  age                                   city  \\\n",
      "0     1000   Anamaria      Bauer   45  Atlanta-Sandy Springs-Roswell, GA MSA   \n",
      "1     1001     Mickey  Wilkerson   28        Seattle-Tacoma-Bellevue, WA MSA   \n",
      "2     1002     Carlee    Hoffman   36   Las Vegas-Henderson-Paradise, NV MSA   \n",
      "3     1003   Reynaldo    Jenkins   52                          Tulsa, OK MSA   \n",
      "4     1004    Leonila   Thompson   40        Seattle-Tacoma-Bellevue, WA MSA   \n",
      "\n",
      "     reg_date      plan churn_date  \n",
      "0  2018-12-24  ultimate        NaN  \n",
      "1  2018-08-13      surf        NaN  \n",
      "2  2018-10-21      surf        NaN  \n",
      "3  2018-01-28      surf        NaN  \n",
      "4  2018-05-23      surf        NaN  \n"
     ]
    }
   ],
   "source": [
    "# Imprime una muestra de datos para usuarios\n",
    "print(df_users.head(5))"
   ]
  },
  {
   "cell_type": "markdown",
   "metadata": {
    "id": "dCZoUq4f0q06"
   },
   "source": [
    "Los tipos de dato en df_users son todos correctos, a excepción de 'user_id', que sería más conveniente ser string (object).\n",
    "La única columna con valores nulos es churn_date, se sabe que los valores ausentes en esta columna indican que la tarifa se estaba usando cuando fue extraída la base de datos, por lo que no respresentará ninguna afectación al análisis. Sin embargo, los valores nulos se pueden reemplazar con un NA. \n",
    "\n",
    "También, para facilitar el futuro análisis respecto al consumo en ciertas ciudades, se puede agregar una columna de tipo booleano que indique si el cliente es del área de Nueva York-Nueva Jersey."
   ]
  },
  {
   "cell_type": "markdown",
   "metadata": {
    "id": "BX5FQh_I0q06"
   },
   "source": [
    "### Corregir los datos"
   ]
  },
  {
   "cell_type": "markdown",
   "metadata": {
    "id": "8OdKMwJv0q06"
   },
   "source": [
    "Con base en las observaciones iniciales, se modifica el tipo de dato de la columna 'user_id' y se reemplazan los valores nulos de 'churn_date' con 'NA'"
   ]
  },
  {
   "cell_type": "code",
   "execution_count": 8,
   "metadata": {},
   "outputs": [],
   "source": [
    "df_users['user_id'] = df_users['user_id'].astype('object')"
   ]
  },
  {
   "cell_type": "code",
   "execution_count": 9,
   "metadata": {
    "id": "yUqX-K0C0q07"
   },
   "outputs": [
    {
     "name": "stdout",
     "output_type": "stream",
     "text": [
      "<class 'pandas.core.frame.DataFrame'>\n",
      "RangeIndex: 500 entries, 0 to 499\n",
      "Data columns (total 8 columns):\n",
      " #   Column      Non-Null Count  Dtype \n",
      "---  ------      --------------  ----- \n",
      " 0   user_id     500 non-null    object\n",
      " 1   first_name  500 non-null    object\n",
      " 2   last_name   500 non-null    object\n",
      " 3   age         500 non-null    int64 \n",
      " 4   city        500 non-null    object\n",
      " 5   reg_date    500 non-null    object\n",
      " 6   plan        500 non-null    object\n",
      " 7   churn_date  500 non-null    object\n",
      "dtypes: int64(1), object(7)\n",
      "memory usage: 31.4+ KB\n"
     ]
    }
   ],
   "source": [
    "df_users['churn_date'] = df_users['churn_date'].fillna('NA')\n",
    "df_users.info()"
   ]
  },
  {
   "cell_type": "markdown",
   "metadata": {
    "id": "ycwuARJp0q07"
   },
   "source": [
    "### Enriquecer los datos"
   ]
  },
  {
   "cell_type": "markdown",
   "metadata": {
    "id": "96NIh4CJ0q08"
   },
   "source": [
    "Se agrega una columna extra para identificar aquellos clientes que son de Nueva York-Nueva Jersey y así facilitar el futuro análisis respecto al consumo en esta área en comparación con el resto."
   ]
  },
  {
   "cell_type": "code",
   "execution_count": 10,
   "metadata": {
    "id": "iq0AaBS90q08"
   },
   "outputs": [
    {
     "name": "stdout",
     "output_type": "stream",
     "text": [
      "    user_id first_name   last_name  age  \\\n",
      "495    1495      Fidel      Sharpe   67   \n",
      "496    1496      Ariel    Shepherd   49   \n",
      "497    1497      Donte     Barrera   49   \n",
      "498    1498       Scot  Williamson   51   \n",
      "499    1499      Shena     Dickson   37   \n",
      "\n",
      "                                          city    reg_date      plan  \\\n",
      "495  New York-Newark-Jersey City, NY-NJ-PA MSA  2018-09-04      surf   \n",
      "496               New Orleans-Metairie, LA MSA  2018-02-20      surf   \n",
      "497     Los Angeles-Long Beach-Anaheim, CA MSA  2018-12-10  ultimate   \n",
      "498  New York-Newark-Jersey City, NY-NJ-PA MSA  2018-02-04      surf   \n",
      "499          Orlando-Kissimmee-Sanford, FL MSA  2018-05-06      surf   \n",
      "\n",
      "    churn_date  NY_NJ_area  \n",
      "495         NA        True  \n",
      "496         NA       False  \n",
      "497         NA       False  \n",
      "498         NA        True  \n",
      "499         NA       False  \n"
     ]
    }
   ],
   "source": [
    "df_users['NY_NJ_area'] = df_users['city'] == 'New York-Newark-Jersey City, NY-NJ-PA MSA'\n",
    "print(df_users.tail())"
   ]
  },
  {
   "cell_type": "markdown",
   "metadata": {
    "id": "o7MeKCid0q08"
   },
   "source": [
    "## Llamadas"
   ]
  },
  {
   "cell_type": "code",
   "execution_count": 11,
   "metadata": {
    "id": "6dDlnoDm0q08"
   },
   "outputs": [
    {
     "name": "stdout",
     "output_type": "stream",
     "text": [
      "<class 'pandas.core.frame.DataFrame'>\n",
      "RangeIndex: 137735 entries, 0 to 137734\n",
      "Data columns (total 4 columns):\n",
      " #   Column     Non-Null Count   Dtype  \n",
      "---  ------     --------------   -----  \n",
      " 0   id         137735 non-null  object \n",
      " 1   user_id    137735 non-null  int64  \n",
      " 2   call_date  137735 non-null  object \n",
      " 3   duration   137735 non-null  float64\n",
      "dtypes: float64(1), int64(1), object(2)\n",
      "memory usage: 4.2+ MB\n"
     ]
    }
   ],
   "source": [
    "# Imprime la información general/resumida sobre el DataFrame de las llamadas\n",
    "df_calls.info()"
   ]
  },
  {
   "cell_type": "code",
   "execution_count": 12,
   "metadata": {
    "id": "kuh1vlNB0q09"
   },
   "outputs": [
    {
     "name": "stdout",
     "output_type": "stream",
     "text": [
      "         id  user_id   call_date  duration\n",
      "0   1000_93     1000  2018-12-27      8.52\n",
      "1  1000_145     1000  2018-12-27     13.66\n",
      "2  1000_247     1000  2018-12-27     14.48\n",
      "3  1000_309     1000  2018-12-28      5.76\n",
      "4  1000_380     1000  2018-12-30      4.22\n"
     ]
    }
   ],
   "source": [
    "# Imprime una muestra de datos para las llamadas\n",
    "print(df_calls.head())"
   ]
  },
  {
   "cell_type": "markdown",
   "metadata": {
    "id": "DOAxYJSx0q09"
   },
   "source": [
    "No existen datos ausentes en ninguna columna de 'df_calls'. En cuanto a los tipos de datos, sería conveniente convertir 'user_id' a object y 'call_date' a datetime, con este último cambio es posible agregar una columna para extraer el mes de llamada. A su vez, sería conveniente redondear la duración de la llamada ('duration') al minuto siguiente próximo, esto por la condición de las tarifas. "
   ]
  },
  {
   "cell_type": "markdown",
   "metadata": {
    "id": "S7hzxmbX0q0-"
   },
   "source": [
    "### Corregir los datos"
   ]
  },
  {
   "cell_type": "markdown",
   "metadata": {
    "id": "YxWyAjD20q0-"
   },
   "source": [
    "Se modifica el tipo de dato de 'user_id' de entero a objeto, y 'call_date' a tipo datetime. Y se redondean los segundos de las llamadas."
   ]
  },
  {
   "cell_type": "code",
   "execution_count": 13,
   "metadata": {
    "id": "S2r8xA4f0q0-"
   },
   "outputs": [],
   "source": [
    "df_calls['call_date']= pd.to_datetime(df_calls['call_date'])\n",
    "df_calls['user_id'] = df_calls['user_id'].astype('object')"
   ]
  },
  {
   "cell_type": "code",
   "execution_count": 14,
   "metadata": {},
   "outputs": [
    {
     "name": "stdout",
     "output_type": "stream",
     "text": [
      "         id user_id  call_date  duration\n",
      "0   1000_93    1000 2018-12-27         9\n",
      "1  1000_145    1000 2018-12-27        14\n",
      "2  1000_247    1000 2018-12-27        15\n",
      "3  1000_309    1000 2018-12-28         6\n",
      "4  1000_380    1000 2018-12-30         5\n",
      "<class 'pandas.core.frame.DataFrame'>\n",
      "RangeIndex: 137735 entries, 0 to 137734\n",
      "Data columns (total 4 columns):\n",
      " #   Column     Non-Null Count   Dtype         \n",
      "---  ------     --------------   -----         \n",
      " 0   id         137735 non-null  object        \n",
      " 1   user_id    137735 non-null  object        \n",
      " 2   call_date  137735 non-null  datetime64[ns]\n",
      " 3   duration   137735 non-null  int64         \n",
      "dtypes: datetime64[ns](1), int64(1), object(2)\n",
      "memory usage: 4.2+ MB\n"
     ]
    }
   ],
   "source": [
    "df_calls['duration'] = df_calls['duration'].apply(np.ceil).astype('int64')\n",
    "print(df_calls.head())\n",
    "df_calls.info()"
   ]
  },
  {
   "cell_type": "markdown",
   "metadata": {
    "id": "KrMgTrlG0q0_"
   },
   "source": [
    "### Enriquecer los datos"
   ]
  },
  {
   "cell_type": "markdown",
   "metadata": {
    "id": "a9MbmEvE0q0_"
   },
   "source": [
    "Se agrega una nueva columna con el número de mes de la llamada y de esta manera facilitar el futuro análisis."
   ]
  },
  {
   "cell_type": "code",
   "execution_count": 15,
   "metadata": {
    "id": "iZ1avpA_0q0_"
   },
   "outputs": [
    {
     "name": "stdout",
     "output_type": "stream",
     "text": [
      "         id user_id  call_date  duration month_number\n",
      "0   1000_93    1000 2018-12-27         9           12\n",
      "1  1000_145    1000 2018-12-27        14           12\n",
      "2  1000_247    1000 2018-12-27        15           12\n",
      "3  1000_309    1000 2018-12-28         6           12\n",
      "4  1000_380    1000 2018-12-30         5           12\n"
     ]
    }
   ],
   "source": [
    "df_calls['month_number'] = (df_calls['call_date'].dt.month).astype('object')\n",
    "print(df_calls.head())"
   ]
  },
  {
   "cell_type": "markdown",
   "metadata": {
    "id": "mOUZSi180q0_"
   },
   "source": [
    "## Mensajes"
   ]
  },
  {
   "cell_type": "code",
   "execution_count": 16,
   "metadata": {
    "id": "R-bYJpdV0q1A"
   },
   "outputs": [
    {
     "name": "stdout",
     "output_type": "stream",
     "text": [
      "<class 'pandas.core.frame.DataFrame'>\n",
      "RangeIndex: 76051 entries, 0 to 76050\n",
      "Data columns (total 3 columns):\n",
      " #   Column        Non-Null Count  Dtype \n",
      "---  ------        --------------  ----- \n",
      " 0   id            76051 non-null  object\n",
      " 1   user_id       76051 non-null  int64 \n",
      " 2   message_date  76051 non-null  object\n",
      "dtypes: int64(1), object(2)\n",
      "memory usage: 1.7+ MB\n"
     ]
    }
   ],
   "source": [
    "# Imprime la información general/resumida sobre el DataFrame de los mensajes\n",
    "df_messages.info()\n"
   ]
  },
  {
   "cell_type": "code",
   "execution_count": 17,
   "metadata": {
    "id": "mCEl2iGE0q1A"
   },
   "outputs": [
    {
     "name": "stdout",
     "output_type": "stream",
     "text": [
      "         id  user_id message_date\n",
      "0  1000_125     1000   2018-12-27\n",
      "1  1000_160     1000   2018-12-31\n",
      "2  1000_223     1000   2018-12-31\n",
      "3  1000_251     1000   2018-12-27\n",
      "4  1000_255     1000   2018-12-26\n"
     ]
    }
   ],
   "source": [
    "# Imprime una muestra de datos para los mensajes\n",
    "print(df_messages.head())"
   ]
  },
  {
   "cell_type": "markdown",
   "metadata": {
    "id": "04xDj7KH0q1A"
   },
   "source": [
    "No existen datos ausentes en 'df_messages'. Al igual que con el dataset de llamadas, el tipo de dato de 'user_id' se puede reemplazar por 'object' y el de 'message_date' por datetime, para de la misma manera crear una nueva columna con el mes para facilitar el análisis."
   ]
  },
  {
   "cell_type": "markdown",
   "metadata": {
    "id": "Sprfak900q1B"
   },
   "source": [
    "### Corregir los datos"
   ]
  },
  {
   "cell_type": "markdown",
   "metadata": {
    "id": "eGw7d9j10q1B"
   },
   "source": [
    "Con base en las observaciones, se modifica el tipo de dato de 'user_id' de entero a objeto, y 'message_date' a tipo datetime"
   ]
  },
  {
   "cell_type": "code",
   "execution_count": 18,
   "metadata": {
    "id": "vsllvkoa0q1B"
   },
   "outputs": [
    {
     "name": "stdout",
     "output_type": "stream",
     "text": [
      "<class 'pandas.core.frame.DataFrame'>\n",
      "RangeIndex: 76051 entries, 0 to 76050\n",
      "Data columns (total 3 columns):\n",
      " #   Column        Non-Null Count  Dtype         \n",
      "---  ------        --------------  -----         \n",
      " 0   id            76051 non-null  object        \n",
      " 1   user_id       76051 non-null  object        \n",
      " 2   message_date  76051 non-null  datetime64[ns]\n",
      "dtypes: datetime64[ns](1), object(2)\n",
      "memory usage: 1.7+ MB\n"
     ]
    }
   ],
   "source": [
    "df_messages['user_id'] = df_messages['user_id'].astype('object')\n",
    "df_messages['message_date']= pd.to_datetime(df_messages['message_date'])\n",
    "df_messages.info()"
   ]
  },
  {
   "cell_type": "markdown",
   "metadata": {
    "id": "HvLid7iD0q1B"
   },
   "source": [
    "### Enriquecer los datos"
   ]
  },
  {
   "cell_type": "markdown",
   "metadata": {
    "id": "8nhPFKIe0q1C"
   },
   "source": [
    "Se agrega una nueva columna con el número de mes en que se enviaron los mensajes."
   ]
  },
  {
   "cell_type": "code",
   "execution_count": 19,
   "metadata": {
    "id": "zYEXZac10q1C"
   },
   "outputs": [
    {
     "name": "stdout",
     "output_type": "stream",
     "text": [
      "         id user_id message_date month_number\n",
      "0  1000_125    1000   2018-12-27           12\n",
      "1  1000_160    1000   2018-12-31           12\n",
      "2  1000_223    1000   2018-12-31           12\n",
      "3  1000_251    1000   2018-12-27           12\n",
      "4  1000_255    1000   2018-12-26           12\n"
     ]
    }
   ],
   "source": [
    "df_messages['month_number'] = (df_messages['message_date'].dt.month).astype('object')\n",
    "print(df_messages.head())"
   ]
  },
  {
   "cell_type": "markdown",
   "metadata": {
    "id": "bStkaxn40q1C"
   },
   "source": [
    "## Internet"
   ]
  },
  {
   "cell_type": "code",
   "execution_count": 20,
   "metadata": {
    "id": "e-Uz5qyn0q1C"
   },
   "outputs": [
    {
     "name": "stdout",
     "output_type": "stream",
     "text": [
      "<class 'pandas.core.frame.DataFrame'>\n",
      "RangeIndex: 104825 entries, 0 to 104824\n",
      "Data columns (total 4 columns):\n",
      " #   Column        Non-Null Count   Dtype  \n",
      "---  ------        --------------   -----  \n",
      " 0   id            104825 non-null  object \n",
      " 1   user_id       104825 non-null  int64  \n",
      " 2   session_date  104825 non-null  object \n",
      " 3   mb_used       104825 non-null  float64\n",
      "dtypes: float64(1), int64(1), object(2)\n",
      "memory usage: 3.2+ MB\n"
     ]
    }
   ],
   "source": [
    "# Imprime la información general/resumida sobre el DataFrame de internet\n",
    "df_internet.info()"
   ]
  },
  {
   "cell_type": "code",
   "execution_count": 21,
   "metadata": {
    "id": "9r3x_XLw0q1C"
   },
   "outputs": [
    {
     "name": "stdout",
     "output_type": "stream",
     "text": [
      "         id  user_id session_date  mb_used\n",
      "0   1000_13     1000   2018-12-29    89.86\n",
      "1  1000_204     1000   2018-12-31     0.00\n",
      "2  1000_379     1000   2018-12-28   660.40\n",
      "3  1000_413     1000   2018-12-26   270.99\n",
      "4  1000_442     1000   2018-12-27   880.22\n"
     ]
    }
   ],
   "source": [
    "# Imprime una muestra de datos para el tráfico de internet\n",
    "print(df_internet.head())"
   ]
  },
  {
   "cell_type": "markdown",
   "metadata": {
    "id": "EzOG5ik30q1D"
   },
   "source": [
    "Todos los datos están completos en 'df_internet'. El tipo de dato de 'user_id' se puede cambiar a 'object' para que todos los ids sean strings, y el tipo de dato de 'session_date' se puede modificar a datetime para extraer el número de mes y crear una nueva columna con esta información."
   ]
  },
  {
   "cell_type": "markdown",
   "metadata": {
    "id": "yA0tkPFg0q1D"
   },
   "source": [
    "### Corregir los datos"
   ]
  },
  {
   "cell_type": "markdown",
   "metadata": {
    "id": "zlZMuIEK0q1D"
   },
   "source": [
    "Se modifican los tipos de dato de 'user_id' y 'session_date'"
   ]
  },
  {
   "cell_type": "code",
   "execution_count": 22,
   "metadata": {
    "id": "zVeanzdd0q1E"
   },
   "outputs": [
    {
     "name": "stdout",
     "output_type": "stream",
     "text": [
      "<class 'pandas.core.frame.DataFrame'>\n",
      "RangeIndex: 104825 entries, 0 to 104824\n",
      "Data columns (total 4 columns):\n",
      " #   Column        Non-Null Count   Dtype         \n",
      "---  ------        --------------   -----         \n",
      " 0   id            104825 non-null  object        \n",
      " 1   user_id       104825 non-null  object        \n",
      " 2   session_date  104825 non-null  datetime64[ns]\n",
      " 3   mb_used       104825 non-null  float64       \n",
      "dtypes: datetime64[ns](1), float64(1), object(2)\n",
      "memory usage: 3.2+ MB\n"
     ]
    }
   ],
   "source": [
    "df_internet['user_id'] = df_internet['user_id'].astype('object')\n",
    "df_internet['session_date'] = pd.to_datetime(df_internet['session_date'])\n",
    "df_internet.info()"
   ]
  },
  {
   "cell_type": "markdown",
   "metadata": {
    "id": "e8_mLF4a0q1E"
   },
   "source": [
    "### Enriquecer los datos"
   ]
  },
  {
   "cell_type": "markdown",
   "metadata": {
    "id": "xhNdn2tE0q1E"
   },
   "source": [
    "Se extrae el mes de la sesión y se crea una nueva columna para manejar los datos más adelante en el proyecto."
   ]
  },
  {
   "cell_type": "code",
   "execution_count": 23,
   "metadata": {
    "id": "ESiYPIEK0q1E"
   },
   "outputs": [
    {
     "name": "stdout",
     "output_type": "stream",
     "text": [
      "         id user_id session_date  mb_used month_number\n",
      "0   1000_13    1000   2018-12-29    89.86           12\n",
      "1  1000_204    1000   2018-12-31     0.00           12\n",
      "2  1000_379    1000   2018-12-28   660.40           12\n",
      "3  1000_413    1000   2018-12-26   270.99           12\n",
      "4  1000_442    1000   2018-12-27   880.22           12\n"
     ]
    }
   ],
   "source": [
    "df_internet['month_number'] = (df_internet['session_date'].dt.month).astype('object')\n",
    "print(df_internet.head())"
   ]
  },
  {
   "cell_type": "markdown",
   "metadata": {
    "id": "3UA2cqIW0q1E"
   },
   "source": [
    "## Estudiar las condiciones de las tarifas"
   ]
  },
  {
   "cell_type": "markdown",
   "metadata": {
    "id": "T86Sqltq0q1F"
   },
   "source": [
    "Megaline redondea los segundos a minutos y los megabytes a gigabytes. Para las llamadas, cada llamada individual se redondea: incluso si la llamada duró solo un segundo, se contará como un minuto. Para el tráfico web, las sesiones web individuales no se redondean. En su lugar, el total del mes se redondea hacia arriba. Si alguien usa 1025 megabytes este mes, se le cobrarán 2 gigabytes."
   ]
  },
  {
   "cell_type": "code",
   "execution_count": 24,
   "metadata": {
    "id": "i409op8p0q1F",
    "scrolled": true
   },
   "outputs": [
    {
     "name": "stdout",
     "output_type": "stream",
     "text": [
      "   messages_included  mb_per_month_included  minutes_included  \\\n",
      "0                 50                  15360               500   \n",
      "1               1000                  30720              3000   \n",
      "\n",
      "   usd_monthly_pay  usd_per_gb  usd_per_message  usd_per_minute plan_name  \\\n",
      "0               20          10             0.03            0.03      surf   \n",
      "1               70           7             0.01            0.01  ultimate   \n",
      "\n",
      "   gb_per_month_included  \n",
      "0                     15  \n",
      "1                     30  \n"
     ]
    }
   ],
   "source": [
    "# Imprime las condiciones de la tarifa y asegúrate de que te quedan claras\n",
    "print(df_plans)\n"
   ]
  },
  {
   "cell_type": "markdown",
   "metadata": {
    "id": "hMR1tP5d0q1F"
   },
   "source": [
    "## Agregar datos por usuario\n",
    "\n",
    "Ahora que los datos están limpios, se agregan algunos datos por usuario y por periodo para que solo haya un registro por usuario y por periodo, lo que facilitará el análisis posterior.\n",
    "También se calcularán las ganancias por usuario por mes."
   ]
  },
  {
   "cell_type": "code",
   "execution_count": 25,
   "metadata": {
    "id": "A332cedB0q1G"
   },
   "outputs": [
    {
     "name": "stdout",
     "output_type": "stream",
     "text": [
      "      user_id  month_number  call_count\n",
      "0        1000            12          16\n",
      "1        1001             8          27\n",
      "2        1001             9          49\n",
      "3        1001            10          65\n",
      "4        1001            11          64\n",
      "...       ...           ...         ...\n",
      "2253     1498            12          39\n",
      "2254     1499             9          41\n",
      "2255     1499            10          53\n",
      "2256     1499            11          45\n",
      "2257     1499            12          65\n",
      "\n",
      "[2258 rows x 3 columns]\n"
     ]
    }
   ],
   "source": [
    "# Calcula el número de llamadas hechas por cada usuario al mes. Guarda el resultado.\n",
    "calls_per_user_count = df_calls.groupby(['user_id', 'month_number'])['id'].count().reset_index(name='call_count')\n",
    "\n",
    "print(calls_per_user_count)\n"
   ]
  },
  {
   "cell_type": "code",
   "execution_count": 26,
   "metadata": {
    "id": "aw2cmuql0q1G"
   },
   "outputs": [
    {
     "name": "stdout",
     "output_type": "stream",
     "text": [
      "      user_id  month_number  minutes_sum\n",
      "0        1000            12          124\n",
      "1        1001             8          182\n",
      "2        1001             9          315\n",
      "3        1001            10          393\n",
      "4        1001            11          426\n",
      "...       ...           ...          ...\n",
      "2253     1498            12          339\n",
      "2254     1499             9          346\n",
      "2255     1499            10          385\n",
      "2256     1499            11          308\n",
      "2257     1499            12          496\n",
      "\n",
      "[2258 rows x 3 columns]\n"
     ]
    }
   ],
   "source": [
    "# Calcula la cantidad de minutos usados por cada usuario al mes. Guarda el resultado.\n",
    "minutes_per_user_sum = df_calls.groupby(['user_id', 'month_number'])['duration'].sum().reset_index(name='minutes_sum')\n",
    "\n",
    "print(minutes_per_user_sum)\n"
   ]
  },
  {
   "cell_type": "code",
   "execution_count": 27,
   "metadata": {
    "id": "CcQvNHn60q1G"
   },
   "outputs": [
    {
     "name": "stdout",
     "output_type": "stream",
     "text": [
      "      user_id  month_number  message_count\n",
      "0        1000            12             11\n",
      "1        1001             8             30\n",
      "2        1001             9             44\n",
      "3        1001            10             53\n",
      "4        1001            11             36\n",
      "...       ...           ...            ...\n",
      "1801     1496             9             21\n",
      "1802     1496            10             18\n",
      "1803     1496            11             13\n",
      "1804     1496            12             11\n",
      "1805     1497            12             50\n",
      "\n",
      "[1806 rows x 3 columns]\n"
     ]
    }
   ],
   "source": [
    "# Calcula el número de mensajes enviados por cada usuario al mes. Guarda el resultado.\n",
    "messages_per_user_count = df_messages.groupby(['user_id', 'month_number'])['id'].count().reset_index(name='message_count')\n",
    "\n",
    "print(messages_per_user_count)"
   ]
  },
  {
   "cell_type": "code",
   "execution_count": 28,
   "metadata": {
    "id": "H1AqN2eG0q1H"
   },
   "outputs": [
    {
     "name": "stdout",
     "output_type": "stream",
     "text": [
      "      user_id  month_number    mb_sum\n",
      "0        1000            12   1901.47\n",
      "1        1001             8   6919.15\n",
      "2        1001             9  13314.82\n",
      "3        1001            10  22330.49\n",
      "4        1001            11  18504.30\n",
      "...       ...           ...       ...\n",
      "2272     1498            12  23137.69\n",
      "2273     1499             9  12984.76\n",
      "2274     1499            10  19492.43\n",
      "2275     1499            11  16813.83\n",
      "2276     1499            12  22059.21\n",
      "\n",
      "[2277 rows x 3 columns]\n"
     ]
    }
   ],
   "source": [
    "# Calcula el volumen del tráfico de Internet usado por cada usuario al mes. Guarda el resultado.\n",
    "mb_per_user_sum = df_internet.groupby(['user_id', 'month_number'])['mb_used'].sum().reset_index(name='mb_sum')\n",
    "\n",
    "\n",
    "print(mb_per_user_sum)\n",
    "\n"
   ]
  },
  {
   "cell_type": "code",
   "execution_count": 29,
   "metadata": {
    "id": "FW99ykyf0q1H"
   },
   "outputs": [
    {
     "name": "stdout",
     "output_type": "stream",
     "text": [
      "      user_id  month_number  call_count  minutes_sum  message_count    mb_sum\n",
      "0        1000            12        16.0        124.0           11.0   1901.47\n",
      "1        1001             8        27.0        182.0           30.0   6919.15\n",
      "2        1001             9        49.0        315.0           44.0  13314.82\n",
      "3        1001            10        65.0        393.0           53.0  22330.49\n",
      "4        1001            11        64.0        426.0           36.0  18504.30\n",
      "...       ...           ...         ...          ...            ...       ...\n",
      "2288     1349            12         NaN          NaN           61.0  13039.91\n",
      "2289     1361             5         NaN          NaN            2.0   1519.69\n",
      "2290     1482            10         NaN          NaN            2.0       NaN\n",
      "2291     1108            12         NaN          NaN            NaN    233.17\n",
      "2292     1311             6         NaN          NaN            NaN   1498.83\n",
      "\n",
      "[2293 rows x 6 columns]\n"
     ]
    }
   ],
   "source": [
    "# Fusiona los datos de llamadas, minutos, mensajes e Internet con base en user_id y month\n",
    "\n",
    "df_user_monthly_usage = pd.merge(calls_per_user_count, minutes_per_user_sum, on=['user_id','month_number'],how='outer').merge(messages_per_user_count, on=['user_id','month_number'],how='outer').merge(mb_per_user_sum, on=['user_id','month_number'],how='outer')\n",
    "df_user_monthly_usage.reset_index()\n",
    "\n",
    "print(df_user_monthly_usage)"
   ]
  },
  {
   "cell_type": "code",
   "execution_count": 30,
   "metadata": {
    "id": "0dNOXHag0q1H"
   },
   "outputs": [
    {
     "name": "stdout",
     "output_type": "stream",
     "text": [
      "     user_id  month_number  call_count  minutes_sum  message_count    mb_sum  \\\n",
      "0       1000            12        16.0        124.0           11.0   1901.47   \n",
      "1       1001             8        27.0        182.0           30.0   6919.15   \n",
      "2       1001             9        49.0        315.0           44.0  13314.82   \n",
      "3       1001            10        65.0        393.0           53.0  22330.49   \n",
      "4       1001            11        64.0        426.0           36.0  18504.30   \n",
      "...      ...           ...         ...          ...            ...       ...   \n",
      "2288    1204            12         NaN          NaN           78.0  36730.05   \n",
      "2289    1349            10         NaN          NaN           76.0  13093.55   \n",
      "2290    1349            11         NaN          NaN           72.0  17128.26   \n",
      "2291    1349            12         NaN          NaN           61.0  13039.91   \n",
      "2292    1108            12         NaN          NaN            NaN    233.17   \n",
      "\n",
      "          plan  messages_included  mb_per_month_included  minutes_included  \\\n",
      "0     ultimate               1000                  30720              3000   \n",
      "1         surf                 50                  15360               500   \n",
      "2         surf                 50                  15360               500   \n",
      "3         surf                 50                  15360               500   \n",
      "4         surf                 50                  15360               500   \n",
      "...        ...                ...                    ...               ...   \n",
      "2288  ultimate               1000                  30720              3000   \n",
      "2289      surf                 50                  15360               500   \n",
      "2290      surf                 50                  15360               500   \n",
      "2291      surf                 50                  15360               500   \n",
      "2292  ultimate               1000                  30720              3000   \n",
      "\n",
      "      usd_monthly_pay  usd_per_gb  usd_per_message  usd_per_minute plan_name  \\\n",
      "0                  70           7             0.01            0.01  ultimate   \n",
      "1                  20          10             0.03            0.03      surf   \n",
      "2                  20          10             0.03            0.03      surf   \n",
      "3                  20          10             0.03            0.03      surf   \n",
      "4                  20          10             0.03            0.03      surf   \n",
      "...               ...         ...              ...             ...       ...   \n",
      "2288               70           7             0.01            0.01  ultimate   \n",
      "2289               20          10             0.03            0.03      surf   \n",
      "2290               20          10             0.03            0.03      surf   \n",
      "2291               20          10             0.03            0.03      surf   \n",
      "2292               70           7             0.01            0.01  ultimate   \n",
      "\n",
      "      gb_per_month_included  \n",
      "0                        30  \n",
      "1                        15  \n",
      "2                        15  \n",
      "3                        15  \n",
      "4                        15  \n",
      "...                     ...  \n",
      "2288                     30  \n",
      "2289                     15  \n",
      "2290                     15  \n",
      "2291                     15  \n",
      "2292                     30  \n",
      "\n",
      "[2293 rows x 16 columns]\n"
     ]
    }
   ],
   "source": [
    "# Añade la información de la tarifa\n",
    "user_plan= df_users[['user_id','plan']].merge(df_plans, left_on='plan', right_on='plan_name')\n",
    "\n",
    "df_user_monthly_usage_and_plan = df_user_monthly_usage.merge(user_plan, on='user_id')\n",
    "\n",
    "print(df_user_monthly_usage_and_plan)"
   ]
  },
  {
   "cell_type": "code",
   "execution_count": 80,
   "metadata": {
    "id": "5FGCf_c60q1I"
   },
   "outputs": [
    {
     "name": "stdout",
     "output_type": "stream",
     "text": [
      "     user_id      plan  total_earnings\n",
      "0       1000  ultimate         70.0000\n",
      "1       1001      surf        252.1297\n",
      "2       1002      surf        103.4508\n",
      "3       1003      surf        158.5614\n",
      "4       1004      surf        612.6397\n",
      "..       ...       ...             ...\n",
      "485     1495      surf        472.2096\n",
      "486     1496      surf        128.2826\n",
      "487     1497  ultimate         70.0000\n",
      "488     1498      surf        847.1795\n",
      "489     1499      surf        213.6547\n",
      "\n",
      "[490 rows x 3 columns]\n"
     ]
    }
   ],
   "source": [
    "# Calcula el ingreso mensual para cada usuario\n",
    "\n",
    "df_user_monthly_usage_and_plan['calls_extra_fee'] = np.where(df_user_monthly_usage_and_plan['minutes_sum'] > df_user_monthly_usage_and_plan['minutes_included'],\n",
    "    (df_user_monthly_usage_and_plan['minutes_sum'] - df_user_monthly_usage_and_plan['minutes_included']) * df_user_monthly_usage_and_plan['usd_per_minute'],\n",
    "    0)\n",
    "\n",
    "df_user_monthly_usage_and_plan['messages_extra_fee'] = np.where(df_user_monthly_usage_and_plan['message_count']>df_user_monthly_usage_and_plan['messages_included'],\n",
    "    (df_user_monthly_usage_and_plan['message_count'] - df_user_monthly_usage_and_plan['messages_included']) * df_user_monthly_usage_and_plan['usd_per_message'],                                                           \n",
    "    0)\n",
    "\n",
    "df_user_monthly_usage_and_plan['gb_sum'] = df_user_monthly_usage_and_plan['mb_sum']/1000\n",
    "\n",
    "df_user_monthly_usage_and_plan['internet_extra_fee'] = np.where(df_user_monthly_usage_and_plan['gb_sum'] > df_user_monthly_usage_and_plan['gb_per_month_included'],\n",
    "    (df_user_monthly_usage_and_plan['gb_sum'] - df_user_monthly_usage_and_plan['gb_per_month_included']) * df_user_monthly_usage_and_plan['usd_per_gb'],\n",
    "    0)\n",
    "\n",
    "df_user_monthly_usage_and_plan['total_earnings'] = df_user_monthly_usage_and_plan['usd_monthly_pay'] + df_user_monthly_usage_and_plan['calls_extra_fee'] + df_user_monthly_usage_and_plan['messages_extra_fee'] + df_user_monthly_usage_and_plan['internet_extra_fee']\n",
    "\n",
    "\n",
    "monthly_earnings_per_user_monthly = df_user_monthly_usage_and_plan[['user_id','month_number','plan','total_earnings']]\n",
    "#print(monthly_earnings_per_user_monthly)\n",
    "monthly_earnings_per_user = monthly_earnings_per_user_monthly.groupby(['user_id','plan'])['total_earnings'].sum().reset_index()\n",
    "print(monthly_earnings_per_user)"
   ]
  },
  {
   "cell_type": "markdown",
   "metadata": {
    "id": "-jtyHzJb0q1I"
   },
   "source": [
    "## Estudia el comportamiento de usuario"
   ]
  },
  {
   "cell_type": "markdown",
   "metadata": {
    "id": "AxU3Y0N70q1J"
   },
   "source": [
    "Se calculan algunas estadísticas descriptivas para los datos agregados, mostrando un panorama general de la información contenida en los datos. Se utlizan gráficos para facilitar la visualización de los mismos. Se utiliza principalmente un enfoque desde el tipo de plan, para comparar estadísticas de acuerdo con el plan que tienen contratado los usuarios."
   ]
  },
  {
   "cell_type": "markdown",
   "metadata": {
    "id": "vtW4CJEe0q1J"
   },
   "source": [
    "### Llamadas"
   ]
  },
  {
   "cell_type": "code",
   "execution_count": 32,
   "metadata": {
    "id": "Jf5v5--k0q1J"
   },
   "outputs": [
    {
     "data": {
      "image/png": "[encoded data removed]",
      "text/plain": [
       "<Figure size 1200x600 with 1 Axes>"
      ]
     },
     "metadata": {},
     "output_type": "display_data"
    }
   ],
   "source": [
    "# Compara la duración promedio de llamadas por cada plan y por cada mes. Traza un gráfico de barras para visualizarla.\n",
    "calls_bar = df_user_monthly_usage_and_plan.groupby(['plan','month_number'])['minutes_sum'].mean().unstack()\n",
    "\n",
    "calls_bar.plot(kind='bar', figsize=(12, 6), title='Duración Promedio de Llamadas por Plan y Mes',xlabel='Mes', ylabel ='Duración Promedio de Llamadas (minutos)', rot =0)\n",
    "plt.legend(title='Month')\n",
    "plt.grid(axis='y')\n",
    "plt.show()\n",
    "\n",
    "#print(calls_bar)"
   ]
  },
  {
   "cell_type": "code",
   "execution_count": 33,
   "metadata": {
    "id": "QoLqW1S_0q1J"
   },
   "outputs": [
    {
     "data": {
      "image/png": "[encoded data removed]",
      "text/plain": [
       "<Figure size 640x480 with 1 Axes>"
      ]
     },
     "metadata": {},
     "output_type": "display_data"
    }
   ],
   "source": [
    "# Compara el número de minutos mensuales que necesitan los usuarios de cada plan. Traza un histograma.\n",
    "df_user_monthly_usage_and_plan_surf = df_user_monthly_usage_and_plan[df_user_monthly_usage_and_plan['plan']=='surf']\n",
    "df_user_monthly_usage_and_plan_ultimate = df_user_monthly_usage_and_plan[df_user_monthly_usage_and_plan['plan']=='ultimate']\n",
    "\n",
    "\n",
    "df_user_monthly_usage_and_plan_surf['minutes_sum'].plot(kind='hist', title='Distribución de Minutos Mensuales por Plan', bins=15, color='lightblue')\n",
    "df_user_monthly_usage_and_plan_ultimate['minutes_sum'].plot(kind='hist', alpha=0.6, bins=15, color='blue')\n",
    "#plt.legend(['surf','ultimate'])\n",
    "plt.xlabel=('Minutos')\n",
    "\n",
    "plt.show()"
   ]
  },
  {
   "cell_type": "markdown",
   "metadata": {
    "id": "bLS9T8OH0q1K"
   },
   "source": [
    " "
   ]
  },
  {
   "cell_type": "code",
   "execution_count": 34,
   "metadata": {
    "id": "oSndbAnt0q1K"
   },
   "outputs": [
    {
     "name": "stdout",
     "output_type": "stream",
     "text": [
      "Surf plan promedio de duración de llamada: 436.51974110032364\n",
      "Surf plan varianza de duración de llamada: 52537.03666530514\n",
      "\n",
      "Ultimate plan promedio de duración de llamada: 434.67601683029454\n",
      "Ultimate plan varianza de duración de llamada: 56494.28633925359\n"
     ]
    }
   ],
   "source": [
    "# Calcula la media y la varianza de la duración mensual de llamadas.\n",
    "\n",
    "#surf\n",
    "print('Surf plan promedio de duración de llamada:', df_user_monthly_usage_and_plan_surf['minutes_sum'].mean())\n",
    "print('Surf plan varianza de duración de llamada:',np.var(df_user_monthly_usage_and_plan_surf['minutes_sum']))\n",
    "\n",
    "print()\n",
    "#ultimate\n",
    "print('Ultimate plan promedio de duración de llamada:', df_user_monthly_usage_and_plan_ultimate['minutes_sum'].mean())\n",
    "print('Ultimate plan varianza de duración de llamada:',np.var(df_user_monthly_usage_and_plan_ultimate['minutes_sum']))"
   ]
  },
  {
   "cell_type": "code",
   "execution_count": 35,
   "metadata": {
    "id": "nZzoRUKc0q1K"
   },
   "outputs": [
    {
     "data": {
      "image/png": "[encoded data removed]",
      "text/plain": [
       "<Figure size 600x600 with 1 Axes>"
      ]
     },
     "metadata": {},
     "output_type": "display_data"
    }
   ],
   "source": [
    "# Traza un diagrama de caja para visualizar la distribución de la duración mensual de llamadas\n",
    "ax = df_user_monthly_usage_and_plan.boxplot(column=\"minutes_sum\", by=\"plan\", figsize=(6,6))\n",
    "ax.set_ylabel(\"Duration\")\n",
    "ax.set_title(\"Distribución de la duración mensual de llamadas por plan\")\n",
    "plt.show()"
   ]
  },
  {
   "cell_type": "markdown",
   "metadata": {
    "id": "r627zBO50q1K"
   },
   "source": [
    "El comportamiento de los usuarios con respecto a las llamadas es muy similar para ambos planes, de acuerdo con el análisis, el usuario promedio habla por teléfono alrededor de 435 minutos al mes, sin importar qué plan utilice. Además, ambos planes muestran una distribución similar."
   ]
  },
  {
   "cell_type": "markdown",
   "metadata": {
    "id": "8idKy8Wh0q1L"
   },
   "source": [
    "### Mensajes"
   ]
  },
  {
   "cell_type": "code",
   "execution_count": 36,
   "metadata": {
    "id": "NXLxiTit0q1L"
   },
   "outputs": [
    {
     "data": {
      "image/png": "[encoded data removed]",
      "text/plain": [
       "<Figure size 1200x600 with 1 Axes>"
      ]
     },
     "metadata": {},
     "output_type": "display_data"
    }
   ],
   "source": [
    "# Comprara el número de mensajes que tienden a enviar cada mes los usuarios de cada plan\n",
    "messages_bar = df_user_monthly_usage_and_plan.groupby(['plan','month_number'])['message_count'].mean().unstack()\n",
    "\n",
    "messages_bar.plot(kind='bar', figsize=(12, 6), title='Número Promedio de Mensajes por Plan y Mes',xlabel='Mes', ylabel ='Número Promedio de Mensajes', rot =0)\n",
    "plt.legend(title='Month')\n",
    "plt.grid(axis='y')\n",
    "plt.show()\n"
   ]
  },
  {
   "cell_type": "code",
   "execution_count": 37,
   "metadata": {
    "id": "GRI_R7xF0q1L"
   },
   "outputs": [
    {
     "data": {
      "image/png": "[encoded data removed]",
      "text/plain": [
       "<Figure size 640x480 with 1 Axes>"
      ]
     },
     "metadata": {},
     "output_type": "display_data"
    }
   ],
   "source": [
    "# Compara el número de mensajes mensuales que necesitan los usuarios de cada plan. Traza un histograma.\n",
    "\n",
    "df_user_monthly_usage_and_plan_surf['message_count'].plot(kind='hist', title='Distribución de Mensajes Mensuales por Plan', bins=15, color='lightblue')\n",
    "df_user_monthly_usage_and_plan_ultimate['message_count'].plot(kind='hist', alpha=0.6, bins=15, color='blue')\n",
    "#plt.legend(['surf','ultimate'])\n",
    "plt.xlabel=('Número de mensajes')\n",
    "\n",
    "plt.show()\n",
    "\n"
   ]
  },
  {
   "cell_type": "code",
   "execution_count": 38,
   "metadata": {
    "id": "dtFwCGAp0q1M"
   },
   "outputs": [
    {
     "name": "stdout",
     "output_type": "stream",
     "text": [
      "Surf plan promedio de cantidad de mensajes: 40.10965630114566\n",
      "Surf plan varianza de cantidad de mensajes: 1090.4511506183685\n",
      "\n",
      "Ultimate plan promedio de cantidad de mensajes: 46.29623287671233\n",
      "Ultimate plan varianza de cantidad de mensajes: 1083.3249173156314\n"
     ]
    }
   ],
   "source": [
    "# Media y la varianza de la cantidad mensual de mensajes.\n",
    "\n",
    "#surf\n",
    "print('Surf plan promedio de cantidad de mensajes:', df_user_monthly_usage_and_plan_surf['message_count'].mean())\n",
    "print('Surf plan varianza de cantidad de mensajes:',np.var(df_user_monthly_usage_and_plan_surf['message_count']))\n",
    "\n",
    "print()\n",
    "#ultimate\n",
    "print('Ultimate plan promedio de cantidad de mensajes:', df_user_monthly_usage_and_plan_ultimate['message_count'].mean())\n",
    "print('Ultimate plan varianza de cantidad de mensajes:',np.var(df_user_monthly_usage_and_plan_ultimate['message_count']))"
   ]
  },
  {
   "cell_type": "code",
   "execution_count": 39,
   "metadata": {},
   "outputs": [
    {
     "data": {
      "image/png": "[encoded data removed]",
      "text/plain": [
       "<Figure size 600x600 with 1 Axes>"
      ]
     },
     "metadata": {},
     "output_type": "display_data"
    },
    {
     "name": "stdout",
     "output_type": "stream",
     "text": [
      "Surf plan\n",
      "count    1222.000000\n",
      "mean       40.109656\n",
      "std        33.035500\n",
      "min         1.000000\n",
      "25%        16.000000\n",
      "50%        32.000000\n",
      "75%        54.000000\n",
      "max       266.000000\n",
      "Name: message_count, dtype: float64\n",
      "\n",
      "Ultimate plan\n",
      "count    584.000000\n",
      "mean      46.296233\n",
      "std       32.942118\n",
      "min        1.000000\n",
      "25%       21.000000\n",
      "50%       41.000000\n",
      "75%       66.000000\n",
      "max      166.000000\n",
      "Name: message_count, dtype: float64\n"
     ]
    }
   ],
   "source": [
    "#Diagrama de caja para visualizar la distribución de la cantidad mensual de mensajes\n",
    "ax = df_user_monthly_usage_and_plan.boxplot(column=\"message_count\", by=\"plan\", figsize=(6,6))\n",
    "ax.set_ylabel(\"Número de mensajes\")\n",
    "ax.set_title(\"Distribución de la cantidad mensual de mensajes\")\n",
    "plt.show()\n",
    "\n",
    "print('Surf plan')\n",
    "print(df_user_monthly_usage_and_plan_surf['message_count'].describe())\n",
    "print()\n",
    "print('Ultimate plan')\n",
    "print(df_user_monthly_usage_and_plan_ultimate['message_count'].describe())"
   ]
  },
  {
   "cell_type": "markdown",
   "metadata": {
    "id": "390SSL480q1M"
   },
   "source": [
    "El comportamiento de los usuarios con respecto a los mensajes también resulta ser muy similar para ambos planes, de acuerdo con el análisis anterior, el usuario promedio envía entre 40 y 46 minutos al mes, sin importar qué plan utilice.\n",
    "La varianza en cuanto al número de mensajes también es similar para ambos planes, sin embargo el plan surf muestra mayor cantidad de valores aislados bastante altos, llegando a un máximo de 266.\n",
    "Ambos planes muestran una distribución similar."
   ]
  },
  {
   "cell_type": "markdown",
   "metadata": {
    "id": "42YSypXz0q1M"
   },
   "source": [
    "### Internet"
   ]
  },
  {
   "cell_type": "code",
   "execution_count": 40,
   "metadata": {
    "id": "lSuKPtjh0q1M"
   },
   "outputs": [
    {
     "data": {
      "image/png": "[encoded data removed]",
      "text/plain": [
       "<Figure size 1200x600 with 1 Axes>"
      ]
     },
     "metadata": {},
     "output_type": "display_data"
    }
   ],
   "source": [
    "# Compara la cantidad de tráfico de Internet consumido por usuarios por plan\n",
    "internet_bar = df_user_monthly_usage_and_plan.groupby(['plan','month_number'])['gb_sum'].mean().unstack()\n",
    "\n",
    "messages_bar.plot(kind='bar', figsize=(12, 6), title='Número Promedio de GB utilizados por Plan y Mes',xlabel='Mes', ylabel ='Número Promedio de GB al mes', rot =0)\n",
    "plt.legend(title='Month')\n",
    "plt.grid(axis='y')\n",
    "plt.show()"
   ]
  },
  {
   "cell_type": "code",
   "execution_count": 41,
   "metadata": {
    "id": "wnh8jYXi0q1N"
   },
   "outputs": [
    {
     "data": {
      "image/png": "[encoded data removed]",
      "text/plain": [
       "<Figure size 640x480 with 1 Axes>"
      ]
     },
     "metadata": {},
     "output_type": "display_data"
    }
   ],
   "source": [
    "# Comparación del número de GB mensuales que necesitan los usuarios de cada plan e histograma\n",
    "\n",
    "df_user_monthly_usage_and_plan_surf['gb_sum'].plot(kind='hist', title='Distribución de GB Mensuales por Plan', bins=15, color='lightblue')\n",
    "df_user_monthly_usage_and_plan_ultimate['gb_sum'].plot(kind='hist', alpha=0.6, bins=15, color='blue')\n",
    "#plt.legend(['surf','ultimate'])\n",
    "plt.xlabel=('Número de GB')\n",
    "\n",
    "plt.show()"
   ]
  },
  {
   "cell_type": "code",
   "execution_count": 42,
   "metadata": {
    "id": "5VlyJ9ry0q1N"
   },
   "outputs": [
    {
     "name": "stdout",
     "output_type": "stream",
     "text": [
      "Surf plan promedio de cantidad de GB: 16.717702137355584\n",
      "Surf plan varianza de cantidad de GB: 62.128323163008716\n",
      "\n",
      "Ultimate plan promedio de cantidad de GB: 17.23864225312935\n",
      "Ultimate plan varianza de cantidad de GB: 61.23955612006474\n"
     ]
    }
   ],
   "source": [
    "# Media y varianza de la cantidad mensual de GB.\n",
    "\n",
    "#surf\n",
    "print('Surf plan promedio de cantidad de GB:', df_user_monthly_usage_and_plan_surf['gb_sum'].mean())\n",
    "print('Surf plan varianza de cantidad de GB:',np.var(df_user_monthly_usage_and_plan_surf['gb_sum']))\n",
    "\n",
    "print()\n",
    "#ultimate\n",
    "print('Ultimate plan promedio de cantidad de GB:', df_user_monthly_usage_and_plan_ultimate['gb_sum'].mean())\n",
    "print('Ultimate plan varianza de cantidad de GB:',np.var(df_user_monthly_usage_and_plan_ultimate['gb_sum']))"
   ]
  },
  {
   "cell_type": "code",
   "execution_count": 43,
   "metadata": {},
   "outputs": [
    {
     "data": {
      "image/png": "[encoded data removed]",
      "text/plain": [
       "<Figure size 600x600 with 1 Axes>"
      ]
     },
     "metadata": {},
     "output_type": "display_data"
    }
   ],
   "source": [
    "#Diagrama de caja para visualizar la distribución de la cantidad mensual de GB\n",
    "ax = df_user_monthly_usage_and_plan.boxplot(column=\"gb_sum\", by=\"plan\", figsize=(6,6))\n",
    "ax.set_ylabel(\"Número de GB\")\n",
    "ax.set_title(\"Distribución de la cantidad mensual de GB\")\n",
    "plt.show()\n",
    "\n"
   ]
  },
  {
   "cell_type": "markdown",
   "metadata": {
    "id": "UN9zwuMP0q1N"
   },
   "source": [
    "Sorprendentemente, el comportamiento mensual de los usuarios en cuanto al internet, también es bastante similar entre los dos planes; la distribución de ambos planes es similar.\n",
    "En promedio para ambos planes, el uso es de alrededor de 17 GB. Hasta aquí se puede concluir que el consumo del servicio de internet tampoco varía mucho según el plan, sin embargo, los usuarios del plan 'Surf', que contiene menor cantidad de GB al mes, tienden a excederse más. "
   ]
  },
  {
   "cell_type": "markdown",
   "metadata": {
    "id": "tCijq3260q1N"
   },
   "source": [
    "## Ingreso"
   ]
  },
  {
   "cell_type": "markdown",
   "metadata": {
    "id": "9nq5IAcy0q1O"
   },
   "source": [
    "Del mismo modo, se describe estadísticamente los ingresos de los planes."
   ]
  },
  {
   "cell_type": "code",
   "execution_count": 44,
   "metadata": {
    "id": "tz-dq_V00q1O"
   },
   "outputs": [
    {
     "data": {
      "image/png": "[encoded data removed]",
      "text/plain": [
       "<Figure size 600x400 with 1 Axes>"
      ]
     },
     "metadata": {},
     "output_type": "display_data"
    }
   ],
   "source": [
    "earnings_bar = monthly_earnings_per_user_monthly.groupby('plan')['total_earnings'].mean()\n",
    "\n",
    "earnings_bar.plot(kind='bar', figsize=(6, 4), title='Promedio de ganancias por plan',xlabel='Plan', ylabel ='Número Promedio de ganancias al mes', rot =0)\n",
    "plt.grid(axis='y')\n",
    "plt.show()"
   ]
  },
  {
   "cell_type": "code",
   "execution_count": 45,
   "metadata": {
    "id": "0Y1v8ZUz0q1P"
   },
   "outputs": [
    {
     "data": {
      "image/png": "[encoded data removed]",
      "text/plain": [
       "<Figure size 600x400 with 1 Axes>"
      ]
     },
     "metadata": {},
     "output_type": "display_data"
    },
    {
     "name": "stdout",
     "output_type": "stream",
     "text": [
      "plan\n",
      "surf        95405.43380\n",
      "ultimate    52180.48591\n",
      "Name: total_earnings, dtype: float64\n"
     ]
    }
   ],
   "source": [
    "# Total de ingreso anual por plan\n",
    "\n",
    "earnings_total_bar = monthly_earnings_per_user_monthly.groupby('plan')['total_earnings'].sum()\n",
    "\n",
    "earnings_total_bar.plot(kind='bar', figsize=(6, 4), title='Total de ganancias por plan 2018',xlabel='Plan', ylabel ='Número Promedio de ganancias al mes', rot =0)\n",
    "plt.grid(axis='y')\n",
    "plt.show()\n",
    "\n",
    "print(monthly_earnings_per_user_monthly.groupby('plan')['total_earnings'].sum())\n"
   ]
  },
  {
   "cell_type": "code",
   "execution_count": 46,
   "metadata": {
    "id": "bYmwxyVh0q1P"
   },
   "outputs": [
    {
     "data": {
      "image/png": "[encoded data removed]",
      "text/plain": [
       "<Figure size 600x600 with 1 Axes>"
      ]
     },
     "metadata": {},
     "output_type": "display_data"
    },
    {
     "name": "stdout",
     "output_type": "stream",
     "text": [
      "Surf plan\n",
      "count    1573.000000\n",
      "mean       60.651897\n",
      "std        56.140846\n",
      "min        20.000000\n",
      "25%        20.000000\n",
      "50%        40.757600\n",
      "75%        82.091500\n",
      "max       599.685900\n",
      "Name: total_earnings, dtype: float64\n",
      "Varianza: 3149.7908597549745\n",
      "\n",
      "Ultimate plan\n",
      "count    720.000000\n",
      "mean      72.472897\n",
      "std       11.981584\n",
      "min       70.000000\n",
      "25%       70.000000\n",
      "50%       70.000000\n",
      "75%       70.000000\n",
      "max      186.167310\n",
      "Name: total_earnings, dtype: float64\n",
      "Varianza: 143.35898019971427\n"
     ]
    }
   ],
   "source": [
    "#Diagrama de caja para visualizar la distribución del ingreso mensual para cada plan\n",
    "ax = monthly_earnings_per_user_monthly.boxplot(column=\"total_earnings\", by=\"plan\", figsize=(6,6))\n",
    "ax.set_ylabel(\"Ingreso total\")\n",
    "ax.set_title(\"Distribución del ingreso mensual por plan\")\n",
    "plt.show()\n",
    "\n",
    "print('Surf plan')\n",
    "print(df_user_monthly_usage_and_plan_surf['total_earnings'].describe())\n",
    "print('Varianza:',np.var(df_user_monthly_usage_and_plan_surf['total_earnings']))\n",
    "print()\n",
    "print('Ultimate plan')\n",
    "print(df_user_monthly_usage_and_plan_ultimate['total_earnings'].describe())\n",
    "print('Varianza:',np.var(df_user_monthly_usage_and_plan_ultimate['total_earnings']))"
   ]
  },
  {
   "cell_type": "markdown",
   "metadata": {
    "id": "KAFidcXZ0q1P"
   },
   "source": [
    "Los usuarios del plan 'Surf' tienden a excederse mucho más que los usuarios del plan 'Ultimate'.\n",
    "El pago mensual del plan 'Surf' es de 20, sin embargo el promedio de ingresos para este plan es de 60: casi lo que cuesta el plan 'Ultimate'. Se puede notar que este exceso está relacionado con los GB utilizados al mes. \n",
    "El pago mensual del plan 'Ultimate' es de 70, y los usuarios de este plan en promedio se ajustan a la tarifa."
   ]
  },
  {
   "cell_type": "markdown",
   "metadata": {
    "id": "ajJ7VKeI0q1Q"
   },
   "source": [
    "## Prueba las hipótesis estadísticas"
   ]
  },
  {
   "cell_type": "markdown",
   "metadata": {
    "id": "AdXAZ-yL0q1Q"
   },
   "source": [
    "Se prueba la hipótesis de que son diferentes los ingresos promedio procedentes de los usuarios de los planes de llamada Ultimate y Surf.\n"
   ]
  },
  {
   "cell_type": "markdown",
   "metadata": {
    "id": "IQwa_hsh0q1Q"
   },
   "source": [
    "Para esta prueba se obtendrá una muestra de 50 clientes de cada plan. También se establece:\n",
    "\n",
    "-Hipótesis nula: los ingresos promedio de los dos planes son iguales\n",
    "\n",
    "-Hipótesis alternativa: los ingresos promedio de los dos planes no son iguales\n",
    "\n",
    "\n",
    "Para probar esta hipótesis de que las medias de los dos planes son iguales según las muestras tomadas de ellas, se aplicará la función scipy.stats.ttest_ind, estableciendo el parámetro equal_var=False debido a que las varianzas no se consideran iguales.\n",
    "\n",
    "Se establece un nivel de significancia estadística crítica de alpha = 0.05, con el fin de tener un 95% de confianza en los resultados.\n"
   ]
  },
  {
   "cell_type": "code",
   "execution_count": 78,
   "metadata": {
    "id": "nFoPNlPq0q1R"
   },
   "outputs": [
    {
     "name": "stdout",
     "output_type": "stream",
     "text": [
      "valor p:  0.5365859924501291\n",
      "No podemos rechazar la hipótesis nula\n"
     ]
    }
   ],
   "source": [
    "# Establecer las muestras\n",
    "monthly_earnings_per_user_surf = monthly_earnings_per_user[monthly_earnings_per_user['plan']=='surf']\n",
    "monthly_earnings_per_user_ultimate = monthly_earnings_per_user[monthly_earnings_per_user['plan']=='ultimate']\n",
    "\n",
    "#print(monthly_earnings_per_user_surf['user_id'].count())\n",
    "#print(monthly_earnings_per_user_ultimate['user_id'].count())\n",
    "\n",
    "np.random.seed(1)\n",
    "sample_surf = monthly_earnings_per_user_surf['total_earnings'].sample(50)\n",
    "sample_ultimate = monthly_earnings_per_user_ultimate['total_earnings'].sample(50)\n",
    "\n",
    "\n",
    "# Prueba las hipótesis\n",
    "alpha = 0.05  \n",
    "results = st.ttest_ind(sample_surf, sample_ultimate, equal_var=False)\n",
    "\n",
    "print('valor p: ', results.pvalue) \n",
    "\n",
    "if results.pvalue < alpha:\n",
    "    print(\"Rechazamos la hipótesis nula\")\n",
    "else:\n",
    "    print(\"No podemos rechazar la hipótesis nula\")\n"
   ]
  },
  {
   "cell_type": "markdown",
   "metadata": {
    "id": "tCcAruM60q1R"
   },
   "source": [
    "El valor p 0.5365 (utilizando random seed 1) cae en el umbral de no rechazo de la hipótesis nula. Esta probabilidad es claramente demasiado alta para concluir que existe una diferencia significativa entre los ingresos entre ambos paquetes."
   ]
  },
  {
   "cell_type": "markdown",
   "metadata": {
    "id": "LsBgitqj0q1R"
   },
   "source": [
    "\n",
    "\n",
    "\n",
    "A continuación se prueba la hipótesis de que el ingreso promedio de los usuarios del área NY-NJ es diferente al de los usuarios de otras regiones, obteniendo una muestra de 50 usuarios de cada supuesto.\n",
    "\n",
    "Para esta prueba se tiene:\n",
    "\n",
    "Hipótesis nula: el ingreso promedio de los usuarios del área NY-NJ es igual al de los usuarios de otras regiones.\n",
    "\n",
    "Hipótesis alternativa: el ingreso promedio de los usuarios del área NY-NJ es diferente al de los usuarios de otras regiones.\n",
    "\n",
    "\n",
    "Para probar esta hipótesis de que las medias de las dos regiones son iguales según las muestras tomadas de ellas, se aplicará la prueba scipy.stats.ttest_ind, asumiendo que las varianzas son iguales.\n",
    "\n",
    "\n",
    "Se establece un nivel de significancia estadística crítica de alpha = 0.05, con el fin de tener un 95% de confianza en los resultados."
   ]
  },
  {
   "cell_type": "code",
   "execution_count": 100,
   "metadata": {
    "id": "Cqcj7wrZ0q1S"
   },
   "outputs": [
    {
     "name": "stdout",
     "output_type": "stream",
     "text": [
      "valor p:  0.17022511725946646\n",
      "No podemos rechazar la hipótesis nula\n"
     ]
    }
   ],
   "source": [
    "# Obtener las muestras\n",
    "\n",
    "monthly_earnings_per_user_2 = monthly_earnings_per_user.merge(df_users, on='user_id', how='left')\n",
    "monthly_earnings_per_user_city = monthly_earnings_per_user_2[['user_id','total_earnings','plan_x','NY_NJ_area']]\n",
    "\n",
    "monthly_earnings_per_user_NY_NJ_area = monthly_earnings_per_user_city[monthly_earnings_per_user_city['NY_NJ_area']==True]\n",
    "monthly_earnings_per_user_NY_NJ_area_false = monthly_earnings_per_user_city[monthly_earnings_per_user_city['NY_NJ_area']==False]\n",
    "\n",
    "#monthly_earnings_per_user_NY_NJ_area['user_id'].count()\n",
    "#monthly_earnings_per_user_NY_NJ_area_false['user_id'].count()\n",
    "\n",
    "np.random.seed(1)\n",
    "sample_NY_NJ_area = monthly_earnings_per_user_NY_NJ_area['total_earnings'].sample(50)\n",
    "sample_not_NY_NJ_area = monthly_earnings_per_user_NY_NJ_area_false['total_earnings'].sample(50)\n",
    "\n",
    "# Prueba las hipótesis\n",
    "alpha = 0.05  \n",
    "results = st.ttest_ind(sample_NY_NJ_area, sample_not_NY_NJ_area)\n",
    "\n",
    "print('valor p: ', results.pvalue) \n",
    "\n",
    "if results.pvalue < alpha:\n",
    "    print(\"Rechazamos la hipótesis nula\")\n",
    "else:\n",
    "    print(\"No podemos rechazar la hipótesis nula\")\n"
   ]
  },
  {
   "cell_type": "markdown",
   "metadata": {
    "id": "LsBgitqj0q1R"
   },
   "source": [
    "El valor p 0.1702 cae en el umbral de no rechazo de la hipótesis nula. Esta probabilidad es lo suficientemente alta para concluir que existe una diferencia significativa entre los ingresos para las diferentes zonas, en otras palabras, no hay diferencia entre los ingresos provenientes de un área a otra.\n"
   ]
  },
  {
   "cell_type": "markdown",
   "metadata": {
    "id": "bbTR8UQO0q1T"
   },
   "source": [
    "## Conclusión general\n",
    "\n",
    "1. Se manejaron los datos de los mensajes, llamadas, y GB de acuerdo a la condición de las tarifas; las llamadas se redondearon al minuto mayor más próximo y los MB se convirtieron a GB al momento del análisis. Se tomó en cuenta el total de GB incluidos en el paquete y el total utilizados por usuario al mes, tanto en la condición de la tarifa como en la tabla de uso de internet. \n",
    "\n",
    "2. Se extrajo el número de mes para cada dataframe con la información del uso de llamadas, mensajes e internet para analizarlo por número de mes. Como el análisis es de el año 2018 únicamente, no hay riesgo de tomar en cuenta números de meses repetidos. \n",
    "\n",
    "3. Se observó y analizó el comportamiento de los diferentes usuarios por mes (varias ocurrencias de los diferentes ids) por servicio, y no como una única ocurrencia de usuario (anual), para obtener el promedio real del uso mensual de cada servicio. Esto también debido a que hay usuarios que presentaron uso de un cierto servicio únicamente y cero actividad de otro servicio en un mismo mes. \n",
    "\n",
    "4. Se calculó el ingreso extra para cada usuario tomando en cuenta el plan contratado de cada uno y añadiendo una tarifa extra por cada servicio que hayan excedido en uso, si no hubo exceso de uso, el ingreso para ese usuario en ese mes sería la tarifa base de su contrato. Se puede analizar de dos maneras: comportamiento mensual y comportamiento total (anual). \n",
    "\n",
    "5. El comportamiento mensual resultó más útil para estudiar el comportamiento de usuario en el apartado 1.12\n",
    "\n",
    "6. En general, el comportamiento de los usuarios respecto a los 3 servicios, no varía según el tipo de plan que tienen contratado. \n",
    "\n",
    "7. La prueba estadística elegida para las dos hipótesis se basa en el objetivo de comparar la media de dos muestras diferentes. Debido a que hay una cantidad diferente de usuarios de plan Surf y de plan Ultimate, se seleccionaron muestras de 50 clientes de cada plan, con el fin de estandarizar la prueba. \n",
    "\n",
    "8. Se añadió un random_seed(1) a las muestras aleatorias, sin embargo en la ejecución de la prueba se omitió este paso a manera de ensayo y todos los intentos arrojaban la misma conclusión con respecto al valor p contra alpha: el valor p resultaba siempre mayor.\n",
    "\n",
    "9. Se concluye finalmente que NO se rechaza la hipótesis de que los ingresos promedio de los dos planes son iguales, y tampoco se rechaza la hipótesis de que los ingresos promedio entre las áreas investigadas son iguales.\n",
    "\n"
   ]
  }
 ],
 "metadata": {
  "ExecuteTimeLog": [
   {
    "duration": 828,
    "start_time": "2021-11-16T09:21:11.304Z"
   },
   {
    "duration": 893,
    "start_time": "2021-11-16T09:21:17.728Z"
   },
   {
    "duration": 1150,
    "start_time": "2021-11-16T09:21:29.568Z"
   },
   {
    "duration": 3,
    "start_time": "2021-11-16T09:24:14.495Z"
   },
   {
    "duration": 120,
    "start_time": "2021-11-16T09:24:46.630Z"
   },
   {
    "duration": 3,
    "start_time": "2021-11-16T09:28:27.882Z"
   },
   {
    "duration": 4,
    "start_time": "2021-11-16T09:29:54.281Z"
   },
   {
    "duration": 3,
    "start_time": "2021-11-16T09:30:45.936Z"
   },
   {
    "duration": 4,
    "start_time": "2021-11-16T09:31:06.300Z"
   },
   {
    "duration": 113,
    "start_time": "2021-11-16T09:31:37.208Z"
   },
   {
    "duration": 143,
    "start_time": "2021-11-16T09:31:48.656Z"
   },
   {
    "duration": 98,
    "start_time": "2021-11-16T09:31:55.678Z"
   },
   {
    "duration": 3,
    "start_time": "2021-11-16T09:32:08.535Z"
   },
   {
    "duration": 111,
    "start_time": "2021-11-16T09:32:10.120Z"
   },
   {
    "duration": 3,
    "start_time": "2021-11-16T09:32:15.732Z"
   },
   {
    "duration": 4,
    "start_time": "2021-11-16T09:32:29.423Z"
   },
   {
    "duration": 3,
    "start_time": "2021-11-16T10:03:03.074Z"
   },
   {
    "duration": 3,
    "start_time": "2021-11-16T10:10:01.288Z"
   },
   {
    "duration": 3,
    "start_time": "2021-11-16T10:10:46.923Z"
   },
   {
    "duration": 121,
    "start_time": "2021-11-16T10:37:46.494Z"
   },
   {
    "duration": 125,
    "start_time": "2021-11-16T10:38:20.632Z"
   },
   {
    "duration": 112,
    "start_time": "2021-11-16T10:46:53.001Z"
   },
   {
    "duration": 110,
    "start_time": "2021-11-16T10:48:25.775Z"
   },
   {
    "duration": 3,
    "start_time": "2021-11-16T10:50:18.720Z"
   },
   {
    "duration": 4,
    "start_time": "2021-11-16T10:50:37.649Z"
   },
   {
    "duration": 2,
    "start_time": "2021-11-16T10:50:51.884Z"
   },
   {
    "duration": 3,
    "start_time": "2021-11-16T10:51:56.237Z"
   },
   {
    "duration": 101,
    "start_time": "2021-11-16T10:53:13.791Z"
   },
   {
    "duration": 3,
    "start_time": "2021-11-16T10:55:59.186Z"
   },
   {
    "duration": 3,
    "start_time": "2021-11-16T10:56:10.751Z"
   },
   {
    "duration": 3,
    "start_time": "2021-11-16T10:56:49.038Z"
   },
   {
    "duration": 3,
    "start_time": "2021-11-16T10:56:49.174Z"
   },
   {
    "duration": 4,
    "start_time": "2021-11-16T10:56:49.414Z"
   },
   {
    "duration": 3,
    "start_time": "2021-11-16T10:56:49.680Z"
   },
   {
    "duration": 3,
    "start_time": "2021-11-16T10:56:50.370Z"
   },
   {
    "duration": 114,
    "start_time": "2021-11-16T10:59:34.518Z"
   },
   {
    "duration": 3,
    "start_time": "2021-11-16T11:01:41.201Z"
   },
   {
    "duration": 116,
    "start_time": "2021-11-16T11:01:48.754Z"
   },
   {
    "duration": 3,
    "start_time": "2021-11-16T11:02:16.685Z"
   },
   {
    "duration": 3,
    "start_time": "2021-11-16T11:02:19.479Z"
   },
   {
    "duration": 3,
    "start_time": "2021-11-16T11:02:47.067Z"
   },
   {
    "duration": 3,
    "start_time": "2021-11-16T11:02:49.353Z"
   },
   {
    "duration": 3,
    "start_time": "2021-11-16T11:03:07.835Z"
   },
   {
    "duration": 3,
    "start_time": "2021-11-16T11:03:07.953Z"
   },
   {
    "duration": 112,
    "start_time": "2021-11-16T11:07:52.072Z"
   },
   {
    "duration": 187,
    "start_time": "2021-11-16T11:09:23.468Z"
   },
   {
    "duration": 4,
    "start_time": "2021-11-16T11:10:01.455Z"
   },
   {
    "duration": 3,
    "start_time": "2021-11-16T11:10:05.069Z"
   },
   {
    "duration": 4,
    "start_time": "2021-11-16T11:10:13.376Z"
   },
   {
    "duration": 3,
    "start_time": "2021-11-16T11:10:14.434Z"
   },
   {
    "duration": 3,
    "start_time": "2021-11-16T11:10:22.853Z"
   },
   {
    "duration": 4,
    "start_time": "2021-11-16T11:27:29.279Z"
   },
   {
    "duration": 4,
    "start_time": "2021-11-16T11:29:08.919Z"
   },
   {
    "duration": 118,
    "start_time": "2021-11-16T11:29:46.703Z"
   },
   {
    "duration": 437,
    "start_time": "2021-11-16T11:36:02.181Z"
   },
   {
    "duration": 157,
    "start_time": "2021-11-16T11:36:14.388Z"
   },
   {
    "duration": 207,
    "start_time": "2021-11-16T11:47:15.898Z"
   },
   {
    "duration": 3,
    "start_time": "2021-11-16T11:53:52.092Z"
   },
   {
    "duration": 3,
    "start_time": "2021-11-16T11:53:52.236Z"
   },
   {
    "duration": 3,
    "start_time": "2021-11-16T11:59:12.005Z"
   },
   {
    "duration": 112,
    "start_time": "2021-11-16T12:00:33.446Z"
   },
   {
    "duration": 3,
    "start_time": "2021-11-16T12:02:14.453Z"
   },
   {
    "duration": 3,
    "start_time": "2021-11-16T12:02:39.512Z"
   },
   {
    "duration": 106,
    "start_time": "2021-11-16T12:03:03.460Z"
   },
   {
    "duration": 3,
    "start_time": "2021-11-17T20:37:21.139Z"
   },
   {
    "duration": 3,
    "start_time": "2021-11-17T20:37:22.229Z"
   },
   {
    "duration": 3,
    "start_time": "2021-11-17T20:38:38.806Z"
   },
   {
    "duration": 3,
    "start_time": "2021-11-17T20:38:41.958Z"
   },
   {
    "duration": 3,
    "start_time": "2021-11-17T20:43:46.551Z"
   },
   {
    "duration": 4,
    "start_time": "2021-11-17T20:58:21.835Z"
   },
   {
    "duration": 3,
    "start_time": "2021-11-17T20:59:21.872Z"
   },
   {
    "duration": 4,
    "start_time": "2021-11-17T20:59:45.352Z"
   },
   {
    "duration": 4,
    "start_time": "2021-11-17T20:59:49.646Z"
   },
   {
    "duration": 159,
    "start_time": "2021-11-17T21:02:26.949Z"
   },
   {
    "duration": 3,
    "start_time": "2021-11-17T21:03:53.461Z"
   },
   {
    "duration": 3,
    "start_time": "2021-11-17T21:03:53.694Z"
   },
   {
    "duration": 3,
    "start_time": "2021-11-17T21:05:28.145Z"
   },
   {
    "duration": 116,
    "start_time": "2021-11-17T21:05:57.787Z"
   },
   {
    "duration": 3,
    "start_time": "2021-11-17T21:06:37.993Z"
   },
   {
    "duration": 3,
    "start_time": "2021-11-17T21:06:38.261Z"
   },
   {
    "duration": 3,
    "start_time": "2021-11-17T21:11:54.358Z"
   },
   {
    "duration": 3,
    "start_time": "2021-11-17T21:12:43.846Z"
   },
   {
    "duration": 4,
    "start_time": "2021-11-17T21:13:08.773Z"
   },
   {
    "duration": 3,
    "start_time": "2021-11-17T21:14:44.441Z"
   },
   {
    "duration": 3,
    "start_time": "2021-11-17T21:15:42.059Z"
   },
   {
    "duration": 4,
    "start_time": "2021-11-17T21:15:51.995Z"
   },
   {
    "duration": 3,
    "start_time": "2021-11-17T21:15:53.923Z"
   },
   {
    "duration": 3,
    "start_time": "2021-11-17T21:15:55.282Z"
   },
   {
    "duration": 3,
    "start_time": "2021-11-17T21:16:28.492Z"
   },
   {
    "duration": 3,
    "start_time": "2021-11-17T21:16:32.603Z"
   },
   {
    "duration": 3,
    "start_time": "2021-11-17T21:17:06.941Z"
   },
   {
    "duration": 98,
    "start_time": "2021-11-17T21:18:05.733Z"
   },
   {
    "duration": 4,
    "start_time": "2021-11-17T21:21:35.255Z"
   },
   {
    "duration": 3,
    "start_time": "2021-11-17T21:21:37.804Z"
   },
   {
    "duration": 4,
    "start_time": "2021-11-17T21:23:06.071Z"
   },
   {
    "duration": 3,
    "start_time": "2021-11-17T21:23:24.799Z"
   },
   {
    "duration": 3,
    "start_time": "2021-11-17T21:23:32.591Z"
   },
   {
    "duration": 98,
    "start_time": "2021-11-17T21:28:31.559Z"
   },
   {
    "duration": 3,
    "start_time": "2021-11-17T21:28:45.448Z"
   },
   {
    "duration": 3,
    "start_time": "2021-11-17T21:29:17.303Z"
   },
   {
    "duration": 3,
    "start_time": "2021-11-17T21:29:29.617Z"
   },
   {
    "duration": 3,
    "start_time": "2021-11-17T21:29:32.681Z"
   },
   {
    "duration": 3,
    "start_time": "2021-11-17T21:36:11.474Z"
   },
   {
    "duration": 3,
    "start_time": "2021-11-17T21:36:14.791Z"
   },
   {
    "duration": 3,
    "start_time": "2021-11-17T21:36:53.943Z"
   },
   {
    "duration": 3,
    "start_time": "2021-11-17T21:36:56.165Z"
   },
   {
    "duration": 4,
    "start_time": "2021-11-17T21:37:16.590Z"
   },
   {
    "duration": 3,
    "start_time": "2021-11-17T21:37:22.702Z"
   },
   {
    "duration": 4,
    "start_time": "2021-11-17T21:38:03.479Z"
   },
   {
    "duration": 3,
    "start_time": "2021-11-17T21:38:08.601Z"
   },
   {
    "duration": 3,
    "start_time": "2021-11-17T21:38:12.928Z"
   },
   {
    "duration": 3,
    "start_time": "2021-11-17T21:38:48.896Z"
   },
   {
    "duration": 2,
    "start_time": "2021-11-17T21:38:49.171Z"
   },
   {
    "duration": 4,
    "start_time": "2021-11-17T21:39:57.889Z"
   },
   {
    "duration": 3,
    "start_time": "2021-11-17T21:39:58.057Z"
   },
   {
    "duration": 3,
    "start_time": "2021-11-17T21:41:20.108Z"
   },
   {
    "duration": 3,
    "start_time": "2021-11-17T21:41:20.629Z"
   },
   {
    "duration": 3,
    "start_time": "2021-11-17T21:42:49.136Z"
   },
   {
    "duration": 3,
    "start_time": "2021-11-17T21:43:15.137Z"
   },
   {
    "duration": 4,
    "start_time": "2021-11-17T21:43:16.766Z"
   },
   {
    "duration": 4,
    "start_time": "2021-11-17T21:43:31.711Z"
   },
   {
    "duration": 3,
    "start_time": "2021-11-17T21:43:36.312Z"
   },
   {
    "duration": 4,
    "start_time": "2021-11-17T21:45:08.825Z"
   },
   {
    "duration": 4,
    "start_time": "2021-11-17T21:45:10.119Z"
   },
   {
    "duration": 4,
    "start_time": "2021-11-17T21:45:13.748Z"
   },
   {
    "duration": 3,
    "start_time": "2021-11-17T21:45:22.219Z"
   },
   {
    "duration": 3,
    "start_time": "2021-11-17T21:45:33.412Z"
   },
   {
    "duration": 2,
    "start_time": "2021-11-17T21:46:01.885Z"
   },
   {
    "duration": 3,
    "start_time": "2021-11-17T21:46:03.628Z"
   },
   {
    "duration": 107,
    "start_time": "2021-11-17T21:47:32.512Z"
   },
   {
    "duration": 103,
    "start_time": "2021-11-17T21:50:36.243Z"
   },
   {
    "duration": 3,
    "start_time": "2021-11-18T06:28:31.440Z"
   },
   {
    "duration": 3,
    "start_time": "2021-11-18T06:29:00.168Z"
   },
   {
    "duration": 3,
    "start_time": "2021-11-18T06:31:27.008Z"
   },
   {
    "duration": 2,
    "start_time": "2021-11-18T06:35:34.288Z"
   },
   {
    "duration": 2,
    "start_time": "2021-11-18T06:38:04.527Z"
   },
   {
    "duration": 8,
    "start_time": "2024-09-25T23:33:06.700Z"
   },
   {
    "duration": 560,
    "start_time": "2024-09-25T23:46:01.051Z"
   },
   {
    "duration": 275,
    "start_time": "2024-09-25T23:46:06.239Z"
   },
   {
    "duration": 9,
    "start_time": "2024-09-25T23:49:52.898Z"
   },
   {
    "duration": 243,
    "start_time": "2024-09-25T23:50:28.067Z"
   },
   {
    "duration": 12,
    "start_time": "2024-09-25T23:50:36.212Z"
   },
   {
    "duration": 11,
    "start_time": "2024-09-25T23:50:47.682Z"
   },
   {
    "duration": 11,
    "start_time": "2024-09-25T23:50:54.340Z"
   },
   {
    "duration": 11,
    "start_time": "2024-09-25T23:51:04.882Z"
   },
   {
    "duration": 10,
    "start_time": "2024-09-25T23:51:09.674Z"
   },
   {
    "duration": 8,
    "start_time": "2024-09-25T23:51:50.302Z"
   },
   {
    "duration": 5,
    "start_time": "2024-09-25T23:51:53.681Z"
   },
   {
    "duration": 11,
    "start_time": "2024-09-26T00:05:53.590Z"
   },
   {
    "duration": 14,
    "start_time": "2024-09-26T00:06:41.639Z"
   },
   {
    "duration": 15,
    "start_time": "2024-09-26T00:07:00.412Z"
   },
   {
    "duration": 589,
    "start_time": "2024-09-26T00:08:14.723Z"
   },
   {
    "duration": 168,
    "start_time": "2024-09-26T00:08:15.315Z"
   },
   {
    "duration": 10,
    "start_time": "2024-09-26T00:08:15.485Z"
   },
   {
    "duration": 6,
    "start_time": "2024-09-26T00:08:15.498Z"
   },
   {
    "duration": 259,
    "start_time": "2024-09-26T00:08:15.505Z"
   },
   {
    "duration": 0,
    "start_time": "2024-09-26T00:08:15.771Z"
   },
   {
    "duration": 0,
    "start_time": "2024-09-26T00:08:15.772Z"
   },
   {
    "duration": 0,
    "start_time": "2024-09-26T00:08:15.774Z"
   },
   {
    "duration": 0,
    "start_time": "2024-09-26T00:08:15.776Z"
   },
   {
    "duration": 0,
    "start_time": "2024-09-26T00:08:15.777Z"
   },
   {
    "duration": 0,
    "start_time": "2024-09-26T00:08:15.778Z"
   },
   {
    "duration": 0,
    "start_time": "2024-09-26T00:08:15.780Z"
   },
   {
    "duration": 0,
    "start_time": "2024-09-26T00:08:15.781Z"
   },
   {
    "duration": 0,
    "start_time": "2024-09-26T00:08:15.783Z"
   },
   {
    "duration": 0,
    "start_time": "2024-09-26T00:08:15.784Z"
   },
   {
    "duration": 0,
    "start_time": "2024-09-26T00:08:15.785Z"
   },
   {
    "duration": 0,
    "start_time": "2024-09-26T00:08:15.786Z"
   },
   {
    "duration": 0,
    "start_time": "2024-09-26T00:08:15.787Z"
   },
   {
    "duration": 0,
    "start_time": "2024-09-26T00:08:15.789Z"
   },
   {
    "duration": 0,
    "start_time": "2024-09-26T00:08:15.790Z"
   },
   {
    "duration": 0,
    "start_time": "2024-09-26T00:08:15.791Z"
   },
   {
    "duration": 0,
    "start_time": "2024-09-26T00:08:15.793Z"
   },
   {
    "duration": 0,
    "start_time": "2024-09-26T00:08:15.793Z"
   },
   {
    "duration": 0,
    "start_time": "2024-09-26T00:08:15.795Z"
   },
   {
    "duration": 0,
    "start_time": "2024-09-26T00:08:15.797Z"
   },
   {
    "duration": 0,
    "start_time": "2024-09-26T00:08:15.798Z"
   },
   {
    "duration": 0,
    "start_time": "2024-09-26T00:08:15.799Z"
   },
   {
    "duration": 0,
    "start_time": "2024-09-26T00:08:15.800Z"
   },
   {
    "duration": 0,
    "start_time": "2024-09-26T00:08:15.801Z"
   },
   {
    "duration": 83,
    "start_time": "2024-09-26T00:08:22.961Z"
   },
   {
    "duration": 17,
    "start_time": "2024-09-26T00:10:38.621Z"
   },
   {
    "duration": 6,
    "start_time": "2024-09-26T00:10:55.567Z"
   },
   {
    "duration": 8,
    "start_time": "2024-09-26T00:11:59.027Z"
   },
   {
    "duration": 13,
    "start_time": "2024-09-26T00:12:39.683Z"
   },
   {
    "duration": 12,
    "start_time": "2024-09-26T00:12:44.063Z"
   },
   {
    "duration": 6,
    "start_time": "2024-09-26T00:13:07.204Z"
   },
   {
    "duration": 5,
    "start_time": "2024-09-26T00:13:14.806Z"
   },
   {
    "duration": 6,
    "start_time": "2024-09-26T00:13:20.921Z"
   },
   {
    "duration": 5,
    "start_time": "2024-09-26T00:14:09.309Z"
   },
   {
    "duration": 160,
    "start_time": "2024-09-26T00:47:23.429Z"
   },
   {
    "duration": 589,
    "start_time": "2024-09-26T00:47:35.979Z"
   },
   {
    "duration": 255,
    "start_time": "2024-09-26T00:47:36.570Z"
   },
   {
    "duration": 10,
    "start_time": "2024-09-26T00:47:36.826Z"
   },
   {
    "duration": 6,
    "start_time": "2024-09-26T00:47:36.838Z"
   },
   {
    "duration": 6,
    "start_time": "2024-09-26T00:47:36.847Z"
   },
   {
    "duration": 7,
    "start_time": "2024-09-26T00:47:36.855Z"
   },
   {
    "duration": 5,
    "start_time": "2024-09-26T00:47:36.865Z"
   },
   {
    "duration": 266,
    "start_time": "2024-09-26T00:47:36.872Z"
   },
   {
    "duration": 0,
    "start_time": "2024-09-26T00:47:37.141Z"
   },
   {
    "duration": 0,
    "start_time": "2024-09-26T00:47:37.142Z"
   },
   {
    "duration": 0,
    "start_time": "2024-09-26T00:47:37.143Z"
   },
   {
    "duration": 0,
    "start_time": "2024-09-26T00:47:37.145Z"
   },
   {
    "duration": 0,
    "start_time": "2024-09-26T00:47:37.145Z"
   },
   {
    "duration": 0,
    "start_time": "2024-09-26T00:47:37.147Z"
   },
   {
    "duration": 0,
    "start_time": "2024-09-26T00:47:37.148Z"
   },
   {
    "duration": 0,
    "start_time": "2024-09-26T00:47:37.149Z"
   },
   {
    "duration": 0,
    "start_time": "2024-09-26T00:47:37.151Z"
   },
   {
    "duration": 0,
    "start_time": "2024-09-26T00:47:37.152Z"
   },
   {
    "duration": 0,
    "start_time": "2024-09-26T00:47:37.153Z"
   },
   {
    "duration": 0,
    "start_time": "2024-09-26T00:47:37.155Z"
   },
   {
    "duration": 0,
    "start_time": "2024-09-26T00:47:37.156Z"
   },
   {
    "duration": 0,
    "start_time": "2024-09-26T00:47:37.158Z"
   },
   {
    "duration": 0,
    "start_time": "2024-09-26T00:47:37.159Z"
   },
   {
    "duration": 0,
    "start_time": "2024-09-26T00:47:37.161Z"
   },
   {
    "duration": 0,
    "start_time": "2024-09-26T00:47:37.162Z"
   },
   {
    "duration": 0,
    "start_time": "2024-09-26T00:47:37.163Z"
   },
   {
    "duration": 0,
    "start_time": "2024-09-26T00:47:37.165Z"
   },
   {
    "duration": 0,
    "start_time": "2024-09-26T00:47:37.166Z"
   },
   {
    "duration": 0,
    "start_time": "2024-09-26T00:47:37.167Z"
   },
   {
    "duration": 0,
    "start_time": "2024-09-26T00:47:37.168Z"
   },
   {
    "duration": 3,
    "start_time": "2024-09-26T00:47:51.614Z"
   },
   {
    "duration": 14,
    "start_time": "2024-09-26T00:48:04.935Z"
   },
   {
    "duration": 16,
    "start_time": "2024-09-26T00:48:22.716Z"
   },
   {
    "duration": 4,
    "start_time": "2024-09-26T00:49:42.386Z"
   },
   {
    "duration": 10,
    "start_time": "2024-09-26T00:56:49.512Z"
   },
   {
    "duration": 12,
    "start_time": "2024-09-26T00:57:02.762Z"
   },
   {
    "duration": 9,
    "start_time": "2024-09-26T00:57:08.821Z"
   },
   {
    "duration": 9,
    "start_time": "2024-09-26T00:58:07.513Z"
   },
   {
    "duration": 9,
    "start_time": "2024-09-26T00:58:16.413Z"
   },
   {
    "duration": 22,
    "start_time": "2024-09-26T01:04:49.123Z"
   },
   {
    "duration": 6,
    "start_time": "2024-09-26T01:12:12.522Z"
   },
   {
    "duration": 15,
    "start_time": "2024-09-26T01:17:30.737Z"
   },
   {
    "duration": 3,
    "start_time": "2024-09-26T01:21:40.101Z"
   },
   {
    "duration": 9,
    "start_time": "2024-09-26T01:21:44.294Z"
   },
   {
    "duration": 592,
    "start_time": "2024-09-26T01:21:56.174Z"
   },
   {
    "duration": 158,
    "start_time": "2024-09-26T01:21:56.768Z"
   },
   {
    "duration": 11,
    "start_time": "2024-09-26T01:21:56.927Z"
   },
   {
    "duration": 6,
    "start_time": "2024-09-26T01:21:56.940Z"
   },
   {
    "duration": 6,
    "start_time": "2024-09-26T01:21:56.948Z"
   },
   {
    "duration": 8,
    "start_time": "2024-09-26T01:21:56.956Z"
   },
   {
    "duration": 5,
    "start_time": "2024-09-26T01:21:56.966Z"
   },
   {
    "duration": 3,
    "start_time": "2024-09-26T01:21:56.974Z"
   },
   {
    "duration": 9,
    "start_time": "2024-09-26T01:21:56.979Z"
   },
   {
    "duration": 44,
    "start_time": "2024-09-26T01:21:56.991Z"
   },
   {
    "duration": 14,
    "start_time": "2024-09-26T01:21:57.037Z"
   },
   {
    "duration": 2,
    "start_time": "2024-09-26T01:21:57.053Z"
   },
   {
    "duration": 3,
    "start_time": "2024-09-26T01:21:57.056Z"
   },
   {
    "duration": 2,
    "start_time": "2024-09-26T01:21:57.061Z"
   },
   {
    "duration": 3,
    "start_time": "2024-09-26T01:21:57.065Z"
   },
   {
    "duration": 3,
    "start_time": "2024-09-26T01:21:57.069Z"
   },
   {
    "duration": 3,
    "start_time": "2024-09-26T01:21:57.074Z"
   },
   {
    "duration": 2,
    "start_time": "2024-09-26T01:21:57.079Z"
   },
   {
    "duration": 3,
    "start_time": "2024-09-26T01:21:57.082Z"
   },
   {
    "duration": 45,
    "start_time": "2024-09-26T01:21:57.086Z"
   },
   {
    "duration": 2,
    "start_time": "2024-09-26T01:21:57.133Z"
   },
   {
    "duration": 2,
    "start_time": "2024-09-26T01:21:57.137Z"
   },
   {
    "duration": 2,
    "start_time": "2024-09-26T01:21:57.141Z"
   },
   {
    "duration": 2,
    "start_time": "2024-09-26T01:21:57.145Z"
   },
   {
    "duration": 2,
    "start_time": "2024-09-26T01:21:57.149Z"
   },
   {
    "duration": 2,
    "start_time": "2024-09-26T01:21:57.153Z"
   },
   {
    "duration": 3,
    "start_time": "2024-09-26T01:21:57.156Z"
   },
   {
    "duration": 2,
    "start_time": "2024-09-26T01:21:57.163Z"
   },
   {
    "duration": 2,
    "start_time": "2024-09-26T01:21:57.166Z"
   },
   {
    "duration": 3,
    "start_time": "2024-09-26T01:21:57.170Z"
   },
   {
    "duration": 3,
    "start_time": "2024-09-26T01:21:57.174Z"
   },
   {
    "duration": 2,
    "start_time": "2024-09-26T01:21:57.179Z"
   },
   {
    "duration": 4,
    "start_time": "2024-09-26T01:22:39.498Z"
   },
   {
    "duration": 4,
    "start_time": "2024-09-26T01:23:03.206Z"
   },
   {
    "duration": 4,
    "start_time": "2024-09-26T01:23:08.899Z"
   },
   {
    "duration": 37,
    "start_time": "2024-09-26T01:35:56.106Z"
   },
   {
    "duration": 25,
    "start_time": "2024-09-26T01:36:21.548Z"
   },
   {
    "duration": 53,
    "start_time": "2024-09-26T01:36:36.489Z"
   },
   {
    "duration": 12,
    "start_time": "2024-09-26T01:38:42.791Z"
   },
   {
    "duration": 2479,
    "start_time": "2024-09-26T03:47:58.834Z"
   },
   {
    "duration": 261,
    "start_time": "2024-09-26T03:48:01.315Z"
   },
   {
    "duration": 9,
    "start_time": "2024-09-26T03:48:01.578Z"
   },
   {
    "duration": 6,
    "start_time": "2024-09-26T03:48:01.589Z"
   },
   {
    "duration": 6,
    "start_time": "2024-09-26T03:48:01.597Z"
   },
   {
    "duration": 8,
    "start_time": "2024-09-26T03:48:01.604Z"
   },
   {
    "duration": 6,
    "start_time": "2024-09-26T03:48:01.614Z"
   },
   {
    "duration": 4,
    "start_time": "2024-09-26T03:48:01.621Z"
   },
   {
    "duration": 8,
    "start_time": "2024-09-26T03:48:01.627Z"
   },
   {
    "duration": 5,
    "start_time": "2024-09-26T03:48:01.637Z"
   },
   {
    "duration": 58,
    "start_time": "2024-09-26T03:48:01.644Z"
   },
   {
    "duration": 5,
    "start_time": "2024-09-26T03:48:01.703Z"
   },
   {
    "duration": 35,
    "start_time": "2024-09-26T03:48:01.710Z"
   },
   {
    "duration": 39,
    "start_time": "2024-09-26T03:48:01.749Z"
   },
   {
    "duration": 2,
    "start_time": "2024-09-26T03:48:01.790Z"
   },
   {
    "duration": 2,
    "start_time": "2024-09-26T03:48:01.794Z"
   },
   {
    "duration": 3,
    "start_time": "2024-09-26T03:48:01.797Z"
   },
   {
    "duration": 3,
    "start_time": "2024-09-26T03:48:01.801Z"
   },
   {
    "duration": 3,
    "start_time": "2024-09-26T03:48:01.805Z"
   },
   {
    "duration": 3,
    "start_time": "2024-09-26T03:48:01.809Z"
   },
   {
    "duration": 2,
    "start_time": "2024-09-26T03:48:01.814Z"
   },
   {
    "duration": 2,
    "start_time": "2024-09-26T03:48:01.818Z"
   },
   {
    "duration": 2,
    "start_time": "2024-09-26T03:48:01.822Z"
   },
   {
    "duration": 3,
    "start_time": "2024-09-26T03:48:01.825Z"
   },
   {
    "duration": 2,
    "start_time": "2024-09-26T03:48:01.830Z"
   },
   {
    "duration": 2,
    "start_time": "2024-09-26T03:48:01.834Z"
   },
   {
    "duration": 2,
    "start_time": "2024-09-26T03:48:01.887Z"
   },
   {
    "duration": 2,
    "start_time": "2024-09-26T03:48:01.891Z"
   },
   {
    "duration": 2,
    "start_time": "2024-09-26T03:48:01.895Z"
   },
   {
    "duration": 2,
    "start_time": "2024-09-26T03:48:01.899Z"
   },
   {
    "duration": 2,
    "start_time": "2024-09-26T03:48:01.902Z"
   },
   {
    "duration": 2,
    "start_time": "2024-09-26T03:48:01.906Z"
   },
   {
    "duration": 3,
    "start_time": "2024-09-26T03:48:01.910Z"
   },
   {
    "duration": 2,
    "start_time": "2024-09-26T03:48:01.914Z"
   },
   {
    "duration": 13,
    "start_time": "2024-09-26T03:48:44.530Z"
   },
   {
    "duration": 5,
    "start_time": "2024-09-26T03:49:14.335Z"
   },
   {
    "duration": 23,
    "start_time": "2024-09-26T03:53:50.160Z"
   },
   {
    "duration": 8,
    "start_time": "2024-09-26T03:55:11.574Z"
   },
   {
    "duration": 14,
    "start_time": "2024-09-26T03:56:09.773Z"
   },
   {
    "duration": 5,
    "start_time": "2024-09-26T03:56:48.106Z"
   },
   {
    "duration": 27,
    "start_time": "2024-09-26T04:00:41.199Z"
   },
   {
    "duration": 9,
    "start_time": "2024-09-26T04:02:12.717Z"
   },
   {
    "duration": 6,
    "start_time": "2024-09-26T04:05:05.640Z"
   },
   {
    "duration": 11,
    "start_time": "2024-09-26T04:10:08.647Z"
   },
   {
    "duration": 6,
    "start_time": "2024-09-26T04:13:18.830Z"
   },
   {
    "duration": 7,
    "start_time": "2024-09-26T04:15:33.503Z"
   },
   {
    "duration": 7,
    "start_time": "2024-09-26T04:16:20.728Z"
   },
   {
    "duration": 6,
    "start_time": "2024-09-26T04:16:46.879Z"
   },
   {
    "duration": 711,
    "start_time": "2024-09-26T04:16:58.474Z"
   },
   {
    "duration": 159,
    "start_time": "2024-09-26T04:16:59.187Z"
   },
   {
    "duration": 10,
    "start_time": "2024-09-26T04:16:59.348Z"
   },
   {
    "duration": 6,
    "start_time": "2024-09-26T04:16:59.361Z"
   },
   {
    "duration": 19,
    "start_time": "2024-09-26T04:16:59.369Z"
   },
   {
    "duration": 9,
    "start_time": "2024-09-26T04:16:59.389Z"
   },
   {
    "duration": 5,
    "start_time": "2024-09-26T04:16:59.400Z"
   },
   {
    "duration": 3,
    "start_time": "2024-09-26T04:16:59.407Z"
   },
   {
    "duration": 8,
    "start_time": "2024-09-26T04:16:59.412Z"
   },
   {
    "duration": 7,
    "start_time": "2024-09-26T04:16:59.423Z"
   },
   {
    "duration": 15,
    "start_time": "2024-09-26T04:16:59.431Z"
   },
   {
    "duration": 40,
    "start_time": "2024-09-26T04:16:59.447Z"
   },
   {
    "duration": 21,
    "start_time": "2024-09-26T04:16:59.489Z"
   },
   {
    "duration": 7,
    "start_time": "2024-09-26T04:16:59.511Z"
   },
   {
    "duration": 10,
    "start_time": "2024-09-26T04:16:59.520Z"
   },
   {
    "duration": 11,
    "start_time": "2024-09-26T04:16:59.532Z"
   },
   {
    "duration": 4,
    "start_time": "2024-09-26T04:16:59.545Z"
   },
   {
    "duration": 53,
    "start_time": "2024-09-26T04:16:59.551Z"
   },
   {
    "duration": 7,
    "start_time": "2024-09-26T04:16:59.606Z"
   },
   {
    "duration": 14,
    "start_time": "2024-09-26T04:16:59.614Z"
   },
   {
    "duration": 4,
    "start_time": "2024-09-26T04:16:59.629Z"
   },
   {
    "duration": 55,
    "start_time": "2024-09-26T04:16:59.635Z"
   },
   {
    "duration": 9,
    "start_time": "2024-09-26T04:16:59.692Z"
   },
   {
    "duration": 5,
    "start_time": "2024-09-26T04:16:59.702Z"
   },
   {
    "duration": 2,
    "start_time": "2024-09-26T04:16:59.708Z"
   },
   {
    "duration": 2,
    "start_time": "2024-09-26T04:16:59.712Z"
   },
   {
    "duration": 3,
    "start_time": "2024-09-26T04:16:59.716Z"
   },
   {
    "duration": 2,
    "start_time": "2024-09-26T04:16:59.723Z"
   },
   {
    "duration": 2,
    "start_time": "2024-09-26T04:16:59.726Z"
   },
   {
    "duration": 2,
    "start_time": "2024-09-26T04:16:59.730Z"
   },
   {
    "duration": 2,
    "start_time": "2024-09-26T04:16:59.734Z"
   },
   {
    "duration": 2,
    "start_time": "2024-09-26T04:16:59.738Z"
   },
   {
    "duration": 3,
    "start_time": "2024-09-26T04:16:59.787Z"
   },
   {
    "duration": 2,
    "start_time": "2024-09-26T04:16:59.792Z"
   },
   {
    "duration": 2,
    "start_time": "2024-09-26T04:16:59.796Z"
   },
   {
    "duration": 2,
    "start_time": "2024-09-26T04:16:59.800Z"
   },
   {
    "duration": 3,
    "start_time": "2024-09-26T04:16:59.803Z"
   },
   {
    "duration": 3,
    "start_time": "2024-09-26T04:16:59.807Z"
   },
   {
    "duration": 3,
    "start_time": "2024-09-26T04:16:59.811Z"
   },
   {
    "duration": 7,
    "start_time": "2024-09-26T04:17:13.871Z"
   },
   {
    "duration": 799,
    "start_time": "2024-09-26T04:17:24.882Z"
   },
   {
    "duration": 159,
    "start_time": "2024-09-26T04:17:25.683Z"
   },
   {
    "duration": 9,
    "start_time": "2024-09-26T04:17:25.844Z"
   },
   {
    "duration": 6,
    "start_time": "2024-09-26T04:17:25.856Z"
   },
   {
    "duration": 22,
    "start_time": "2024-09-26T04:17:25.864Z"
   },
   {
    "duration": 7,
    "start_time": "2024-09-26T04:17:25.888Z"
   },
   {
    "duration": 5,
    "start_time": "2024-09-26T04:17:25.897Z"
   },
   {
    "duration": 3,
    "start_time": "2024-09-26T04:17:25.903Z"
   },
   {
    "duration": 8,
    "start_time": "2024-09-26T04:17:25.908Z"
   },
   {
    "duration": 6,
    "start_time": "2024-09-26T04:17:25.920Z"
   },
   {
    "duration": 16,
    "start_time": "2024-09-26T04:17:25.927Z"
   },
   {
    "duration": 43,
    "start_time": "2024-09-26T04:17:25.944Z"
   },
   {
    "duration": 21,
    "start_time": "2024-09-26T04:17:25.989Z"
   },
   {
    "duration": 7,
    "start_time": "2024-09-26T04:17:26.011Z"
   },
   {
    "duration": 10,
    "start_time": "2024-09-26T04:17:26.019Z"
   },
   {
    "duration": 13,
    "start_time": "2024-09-26T04:17:26.030Z"
   },
   {
    "duration": 5,
    "start_time": "2024-09-26T04:17:26.044Z"
   },
   {
    "duration": 22,
    "start_time": "2024-09-26T04:17:26.086Z"
   },
   {
    "duration": 7,
    "start_time": "2024-09-26T04:17:26.110Z"
   },
   {
    "duration": 14,
    "start_time": "2024-09-26T04:17:26.119Z"
   },
   {
    "duration": 5,
    "start_time": "2024-09-26T04:17:26.134Z"
   },
   {
    "duration": 53,
    "start_time": "2024-09-26T04:17:26.141Z"
   },
   {
    "duration": 9,
    "start_time": "2024-09-26T04:17:26.196Z"
   },
   {
    "duration": 5,
    "start_time": "2024-09-26T04:17:26.207Z"
   },
   {
    "duration": 3,
    "start_time": "2024-09-26T04:17:26.214Z"
   },
   {
    "duration": 2,
    "start_time": "2024-09-26T04:17:26.219Z"
   },
   {
    "duration": 3,
    "start_time": "2024-09-26T04:17:26.222Z"
   },
   {
    "duration": 2,
    "start_time": "2024-09-26T04:17:26.229Z"
   },
   {
    "duration": 2,
    "start_time": "2024-09-26T04:17:26.233Z"
   },
   {
    "duration": 5,
    "start_time": "2024-09-26T04:17:26.237Z"
   },
   {
    "duration": 3,
    "start_time": "2024-09-26T04:17:26.286Z"
   },
   {
    "duration": 3,
    "start_time": "2024-09-26T04:17:26.290Z"
   },
   {
    "duration": 3,
    "start_time": "2024-09-26T04:17:26.294Z"
   },
   {
    "duration": 2,
    "start_time": "2024-09-26T04:17:26.298Z"
   },
   {
    "duration": 2,
    "start_time": "2024-09-26T04:17:26.302Z"
   },
   {
    "duration": 2,
    "start_time": "2024-09-26T04:17:26.306Z"
   },
   {
    "duration": 2,
    "start_time": "2024-09-26T04:17:26.310Z"
   },
   {
    "duration": 2,
    "start_time": "2024-09-26T04:17:26.314Z"
   },
   {
    "duration": 2,
    "start_time": "2024-09-26T04:17:26.318Z"
   },
   {
    "duration": 6,
    "start_time": "2024-09-26T04:17:40.263Z"
   },
   {
    "duration": 17,
    "start_time": "2024-09-26T04:18:05.239Z"
   },
   {
    "duration": 724,
    "start_time": "2024-09-26T04:18:21.254Z"
   },
   {
    "duration": 166,
    "start_time": "2024-09-26T04:18:21.980Z"
   },
   {
    "duration": 10,
    "start_time": "2024-09-26T04:18:22.148Z"
   },
   {
    "duration": 5,
    "start_time": "2024-09-26T04:18:22.161Z"
   },
   {
    "duration": 19,
    "start_time": "2024-09-26T04:18:22.168Z"
   },
   {
    "duration": 8,
    "start_time": "2024-09-26T04:18:22.189Z"
   },
   {
    "duration": 5,
    "start_time": "2024-09-26T04:18:22.199Z"
   },
   {
    "duration": 3,
    "start_time": "2024-09-26T04:18:22.206Z"
   },
   {
    "duration": 8,
    "start_time": "2024-09-26T04:18:22.211Z"
   },
   {
    "duration": 6,
    "start_time": "2024-09-26T04:18:22.223Z"
   },
   {
    "duration": 16,
    "start_time": "2024-09-26T04:18:22.231Z"
   },
   {
    "duration": 6,
    "start_time": "2024-09-26T04:18:22.286Z"
   },
   {
    "duration": 20,
    "start_time": "2024-09-26T04:18:22.294Z"
   },
   {
    "duration": 18,
    "start_time": "2024-09-26T04:18:22.317Z"
   },
   {
    "duration": 9,
    "start_time": "2024-09-26T04:18:22.337Z"
   },
   {
    "duration": 13,
    "start_time": "2024-09-26T04:18:22.347Z"
   },
   {
    "duration": 5,
    "start_time": "2024-09-26T04:18:22.387Z"
   },
   {
    "duration": 22,
    "start_time": "2024-09-26T04:18:22.394Z"
   },
   {
    "duration": 7,
    "start_time": "2024-09-26T04:18:22.418Z"
   },
   {
    "duration": 14,
    "start_time": "2024-09-26T04:18:22.427Z"
   },
   {
    "duration": 5,
    "start_time": "2024-09-26T04:18:22.442Z"
   },
   {
    "duration": 58,
    "start_time": "2024-09-26T04:18:22.448Z"
   },
   {
    "duration": 9,
    "start_time": "2024-09-26T04:18:22.507Z"
   },
   {
    "duration": 4,
    "start_time": "2024-09-26T04:18:22.517Z"
   },
   {
    "duration": 2,
    "start_time": "2024-09-26T04:18:22.523Z"
   },
   {
    "duration": 2,
    "start_time": "2024-09-26T04:18:22.527Z"
   },
   {
    "duration": 2,
    "start_time": "2024-09-26T04:18:22.531Z"
   },
   {
    "duration": 2,
    "start_time": "2024-09-26T04:18:22.537Z"
   },
   {
    "duration": 2,
    "start_time": "2024-09-26T04:18:22.541Z"
   },
   {
    "duration": 41,
    "start_time": "2024-09-26T04:18:22.545Z"
   },
   {
    "duration": 3,
    "start_time": "2024-09-26T04:18:22.588Z"
   },
   {
    "duration": 2,
    "start_time": "2024-09-26T04:18:22.593Z"
   },
   {
    "duration": 3,
    "start_time": "2024-09-26T04:18:22.596Z"
   },
   {
    "duration": 3,
    "start_time": "2024-09-26T04:18:22.600Z"
   },
   {
    "duration": 3,
    "start_time": "2024-09-26T04:18:22.604Z"
   },
   {
    "duration": 2,
    "start_time": "2024-09-26T04:18:22.609Z"
   },
   {
    "duration": 2,
    "start_time": "2024-09-26T04:18:22.614Z"
   },
   {
    "duration": 3,
    "start_time": "2024-09-26T04:18:22.617Z"
   },
   {
    "duration": 2,
    "start_time": "2024-09-26T04:18:22.621Z"
   },
   {
    "duration": 15,
    "start_time": "2024-09-26T04:22:20.147Z"
   },
   {
    "duration": 18,
    "start_time": "2024-09-26T04:23:06.611Z"
   },
   {
    "duration": 16,
    "start_time": "2024-09-26T04:23:16.876Z"
   },
   {
    "duration": 15,
    "start_time": "2024-09-26T04:23:26.369Z"
   },
   {
    "duration": 15,
    "start_time": "2024-09-26T04:23:31.913Z"
   },
   {
    "duration": 16,
    "start_time": "2024-09-26T04:23:36.966Z"
   },
   {
    "duration": 15,
    "start_time": "2024-09-26T04:24:48.990Z"
   },
   {
    "duration": 130,
    "start_time": "2024-09-26T04:25:08.641Z"
   },
   {
    "duration": 18,
    "start_time": "2024-09-26T04:25:23.968Z"
   },
   {
    "duration": 13,
    "start_time": "2024-09-26T04:26:24.908Z"
   },
   {
    "duration": 722,
    "start_time": "2024-09-26T04:26:34.674Z"
   },
   {
    "duration": 156,
    "start_time": "2024-09-26T04:26:35.398Z"
   },
   {
    "duration": 9,
    "start_time": "2024-09-26T04:26:35.556Z"
   },
   {
    "duration": 18,
    "start_time": "2024-09-26T04:26:35.568Z"
   },
   {
    "duration": 7,
    "start_time": "2024-09-26T04:26:35.588Z"
   },
   {
    "duration": 8,
    "start_time": "2024-09-26T04:26:35.597Z"
   },
   {
    "duration": 5,
    "start_time": "2024-09-26T04:26:35.607Z"
   },
   {
    "duration": 3,
    "start_time": "2024-09-26T04:26:35.614Z"
   },
   {
    "duration": 10,
    "start_time": "2024-09-26T04:26:35.619Z"
   },
   {
    "duration": 6,
    "start_time": "2024-09-26T04:26:35.632Z"
   },
   {
    "duration": 53,
    "start_time": "2024-09-26T04:26:35.639Z"
   },
   {
    "duration": 5,
    "start_time": "2024-09-26T04:26:35.693Z"
   },
   {
    "duration": 21,
    "start_time": "2024-09-26T04:26:35.700Z"
   },
   {
    "duration": 18,
    "start_time": "2024-09-26T04:26:35.723Z"
   },
   {
    "duration": 11,
    "start_time": "2024-09-26T04:26:35.743Z"
   },
   {
    "duration": 40,
    "start_time": "2024-09-26T04:26:35.756Z"
   },
   {
    "duration": 4,
    "start_time": "2024-09-26T04:26:35.797Z"
   },
   {
    "duration": 22,
    "start_time": "2024-09-26T04:26:35.803Z"
   },
   {
    "duration": 9,
    "start_time": "2024-09-26T04:26:35.827Z"
   },
   {
    "duration": 13,
    "start_time": "2024-09-26T04:26:35.837Z"
   },
   {
    "duration": 37,
    "start_time": "2024-09-26T04:26:35.852Z"
   },
   {
    "duration": 27,
    "start_time": "2024-09-26T04:26:35.891Z"
   },
   {
    "duration": 10,
    "start_time": "2024-09-26T04:26:35.919Z"
   },
   {
    "duration": 5,
    "start_time": "2024-09-26T04:26:35.930Z"
   },
   {
    "duration": 151,
    "start_time": "2024-09-26T04:26:35.937Z"
   },
   {
    "duration": 0,
    "start_time": "2024-09-26T04:26:36.090Z"
   },
   {
    "duration": 0,
    "start_time": "2024-09-26T04:26:36.091Z"
   },
   {
    "duration": 0,
    "start_time": "2024-09-26T04:26:36.093Z"
   },
   {
    "duration": 0,
    "start_time": "2024-09-26T04:26:36.095Z"
   },
   {
    "duration": 0,
    "start_time": "2024-09-26T04:26:36.096Z"
   },
   {
    "duration": 0,
    "start_time": "2024-09-26T04:26:36.098Z"
   },
   {
    "duration": 0,
    "start_time": "2024-09-26T04:26:36.099Z"
   },
   {
    "duration": 0,
    "start_time": "2024-09-26T04:26:36.100Z"
   },
   {
    "duration": 0,
    "start_time": "2024-09-26T04:26:36.101Z"
   },
   {
    "duration": 0,
    "start_time": "2024-09-26T04:26:36.102Z"
   },
   {
    "duration": 0,
    "start_time": "2024-09-26T04:26:36.104Z"
   },
   {
    "duration": 0,
    "start_time": "2024-09-26T04:26:36.105Z"
   },
   {
    "duration": 0,
    "start_time": "2024-09-26T04:26:36.106Z"
   },
   {
    "duration": 0,
    "start_time": "2024-09-26T04:26:36.107Z"
   },
   {
    "duration": 27,
    "start_time": "2024-09-26T04:27:09.573Z"
   },
   {
    "duration": 782,
    "start_time": "2024-09-26T04:28:24.286Z"
   },
   {
    "duration": 164,
    "start_time": "2024-09-26T04:28:25.071Z"
   },
   {
    "duration": 9,
    "start_time": "2024-09-26T04:28:25.237Z"
   },
   {
    "duration": 6,
    "start_time": "2024-09-26T04:28:25.249Z"
   },
   {
    "duration": 7,
    "start_time": "2024-09-26T04:28:25.256Z"
   },
   {
    "duration": 24,
    "start_time": "2024-09-26T04:28:25.265Z"
   },
   {
    "duration": 5,
    "start_time": "2024-09-26T04:28:25.290Z"
   },
   {
    "duration": 3,
    "start_time": "2024-09-26T04:28:25.297Z"
   },
   {
    "duration": 8,
    "start_time": "2024-09-26T04:28:25.302Z"
   },
   {
    "duration": 6,
    "start_time": "2024-09-26T04:28:25.313Z"
   },
   {
    "duration": 15,
    "start_time": "2024-09-26T04:28:25.321Z"
   },
   {
    "duration": 4,
    "start_time": "2024-09-26T04:28:25.337Z"
   },
   {
    "duration": 63,
    "start_time": "2024-09-26T04:28:25.343Z"
   },
   {
    "duration": 18,
    "start_time": "2024-09-26T04:28:25.408Z"
   },
   {
    "duration": 12,
    "start_time": "2024-09-26T04:28:25.429Z"
   },
   {
    "duration": 13,
    "start_time": "2024-09-26T04:28:25.442Z"
   },
   {
    "duration": 4,
    "start_time": "2024-09-26T04:28:25.457Z"
   },
   {
    "duration": 20,
    "start_time": "2024-09-26T04:28:25.487Z"
   },
   {
    "duration": 8,
    "start_time": "2024-09-26T04:28:25.509Z"
   },
   {
    "duration": 14,
    "start_time": "2024-09-26T04:28:25.519Z"
   },
   {
    "duration": 5,
    "start_time": "2024-09-26T04:28:25.534Z"
   },
   {
    "duration": 59,
    "start_time": "2024-09-26T04:28:25.541Z"
   },
   {
    "duration": 10,
    "start_time": "2024-09-26T04:28:25.602Z"
   },
   {
    "duration": 4,
    "start_time": "2024-09-26T04:28:25.614Z"
   },
   {
    "duration": 176,
    "start_time": "2024-09-26T04:28:25.620Z"
   },
   {
    "duration": 0,
    "start_time": "2024-09-26T04:28:25.798Z"
   },
   {
    "duration": 0,
    "start_time": "2024-09-26T04:28:25.800Z"
   },
   {
    "duration": 0,
    "start_time": "2024-09-26T04:28:25.802Z"
   },
   {
    "duration": 0,
    "start_time": "2024-09-26T04:28:25.803Z"
   },
   {
    "duration": 0,
    "start_time": "2024-09-26T04:28:25.804Z"
   },
   {
    "duration": 0,
    "start_time": "2024-09-26T04:28:25.806Z"
   },
   {
    "duration": 0,
    "start_time": "2024-09-26T04:28:25.807Z"
   },
   {
    "duration": 0,
    "start_time": "2024-09-26T04:28:25.808Z"
   },
   {
    "duration": 0,
    "start_time": "2024-09-26T04:28:25.810Z"
   },
   {
    "duration": 0,
    "start_time": "2024-09-26T04:28:25.811Z"
   },
   {
    "duration": 0,
    "start_time": "2024-09-26T04:28:25.812Z"
   },
   {
    "duration": 0,
    "start_time": "2024-09-26T04:28:25.812Z"
   },
   {
    "duration": 0,
    "start_time": "2024-09-26T04:28:25.813Z"
   },
   {
    "duration": 0,
    "start_time": "2024-09-26T04:28:25.814Z"
   },
   {
    "duration": 19,
    "start_time": "2024-09-26T04:29:05.421Z"
   },
   {
    "duration": 18,
    "start_time": "2024-09-26T04:29:26.636Z"
   },
   {
    "duration": 19,
    "start_time": "2024-09-26T04:29:44.793Z"
   },
   {
    "duration": 5,
    "start_time": "2024-09-26T04:30:06.568Z"
   },
   {
    "duration": 18,
    "start_time": "2024-09-26T04:30:41.945Z"
   },
   {
    "duration": 119,
    "start_time": "2024-09-26T04:33:29.637Z"
   },
   {
    "duration": 21,
    "start_time": "2024-09-26T04:33:35.864Z"
   },
   {
    "duration": 7,
    "start_time": "2024-09-26T04:34:20.155Z"
   },
   {
    "duration": 14,
    "start_time": "2024-09-26T04:34:28.209Z"
   },
   {
    "duration": 3,
    "start_time": "2024-09-26T04:35:01.285Z"
   },
   {
    "duration": 14,
    "start_time": "2024-09-26T04:35:09.809Z"
   },
   {
    "duration": 24,
    "start_time": "2024-09-26T04:35:33.676Z"
   },
   {
    "duration": 21,
    "start_time": "2024-09-26T04:36:08.980Z"
   },
   {
    "duration": 20,
    "start_time": "2024-09-26T04:36:14.072Z"
   },
   {
    "duration": 28,
    "start_time": "2024-09-26T04:36:37.209Z"
   },
   {
    "duration": 45,
    "start_time": "2024-09-26T04:36:57.369Z"
   },
   {
    "duration": 24,
    "start_time": "2024-09-26T04:37:09.512Z"
   },
   {
    "duration": 25,
    "start_time": "2024-09-26T04:38:02.950Z"
   },
   {
    "duration": 32,
    "start_time": "2024-09-26T04:39:44.893Z"
   },
   {
    "duration": 886,
    "start_time": "2024-09-26T04:39:51.700Z"
   },
   {
    "duration": 180,
    "start_time": "2024-09-26T04:39:52.588Z"
   },
   {
    "duration": 9,
    "start_time": "2024-09-26T04:39:52.771Z"
   },
   {
    "duration": 7,
    "start_time": "2024-09-26T04:39:52.787Z"
   },
   {
    "duration": 8,
    "start_time": "2024-09-26T04:39:52.796Z"
   },
   {
    "duration": 11,
    "start_time": "2024-09-26T04:39:52.806Z"
   },
   {
    "duration": 6,
    "start_time": "2024-09-26T04:39:52.819Z"
   },
   {
    "duration": 4,
    "start_time": "2024-09-26T04:39:52.827Z"
   },
   {
    "duration": 13,
    "start_time": "2024-09-26T04:39:52.834Z"
   },
   {
    "duration": 39,
    "start_time": "2024-09-26T04:39:52.850Z"
   },
   {
    "duration": 21,
    "start_time": "2024-09-26T04:39:52.890Z"
   },
   {
    "duration": 5,
    "start_time": "2024-09-26T04:39:52.913Z"
   },
   {
    "duration": 26,
    "start_time": "2024-09-26T04:39:52.920Z"
   },
   {
    "duration": 50,
    "start_time": "2024-09-26T04:39:52.947Z"
   },
   {
    "duration": 12,
    "start_time": "2024-09-26T04:39:52.999Z"
   },
   {
    "duration": 14,
    "start_time": "2024-09-26T04:39:53.013Z"
   },
   {
    "duration": 5,
    "start_time": "2024-09-26T04:39:53.028Z"
   },
   {
    "duration": 52,
    "start_time": "2024-09-26T04:39:53.035Z"
   },
   {
    "duration": 9,
    "start_time": "2024-09-26T04:39:53.088Z"
   },
   {
    "duration": 19,
    "start_time": "2024-09-26T04:39:53.099Z"
   },
   {
    "duration": 5,
    "start_time": "2024-09-26T04:39:53.120Z"
   },
   {
    "duration": 61,
    "start_time": "2024-09-26T04:39:53.127Z"
   },
   {
    "duration": 16,
    "start_time": "2024-09-26T04:39:53.191Z"
   },
   {
    "duration": 7,
    "start_time": "2024-09-26T04:39:53.212Z"
   },
   {
    "duration": 28,
    "start_time": "2024-09-26T04:39:53.221Z"
   },
   {
    "duration": 4,
    "start_time": "2024-09-26T04:39:53.250Z"
   },
   {
    "duration": 2,
    "start_time": "2024-09-26T04:39:53.256Z"
   },
   {
    "duration": 2,
    "start_time": "2024-09-26T04:39:53.263Z"
   },
   {
    "duration": 3,
    "start_time": "2024-09-26T04:39:53.287Z"
   },
   {
    "duration": 2,
    "start_time": "2024-09-26T04:39:53.292Z"
   },
   {
    "duration": 2,
    "start_time": "2024-09-26T04:39:53.296Z"
   },
   {
    "duration": 2,
    "start_time": "2024-09-26T04:39:53.301Z"
   },
   {
    "duration": 2,
    "start_time": "2024-09-26T04:39:53.305Z"
   },
   {
    "duration": 2,
    "start_time": "2024-09-26T04:39:53.310Z"
   },
   {
    "duration": 2,
    "start_time": "2024-09-26T04:39:53.314Z"
   },
   {
    "duration": 3,
    "start_time": "2024-09-26T04:39:53.318Z"
   },
   {
    "duration": 2,
    "start_time": "2024-09-26T04:39:53.323Z"
   },
   {
    "duration": 2,
    "start_time": "2024-09-26T04:39:53.328Z"
   },
   {
    "duration": 3,
    "start_time": "2024-09-26T04:39:53.332Z"
   },
   {
    "duration": 24,
    "start_time": "2024-09-26T04:40:50.428Z"
   },
   {
    "duration": 20,
    "start_time": "2024-09-26T04:42:09.124Z"
   },
   {
    "duration": 17,
    "start_time": "2024-09-26T04:43:42.658Z"
   },
   {
    "duration": 20,
    "start_time": "2024-09-26T04:45:45.814Z"
   },
   {
    "duration": 17,
    "start_time": "2024-09-26T04:46:55.739Z"
   },
   {
    "duration": 2490,
    "start_time": "2024-09-26T18:26:19.022Z"
   },
   {
    "duration": 250,
    "start_time": "2024-09-26T18:26:21.514Z"
   },
   {
    "duration": 10,
    "start_time": "2024-09-26T18:26:21.765Z"
   },
   {
    "duration": 6,
    "start_time": "2024-09-26T18:26:21.778Z"
   },
   {
    "duration": 5,
    "start_time": "2024-09-26T18:26:21.787Z"
   },
   {
    "duration": 8,
    "start_time": "2024-09-26T18:26:21.794Z"
   },
   {
    "duration": 25,
    "start_time": "2024-09-26T18:26:21.803Z"
   },
   {
    "duration": 2,
    "start_time": "2024-09-26T18:26:21.830Z"
   },
   {
    "duration": 8,
    "start_time": "2024-09-26T18:26:21.834Z"
   },
   {
    "duration": 6,
    "start_time": "2024-09-26T18:26:21.846Z"
   },
   {
    "duration": 14,
    "start_time": "2024-09-26T18:26:21.853Z"
   },
   {
    "duration": 5,
    "start_time": "2024-09-26T18:26:21.868Z"
   },
   {
    "duration": 60,
    "start_time": "2024-09-26T18:26:21.874Z"
   },
   {
    "duration": 17,
    "start_time": "2024-09-26T18:26:21.936Z"
   },
   {
    "duration": 11,
    "start_time": "2024-09-26T18:26:21.955Z"
   },
   {
    "duration": 12,
    "start_time": "2024-09-26T18:26:21.967Z"
   },
   {
    "duration": 5,
    "start_time": "2024-09-26T18:26:21.981Z"
   },
   {
    "duration": 49,
    "start_time": "2024-09-26T18:26:21.988Z"
   },
   {
    "duration": 8,
    "start_time": "2024-09-26T18:26:22.039Z"
   },
   {
    "duration": 12,
    "start_time": "2024-09-26T18:26:22.049Z"
   },
   {
    "duration": 4,
    "start_time": "2024-09-26T18:26:22.063Z"
   },
   {
    "duration": 25,
    "start_time": "2024-09-26T18:26:22.068Z"
   },
   {
    "duration": 9,
    "start_time": "2024-09-26T18:26:22.125Z"
   },
   {
    "duration": 7,
    "start_time": "2024-09-26T18:26:22.135Z"
   },
   {
    "duration": 24,
    "start_time": "2024-09-26T18:26:22.143Z"
   },
   {
    "duration": 20,
    "start_time": "2024-09-26T18:26:22.169Z"
   },
   {
    "duration": 43,
    "start_time": "2024-09-26T18:26:22.191Z"
   },
   {
    "duration": 21,
    "start_time": "2024-09-26T18:26:22.238Z"
   },
   {
    "duration": 2,
    "start_time": "2024-09-26T18:26:22.261Z"
   },
   {
    "duration": 4,
    "start_time": "2024-09-26T18:26:22.265Z"
   },
   {
    "duration": 1,
    "start_time": "2024-09-26T18:26:22.271Z"
   },
   {
    "duration": 3,
    "start_time": "2024-09-26T18:26:22.274Z"
   },
   {
    "duration": 5,
    "start_time": "2024-09-26T18:26:22.278Z"
   },
   {
    "duration": 5,
    "start_time": "2024-09-26T18:26:22.284Z"
   },
   {
    "duration": 2,
    "start_time": "2024-09-26T18:26:22.291Z"
   },
   {
    "duration": 3,
    "start_time": "2024-09-26T18:26:22.323Z"
   },
   {
    "duration": 3,
    "start_time": "2024-09-26T18:26:22.327Z"
   },
   {
    "duration": 2,
    "start_time": "2024-09-26T18:26:22.332Z"
   },
   {
    "duration": 3,
    "start_time": "2024-09-26T18:26:22.336Z"
   },
   {
    "duration": 24,
    "start_time": "2024-09-26T18:30:49.142Z"
   },
   {
    "duration": 25,
    "start_time": "2024-09-26T18:31:01.696Z"
   },
   {
    "duration": 564,
    "start_time": "2024-09-26T18:31:24.156Z"
   },
   {
    "duration": 47,
    "start_time": "2024-09-26T18:31:52.728Z"
   },
   {
    "duration": 47,
    "start_time": "2024-09-26T18:31:57.647Z"
   },
   {
    "duration": 24,
    "start_time": "2024-09-26T18:32:22.068Z"
   },
   {
    "duration": 750,
    "start_time": "2024-09-26T18:32:31.552Z"
   },
   {
    "duration": 151,
    "start_time": "2024-09-26T18:32:32.304Z"
   },
   {
    "duration": 10,
    "start_time": "2024-09-26T18:32:32.456Z"
   },
   {
    "duration": 5,
    "start_time": "2024-09-26T18:32:32.468Z"
   },
   {
    "duration": 8,
    "start_time": "2024-09-26T18:32:32.474Z"
   },
   {
    "duration": 9,
    "start_time": "2024-09-26T18:32:32.483Z"
   },
   {
    "duration": 31,
    "start_time": "2024-09-26T18:32:32.493Z"
   },
   {
    "duration": 3,
    "start_time": "2024-09-26T18:32:32.525Z"
   },
   {
    "duration": 9,
    "start_time": "2024-09-26T18:32:32.530Z"
   },
   {
    "duration": 6,
    "start_time": "2024-09-26T18:32:32.542Z"
   },
   {
    "duration": 17,
    "start_time": "2024-09-26T18:32:32.549Z"
   },
   {
    "duration": 4,
    "start_time": "2024-09-26T18:32:32.568Z"
   },
   {
    "duration": 55,
    "start_time": "2024-09-26T18:32:32.573Z"
   },
   {
    "duration": 18,
    "start_time": "2024-09-26T18:32:32.630Z"
   },
   {
    "duration": 11,
    "start_time": "2024-09-26T18:32:32.649Z"
   },
   {
    "duration": 11,
    "start_time": "2024-09-26T18:32:32.661Z"
   },
   {
    "duration": 5,
    "start_time": "2024-09-26T18:32:32.673Z"
   },
   {
    "duration": 45,
    "start_time": "2024-09-26T18:32:32.679Z"
   },
   {
    "duration": 8,
    "start_time": "2024-09-26T18:32:32.725Z"
   },
   {
    "duration": 13,
    "start_time": "2024-09-26T18:32:32.735Z"
   },
   {
    "duration": 4,
    "start_time": "2024-09-26T18:32:32.750Z"
   },
   {
    "duration": 26,
    "start_time": "2024-09-26T18:32:32.756Z"
   },
   {
    "duration": 42,
    "start_time": "2024-09-26T18:32:32.784Z"
   },
   {
    "duration": 5,
    "start_time": "2024-09-26T18:32:32.827Z"
   },
   {
    "duration": 24,
    "start_time": "2024-09-26T18:32:32.833Z"
   },
   {
    "duration": 19,
    "start_time": "2024-09-26T18:32:32.858Z"
   },
   {
    "duration": 15,
    "start_time": "2024-09-26T18:32:32.879Z"
   },
   {
    "duration": 15,
    "start_time": "2024-09-26T18:32:32.923Z"
   },
   {
    "duration": 6,
    "start_time": "2024-09-26T18:32:32.940Z"
   },
   {
    "duration": 2,
    "start_time": "2024-09-26T18:32:32.949Z"
   },
   {
    "duration": 2,
    "start_time": "2024-09-26T18:32:32.953Z"
   },
   {
    "duration": 2,
    "start_time": "2024-09-26T18:32:32.957Z"
   },
   {
    "duration": 2,
    "start_time": "2024-09-26T18:32:32.962Z"
   },
   {
    "duration": 3,
    "start_time": "2024-09-26T18:32:32.965Z"
   },
   {
    "duration": 2,
    "start_time": "2024-09-26T18:32:32.970Z"
   },
   {
    "duration": 3,
    "start_time": "2024-09-26T18:32:32.974Z"
   },
   {
    "duration": 3,
    "start_time": "2024-09-26T18:32:32.978Z"
   },
   {
    "duration": 2,
    "start_time": "2024-09-26T18:32:33.025Z"
   },
   {
    "duration": 2,
    "start_time": "2024-09-26T18:32:33.029Z"
   },
   {
    "duration": 709,
    "start_time": "2024-09-26T18:33:50.202Z"
   },
   {
    "duration": 151,
    "start_time": "2024-09-26T18:33:50.913Z"
   },
   {
    "duration": 9,
    "start_time": "2024-09-26T18:33:51.065Z"
   },
   {
    "duration": 7,
    "start_time": "2024-09-26T18:33:51.076Z"
   },
   {
    "duration": 8,
    "start_time": "2024-09-26T18:33:51.084Z"
   },
   {
    "duration": 9,
    "start_time": "2024-09-26T18:33:51.093Z"
   },
   {
    "duration": 25,
    "start_time": "2024-09-26T18:33:51.103Z"
   },
   {
    "duration": 5,
    "start_time": "2024-09-26T18:33:51.131Z"
   },
   {
    "duration": 11,
    "start_time": "2024-09-26T18:33:51.137Z"
   },
   {
    "duration": 6,
    "start_time": "2024-09-26T18:33:51.151Z"
   },
   {
    "duration": 15,
    "start_time": "2024-09-26T18:33:51.159Z"
   },
   {
    "duration": 6,
    "start_time": "2024-09-26T18:33:51.177Z"
   },
   {
    "duration": 45,
    "start_time": "2024-09-26T18:33:51.186Z"
   },
   {
    "duration": 18,
    "start_time": "2024-09-26T18:33:51.233Z"
   },
   {
    "duration": 11,
    "start_time": "2024-09-26T18:33:51.252Z"
   },
   {
    "duration": 11,
    "start_time": "2024-09-26T18:33:51.265Z"
   },
   {
    "duration": 4,
    "start_time": "2024-09-26T18:33:51.277Z"
   },
   {
    "duration": 51,
    "start_time": "2024-09-26T18:33:51.283Z"
   },
   {
    "duration": 8,
    "start_time": "2024-09-26T18:33:51.336Z"
   },
   {
    "duration": 13,
    "start_time": "2024-09-26T18:33:51.345Z"
   },
   {
    "duration": 4,
    "start_time": "2024-09-26T18:33:51.359Z"
   },
   {
    "duration": 26,
    "start_time": "2024-09-26T18:33:51.364Z"
   },
   {
    "duration": 38,
    "start_time": "2024-09-26T18:33:51.392Z"
   },
   {
    "duration": 4,
    "start_time": "2024-09-26T18:33:51.431Z"
   },
   {
    "duration": 24,
    "start_time": "2024-09-26T18:33:51.437Z"
   },
   {
    "duration": 20,
    "start_time": "2024-09-26T18:33:51.463Z"
   },
   {
    "duration": 39,
    "start_time": "2024-09-26T18:33:51.485Z"
   },
   {
    "duration": 15,
    "start_time": "2024-09-26T18:33:51.528Z"
   },
   {
    "duration": 6,
    "start_time": "2024-09-26T18:33:51.544Z"
   },
   {
    "duration": 3,
    "start_time": "2024-09-26T18:33:51.552Z"
   },
   {
    "duration": 3,
    "start_time": "2024-09-26T18:33:51.556Z"
   },
   {
    "duration": 3,
    "start_time": "2024-09-26T18:33:51.561Z"
   },
   {
    "duration": 3,
    "start_time": "2024-09-26T18:33:51.565Z"
   },
   {
    "duration": 3,
    "start_time": "2024-09-26T18:33:51.569Z"
   },
   {
    "duration": 2,
    "start_time": "2024-09-26T18:33:51.574Z"
   },
   {
    "duration": 3,
    "start_time": "2024-09-26T18:33:51.577Z"
   },
   {
    "duration": 3,
    "start_time": "2024-09-26T18:33:51.582Z"
   },
   {
    "duration": 38,
    "start_time": "2024-09-26T18:33:51.586Z"
   },
   {
    "duration": 4,
    "start_time": "2024-09-26T18:33:51.625Z"
   },
   {
    "duration": 5,
    "start_time": "2024-09-26T18:36:40.733Z"
   },
   {
    "duration": 44,
    "start_time": "2024-09-26T18:36:56.446Z"
   },
   {
    "duration": 743,
    "start_time": "2024-09-26T18:40:38.469Z"
   },
   {
    "duration": 153,
    "start_time": "2024-09-26T18:40:39.214Z"
   },
   {
    "duration": 10,
    "start_time": "2024-09-26T18:40:39.368Z"
   },
   {
    "duration": 7,
    "start_time": "2024-09-26T18:40:39.380Z"
   },
   {
    "duration": 7,
    "start_time": "2024-09-26T18:40:39.388Z"
   },
   {
    "duration": 27,
    "start_time": "2024-09-26T18:40:39.397Z"
   },
   {
    "duration": 5,
    "start_time": "2024-09-26T18:40:39.426Z"
   },
   {
    "duration": 3,
    "start_time": "2024-09-26T18:40:39.432Z"
   },
   {
    "duration": 9,
    "start_time": "2024-09-26T18:40:39.437Z"
   },
   {
    "duration": 5,
    "start_time": "2024-09-26T18:40:39.449Z"
   },
   {
    "duration": 14,
    "start_time": "2024-09-26T18:40:39.456Z"
   },
   {
    "duration": 4,
    "start_time": "2024-09-26T18:40:39.471Z"
   },
   {
    "duration": 56,
    "start_time": "2024-09-26T18:40:39.477Z"
   },
   {
    "duration": 17,
    "start_time": "2024-09-26T18:40:39.535Z"
   },
   {
    "duration": 11,
    "start_time": "2024-09-26T18:40:39.553Z"
   },
   {
    "duration": 11,
    "start_time": "2024-09-26T18:40:39.566Z"
   },
   {
    "duration": 4,
    "start_time": "2024-09-26T18:40:39.579Z"
   },
   {
    "duration": 50,
    "start_time": "2024-09-26T18:40:39.584Z"
   },
   {
    "duration": 8,
    "start_time": "2024-09-26T18:40:39.636Z"
   },
   {
    "duration": 12,
    "start_time": "2024-09-26T18:40:39.646Z"
   },
   {
    "duration": 4,
    "start_time": "2024-09-26T18:40:39.660Z"
   },
   {
    "duration": 26,
    "start_time": "2024-09-26T18:40:39.665Z"
   },
   {
    "duration": 38,
    "start_time": "2024-09-26T18:40:39.693Z"
   },
   {
    "duration": 4,
    "start_time": "2024-09-26T18:40:39.733Z"
   },
   {
    "duration": 24,
    "start_time": "2024-09-26T18:40:39.739Z"
   },
   {
    "duration": 21,
    "start_time": "2024-09-26T18:40:39.764Z"
   },
   {
    "duration": 15,
    "start_time": "2024-09-26T18:40:39.786Z"
   },
   {
    "duration": 15,
    "start_time": "2024-09-26T18:40:39.828Z"
   },
   {
    "duration": 4,
    "start_time": "2024-09-26T18:40:39.845Z"
   },
   {
    "duration": 0,
    "start_time": "2024-09-26T18:40:39.851Z"
   },
   {
    "duration": 0,
    "start_time": "2024-09-26T18:40:39.852Z"
   },
   {
    "duration": 0,
    "start_time": "2024-09-26T18:40:39.854Z"
   },
   {
    "duration": 0,
    "start_time": "2024-09-26T18:40:39.855Z"
   },
   {
    "duration": 0,
    "start_time": "2024-09-26T18:40:39.857Z"
   },
   {
    "duration": 0,
    "start_time": "2024-09-26T18:40:39.858Z"
   },
   {
    "duration": 0,
    "start_time": "2024-09-26T18:40:39.860Z"
   },
   {
    "duration": 0,
    "start_time": "2024-09-26T18:40:39.861Z"
   },
   {
    "duration": 0,
    "start_time": "2024-09-26T18:40:39.862Z"
   },
   {
    "duration": 0,
    "start_time": "2024-09-26T18:40:39.864Z"
   },
   {
    "duration": 4,
    "start_time": "2024-09-26T18:42:22.672Z"
   },
   {
    "duration": 3,
    "start_time": "2024-09-26T18:42:50.698Z"
   },
   {
    "duration": 19,
    "start_time": "2024-09-26T18:43:14.437Z"
   },
   {
    "duration": 19,
    "start_time": "2024-09-26T18:45:12.022Z"
   },
   {
    "duration": 18,
    "start_time": "2024-09-26T18:45:38.201Z"
   },
   {
    "duration": 19,
    "start_time": "2024-09-26T18:47:48.326Z"
   },
   {
    "duration": 17,
    "start_time": "2024-09-26T18:48:24.398Z"
   },
   {
    "duration": 416,
    "start_time": "2024-09-26T18:50:59.878Z"
   },
   {
    "duration": 4,
    "start_time": "2024-09-26T18:51:11.877Z"
   },
   {
    "duration": 4,
    "start_time": "2024-09-26T18:51:40.548Z"
   },
   {
    "duration": 412,
    "start_time": "2024-09-26T18:51:53.643Z"
   },
   {
    "duration": 39,
    "start_time": "2024-09-26T18:52:17.008Z"
   },
   {
    "duration": 6,
    "start_time": "2024-09-26T18:52:27.065Z"
   },
   {
    "duration": 364,
    "start_time": "2024-09-26T18:52:53.794Z"
   },
   {
    "duration": 14,
    "start_time": "2024-09-26T18:53:06.417Z"
   },
   {
    "duration": 5,
    "start_time": "2024-09-26T18:53:13.830Z"
   },
   {
    "duration": 12,
    "start_time": "2024-09-26T18:54:04.694Z"
   },
   {
    "duration": 11,
    "start_time": "2024-09-26T18:55:07.904Z"
   },
   {
    "duration": 20,
    "start_time": "2024-09-26T18:57:00.315Z"
   },
   {
    "duration": 20,
    "start_time": "2024-09-26T18:57:38.442Z"
   },
   {
    "duration": 21,
    "start_time": "2024-09-26T19:02:58.633Z"
   },
   {
    "duration": 6,
    "start_time": "2024-09-26T19:03:55.870Z"
   },
   {
    "duration": 13,
    "start_time": "2024-09-26T19:05:47.009Z"
   },
   {
    "duration": 18,
    "start_time": "2024-09-26T19:08:56.538Z"
   },
   {
    "duration": 32,
    "start_time": "2024-09-26T19:12:05.752Z"
   },
   {
    "duration": 17,
    "start_time": "2024-09-26T19:12:29.897Z"
   },
   {
    "duration": 30,
    "start_time": "2024-09-26T19:12:59.745Z"
   },
   {
    "duration": 18,
    "start_time": "2024-09-26T19:14:15.391Z"
   },
   {
    "duration": 29,
    "start_time": "2024-09-26T19:14:31.724Z"
   },
   {
    "duration": 19,
    "start_time": "2024-09-26T19:15:37.480Z"
   },
   {
    "duration": 127,
    "start_time": "2024-09-26T19:16:10.601Z"
   },
   {
    "duration": 72,
    "start_time": "2024-09-26T19:16:33.782Z"
   },
   {
    "duration": 17,
    "start_time": "2024-09-26T19:16:45.560Z"
   },
   {
    "duration": 18,
    "start_time": "2024-09-26T19:17:02.566Z"
   },
   {
    "duration": 31,
    "start_time": "2024-09-26T19:17:23.627Z"
   },
   {
    "duration": 16,
    "start_time": "2024-09-26T19:17:29.488Z"
   },
   {
    "duration": 18,
    "start_time": "2024-09-26T19:17:57.462Z"
   },
   {
    "duration": 15,
    "start_time": "2024-09-26T19:18:01.561Z"
   },
   {
    "duration": 14,
    "start_time": "2024-09-26T19:18:46.491Z"
   },
   {
    "duration": 15,
    "start_time": "2024-09-26T19:20:27.125Z"
   },
   {
    "duration": 31,
    "start_time": "2024-09-26T19:21:34.531Z"
   },
   {
    "duration": 15,
    "start_time": "2024-09-26T19:21:40.591Z"
   },
   {
    "duration": 30,
    "start_time": "2024-09-26T19:22:07.440Z"
   },
   {
    "duration": 15,
    "start_time": "2024-09-26T19:23:49.924Z"
   },
   {
    "duration": 25,
    "start_time": "2024-09-26T19:25:23.958Z"
   },
   {
    "duration": 47,
    "start_time": "2024-09-26T19:25:57.793Z"
   },
   {
    "duration": 45,
    "start_time": "2024-09-26T19:26:17.685Z"
   },
   {
    "duration": 43,
    "start_time": "2024-09-26T19:26:30.434Z"
   },
   {
    "duration": 30,
    "start_time": "2024-09-26T19:26:58.080Z"
   },
   {
    "duration": 25,
    "start_time": "2024-09-26T19:27:15.176Z"
   },
   {
    "duration": 33,
    "start_time": "2024-09-26T19:27:38.300Z"
   },
   {
    "duration": 34,
    "start_time": "2024-09-26T19:27:49.987Z"
   },
   {
    "duration": 25,
    "start_time": "2024-09-26T19:28:09.072Z"
   },
   {
    "duration": 16,
    "start_time": "2024-09-26T19:29:35.777Z"
   },
   {
    "duration": 18,
    "start_time": "2024-09-26T19:29:48.104Z"
   },
   {
    "duration": 48,
    "start_time": "2024-09-26T19:31:44.858Z"
   },
   {
    "duration": 51,
    "start_time": "2024-09-26T19:32:20.595Z"
   },
   {
    "duration": 16,
    "start_time": "2024-09-26T19:32:38.808Z"
   },
   {
    "duration": 2444,
    "start_time": "2024-09-27T22:55:30.080Z"
   },
   {
    "duration": 212,
    "start_time": "2024-09-27T22:55:32.526Z"
   },
   {
    "duration": 10,
    "start_time": "2024-09-27T22:55:32.739Z"
   },
   {
    "duration": 6,
    "start_time": "2024-09-27T22:55:32.751Z"
   },
   {
    "duration": 6,
    "start_time": "2024-09-27T22:55:32.759Z"
   },
   {
    "duration": 8,
    "start_time": "2024-09-27T22:55:32.767Z"
   },
   {
    "duration": 6,
    "start_time": "2024-09-27T22:55:32.777Z"
   },
   {
    "duration": 3,
    "start_time": "2024-09-27T22:55:32.785Z"
   },
   {
    "duration": 9,
    "start_time": "2024-09-27T22:55:32.789Z"
   },
   {
    "duration": 6,
    "start_time": "2024-09-27T22:55:32.801Z"
   },
   {
    "duration": 14,
    "start_time": "2024-09-27T22:55:32.809Z"
   },
   {
    "duration": 46,
    "start_time": "2024-09-27T22:55:32.825Z"
   },
   {
    "duration": 21,
    "start_time": "2024-09-27T22:55:32.873Z"
   },
   {
    "duration": 18,
    "start_time": "2024-09-27T22:55:32.896Z"
   },
   {
    "duration": 10,
    "start_time": "2024-09-27T22:55:32.916Z"
   },
   {
    "duration": 11,
    "start_time": "2024-09-27T22:55:32.928Z"
   },
   {
    "duration": 30,
    "start_time": "2024-09-27T22:55:32.941Z"
   },
   {
    "duration": 21,
    "start_time": "2024-09-27T22:55:32.973Z"
   },
   {
    "duration": 8,
    "start_time": "2024-09-27T22:55:32.996Z"
   },
   {
    "duration": 12,
    "start_time": "2024-09-27T22:55:33.006Z"
   },
   {
    "duration": 4,
    "start_time": "2024-09-27T22:55:33.020Z"
   },
   {
    "duration": 61,
    "start_time": "2024-09-27T22:55:33.026Z"
   },
   {
    "duration": 10,
    "start_time": "2024-09-27T22:55:33.089Z"
   },
   {
    "duration": 4,
    "start_time": "2024-09-27T22:55:33.100Z"
   },
   {
    "duration": 24,
    "start_time": "2024-09-27T22:55:33.106Z"
   },
   {
    "duration": 51,
    "start_time": "2024-09-27T22:55:33.131Z"
   },
   {
    "duration": 15,
    "start_time": "2024-09-27T22:55:33.184Z"
   },
   {
    "duration": 17,
    "start_time": "2024-09-27T22:55:33.204Z"
   },
   {
    "duration": 20,
    "start_time": "2024-09-27T22:55:33.222Z"
   },
   {
    "duration": 15,
    "start_time": "2024-09-27T22:55:33.269Z"
   },
   {
    "duration": 2,
    "start_time": "2024-09-27T22:55:33.286Z"
   },
   {
    "duration": 2,
    "start_time": "2024-09-27T22:55:33.290Z"
   },
   {
    "duration": 2,
    "start_time": "2024-09-27T22:55:33.294Z"
   },
   {
    "duration": 2,
    "start_time": "2024-09-27T22:55:33.297Z"
   },
   {
    "duration": 2,
    "start_time": "2024-09-27T22:55:33.301Z"
   },
   {
    "duration": 3,
    "start_time": "2024-09-27T22:55:33.304Z"
   },
   {
    "duration": 2,
    "start_time": "2024-09-27T22:55:33.309Z"
   },
   {
    "duration": 2,
    "start_time": "2024-09-27T22:55:33.312Z"
   },
   {
    "duration": 2,
    "start_time": "2024-09-27T22:55:33.316Z"
   },
   {
    "duration": 144,
    "start_time": "2024-09-27T22:58:14.580Z"
   },
   {
    "duration": 24,
    "start_time": "2024-09-27T22:58:22.586Z"
   },
   {
    "duration": 32,
    "start_time": "2024-09-27T22:58:40.954Z"
   },
   {
    "duration": 25,
    "start_time": "2024-09-27T22:58:54.401Z"
   },
   {
    "duration": 300,
    "start_time": "2024-09-27T22:59:35.301Z"
   },
   {
    "duration": 17,
    "start_time": "2024-09-27T22:59:53.339Z"
   },
   {
    "duration": 47,
    "start_time": "2024-09-27T23:08:21.336Z"
   },
   {
    "duration": 313,
    "start_time": "2024-09-27T23:12:31.467Z"
   },
   {
    "duration": 33,
    "start_time": "2024-09-27T23:12:53.629Z"
   },
   {
    "duration": 4,
    "start_time": "2024-09-27T23:13:43.128Z"
   },
   {
    "duration": 67,
    "start_time": "2024-09-27T23:13:51.839Z"
   },
   {
    "duration": 33,
    "start_time": "2024-09-27T23:14:05.122Z"
   },
   {
    "duration": 40,
    "start_time": "2024-09-27T23:15:22.852Z"
   },
   {
    "duration": 434,
    "start_time": "2024-09-27T23:15:46.824Z"
   },
   {
    "duration": 22,
    "start_time": "2024-09-27T23:15:56.163Z"
   },
   {
    "duration": 27,
    "start_time": "2024-09-27T23:16:14.041Z"
   },
   {
    "duration": 21,
    "start_time": "2024-09-27T23:16:28.613Z"
   },
   {
    "duration": 28,
    "start_time": "2024-09-27T23:16:36.451Z"
   },
   {
    "duration": 366,
    "start_time": "2024-09-27T23:19:47.295Z"
   },
   {
    "duration": 27,
    "start_time": "2024-09-27T23:20:21.576Z"
   },
   {
    "duration": 23,
    "start_time": "2024-09-27T23:20:43.900Z"
   },
   {
    "duration": 21,
    "start_time": "2024-09-27T23:20:59.975Z"
   },
   {
    "duration": 23,
    "start_time": "2024-09-27T23:25:33.956Z"
   },
   {
    "duration": 19,
    "start_time": "2024-09-27T23:26:10.058Z"
   },
   {
    "duration": 20,
    "start_time": "2024-09-27T23:26:24.377Z"
   },
   {
    "duration": 19,
    "start_time": "2024-09-27T23:26:43.684Z"
   },
   {
    "duration": 18,
    "start_time": "2024-09-27T23:27:02.951Z"
   },
   {
    "duration": 137,
    "start_time": "2024-09-27T23:27:16.341Z"
   },
   {
    "duration": 17,
    "start_time": "2024-09-27T23:27:23.427Z"
   },
   {
    "duration": 17,
    "start_time": "2024-09-27T23:27:36.618Z"
   },
   {
    "duration": 14,
    "start_time": "2024-09-27T23:27:45.069Z"
   },
   {
    "duration": 17,
    "start_time": "2024-09-27T23:28:06.022Z"
   },
   {
    "duration": 18,
    "start_time": "2024-09-27T23:29:34.924Z"
   },
   {
    "duration": 14,
    "start_time": "2024-09-27T23:37:01.401Z"
   },
   {
    "duration": 14,
    "start_time": "2024-09-27T23:37:45.453Z"
   },
   {
    "duration": 16,
    "start_time": "2024-09-27T23:39:15.856Z"
   },
   {
    "duration": 17,
    "start_time": "2024-09-27T23:39:56.041Z"
   },
   {
    "duration": 17,
    "start_time": "2024-09-27T23:41:47.096Z"
   },
   {
    "duration": 17,
    "start_time": "2024-09-27T23:42:33.799Z"
   },
   {
    "duration": 17,
    "start_time": "2024-09-27T23:43:15.318Z"
   },
   {
    "duration": 7,
    "start_time": "2024-09-27T23:47:51.033Z"
   },
   {
    "duration": 6,
    "start_time": "2024-09-27T23:48:27.790Z"
   },
   {
    "duration": 7,
    "start_time": "2024-09-27T23:48:36.752Z"
   },
   {
    "duration": 5,
    "start_time": "2024-09-27T23:54:28.359Z"
   },
   {
    "duration": 4,
    "start_time": "2024-09-27T23:54:49.712Z"
   },
   {
    "duration": 16,
    "start_time": "2024-09-27T23:56:38.330Z"
   },
   {
    "duration": 16,
    "start_time": "2024-09-27T23:56:48.527Z"
   },
   {
    "duration": 98,
    "start_time": "2024-09-27T23:58:05.352Z"
   },
   {
    "duration": 17,
    "start_time": "2024-09-27T23:58:10.724Z"
   },
   {
    "duration": 10,
    "start_time": "2024-09-28T00:04:47.587Z"
   },
   {
    "duration": 10,
    "start_time": "2024-09-28T00:05:29.403Z"
   },
   {
    "duration": 11,
    "start_time": "2024-09-28T00:05:49.704Z"
   },
   {
    "duration": 11,
    "start_time": "2024-09-28T00:06:22.525Z"
   },
   {
    "duration": 13,
    "start_time": "2024-09-28T00:07:59.622Z"
   },
   {
    "duration": 16,
    "start_time": "2024-09-28T00:10:38.906Z"
   },
   {
    "duration": 14,
    "start_time": "2024-09-28T00:13:37.400Z"
   },
   {
    "duration": 16,
    "start_time": "2024-09-28T00:16:29.565Z"
   },
   {
    "duration": 21,
    "start_time": "2024-09-28T00:19:33.620Z"
   },
   {
    "duration": 18,
    "start_time": "2024-09-28T00:24:24.211Z"
   },
   {
    "duration": 12,
    "start_time": "2024-09-28T00:25:27.178Z"
   },
   {
    "duration": 5,
    "start_time": "2024-09-28T00:36:23.667Z"
   },
   {
    "duration": 6,
    "start_time": "2024-09-28T00:36:33.646Z"
   },
   {
    "duration": 188,
    "start_time": "2024-09-28T00:37:14.333Z"
   },
   {
    "duration": 378,
    "start_time": "2024-09-28T00:43:45.302Z"
   },
   {
    "duration": 454,
    "start_time": "2024-09-28T00:44:28.700Z"
   },
   {
    "duration": 274,
    "start_time": "2024-09-28T00:45:00.081Z"
   },
   {
    "duration": 278,
    "start_time": "2024-09-28T00:46:17.577Z"
   },
   {
    "duration": 330,
    "start_time": "2024-09-28T00:47:25.765Z"
   },
   {
    "duration": 189,
    "start_time": "2024-09-28T00:50:41.947Z"
   },
   {
    "duration": 317,
    "start_time": "2024-09-28T00:50:52.759Z"
   },
   {
    "duration": 211,
    "start_time": "2024-09-28T00:51:17.477Z"
   },
   {
    "duration": 316,
    "start_time": "2024-09-28T00:51:43.690Z"
   },
   {
    "duration": 350,
    "start_time": "2024-09-28T00:51:50.833Z"
   },
   {
    "duration": 214,
    "start_time": "2024-09-28T00:54:10.722Z"
   },
   {
    "duration": 215,
    "start_time": "2024-09-28T00:54:35.069Z"
   },
   {
    "duration": 214,
    "start_time": "2024-09-28T00:54:54.549Z"
   },
   {
    "duration": 208,
    "start_time": "2024-09-28T00:54:59.781Z"
   },
   {
    "duration": 194,
    "start_time": "2024-09-28T00:55:43.210Z"
   },
   {
    "duration": 211,
    "start_time": "2024-09-28T00:55:47.643Z"
   },
   {
    "duration": 222,
    "start_time": "2024-09-28T00:56:07.860Z"
   },
   {
    "duration": 211,
    "start_time": "2024-09-28T00:56:12.672Z"
   },
   {
    "duration": 218,
    "start_time": "2024-09-28T00:57:06.551Z"
   },
   {
    "duration": 225,
    "start_time": "2024-09-28T00:57:17.440Z"
   },
   {
    "duration": 222,
    "start_time": "2024-09-28T00:57:27.097Z"
   },
   {
    "duration": 215,
    "start_time": "2024-09-28T00:58:59.979Z"
   },
   {
    "duration": 115,
    "start_time": "2024-09-28T01:01:03.106Z"
   },
   {
    "duration": 16,
    "start_time": "2024-09-28T01:01:11.626Z"
   },
   {
    "duration": 332,
    "start_time": "2024-09-28T01:01:18.139Z"
   },
   {
    "duration": 557,
    "start_time": "2024-09-28T01:05:50.514Z"
   },
   {
    "duration": 119,
    "start_time": "2024-09-28T01:06:54.011Z"
   },
   {
    "duration": 67,
    "start_time": "2024-09-28T01:07:34.106Z"
   },
   {
    "duration": 384,
    "start_time": "2024-09-28T01:07:41.579Z"
   },
   {
    "duration": 143,
    "start_time": "2024-09-28T01:10:47.594Z"
   },
   {
    "duration": 150,
    "start_time": "2024-09-28T01:11:08.385Z"
   },
   {
    "duration": 162,
    "start_time": "2024-09-28T01:11:47.423Z"
   },
   {
    "duration": 5,
    "start_time": "2024-09-28T01:11:58.756Z"
   },
   {
    "duration": 150,
    "start_time": "2024-09-28T01:12:13.928Z"
   },
   {
    "duration": 163,
    "start_time": "2024-09-28T01:12:55.275Z"
   },
   {
    "duration": 160,
    "start_time": "2024-09-28T01:13:08.510Z"
   },
   {
    "duration": 144,
    "start_time": "2024-09-28T01:13:43.505Z"
   },
   {
    "duration": 135,
    "start_time": "2024-09-28T01:13:58.415Z"
   },
   {
    "duration": 130,
    "start_time": "2024-09-28T01:14:32.306Z"
   },
   {
    "duration": 131,
    "start_time": "2024-09-28T01:14:41.936Z"
   },
   {
    "duration": 130,
    "start_time": "2024-09-28T01:14:53.798Z"
   },
   {
    "duration": 146,
    "start_time": "2024-09-28T01:15:07.841Z"
   },
   {
    "duration": 157,
    "start_time": "2024-09-28T01:15:16.561Z"
   },
   {
    "duration": 156,
    "start_time": "2024-09-28T01:15:25.627Z"
   },
   {
    "duration": 133,
    "start_time": "2024-09-28T01:16:33.433Z"
   },
   {
    "duration": 132,
    "start_time": "2024-09-28T01:16:50.942Z"
   },
   {
    "duration": 147,
    "start_time": "2024-09-28T01:17:02.472Z"
   },
   {
    "duration": 327,
    "start_time": "2024-09-28T01:17:16.921Z"
   },
   {
    "duration": 5,
    "start_time": "2024-09-28T01:23:41.813Z"
   },
   {
    "duration": 4,
    "start_time": "2024-09-28T01:23:55.991Z"
   },
   {
    "duration": 4,
    "start_time": "2024-09-28T01:25:28.617Z"
   },
   {
    "duration": 4,
    "start_time": "2024-09-28T01:25:39.056Z"
   },
   {
    "duration": 4,
    "start_time": "2024-09-28T01:25:45.335Z"
   },
   {
    "duration": 5,
    "start_time": "2024-09-28T01:26:46.939Z"
   },
   {
    "duration": 5,
    "start_time": "2024-09-28T01:26:52.662Z"
   },
   {
    "duration": 12,
    "start_time": "2024-09-28T01:29:37.725Z"
   },
   {
    "duration": 106,
    "start_time": "2024-09-28T01:32:57.788Z"
   },
   {
    "duration": 106,
    "start_time": "2024-09-28T01:33:35.379Z"
   },
   {
    "duration": 4,
    "start_time": "2024-09-28T01:37:42.431Z"
   },
   {
    "duration": 129,
    "start_time": "2024-09-28T01:37:48.699Z"
   },
   {
    "duration": 152,
    "start_time": "2024-09-28T01:38:02.658Z"
   },
   {
    "duration": 222,
    "start_time": "2024-09-28T01:38:58.833Z"
   },
   {
    "duration": 258,
    "start_time": "2024-09-28T01:39:10.040Z"
   },
   {
    "duration": 273,
    "start_time": "2024-09-28T01:39:43.625Z"
   },
   {
    "duration": 765,
    "start_time": "2024-09-28T01:39:51.286Z"
   },
   {
    "duration": 164,
    "start_time": "2024-09-28T01:39:52.053Z"
   },
   {
    "duration": 10,
    "start_time": "2024-09-28T01:39:52.218Z"
   },
   {
    "duration": 6,
    "start_time": "2024-09-28T01:39:52.230Z"
   },
   {
    "duration": 6,
    "start_time": "2024-09-28T01:39:52.238Z"
   },
   {
    "duration": 40,
    "start_time": "2024-09-28T01:39:52.245Z"
   },
   {
    "duration": 12,
    "start_time": "2024-09-28T01:39:52.286Z"
   },
   {
    "duration": 3,
    "start_time": "2024-09-28T01:39:52.300Z"
   },
   {
    "duration": 9,
    "start_time": "2024-09-28T01:39:52.304Z"
   },
   {
    "duration": 6,
    "start_time": "2024-09-28T01:39:52.315Z"
   },
   {
    "duration": 15,
    "start_time": "2024-09-28T01:39:52.323Z"
   },
   {
    "duration": 5,
    "start_time": "2024-09-28T01:39:52.339Z"
   },
   {
    "duration": 60,
    "start_time": "2024-09-28T01:39:52.345Z"
   },
   {
    "duration": 18,
    "start_time": "2024-09-28T01:39:52.409Z"
   },
   {
    "duration": 11,
    "start_time": "2024-09-28T01:39:52.429Z"
   },
   {
    "duration": 13,
    "start_time": "2024-09-28T01:39:52.441Z"
   },
   {
    "duration": 26,
    "start_time": "2024-09-28T01:39:52.455Z"
   },
   {
    "duration": 26,
    "start_time": "2024-09-28T01:39:52.490Z"
   },
   {
    "duration": 9,
    "start_time": "2024-09-28T01:39:52.518Z"
   },
   {
    "duration": 13,
    "start_time": "2024-09-28T01:39:52.529Z"
   },
   {
    "duration": 4,
    "start_time": "2024-09-28T01:39:52.544Z"
   },
   {
    "duration": 49,
    "start_time": "2024-09-28T01:39:52.550Z"
   },
   {
    "duration": 10,
    "start_time": "2024-09-28T01:39:52.601Z"
   },
   {
    "duration": 4,
    "start_time": "2024-09-28T01:39:52.613Z"
   },
   {
    "duration": 24,
    "start_time": "2024-09-28T01:39:52.619Z"
   },
   {
    "duration": 44,
    "start_time": "2024-09-28T01:39:52.645Z"
   },
   {
    "duration": 19,
    "start_time": "2024-09-28T01:39:52.690Z"
   },
   {
    "duration": 17,
    "start_time": "2024-09-28T01:39:52.711Z"
   },
   {
    "duration": 15,
    "start_time": "2024-09-28T01:39:52.730Z"
   },
   {
    "duration": 42,
    "start_time": "2024-09-28T01:39:52.747Z"
   },
   {
    "duration": 17,
    "start_time": "2024-09-28T01:39:52.790Z"
   },
   {
    "duration": 237,
    "start_time": "2024-09-28T01:39:52.809Z"
   },
   {
    "duration": 155,
    "start_time": "2024-09-28T01:39:53.049Z"
   },
   {
    "duration": 5,
    "start_time": "2024-09-28T01:39:53.206Z"
   },
   {
    "duration": 122,
    "start_time": "2024-09-28T01:39:53.213Z"
   },
   {
    "duration": 6,
    "start_time": "2024-09-28T01:39:53.337Z"
   },
   {
    "duration": 2,
    "start_time": "2024-09-28T01:39:53.345Z"
   },
   {
    "duration": 2,
    "start_time": "2024-09-28T01:39:53.349Z"
   },
   {
    "duration": 2,
    "start_time": "2024-09-28T01:39:53.353Z"
   },
   {
    "duration": 710,
    "start_time": "2024-09-28T02:22:14.554Z"
   },
   {
    "duration": 155,
    "start_time": "2024-09-28T02:22:15.269Z"
   },
   {
    "duration": 10,
    "start_time": "2024-09-28T02:22:15.425Z"
   },
   {
    "duration": 7,
    "start_time": "2024-09-28T02:22:15.437Z"
   },
   {
    "duration": 7,
    "start_time": "2024-09-28T02:22:15.445Z"
   },
   {
    "duration": 22,
    "start_time": "2024-09-28T02:22:15.453Z"
   },
   {
    "duration": 5,
    "start_time": "2024-09-28T02:22:15.477Z"
   },
   {
    "duration": 3,
    "start_time": "2024-09-28T02:22:15.484Z"
   },
   {
    "duration": 9,
    "start_time": "2024-09-28T02:22:15.489Z"
   },
   {
    "duration": 5,
    "start_time": "2024-09-28T02:22:15.502Z"
   },
   {
    "duration": 15,
    "start_time": "2024-09-28T02:22:15.509Z"
   },
   {
    "duration": 4,
    "start_time": "2024-09-28T02:22:15.526Z"
   },
   {
    "duration": 53,
    "start_time": "2024-09-28T02:22:15.531Z"
   },
   {
    "duration": 18,
    "start_time": "2024-09-28T02:22:15.586Z"
   },
   {
    "duration": 11,
    "start_time": "2024-09-28T02:22:15.606Z"
   },
   {
    "duration": 11,
    "start_time": "2024-09-28T02:22:15.619Z"
   },
   {
    "duration": 4,
    "start_time": "2024-09-28T02:22:15.632Z"
   },
   {
    "duration": 22,
    "start_time": "2024-09-28T02:22:15.670Z"
   },
   {
    "duration": 8,
    "start_time": "2024-09-28T02:22:15.694Z"
   },
   {
    "duration": 13,
    "start_time": "2024-09-28T02:22:15.704Z"
   },
   {
    "duration": 12,
    "start_time": "2024-09-28T02:22:15.718Z"
   },
   {
    "duration": 54,
    "start_time": "2024-09-28T02:22:15.732Z"
   },
   {
    "duration": 9,
    "start_time": "2024-09-28T02:22:15.788Z"
   },
   {
    "duration": 4,
    "start_time": "2024-09-28T02:22:15.799Z"
   },
   {
    "duration": 25,
    "start_time": "2024-09-28T02:22:15.804Z"
   },
   {
    "duration": 47,
    "start_time": "2024-09-28T02:22:15.831Z"
   },
   {
    "duration": 16,
    "start_time": "2024-09-28T02:22:15.880Z"
   },
   {
    "duration": 17,
    "start_time": "2024-09-28T02:22:15.900Z"
   },
   {
    "duration": 16,
    "start_time": "2024-09-28T02:22:15.918Z"
   },
   {
    "duration": 42,
    "start_time": "2024-09-28T02:22:15.935Z"
   },
   {
    "duration": 12,
    "start_time": "2024-09-28T02:22:15.979Z"
   },
   {
    "duration": 234,
    "start_time": "2024-09-28T02:22:15.992Z"
   },
   {
    "duration": 163,
    "start_time": "2024-09-28T02:22:16.228Z"
   },
   {
    "duration": 4,
    "start_time": "2024-09-28T02:22:16.393Z"
   },
   {
    "duration": 122,
    "start_time": "2024-09-28T02:22:16.398Z"
   },
   {
    "duration": 2,
    "start_time": "2024-09-28T02:22:16.522Z"
   },
   {
    "duration": 5,
    "start_time": "2024-09-28T02:22:16.525Z"
   },
   {
    "duration": 3,
    "start_time": "2024-09-28T02:22:16.533Z"
   },
   {
    "duration": 14,
    "start_time": "2024-09-28T02:22:16.538Z"
   },
   {
    "duration": 254,
    "start_time": "2024-09-28T02:26:20.516Z"
   },
   {
    "duration": 131,
    "start_time": "2024-09-28T02:28:25.702Z"
   },
   {
    "duration": 4,
    "start_time": "2024-09-28T02:31:08.034Z"
   },
   {
    "duration": 5,
    "start_time": "2024-09-28T02:31:33.127Z"
   },
   {
    "duration": 114,
    "start_time": "2024-09-28T02:33:05.232Z"
   },
   {
    "duration": 114,
    "start_time": "2024-09-28T02:33:45.757Z"
   },
   {
    "duration": 122,
    "start_time": "2024-09-28T02:37:30.694Z"
   },
   {
    "duration": 7,
    "start_time": "2024-09-28T02:38:08.671Z"
   },
   {
    "duration": 10,
    "start_time": "2024-09-28T02:38:24.240Z"
   },
   {
    "duration": 8,
    "start_time": "2024-09-28T02:38:37.525Z"
   },
   {
    "duration": 112,
    "start_time": "2024-09-28T02:39:28.397Z"
   },
   {
    "duration": 115,
    "start_time": "2024-09-28T02:39:52.079Z"
   },
   {
    "duration": 222,
    "start_time": "2024-09-28T02:45:36.509Z"
   },
   {
    "duration": 449,
    "start_time": "2024-09-28T02:47:01.149Z"
   },
   {
    "duration": 205,
    "start_time": "2024-09-28T02:48:13.902Z"
   },
   {
    "duration": 414,
    "start_time": "2024-09-28T02:49:11.615Z"
   },
   {
    "duration": 127,
    "start_time": "2024-09-28T02:49:31.001Z"
   },
   {
    "duration": 4,
    "start_time": "2024-09-28T02:51:17.839Z"
   },
   {
    "duration": 125,
    "start_time": "2024-09-28T02:52:20.880Z"
   },
   {
    "duration": 116,
    "start_time": "2024-09-28T02:52:43.544Z"
   },
   {
    "duration": 111,
    "start_time": "2024-09-28T02:54:43.378Z"
   },
   {
    "duration": 13,
    "start_time": "2024-09-28T02:59:10.081Z"
   },
   {
    "duration": 15,
    "start_time": "2024-09-28T03:01:28.459Z"
   },
   {
    "duration": 16,
    "start_time": "2024-09-28T03:01:44.776Z"
   },
   {
    "duration": 15,
    "start_time": "2024-09-28T03:01:57.492Z"
   },
   {
    "duration": 217,
    "start_time": "2024-09-28T03:02:06.042Z"
   },
   {
    "duration": 130,
    "start_time": "2024-09-28T03:02:12.930Z"
   },
   {
    "duration": 119,
    "start_time": "2024-09-28T03:03:30.841Z"
   },
   {
    "duration": 137,
    "start_time": "2024-09-28T03:05:27.253Z"
   },
   {
    "duration": 130,
    "start_time": "2024-09-28T03:05:35.720Z"
   },
   {
    "duration": 101,
    "start_time": "2024-09-28T03:06:47.399Z"
   },
   {
    "duration": 93,
    "start_time": "2024-09-28T03:06:56.125Z"
   },
   {
    "duration": 128,
    "start_time": "2024-09-28T03:07:22.195Z"
   },
   {
    "duration": 120,
    "start_time": "2024-09-28T03:07:34.712Z"
   },
   {
    "duration": 119,
    "start_time": "2024-09-28T03:08:47.011Z"
   },
   {
    "duration": 113,
    "start_time": "2024-09-28T03:09:38.333Z"
   },
   {
    "duration": 114,
    "start_time": "2024-09-28T03:10:21.621Z"
   },
   {
    "duration": 113,
    "start_time": "2024-09-28T03:10:54.341Z"
   },
   {
    "duration": 2,
    "start_time": "2024-09-28T03:27:34.494Z"
   },
   {
    "duration": 4,
    "start_time": "2024-09-28T03:37:00.042Z"
   },
   {
    "duration": 94,
    "start_time": "2024-09-28T03:37:48.197Z"
   },
   {
    "duration": 2386,
    "start_time": "2024-09-28T04:12:01.905Z"
   },
   {
    "duration": 225,
    "start_time": "2024-09-28T04:12:04.293Z"
   },
   {
    "duration": 9,
    "start_time": "2024-09-28T04:12:04.519Z"
   },
   {
    "duration": 6,
    "start_time": "2024-09-28T04:12:04.531Z"
   },
   {
    "duration": 6,
    "start_time": "2024-09-28T04:12:04.539Z"
   },
   {
    "duration": 7,
    "start_time": "2024-09-28T04:12:04.547Z"
   },
   {
    "duration": 6,
    "start_time": "2024-09-28T04:12:04.556Z"
   },
   {
    "duration": 4,
    "start_time": "2024-09-28T04:12:04.563Z"
   },
   {
    "duration": 8,
    "start_time": "2024-09-28T04:12:04.568Z"
   },
   {
    "duration": 49,
    "start_time": "2024-09-28T04:12:04.580Z"
   },
   {
    "duration": 15,
    "start_time": "2024-09-28T04:12:04.630Z"
   },
   {
    "duration": 4,
    "start_time": "2024-09-28T04:12:04.647Z"
   },
   {
    "duration": 21,
    "start_time": "2024-09-28T04:12:04.652Z"
   },
   {
    "duration": 18,
    "start_time": "2024-09-28T04:12:04.674Z"
   },
   {
    "duration": 41,
    "start_time": "2024-09-28T04:12:04.693Z"
   },
   {
    "duration": 12,
    "start_time": "2024-09-28T04:12:04.736Z"
   },
   {
    "duration": 4,
    "start_time": "2024-09-28T04:12:04.750Z"
   },
   {
    "duration": 21,
    "start_time": "2024-09-28T04:12:04.756Z"
   },
   {
    "duration": 8,
    "start_time": "2024-09-28T04:12:04.779Z"
   },
   {
    "duration": 42,
    "start_time": "2024-09-28T04:12:04.789Z"
   },
   {
    "duration": 5,
    "start_time": "2024-09-28T04:12:04.833Z"
   },
   {
    "duration": 25,
    "start_time": "2024-09-28T04:12:04.840Z"
   },
   {
    "duration": 10,
    "start_time": "2024-09-28T04:12:04.867Z"
   },
   {
    "duration": 4,
    "start_time": "2024-09-28T04:12:04.878Z"
   },
   {
    "duration": 54,
    "start_time": "2024-09-28T04:12:04.884Z"
   },
   {
    "duration": 24,
    "start_time": "2024-09-28T04:12:04.940Z"
   },
   {
    "duration": 17,
    "start_time": "2024-09-28T04:12:04.966Z"
   },
   {
    "duration": 41,
    "start_time": "2024-09-28T04:12:04.987Z"
   },
   {
    "duration": 17,
    "start_time": "2024-09-28T04:12:05.029Z"
   },
   {
    "duration": 15,
    "start_time": "2024-09-28T04:12:05.047Z"
   },
   {
    "duration": 11,
    "start_time": "2024-09-28T04:12:05.065Z"
   },
   {
    "duration": 243,
    "start_time": "2024-09-28T04:12:05.079Z"
   },
   {
    "duration": 144,
    "start_time": "2024-09-28T04:12:05.324Z"
   },
   {
    "duration": 4,
    "start_time": "2024-09-28T04:12:05.470Z"
   },
   {
    "duration": 124,
    "start_time": "2024-09-28T04:12:05.476Z"
   },
   {
    "duration": 270,
    "start_time": "2024-09-28T04:12:05.602Z"
   },
   {
    "duration": 136,
    "start_time": "2024-09-28T04:12:05.874Z"
   },
   {
    "duration": 12,
    "start_time": "2024-09-28T04:12:06.012Z"
   },
   {
    "duration": 118,
    "start_time": "2024-09-28T04:12:06.026Z"
   },
   {
    "duration": 214,
    "start_time": "2024-09-28T04:12:06.145Z"
   },
   {
    "duration": 133,
    "start_time": "2024-09-28T04:12:06.361Z"
   },
   {
    "duration": 4,
    "start_time": "2024-09-28T04:12:06.496Z"
   },
   {
    "duration": 125,
    "start_time": "2024-09-28T04:12:06.502Z"
   },
   {
    "duration": 102,
    "start_time": "2024-09-28T04:12:06.628Z"
   },
   {
    "duration": 101,
    "start_time": "2024-09-28T04:12:06.732Z"
   },
   {
    "duration": 131,
    "start_time": "2024-09-28T04:12:06.835Z"
   },
   {
    "duration": 3,
    "start_time": "2024-09-28T04:12:06.969Z"
   },
   {
    "duration": 2,
    "start_time": "2024-09-28T04:12:06.973Z"
   },
   {
    "duration": 93,
    "start_time": "2024-09-28T04:12:23.914Z"
   },
   {
    "duration": 11,
    "start_time": "2024-09-28T04:14:48.999Z"
   },
   {
    "duration": 3,
    "start_time": "2024-09-28T04:24:23.485Z"
   },
   {
    "duration": 2470,
    "start_time": "2024-09-28T22:59:17.289Z"
   },
   {
    "duration": 208,
    "start_time": "2024-09-28T22:59:19.761Z"
   },
   {
    "duration": 9,
    "start_time": "2024-09-28T22:59:19.971Z"
   },
   {
    "duration": 6,
    "start_time": "2024-09-28T22:59:19.982Z"
   },
   {
    "duration": 6,
    "start_time": "2024-09-28T22:59:19.989Z"
   },
   {
    "duration": 8,
    "start_time": "2024-09-28T22:59:19.996Z"
   },
   {
    "duration": 5,
    "start_time": "2024-09-28T22:59:20.007Z"
   },
   {
    "duration": 3,
    "start_time": "2024-09-28T22:59:20.014Z"
   },
   {
    "duration": 9,
    "start_time": "2024-09-28T22:59:20.019Z"
   },
   {
    "duration": 6,
    "start_time": "2024-09-28T22:59:20.072Z"
   },
   {
    "duration": 15,
    "start_time": "2024-09-28T22:59:20.079Z"
   },
   {
    "duration": 4,
    "start_time": "2024-09-28T22:59:20.096Z"
   },
   {
    "duration": 21,
    "start_time": "2024-09-28T22:59:20.102Z"
   },
   {
    "duration": 46,
    "start_time": "2024-09-28T22:59:20.124Z"
   },
   {
    "duration": 11,
    "start_time": "2024-09-28T22:59:20.172Z"
   },
   {
    "duration": 12,
    "start_time": "2024-09-28T22:59:20.185Z"
   },
   {
    "duration": 3,
    "start_time": "2024-09-28T22:59:20.199Z"
   },
   {
    "duration": 23,
    "start_time": "2024-09-28T22:59:20.204Z"
   },
   {
    "duration": 8,
    "start_time": "2024-09-28T22:59:20.229Z"
   },
   {
    "duration": 15,
    "start_time": "2024-09-28T22:59:20.269Z"
   },
   {
    "duration": 5,
    "start_time": "2024-09-28T22:59:20.285Z"
   },
   {
    "duration": 26,
    "start_time": "2024-09-28T22:59:20.292Z"
   },
   {
    "duration": 9,
    "start_time": "2024-09-28T22:59:20.320Z"
   },
   {
    "duration": 5,
    "start_time": "2024-09-28T22:59:20.330Z"
   },
   {
    "duration": 57,
    "start_time": "2024-09-28T22:59:20.337Z"
   },
   {
    "duration": 21,
    "start_time": "2024-09-28T22:59:20.397Z"
   },
   {
    "duration": 16,
    "start_time": "2024-09-28T22:59:20.420Z"
   },
   {
    "duration": 36,
    "start_time": "2024-09-28T22:59:20.440Z"
   },
   {
    "duration": 16,
    "start_time": "2024-09-28T22:59:20.478Z"
   },
   {
    "duration": 16,
    "start_time": "2024-09-28T22:59:20.495Z"
   },
   {
    "duration": 14,
    "start_time": "2024-09-28T22:59:20.513Z"
   },
   {
    "duration": 262,
    "start_time": "2024-09-28T22:59:20.529Z"
   },
   {
    "duration": 137,
    "start_time": "2024-09-28T22:59:20.793Z"
   },
   {
    "duration": 6,
    "start_time": "2024-09-28T22:59:20.931Z"
   },
   {
    "duration": 124,
    "start_time": "2024-09-28T22:59:20.939Z"
   },
   {
    "duration": 218,
    "start_time": "2024-09-28T22:59:21.069Z"
   },
   {
    "duration": 144,
    "start_time": "2024-09-28T22:59:21.289Z"
   },
   {
    "duration": 5,
    "start_time": "2024-09-28T22:59:21.435Z"
   },
   {
    "duration": 196,
    "start_time": "2024-09-28T22:59:21.442Z"
   },
   {
    "duration": 223,
    "start_time": "2024-09-28T22:59:21.640Z"
   },
   {
    "duration": 131,
    "start_time": "2024-09-28T22:59:21.865Z"
   },
   {
    "duration": 5,
    "start_time": "2024-09-28T22:59:21.998Z"
   },
   {
    "duration": 125,
    "start_time": "2024-09-28T22:59:22.005Z"
   },
   {
    "duration": 105,
    "start_time": "2024-09-28T22:59:22.132Z"
   },
   {
    "duration": 100,
    "start_time": "2024-09-28T22:59:22.239Z"
   },
   {
    "duration": 124,
    "start_time": "2024-09-28T22:59:22.341Z"
   },
   {
    "duration": 3,
    "start_time": "2024-09-28T22:59:22.470Z"
   },
   {
    "duration": 3,
    "start_time": "2024-09-28T22:59:22.474Z"
   },
   {
    "duration": 114,
    "start_time": "2024-09-28T23:00:07.526Z"
   },
   {
    "duration": 757,
    "start_time": "2024-09-28T23:11:39.795Z"
   },
   {
    "duration": 164,
    "start_time": "2024-09-28T23:11:40.554Z"
   },
   {
    "duration": 10,
    "start_time": "2024-09-28T23:11:40.720Z"
   },
   {
    "duration": 5,
    "start_time": "2024-09-28T23:11:40.733Z"
   },
   {
    "duration": 6,
    "start_time": "2024-09-28T23:11:40.740Z"
   },
   {
    "duration": 25,
    "start_time": "2024-09-28T23:11:40.748Z"
   },
   {
    "duration": 7,
    "start_time": "2024-09-28T23:11:40.775Z"
   },
   {
    "duration": 3,
    "start_time": "2024-09-28T23:11:40.784Z"
   },
   {
    "duration": 9,
    "start_time": "2024-09-28T23:11:40.789Z"
   },
   {
    "duration": 6,
    "start_time": "2024-09-28T23:11:40.801Z"
   },
   {
    "duration": 15,
    "start_time": "2024-09-28T23:11:40.808Z"
   },
   {
    "duration": 4,
    "start_time": "2024-09-28T23:11:40.825Z"
   },
   {
    "duration": 59,
    "start_time": "2024-09-28T23:11:40.831Z"
   },
   {
    "duration": 18,
    "start_time": "2024-09-28T23:11:40.891Z"
   },
   {
    "duration": 11,
    "start_time": "2024-09-28T23:11:40.911Z"
   },
   {
    "duration": 12,
    "start_time": "2024-09-28T23:11:40.924Z"
   },
   {
    "duration": 32,
    "start_time": "2024-09-28T23:11:40.938Z"
   },
   {
    "duration": 21,
    "start_time": "2024-09-28T23:11:40.972Z"
   },
   {
    "duration": 8,
    "start_time": "2024-09-28T23:11:40.995Z"
   },
   {
    "duration": 13,
    "start_time": "2024-09-28T23:11:41.005Z"
   },
   {
    "duration": 5,
    "start_time": "2024-09-28T23:11:41.019Z"
   },
   {
    "duration": 55,
    "start_time": "2024-09-28T23:11:41.025Z"
   },
   {
    "duration": 9,
    "start_time": "2024-09-28T23:11:41.082Z"
   },
   {
    "duration": 5,
    "start_time": "2024-09-28T23:11:41.093Z"
   },
   {
    "duration": 26,
    "start_time": "2024-09-28T23:11:41.099Z"
   },
   {
    "duration": 49,
    "start_time": "2024-09-28T23:11:41.127Z"
   },
   {
    "duration": 16,
    "start_time": "2024-09-28T23:11:41.177Z"
   },
   {
    "duration": 17,
    "start_time": "2024-09-28T23:11:41.198Z"
   },
   {
    "duration": 15,
    "start_time": "2024-09-28T23:11:41.216Z"
   },
   {
    "duration": 40,
    "start_time": "2024-09-28T23:11:41.233Z"
   },
   {
    "duration": 232,
    "start_time": "2024-09-28T23:11:41.275Z"
   },
   {
    "duration": 0,
    "start_time": "2024-09-28T23:11:41.508Z"
   },
   {
    "duration": 0,
    "start_time": "2024-09-28T23:11:41.509Z"
   },
   {
    "duration": 0,
    "start_time": "2024-09-28T23:11:41.510Z"
   },
   {
    "duration": 0,
    "start_time": "2024-09-28T23:11:41.511Z"
   },
   {
    "duration": 0,
    "start_time": "2024-09-28T23:11:41.513Z"
   },
   {
    "duration": 0,
    "start_time": "2024-09-28T23:11:41.514Z"
   },
   {
    "duration": 0,
    "start_time": "2024-09-28T23:11:41.516Z"
   },
   {
    "duration": 0,
    "start_time": "2024-09-28T23:11:41.517Z"
   },
   {
    "duration": 0,
    "start_time": "2024-09-28T23:11:41.518Z"
   },
   {
    "duration": 0,
    "start_time": "2024-09-28T23:11:41.519Z"
   },
   {
    "duration": 0,
    "start_time": "2024-09-28T23:11:41.520Z"
   },
   {
    "duration": 0,
    "start_time": "2024-09-28T23:11:41.521Z"
   },
   {
    "duration": 0,
    "start_time": "2024-09-28T23:11:41.522Z"
   },
   {
    "duration": 0,
    "start_time": "2024-09-28T23:11:41.523Z"
   },
   {
    "duration": 0,
    "start_time": "2024-09-28T23:11:41.525Z"
   },
   {
    "duration": 0,
    "start_time": "2024-09-28T23:11:41.526Z"
   },
   {
    "duration": 0,
    "start_time": "2024-09-28T23:11:41.527Z"
   },
   {
    "duration": 12,
    "start_time": "2024-09-28T23:12:02.022Z"
   },
   {
    "duration": 783,
    "start_time": "2024-09-28T23:12:21.266Z"
   },
   {
    "duration": 156,
    "start_time": "2024-09-28T23:12:22.051Z"
   },
   {
    "duration": 9,
    "start_time": "2024-09-28T23:12:22.209Z"
   },
   {
    "duration": 5,
    "start_time": "2024-09-28T23:12:22.220Z"
   },
   {
    "duration": 6,
    "start_time": "2024-09-28T23:12:22.227Z"
   },
   {
    "duration": 8,
    "start_time": "2024-09-28T23:12:22.234Z"
   },
   {
    "duration": 29,
    "start_time": "2024-09-28T23:12:22.244Z"
   },
   {
    "duration": 3,
    "start_time": "2024-09-28T23:12:22.275Z"
   },
   {
    "duration": 9,
    "start_time": "2024-09-28T23:12:22.280Z"
   },
   {
    "duration": 6,
    "start_time": "2024-09-28T23:12:22.291Z"
   },
   {
    "duration": 15,
    "start_time": "2024-09-28T23:12:22.298Z"
   },
   {
    "duration": 4,
    "start_time": "2024-09-28T23:12:22.315Z"
   },
   {
    "duration": 58,
    "start_time": "2024-09-28T23:12:22.321Z"
   },
   {
    "duration": 18,
    "start_time": "2024-09-28T23:12:22.384Z"
   },
   {
    "duration": 11,
    "start_time": "2024-09-28T23:12:22.403Z"
   },
   {
    "duration": 12,
    "start_time": "2024-09-28T23:12:22.415Z"
   },
   {
    "duration": 5,
    "start_time": "2024-09-28T23:12:22.428Z"
   },
   {
    "duration": 50,
    "start_time": "2024-09-28T23:12:22.435Z"
   },
   {
    "duration": 8,
    "start_time": "2024-09-28T23:12:22.486Z"
   },
   {
    "duration": 13,
    "start_time": "2024-09-28T23:12:22.496Z"
   },
   {
    "duration": 4,
    "start_time": "2024-09-28T23:12:22.511Z"
   },
   {
    "duration": 53,
    "start_time": "2024-09-28T23:12:22.517Z"
   },
   {
    "duration": 9,
    "start_time": "2024-09-28T23:12:22.572Z"
   },
   {
    "duration": 4,
    "start_time": "2024-09-28T23:12:22.583Z"
   },
   {
    "duration": 25,
    "start_time": "2024-09-28T23:12:22.588Z"
   },
   {
    "duration": 22,
    "start_time": "2024-09-28T23:12:22.614Z"
   },
   {
    "duration": 44,
    "start_time": "2024-09-28T23:12:22.637Z"
   },
   {
    "duration": 18,
    "start_time": "2024-09-28T23:12:22.683Z"
   },
   {
    "duration": 16,
    "start_time": "2024-09-28T23:12:22.703Z"
   },
   {
    "duration": 15,
    "start_time": "2024-09-28T23:12:22.721Z"
   },
   {
    "duration": 38,
    "start_time": "2024-09-28T23:12:22.738Z"
   },
   {
    "duration": 232,
    "start_time": "2024-09-28T23:12:22.778Z"
   },
   {
    "duration": 143,
    "start_time": "2024-09-28T23:12:23.012Z"
   },
   {
    "duration": 5,
    "start_time": "2024-09-28T23:12:23.157Z"
   },
   {
    "duration": 117,
    "start_time": "2024-09-28T23:12:23.170Z"
   },
   {
    "duration": 262,
    "start_time": "2024-09-28T23:12:23.289Z"
   },
   {
    "duration": 144,
    "start_time": "2024-09-28T23:12:23.552Z"
   },
   {
    "duration": 4,
    "start_time": "2024-09-28T23:12:23.698Z"
   },
   {
    "duration": 125,
    "start_time": "2024-09-28T23:12:23.703Z"
   },
   {
    "duration": 218,
    "start_time": "2024-09-28T23:12:23.829Z"
   },
   {
    "duration": 129,
    "start_time": "2024-09-28T23:12:24.052Z"
   },
   {
    "duration": 5,
    "start_time": "2024-09-28T23:12:24.183Z"
   },
   {
    "duration": 127,
    "start_time": "2024-09-28T23:12:24.190Z"
   },
   {
    "duration": 107,
    "start_time": "2024-09-28T23:12:24.319Z"
   },
   {
    "duration": 101,
    "start_time": "2024-09-28T23:12:24.429Z"
   },
   {
    "duration": 126,
    "start_time": "2024-09-28T23:12:24.532Z"
   },
   {
    "duration": 10,
    "start_time": "2024-09-28T23:12:24.660Z"
   },
   {
    "duration": 2,
    "start_time": "2024-09-28T23:12:24.672Z"
   },
   {
    "duration": 12,
    "start_time": "2024-09-28T23:13:37.682Z"
   },
   {
    "duration": 12,
    "start_time": "2024-09-28T23:13:53.422Z"
   },
   {
    "duration": 15,
    "start_time": "2024-09-28T23:14:04.458Z"
   },
   {
    "duration": 14,
    "start_time": "2024-09-28T23:15:51.612Z"
   },
   {
    "duration": 9,
    "start_time": "2024-09-28T23:17:12.177Z"
   },
   {
    "duration": 3,
    "start_time": "2024-09-28T23:17:50.986Z"
   },
   {
    "duration": 4,
    "start_time": "2024-09-28T23:18:18.860Z"
   },
   {
    "duration": 4,
    "start_time": "2024-09-28T23:18:26.830Z"
   },
   {
    "duration": 10,
    "start_time": "2024-09-28T23:18:39.598Z"
   },
   {
    "duration": 10,
    "start_time": "2024-09-28T23:18:52.179Z"
   },
   {
    "duration": 5,
    "start_time": "2024-09-28T23:19:36.486Z"
   },
   {
    "duration": 5,
    "start_time": "2024-09-28T23:19:47.790Z"
   },
   {
    "duration": 10,
    "start_time": "2024-09-28T23:26:08.432Z"
   },
   {
    "duration": 10,
    "start_time": "2024-09-28T23:26:24.014Z"
   },
   {
    "duration": 11,
    "start_time": "2024-09-28T23:26:30.852Z"
   },
   {
    "duration": 10,
    "start_time": "2024-09-28T23:26:38.726Z"
   },
   {
    "duration": 2,
    "start_time": "2024-09-28T23:26:39.680Z"
   },
   {
    "duration": 11,
    "start_time": "2024-09-28T23:26:47.264Z"
   },
   {
    "duration": 11,
    "start_time": "2024-09-28T23:27:06.855Z"
   },
   {
    "duration": 11,
    "start_time": "2024-09-28T23:27:14.445Z"
   },
   {
    "duration": 6,
    "start_time": "2024-09-28T23:28:26.862Z"
   },
   {
    "duration": 550,
    "start_time": "2024-09-28T23:29:49.393Z"
   },
   {
    "duration": 9,
    "start_time": "2024-09-28T23:30:50.469Z"
   },
   {
    "duration": 7,
    "start_time": "2024-09-28T23:30:57.553Z"
   },
   {
    "duration": 6,
    "start_time": "2024-09-28T23:31:10.985Z"
   },
   {
    "duration": 7,
    "start_time": "2024-09-28T23:31:14.432Z"
   },
   {
    "duration": 6,
    "start_time": "2024-09-28T23:31:18.340Z"
   },
   {
    "duration": 7,
    "start_time": "2024-09-28T23:31:21.173Z"
   },
   {
    "duration": 6,
    "start_time": "2024-09-28T23:34:28.595Z"
   },
   {
    "duration": 6,
    "start_time": "2024-09-28T23:34:36.963Z"
   },
   {
    "duration": 338,
    "start_time": "2024-09-28T23:48:33.071Z"
   },
   {
    "duration": 14,
    "start_time": "2024-09-28T23:49:14.888Z"
   },
   {
    "duration": 13,
    "start_time": "2024-09-28T23:55:16.240Z"
   },
   {
    "duration": 18,
    "start_time": "2024-09-28T23:55:21.862Z"
   },
   {
    "duration": 33,
    "start_time": "2024-09-28T23:56:44.429Z"
   },
   {
    "duration": 14,
    "start_time": "2024-09-28T23:57:02.662Z"
   },
   {
    "duration": 23,
    "start_time": "2024-09-28T23:57:47.629Z"
   },
   {
    "duration": 15,
    "start_time": "2024-09-28T23:58:13.384Z"
   },
   {
    "duration": 11,
    "start_time": "2024-09-29T00:00:11.591Z"
   },
   {
    "duration": 11,
    "start_time": "2024-09-29T00:00:29.199Z"
   },
   {
    "duration": 10,
    "start_time": "2024-09-29T00:01:57.723Z"
   },
   {
    "duration": 11,
    "start_time": "2024-09-29T00:02:05.470Z"
   },
   {
    "duration": 12,
    "start_time": "2024-09-29T00:02:13.629Z"
   },
   {
    "duration": 12,
    "start_time": "2024-09-29T00:02:16.843Z"
   },
   {
    "duration": 13,
    "start_time": "2024-09-29T00:02:23.341Z"
   },
   {
    "duration": 14,
    "start_time": "2024-09-29T00:02:30.657Z"
   },
   {
    "duration": 11,
    "start_time": "2024-09-29T00:03:47.788Z"
   },
   {
    "duration": 11,
    "start_time": "2024-09-29T00:03:59.196Z"
   },
   {
    "duration": 11,
    "start_time": "2024-09-29T00:04:04.043Z"
   },
   {
    "duration": 11,
    "start_time": "2024-09-29T00:04:11.892Z"
   },
   {
    "duration": 12,
    "start_time": "2024-09-29T00:14:00.748Z"
   },
   {
    "duration": 11,
    "start_time": "2024-09-29T00:14:09.621Z"
   }
  ],
  "colab": {
   "provenance": []
  },
  "kernelspec": {
   "display_name": "Python 3 (ipykernel)",
   "language": "python",
   "name": "python3"
  },
  "language_info": {
   "codemirror_mode": {
    "name": "ipython",
    "version": 3
   },
   "file_extension": ".py",
   "mimetype": "text/x-python",
   "name": "python",
   "nbconvert_exporter": "python",
   "pygments_lexer": "ipython3",
   "version": "3.9.19"
  },
  "toc": {
   "base_numbering": 1,
   "nav_menu": {},
   "number_sections": true,
   "sideBar": true,
   "skip_h1_title": false,
   "title_cell": "Table of Contents",
   "title_sidebar": "Contents",
   "toc_cell": false,
   "toc_position": {
    "height": "calc(100% - 180px)",
    "left": "10px",
    "top": "150px",
    "width": "165px"
   },
   "toc_section_display": true,
   "toc_window_display": true
  }
 },
 "nbformat": 4,
 "nbformat_minor": 1
}
