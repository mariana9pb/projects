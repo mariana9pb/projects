{
 "cells": [
  {
   "cell_type": "code",
   "execution_count": null,
   "metadata": {},
   "outputs": [],
   "source": []
  },
  {
   "cell_type": "markdown",
   "metadata": {},
   "source": [
    "# Descripción del proyecto\n",
    "\n",
    "La compañía Sweet Lift Taxi ha recopilado datos históricos sobre pedidos de taxis en los aeropuertos. Para atraer a más conductores durante las horas pico, necesitamos predecir la cantidad de pedidos de taxis para la próxima hora. Construye un modelo para dicha predicción.\n",
    "\n",
    "La métrica RECM en el conjunto de prueba no debe ser superior a 48.\n",
    "\n",
    "## Instrucciones del proyecto.\n",
    "\n",
    "1. Descarga los datos y haz el remuestreo por una hora.\n",
    "2. Analiza los datos\n",
    "3. Entrena diferentes modelos con diferentes hiperparámetros. La muestra de prueba debe ser el 10% del conjunto de datos inicial.4. Prueba los datos usando la muestra de prueba y proporciona una conclusión.\n",
    "\n",
    "## Descripción de los datos\n",
    "\n",
    "Los datos se almacenan en el archivo `taxi.csv`. \t\n",
    "El número de pedidos está en la columna `num_orders`."
   ]
  },
  {
   "cell_type": "markdown",
   "metadata": {},
   "source": [
    "## Preparación"
   ]
  },
  {
   "cell_type": "code",
   "execution_count": 1,
   "metadata": {},
   "outputs": [],
   "source": [
    "#importar librerías\n",
    "\n",
    "import pandas as pd\n",
    "import numpy as np\n",
    "import matplotlib.pyplot as plt\n",
    "from statsmodels.tsa.seasonal import seasonal_decompose\n",
    "from sklearn.model_selection import train_test_split\n",
    "from sklearn.linear_model import LinearRegression\n",
    "from sklearn.tree import DecisionTreeRegressor\n",
    "from sklearn.ensemble import RandomForestRegressor\n",
    "from sklearn.metrics import mean_squared_error"
   ]
  },
  {
   "cell_type": "code",
   "execution_count": 2,
   "metadata": {},
   "outputs": [
    {
     "data": {
      "text/html": [
       "<div>\n",
       "<style scoped>\n",
       "    .dataframe tbody tr th:only-of-type {\n",
       "        vertical-align: middle;\n",
       "    }\n",
       "\n",
       "    .dataframe tbody tr th {\n",
       "        vertical-align: top;\n",
       "    }\n",
       "\n",
       "    .dataframe thead th {\n",
       "        text-align: right;\n",
       "    }\n",
       "</style>\n",
       "<table border=\"1\" class=\"dataframe\">\n",
       "  <thead>\n",
       "    <tr style=\"text-align: right;\">\n",
       "      <th></th>\n",
       "      <th>num_orders</th>\n",
       "    </tr>\n",
       "    <tr>\n",
       "      <th>datetime</th>\n",
       "      <th></th>\n",
       "    </tr>\n",
       "  </thead>\n",
       "  <tbody>\n",
       "    <tr>\n",
       "      <th>2018-03-01 00:00:00</th>\n",
       "      <td>9</td>\n",
       "    </tr>\n",
       "    <tr>\n",
       "      <th>2018-03-01 00:10:00</th>\n",
       "      <td>14</td>\n",
       "    </tr>\n",
       "    <tr>\n",
       "      <th>2018-03-01 00:20:00</th>\n",
       "      <td>28</td>\n",
       "    </tr>\n",
       "    <tr>\n",
       "      <th>2018-03-01 00:30:00</th>\n",
       "      <td>20</td>\n",
       "    </tr>\n",
       "    <tr>\n",
       "      <th>2018-03-01 00:40:00</th>\n",
       "      <td>32</td>\n",
       "    </tr>\n",
       "    <tr>\n",
       "      <th>...</th>\n",
       "      <td>...</td>\n",
       "    </tr>\n",
       "    <tr>\n",
       "      <th>2018-08-31 23:10:00</th>\n",
       "      <td>32</td>\n",
       "    </tr>\n",
       "    <tr>\n",
       "      <th>2018-08-31 23:20:00</th>\n",
       "      <td>24</td>\n",
       "    </tr>\n",
       "    <tr>\n",
       "      <th>2018-08-31 23:30:00</th>\n",
       "      <td>27</td>\n",
       "    </tr>\n",
       "    <tr>\n",
       "      <th>2018-08-31 23:40:00</th>\n",
       "      <td>39</td>\n",
       "    </tr>\n",
       "    <tr>\n",
       "      <th>2018-08-31 23:50:00</th>\n",
       "      <td>53</td>\n",
       "    </tr>\n",
       "  </tbody>\n",
       "</table>\n",
       "<p>26496 rows × 1 columns</p>\n",
       "</div>"
      ],
      "text/plain": [
       "                     num_orders\n",
       "datetime                       \n",
       "2018-03-01 00:00:00           9\n",
       "2018-03-01 00:10:00          14\n",
       "2018-03-01 00:20:00          28\n",
       "2018-03-01 00:30:00          20\n",
       "2018-03-01 00:40:00          32\n",
       "...                         ...\n",
       "2018-08-31 23:10:00          32\n",
       "2018-08-31 23:20:00          24\n",
       "2018-08-31 23:30:00          27\n",
       "2018-08-31 23:40:00          39\n",
       "2018-08-31 23:50:00          53\n",
       "\n",
       "[26496 rows x 1 columns]"
      ]
     },
     "execution_count": 2,
     "metadata": {},
     "output_type": "execute_result"
    }
   ],
   "source": [
    "# cargar dataset\n",
    "data = pd.read_csv('/datasets/taxi.csv', index_col=[0], parse_dates=[0])\n",
    "data"
   ]
  },
  {
   "cell_type": "code",
   "execution_count": 3,
   "metadata": {},
   "outputs": [
    {
     "name": "stdout",
     "output_type": "stream",
     "text": [
      "num_orders    0\n",
      "dtype: int64\n",
      "         num_orders\n",
      "count  26496.000000\n",
      "mean      14.070463\n",
      "std        9.211330\n",
      "min        0.000000\n",
      "25%        8.000000\n",
      "50%       13.000000\n",
      "75%       19.000000\n",
      "max      119.000000\n",
      "\n",
      "num_orders\n",
      "0             537\n",
      "1             584\n",
      "2             595\n",
      "3             661\n",
      "4             820\n",
      "             ... \n",
      "94              1\n",
      "95              1\n",
      "98              1\n",
      "99              1\n",
      "119             2\n",
      "Length: 81, dtype: int64\n"
     ]
    }
   ],
   "source": [
    "#revisar si hay valores nulos, y si existen outliers\n",
    "print(data.isna().sum())\n",
    "print(data.describe())\n",
    "print()\n",
    "print(data.value_counts(sort=False))"
   ]
  },
  {
   "cell_type": "code",
   "execution_count": 4,
   "metadata": {},
   "outputs": [
    {
     "name": "stdout",
     "output_type": "stream",
     "text": [
      "True\n"
     ]
    }
   ],
   "source": [
    "# revisar si el orden del dataset es cronológico\n",
    "data.sort_index(inplace=True)\n",
    "print(data.index.is_monotonic_increasing)\n"
   ]
  },
  {
   "cell_type": "code",
   "execution_count": 5,
   "metadata": {},
   "outputs": [
    {
     "data": {
      "text/html": [
       "<div>\n",
       "<style scoped>\n",
       "    .dataframe tbody tr th:only-of-type {\n",
       "        vertical-align: middle;\n",
       "    }\n",
       "\n",
       "    .dataframe tbody tr th {\n",
       "        vertical-align: top;\n",
       "    }\n",
       "\n",
       "    .dataframe thead th {\n",
       "        text-align: right;\n",
       "    }\n",
       "</style>\n",
       "<table border=\"1\" class=\"dataframe\">\n",
       "  <thead>\n",
       "    <tr style=\"text-align: right;\">\n",
       "      <th></th>\n",
       "      <th>num_orders</th>\n",
       "    </tr>\n",
       "    <tr>\n",
       "      <th>datetime</th>\n",
       "      <th></th>\n",
       "    </tr>\n",
       "  </thead>\n",
       "  <tbody>\n",
       "    <tr>\n",
       "      <th>2018-03-01 00:00:00</th>\n",
       "      <td>124</td>\n",
       "    </tr>\n",
       "    <tr>\n",
       "      <th>2018-03-01 01:00:00</th>\n",
       "      <td>85</td>\n",
       "    </tr>\n",
       "    <tr>\n",
       "      <th>2018-03-01 02:00:00</th>\n",
       "      <td>71</td>\n",
       "    </tr>\n",
       "    <tr>\n",
       "      <th>2018-03-01 03:00:00</th>\n",
       "      <td>66</td>\n",
       "    </tr>\n",
       "    <tr>\n",
       "      <th>2018-03-01 04:00:00</th>\n",
       "      <td>43</td>\n",
       "    </tr>\n",
       "    <tr>\n",
       "      <th>...</th>\n",
       "      <td>...</td>\n",
       "    </tr>\n",
       "    <tr>\n",
       "      <th>2018-08-31 19:00:00</th>\n",
       "      <td>136</td>\n",
       "    </tr>\n",
       "    <tr>\n",
       "      <th>2018-08-31 20:00:00</th>\n",
       "      <td>154</td>\n",
       "    </tr>\n",
       "    <tr>\n",
       "      <th>2018-08-31 21:00:00</th>\n",
       "      <td>159</td>\n",
       "    </tr>\n",
       "    <tr>\n",
       "      <th>2018-08-31 22:00:00</th>\n",
       "      <td>223</td>\n",
       "    </tr>\n",
       "    <tr>\n",
       "      <th>2018-08-31 23:00:00</th>\n",
       "      <td>205</td>\n",
       "    </tr>\n",
       "  </tbody>\n",
       "</table>\n",
       "<p>4416 rows × 1 columns</p>\n",
       "</div>"
      ],
      "text/plain": [
       "                     num_orders\n",
       "datetime                       \n",
       "2018-03-01 00:00:00         124\n",
       "2018-03-01 01:00:00          85\n",
       "2018-03-01 02:00:00          71\n",
       "2018-03-01 03:00:00          66\n",
       "2018-03-01 04:00:00          43\n",
       "...                         ...\n",
       "2018-08-31 19:00:00         136\n",
       "2018-08-31 20:00:00         154\n",
       "2018-08-31 21:00:00         159\n",
       "2018-08-31 22:00:00         223\n",
       "2018-08-31 23:00:00         205\n",
       "\n",
       "[4416 rows x 1 columns]"
      ]
     },
     "execution_count": 5,
     "metadata": {},
     "output_type": "execute_result"
    }
   ],
   "source": [
    "# aplicar remuestreo en intervalos de 1 hora\n",
    "data = data.resample('1H').sum()\n",
    "data"
   ]
  },
  {
   "cell_type": "markdown",
   "metadata": {},
   "source": [
    "## Análisis"
   ]
  },
  {
   "cell_type": "code",
   "execution_count": 6,
   "metadata": {},
   "outputs": [
    {
     "data": {
      "text/plain": [
       "<AxesSubplot:xlabel='datetime'>"
      ]
     },
     "execution_count": 6,
     "metadata": {},
     "output_type": "execute_result"
    },
    {
     "data": {
      "image/png": "[encoded data removed]",
      "text/plain": [
       "<Figure size 640x480 with 1 Axes>"
      ]
     },
     "metadata": {},
     "output_type": "display_data"
    }
   ],
   "source": [
    "data_copy = data.copy()\n",
    "data_copy.plot()"
   ]
  },
  {
   "cell_type": "code",
   "execution_count": 7,
   "metadata": {},
   "outputs": [
    {
     "data": {
      "image/png": "[encoded data removed]",
      "text/plain": [
       "<Figure size 600x800 with 3 Axes>"
      ]
     },
     "metadata": {},
     "output_type": "display_data"
    }
   ],
   "source": [
    "#análisis de las series temporales\n",
    "decomposed = seasonal_decompose(data_copy)\n",
    "\n",
    "plt.figure(figsize=(6, 8))\n",
    "plt.subplot(311)\n",
    "decomposed.trend.plot(ax=plt.gca())\n",
    "plt.title('Tendencia')\n",
    "plt.subplot(312)\n",
    "decomposed.seasonal.plot(ax=plt.gca())\n",
    "plt.title('Estacionalidad')\n",
    "plt.subplot(313)\n",
    "decomposed.resid.plot(ax=plt.gca())\n",
    "plt.title('Residuos')\n",
    "plt.tight_layout()\n"
   ]
  },
  {
   "cell_type": "markdown",
   "metadata": {},
   "source": [
    "En el gráfico de tendencia se observa un crecimiento general desde marzo hasta agosto de 2018, donde a pesar del ruido o fluctuaciones diarias, el valor general aumenta. Esto podría deberse a factores como un aumento en la demanda, crecimiento del mercado, etc.\n",
    "\n",
    "El gráfico de estacionalidad sugiere un patrón repetitivo muy marcado que parece variar en ciclos muy cortos (probablemente diarios) donde la amplitud es relativamente constante (de -60 a +60), por lo que la estacionalidad no está cambiando mucho a lo largo del tiempo.\n",
    "\n",
    "También, las gráficas sugieren que la serie no es estacionaria, porque tiene una tendencia ascendente."
   ]
  },
  {
   "cell_type": "code",
   "execution_count": 8,
   "metadata": {},
   "outputs": [
    {
     "data": {
      "text/plain": [
       "<AxesSubplot:xlabel='datetime'>"
      ]
     },
     "execution_count": 8,
     "metadata": {},
     "output_type": "execute_result"
    },
    {
     "data": {
      "image/png": "[encoded data removed]",
      "text/plain": [
       "<Figure size 640x480 with 1 Axes>"
      ]
     },
     "metadata": {},
     "output_type": "display_data"
    }
   ],
   "source": [
    "# obtener la media móvil con una ventana de 168, para suavizar una semana completa\n",
    "data_copy['rolling_mean'] = data_copy.rolling(168).mean()\n",
    "data_copy.plot()\n"
   ]
  },
  {
   "cell_type": "markdown",
   "metadata": {},
   "source": [
    "La media móvil confirma que la serie no es estacionaria."
   ]
  },
  {
   "cell_type": "code",
   "execution_count": 9,
   "metadata": {},
   "outputs": [
    {
     "data": {
      "text/plain": [
       "<AxesSubplot:xlabel='datetime'>"
      ]
     },
     "execution_count": 9,
     "metadata": {},
     "output_type": "execute_result"
    },
    {
     "data": {
      "image/png": "[encoded data removed]",
      "text/plain": [
       "<Figure size 640x480 with 1 Axes>"
      ]
     },
     "metadata": {},
     "output_type": "display_data"
    }
   ],
   "source": [
    "# encontrar la diferencia de la serie temporal para volverla estacionaria\n",
    "data_copy -= data_copy.shift()\n",
    "data_copy['std'] = data_copy['num_orders'].rolling(168).std()\n",
    "data_copy.plot()\n"
   ]
  },
  {
   "cell_type": "markdown",
   "metadata": {},
   "source": [
    "## Formación"
   ]
  },
  {
   "cell_type": "code",
   "execution_count": 10,
   "metadata": {},
   "outputs": [
    {
     "data": {
      "text/html": [
       "<div>\n",
       "<style scoped>\n",
       "    .dataframe tbody tr th:only-of-type {\n",
       "        vertical-align: middle;\n",
       "    }\n",
       "\n",
       "    .dataframe tbody tr th {\n",
       "        vertical-align: top;\n",
       "    }\n",
       "\n",
       "    .dataframe thead th {\n",
       "        text-align: right;\n",
       "    }\n",
       "</style>\n",
       "<table border=\"1\" class=\"dataframe\">\n",
       "  <thead>\n",
       "    <tr style=\"text-align: right;\">\n",
       "      <th></th>\n",
       "      <th>num_orders</th>\n",
       "      <th>year</th>\n",
       "      <th>month</th>\n",
       "      <th>day</th>\n",
       "      <th>dayofweek</th>\n",
       "      <th>lag_1</th>\n",
       "      <th>lag_2</th>\n",
       "      <th>lag_3</th>\n",
       "      <th>lag_4</th>\n",
       "      <th>lag_5</th>\n",
       "      <th>...</th>\n",
       "      <th>lag_112</th>\n",
       "      <th>lag_113</th>\n",
       "      <th>lag_114</th>\n",
       "      <th>lag_115</th>\n",
       "      <th>lag_116</th>\n",
       "      <th>lag_117</th>\n",
       "      <th>lag_118</th>\n",
       "      <th>lag_119</th>\n",
       "      <th>lag_120</th>\n",
       "      <th>rolling_mean</th>\n",
       "    </tr>\n",
       "    <tr>\n",
       "      <th>datetime</th>\n",
       "      <th></th>\n",
       "      <th></th>\n",
       "      <th></th>\n",
       "      <th></th>\n",
       "      <th></th>\n",
       "      <th></th>\n",
       "      <th></th>\n",
       "      <th></th>\n",
       "      <th></th>\n",
       "      <th></th>\n",
       "      <th></th>\n",
       "      <th></th>\n",
       "      <th></th>\n",
       "      <th></th>\n",
       "      <th></th>\n",
       "      <th></th>\n",
       "      <th></th>\n",
       "      <th></th>\n",
       "      <th></th>\n",
       "      <th></th>\n",
       "      <th></th>\n",
       "    </tr>\n",
       "  </thead>\n",
       "  <tbody>\n",
       "    <tr>\n",
       "      <th>2018-03-01 00:00:00</th>\n",
       "      <td>124</td>\n",
       "      <td>2018</td>\n",
       "      <td>3</td>\n",
       "      <td>1</td>\n",
       "      <td>3</td>\n",
       "      <td>NaN</td>\n",
       "      <td>NaN</td>\n",
       "      <td>NaN</td>\n",
       "      <td>NaN</td>\n",
       "      <td>NaN</td>\n",
       "      <td>...</td>\n",
       "      <td>NaN</td>\n",
       "      <td>NaN</td>\n",
       "      <td>NaN</td>\n",
       "      <td>NaN</td>\n",
       "      <td>NaN</td>\n",
       "      <td>NaN</td>\n",
       "      <td>NaN</td>\n",
       "      <td>NaN</td>\n",
       "      <td>NaN</td>\n",
       "      <td>NaN</td>\n",
       "    </tr>\n",
       "    <tr>\n",
       "      <th>2018-03-01 01:00:00</th>\n",
       "      <td>85</td>\n",
       "      <td>2018</td>\n",
       "      <td>3</td>\n",
       "      <td>1</td>\n",
       "      <td>3</td>\n",
       "      <td>124.0</td>\n",
       "      <td>NaN</td>\n",
       "      <td>NaN</td>\n",
       "      <td>NaN</td>\n",
       "      <td>NaN</td>\n",
       "      <td>...</td>\n",
       "      <td>NaN</td>\n",
       "      <td>NaN</td>\n",
       "      <td>NaN</td>\n",
       "      <td>NaN</td>\n",
       "      <td>NaN</td>\n",
       "      <td>NaN</td>\n",
       "      <td>NaN</td>\n",
       "      <td>NaN</td>\n",
       "      <td>NaN</td>\n",
       "      <td>NaN</td>\n",
       "    </tr>\n",
       "    <tr>\n",
       "      <th>2018-03-01 02:00:00</th>\n",
       "      <td>71</td>\n",
       "      <td>2018</td>\n",
       "      <td>3</td>\n",
       "      <td>1</td>\n",
       "      <td>3</td>\n",
       "      <td>85.0</td>\n",
       "      <td>124.0</td>\n",
       "      <td>NaN</td>\n",
       "      <td>NaN</td>\n",
       "      <td>NaN</td>\n",
       "      <td>...</td>\n",
       "      <td>NaN</td>\n",
       "      <td>NaN</td>\n",
       "      <td>NaN</td>\n",
       "      <td>NaN</td>\n",
       "      <td>NaN</td>\n",
       "      <td>NaN</td>\n",
       "      <td>NaN</td>\n",
       "      <td>NaN</td>\n",
       "      <td>NaN</td>\n",
       "      <td>NaN</td>\n",
       "    </tr>\n",
       "    <tr>\n",
       "      <th>2018-03-01 03:00:00</th>\n",
       "      <td>66</td>\n",
       "      <td>2018</td>\n",
       "      <td>3</td>\n",
       "      <td>1</td>\n",
       "      <td>3</td>\n",
       "      <td>71.0</td>\n",
       "      <td>85.0</td>\n",
       "      <td>124.0</td>\n",
       "      <td>NaN</td>\n",
       "      <td>NaN</td>\n",
       "      <td>...</td>\n",
       "      <td>NaN</td>\n",
       "      <td>NaN</td>\n",
       "      <td>NaN</td>\n",
       "      <td>NaN</td>\n",
       "      <td>NaN</td>\n",
       "      <td>NaN</td>\n",
       "      <td>NaN</td>\n",
       "      <td>NaN</td>\n",
       "      <td>NaN</td>\n",
       "      <td>NaN</td>\n",
       "    </tr>\n",
       "    <tr>\n",
       "      <th>2018-03-01 04:00:00</th>\n",
       "      <td>43</td>\n",
       "      <td>2018</td>\n",
       "      <td>3</td>\n",
       "      <td>1</td>\n",
       "      <td>3</td>\n",
       "      <td>66.0</td>\n",
       "      <td>71.0</td>\n",
       "      <td>85.0</td>\n",
       "      <td>124.0</td>\n",
       "      <td>NaN</td>\n",
       "      <td>...</td>\n",
       "      <td>NaN</td>\n",
       "      <td>NaN</td>\n",
       "      <td>NaN</td>\n",
       "      <td>NaN</td>\n",
       "      <td>NaN</td>\n",
       "      <td>NaN</td>\n",
       "      <td>NaN</td>\n",
       "      <td>NaN</td>\n",
       "      <td>NaN</td>\n",
       "      <td>NaN</td>\n",
       "    </tr>\n",
       "    <tr>\n",
       "      <th>...</th>\n",
       "      <td>...</td>\n",
       "      <td>...</td>\n",
       "      <td>...</td>\n",
       "      <td>...</td>\n",
       "      <td>...</td>\n",
       "      <td>...</td>\n",
       "      <td>...</td>\n",
       "      <td>...</td>\n",
       "      <td>...</td>\n",
       "      <td>...</td>\n",
       "      <td>...</td>\n",
       "      <td>...</td>\n",
       "      <td>...</td>\n",
       "      <td>...</td>\n",
       "      <td>...</td>\n",
       "      <td>...</td>\n",
       "      <td>...</td>\n",
       "      <td>...</td>\n",
       "      <td>...</td>\n",
       "      <td>...</td>\n",
       "      <td>...</td>\n",
       "    </tr>\n",
       "    <tr>\n",
       "      <th>2018-08-31 19:00:00</th>\n",
       "      <td>136</td>\n",
       "      <td>2018</td>\n",
       "      <td>8</td>\n",
       "      <td>31</td>\n",
       "      <td>4</td>\n",
       "      <td>207.0</td>\n",
       "      <td>217.0</td>\n",
       "      <td>197.0</td>\n",
       "      <td>116.0</td>\n",
       "      <td>133.0</td>\n",
       "      <td>...</td>\n",
       "      <td>208.0</td>\n",
       "      <td>408.0</td>\n",
       "      <td>222.0</td>\n",
       "      <td>263.0</td>\n",
       "      <td>238.0</td>\n",
       "      <td>145.0</td>\n",
       "      <td>107.0</td>\n",
       "      <td>122.0</td>\n",
       "      <td>126.0</td>\n",
       "      <td>170.895833</td>\n",
       "    </tr>\n",
       "    <tr>\n",
       "      <th>2018-08-31 20:00:00</th>\n",
       "      <td>154</td>\n",
       "      <td>2018</td>\n",
       "      <td>8</td>\n",
       "      <td>31</td>\n",
       "      <td>4</td>\n",
       "      <td>136.0</td>\n",
       "      <td>207.0</td>\n",
       "      <td>217.0</td>\n",
       "      <td>197.0</td>\n",
       "      <td>116.0</td>\n",
       "      <td>...</td>\n",
       "      <td>295.0</td>\n",
       "      <td>208.0</td>\n",
       "      <td>408.0</td>\n",
       "      <td>222.0</td>\n",
       "      <td>263.0</td>\n",
       "      <td>238.0</td>\n",
       "      <td>145.0</td>\n",
       "      <td>107.0</td>\n",
       "      <td>122.0</td>\n",
       "      <td>170.208333</td>\n",
       "    </tr>\n",
       "    <tr>\n",
       "      <th>2018-08-31 21:00:00</th>\n",
       "      <td>159</td>\n",
       "      <td>2018</td>\n",
       "      <td>8</td>\n",
       "      <td>31</td>\n",
       "      <td>4</td>\n",
       "      <td>154.0</td>\n",
       "      <td>136.0</td>\n",
       "      <td>207.0</td>\n",
       "      <td>217.0</td>\n",
       "      <td>197.0</td>\n",
       "      <td>...</td>\n",
       "      <td>62.0</td>\n",
       "      <td>295.0</td>\n",
       "      <td>208.0</td>\n",
       "      <td>408.0</td>\n",
       "      <td>222.0</td>\n",
       "      <td>263.0</td>\n",
       "      <td>238.0</td>\n",
       "      <td>145.0</td>\n",
       "      <td>107.0</td>\n",
       "      <td>169.437500</td>\n",
       "    </tr>\n",
       "    <tr>\n",
       "      <th>2018-08-31 22:00:00</th>\n",
       "      <td>223</td>\n",
       "      <td>2018</td>\n",
       "      <td>8</td>\n",
       "      <td>31</td>\n",
       "      <td>4</td>\n",
       "      <td>159.0</td>\n",
       "      <td>154.0</td>\n",
       "      <td>136.0</td>\n",
       "      <td>207.0</td>\n",
       "      <td>217.0</td>\n",
       "      <td>...</td>\n",
       "      <td>31.0</td>\n",
       "      <td>62.0</td>\n",
       "      <td>295.0</td>\n",
       "      <td>208.0</td>\n",
       "      <td>408.0</td>\n",
       "      <td>222.0</td>\n",
       "      <td>263.0</td>\n",
       "      <td>238.0</td>\n",
       "      <td>145.0</td>\n",
       "      <td>169.208333</td>\n",
       "    </tr>\n",
       "    <tr>\n",
       "      <th>2018-08-31 23:00:00</th>\n",
       "      <td>205</td>\n",
       "      <td>2018</td>\n",
       "      <td>8</td>\n",
       "      <td>31</td>\n",
       "      <td>4</td>\n",
       "      <td>223.0</td>\n",
       "      <td>159.0</td>\n",
       "      <td>154.0</td>\n",
       "      <td>136.0</td>\n",
       "      <td>207.0</td>\n",
       "      <td>...</td>\n",
       "      <td>37.0</td>\n",
       "      <td>31.0</td>\n",
       "      <td>62.0</td>\n",
       "      <td>295.0</td>\n",
       "      <td>208.0</td>\n",
       "      <td>408.0</td>\n",
       "      <td>222.0</td>\n",
       "      <td>263.0</td>\n",
       "      <td>238.0</td>\n",
       "      <td>170.166667</td>\n",
       "    </tr>\n",
       "  </tbody>\n",
       "</table>\n",
       "<p>4416 rows × 126 columns</p>\n",
       "</div>"
      ],
      "text/plain": [
       "                     num_orders  year  month  day  dayofweek  lag_1  lag_2  \\\n",
       "datetime                                                                     \n",
       "2018-03-01 00:00:00         124  2018      3    1          3    NaN    NaN   \n",
       "2018-03-01 01:00:00          85  2018      3    1          3  124.0    NaN   \n",
       "2018-03-01 02:00:00          71  2018      3    1          3   85.0  124.0   \n",
       "2018-03-01 03:00:00          66  2018      3    1          3   71.0   85.0   \n",
       "2018-03-01 04:00:00          43  2018      3    1          3   66.0   71.0   \n",
       "...                         ...   ...    ...  ...        ...    ...    ...   \n",
       "2018-08-31 19:00:00         136  2018      8   31          4  207.0  217.0   \n",
       "2018-08-31 20:00:00         154  2018      8   31          4  136.0  207.0   \n",
       "2018-08-31 21:00:00         159  2018      8   31          4  154.0  136.0   \n",
       "2018-08-31 22:00:00         223  2018      8   31          4  159.0  154.0   \n",
       "2018-08-31 23:00:00         205  2018      8   31          4  223.0  159.0   \n",
       "\n",
       "                     lag_3  lag_4  lag_5  ...  lag_112  lag_113  lag_114  \\\n",
       "datetime                                  ...                              \n",
       "2018-03-01 00:00:00    NaN    NaN    NaN  ...      NaN      NaN      NaN   \n",
       "2018-03-01 01:00:00    NaN    NaN    NaN  ...      NaN      NaN      NaN   \n",
       "2018-03-01 02:00:00    NaN    NaN    NaN  ...      NaN      NaN      NaN   \n",
       "2018-03-01 03:00:00  124.0    NaN    NaN  ...      NaN      NaN      NaN   \n",
       "2018-03-01 04:00:00   85.0  124.0    NaN  ...      NaN      NaN      NaN   \n",
       "...                    ...    ...    ...  ...      ...      ...      ...   \n",
       "2018-08-31 19:00:00  197.0  116.0  133.0  ...    208.0    408.0    222.0   \n",
       "2018-08-31 20:00:00  217.0  197.0  116.0  ...    295.0    208.0    408.0   \n",
       "2018-08-31 21:00:00  207.0  217.0  197.0  ...     62.0    295.0    208.0   \n",
       "2018-08-31 22:00:00  136.0  207.0  217.0  ...     31.0     62.0    295.0   \n",
       "2018-08-31 23:00:00  154.0  136.0  207.0  ...     37.0     31.0     62.0   \n",
       "\n",
       "                     lag_115  lag_116  lag_117  lag_118  lag_119  lag_120  \\\n",
       "datetime                                                                    \n",
       "2018-03-01 00:00:00      NaN      NaN      NaN      NaN      NaN      NaN   \n",
       "2018-03-01 01:00:00      NaN      NaN      NaN      NaN      NaN      NaN   \n",
       "2018-03-01 02:00:00      NaN      NaN      NaN      NaN      NaN      NaN   \n",
       "2018-03-01 03:00:00      NaN      NaN      NaN      NaN      NaN      NaN   \n",
       "2018-03-01 04:00:00      NaN      NaN      NaN      NaN      NaN      NaN   \n",
       "...                      ...      ...      ...      ...      ...      ...   \n",
       "2018-08-31 19:00:00    263.0    238.0    145.0    107.0    122.0    126.0   \n",
       "2018-08-31 20:00:00    222.0    263.0    238.0    145.0    107.0    122.0   \n",
       "2018-08-31 21:00:00    408.0    222.0    263.0    238.0    145.0    107.0   \n",
       "2018-08-31 22:00:00    208.0    408.0    222.0    263.0    238.0    145.0   \n",
       "2018-08-31 23:00:00    295.0    208.0    408.0    222.0    263.0    238.0   \n",
       "\n",
       "                     rolling_mean  \n",
       "datetime                           \n",
       "2018-03-01 00:00:00           NaN  \n",
       "2018-03-01 01:00:00           NaN  \n",
       "2018-03-01 02:00:00           NaN  \n",
       "2018-03-01 03:00:00           NaN  \n",
       "2018-03-01 04:00:00           NaN  \n",
       "...                           ...  \n",
       "2018-08-31 19:00:00    170.895833  \n",
       "2018-08-31 20:00:00    170.208333  \n",
       "2018-08-31 21:00:00    169.437500  \n",
       "2018-08-31 22:00:00    169.208333  \n",
       "2018-08-31 23:00:00    170.166667  \n",
       "\n",
       "[4416 rows x 126 columns]"
      ]
     },
     "execution_count": 10,
     "metadata": {},
     "output_type": "execute_result"
    }
   ],
   "source": [
    "#crear columnas para entrenar el modelo\n",
    "\n",
    "def make_features(data, max_lag, rolling_mean_size):\n",
    "    data['year'] = data.index.year\n",
    "    data['month'] = data.index.month\n",
    "    data['day'] = data.index.day\n",
    "    data['dayofweek'] = data.index.dayofweek\n",
    "\n",
    "    for lag in range(1, max_lag + 1):\n",
    "        data['lag_{}'.format(lag)] = data['num_orders'].shift(lag)\n",
    "\n",
    "    data['rolling_mean'] = (\n",
    "        data['num_orders'].shift().rolling(rolling_mean_size).mean()\n",
    "    )\n",
    "\n",
    "# max lag de 120 para tener 5 días de historial, y rolling mean size de 48 para suavizar dos días\n",
    "make_features(data, 120, 48)\n",
    "\n",
    "data\n"
   ]
  },
  {
   "cell_type": "code",
   "execution_count": 11,
   "metadata": {},
   "outputs": [],
   "source": [
    "#crear conjuntos de entrenamiento y prueba\n",
    "\n",
    "train, test = train_test_split(data, shuffle=False, test_size=0.1)\n",
    "train = train.dropna()\n",
    "\n",
    "features_train = train.drop(['num_orders'], axis=1)\n",
    "target_train = train['num_orders']\n",
    "features_test = test.drop(['num_orders'], axis=1)\n",
    "target_test = test['num_orders']\n"
   ]
  },
  {
   "cell_type": "code",
   "execution_count": 12,
   "metadata": {},
   "outputs": [
    {
     "name": "stdout",
     "output_type": "stream",
     "text": [
      "RMSE para el conjunto de entrenamiento: 473.5513690014732\n"
     ]
    }
   ],
   "source": [
    "# entrenamiento de modelo de regresión lineal\n",
    "model_linear = LinearRegression()\n",
    "model_linear.fit(features_train, target_train)\n",
    "\n",
    "pred_train_linear = model_linear.predict(features_train)\n",
    "\n",
    "print(\"RMSE para el conjunto de entrenamiento:\",mean_squared_error(target_train, pred_train_linear)) "
   ]
  },
  {
   "cell_type": "code",
   "execution_count": 13,
   "metadata": {},
   "outputs": [
    {
     "name": "stdout",
     "output_type": "stream",
     "text": [
      "RMSE del mejor modelo en el conjunto de entrenamiento (max_depth = 5): 23.26069601643715\n"
     ]
    }
   ],
   "source": [
    "# entrenamiento de modelo de árbol de decisión\n",
    "best_model = None\n",
    "best_result = 10000\n",
    "best_depth = 0\n",
    "for depth in range(1, 6):\n",
    "    model_tree = DecisionTreeRegressor(random_state = 12345, max_depth=depth)\n",
    "    model_tree.fit(features_train, target_train) \n",
    "    pred_train_tree = model_tree.predict(features_train) \n",
    "    result = mean_squared_error(target_train, pred_train_tree)**0.5 \n",
    "    if result < best_result:\n",
    "        best_model = model_tree\n",
    "        best_result = result\n",
    "        best_depth = depth\n",
    "\n",
    "print(f\"RMSE del mejor modelo en el conjunto de entrenamiento (max_depth = {best_depth}): {best_result}\")\n"
   ]
  },
  {
   "cell_type": "code",
   "execution_count": 14,
   "metadata": {},
   "outputs": [
    {
     "name": "stdout",
     "output_type": "stream",
     "text": [
      "RMSE del mejor modelo en el conjunto de entrenamiento: 12.58907943356166 n_estimators: 40 best_depth: 10\n"
     ]
    }
   ],
   "source": [
    "# entrenamiento de modelo de bosque aleatorio\n",
    "best_error = 10000 # configura el inicio de RECM\n",
    "best_est = 0\n",
    "best_depth = 0\n",
    "for est in range(10, 51, 10):\n",
    "    for depth in range (1, 11):\n",
    "        model_forest = RandomForestRegressor(random_state = 54321, n_estimators = est, max_depth = depth)\n",
    "        model_forest.fit(features_train, target_train)\n",
    "        pred_train_forest = model_forest.predict(features_train) \n",
    "        error = mean_squared_error(target_train, pred_train_forest) ** 0.5 \n",
    "        if error < best_error: # guarda la configuración del modelo si se logra el error más bajo\n",
    "            best_error = error\n",
    "            best_est = est\n",
    "            best_depth = depth\n",
    "\n",
    "print(\"RMSE del mejor modelo en el conjunto de entrenamiento:\", best_error, \"n_estimators:\", best_est, \"best_depth:\", best_depth)\n"
   ]
  },
  {
   "cell_type": "markdown",
   "metadata": {},
   "source": [
    "## Prueba"
   ]
  },
  {
   "cell_type": "code",
   "execution_count": 15,
   "metadata": {},
   "outputs": [
    {
     "name": "stdout",
     "output_type": "stream",
     "text": [
      "RMSE para el conjunto de prueba: 40.25232705288978\n"
     ]
    }
   ],
   "source": [
    "# prueba de modelo de regresión lineal\n",
    "pred_test_linear = model_linear.predict(features_test)\n",
    "print(\"RMSE para el conjunto de prueba:\",mean_squared_error(target_test, pred_test_linear)**0.5) "
   ]
  },
  {
   "cell_type": "code",
   "execution_count": 16,
   "metadata": {},
   "outputs": [
    {
     "name": "stdout",
     "output_type": "stream",
     "text": [
      "RMSE para el conjunto de prueba: 56.37678075543206\n"
     ]
    }
   ],
   "source": [
    "#prueba de modelo de árbol de decisión\n",
    "#model_tree = DecisionTreeRegressor(random_state = 12345, max_depth=5)\n",
    "#model_tree.fit(features_train, target_train) \n",
    "pred_test_tree = model_tree.predict(features_test)\n",
    "result = mean_squared_error(target_test, pred_test_tree)**0.5\n",
    "print(\"RMSE para el conjunto de prueba:\", result)"
   ]
  },
  {
   "cell_type": "code",
   "execution_count": 17,
   "metadata": {},
   "outputs": [
    {
     "name": "stdout",
     "output_type": "stream",
     "text": [
      "RMSE para el conjunto de prueba: 40.16687644369476\n"
     ]
    }
   ],
   "source": [
    "#prueba de modelo de bosque aleatorio\n",
    "#model_forest = RandomForestRegressor(random_state = 54321, n_estimators = 40, max_depth = 10)\n",
    "#model_forest.fit(features_train, target_train)\n",
    "pred_test_forest = model_forest.predict(features_test)\n",
    "error = mean_squared_error(target_test, pred_test_forest) ** 0.5\n",
    "print(\"RMSE para el conjunto de prueba:\", error)"
   ]
  },
  {
   "cell_type": "markdown",
   "metadata": {},
   "source": [
    "## Conclusión"
   ]
  },
  {
   "cell_type": "markdown",
   "metadata": {},
   "source": [
    "Se aumentó el max_lag a 120 para añadir más memoria del pasado al modelo (5 días en intervalos de 1 hora) y la media móvil de 48 para suavizar el promedio. Con estos ajustes, se logró un RMSE de 40.16 en el conjunto de prueba con el bosque aleatorio, después de probar varios hiperparámetros con cada modelo.\n",
    "\n",
    "Hallazgos:\n",
    "Aumentar max lag: Se añade más memoria del pasado al modelo, por lo que tiene más datos de dónde aprender. Pero existe riesgo de agregar ruido o sobreajuste, y aumenta el costo computacional. \n",
    "\n",
    "Disminuir max_lag: menor riesgo de sobreajuste, pero también menos capacidad para detectar patrones de largo plazo debido a la menor información histórica\n",
    "\n",
    "Aumentar rolling_mean_size: el promedio se suaviza más, y vuelve más estacionaria la serie; mejora la captura de tendencias a largo plazo. Pero reacciona más lento a cambios.\n",
    "\n",
    "Disminuir rolling_mean_size: menos suave y serie más sensible al ruido. Responde más rápido a cambios.\n",
    "\n"
   ]
  }
 ],
 "metadata": {
  "ExecuteTimeLog": [
   {
    "duration": 158,
    "start_time": "2025-04-21T18:31:52.487Z"
   },
   {
    "duration": 781,
    "start_time": "2025-04-21T18:31:55.640Z"
   },
   {
    "duration": 40,
    "start_time": "2025-04-21T18:31:58.104Z"
   },
   {
    "duration": 25,
    "start_time": "2025-04-21T18:32:29.369Z"
   },
   {
    "duration": 3,
    "start_time": "2025-04-21T18:33:56.079Z"
   },
   {
    "duration": 11,
    "start_time": "2025-04-21T18:34:21.407Z"
   },
   {
    "duration": 10,
    "start_time": "2025-04-21T18:34:46.861Z"
   },
   {
    "duration": 24,
    "start_time": "2025-04-21T18:37:30.815Z"
   },
   {
    "duration": 2091,
    "start_time": "2025-04-21T18:37:37.840Z"
   },
   {
    "duration": 198,
    "start_time": "2025-04-21T18:38:26.171Z"
   },
   {
    "duration": 794,
    "start_time": "2025-04-21T18:41:19.237Z"
   },
   {
    "duration": 27,
    "start_time": "2025-04-21T18:41:20.034Z"
   },
   {
    "duration": 5,
    "start_time": "2025-04-21T18:41:20.062Z"
   },
   {
    "duration": 0,
    "start_time": "2025-04-21T18:41:20.068Z"
   },
   {
    "duration": 0,
    "start_time": "2025-04-21T18:41:20.069Z"
   },
   {
    "duration": 0,
    "start_time": "2025-04-21T18:41:20.070Z"
   },
   {
    "duration": 3,
    "start_time": "2025-04-21T18:41:34.461Z"
   },
   {
    "duration": 11,
    "start_time": "2025-04-21T18:41:37.142Z"
   },
   {
    "duration": 365,
    "start_time": "2025-04-21T18:41:39.723Z"
   },
   {
    "duration": 219,
    "start_time": "2025-04-21T18:41:46.428Z"
   },
   {
    "duration": 256,
    "start_time": "2025-04-21T18:43:22.791Z"
   },
   {
    "duration": 3,
    "start_time": "2025-04-21T18:43:28.597Z"
   },
   {
    "duration": 26,
    "start_time": "2025-04-21T18:43:32.530Z"
   },
   {
    "duration": 796,
    "start_time": "2025-04-21T18:44:06.130Z"
   },
   {
    "duration": 168,
    "start_time": "2025-04-21T18:44:06.928Z"
   },
   {
    "duration": 4,
    "start_time": "2025-04-21T18:44:07.098Z"
   },
   {
    "duration": 10,
    "start_time": "2025-04-21T18:44:07.104Z"
   },
   {
    "duration": 373,
    "start_time": "2025-04-21T18:44:07.115Z"
   },
   {
    "duration": 229,
    "start_time": "2025-04-21T18:44:07.490Z"
   },
   {
    "duration": 258,
    "start_time": "2025-04-21T18:44:07.721Z"
   },
   {
    "duration": 510,
    "start_time": "2025-04-21T18:44:56.891Z"
   },
   {
    "duration": 162,
    "start_time": "2025-04-22T07:42:50.160Z"
   },
   {
    "duration": 782,
    "start_time": "2025-04-22T07:43:00.216Z"
   },
   {
    "duration": 35,
    "start_time": "2025-04-22T07:43:01.000Z"
   },
   {
    "duration": 3,
    "start_time": "2025-04-22T07:43:01.037Z"
   },
   {
    "duration": 11,
    "start_time": "2025-04-22T07:43:01.043Z"
   },
   {
    "duration": 2131,
    "start_time": "2025-04-22T07:43:01.056Z"
   },
   {
    "duration": 223,
    "start_time": "2025-04-22T07:43:03.189Z"
   },
   {
    "duration": 711,
    "start_time": "2025-04-22T07:43:03.414Z"
   },
   {
    "duration": 13,
    "start_time": "2025-04-22T07:43:50.703Z"
   },
   {
    "duration": 4,
    "start_time": "2025-04-22T07:44:15.243Z"
   },
   {
    "duration": 205,
    "start_time": "2025-04-22T07:44:27.513Z"
   },
   {
    "duration": 210,
    "start_time": "2025-04-22T07:44:41.457Z"
   },
   {
    "duration": 206,
    "start_time": "2025-04-22T07:44:50.697Z"
   },
   {
    "duration": 208,
    "start_time": "2025-04-22T07:45:00.668Z"
   },
   {
    "duration": 301,
    "start_time": "2025-04-22T07:45:08.520Z"
   },
   {
    "duration": 208,
    "start_time": "2025-04-22T07:45:16.079Z"
   },
   {
    "duration": 968,
    "start_time": "2025-04-22T07:45:27.657Z"
   },
   {
    "duration": 28,
    "start_time": "2025-04-22T07:45:28.627Z"
   },
   {
    "duration": 4,
    "start_time": "2025-04-22T07:45:28.657Z"
   },
   {
    "duration": 13,
    "start_time": "2025-04-22T07:45:28.664Z"
   },
   {
    "duration": 205,
    "start_time": "2025-04-22T07:45:28.679Z"
   },
   {
    "duration": 218,
    "start_time": "2025-04-22T07:45:28.886Z"
   },
   {
    "duration": 649,
    "start_time": "2025-04-22T07:45:29.105Z"
   },
   {
    "duration": 384,
    "start_time": "2025-04-22T07:46:15.360Z"
   },
   {
    "duration": 11,
    "start_time": "2025-04-22T07:46:56.768Z"
   },
   {
    "duration": 5,
    "start_time": "2025-04-22T07:47:50.549Z"
   },
   {
    "duration": 1002,
    "start_time": "2025-04-22T07:48:00.866Z"
   },
   {
    "duration": 26,
    "start_time": "2025-04-22T07:48:01.870Z"
   },
   {
    "duration": 4,
    "start_time": "2025-04-22T07:48:01.897Z"
   },
   {
    "duration": 3,
    "start_time": "2025-04-22T07:48:01.902Z"
   },
   {
    "duration": 27,
    "start_time": "2025-04-22T07:48:01.908Z"
   },
   {
    "duration": 219,
    "start_time": "2025-04-22T07:48:01.936Z"
   },
   {
    "duration": 257,
    "start_time": "2025-04-22T07:48:02.158Z"
   },
   {
    "duration": 278,
    "start_time": "2025-04-22T07:48:02.418Z"
   },
   {
    "duration": 12,
    "start_time": "2025-04-22T07:48:02.699Z"
   },
   {
    "duration": 295,
    "start_time": "2025-04-22T07:50:10.646Z"
   },
   {
    "duration": 963,
    "start_time": "2025-04-22T07:50:57.035Z"
   },
   {
    "duration": 26,
    "start_time": "2025-04-22T07:50:58.000Z"
   },
   {
    "duration": 5,
    "start_time": "2025-04-22T07:50:58.031Z"
   },
   {
    "duration": 4,
    "start_time": "2025-04-22T07:50:58.038Z"
   },
   {
    "duration": 11,
    "start_time": "2025-04-22T07:50:58.045Z"
   },
   {
    "duration": 215,
    "start_time": "2025-04-22T07:50:58.058Z"
   },
   {
    "duration": 229,
    "start_time": "2025-04-22T07:50:58.275Z"
   },
   {
    "duration": 247,
    "start_time": "2025-04-22T07:50:58.506Z"
   },
   {
    "duration": 11,
    "start_time": "2025-04-22T07:50:58.756Z"
   },
   {
    "duration": 297,
    "start_time": "2025-04-22T07:51:41.150Z"
   },
   {
    "duration": 357,
    "start_time": "2025-04-22T07:51:59.094Z"
   },
   {
    "duration": 972,
    "start_time": "2025-04-22T07:52:24.145Z"
   },
   {
    "duration": 30,
    "start_time": "2025-04-22T07:52:25.119Z"
   },
   {
    "duration": 5,
    "start_time": "2025-04-22T07:52:25.151Z"
   },
   {
    "duration": 3,
    "start_time": "2025-04-22T07:52:25.158Z"
   },
   {
    "duration": 11,
    "start_time": "2025-04-22T07:52:25.163Z"
   },
   {
    "duration": 205,
    "start_time": "2025-04-22T07:52:25.175Z"
   },
   {
    "duration": 226,
    "start_time": "2025-04-22T07:52:25.382Z"
   },
   {
    "duration": 297,
    "start_time": "2025-04-22T07:52:25.609Z"
   },
   {
    "duration": 10,
    "start_time": "2025-04-22T07:52:25.908Z"
   },
   {
    "duration": 275,
    "start_time": "2025-04-22T07:52:53.119Z"
   },
   {
    "duration": 974,
    "start_time": "2025-04-22T07:53:01.198Z"
   },
   {
    "duration": 26,
    "start_time": "2025-04-22T07:53:02.174Z"
   },
   {
    "duration": 4,
    "start_time": "2025-04-22T07:53:02.202Z"
   },
   {
    "duration": 3,
    "start_time": "2025-04-22T07:53:02.207Z"
   },
   {
    "duration": 23,
    "start_time": "2025-04-22T07:53:02.213Z"
   },
   {
    "duration": 195,
    "start_time": "2025-04-22T07:53:02.237Z"
   },
   {
    "duration": 207,
    "start_time": "2025-04-22T07:53:02.434Z"
   },
   {
    "duration": 313,
    "start_time": "2025-04-22T07:53:02.643Z"
   },
   {
    "duration": 10,
    "start_time": "2025-04-22T07:53:02.958Z"
   },
   {
    "duration": 282,
    "start_time": "2025-04-22T07:53:40.778Z"
   },
   {
    "duration": 1023,
    "start_time": "2025-04-22T07:53:56.515Z"
   },
   {
    "duration": 28,
    "start_time": "2025-04-22T07:53:57.541Z"
   },
   {
    "duration": 4,
    "start_time": "2025-04-22T07:53:57.571Z"
   },
   {
    "duration": 3,
    "start_time": "2025-04-22T07:53:57.578Z"
   },
   {
    "duration": 14,
    "start_time": "2025-04-22T07:53:57.583Z"
   },
   {
    "duration": 256,
    "start_time": "2025-04-22T07:53:57.599Z"
   },
   {
    "duration": 209,
    "start_time": "2025-04-22T07:53:57.859Z"
   },
   {
    "duration": 258,
    "start_time": "2025-04-22T07:53:58.070Z"
   },
   {
    "duration": 11,
    "start_time": "2025-04-22T07:53:58.329Z"
   },
   {
    "duration": 233,
    "start_time": "2025-04-22T07:54:57.883Z"
   },
   {
    "duration": 297,
    "start_time": "2025-04-22T07:55:04.607Z"
   },
   {
    "duration": 230,
    "start_time": "2025-04-22T07:58:21.266Z"
   },
   {
    "duration": 228,
    "start_time": "2025-04-22T07:58:29.595Z"
   },
   {
    "duration": 310,
    "start_time": "2025-04-22T08:01:27.034Z"
   },
   {
    "duration": 251,
    "start_time": "2025-04-22T08:02:04.013Z"
   },
   {
    "duration": 231,
    "start_time": "2025-04-22T08:02:11.024Z"
   },
   {
    "duration": 11,
    "start_time": "2025-04-22T08:02:17.319Z"
   },
   {
    "duration": 233,
    "start_time": "2025-04-22T08:02:28.150Z"
   },
   {
    "duration": 12,
    "start_time": "2025-04-22T08:02:31.614Z"
   },
   {
    "duration": 1035,
    "start_time": "2025-04-22T08:02:45.951Z"
   },
   {
    "duration": 26,
    "start_time": "2025-04-22T08:02:46.988Z"
   },
   {
    "duration": 16,
    "start_time": "2025-04-22T08:02:47.016Z"
   },
   {
    "duration": 4,
    "start_time": "2025-04-22T08:02:47.035Z"
   },
   {
    "duration": 12,
    "start_time": "2025-04-22T08:02:47.040Z"
   },
   {
    "duration": 205,
    "start_time": "2025-04-22T08:02:47.054Z"
   },
   {
    "duration": 210,
    "start_time": "2025-04-22T08:02:47.260Z"
   },
   {
    "duration": 284,
    "start_time": "2025-04-22T08:02:47.472Z"
   },
   {
    "duration": 11,
    "start_time": "2025-04-22T08:02:47.758Z"
   },
   {
    "duration": 1014,
    "start_time": "2025-04-22T08:05:14.944Z"
   },
   {
    "duration": 27,
    "start_time": "2025-04-22T08:05:15.961Z"
   },
   {
    "duration": 4,
    "start_time": "2025-04-22T08:05:15.990Z"
   },
   {
    "duration": 3,
    "start_time": "2025-04-22T08:05:15.996Z"
   },
   {
    "duration": 30,
    "start_time": "2025-04-22T08:05:16.001Z"
   },
   {
    "duration": 205,
    "start_time": "2025-04-22T08:05:16.034Z"
   },
   {
    "duration": 565,
    "start_time": "2025-04-22T08:05:16.243Z"
   },
   {
    "duration": 200,
    "start_time": "2025-04-22T08:05:16.809Z"
   },
   {
    "duration": 305,
    "start_time": "2025-04-22T08:05:17.011Z"
   },
   {
    "duration": 20,
    "start_time": "2025-04-22T08:05:17.318Z"
   },
   {
    "duration": 968,
    "start_time": "2025-04-22T08:08:08.210Z"
   },
   {
    "duration": 26,
    "start_time": "2025-04-22T08:08:09.180Z"
   },
   {
    "duration": 5,
    "start_time": "2025-04-22T08:08:09.208Z"
   },
   {
    "duration": 17,
    "start_time": "2025-04-22T08:08:09.215Z"
   },
   {
    "duration": 12,
    "start_time": "2025-04-22T08:08:09.235Z"
   },
   {
    "duration": 195,
    "start_time": "2025-04-22T08:08:09.249Z"
   },
   {
    "duration": 541,
    "start_time": "2025-04-22T08:08:09.446Z"
   },
   {
    "duration": 195,
    "start_time": "2025-04-22T08:08:09.989Z"
   },
   {
    "duration": 312,
    "start_time": "2025-04-22T08:08:10.186Z"
   },
   {
    "duration": 12,
    "start_time": "2025-04-22T08:08:10.500Z"
   },
   {
    "duration": 964,
    "start_time": "2025-04-22T08:08:33.679Z"
   },
   {
    "duration": 25,
    "start_time": "2025-04-22T08:08:34.646Z"
   },
   {
    "duration": 9,
    "start_time": "2025-04-22T08:08:34.673Z"
   },
   {
    "duration": 3,
    "start_time": "2025-04-22T08:08:34.683Z"
   },
   {
    "duration": 10,
    "start_time": "2025-04-22T08:08:34.688Z"
   },
   {
    "duration": 212,
    "start_time": "2025-04-22T08:08:34.699Z"
   },
   {
    "duration": 570,
    "start_time": "2025-04-22T08:08:34.913Z"
   },
   {
    "duration": 200,
    "start_time": "2025-04-22T08:08:35.485Z"
   },
   {
    "duration": 320,
    "start_time": "2025-04-22T08:08:35.687Z"
   },
   {
    "duration": 23,
    "start_time": "2025-04-22T08:08:36.009Z"
   },
   {
    "duration": 1285,
    "start_time": "2025-04-22T08:09:48.976Z"
   },
   {
    "duration": 133,
    "start_time": "2025-04-22T08:09:51.607Z"
   },
   {
    "duration": 154,
    "start_time": "2025-04-22T08:09:54.571Z"
   },
   {
    "duration": 12,
    "start_time": "2025-04-22T08:10:03.155Z"
   },
   {
    "duration": 13,
    "start_time": "2025-04-22T08:10:57.938Z"
   },
   {
    "duration": 3,
    "start_time": "2025-04-22T08:11:30.860Z"
   },
   {
    "duration": 12,
    "start_time": "2025-04-22T08:12:19.295Z"
   },
   {
    "duration": 239,
    "start_time": "2025-04-22T08:13:13.438Z"
   },
   {
    "duration": 561,
    "start_time": "2025-04-22T08:18:18.888Z"
   },
   {
    "duration": 516,
    "start_time": "2025-04-22T08:18:37.770Z"
   },
   {
    "duration": 273,
    "start_time": "2025-04-22T08:29:35.197Z"
   },
   {
    "duration": 971,
    "start_time": "2025-04-22T08:35:53.282Z"
   },
   {
    "duration": 28,
    "start_time": "2025-04-22T08:35:54.255Z"
   },
   {
    "duration": 11,
    "start_time": "2025-04-22T08:35:54.284Z"
   },
   {
    "duration": 3,
    "start_time": "2025-04-22T08:35:54.297Z"
   },
   {
    "duration": 31,
    "start_time": "2025-04-22T08:35:54.303Z"
   },
   {
    "duration": 197,
    "start_time": "2025-04-22T08:35:54.336Z"
   },
   {
    "duration": 555,
    "start_time": "2025-04-22T08:35:54.536Z"
   },
   {
    "duration": 194,
    "start_time": "2025-04-22T08:35:55.094Z"
   },
   {
    "duration": 299,
    "start_time": "2025-04-22T08:35:55.291Z"
   },
   {
    "duration": 11,
    "start_time": "2025-04-22T08:35:55.592Z"
   },
   {
    "duration": 264,
    "start_time": "2025-04-22T08:38:35.827Z"
   },
   {
    "duration": 241,
    "start_time": "2025-04-22T08:38:50.934Z"
   },
   {
    "duration": 232,
    "start_time": "2025-04-22T08:39:01.211Z"
   },
   {
    "duration": 312,
    "start_time": "2025-04-22T08:39:11.629Z"
   },
   {
    "duration": 238,
    "start_time": "2025-04-22T08:39:19.152Z"
   },
   {
    "duration": 247,
    "start_time": "2025-04-22T08:39:30.248Z"
   },
   {
    "duration": 247,
    "start_time": "2025-04-22T08:39:37.521Z"
   },
   {
    "duration": 342,
    "start_time": "2025-04-22T08:39:41.766Z"
   },
   {
    "duration": 971,
    "start_time": "2025-04-22T08:39:48.884Z"
   },
   {
    "duration": 30,
    "start_time": "2025-04-22T08:39:49.857Z"
   },
   {
    "duration": 11,
    "start_time": "2025-04-22T08:39:49.889Z"
   },
   {
    "duration": 3,
    "start_time": "2025-04-22T08:39:49.901Z"
   },
   {
    "duration": 26,
    "start_time": "2025-04-22T08:39:49.907Z"
   },
   {
    "duration": 197,
    "start_time": "2025-04-22T08:39:49.935Z"
   },
   {
    "duration": 550,
    "start_time": "2025-04-22T08:39:50.134Z"
   },
   {
    "duration": 193,
    "start_time": "2025-04-22T08:39:50.686Z"
   },
   {
    "duration": 306,
    "start_time": "2025-04-22T08:39:50.881Z"
   },
   {
    "duration": 11,
    "start_time": "2025-04-22T08:39:51.189Z"
   },
   {
    "duration": 245,
    "start_time": "2025-04-22T08:40:16.824Z"
   },
   {
    "duration": 264,
    "start_time": "2025-04-22T08:40:31.071Z"
   },
   {
    "duration": 974,
    "start_time": "2025-04-22T08:40:59.719Z"
   },
   {
    "duration": 26,
    "start_time": "2025-04-22T08:41:00.695Z"
   },
   {
    "duration": 13,
    "start_time": "2025-04-22T08:41:00.731Z"
   },
   {
    "duration": 3,
    "start_time": "2025-04-22T08:41:00.745Z"
   },
   {
    "duration": 11,
    "start_time": "2025-04-22T08:41:00.751Z"
   },
   {
    "duration": 210,
    "start_time": "2025-04-22T08:41:00.764Z"
   },
   {
    "duration": 576,
    "start_time": "2025-04-22T08:41:00.976Z"
   },
   {
    "duration": 196,
    "start_time": "2025-04-22T08:41:01.554Z"
   },
   {
    "duration": 301,
    "start_time": "2025-04-22T08:41:01.752Z"
   },
   {
    "duration": 11,
    "start_time": "2025-04-22T08:41:02.054Z"
   },
   {
    "duration": 232,
    "start_time": "2025-04-22T08:41:18.541Z"
   },
   {
    "duration": 231,
    "start_time": "2025-04-22T08:41:25.788Z"
   },
   {
    "duration": 265,
    "start_time": "2025-04-22T08:41:32.828Z"
   },
   {
    "duration": 999,
    "start_time": "2025-04-22T08:41:39.451Z"
   },
   {
    "duration": 26,
    "start_time": "2025-04-22T08:41:40.453Z"
   },
   {
    "duration": 11,
    "start_time": "2025-04-22T08:41:40.480Z"
   },
   {
    "duration": 3,
    "start_time": "2025-04-22T08:41:40.493Z"
   },
   {
    "duration": 10,
    "start_time": "2025-04-22T08:41:40.499Z"
   },
   {
    "duration": 194,
    "start_time": "2025-04-22T08:41:40.532Z"
   },
   {
    "duration": 552,
    "start_time": "2025-04-22T08:41:40.727Z"
   },
   {
    "duration": 202,
    "start_time": "2025-04-22T08:41:41.281Z"
   },
   {
    "duration": 295,
    "start_time": "2025-04-22T08:41:41.485Z"
   },
   {
    "duration": 11,
    "start_time": "2025-04-22T08:41:41.781Z"
   },
   {
    "duration": 221,
    "start_time": "2025-04-22T08:44:44.461Z"
   },
   {
    "duration": 257,
    "start_time": "2025-04-22T08:44:50.920Z"
   },
   {
    "duration": 1001,
    "start_time": "2025-04-22T08:45:00.869Z"
   },
   {
    "duration": 26,
    "start_time": "2025-04-22T08:45:01.872Z"
   },
   {
    "duration": 11,
    "start_time": "2025-04-22T08:45:01.899Z"
   },
   {
    "duration": 19,
    "start_time": "2025-04-22T08:45:01.912Z"
   },
   {
    "duration": 12,
    "start_time": "2025-04-22T08:45:01.935Z"
   },
   {
    "duration": 204,
    "start_time": "2025-04-22T08:45:01.949Z"
   },
   {
    "duration": 540,
    "start_time": "2025-04-22T08:45:02.155Z"
   },
   {
    "duration": 193,
    "start_time": "2025-04-22T08:45:02.698Z"
   },
   {
    "duration": 282,
    "start_time": "2025-04-22T08:45:02.893Z"
   },
   {
    "duration": 10,
    "start_time": "2025-04-22T08:45:03.177Z"
   },
   {
    "duration": 988,
    "start_time": "2025-04-22T08:45:43.251Z"
   },
   {
    "duration": 28,
    "start_time": "2025-04-22T08:45:44.241Z"
   },
   {
    "duration": 12,
    "start_time": "2025-04-22T08:45:44.270Z"
   },
   {
    "duration": 3,
    "start_time": "2025-04-22T08:45:44.284Z"
   },
   {
    "duration": 10,
    "start_time": "2025-04-22T08:45:44.289Z"
   },
   {
    "duration": 211,
    "start_time": "2025-04-22T08:45:44.301Z"
   },
   {
    "duration": 578,
    "start_time": "2025-04-22T08:45:44.514Z"
   },
   {
    "duration": 196,
    "start_time": "2025-04-22T08:45:45.094Z"
   },
   {
    "duration": 300,
    "start_time": "2025-04-22T08:45:45.293Z"
   },
   {
    "duration": 9,
    "start_time": "2025-04-22T08:45:45.596Z"
   },
   {
    "duration": 986,
    "start_time": "2025-04-22T08:49:53.452Z"
   },
   {
    "duration": 29,
    "start_time": "2025-04-22T08:49:54.440Z"
   },
   {
    "duration": 12,
    "start_time": "2025-04-22T08:49:54.471Z"
   },
   {
    "duration": 2,
    "start_time": "2025-04-22T08:49:54.486Z"
   },
   {
    "duration": 10,
    "start_time": "2025-04-22T08:49:54.490Z"
   },
   {
    "duration": 217,
    "start_time": "2025-04-22T08:49:54.502Z"
   },
   {
    "duration": 559,
    "start_time": "2025-04-22T08:49:54.721Z"
   },
   {
    "duration": 197,
    "start_time": "2025-04-22T08:49:55.281Z"
   },
   {
    "duration": 291,
    "start_time": "2025-04-22T08:49:55.479Z"
   },
   {
    "duration": 11,
    "start_time": "2025-04-22T08:50:03.847Z"
   },
   {
    "duration": 1005,
    "start_time": "2025-04-22T08:50:37.161Z"
   },
   {
    "duration": 26,
    "start_time": "2025-04-22T08:50:38.168Z"
   },
   {
    "duration": 11,
    "start_time": "2025-04-22T08:50:38.197Z"
   },
   {
    "duration": 3,
    "start_time": "2025-04-22T08:50:38.209Z"
   },
   {
    "duration": 12,
    "start_time": "2025-04-22T08:50:38.233Z"
   },
   {
    "duration": 197,
    "start_time": "2025-04-22T08:50:38.246Z"
   },
   {
    "duration": 546,
    "start_time": "2025-04-22T08:50:38.445Z"
   },
   {
    "duration": 200,
    "start_time": "2025-04-22T08:50:38.994Z"
   },
   {
    "duration": 297,
    "start_time": "2025-04-22T08:50:39.197Z"
   },
   {
    "duration": 10,
    "start_time": "2025-04-22T08:50:39.496Z"
   },
   {
    "duration": 986,
    "start_time": "2025-04-22T08:51:40.520Z"
   },
   {
    "duration": 32,
    "start_time": "2025-04-22T08:51:41.509Z"
   },
   {
    "duration": 12,
    "start_time": "2025-04-22T08:51:41.543Z"
   },
   {
    "duration": 3,
    "start_time": "2025-04-22T08:51:41.557Z"
   },
   {
    "duration": 12,
    "start_time": "2025-04-22T08:51:41.563Z"
   },
   {
    "duration": 219,
    "start_time": "2025-04-22T08:51:41.577Z"
   },
   {
    "duration": 586,
    "start_time": "2025-04-22T08:51:41.797Z"
   },
   {
    "duration": 196,
    "start_time": "2025-04-22T08:51:42.385Z"
   },
   {
    "duration": 303,
    "start_time": "2025-04-22T08:51:42.583Z"
   },
   {
    "duration": 10,
    "start_time": "2025-04-22T08:51:42.889Z"
   },
   {
    "duration": 967,
    "start_time": "2025-04-22T08:51:57.316Z"
   },
   {
    "duration": 27,
    "start_time": "2025-04-22T08:51:59.928Z"
   },
   {
    "duration": 11,
    "start_time": "2025-04-22T08:52:04.688Z"
   },
   {
    "duration": 3,
    "start_time": "2025-04-22T08:52:08.265Z"
   },
   {
    "duration": 11,
    "start_time": "2025-04-22T08:52:10.911Z"
   },
   {
    "duration": 184,
    "start_time": "2025-04-22T08:52:16.772Z"
   },
   {
    "duration": 556,
    "start_time": "2025-04-22T08:52:20.984Z"
   },
   {
    "duration": 198,
    "start_time": "2025-04-22T08:52:41.757Z"
   },
   {
    "duration": 297,
    "start_time": "2025-04-22T08:52:47.057Z"
   },
   {
    "duration": 10,
    "start_time": "2025-04-22T08:52:50.882Z"
   },
   {
    "duration": 12,
    "start_time": "2025-04-22T08:53:31.417Z"
   },
   {
    "duration": 971,
    "start_time": "2025-04-22T08:53:38.406Z"
   },
   {
    "duration": 26,
    "start_time": "2025-04-22T08:53:39.379Z"
   },
   {
    "duration": 10,
    "start_time": "2025-04-22T08:53:39.407Z"
   },
   {
    "duration": 14,
    "start_time": "2025-04-22T08:53:39.419Z"
   },
   {
    "duration": 11,
    "start_time": "2025-04-22T08:53:39.436Z"
   },
   {
    "duration": 210,
    "start_time": "2025-04-22T08:53:39.449Z"
   },
   {
    "duration": 554,
    "start_time": "2025-04-22T08:53:39.661Z"
   },
   {
    "duration": 200,
    "start_time": "2025-04-22T08:53:40.217Z"
   },
   {
    "duration": 295,
    "start_time": "2025-04-22T08:53:40.419Z"
   },
   {
    "duration": 18,
    "start_time": "2025-04-22T08:53:40.715Z"
   },
   {
    "duration": 999,
    "start_time": "2025-04-22T08:56:31.169Z"
   },
   {
    "duration": 26,
    "start_time": "2025-04-22T08:56:32.171Z"
   },
   {
    "duration": 11,
    "start_time": "2025-04-22T08:56:32.198Z"
   },
   {
    "duration": 3,
    "start_time": "2025-04-22T08:56:32.210Z"
   },
   {
    "duration": 11,
    "start_time": "2025-04-22T08:56:32.231Z"
   },
   {
    "duration": 3,
    "start_time": "2025-04-22T08:56:32.243Z"
   },
   {
    "duration": 198,
    "start_time": "2025-04-22T08:56:32.248Z"
   },
   {
    "duration": 546,
    "start_time": "2025-04-22T08:56:32.449Z"
   },
   {
    "duration": 196,
    "start_time": "2025-04-22T08:56:32.998Z"
   },
   {
    "duration": 294,
    "start_time": "2025-04-22T08:56:33.196Z"
   },
   {
    "duration": 11,
    "start_time": "2025-04-22T08:56:33.491Z"
   },
   {
    "duration": 12,
    "start_time": "2025-04-22T08:56:40.131Z"
   },
   {
    "duration": 26,
    "start_time": "2025-04-22T08:58:53.189Z"
   },
   {
    "duration": 967,
    "start_time": "2025-04-22T08:59:03.517Z"
   },
   {
    "duration": 26,
    "start_time": "2025-04-22T08:59:04.487Z"
   },
   {
    "duration": 20,
    "start_time": "2025-04-22T08:59:04.514Z"
   },
   {
    "duration": 3,
    "start_time": "2025-04-22T08:59:04.536Z"
   },
   {
    "duration": 11,
    "start_time": "2025-04-22T08:59:04.542Z"
   },
   {
    "duration": 205,
    "start_time": "2025-04-22T08:59:04.554Z"
   },
   {
    "duration": 575,
    "start_time": "2025-04-22T08:59:04.761Z"
   },
   {
    "duration": 200,
    "start_time": "2025-04-22T08:59:05.338Z"
   },
   {
    "duration": 324,
    "start_time": "2025-04-22T08:59:05.540Z"
   },
   {
    "duration": 242,
    "start_time": "2025-04-22T08:59:05.866Z"
   },
   {
    "duration": 0,
    "start_time": "2025-04-22T08:59:06.110Z"
   },
   {
    "duration": 30,
    "start_time": "2025-04-22T08:59:17.112Z"
   },
   {
    "duration": 1013,
    "start_time": "2025-04-22T09:00:04.159Z"
   },
   {
    "duration": 28,
    "start_time": "2025-04-22T09:00:05.174Z"
   },
   {
    "duration": 12,
    "start_time": "2025-04-22T09:00:05.203Z"
   },
   {
    "duration": 15,
    "start_time": "2025-04-22T09:00:05.217Z"
   },
   {
    "duration": 11,
    "start_time": "2025-04-22T09:00:05.235Z"
   },
   {
    "duration": 203,
    "start_time": "2025-04-22T09:00:05.248Z"
   },
   {
    "duration": 591,
    "start_time": "2025-04-22T09:00:05.453Z"
   },
   {
    "duration": 202,
    "start_time": "2025-04-22T09:00:06.046Z"
   },
   {
    "duration": 313,
    "start_time": "2025-04-22T09:00:06.249Z"
   },
   {
    "duration": 27,
    "start_time": "2025-04-22T09:00:06.565Z"
   },
   {
    "duration": 2762,
    "start_time": "2025-04-26T06:40:01.666Z"
   },
   {
    "duration": 35,
    "start_time": "2025-04-26T06:40:04.430Z"
   },
   {
    "duration": 14,
    "start_time": "2025-04-26T06:40:04.467Z"
   },
   {
    "duration": 3,
    "start_time": "2025-04-26T06:40:04.484Z"
   },
   {
    "duration": 13,
    "start_time": "2025-04-26T06:40:04.488Z"
   },
   {
    "duration": 207,
    "start_time": "2025-04-26T06:40:04.502Z"
   },
   {
    "duration": 623,
    "start_time": "2025-04-26T06:40:04.712Z"
   },
   {
    "duration": 208,
    "start_time": "2025-04-26T06:40:05.337Z"
   },
   {
    "duration": 230,
    "start_time": "2025-04-26T06:40:05.547Z"
   },
   {
    "duration": 27,
    "start_time": "2025-04-26T06:40:05.781Z"
   },
   {
    "duration": 931,
    "start_time": "2025-04-26T06:43:48.356Z"
   },
   {
    "duration": 108,
    "start_time": "2025-04-26T06:43:49.290Z"
   },
   {
    "duration": 11,
    "start_time": "2025-04-26T06:43:49.401Z"
   },
   {
    "duration": 5,
    "start_time": "2025-04-26T06:43:49.415Z"
   },
   {
    "duration": 11,
    "start_time": "2025-04-26T06:43:49.421Z"
   },
   {
    "duration": 204,
    "start_time": "2025-04-26T06:43:49.433Z"
   },
   {
    "duration": 579,
    "start_time": "2025-04-26T06:43:49.639Z"
   },
   {
    "duration": 201,
    "start_time": "2025-04-26T06:43:50.221Z"
   },
   {
    "duration": 306,
    "start_time": "2025-04-26T06:43:50.424Z"
   },
   {
    "duration": 8,
    "start_time": "2025-04-26T06:43:50.733Z"
   },
   {
    "duration": 664,
    "start_time": "2025-04-26T06:48:36.569Z"
   },
   {
    "duration": 22,
    "start_time": "2025-04-26T06:48:59.707Z"
   },
   {
    "duration": 8,
    "start_time": "2025-04-26T06:56:17.775Z"
   },
   {
    "duration": 17,
    "start_time": "2025-04-26T06:56:19.891Z"
   },
   {
    "duration": 15,
    "start_time": "2025-04-26T06:56:22.195Z"
   },
   {
    "duration": 21,
    "start_time": "2025-04-26T06:56:55.389Z"
   },
   {
    "duration": 22,
    "start_time": "2025-04-26T06:57:11.236Z"
   },
   {
    "duration": 51,
    "start_time": "2025-04-26T06:57:26.731Z"
   },
   {
    "duration": 48,
    "start_time": "2025-04-26T07:01:33.969Z"
   },
   {
    "duration": 20,
    "start_time": "2025-04-26T07:02:55.685Z"
   },
   {
    "duration": 22,
    "start_time": "2025-04-26T07:03:10.685Z"
   },
   {
    "duration": 42,
    "start_time": "2025-04-26T07:03:34.826Z"
   },
   {
    "duration": 91,
    "start_time": "2025-04-26T07:04:16.943Z"
   },
   {
    "duration": 47,
    "start_time": "2025-04-26T07:04:23.363Z"
   },
   {
    "duration": 38,
    "start_time": "2025-04-26T07:07:30.167Z"
   },
   {
    "duration": 40,
    "start_time": "2025-04-26T07:07:50.377Z"
   },
   {
    "duration": 60,
    "start_time": "2025-04-26T07:08:25.236Z"
   },
   {
    "duration": 10193,
    "start_time": "2025-04-26T07:08:39.995Z"
   },
   {
    "duration": 10090,
    "start_time": "2025-04-26T07:08:57.232Z"
   },
   {
    "duration": 10094,
    "start_time": "2025-04-26T07:09:37.216Z"
   },
   {
    "duration": 47,
    "start_time": "2025-04-26T07:10:10.477Z"
   },
   {
    "duration": 43,
    "start_time": "2025-04-26T07:12:01.595Z"
   },
   {
    "duration": 9,
    "start_time": "2025-04-26T07:13:03.081Z"
   },
   {
    "duration": 972,
    "start_time": "2025-04-26T07:14:26.790Z"
   },
   {
    "duration": 32,
    "start_time": "2025-04-26T07:14:27.764Z"
   },
   {
    "duration": 11,
    "start_time": "2025-04-26T07:14:27.798Z"
   },
   {
    "duration": 3,
    "start_time": "2025-04-26T07:14:27.811Z"
   },
   {
    "duration": 10,
    "start_time": "2025-04-26T07:14:27.816Z"
   },
   {
    "duration": 209,
    "start_time": "2025-04-26T07:14:27.828Z"
   },
   {
    "duration": 567,
    "start_time": "2025-04-26T07:14:28.039Z"
   },
   {
    "duration": 188,
    "start_time": "2025-04-26T07:14:28.608Z"
   },
   {
    "duration": 285,
    "start_time": "2025-04-26T07:14:28.798Z"
   },
   {
    "duration": 7,
    "start_time": "2025-04-26T07:14:29.087Z"
   },
   {
    "duration": 21,
    "start_time": "2025-04-26T07:14:29.096Z"
   },
   {
    "duration": 6,
    "start_time": "2025-04-26T07:14:29.119Z"
   },
   {
    "duration": 46,
    "start_time": "2025-04-26T07:14:29.127Z"
   },
   {
    "duration": 118,
    "start_time": "2025-04-26T07:14:29.176Z"
   },
   {
    "duration": 10083,
    "start_time": "2025-04-26T07:14:29.296Z"
   },
   {
    "duration": 26,
    "start_time": "2025-04-26T07:18:32.748Z"
   },
   {
    "duration": 913,
    "start_time": "2025-04-26T07:18:50.753Z"
   },
   {
    "duration": 26,
    "start_time": "2025-04-26T07:18:51.668Z"
   },
   {
    "duration": 11,
    "start_time": "2025-04-26T07:18:51.696Z"
   },
   {
    "duration": 2,
    "start_time": "2025-04-26T07:18:51.710Z"
   },
   {
    "duration": 10,
    "start_time": "2025-04-26T07:18:51.715Z"
   },
   {
    "duration": 214,
    "start_time": "2025-04-26T07:18:51.727Z"
   },
   {
    "duration": 571,
    "start_time": "2025-04-26T07:18:51.943Z"
   },
   {
    "duration": 193,
    "start_time": "2025-04-26T07:18:52.516Z"
   },
   {
    "duration": 293,
    "start_time": "2025-04-26T07:18:52.711Z"
   },
   {
    "duration": 21,
    "start_time": "2025-04-26T07:18:53.007Z"
   },
   {
    "duration": 7,
    "start_time": "2025-04-26T07:18:53.030Z"
   },
   {
    "duration": 327,
    "start_time": "2025-04-26T07:18:53.038Z"
   },
   {
    "duration": 1,
    "start_time": "2025-04-26T07:18:53.366Z"
   },
   {
    "duration": 0,
    "start_time": "2025-04-26T07:18:53.369Z"
   },
   {
    "duration": 0,
    "start_time": "2025-04-26T07:18:53.370Z"
   },
   {
    "duration": 0,
    "start_time": "2025-04-26T07:18:53.372Z"
   },
   {
    "duration": 0,
    "start_time": "2025-04-26T07:18:53.373Z"
   },
   {
    "duration": 19,
    "start_time": "2025-04-26T07:19:14.364Z"
   },
   {
    "duration": 21,
    "start_time": "2025-04-26T07:19:22.561Z"
   },
   {
    "duration": 43,
    "start_time": "2025-04-26T07:19:32.417Z"
   },
   {
    "duration": 10245,
    "start_time": "2025-04-26T07:19:50.256Z"
   },
   {
    "duration": 5,
    "start_time": "2025-04-26T07:21:30.299Z"
   },
   {
    "duration": 4,
    "start_time": "2025-04-26T07:22:56.588Z"
   },
   {
    "duration": 5,
    "start_time": "2025-04-26T07:23:25.097Z"
   },
   {
    "duration": 9,
    "start_time": "2025-04-26T07:24:46.840Z"
   },
   {
    "duration": 15,
    "start_time": "2025-04-26T07:26:15.597Z"
   },
   {
    "duration": 938,
    "start_time": "2025-04-26T07:26:27.375Z"
   },
   {
    "duration": 110,
    "start_time": "2025-04-26T07:26:28.315Z"
   },
   {
    "duration": 11,
    "start_time": "2025-04-26T07:26:28.427Z"
   },
   {
    "duration": 3,
    "start_time": "2025-04-26T07:26:28.441Z"
   },
   {
    "duration": 10,
    "start_time": "2025-04-26T07:26:28.446Z"
   },
   {
    "duration": 181,
    "start_time": "2025-04-26T07:26:28.457Z"
   },
   {
    "duration": 566,
    "start_time": "2025-04-26T07:26:28.640Z"
   },
   {
    "duration": 189,
    "start_time": "2025-04-26T07:26:29.209Z"
   },
   {
    "duration": 286,
    "start_time": "2025-04-26T07:26:29.400Z"
   },
   {
    "duration": 22,
    "start_time": "2025-04-26T07:26:29.689Z"
   },
   {
    "duration": 8,
    "start_time": "2025-04-26T07:26:29.713Z"
   },
   {
    "duration": 60,
    "start_time": "2025-04-26T07:26:29.722Z"
   },
   {
    "duration": 119,
    "start_time": "2025-04-26T07:26:29.784Z"
   },
   {
    "duration": 10086,
    "start_time": "2025-04-26T07:26:29.905Z"
   },
   {
    "duration": 5,
    "start_time": "2025-04-26T07:26:39.993Z"
   },
   {
    "duration": 16,
    "start_time": "2025-04-26T07:26:39.999Z"
   },
   {
    "duration": 8,
    "start_time": "2025-04-26T07:26:40.017Z"
   },
   {
    "duration": 560,
    "start_time": "2025-04-26T07:27:30.941Z"
   },
   {
    "duration": 288,
    "start_time": "2025-04-26T07:27:46.587Z"
   },
   {
    "duration": 689,
    "start_time": "2025-04-26T07:27:53.455Z"
   },
   {
    "duration": 772,
    "start_time": "2025-04-26T07:27:59.387Z"
   },
   {
    "duration": 918,
    "start_time": "2025-04-26T07:28:27.210Z"
   },
   {
    "duration": 66,
    "start_time": "2025-04-26T07:28:28.130Z"
   },
   {
    "duration": 12,
    "start_time": "2025-04-26T07:28:28.197Z"
   },
   {
    "duration": 2,
    "start_time": "2025-04-26T07:28:28.212Z"
   },
   {
    "duration": 10,
    "start_time": "2025-04-26T07:28:28.217Z"
   },
   {
    "duration": 193,
    "start_time": "2025-04-26T07:28:28.228Z"
   },
   {
    "duration": 557,
    "start_time": "2025-04-26T07:28:28.423Z"
   },
   {
    "duration": 191,
    "start_time": "2025-04-26T07:28:28.982Z"
   },
   {
    "duration": 282,
    "start_time": "2025-04-26T07:28:29.175Z"
   },
   {
    "duration": 27,
    "start_time": "2025-04-26T07:28:29.459Z"
   },
   {
    "duration": 7,
    "start_time": "2025-04-26T07:28:29.487Z"
   },
   {
    "duration": 12,
    "start_time": "2025-04-26T07:28:29.496Z"
   },
   {
    "duration": 177,
    "start_time": "2025-04-26T07:28:29.511Z"
   },
   {
    "duration": 10037,
    "start_time": "2025-04-26T07:28:29.691Z"
   },
   {
    "duration": 5,
    "start_time": "2025-04-26T07:28:39.730Z"
   },
   {
    "duration": 15,
    "start_time": "2025-04-26T07:28:39.738Z"
   },
   {
    "duration": 780,
    "start_time": "2025-04-26T07:28:39.754Z"
   },
   {
    "duration": 555,
    "start_time": "2025-04-26T07:28:58.966Z"
   },
   {
    "duration": 981,
    "start_time": "2025-04-26T07:29:33.578Z"
   },
   {
    "duration": 33,
    "start_time": "2025-04-26T07:29:34.561Z"
   },
   {
    "duration": 12,
    "start_time": "2025-04-26T07:29:34.595Z"
   },
   {
    "duration": 2,
    "start_time": "2025-04-26T07:29:34.610Z"
   },
   {
    "duration": 11,
    "start_time": "2025-04-26T07:29:34.615Z"
   },
   {
    "duration": 208,
    "start_time": "2025-04-26T07:29:34.627Z"
   },
   {
    "duration": 573,
    "start_time": "2025-04-26T07:29:34.837Z"
   },
   {
    "duration": 195,
    "start_time": "2025-04-26T07:29:35.412Z"
   },
   {
    "duration": 293,
    "start_time": "2025-04-26T07:29:35.609Z"
   },
   {
    "duration": 21,
    "start_time": "2025-04-26T07:29:35.904Z"
   },
   {
    "duration": 7,
    "start_time": "2025-04-26T07:29:35.926Z"
   },
   {
    "duration": 41,
    "start_time": "2025-04-26T07:29:35.934Z"
   },
   {
    "duration": 125,
    "start_time": "2025-04-26T07:29:35.977Z"
   },
   {
    "duration": 9010,
    "start_time": "2025-04-26T07:29:36.105Z"
   },
   {
    "duration": 5,
    "start_time": "2025-04-26T07:29:45.117Z"
   },
   {
    "duration": 14,
    "start_time": "2025-04-26T07:29:45.124Z"
   },
   {
    "duration": 514,
    "start_time": "2025-04-26T07:29:45.140Z"
   },
   {
    "duration": 4,
    "start_time": "2025-04-26T07:30:03.594Z"
   },
   {
    "duration": 995,
    "start_time": "2025-04-26T07:30:27.092Z"
   },
   {
    "duration": 28,
    "start_time": "2025-04-26T07:30:28.090Z"
   },
   {
    "duration": 11,
    "start_time": "2025-04-26T07:30:28.120Z"
   },
   {
    "duration": 3,
    "start_time": "2025-04-26T07:30:28.134Z"
   },
   {
    "duration": 32,
    "start_time": "2025-04-26T07:30:28.139Z"
   },
   {
    "duration": 191,
    "start_time": "2025-04-26T07:30:28.172Z"
   },
   {
    "duration": 561,
    "start_time": "2025-04-26T07:30:28.365Z"
   },
   {
    "duration": 192,
    "start_time": "2025-04-26T07:30:28.928Z"
   },
   {
    "duration": 297,
    "start_time": "2025-04-26T07:30:29.122Z"
   },
   {
    "duration": 20,
    "start_time": "2025-04-26T07:30:29.423Z"
   },
   {
    "duration": 7,
    "start_time": "2025-04-26T07:30:29.444Z"
   },
   {
    "duration": 14,
    "start_time": "2025-04-26T07:30:29.471Z"
   },
   {
    "duration": 105,
    "start_time": "2025-04-26T07:30:29.486Z"
   },
   {
    "duration": 8039,
    "start_time": "2025-04-26T07:30:29.593Z"
   },
   {
    "duration": 5,
    "start_time": "2025-04-26T07:30:37.633Z"
   },
   {
    "duration": 12,
    "start_time": "2025-04-26T07:30:37.640Z"
   },
   {
    "duration": 456,
    "start_time": "2025-04-26T07:30:37.654Z"
   },
   {
    "duration": 900,
    "start_time": "2025-04-26T07:30:55.753Z"
   },
   {
    "duration": 31,
    "start_time": "2025-04-26T07:30:56.655Z"
   },
   {
    "duration": 11,
    "start_time": "2025-04-26T07:30:56.689Z"
   },
   {
    "duration": 3,
    "start_time": "2025-04-26T07:30:56.702Z"
   },
   {
    "duration": 10,
    "start_time": "2025-04-26T07:30:56.707Z"
   },
   {
    "duration": 214,
    "start_time": "2025-04-26T07:30:56.719Z"
   },
   {
    "duration": 567,
    "start_time": "2025-04-26T07:30:56.935Z"
   },
   {
    "duration": 194,
    "start_time": "2025-04-26T07:30:57.504Z"
   },
   {
    "duration": 293,
    "start_time": "2025-04-26T07:30:57.701Z"
   },
   {
    "duration": 57,
    "start_time": "2025-04-26T07:30:57.996Z"
   },
   {
    "duration": 13,
    "start_time": "2025-04-26T07:30:58.071Z"
   },
   {
    "duration": 23,
    "start_time": "2025-04-26T07:30:58.087Z"
   },
   {
    "duration": 394,
    "start_time": "2025-04-26T07:30:58.112Z"
   },
   {
    "duration": 87519,
    "start_time": "2025-04-26T07:30:58.509Z"
   },
   {
    "duration": 5,
    "start_time": "2025-04-26T07:32:26.030Z"
   },
   {
    "duration": 187,
    "start_time": "2025-04-26T07:32:26.036Z"
   },
   {
    "duration": 5213,
    "start_time": "2025-04-26T07:32:26.225Z"
   },
   {
    "duration": 962,
    "start_time": "2025-04-26T07:34:06.758Z"
   },
   {
    "duration": 27,
    "start_time": "2025-04-26T07:34:07.722Z"
   },
   {
    "duration": 11,
    "start_time": "2025-04-26T07:34:07.750Z"
   },
   {
    "duration": 10,
    "start_time": "2025-04-26T07:34:07.762Z"
   },
   {
    "duration": 10,
    "start_time": "2025-04-26T07:34:07.775Z"
   },
   {
    "duration": 198,
    "start_time": "2025-04-26T07:34:07.786Z"
   },
   {
    "duration": 542,
    "start_time": "2025-04-26T07:34:07.985Z"
   },
   {
    "duration": 187,
    "start_time": "2025-04-26T07:34:08.529Z"
   },
   {
    "duration": 289,
    "start_time": "2025-04-26T07:34:08.718Z"
   },
   {
    "duration": 64,
    "start_time": "2025-04-26T07:34:09.009Z"
   },
   {
    "duration": 12,
    "start_time": "2025-04-26T07:34:09.075Z"
   },
   {
    "duration": 83,
    "start_time": "2025-04-26T07:34:09.089Z"
   },
   {
    "duration": 340,
    "start_time": "2025-04-26T07:34:09.174Z"
   },
   {
    "duration": 82511,
    "start_time": "2025-04-26T07:34:09.517Z"
   },
   {
    "duration": 10,
    "start_time": "2025-04-26T07:35:32.030Z"
   },
   {
    "duration": 6,
    "start_time": "2025-04-26T07:35:32.071Z"
   },
   {
    "duration": 10,
    "start_time": "2025-04-26T07:35:32.078Z"
   },
   {
    "duration": 213,
    "start_time": "2025-04-26T07:56:15.866Z"
   },
   {
    "duration": 1001,
    "start_time": "2025-04-26T07:58:33.904Z"
   },
   {
    "duration": 27,
    "start_time": "2025-04-26T07:58:34.908Z"
   },
   {
    "duration": 11,
    "start_time": "2025-04-26T07:58:34.937Z"
   },
   {
    "duration": 3,
    "start_time": "2025-04-26T07:58:34.950Z"
   },
   {
    "duration": 12,
    "start_time": "2025-04-26T07:58:34.969Z"
   },
   {
    "duration": 201,
    "start_time": "2025-04-26T07:58:34.983Z"
   },
   {
    "duration": 543,
    "start_time": "2025-04-26T07:58:35.187Z"
   },
   {
    "duration": 200,
    "start_time": "2025-04-26T07:58:35.732Z"
   },
   {
    "duration": 287,
    "start_time": "2025-04-26T07:58:35.934Z"
   },
   {
    "duration": 91,
    "start_time": "2025-04-26T07:58:36.223Z"
   },
   {
    "duration": 14,
    "start_time": "2025-04-26T07:58:36.316Z"
   },
   {
    "duration": 61,
    "start_time": "2025-04-26T07:58:36.332Z"
   },
   {
    "duration": 506,
    "start_time": "2025-04-26T07:58:36.395Z"
   },
   {
    "duration": 121839,
    "start_time": "2025-04-26T07:58:36.904Z"
   },
   {
    "duration": 25,
    "start_time": "2025-04-26T08:00:38.745Z"
   },
   {
    "duration": 7,
    "start_time": "2025-04-26T08:00:38.772Z"
   },
   {
    "duration": 88,
    "start_time": "2025-04-26T08:00:38.783Z"
   },
   {
    "duration": 5737,
    "start_time": "2025-04-26T08:01:13.025Z"
   },
   {
    "duration": 10,
    "start_time": "2025-04-26T08:01:36.775Z"
   },
   {
    "duration": 896,
    "start_time": "2025-04-26T08:01:45.739Z"
   },
   {
    "duration": 26,
    "start_time": "2025-04-26T08:01:46.638Z"
   },
   {
    "duration": 11,
    "start_time": "2025-04-26T08:01:46.665Z"
   },
   {
    "duration": 3,
    "start_time": "2025-04-26T08:01:46.677Z"
   },
   {
    "duration": 10,
    "start_time": "2025-04-26T08:01:46.683Z"
   },
   {
    "duration": 214,
    "start_time": "2025-04-26T08:01:46.694Z"
   },
   {
    "duration": 566,
    "start_time": "2025-04-26T08:01:46.909Z"
   },
   {
    "duration": 198,
    "start_time": "2025-04-26T08:01:47.477Z"
   },
   {
    "duration": 285,
    "start_time": "2025-04-26T08:01:47.677Z"
   },
   {
    "duration": 83,
    "start_time": "2025-04-26T08:01:47.964Z"
   },
   {
    "duration": 31,
    "start_time": "2025-04-26T08:01:48.048Z"
   },
   {
    "duration": 90,
    "start_time": "2025-04-26T08:01:48.081Z"
   },
   {
    "duration": 457,
    "start_time": "2025-04-26T08:01:48.173Z"
   },
   {
    "duration": 121155,
    "start_time": "2025-04-26T08:01:48.633Z"
   },
   {
    "duration": 9,
    "start_time": "2025-04-26T08:03:49.789Z"
   },
   {
    "duration": 8,
    "start_time": "2025-04-26T08:03:49.799Z"
   },
   {
    "duration": 62,
    "start_time": "2025-04-26T08:03:49.808Z"
   }
  ],
  "kernelspec": {
   "display_name": "Python 3 (ipykernel)",
   "language": "python",
   "name": "python3"
  },
  "language_info": {
   "codemirror_mode": {
    "name": "ipython",
    "version": 3
   },
   "file_extension": ".py",
   "mimetype": "text/x-python",
   "name": "python",
   "nbconvert_exporter": "python",
   "pygments_lexer": "ipython3",
   "version": "3.9.19"
  },
  "toc": {
   "base_numbering": 1,
   "nav_menu": {},
   "number_sections": true,
   "sideBar": true,
   "skip_h1_title": true,
   "title_cell": "Table of Contents",
   "title_sidebar": "Contents",
   "toc_cell": false,
   "toc_position": {},
   "toc_section_display": true,
   "toc_window_display": true
  }
 },
 "nbformat": 4,
 "nbformat_minor": 2
}
