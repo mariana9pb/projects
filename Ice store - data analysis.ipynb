{
 "cells": [
  {
   "cell_type": "markdown",
   "metadata": {
    "tags": [
     "e5c1f0c2-db9f-43a0-99b9-4875c52427e8"
    ]
   },
   "source": [
    "# Proyecto Integrado Módulo 1\n",
    "\n",
    "Ice es una tienda online que vende videojuegos por todo el mundo. En este proyecto tiene por objetivo generar información valiosa para la empresa para toma de decisiones en cuanto a nuevos proyectos y planificación de campañas para el 2017.\n",
    "\n",
    "La información disponible abarca hasta el año 2016 e incluye datos sobre las ventas de juegos y sus características como: género, plataforma, año de lanzamiento, reseñas, país de venta, entre otros, durante este periodo, con lo que se realizará un análisis para determinar las principales plataformas y géneros, y las conclusiones al respecto. "
   ]
  },
  {
   "cell_type": "markdown",
   "metadata": {},
   "source": [
    "## Preparar los datos"
   ]
  },
  {
   "cell_type": "markdown",
   "metadata": {},
   "source": [
    "### Inicialización"
   ]
  },
  {
   "cell_type": "code",
   "execution_count": 4,
   "metadata": {
    "trusted": false
   },
   "outputs": [],
   "source": [
    "# Cargar todas las librerías\n",
    "import pandas as pd\n",
    "import numpy as np\n",
    "from scipy import stats as st\n",
    "import math as mt\n",
    "import matplotlib.pyplot as plt\n",
    "import seaborn as sns"
   ]
  },
  {
   "cell_type": "markdown",
   "metadata": {},
   "source": [
    "### Cargar datos"
   ]
  },
  {
   "cell_type": "code",
   "execution_count": 5,
   "metadata": {
    "trusted": false
   },
   "outputs": [],
   "source": [
    "# Carga el archivo de datos\n",
    "df_games = pd.read_csv('/datasets/games.csv')"
   ]
  },
  {
   "cell_type": "markdown",
   "metadata": {},
   "source": [
    "### Preparar los datos"
   ]
  },
  {
   "cell_type": "markdown",
   "metadata": {},
   "source": [
    "Previo al análisis, se explora el dataframe para tener una noción inicial de los datos, detectar valores ausentes o tipos de datos incorrectos y aplicar las correcciones necesarias."
   ]
  },
  {
   "cell_type": "code",
   "execution_count": 6,
   "metadata": {
    "trusted": false
   },
   "outputs": [
    {
     "data": {
      "text/html": [
       "<div>\n",
       "<style scoped>\n",
       "    .dataframe tbody tr th:only-of-type {\n",
       "        vertical-align: middle;\n",
       "    }\n",
       "\n",
       "    .dataframe tbody tr th {\n",
       "        vertical-align: top;\n",
       "    }\n",
       "\n",
       "    .dataframe thead th {\n",
       "        text-align: right;\n",
       "    }\n",
       "</style>\n",
       "<table border=\"1\" class=\"dataframe\">\n",
       "  <thead>\n",
       "    <tr style=\"text-align: right;\">\n",
       "      <th></th>\n",
       "      <th>Name</th>\n",
       "      <th>Platform</th>\n",
       "      <th>Year_of_Release</th>\n",
       "      <th>Genre</th>\n",
       "      <th>NA_sales</th>\n",
       "      <th>EU_sales</th>\n",
       "      <th>JP_sales</th>\n",
       "      <th>Other_sales</th>\n",
       "      <th>Critic_Score</th>\n",
       "      <th>User_Score</th>\n",
       "      <th>Rating</th>\n",
       "    </tr>\n",
       "  </thead>\n",
       "  <tbody>\n",
       "    <tr>\n",
       "      <th>0</th>\n",
       "      <td>Wii Sports</td>\n",
       "      <td>Wii</td>\n",
       "      <td>2006.0</td>\n",
       "      <td>Sports</td>\n",
       "      <td>41.36</td>\n",
       "      <td>28.96</td>\n",
       "      <td>3.77</td>\n",
       "      <td>8.45</td>\n",
       "      <td>76.0</td>\n",
       "      <td>8</td>\n",
       "      <td>E</td>\n",
       "    </tr>\n",
       "    <tr>\n",
       "      <th>1</th>\n",
       "      <td>Super Mario Bros.</td>\n",
       "      <td>NES</td>\n",
       "      <td>1985.0</td>\n",
       "      <td>Platform</td>\n",
       "      <td>29.08</td>\n",
       "      <td>3.58</td>\n",
       "      <td>6.81</td>\n",
       "      <td>0.77</td>\n",
       "      <td>NaN</td>\n",
       "      <td>NaN</td>\n",
       "      <td>NaN</td>\n",
       "    </tr>\n",
       "    <tr>\n",
       "      <th>2</th>\n",
       "      <td>Mario Kart Wii</td>\n",
       "      <td>Wii</td>\n",
       "      <td>2008.0</td>\n",
       "      <td>Racing</td>\n",
       "      <td>15.68</td>\n",
       "      <td>12.76</td>\n",
       "      <td>3.79</td>\n",
       "      <td>3.29</td>\n",
       "      <td>82.0</td>\n",
       "      <td>8.3</td>\n",
       "      <td>E</td>\n",
       "    </tr>\n",
       "    <tr>\n",
       "      <th>3</th>\n",
       "      <td>Wii Sports Resort</td>\n",
       "      <td>Wii</td>\n",
       "      <td>2009.0</td>\n",
       "      <td>Sports</td>\n",
       "      <td>15.61</td>\n",
       "      <td>10.93</td>\n",
       "      <td>3.28</td>\n",
       "      <td>2.95</td>\n",
       "      <td>80.0</td>\n",
       "      <td>8</td>\n",
       "      <td>E</td>\n",
       "    </tr>\n",
       "    <tr>\n",
       "      <th>4</th>\n",
       "      <td>Pokemon Red/Pokemon Blue</td>\n",
       "      <td>GB</td>\n",
       "      <td>1996.0</td>\n",
       "      <td>Role-Playing</td>\n",
       "      <td>11.27</td>\n",
       "      <td>8.89</td>\n",
       "      <td>10.22</td>\n",
       "      <td>1.00</td>\n",
       "      <td>NaN</td>\n",
       "      <td>NaN</td>\n",
       "      <td>NaN</td>\n",
       "    </tr>\n",
       "    <tr>\n",
       "      <th>...</th>\n",
       "      <td>...</td>\n",
       "      <td>...</td>\n",
       "      <td>...</td>\n",
       "      <td>...</td>\n",
       "      <td>...</td>\n",
       "      <td>...</td>\n",
       "      <td>...</td>\n",
       "      <td>...</td>\n",
       "      <td>...</td>\n",
       "      <td>...</td>\n",
       "      <td>...</td>\n",
       "    </tr>\n",
       "    <tr>\n",
       "      <th>16710</th>\n",
       "      <td>Samurai Warriors: Sanada Maru</td>\n",
       "      <td>PS3</td>\n",
       "      <td>2016.0</td>\n",
       "      <td>Action</td>\n",
       "      <td>0.00</td>\n",
       "      <td>0.00</td>\n",
       "      <td>0.01</td>\n",
       "      <td>0.00</td>\n",
       "      <td>NaN</td>\n",
       "      <td>NaN</td>\n",
       "      <td>NaN</td>\n",
       "    </tr>\n",
       "    <tr>\n",
       "      <th>16711</th>\n",
       "      <td>LMA Manager 2007</td>\n",
       "      <td>X360</td>\n",
       "      <td>2006.0</td>\n",
       "      <td>Sports</td>\n",
       "      <td>0.00</td>\n",
       "      <td>0.01</td>\n",
       "      <td>0.00</td>\n",
       "      <td>0.00</td>\n",
       "      <td>NaN</td>\n",
       "      <td>NaN</td>\n",
       "      <td>NaN</td>\n",
       "    </tr>\n",
       "    <tr>\n",
       "      <th>16712</th>\n",
       "      <td>Haitaka no Psychedelica</td>\n",
       "      <td>PSV</td>\n",
       "      <td>2016.0</td>\n",
       "      <td>Adventure</td>\n",
       "      <td>0.00</td>\n",
       "      <td>0.00</td>\n",
       "      <td>0.01</td>\n",
       "      <td>0.00</td>\n",
       "      <td>NaN</td>\n",
       "      <td>NaN</td>\n",
       "      <td>NaN</td>\n",
       "    </tr>\n",
       "    <tr>\n",
       "      <th>16713</th>\n",
       "      <td>Spirits &amp; Spells</td>\n",
       "      <td>GBA</td>\n",
       "      <td>2003.0</td>\n",
       "      <td>Platform</td>\n",
       "      <td>0.01</td>\n",
       "      <td>0.00</td>\n",
       "      <td>0.00</td>\n",
       "      <td>0.00</td>\n",
       "      <td>NaN</td>\n",
       "      <td>NaN</td>\n",
       "      <td>NaN</td>\n",
       "    </tr>\n",
       "    <tr>\n",
       "      <th>16714</th>\n",
       "      <td>Winning Post 8 2016</td>\n",
       "      <td>PSV</td>\n",
       "      <td>2016.0</td>\n",
       "      <td>Simulation</td>\n",
       "      <td>0.00</td>\n",
       "      <td>0.00</td>\n",
       "      <td>0.01</td>\n",
       "      <td>0.00</td>\n",
       "      <td>NaN</td>\n",
       "      <td>NaN</td>\n",
       "      <td>NaN</td>\n",
       "    </tr>\n",
       "  </tbody>\n",
       "</table>\n",
       "<p>16715 rows × 11 columns</p>\n",
       "</div>"
      ],
      "text/plain": [
       "                                Name Platform  Year_of_Release         Genre  \\\n",
       "0                         Wii Sports      Wii           2006.0        Sports   \n",
       "1                  Super Mario Bros.      NES           1985.0      Platform   \n",
       "2                     Mario Kart Wii      Wii           2008.0        Racing   \n",
       "3                  Wii Sports Resort      Wii           2009.0        Sports   \n",
       "4           Pokemon Red/Pokemon Blue       GB           1996.0  Role-Playing   \n",
       "...                              ...      ...              ...           ...   \n",
       "16710  Samurai Warriors: Sanada Maru      PS3           2016.0        Action   \n",
       "16711               LMA Manager 2007     X360           2006.0        Sports   \n",
       "16712        Haitaka no Psychedelica      PSV           2016.0     Adventure   \n",
       "16713               Spirits & Spells      GBA           2003.0      Platform   \n",
       "16714            Winning Post 8 2016      PSV           2016.0    Simulation   \n",
       "\n",
       "       NA_sales  EU_sales  JP_sales  Other_sales  Critic_Score User_Score  \\\n",
       "0         41.36     28.96      3.77         8.45          76.0          8   \n",
       "1         29.08      3.58      6.81         0.77           NaN        NaN   \n",
       "2         15.68     12.76      3.79         3.29          82.0        8.3   \n",
       "3         15.61     10.93      3.28         2.95          80.0          8   \n",
       "4         11.27      8.89     10.22         1.00           NaN        NaN   \n",
       "...         ...       ...       ...          ...           ...        ...   \n",
       "16710      0.00      0.00      0.01         0.00           NaN        NaN   \n",
       "16711      0.00      0.01      0.00         0.00           NaN        NaN   \n",
       "16712      0.00      0.00      0.01         0.00           NaN        NaN   \n",
       "16713      0.01      0.00      0.00         0.00           NaN        NaN   \n",
       "16714      0.00      0.00      0.01         0.00           NaN        NaN   \n",
       "\n",
       "      Rating  \n",
       "0          E  \n",
       "1        NaN  \n",
       "2          E  \n",
       "3          E  \n",
       "4        NaN  \n",
       "...      ...  \n",
       "16710    NaN  \n",
       "16711    NaN  \n",
       "16712    NaN  \n",
       "16713    NaN  \n",
       "16714    NaN  \n",
       "\n",
       "[16715 rows x 11 columns]"
      ]
     },
     "execution_count": 6,
     "metadata": {},
     "output_type": "execute_result"
    }
   ],
   "source": [
    "# Muestra del DataFrame\n",
    "df_games"
   ]
  },
  {
   "cell_type": "code",
   "execution_count": 7,
   "metadata": {
    "trusted": false
   },
   "outputs": [
    {
     "data": {
      "text/plain": [
       "Index(['name', 'platform', 'year_of_release', 'genre', 'na_sales', 'eu_sales',\n",
       "       'jp_sales', 'other_sales', 'critic_score', 'user_score', 'rating'],\n",
       "      dtype='object')"
      ]
     },
     "execution_count": 7,
     "metadata": {},
     "output_type": "execute_result"
    }
   ],
   "source": [
    "# Cambiar a minúsculas los nombres de las columnas\n",
    "df_games.columns = df_games.columns.str.lower()\n",
    "df_games.columns"
   ]
  },
  {
   "cell_type": "code",
   "execution_count": 8,
   "metadata": {
    "trusted": false
   },
   "outputs": [
    {
     "name": "stdout",
     "output_type": "stream",
     "text": [
      "<class 'pandas.core.frame.DataFrame'>\n",
      "RangeIndex: 16715 entries, 0 to 16714\n",
      "Data columns (total 11 columns):\n",
      " #   Column           Non-Null Count  Dtype  \n",
      "---  ------           --------------  -----  \n",
      " 0   name             16713 non-null  object \n",
      " 1   platform         16715 non-null  object \n",
      " 2   year_of_release  16446 non-null  float64\n",
      " 3   genre            16713 non-null  object \n",
      " 4   na_sales         16715 non-null  float64\n",
      " 5   eu_sales         16715 non-null  float64\n",
      " 6   jp_sales         16715 non-null  float64\n",
      " 7   other_sales      16715 non-null  float64\n",
      " 8   critic_score     8137 non-null   float64\n",
      " 9   user_score       10014 non-null  object \n",
      " 10  rating           9949 non-null   object \n",
      "dtypes: float64(6), object(5)\n",
      "memory usage: 1.4+ MB\n"
     ]
    },
    {
     "data": {
      "text/plain": [
       "name                  2\n",
       "platform              0\n",
       "year_of_release     269\n",
       "genre                 2\n",
       "na_sales              0\n",
       "eu_sales              0\n",
       "jp_sales              0\n",
       "other_sales           0\n",
       "critic_score       8578\n",
       "user_score         6701\n",
       "rating             6766\n",
       "dtype: int64"
      ]
     },
     "execution_count": 8,
     "metadata": {},
     "output_type": "execute_result"
    }
   ],
   "source": [
    "# Muestra tipos de datos y recuento de no nulos\n",
    "df_games.info()\n",
    "df_games.isna().sum()"
   ]
  },
  {
   "cell_type": "markdown",
   "metadata": {},
   "source": [
    "#### Name"
   ]
  },
  {
   "cell_type": "code",
   "execution_count": 9,
   "metadata": {
    "trusted": false
   },
   "outputs": [
    {
     "name": "stdout",
     "output_type": "stream",
     "text": [
      "      name platform  year_of_release genre  na_sales  eu_sales  jp_sales  \\\n",
      "659    NaN      GEN           1993.0   NaN      1.78      0.53      0.00   \n",
      "14244  NaN      GEN           1993.0   NaN      0.00      0.00      0.03   \n",
      "\n",
      "       other_sales  critic_score user_score rating  \n",
      "659           0.08           NaN        NaN    NaN  \n",
      "14244         0.00           NaN        NaN    NaN  \n",
      "\n",
      "<class 'pandas.core.frame.DataFrame'>\n",
      "RangeIndex: 16715 entries, 0 to 16714\n",
      "Data columns (total 11 columns):\n",
      " #   Column           Non-Null Count  Dtype  \n",
      "---  ------           --------------  -----  \n",
      " 0   name             16715 non-null  object \n",
      " 1   platform         16715 non-null  object \n",
      " 2   year_of_release  16446 non-null  float64\n",
      " 3   genre            16713 non-null  object \n",
      " 4   na_sales         16715 non-null  float64\n",
      " 5   eu_sales         16715 non-null  float64\n",
      " 6   jp_sales         16715 non-null  float64\n",
      " 7   other_sales      16715 non-null  float64\n",
      " 8   critic_score     8137 non-null   float64\n",
      " 9   user_score       10014 non-null  object \n",
      " 10  rating           9949 non-null   object \n",
      "dtypes: float64(6), object(5)\n",
      "memory usage: 1.4+ MB\n",
      "['Wii' 'NES' 'GB' 'DS' 'X360' 'PS3' 'PS2' 'SNES' 'GBA' 'PS4' '3DS' 'N64'\n",
      " 'PS' 'XB' 'PC' '2600' 'PSP' 'XOne' 'WiiU' 'GC' 'GEN' 'DC' 'PSV' 'SAT'\n",
      " 'SCD' 'WS' 'NG' 'TG16' '3DO' 'GG' 'PCFX']\n",
      "['Sports' 'Platform' 'Racing' 'Role-Playing' 'Puzzle' 'Misc' 'Shooter'\n",
      " 'Simulation' 'Action' 'Fighting' 'Adventure' 'Strategy' nan]\n"
     ]
    }
   ],
   "source": [
    "# Revisar los valores nulos en 'name'\n",
    "\n",
    "\n",
    "print(df_games[df_games['name'].isnull()])\n",
    "print('')\n",
    "\n",
    "#Modificar el nombre de los nulos\n",
    "df_games['name'] = df_games['name'].fillna('unknown')\n",
    "df_games.info()\n",
    "\n",
    "print(df_games['platform'].unique())\n",
    "\n",
    "print(df_games['genre'].unique())\n",
    "\n"
   ]
  },
  {
   "cell_type": "markdown",
   "metadata": {},
   "source": [
    "Se modificó el nombre del juego a 'Desconocido' para las filas donde 'name' es nulo."
   ]
  },
  {
   "cell_type": "markdown",
   "metadata": {},
   "source": [
    "#### Year of release"
   ]
  },
  {
   "cell_type": "code",
   "execution_count": 10,
   "metadata": {
    "trusted": false
   },
   "outputs": [
    {
     "name": "stdout",
     "output_type": "stream",
     "text": [
      "<class 'pandas.core.frame.DataFrame'>\n",
      "RangeIndex: 16715 entries, 0 to 16714\n",
      "Data columns (total 11 columns):\n",
      " #   Column           Non-Null Count  Dtype  \n",
      "---  ------           --------------  -----  \n",
      " 0   name             16715 non-null  object \n",
      " 1   platform         16715 non-null  object \n",
      " 2   year_of_release  16715 non-null  int64  \n",
      " 3   genre            16713 non-null  object \n",
      " 4   na_sales         16715 non-null  float64\n",
      " 5   eu_sales         16715 non-null  float64\n",
      " 6   jp_sales         16715 non-null  float64\n",
      " 7   other_sales      16715 non-null  float64\n",
      " 8   critic_score     8137 non-null   float64\n",
      " 9   user_score       10014 non-null  object \n",
      " 10  rating           9949 non-null   object \n",
      "dtypes: float64(5), int64(1), object(5)\n",
      "memory usage: 1.4+ MB\n"
     ]
    }
   ],
   "source": [
    "# Reemplazar los valores nulos en 'year_of_release' por 9999.\n",
    "df_games['year_of_release'].fillna(9999, inplace=True)\n",
    "\n",
    "# Convertir year_of_release a tipo de dato entero\n",
    "df_games['year_of_release'] = df_games['year_of_release'].astype('int64')\n",
    "\n",
    "df_games.info()"
   ]
  },
  {
   "cell_type": "markdown",
   "metadata": {},
   "source": [
    "Se reemplazaron los valores nulos en 'year_of_release' por un 9999, y posteriormente se cambia el tipo de dato a entero. Los juegos que muestren un 9999 en 'year_of_release' serán filtrados para no afectar el análisis respecto al año de lanzamiento."
   ]
  },
  {
   "cell_type": "markdown",
   "metadata": {},
   "source": [
    "#### Genre"
   ]
  },
  {
   "cell_type": "code",
   "execution_count": 11,
   "metadata": {
    "trusted": false
   },
   "outputs": [
    {
     "data": {
      "text/html": [
       "<div>\n",
       "<style scoped>\n",
       "    .dataframe tbody tr th:only-of-type {\n",
       "        vertical-align: middle;\n",
       "    }\n",
       "\n",
       "    .dataframe tbody tr th {\n",
       "        vertical-align: top;\n",
       "    }\n",
       "\n",
       "    .dataframe thead th {\n",
       "        text-align: right;\n",
       "    }\n",
       "</style>\n",
       "<table border=\"1\" class=\"dataframe\">\n",
       "  <thead>\n",
       "    <tr style=\"text-align: right;\">\n",
       "      <th></th>\n",
       "      <th>name</th>\n",
       "      <th>platform</th>\n",
       "      <th>year_of_release</th>\n",
       "      <th>genre</th>\n",
       "      <th>na_sales</th>\n",
       "      <th>eu_sales</th>\n",
       "      <th>jp_sales</th>\n",
       "      <th>other_sales</th>\n",
       "      <th>critic_score</th>\n",
       "      <th>user_score</th>\n",
       "      <th>rating</th>\n",
       "    </tr>\n",
       "  </thead>\n",
       "  <tbody>\n",
       "    <tr>\n",
       "      <th>659</th>\n",
       "      <td>unknown</td>\n",
       "      <td>GEN</td>\n",
       "      <td>1993</td>\n",
       "      <td>NaN</td>\n",
       "      <td>1.78</td>\n",
       "      <td>0.53</td>\n",
       "      <td>0.00</td>\n",
       "      <td>0.08</td>\n",
       "      <td>NaN</td>\n",
       "      <td>NaN</td>\n",
       "      <td>NaN</td>\n",
       "    </tr>\n",
       "    <tr>\n",
       "      <th>14244</th>\n",
       "      <td>unknown</td>\n",
       "      <td>GEN</td>\n",
       "      <td>1993</td>\n",
       "      <td>NaN</td>\n",
       "      <td>0.00</td>\n",
       "      <td>0.00</td>\n",
       "      <td>0.03</td>\n",
       "      <td>0.00</td>\n",
       "      <td>NaN</td>\n",
       "      <td>NaN</td>\n",
       "      <td>NaN</td>\n",
       "    </tr>\n",
       "  </tbody>\n",
       "</table>\n",
       "</div>"
      ],
      "text/plain": [
       "          name platform  year_of_release genre  na_sales  eu_sales  jp_sales  \\\n",
       "659    unknown      GEN             1993   NaN      1.78      0.53      0.00   \n",
       "14244  unknown      GEN             1993   NaN      0.00      0.00      0.03   \n",
       "\n",
       "       other_sales  critic_score user_score rating  \n",
       "659           0.08           NaN        NaN    NaN  \n",
       "14244         0.00           NaN        NaN    NaN  "
      ]
     },
     "execution_count": 11,
     "metadata": {},
     "output_type": "execute_result"
    }
   ],
   "source": [
    "df_games[df_games['genre'].isnull()]"
   ]
  },
  {
   "cell_type": "code",
   "execution_count": 12,
   "metadata": {
    "trusted": false
   },
   "outputs": [
    {
     "name": "stdout",
     "output_type": "stream",
     "text": [
      "Action          3369\n",
      "Sports          2348\n",
      "Misc            1750\n",
      "Role-Playing    1498\n",
      "Shooter         1323\n",
      "Adventure       1303\n",
      "Racing          1249\n",
      "Platform         888\n",
      "Simulation       873\n",
      "Fighting         849\n",
      "Strategy         683\n",
      "Puzzle           580\n",
      "unknown            2\n",
      "Name: genre, dtype: int64\n"
     ]
    }
   ],
   "source": [
    "df_games['genre'] = df_games['genre'].fillna('unknown')\n",
    "print(df_games['genre'].value_counts())\n"
   ]
  },
  {
   "cell_type": "markdown",
   "metadata": {},
   "source": [
    "Se rellenaron los valores nulos en 'genre' con 'Desconocido'."
   ]
  },
  {
   "cell_type": "markdown",
   "metadata": {},
   "source": [
    "#### Critic Score"
   ]
  },
  {
   "cell_type": "markdown",
   "metadata": {},
   "source": [
    "Más de la mitad de los valores en 'critic_score' tienen valores nulos. \n",
    "\n",
    "Es posible que estos valores sean nulos debido a que el juego es muy viejo, muy reciente, o bien, no fue lo suficientemente popular para obtener una calificación por parte de la crítica.\n",
    "\n",
    "Los no nulos van desde 13 a 98. En esta sección se averigua la media de 'critic_score' por 'plataforma y por 'género', para rellenar los valores nulos de la columna original con la media correspondiente según plataforma y género."
   ]
  },
  {
   "cell_type": "code",
   "execution_count": 13,
   "metadata": {
    "trusted": false
   },
   "outputs": [
    {
     "name": "stdout",
     "output_type": "stream",
     "text": [
      "13.0       1\n",
      "17.0       1\n",
      "19.0       6\n",
      "20.0       3\n",
      "21.0       1\n",
      "        ... \n",
      "95.0      16\n",
      "96.0      18\n",
      "97.0      11\n",
      "98.0       4\n",
      "NaN     8578\n",
      "Name: critic_score, Length: 83, dtype: int64\n",
      "\n"
     ]
    },
    {
     "data": {
      "text/html": [
       "<div>\n",
       "<style scoped>\n",
       "    .dataframe tbody tr th:only-of-type {\n",
       "        vertical-align: middle;\n",
       "    }\n",
       "\n",
       "    .dataframe tbody tr th {\n",
       "        vertical-align: top;\n",
       "    }\n",
       "\n",
       "    .dataframe thead th {\n",
       "        text-align: right;\n",
       "    }\n",
       "</style>\n",
       "<table border=\"1\" class=\"dataframe\">\n",
       "  <thead>\n",
       "    <tr style=\"text-align: right;\">\n",
       "      <th></th>\n",
       "      <th>platform</th>\n",
       "      <th>genre</th>\n",
       "      <th>mean_critic_score</th>\n",
       "    </tr>\n",
       "  </thead>\n",
       "  <tbody>\n",
       "    <tr>\n",
       "      <th>0</th>\n",
       "      <td>2600</td>\n",
       "      <td>Action</td>\n",
       "      <td>NaN</td>\n",
       "    </tr>\n",
       "    <tr>\n",
       "      <th>1</th>\n",
       "      <td>2600</td>\n",
       "      <td>Adventure</td>\n",
       "      <td>NaN</td>\n",
       "    </tr>\n",
       "    <tr>\n",
       "      <th>2</th>\n",
       "      <td>2600</td>\n",
       "      <td>Fighting</td>\n",
       "      <td>NaN</td>\n",
       "    </tr>\n",
       "    <tr>\n",
       "      <th>3</th>\n",
       "      <td>2600</td>\n",
       "      <td>Misc</td>\n",
       "      <td>NaN</td>\n",
       "    </tr>\n",
       "    <tr>\n",
       "      <th>4</th>\n",
       "      <td>2600</td>\n",
       "      <td>Platform</td>\n",
       "      <td>NaN</td>\n",
       "    </tr>\n",
       "    <tr>\n",
       "      <th>...</th>\n",
       "      <td>...</td>\n",
       "      <td>...</td>\n",
       "      <td>...</td>\n",
       "    </tr>\n",
       "    <tr>\n",
       "      <th>289</th>\n",
       "      <td>XOne</td>\n",
       "      <td>Role-Playing</td>\n",
       "      <td>80.777778</td>\n",
       "    </tr>\n",
       "    <tr>\n",
       "      <th>290</th>\n",
       "      <td>XOne</td>\n",
       "      <td>Shooter</td>\n",
       "      <td>77.656250</td>\n",
       "    </tr>\n",
       "    <tr>\n",
       "      <th>291</th>\n",
       "      <td>XOne</td>\n",
       "      <td>Simulation</td>\n",
       "      <td>59.000000</td>\n",
       "    </tr>\n",
       "    <tr>\n",
       "      <th>292</th>\n",
       "      <td>XOne</td>\n",
       "      <td>Sports</td>\n",
       "      <td>71.093750</td>\n",
       "    </tr>\n",
       "    <tr>\n",
       "      <th>293</th>\n",
       "      <td>XOne</td>\n",
       "      <td>Strategy</td>\n",
       "      <td>70.000000</td>\n",
       "    </tr>\n",
       "  </tbody>\n",
       "</table>\n",
       "<p>294 rows × 3 columns</p>\n",
       "</div>"
      ],
      "text/plain": [
       "    platform         genre  mean_critic_score\n",
       "0       2600        Action                NaN\n",
       "1       2600     Adventure                NaN\n",
       "2       2600      Fighting                NaN\n",
       "3       2600          Misc                NaN\n",
       "4       2600      Platform                NaN\n",
       "..       ...           ...                ...\n",
       "289     XOne  Role-Playing          80.777778\n",
       "290     XOne       Shooter          77.656250\n",
       "291     XOne    Simulation          59.000000\n",
       "292     XOne        Sports          71.093750\n",
       "293     XOne      Strategy          70.000000\n",
       "\n",
       "[294 rows x 3 columns]"
      ]
     },
     "execution_count": 13,
     "metadata": {},
     "output_type": "execute_result"
    }
   ],
   "source": [
    "#Contar valores únicos en 'critic_score'\n",
    "print(df_games['critic_score'].value_counts(dropna=False).sort_index())\n",
    "print()\n",
    "\n",
    "\n",
    "# Obtener la media de 'critic_score' por plataforma y género y mostrar pantalla\n",
    "\n",
    "#games_critic_score_not_null = df_games[df_games['critic_score'].notnull()]\n",
    "\n",
    "games_critic_score_mean_by_platform_genre = df_games.groupby(['platform','genre'])['critic_score'].mean().reset_index()\n",
    "games_critic_score_mean_by_platform_genre.rename(columns={'critic_score':'mean_critic_score'}, inplace=True)\n",
    "games_critic_score_mean_by_platform_genre"
   ]
  },
  {
   "cell_type": "code",
   "execution_count": 14,
   "metadata": {
    "trusted": false
   },
   "outputs": [
    {
     "name": "stdout",
     "output_type": "stream",
     "text": [
      "<class 'pandas.core.frame.DataFrame'>\n",
      "Int64Index: 16715 entries, 0 to 16714\n",
      "Data columns (total 11 columns):\n",
      " #   Column           Non-Null Count  Dtype  \n",
      "---  ------           --------------  -----  \n",
      " 0   name             16715 non-null  object \n",
      " 1   platform         16715 non-null  object \n",
      " 2   year_of_release  16715 non-null  int64  \n",
      " 3   genre            16715 non-null  object \n",
      " 4   na_sales         16715 non-null  float64\n",
      " 5   eu_sales         16715 non-null  float64\n",
      " 6   jp_sales         16715 non-null  float64\n",
      " 7   other_sales      16715 non-null  float64\n",
      " 8   critic_score     15581 non-null  float64\n",
      " 9   user_score       10014 non-null  object \n",
      " 10  rating           9949 non-null   object \n",
      "dtypes: float64(5), int64(1), object(5)\n",
      "memory usage: 1.5+ MB\n",
      "None\n"
     ]
    },
    {
     "data": {
      "text/html": [
       "<div>\n",
       "<style scoped>\n",
       "    .dataframe tbody tr th:only-of-type {\n",
       "        vertical-align: middle;\n",
       "    }\n",
       "\n",
       "    .dataframe tbody tr th {\n",
       "        vertical-align: top;\n",
       "    }\n",
       "\n",
       "    .dataframe thead th {\n",
       "        text-align: right;\n",
       "    }\n",
       "</style>\n",
       "<table border=\"1\" class=\"dataframe\">\n",
       "  <thead>\n",
       "    <tr style=\"text-align: right;\">\n",
       "      <th></th>\n",
       "      <th>name</th>\n",
       "      <th>platform</th>\n",
       "      <th>year_of_release</th>\n",
       "      <th>genre</th>\n",
       "      <th>na_sales</th>\n",
       "      <th>eu_sales</th>\n",
       "      <th>jp_sales</th>\n",
       "      <th>other_sales</th>\n",
       "      <th>critic_score</th>\n",
       "      <th>user_score</th>\n",
       "      <th>rating</th>\n",
       "    </tr>\n",
       "  </thead>\n",
       "  <tbody>\n",
       "    <tr>\n",
       "      <th>0</th>\n",
       "      <td>Wii Sports</td>\n",
       "      <td>Wii</td>\n",
       "      <td>2006</td>\n",
       "      <td>Sports</td>\n",
       "      <td>41.36</td>\n",
       "      <td>28.96</td>\n",
       "      <td>3.77</td>\n",
       "      <td>8.45</td>\n",
       "      <td>76.000000</td>\n",
       "      <td>8</td>\n",
       "      <td>E</td>\n",
       "    </tr>\n",
       "    <tr>\n",
       "      <th>1</th>\n",
       "      <td>Super Mario Bros.</td>\n",
       "      <td>NES</td>\n",
       "      <td>1985</td>\n",
       "      <td>Platform</td>\n",
       "      <td>29.08</td>\n",
       "      <td>3.58</td>\n",
       "      <td>6.81</td>\n",
       "      <td>0.77</td>\n",
       "      <td>NaN</td>\n",
       "      <td>NaN</td>\n",
       "      <td>NaN</td>\n",
       "    </tr>\n",
       "    <tr>\n",
       "      <th>2</th>\n",
       "      <td>Mario Kart Wii</td>\n",
       "      <td>Wii</td>\n",
       "      <td>2008</td>\n",
       "      <td>Racing</td>\n",
       "      <td>15.68</td>\n",
       "      <td>12.76</td>\n",
       "      <td>3.79</td>\n",
       "      <td>3.29</td>\n",
       "      <td>82.000000</td>\n",
       "      <td>8.3</td>\n",
       "      <td>E</td>\n",
       "    </tr>\n",
       "    <tr>\n",
       "      <th>3</th>\n",
       "      <td>Wii Sports Resort</td>\n",
       "      <td>Wii</td>\n",
       "      <td>2009</td>\n",
       "      <td>Sports</td>\n",
       "      <td>15.61</td>\n",
       "      <td>10.93</td>\n",
       "      <td>3.28</td>\n",
       "      <td>2.95</td>\n",
       "      <td>80.000000</td>\n",
       "      <td>8</td>\n",
       "      <td>E</td>\n",
       "    </tr>\n",
       "    <tr>\n",
       "      <th>4</th>\n",
       "      <td>Pokemon Red/Pokemon Blue</td>\n",
       "      <td>GB</td>\n",
       "      <td>1996</td>\n",
       "      <td>Role-Playing</td>\n",
       "      <td>11.27</td>\n",
       "      <td>8.89</td>\n",
       "      <td>10.22</td>\n",
       "      <td>1.00</td>\n",
       "      <td>NaN</td>\n",
       "      <td>NaN</td>\n",
       "      <td>NaN</td>\n",
       "    </tr>\n",
       "    <tr>\n",
       "      <th>...</th>\n",
       "      <td>...</td>\n",
       "      <td>...</td>\n",
       "      <td>...</td>\n",
       "      <td>...</td>\n",
       "      <td>...</td>\n",
       "      <td>...</td>\n",
       "      <td>...</td>\n",
       "      <td>...</td>\n",
       "      <td>...</td>\n",
       "      <td>...</td>\n",
       "      <td>...</td>\n",
       "    </tr>\n",
       "    <tr>\n",
       "      <th>16710</th>\n",
       "      <td>Samurai Warriors: Sanada Maru</td>\n",
       "      <td>PS3</td>\n",
       "      <td>2016</td>\n",
       "      <td>Action</td>\n",
       "      <td>0.00</td>\n",
       "      <td>0.00</td>\n",
       "      <td>0.01</td>\n",
       "      <td>0.00</td>\n",
       "      <td>69.024896</td>\n",
       "      <td>NaN</td>\n",
       "      <td>NaN</td>\n",
       "    </tr>\n",
       "    <tr>\n",
       "      <th>16711</th>\n",
       "      <td>LMA Manager 2007</td>\n",
       "      <td>X360</td>\n",
       "      <td>2006</td>\n",
       "      <td>Sports</td>\n",
       "      <td>0.00</td>\n",
       "      <td>0.01</td>\n",
       "      <td>0.00</td>\n",
       "      <td>0.00</td>\n",
       "      <td>69.541401</td>\n",
       "      <td>NaN</td>\n",
       "      <td>NaN</td>\n",
       "    </tr>\n",
       "    <tr>\n",
       "      <th>16712</th>\n",
       "      <td>Haitaka no Psychedelica</td>\n",
       "      <td>PSV</td>\n",
       "      <td>2016</td>\n",
       "      <td>Adventure</td>\n",
       "      <td>0.00</td>\n",
       "      <td>0.00</td>\n",
       "      <td>0.01</td>\n",
       "      <td>0.00</td>\n",
       "      <td>71.400000</td>\n",
       "      <td>NaN</td>\n",
       "      <td>NaN</td>\n",
       "    </tr>\n",
       "    <tr>\n",
       "      <th>16713</th>\n",
       "      <td>Spirits &amp; Spells</td>\n",
       "      <td>GBA</td>\n",
       "      <td>2003</td>\n",
       "      <td>Platform</td>\n",
       "      <td>0.01</td>\n",
       "      <td>0.00</td>\n",
       "      <td>0.00</td>\n",
       "      <td>0.00</td>\n",
       "      <td>68.074074</td>\n",
       "      <td>NaN</td>\n",
       "      <td>NaN</td>\n",
       "    </tr>\n",
       "    <tr>\n",
       "      <th>16714</th>\n",
       "      <td>Winning Post 8 2016</td>\n",
       "      <td>PSV</td>\n",
       "      <td>2016</td>\n",
       "      <td>Simulation</td>\n",
       "      <td>0.00</td>\n",
       "      <td>0.00</td>\n",
       "      <td>0.01</td>\n",
       "      <td>0.00</td>\n",
       "      <td>NaN</td>\n",
       "      <td>NaN</td>\n",
       "      <td>NaN</td>\n",
       "    </tr>\n",
       "  </tbody>\n",
       "</table>\n",
       "<p>16715 rows × 11 columns</p>\n",
       "</div>"
      ],
      "text/plain": [
       "                                name platform  year_of_release         genre  \\\n",
       "0                         Wii Sports      Wii             2006        Sports   \n",
       "1                  Super Mario Bros.      NES             1985      Platform   \n",
       "2                     Mario Kart Wii      Wii             2008        Racing   \n",
       "3                  Wii Sports Resort      Wii             2009        Sports   \n",
       "4           Pokemon Red/Pokemon Blue       GB             1996  Role-Playing   \n",
       "...                              ...      ...              ...           ...   \n",
       "16710  Samurai Warriors: Sanada Maru      PS3             2016        Action   \n",
       "16711               LMA Manager 2007     X360             2006        Sports   \n",
       "16712        Haitaka no Psychedelica      PSV             2016     Adventure   \n",
       "16713               Spirits & Spells      GBA             2003      Platform   \n",
       "16714            Winning Post 8 2016      PSV             2016    Simulation   \n",
       "\n",
       "       na_sales  eu_sales  jp_sales  other_sales  critic_score user_score  \\\n",
       "0         41.36     28.96      3.77         8.45     76.000000          8   \n",
       "1         29.08      3.58      6.81         0.77           NaN        NaN   \n",
       "2         15.68     12.76      3.79         3.29     82.000000        8.3   \n",
       "3         15.61     10.93      3.28         2.95     80.000000          8   \n",
       "4         11.27      8.89     10.22         1.00           NaN        NaN   \n",
       "...         ...       ...       ...          ...           ...        ...   \n",
       "16710      0.00      0.00      0.01         0.00     69.024896        NaN   \n",
       "16711      0.00      0.01      0.00         0.00     69.541401        NaN   \n",
       "16712      0.00      0.00      0.01         0.00     71.400000        NaN   \n",
       "16713      0.01      0.00      0.00         0.00     68.074074        NaN   \n",
       "16714      0.00      0.00      0.01         0.00           NaN        NaN   \n",
       "\n",
       "      rating  \n",
       "0          E  \n",
       "1        NaN  \n",
       "2          E  \n",
       "3          E  \n",
       "4        NaN  \n",
       "...      ...  \n",
       "16710    NaN  \n",
       "16711    NaN  \n",
       "16712    NaN  \n",
       "16713    NaN  \n",
       "16714    NaN  \n",
       "\n",
       "[16715 rows x 11 columns]"
      ]
     },
     "execution_count": 14,
     "metadata": {},
     "output_type": "execute_result"
    }
   ],
   "source": [
    "# Rellenar los valores nulos en 'critic_score' con la media por plataforma y género\n",
    "\n",
    "df_games = df_games.merge(games_critic_score_mean_by_platform_genre, on=['platform', 'genre'], how='left')\n",
    "df_games['critic_score'] = np.where(df_games['critic_score'].isnull(), \n",
    "                                     df_games['mean_critic_score'], \n",
    "                                     df_games['critic_score'])\n",
    "\n",
    "df_games.drop(columns=['mean_critic_score'], inplace=True)\n",
    "print(df_games.info())\n",
    "\n",
    "df_games"
   ]
  },
  {
   "cell_type": "code",
   "execution_count": 15,
   "metadata": {
    "trusted": false
   },
   "outputs": [
    {
     "data": {
      "text/plain": [
       "name                  0\n",
       "platform              0\n",
       "year_of_release       0\n",
       "genre                 0\n",
       "na_sales              0\n",
       "eu_sales              0\n",
       "jp_sales              0\n",
       "other_sales           0\n",
       "critic_score       1134\n",
       "user_score         6701\n",
       "rating             6766\n",
       "dtype: int64"
      ]
     },
     "execution_count": 15,
     "metadata": {},
     "output_type": "execute_result"
    }
   ],
   "source": [
    "df_games.isna().sum()"
   ]
  },
  {
   "cell_type": "markdown",
   "metadata": {},
   "source": [
    "Después de rellenar los valores nulos de 'critic_score' con la media correspondiente para cada grupo, sigue habiendo un total de 1134 valores nulos en la misma columna, mismos que se rellenarán con la media de toda la columna, generalizada.\n"
   ]
  },
  {
   "cell_type": "code",
   "execution_count": 16,
   "metadata": {
    "trusted": false
   },
   "outputs": [
    {
     "data": {
      "text/plain": [
       "name                  0\n",
       "platform              0\n",
       "year_of_release       0\n",
       "genre                 0\n",
       "na_sales              0\n",
       "eu_sales              0\n",
       "jp_sales              0\n",
       "other_sales           0\n",
       "critic_score          0\n",
       "user_score         6701\n",
       "rating             6766\n",
       "dtype: int64"
      ]
     },
     "execution_count": 16,
     "metadata": {},
     "output_type": "execute_result"
    }
   ],
   "source": [
    "df_games['critic_score'] = df_games['critic_score'].fillna(df_games['critic_score'].mean())\n",
    "df_games.isna().sum()"
   ]
  },
  {
   "cell_type": "markdown",
   "metadata": {},
   "source": [
    "#### User Score"
   ]
  },
  {
   "cell_type": "code",
   "execution_count": 17,
   "metadata": {
    "trusted": false
   },
   "outputs": [
    {
     "name": "stdout",
     "output_type": "stream",
     "text": [
      "tbd    2424\n",
      "9.7       1\n",
      "9.6       2\n",
      "9.5       6\n",
      "9.4      11\n",
      "       ... \n",
      "0.5       2\n",
      "0.3       2\n",
      "0.2       2\n",
      "0         1\n",
      "NaN    6701\n",
      "Name: user_score, Length: 97, dtype: int64\n",
      "\n",
      "\n",
      "9.7       1\n",
      "9.6       2\n",
      "9.5       6\n",
      "9.4      11\n",
      "9.3      31\n",
      "       ... \n",
      "0.5       2\n",
      "0.3       2\n",
      "0.2       2\n",
      "0.0       1\n",
      "NaN    9125\n",
      "Name: user_score, Length: 96, dtype: int64\n",
      "<class 'pandas.core.frame.DataFrame'>\n",
      "Int64Index: 16715 entries, 0 to 16714\n",
      "Data columns (total 11 columns):\n",
      " #   Column           Non-Null Count  Dtype  \n",
      "---  ------           --------------  -----  \n",
      " 0   name             16715 non-null  object \n",
      " 1   platform         16715 non-null  object \n",
      " 2   year_of_release  16715 non-null  int64  \n",
      " 3   genre            16715 non-null  object \n",
      " 4   na_sales         16715 non-null  float64\n",
      " 5   eu_sales         16715 non-null  float64\n",
      " 6   jp_sales         16715 non-null  float64\n",
      " 7   other_sales      16715 non-null  float64\n",
      " 8   critic_score     16715 non-null  float64\n",
      " 9   user_score       7590 non-null   float64\n",
      " 10  rating           9949 non-null   object \n",
      "dtypes: float64(6), int64(1), object(4)\n",
      "memory usage: 1.5+ MB\n",
      "None\n"
     ]
    }
   ],
   "source": [
    "#Contar valores únicos en 'user_score'\n",
    "print(df_games['user_score'].value_counts(dropna=False).sort_index(ascending=False))\n",
    "print()\n",
    "\n",
    "# Cambiar el tipo de dato de 'user_score' a float\n",
    "df_games['user_score'] = pd.to_numeric(df_games['user_score'], errors='coerce')\n",
    "\n",
    "# Revisar que 'tbd' se consideran valores nulos\n",
    "print()\n",
    "print(df_games['user_score'].value_counts(dropna=False).sort_index(ascending=False))\n",
    "\n",
    "# Revisar tipo de dato de 'user_score'\n",
    "print(df_games.info())"
   ]
  },
  {
   "cell_type": "markdown",
   "metadata": {},
   "source": [
    "Del mismo modo que 'critic_score', 'user_score' también contiene una gran cantidad de valores nulos, y además otra cantidad considerable con las siglas 'tbd' que tampoco representa un valor útil.\n",
    "\n",
    "Del mismo modo que con 'critic_score' estos valores nulos o 'tbd' es posible que existan debido a falta de información, juego muy viejo o muy reciente.\n",
    "\n",
    "Los valores 'tbd' se manejarán como valores nulos y a su vez, estos se rellenarán con la media correspondiente de 'user_score' por plataforma y género.\n",
    "\n",
    "También, se comprueba que el tipo de dato de 'user_score' es ahora float, para permitir el análisis estadístico. \n"
   ]
  },
  {
   "cell_type": "code",
   "execution_count": 18,
   "metadata": {
    "trusted": false
   },
   "outputs": [
    {
     "data": {
      "text/html": [
       "<div>\n",
       "<style scoped>\n",
       "    .dataframe tbody tr th:only-of-type {\n",
       "        vertical-align: middle;\n",
       "    }\n",
       "\n",
       "    .dataframe tbody tr th {\n",
       "        vertical-align: top;\n",
       "    }\n",
       "\n",
       "    .dataframe thead th {\n",
       "        text-align: right;\n",
       "    }\n",
       "</style>\n",
       "<table border=\"1\" class=\"dataframe\">\n",
       "  <thead>\n",
       "    <tr style=\"text-align: right;\">\n",
       "      <th></th>\n",
       "      <th>platform</th>\n",
       "      <th>genre</th>\n",
       "      <th>mean_user_score</th>\n",
       "    </tr>\n",
       "  </thead>\n",
       "  <tbody>\n",
       "    <tr>\n",
       "      <th>0</th>\n",
       "      <td>2600</td>\n",
       "      <td>Action</td>\n",
       "      <td>NaN</td>\n",
       "    </tr>\n",
       "    <tr>\n",
       "      <th>1</th>\n",
       "      <td>2600</td>\n",
       "      <td>Adventure</td>\n",
       "      <td>NaN</td>\n",
       "    </tr>\n",
       "    <tr>\n",
       "      <th>2</th>\n",
       "      <td>2600</td>\n",
       "      <td>Fighting</td>\n",
       "      <td>NaN</td>\n",
       "    </tr>\n",
       "    <tr>\n",
       "      <th>3</th>\n",
       "      <td>2600</td>\n",
       "      <td>Misc</td>\n",
       "      <td>NaN</td>\n",
       "    </tr>\n",
       "    <tr>\n",
       "      <th>4</th>\n",
       "      <td>2600</td>\n",
       "      <td>Platform</td>\n",
       "      <td>NaN</td>\n",
       "    </tr>\n",
       "    <tr>\n",
       "      <th>...</th>\n",
       "      <td>...</td>\n",
       "      <td>...</td>\n",
       "      <td>...</td>\n",
       "    </tr>\n",
       "    <tr>\n",
       "      <th>289</th>\n",
       "      <td>XOne</td>\n",
       "      <td>Role-Playing</td>\n",
       "      <td>7.522222</td>\n",
       "    </tr>\n",
       "    <tr>\n",
       "      <th>290</th>\n",
       "      <td>XOne</td>\n",
       "      <td>Shooter</td>\n",
       "      <td>6.561290</td>\n",
       "    </tr>\n",
       "    <tr>\n",
       "      <th>291</th>\n",
       "      <td>XOne</td>\n",
       "      <td>Simulation</td>\n",
       "      <td>6.300000</td>\n",
       "    </tr>\n",
       "    <tr>\n",
       "      <th>292</th>\n",
       "      <td>XOne</td>\n",
       "      <td>Sports</td>\n",
       "      <td>5.567647</td>\n",
       "    </tr>\n",
       "    <tr>\n",
       "      <th>293</th>\n",
       "      <td>XOne</td>\n",
       "      <td>Strategy</td>\n",
       "      <td>7.500000</td>\n",
       "    </tr>\n",
       "  </tbody>\n",
       "</table>\n",
       "<p>294 rows × 3 columns</p>\n",
       "</div>"
      ],
      "text/plain": [
       "    platform         genre  mean_user_score\n",
       "0       2600        Action              NaN\n",
       "1       2600     Adventure              NaN\n",
       "2       2600      Fighting              NaN\n",
       "3       2600          Misc              NaN\n",
       "4       2600      Platform              NaN\n",
       "..       ...           ...              ...\n",
       "289     XOne  Role-Playing         7.522222\n",
       "290     XOne       Shooter         6.561290\n",
       "291     XOne    Simulation         6.300000\n",
       "292     XOne        Sports         5.567647\n",
       "293     XOne      Strategy         7.500000\n",
       "\n",
       "[294 rows x 3 columns]"
      ]
     },
     "execution_count": 18,
     "metadata": {},
     "output_type": "execute_result"
    }
   ],
   "source": [
    "# Obtener la media de 'user_score' por plataforma y género y mostrar pantalla\n",
    "\n",
    "#games_critic_score_not_null = df_games[df_games['critic_score'].notnull()]\n",
    "\n",
    "games_user_score_mean_by_platform_genre = df_games.groupby(['platform','genre'])['user_score'].mean().reset_index()\n",
    "games_user_score_mean_by_platform_genre.rename(columns={'user_score':'mean_user_score'}, inplace=True)\n",
    "games_user_score_mean_by_platform_genre"
   ]
  },
  {
   "cell_type": "code",
   "execution_count": 19,
   "metadata": {
    "trusted": false
   },
   "outputs": [
    {
     "name": "stdout",
     "output_type": "stream",
     "text": [
      "name                  0\n",
      "platform              0\n",
      "year_of_release       0\n",
      "genre                 0\n",
      "na_sales              0\n",
      "eu_sales              0\n",
      "jp_sales              0\n",
      "other_sales           0\n",
      "critic_score          0\n",
      "user_score         1127\n",
      "rating             6766\n",
      "dtype: int64\n"
     ]
    },
    {
     "data": {
      "text/html": [
       "<div>\n",
       "<style scoped>\n",
       "    .dataframe tbody tr th:only-of-type {\n",
       "        vertical-align: middle;\n",
       "    }\n",
       "\n",
       "    .dataframe tbody tr th {\n",
       "        vertical-align: top;\n",
       "    }\n",
       "\n",
       "    .dataframe thead th {\n",
       "        text-align: right;\n",
       "    }\n",
       "</style>\n",
       "<table border=\"1\" class=\"dataframe\">\n",
       "  <thead>\n",
       "    <tr style=\"text-align: right;\">\n",
       "      <th></th>\n",
       "      <th>name</th>\n",
       "      <th>platform</th>\n",
       "      <th>year_of_release</th>\n",
       "      <th>genre</th>\n",
       "      <th>na_sales</th>\n",
       "      <th>eu_sales</th>\n",
       "      <th>jp_sales</th>\n",
       "      <th>other_sales</th>\n",
       "      <th>critic_score</th>\n",
       "      <th>user_score</th>\n",
       "      <th>rating</th>\n",
       "    </tr>\n",
       "  </thead>\n",
       "  <tbody>\n",
       "    <tr>\n",
       "      <th>0</th>\n",
       "      <td>Wii Sports</td>\n",
       "      <td>Wii</td>\n",
       "      <td>2006</td>\n",
       "      <td>Sports</td>\n",
       "      <td>41.36</td>\n",
       "      <td>28.96</td>\n",
       "      <td>3.77</td>\n",
       "      <td>8.45</td>\n",
       "      <td>76.000000</td>\n",
       "      <td>8.000000</td>\n",
       "      <td>E</td>\n",
       "    </tr>\n",
       "    <tr>\n",
       "      <th>1</th>\n",
       "      <td>Super Mario Bros.</td>\n",
       "      <td>NES</td>\n",
       "      <td>1985</td>\n",
       "      <td>Platform</td>\n",
       "      <td>29.08</td>\n",
       "      <td>3.58</td>\n",
       "      <td>6.81</td>\n",
       "      <td>0.77</td>\n",
       "      <td>68.244875</td>\n",
       "      <td>NaN</td>\n",
       "      <td>NaN</td>\n",
       "    </tr>\n",
       "    <tr>\n",
       "      <th>2</th>\n",
       "      <td>Mario Kart Wii</td>\n",
       "      <td>Wii</td>\n",
       "      <td>2008</td>\n",
       "      <td>Racing</td>\n",
       "      <td>15.68</td>\n",
       "      <td>12.76</td>\n",
       "      <td>3.79</td>\n",
       "      <td>3.29</td>\n",
       "      <td>82.000000</td>\n",
       "      <td>8.300000</td>\n",
       "      <td>E</td>\n",
       "    </tr>\n",
       "    <tr>\n",
       "      <th>3</th>\n",
       "      <td>Wii Sports Resort</td>\n",
       "      <td>Wii</td>\n",
       "      <td>2009</td>\n",
       "      <td>Sports</td>\n",
       "      <td>15.61</td>\n",
       "      <td>10.93</td>\n",
       "      <td>3.28</td>\n",
       "      <td>2.95</td>\n",
       "      <td>80.000000</td>\n",
       "      <td>8.000000</td>\n",
       "      <td>E</td>\n",
       "    </tr>\n",
       "    <tr>\n",
       "      <th>4</th>\n",
       "      <td>Pokemon Red/Pokemon Blue</td>\n",
       "      <td>GB</td>\n",
       "      <td>1996</td>\n",
       "      <td>Role-Playing</td>\n",
       "      <td>11.27</td>\n",
       "      <td>8.89</td>\n",
       "      <td>10.22</td>\n",
       "      <td>1.00</td>\n",
       "      <td>68.244875</td>\n",
       "      <td>NaN</td>\n",
       "      <td>NaN</td>\n",
       "    </tr>\n",
       "    <tr>\n",
       "      <th>...</th>\n",
       "      <td>...</td>\n",
       "      <td>...</td>\n",
       "      <td>...</td>\n",
       "      <td>...</td>\n",
       "      <td>...</td>\n",
       "      <td>...</td>\n",
       "      <td>...</td>\n",
       "      <td>...</td>\n",
       "      <td>...</td>\n",
       "      <td>...</td>\n",
       "      <td>...</td>\n",
       "    </tr>\n",
       "    <tr>\n",
       "      <th>16710</th>\n",
       "      <td>Samurai Warriors: Sanada Maru</td>\n",
       "      <td>PS3</td>\n",
       "      <td>2016</td>\n",
       "      <td>Action</td>\n",
       "      <td>0.00</td>\n",
       "      <td>0.00</td>\n",
       "      <td>0.01</td>\n",
       "      <td>0.00</td>\n",
       "      <td>69.024896</td>\n",
       "      <td>6.917045</td>\n",
       "      <td>NaN</td>\n",
       "    </tr>\n",
       "    <tr>\n",
       "      <th>16711</th>\n",
       "      <td>LMA Manager 2007</td>\n",
       "      <td>X360</td>\n",
       "      <td>2006</td>\n",
       "      <td>Sports</td>\n",
       "      <td>0.00</td>\n",
       "      <td>0.01</td>\n",
       "      <td>0.00</td>\n",
       "      <td>0.00</td>\n",
       "      <td>69.541401</td>\n",
       "      <td>6.298802</td>\n",
       "      <td>NaN</td>\n",
       "    </tr>\n",
       "    <tr>\n",
       "      <th>16712</th>\n",
       "      <td>Haitaka no Psychedelica</td>\n",
       "      <td>PSV</td>\n",
       "      <td>2016</td>\n",
       "      <td>Adventure</td>\n",
       "      <td>0.00</td>\n",
       "      <td>0.00</td>\n",
       "      <td>0.01</td>\n",
       "      <td>0.00</td>\n",
       "      <td>71.400000</td>\n",
       "      <td>7.775000</td>\n",
       "      <td>NaN</td>\n",
       "    </tr>\n",
       "    <tr>\n",
       "      <th>16713</th>\n",
       "      <td>Spirits &amp; Spells</td>\n",
       "      <td>GBA</td>\n",
       "      <td>2003</td>\n",
       "      <td>Platform</td>\n",
       "      <td>0.01</td>\n",
       "      <td>0.00</td>\n",
       "      <td>0.00</td>\n",
       "      <td>0.00</td>\n",
       "      <td>68.074074</td>\n",
       "      <td>7.703846</td>\n",
       "      <td>NaN</td>\n",
       "    </tr>\n",
       "    <tr>\n",
       "      <th>16714</th>\n",
       "      <td>Winning Post 8 2016</td>\n",
       "      <td>PSV</td>\n",
       "      <td>2016</td>\n",
       "      <td>Simulation</td>\n",
       "      <td>0.00</td>\n",
       "      <td>0.00</td>\n",
       "      <td>0.01</td>\n",
       "      <td>0.00</td>\n",
       "      <td>68.244875</td>\n",
       "      <td>NaN</td>\n",
       "      <td>NaN</td>\n",
       "    </tr>\n",
       "  </tbody>\n",
       "</table>\n",
       "<p>16715 rows × 11 columns</p>\n",
       "</div>"
      ],
      "text/plain": [
       "                                name platform  year_of_release         genre  \\\n",
       "0                         Wii Sports      Wii             2006        Sports   \n",
       "1                  Super Mario Bros.      NES             1985      Platform   \n",
       "2                     Mario Kart Wii      Wii             2008        Racing   \n",
       "3                  Wii Sports Resort      Wii             2009        Sports   \n",
       "4           Pokemon Red/Pokemon Blue       GB             1996  Role-Playing   \n",
       "...                              ...      ...              ...           ...   \n",
       "16710  Samurai Warriors: Sanada Maru      PS3             2016        Action   \n",
       "16711               LMA Manager 2007     X360             2006        Sports   \n",
       "16712        Haitaka no Psychedelica      PSV             2016     Adventure   \n",
       "16713               Spirits & Spells      GBA             2003      Platform   \n",
       "16714            Winning Post 8 2016      PSV             2016    Simulation   \n",
       "\n",
       "       na_sales  eu_sales  jp_sales  other_sales  critic_score  user_score  \\\n",
       "0         41.36     28.96      3.77         8.45     76.000000    8.000000   \n",
       "1         29.08      3.58      6.81         0.77     68.244875         NaN   \n",
       "2         15.68     12.76      3.79         3.29     82.000000    8.300000   \n",
       "3         15.61     10.93      3.28         2.95     80.000000    8.000000   \n",
       "4         11.27      8.89     10.22         1.00     68.244875         NaN   \n",
       "...         ...       ...       ...          ...           ...         ...   \n",
       "16710      0.00      0.00      0.01         0.00     69.024896    6.917045   \n",
       "16711      0.00      0.01      0.00         0.00     69.541401    6.298802   \n",
       "16712      0.00      0.00      0.01         0.00     71.400000    7.775000   \n",
       "16713      0.01      0.00      0.00         0.00     68.074074    7.703846   \n",
       "16714      0.00      0.00      0.01         0.00     68.244875         NaN   \n",
       "\n",
       "      rating  \n",
       "0          E  \n",
       "1        NaN  \n",
       "2          E  \n",
       "3          E  \n",
       "4        NaN  \n",
       "...      ...  \n",
       "16710    NaN  \n",
       "16711    NaN  \n",
       "16712    NaN  \n",
       "16713    NaN  \n",
       "16714    NaN  \n",
       "\n",
       "[16715 rows x 11 columns]"
      ]
     },
     "execution_count": 19,
     "metadata": {},
     "output_type": "execute_result"
    }
   ],
   "source": [
    "# Rellenar los valores nulos en 'user_score' con la media correspondiente\n",
    "\n",
    "df_games = df_games.merge(games_user_score_mean_by_platform_genre, on=['platform', 'genre'], how='left')\n",
    "df_games['user_score'] = np.where(df_games['user_score'].isnull(), \n",
    "                                     df_games['mean_user_score'], \n",
    "                                     df_games['user_score'])\n",
    "\n",
    "\n",
    "df_games.drop(columns=['mean_user_score'], inplace=True)\n",
    "print(df_games.isnull().sum())\n",
    "\n",
    "df_games"
   ]
  },
  {
   "cell_type": "markdown",
   "metadata": {},
   "source": [
    "Después de rellenar los valores nulos de 'user_score' con la media correspondiente para cada grupo, sigue habiendo un total de 1127 valores nulos en la misma columna, de la misma manera que con 'critic_score' se rellenarán con la media de toda la columna, generalizada."
   ]
  },
  {
   "cell_type": "code",
   "execution_count": 20,
   "metadata": {
    "trusted": false
   },
   "outputs": [
    {
     "data": {
      "text/plain": [
       "name                  0\n",
       "platform              0\n",
       "year_of_release       0\n",
       "genre                 0\n",
       "na_sales              0\n",
       "eu_sales              0\n",
       "jp_sales              0\n",
       "other_sales           0\n",
       "critic_score          0\n",
       "user_score            0\n",
       "rating             6766\n",
       "dtype: int64"
      ]
     },
     "execution_count": 20,
     "metadata": {},
     "output_type": "execute_result"
    }
   ],
   "source": [
    "df_games['user_score'] = df_games['user_score'].fillna(df_games['user_score'].mean())\n",
    "df_games.isna().sum()"
   ]
  },
  {
   "cell_type": "markdown",
   "metadata": {},
   "source": [
    "#### Rating"
   ]
  },
  {
   "cell_type": "code",
   "execution_count": 21,
   "metadata": {
    "trusted": false
   },
   "outputs": [
    {
     "data": {
      "text/plain": [
       "AO         1\n",
       "E       3990\n",
       "E10+    1420\n",
       "EC         8\n",
       "K-A        3\n",
       "M       1563\n",
       "RP         3\n",
       "T       2961\n",
       "NaN     6766\n",
       "Name: rating, dtype: int64"
      ]
     },
     "execution_count": 21,
     "metadata": {},
     "output_type": "execute_result"
    }
   ],
   "source": [
    "df_games['rating'].value_counts(dropna=False).sort_index()"
   ]
  },
  {
   "cell_type": "code",
   "execution_count": 22,
   "metadata": {
    "trusted": false
   },
   "outputs": [
    {
     "data": {
      "text/plain": [
       "name               0\n",
       "platform           0\n",
       "year_of_release    0\n",
       "genre              0\n",
       "na_sales           0\n",
       "eu_sales           0\n",
       "jp_sales           0\n",
       "other_sales        0\n",
       "critic_score       0\n",
       "user_score         0\n",
       "rating             0\n",
       "dtype: int64"
      ]
     },
     "execution_count": 22,
     "metadata": {},
     "output_type": "execute_result"
    }
   ],
   "source": [
    "df_games['rating'] = df_games['rating'].fillna('unknown')\n",
    "df_games.isna().sum()"
   ]
  },
  {
   "cell_type": "markdown",
   "metadata": {},
   "source": [
    "Se rellenaron los valores nulos de la columna 'rating' por 'desconocido'."
   ]
  },
  {
   "cell_type": "markdown",
   "metadata": {},
   "source": [
    "#### Búsqueda de duplicados"
   ]
  },
  {
   "cell_type": "code",
   "execution_count": 23,
   "metadata": {
    "trusted": false
   },
   "outputs": [
    {
     "name": "stdout",
     "output_type": "stream",
     "text": [
      "0\n",
      "\n",
      "['Wii' 'NES' 'GB' 'DS' 'X360' 'PS3' 'PS2' 'SNES' 'GBA' 'PS4' '3DS' 'N64'\n",
      " 'PS' 'XB' 'PC' '2600' 'PSP' 'XOne' 'WiiU' 'GC' 'GEN' 'DC' 'PSV' 'SAT'\n",
      " 'SCD' 'WS' 'NG' 'TG16' '3DO' 'GG' 'PCFX']\n",
      "\n",
      "['Sports' 'Platform' 'Racing' 'Role-Playing' 'Puzzle' 'Misc' 'Shooter'\n",
      " 'Simulation' 'Action' 'Fighting' 'Adventure' 'Strategy' 'unknown']\n",
      "\n",
      "5\n"
     ]
    },
    {
     "data": {
      "text/html": [
       "<div>\n",
       "<style scoped>\n",
       "    .dataframe tbody tr th:only-of-type {\n",
       "        vertical-align: middle;\n",
       "    }\n",
       "\n",
       "    .dataframe tbody tr th {\n",
       "        vertical-align: top;\n",
       "    }\n",
       "\n",
       "    .dataframe thead th {\n",
       "        text-align: right;\n",
       "    }\n",
       "</style>\n",
       "<table border=\"1\" class=\"dataframe\">\n",
       "  <thead>\n",
       "    <tr style=\"text-align: right;\">\n",
       "      <th></th>\n",
       "      <th>name</th>\n",
       "      <th>platform</th>\n",
       "      <th>year_of_release</th>\n",
       "      <th>genre</th>\n",
       "      <th>na_sales</th>\n",
       "      <th>eu_sales</th>\n",
       "      <th>jp_sales</th>\n",
       "      <th>other_sales</th>\n",
       "      <th>critic_score</th>\n",
       "      <th>user_score</th>\n",
       "      <th>rating</th>\n",
       "    </tr>\n",
       "  </thead>\n",
       "  <tbody>\n",
       "    <tr>\n",
       "      <th>1591</th>\n",
       "      <td>Need for Speed: Most Wanted</td>\n",
       "      <td>X360</td>\n",
       "      <td>2005</td>\n",
       "      <td>Racing</td>\n",
       "      <td>1.0</td>\n",
       "      <td>0.13</td>\n",
       "      <td>0.02</td>\n",
       "      <td>0.10</td>\n",
       "      <td>83.000000</td>\n",
       "      <td>8.500000</td>\n",
       "      <td>T</td>\n",
       "    </tr>\n",
       "    <tr>\n",
       "      <th>4127</th>\n",
       "      <td>Sonic the Hedgehog</td>\n",
       "      <td>PS3</td>\n",
       "      <td>9999</td>\n",
       "      <td>Platform</td>\n",
       "      <td>0.0</td>\n",
       "      <td>0.48</td>\n",
       "      <td>0.00</td>\n",
       "      <td>0.00</td>\n",
       "      <td>43.000000</td>\n",
       "      <td>4.100000</td>\n",
       "      <td>E10+</td>\n",
       "    </tr>\n",
       "    <tr>\n",
       "      <th>11715</th>\n",
       "      <td>Need for Speed: Most Wanted</td>\n",
       "      <td>PC</td>\n",
       "      <td>2012</td>\n",
       "      <td>Racing</td>\n",
       "      <td>0.0</td>\n",
       "      <td>0.06</td>\n",
       "      <td>0.00</td>\n",
       "      <td>0.02</td>\n",
       "      <td>82.000000</td>\n",
       "      <td>8.500000</td>\n",
       "      <td>T</td>\n",
       "    </tr>\n",
       "    <tr>\n",
       "      <th>14244</th>\n",
       "      <td>unknown</td>\n",
       "      <td>GEN</td>\n",
       "      <td>1993</td>\n",
       "      <td>unknown</td>\n",
       "      <td>0.0</td>\n",
       "      <td>0.00</td>\n",
       "      <td>0.03</td>\n",
       "      <td>0.00</td>\n",
       "      <td>68.244875</td>\n",
       "      <td>7.154146</td>\n",
       "      <td>unknown</td>\n",
       "    </tr>\n",
       "    <tr>\n",
       "      <th>16230</th>\n",
       "      <td>Madden NFL 13</td>\n",
       "      <td>PS3</td>\n",
       "      <td>2012</td>\n",
       "      <td>Sports</td>\n",
       "      <td>0.0</td>\n",
       "      <td>0.01</td>\n",
       "      <td>0.00</td>\n",
       "      <td>0.00</td>\n",
       "      <td>83.000000</td>\n",
       "      <td>5.500000</td>\n",
       "      <td>E</td>\n",
       "    </tr>\n",
       "  </tbody>\n",
       "</table>\n",
       "</div>"
      ],
      "text/plain": [
       "                              name platform  year_of_release     genre  \\\n",
       "1591   Need for Speed: Most Wanted     X360             2005    Racing   \n",
       "4127            Sonic the Hedgehog      PS3             9999  Platform   \n",
       "11715  Need for Speed: Most Wanted       PC             2012    Racing   \n",
       "14244                      unknown      GEN             1993   unknown   \n",
       "16230                Madden NFL 13      PS3             2012    Sports   \n",
       "\n",
       "       na_sales  eu_sales  jp_sales  other_sales  critic_score  user_score  \\\n",
       "1591        1.0      0.13      0.02         0.10     83.000000    8.500000   \n",
       "4127        0.0      0.48      0.00         0.00     43.000000    4.100000   \n",
       "11715       0.0      0.06      0.00         0.02     82.000000    8.500000   \n",
       "14244       0.0      0.00      0.03         0.00     68.244875    7.154146   \n",
       "16230       0.0      0.01      0.00         0.00     83.000000    5.500000   \n",
       "\n",
       "        rating  \n",
       "1591         T  \n",
       "4127      E10+  \n",
       "11715        T  \n",
       "14244  unknown  \n",
       "16230        E  "
      ]
     },
     "execution_count": 23,
     "metadata": {},
     "output_type": "execute_result"
    }
   ],
   "source": [
    "# Busca duplicados \n",
    "print(df_games.duplicated().sum())\n",
    "print('')\n",
    "print(df_games['platform'].unique())\n",
    "print('')\n",
    "print(df_games['genre'].unique())\n",
    "print('')\n",
    "print(df_games[['name','platform','genre']].duplicated().sum())\n",
    "\n",
    "df_games[df_games[['name','platform','genre']].duplicated()]"
   ]
  },
  {
   "cell_type": "markdown",
   "metadata": {},
   "source": [
    "No se encuentran líneas totalmente duplicadas, sin embargo existen 5 filas donde el nombre del juego, la plataforma y el género son idénticos"
   ]
  },
  {
   "cell_type": "markdown",
   "metadata": {},
   "source": [
    "#### Enriquecer los datos"
   ]
  },
  {
   "cell_type": "code",
   "execution_count": 24,
   "metadata": {
    "trusted": false
   },
   "outputs": [
    {
     "data": {
      "text/html": [
       "<div>\n",
       "<style scoped>\n",
       "    .dataframe tbody tr th:only-of-type {\n",
       "        vertical-align: middle;\n",
       "    }\n",
       "\n",
       "    .dataframe tbody tr th {\n",
       "        vertical-align: top;\n",
       "    }\n",
       "\n",
       "    .dataframe thead th {\n",
       "        text-align: right;\n",
       "    }\n",
       "</style>\n",
       "<table border=\"1\" class=\"dataframe\">\n",
       "  <thead>\n",
       "    <tr style=\"text-align: right;\">\n",
       "      <th></th>\n",
       "      <th>name</th>\n",
       "      <th>platform</th>\n",
       "      <th>year_of_release</th>\n",
       "      <th>genre</th>\n",
       "      <th>na_sales</th>\n",
       "      <th>eu_sales</th>\n",
       "      <th>jp_sales</th>\n",
       "      <th>other_sales</th>\n",
       "      <th>critic_score</th>\n",
       "      <th>user_score</th>\n",
       "      <th>rating</th>\n",
       "      <th>total_sales</th>\n",
       "    </tr>\n",
       "  </thead>\n",
       "  <tbody>\n",
       "    <tr>\n",
       "      <th>0</th>\n",
       "      <td>Wii Sports</td>\n",
       "      <td>Wii</td>\n",
       "      <td>2006</td>\n",
       "      <td>Sports</td>\n",
       "      <td>41.36</td>\n",
       "      <td>28.96</td>\n",
       "      <td>3.77</td>\n",
       "      <td>8.45</td>\n",
       "      <td>76.000000</td>\n",
       "      <td>8.000000</td>\n",
       "      <td>E</td>\n",
       "      <td>82.54</td>\n",
       "    </tr>\n",
       "    <tr>\n",
       "      <th>1</th>\n",
       "      <td>Super Mario Bros.</td>\n",
       "      <td>NES</td>\n",
       "      <td>1985</td>\n",
       "      <td>Platform</td>\n",
       "      <td>29.08</td>\n",
       "      <td>3.58</td>\n",
       "      <td>6.81</td>\n",
       "      <td>0.77</td>\n",
       "      <td>68.244875</td>\n",
       "      <td>7.154146</td>\n",
       "      <td>unknown</td>\n",
       "      <td>40.24</td>\n",
       "    </tr>\n",
       "    <tr>\n",
       "      <th>2</th>\n",
       "      <td>Mario Kart Wii</td>\n",
       "      <td>Wii</td>\n",
       "      <td>2008</td>\n",
       "      <td>Racing</td>\n",
       "      <td>15.68</td>\n",
       "      <td>12.76</td>\n",
       "      <td>3.79</td>\n",
       "      <td>3.29</td>\n",
       "      <td>82.000000</td>\n",
       "      <td>8.300000</td>\n",
       "      <td>E</td>\n",
       "      <td>35.52</td>\n",
       "    </tr>\n",
       "    <tr>\n",
       "      <th>3</th>\n",
       "      <td>Wii Sports Resort</td>\n",
       "      <td>Wii</td>\n",
       "      <td>2009</td>\n",
       "      <td>Sports</td>\n",
       "      <td>15.61</td>\n",
       "      <td>10.93</td>\n",
       "      <td>3.28</td>\n",
       "      <td>2.95</td>\n",
       "      <td>80.000000</td>\n",
       "      <td>8.000000</td>\n",
       "      <td>E</td>\n",
       "      <td>32.77</td>\n",
       "    </tr>\n",
       "    <tr>\n",
       "      <th>4</th>\n",
       "      <td>Pokemon Red/Pokemon Blue</td>\n",
       "      <td>GB</td>\n",
       "      <td>1996</td>\n",
       "      <td>Role-Playing</td>\n",
       "      <td>11.27</td>\n",
       "      <td>8.89</td>\n",
       "      <td>10.22</td>\n",
       "      <td>1.00</td>\n",
       "      <td>68.244875</td>\n",
       "      <td>7.154146</td>\n",
       "      <td>unknown</td>\n",
       "      <td>31.38</td>\n",
       "    </tr>\n",
       "    <tr>\n",
       "      <th>...</th>\n",
       "      <td>...</td>\n",
       "      <td>...</td>\n",
       "      <td>...</td>\n",
       "      <td>...</td>\n",
       "      <td>...</td>\n",
       "      <td>...</td>\n",
       "      <td>...</td>\n",
       "      <td>...</td>\n",
       "      <td>...</td>\n",
       "      <td>...</td>\n",
       "      <td>...</td>\n",
       "      <td>...</td>\n",
       "    </tr>\n",
       "    <tr>\n",
       "      <th>16710</th>\n",
       "      <td>Samurai Warriors: Sanada Maru</td>\n",
       "      <td>PS3</td>\n",
       "      <td>2016</td>\n",
       "      <td>Action</td>\n",
       "      <td>0.00</td>\n",
       "      <td>0.00</td>\n",
       "      <td>0.01</td>\n",
       "      <td>0.00</td>\n",
       "      <td>69.024896</td>\n",
       "      <td>6.917045</td>\n",
       "      <td>unknown</td>\n",
       "      <td>0.01</td>\n",
       "    </tr>\n",
       "    <tr>\n",
       "      <th>16711</th>\n",
       "      <td>LMA Manager 2007</td>\n",
       "      <td>X360</td>\n",
       "      <td>2006</td>\n",
       "      <td>Sports</td>\n",
       "      <td>0.00</td>\n",
       "      <td>0.01</td>\n",
       "      <td>0.00</td>\n",
       "      <td>0.00</td>\n",
       "      <td>69.541401</td>\n",
       "      <td>6.298802</td>\n",
       "      <td>unknown</td>\n",
       "      <td>0.01</td>\n",
       "    </tr>\n",
       "    <tr>\n",
       "      <th>16712</th>\n",
       "      <td>Haitaka no Psychedelica</td>\n",
       "      <td>PSV</td>\n",
       "      <td>2016</td>\n",
       "      <td>Adventure</td>\n",
       "      <td>0.00</td>\n",
       "      <td>0.00</td>\n",
       "      <td>0.01</td>\n",
       "      <td>0.00</td>\n",
       "      <td>71.400000</td>\n",
       "      <td>7.775000</td>\n",
       "      <td>unknown</td>\n",
       "      <td>0.01</td>\n",
       "    </tr>\n",
       "    <tr>\n",
       "      <th>16713</th>\n",
       "      <td>Spirits &amp; Spells</td>\n",
       "      <td>GBA</td>\n",
       "      <td>2003</td>\n",
       "      <td>Platform</td>\n",
       "      <td>0.01</td>\n",
       "      <td>0.00</td>\n",
       "      <td>0.00</td>\n",
       "      <td>0.00</td>\n",
       "      <td>68.074074</td>\n",
       "      <td>7.703846</td>\n",
       "      <td>unknown</td>\n",
       "      <td>0.01</td>\n",
       "    </tr>\n",
       "    <tr>\n",
       "      <th>16714</th>\n",
       "      <td>Winning Post 8 2016</td>\n",
       "      <td>PSV</td>\n",
       "      <td>2016</td>\n",
       "      <td>Simulation</td>\n",
       "      <td>0.00</td>\n",
       "      <td>0.00</td>\n",
       "      <td>0.01</td>\n",
       "      <td>0.00</td>\n",
       "      <td>68.244875</td>\n",
       "      <td>7.154146</td>\n",
       "      <td>unknown</td>\n",
       "      <td>0.01</td>\n",
       "    </tr>\n",
       "  </tbody>\n",
       "</table>\n",
       "<p>16715 rows × 12 columns</p>\n",
       "</div>"
      ],
      "text/plain": [
       "                                name platform  year_of_release         genre  \\\n",
       "0                         Wii Sports      Wii             2006        Sports   \n",
       "1                  Super Mario Bros.      NES             1985      Platform   \n",
       "2                     Mario Kart Wii      Wii             2008        Racing   \n",
       "3                  Wii Sports Resort      Wii             2009        Sports   \n",
       "4           Pokemon Red/Pokemon Blue       GB             1996  Role-Playing   \n",
       "...                              ...      ...              ...           ...   \n",
       "16710  Samurai Warriors: Sanada Maru      PS3             2016        Action   \n",
       "16711               LMA Manager 2007     X360             2006        Sports   \n",
       "16712        Haitaka no Psychedelica      PSV             2016     Adventure   \n",
       "16713               Spirits & Spells      GBA             2003      Platform   \n",
       "16714            Winning Post 8 2016      PSV             2016    Simulation   \n",
       "\n",
       "       na_sales  eu_sales  jp_sales  other_sales  critic_score  user_score  \\\n",
       "0         41.36     28.96      3.77         8.45     76.000000    8.000000   \n",
       "1         29.08      3.58      6.81         0.77     68.244875    7.154146   \n",
       "2         15.68     12.76      3.79         3.29     82.000000    8.300000   \n",
       "3         15.61     10.93      3.28         2.95     80.000000    8.000000   \n",
       "4         11.27      8.89     10.22         1.00     68.244875    7.154146   \n",
       "...         ...       ...       ...          ...           ...         ...   \n",
       "16710      0.00      0.00      0.01         0.00     69.024896    6.917045   \n",
       "16711      0.00      0.01      0.00         0.00     69.541401    6.298802   \n",
       "16712      0.00      0.00      0.01         0.00     71.400000    7.775000   \n",
       "16713      0.01      0.00      0.00         0.00     68.074074    7.703846   \n",
       "16714      0.00      0.00      0.01         0.00     68.244875    7.154146   \n",
       "\n",
       "        rating  total_sales  \n",
       "0            E        82.54  \n",
       "1      unknown        40.24  \n",
       "2            E        35.52  \n",
       "3            E        32.77  \n",
       "4      unknown        31.38  \n",
       "...        ...          ...  \n",
       "16710  unknown         0.01  \n",
       "16711  unknown         0.01  \n",
       "16712  unknown         0.01  \n",
       "16713  unknown         0.01  \n",
       "16714  unknown         0.01  \n",
       "\n",
       "[16715 rows x 12 columns]"
      ]
     },
     "execution_count": 24,
     "metadata": {},
     "output_type": "execute_result"
    }
   ],
   "source": [
    "# Se agrega una columna con la suma de las ventas en todas las regiones para cada juego\n",
    "df_games['total_sales'] = df_games['na_sales'] + df_games['eu_sales'] + df_games['jp_sales'] + df_games['other_sales']\n",
    "df_games"
   ]
  },
  {
   "cell_type": "markdown",
   "metadata": {},
   "source": [
    "## Analizar los datos"
   ]
  },
  {
   "cell_type": "markdown",
   "metadata": {},
   "source": [
    "### Juegos a lo largo del tiempo"
   ]
  },
  {
   "cell_type": "code",
   "execution_count": 25,
   "metadata": {
    "trusted": false
   },
   "outputs": [],
   "source": [
    "# Conteo de cuántos juegos fueron lanzados en diferentes años\n",
    "year_count = df_games[df_games['year_of_release']!=9999]['year_of_release'].value_counts(dropna=False).sort_index()\n",
    "#year_count"
   ]
  },
  {
   "cell_type": "code",
   "execution_count": 26,
   "metadata": {
    "trusted": false
   },
   "outputs": [
    {
     "data": {
      "image/png": "[encoded data removed]",
      "text/plain": [
       "<Figure size 800x600 with 1 Axes>"
      ]
     },
     "metadata": {},
     "output_type": "display_data"
    }
   ],
   "source": [
    "year_count.plot(kind='bar', title='Número de juegos lanzados por año', figsize=(8,6), rot=60)\n",
    "plt.grid(axis='y')\n",
    "plt.show()"
   ]
  },
  {
   "cell_type": "markdown",
   "metadata": {},
   "source": [
    "Se observa que hubo mayor cantidad de juegos lanzados entre 2007 y 2011, y en 2012 hay un decremento significativo de juegos lanzados en comparación con el año anterior. También, en el 2002 hubo un incremento significativo respecto al 2001."
   ]
  },
  {
   "cell_type": "markdown",
   "metadata": {},
   "source": [
    "### Plataformas a lo largo del tiempo"
   ]
  },
  {
   "cell_type": "markdown",
   "metadata": {},
   "source": [
    "Se analiza la suma de ventas de las plataformas más populares a lo largo del tiempo; el filtro sigue contemplando los juegos cuyo año de lanzamiento fue modificado a 9999 (Inicialmente N/A), para incluir el mismo en el total de ventas por cada plataforma."
   ]
  },
  {
   "cell_type": "code",
   "execution_count": 27,
   "metadata": {
    "trusted": false
   },
   "outputs": [
    {
     "data": {
      "image/png": "[encoded data removed]",
      "text/plain": [
       "<Figure size 1200x600 with 1 Axes>"
      ]
     },
     "metadata": {},
     "output_type": "display_data"
    },
    {
     "data": {
      "text/html": [
       "<div>\n",
       "<style scoped>\n",
       "    .dataframe tbody tr th:only-of-type {\n",
       "        vertical-align: middle;\n",
       "    }\n",
       "\n",
       "    .dataframe tbody tr th {\n",
       "        vertical-align: top;\n",
       "    }\n",
       "\n",
       "    .dataframe thead th {\n",
       "        text-align: right;\n",
       "    }\n",
       "</style>\n",
       "<table border=\"1\" class=\"dataframe\">\n",
       "  <thead>\n",
       "    <tr style=\"text-align: right;\">\n",
       "      <th></th>\n",
       "      <th>platform</th>\n",
       "      <th>total_sales</th>\n",
       "    </tr>\n",
       "  </thead>\n",
       "  <tbody>\n",
       "    <tr>\n",
       "      <th>0</th>\n",
       "      <td>PS2</td>\n",
       "      <td>1255.77</td>\n",
       "    </tr>\n",
       "    <tr>\n",
       "      <th>1</th>\n",
       "      <td>X360</td>\n",
       "      <td>971.42</td>\n",
       "    </tr>\n",
       "    <tr>\n",
       "      <th>2</th>\n",
       "      <td>PS3</td>\n",
       "      <td>939.65</td>\n",
       "    </tr>\n",
       "    <tr>\n",
       "      <th>3</th>\n",
       "      <td>Wii</td>\n",
       "      <td>907.51</td>\n",
       "    </tr>\n",
       "    <tr>\n",
       "      <th>4</th>\n",
       "      <td>DS</td>\n",
       "      <td>806.12</td>\n",
       "    </tr>\n",
       "    <tr>\n",
       "      <th>5</th>\n",
       "      <td>PS</td>\n",
       "      <td>730.86</td>\n",
       "    </tr>\n",
       "    <tr>\n",
       "      <th>6</th>\n",
       "      <td>GBA</td>\n",
       "      <td>317.85</td>\n",
       "    </tr>\n",
       "    <tr>\n",
       "      <th>7</th>\n",
       "      <td>PS4</td>\n",
       "      <td>314.14</td>\n",
       "    </tr>\n",
       "  </tbody>\n",
       "</table>\n",
       "</div>"
      ],
      "text/plain": [
       "  platform  total_sales\n",
       "0      PS2      1255.77\n",
       "1     X360       971.42\n",
       "2      PS3       939.65\n",
       "3      Wii       907.51\n",
       "4       DS       806.12\n",
       "5       PS       730.86\n",
       "6      GBA       317.85\n",
       "7      PS4       314.14"
      ]
     },
     "execution_count": 27,
     "metadata": {},
     "output_type": "execute_result"
    }
   ],
   "source": [
    "# Busca las plataformas con las mayores ventas totales y construye una distribución basada en los datos de cada año. \n",
    "platform_sales = df_games.groupby('platform')['total_sales'].sum().sort_values(ascending=False).reset_index()\n",
    "top_platforms = platform_sales.head(8)\n",
    "platform_filter = df_games[df_games['platform'].isin(top_platforms['platform'])]\n",
    "\n",
    "sales_by_year_filtered = platform_filter.groupby(['year_of_release', 'platform'])['total_sales'].sum().unstack()\n",
    "#sales_by_year_filtered = sales_by_year_filtered['year_of_release']!=9999\n",
    "#sales_by_year_filtered\n",
    "\n",
    "sales_by_year_filtered.plot(kind='bar',  stacked=True, figsize=(12, 6), rot=45)\n",
    "plt.title('Ventas totales por año para principales plataformas')\n",
    "plt.xlabel('Año de Lanzamiento')\n",
    "plt.ylabel('Ventas Totales por Plataforma')\n",
    "plt.legend(title='Plataforma')\n",
    "plt.show()\n",
    "\n",
    "top_platforms"
   ]
  },
  {
   "cell_type": "code",
   "execution_count": 28,
   "metadata": {
    "trusted": false
   },
   "outputs": [
    {
     "name": "stdout",
     "output_type": "stream",
     "text": [
      "  platform  total_sales  first_year  last_year\n",
      "0      PS2      1255.77        2000       2011\n",
      "1       DS       806.12        1985       2013\n",
      "2       PS       730.86        1994       2003\n",
      "3      GBA       317.85        2000       2007\n",
      "4      PSP       294.05        2004       2015\n",
      "5       XB       257.74        2000       2008\n",
      "6       GB       255.46        1988       2001\n",
      "7      NES       251.05        1983       1994\n",
      "8      N64       218.68        1996       2002\n"
     ]
    }
   ],
   "source": [
    "# Busca las plataformas que solían ser populares pero que ahora no tienen ventas.\n",
    "\n",
    "# Sacar la media y mediana del total de ventas de cada plataforma\n",
    "platform_sales_mean = platform_sales['total_sales'].mean()\n",
    "platform_sales_median = platform_sales['total_sales'].median()\n",
    "\n",
    "# Obtener el último año registrado\n",
    "df_filter_years = df_games[df_games['year_of_release']!=9999]\n",
    "last_year_registered = df_filter_years['year_of_release'].max()\n",
    "\n",
    "# Obtener primer y último año de cada plataforma\n",
    "platform_first_year = df_filter_years.groupby('platform')['year_of_release'].min().reset_index()\n",
    "platform_first_year.columns = ['platform','first_year']\n",
    "platform_last_year = df_filter_years.groupby('platform')['year_of_release'].max().reset_index()\n",
    "platform_last_year.columns = ['platform','last_year']\n",
    "\n",
    "df_platforms = platform_sales.merge(platform_first_year, on='platform').merge(platform_last_year,on='platform')\n",
    "#df_platforms\n",
    "\n",
    "filtered_platforms = df_platforms[(df_platforms['total_sales'] > platform_sales_median) & (df_platforms['last_year'] < last_year_registered)].reset_index()\n",
    "\n",
    "# Mostrar el resultado\n",
    "print(filtered_platforms[['platform', 'total_sales', 'first_year', 'last_year']])\n"
   ]
  },
  {
   "cell_type": "markdown",
   "metadata": {},
   "source": [
    "Se obtuvo una lista de las plataformas cuyas ventas totales superan la mediana (se utilizó como criterio la mediana que es menor en comparación a la media) y que dejaron de tener ventas en el último año, el resultado es de 9 plataformas que fueron populares y dejaron de tener ventas."
   ]
  },
  {
   "cell_type": "code",
   "execution_count": 29,
   "metadata": {
    "trusted": false
   },
   "outputs": [
    {
     "name": "stdout",
     "output_type": "stream",
     "text": [
      "Años promedio en aparecer: 15\n"
     ]
    }
   ],
   "source": [
    "# ¿Cuánto tardan generalmente las nuevas plataformas en aparecer y las antiguas en desaparecer?\n",
    "mean_platform_first_year = platform_first_year['first_year'].max() - platform_first_year['first_year'].mean()\n",
    "print('Años promedio en aparecer:',int(mean_platform_first_year.round()))"
   ]
  },
  {
   "cell_type": "code",
   "execution_count": 30,
   "metadata": {
    "trusted": false
   },
   "outputs": [
    {
     "name": "stdout",
     "output_type": "stream",
     "text": [
      "Años promedio en desaparecer: 11\n"
     ]
    }
   ],
   "source": [
    "mean_platform_last_year = platform_last_year['last_year'].max() - platform_last_year['last_year'].mean()\n",
    "print('Años promedio en desaparecer:',int(mean_platform_last_year.round()))"
   ]
  },
  {
   "cell_type": "markdown",
   "metadata": {},
   "source": [
    "### Periodo relevante"
   ]
  },
  {
   "cell_type": "markdown",
   "metadata": {},
   "source": [
    "Para el análisis se utilizará un periodo de 5 años: de 2011 a 2016. Se modificará el dataframe de manera que muestre únicamente los juegos a partir del 2011."
   ]
  },
  {
   "cell_type": "code",
   "execution_count": 31,
   "metadata": {
    "trusted": false
   },
   "outputs": [
    {
     "data": {
      "text/html": [
       "<div>\n",
       "<style scoped>\n",
       "    .dataframe tbody tr th:only-of-type {\n",
       "        vertical-align: middle;\n",
       "    }\n",
       "\n",
       "    .dataframe tbody tr th {\n",
       "        vertical-align: top;\n",
       "    }\n",
       "\n",
       "    .dataframe thead th {\n",
       "        text-align: right;\n",
       "    }\n",
       "</style>\n",
       "<table border=\"1\" class=\"dataframe\">\n",
       "  <thead>\n",
       "    <tr style=\"text-align: right;\">\n",
       "      <th></th>\n",
       "      <th>name</th>\n",
       "      <th>platform</th>\n",
       "      <th>year_of_release</th>\n",
       "      <th>genre</th>\n",
       "      <th>na_sales</th>\n",
       "      <th>eu_sales</th>\n",
       "      <th>jp_sales</th>\n",
       "      <th>other_sales</th>\n",
       "      <th>critic_score</th>\n",
       "      <th>user_score</th>\n",
       "      <th>rating</th>\n",
       "      <th>total_sales</th>\n",
       "    </tr>\n",
       "  </thead>\n",
       "  <tbody>\n",
       "    <tr>\n",
       "      <th>0</th>\n",
       "      <td>Grand Theft Auto V</td>\n",
       "      <td>PS3</td>\n",
       "      <td>2013</td>\n",
       "      <td>Action</td>\n",
       "      <td>7.02</td>\n",
       "      <td>9.09</td>\n",
       "      <td>0.98</td>\n",
       "      <td>3.96</td>\n",
       "      <td>97.000000</td>\n",
       "      <td>8.200000</td>\n",
       "      <td>M</td>\n",
       "      <td>21.05</td>\n",
       "    </tr>\n",
       "    <tr>\n",
       "      <th>1</th>\n",
       "      <td>Grand Theft Auto V</td>\n",
       "      <td>X360</td>\n",
       "      <td>2013</td>\n",
       "      <td>Action</td>\n",
       "      <td>9.66</td>\n",
       "      <td>5.14</td>\n",
       "      <td>0.06</td>\n",
       "      <td>1.41</td>\n",
       "      <td>97.000000</td>\n",
       "      <td>8.100000</td>\n",
       "      <td>M</td>\n",
       "      <td>16.27</td>\n",
       "    </tr>\n",
       "    <tr>\n",
       "      <th>2</th>\n",
       "      <td>Call of Duty: Black Ops 3</td>\n",
       "      <td>PS4</td>\n",
       "      <td>2015</td>\n",
       "      <td>Shooter</td>\n",
       "      <td>6.03</td>\n",
       "      <td>5.86</td>\n",
       "      <td>0.36</td>\n",
       "      <td>2.38</td>\n",
       "      <td>75.171429</td>\n",
       "      <td>6.697143</td>\n",
       "      <td>unknown</td>\n",
       "      <td>14.63</td>\n",
       "    </tr>\n",
       "    <tr>\n",
       "      <th>3</th>\n",
       "      <td>Pokemon X/Pokemon Y</td>\n",
       "      <td>3DS</td>\n",
       "      <td>2013</td>\n",
       "      <td>Role-Playing</td>\n",
       "      <td>5.28</td>\n",
       "      <td>4.19</td>\n",
       "      <td>4.35</td>\n",
       "      <td>0.78</td>\n",
       "      <td>72.576923</td>\n",
       "      <td>7.626923</td>\n",
       "      <td>unknown</td>\n",
       "      <td>14.60</td>\n",
       "    </tr>\n",
       "    <tr>\n",
       "      <th>4</th>\n",
       "      <td>Call of Duty: Black Ops II</td>\n",
       "      <td>PS3</td>\n",
       "      <td>2012</td>\n",
       "      <td>Shooter</td>\n",
       "      <td>4.99</td>\n",
       "      <td>5.73</td>\n",
       "      <td>0.65</td>\n",
       "      <td>2.42</td>\n",
       "      <td>83.000000</td>\n",
       "      <td>5.300000</td>\n",
       "      <td>M</td>\n",
       "      <td>13.79</td>\n",
       "    </tr>\n",
       "    <tr>\n",
       "      <th>...</th>\n",
       "      <td>...</td>\n",
       "      <td>...</td>\n",
       "      <td>...</td>\n",
       "      <td>...</td>\n",
       "      <td>...</td>\n",
       "      <td>...</td>\n",
       "      <td>...</td>\n",
       "      <td>...</td>\n",
       "      <td>...</td>\n",
       "      <td>...</td>\n",
       "      <td>...</td>\n",
       "      <td>...</td>\n",
       "    </tr>\n",
       "    <tr>\n",
       "      <th>3150</th>\n",
       "      <td>Strawberry Nauts</td>\n",
       "      <td>PSV</td>\n",
       "      <td>2016</td>\n",
       "      <td>Adventure</td>\n",
       "      <td>0.00</td>\n",
       "      <td>0.00</td>\n",
       "      <td>0.01</td>\n",
       "      <td>0.00</td>\n",
       "      <td>71.400000</td>\n",
       "      <td>7.775000</td>\n",
       "      <td>unknown</td>\n",
       "      <td>0.01</td>\n",
       "    </tr>\n",
       "    <tr>\n",
       "      <th>3151</th>\n",
       "      <td>Aiyoku no Eustia</td>\n",
       "      <td>PSV</td>\n",
       "      <td>2014</td>\n",
       "      <td>Misc</td>\n",
       "      <td>0.00</td>\n",
       "      <td>0.00</td>\n",
       "      <td>0.01</td>\n",
       "      <td>0.00</td>\n",
       "      <td>77.750000</td>\n",
       "      <td>7.925000</td>\n",
       "      <td>unknown</td>\n",
       "      <td>0.01</td>\n",
       "    </tr>\n",
       "    <tr>\n",
       "      <th>3152</th>\n",
       "      <td>Samurai Warriors: Sanada Maru</td>\n",
       "      <td>PS3</td>\n",
       "      <td>2016</td>\n",
       "      <td>Action</td>\n",
       "      <td>0.00</td>\n",
       "      <td>0.00</td>\n",
       "      <td>0.01</td>\n",
       "      <td>0.00</td>\n",
       "      <td>69.024896</td>\n",
       "      <td>6.917045</td>\n",
       "      <td>unknown</td>\n",
       "      <td>0.01</td>\n",
       "    </tr>\n",
       "    <tr>\n",
       "      <th>3153</th>\n",
       "      <td>Haitaka no Psychedelica</td>\n",
       "      <td>PSV</td>\n",
       "      <td>2016</td>\n",
       "      <td>Adventure</td>\n",
       "      <td>0.00</td>\n",
       "      <td>0.00</td>\n",
       "      <td>0.01</td>\n",
       "      <td>0.00</td>\n",
       "      <td>71.400000</td>\n",
       "      <td>7.775000</td>\n",
       "      <td>unknown</td>\n",
       "      <td>0.01</td>\n",
       "    </tr>\n",
       "    <tr>\n",
       "      <th>3154</th>\n",
       "      <td>Winning Post 8 2016</td>\n",
       "      <td>PSV</td>\n",
       "      <td>2016</td>\n",
       "      <td>Simulation</td>\n",
       "      <td>0.00</td>\n",
       "      <td>0.00</td>\n",
       "      <td>0.01</td>\n",
       "      <td>0.00</td>\n",
       "      <td>68.244875</td>\n",
       "      <td>7.154146</td>\n",
       "      <td>unknown</td>\n",
       "      <td>0.01</td>\n",
       "    </tr>\n",
       "  </tbody>\n",
       "</table>\n",
       "<p>3155 rows × 12 columns</p>\n",
       "</div>"
      ],
      "text/plain": [
       "                               name platform  year_of_release         genre  \\\n",
       "0                Grand Theft Auto V      PS3             2013        Action   \n",
       "1                Grand Theft Auto V     X360             2013        Action   \n",
       "2         Call of Duty: Black Ops 3      PS4             2015       Shooter   \n",
       "3               Pokemon X/Pokemon Y      3DS             2013  Role-Playing   \n",
       "4        Call of Duty: Black Ops II      PS3             2012       Shooter   \n",
       "...                             ...      ...              ...           ...   \n",
       "3150               Strawberry Nauts      PSV             2016     Adventure   \n",
       "3151               Aiyoku no Eustia      PSV             2014          Misc   \n",
       "3152  Samurai Warriors: Sanada Maru      PS3             2016        Action   \n",
       "3153        Haitaka no Psychedelica      PSV             2016     Adventure   \n",
       "3154            Winning Post 8 2016      PSV             2016    Simulation   \n",
       "\n",
       "      na_sales  eu_sales  jp_sales  other_sales  critic_score  user_score  \\\n",
       "0         7.02      9.09      0.98         3.96     97.000000    8.200000   \n",
       "1         9.66      5.14      0.06         1.41     97.000000    8.100000   \n",
       "2         6.03      5.86      0.36         2.38     75.171429    6.697143   \n",
       "3         5.28      4.19      4.35         0.78     72.576923    7.626923   \n",
       "4         4.99      5.73      0.65         2.42     83.000000    5.300000   \n",
       "...        ...       ...       ...          ...           ...         ...   \n",
       "3150      0.00      0.00      0.01         0.00     71.400000    7.775000   \n",
       "3151      0.00      0.00      0.01         0.00     77.750000    7.925000   \n",
       "3152      0.00      0.00      0.01         0.00     69.024896    6.917045   \n",
       "3153      0.00      0.00      0.01         0.00     71.400000    7.775000   \n",
       "3154      0.00      0.00      0.01         0.00     68.244875    7.154146   \n",
       "\n",
       "       rating  total_sales  \n",
       "0           M        21.05  \n",
       "1           M        16.27  \n",
       "2     unknown        14.63  \n",
       "3     unknown        14.60  \n",
       "4           M        13.79  \n",
       "...       ...          ...  \n",
       "3150  unknown         0.01  \n",
       "3151  unknown         0.01  \n",
       "3152  unknown         0.01  \n",
       "3153  unknown         0.01  \n",
       "3154  unknown         0.01  \n",
       "\n",
       "[3155 rows x 12 columns]"
      ]
     },
     "execution_count": 31,
     "metadata": {},
     "output_type": "execute_result"
    }
   ],
   "source": [
    "df_games_filtered = df_games[df_games['year_of_release']>2011].reset_index(drop=True)\n",
    "df_games_filtered"
   ]
  },
  {
   "cell_type": "code",
   "execution_count": 32,
   "metadata": {
    "trusted": false
   },
   "outputs": [
    {
     "data": {
      "text/html": [
       "<div>\n",
       "<style scoped>\n",
       "    .dataframe tbody tr th:only-of-type {\n",
       "        vertical-align: middle;\n",
       "    }\n",
       "\n",
       "    .dataframe tbody tr th {\n",
       "        vertical-align: top;\n",
       "    }\n",
       "\n",
       "    .dataframe thead th {\n",
       "        text-align: right;\n",
       "    }\n",
       "</style>\n",
       "<table border=\"1\" class=\"dataframe\">\n",
       "  <thead>\n",
       "    <tr style=\"text-align: right;\">\n",
       "      <th></th>\n",
       "      <th>platform</th>\n",
       "      <th>total_sales</th>\n",
       "    </tr>\n",
       "  </thead>\n",
       "  <tbody>\n",
       "    <tr>\n",
       "      <th>0</th>\n",
       "      <td>PS4</td>\n",
       "      <td>314.14</td>\n",
       "    </tr>\n",
       "    <tr>\n",
       "      <th>1</th>\n",
       "      <td>PS3</td>\n",
       "      <td>297.10</td>\n",
       "    </tr>\n",
       "    <tr>\n",
       "      <th>2</th>\n",
       "      <td>X360</td>\n",
       "      <td>246.72</td>\n",
       "    </tr>\n",
       "    <tr>\n",
       "      <th>3</th>\n",
       "      <td>3DS</td>\n",
       "      <td>195.80</td>\n",
       "    </tr>\n",
       "    <tr>\n",
       "      <th>4</th>\n",
       "      <td>XOne</td>\n",
       "      <td>159.32</td>\n",
       "    </tr>\n",
       "    <tr>\n",
       "      <th>5</th>\n",
       "      <td>WiiU</td>\n",
       "      <td>82.19</td>\n",
       "    </tr>\n",
       "    <tr>\n",
       "      <th>6</th>\n",
       "      <td>PC</td>\n",
       "      <td>66.41</td>\n",
       "    </tr>\n",
       "    <tr>\n",
       "      <th>7</th>\n",
       "      <td>Wii</td>\n",
       "      <td>51.70</td>\n",
       "    </tr>\n",
       "    <tr>\n",
       "      <th>8</th>\n",
       "      <td>PSV</td>\n",
       "      <td>49.44</td>\n",
       "    </tr>\n",
       "    <tr>\n",
       "      <th>9</th>\n",
       "      <td>PS2</td>\n",
       "      <td>22.21</td>\n",
       "    </tr>\n",
       "    <tr>\n",
       "      <th>10</th>\n",
       "      <td>DS</td>\n",
       "      <td>15.89</td>\n",
       "    </tr>\n",
       "    <tr>\n",
       "      <th>11</th>\n",
       "      <td>PSP</td>\n",
       "      <td>15.71</td>\n",
       "    </tr>\n",
       "    <tr>\n",
       "      <th>12</th>\n",
       "      <td>2600</td>\n",
       "      <td>10.50</td>\n",
       "    </tr>\n",
       "    <tr>\n",
       "      <th>13</th>\n",
       "      <td>XB</td>\n",
       "      <td>6.17</td>\n",
       "    </tr>\n",
       "    <tr>\n",
       "      <th>14</th>\n",
       "      <td>GBA</td>\n",
       "      <td>4.97</td>\n",
       "    </tr>\n",
       "    <tr>\n",
       "      <th>15</th>\n",
       "      <td>PS</td>\n",
       "      <td>3.28</td>\n",
       "    </tr>\n",
       "    <tr>\n",
       "      <th>16</th>\n",
       "      <td>GC</td>\n",
       "      <td>2.20</td>\n",
       "    </tr>\n",
       "    <tr>\n",
       "      <th>17</th>\n",
       "      <td>GB</td>\n",
       "      <td>1.03</td>\n",
       "    </tr>\n",
       "    <tr>\n",
       "      <th>18</th>\n",
       "      <td>N64</td>\n",
       "      <td>0.67</td>\n",
       "    </tr>\n",
       "  </tbody>\n",
       "</table>\n",
       "</div>"
      ],
      "text/plain": [
       "   platform  total_sales\n",
       "0       PS4       314.14\n",
       "1       PS3       297.10\n",
       "2      X360       246.72\n",
       "3       3DS       195.80\n",
       "4      XOne       159.32\n",
       "5      WiiU        82.19\n",
       "6        PC        66.41\n",
       "7       Wii        51.70\n",
       "8       PSV        49.44\n",
       "9       PS2        22.21\n",
       "10       DS        15.89\n",
       "11      PSP        15.71\n",
       "12     2600        10.50\n",
       "13       XB         6.17\n",
       "14      GBA         4.97\n",
       "15       PS         3.28\n",
       "16       GC         2.20\n",
       "17       GB         1.03\n",
       "18      N64         0.67"
      ]
     },
     "execution_count": 32,
     "metadata": {},
     "output_type": "execute_result"
    }
   ],
   "source": [
    "# ¿Qué plataformas son líderes en ventas?\n",
    "platform_total_sales = df_games_filtered.groupby('platform')['total_sales'].sum().sort_values(ascending=False).reset_index()\n",
    "platform_total_sales"
   ]
  },
  {
   "cell_type": "markdown",
   "metadata": {},
   "source": [
    "Se obtiene que para el periodo relevante, las mejores ventas las tiene PS4, PS3 y X360"
   ]
  },
  {
   "cell_type": "code",
   "execution_count": 33,
   "metadata": {
    "trusted": false
   },
   "outputs": [
    {
     "data": {
      "image/png": "[encoded data removed]",
      "text/plain": [
       "<Figure size 600x600 with 1 Axes>"
      ]
     },
     "metadata": {},
     "output_type": "display_data"
    }
   ],
   "source": [
    "# Crea un diagrama de caja para las ventas globales de todos los juegos, desglosados por plataforma. \n",
    "# ¿Son significativas las diferencias en las ventas? ¿Qué sucede con las ventas promedio en varias plataformas?\n",
    "box = df_games_filtered.boxplot(column=\"total_sales\", by=\"platform\", figsize=(6,6),rot=45)\n",
    "box.set_ylabel(\"Ventas\")\n",
    "box.set_title(\"Distribución de las ventas totales por plataforma\")\n",
    "plt.show()"
   ]
  },
  {
   "cell_type": "markdown",
   "metadata": {},
   "source": [
    "Las ventas promedio de las plataformas difieren entre ellas y además la mayoría de estas tienen juegos con valores fuera del rango intercuartil."
   ]
  },
  {
   "cell_type": "code",
   "execution_count": 34,
   "metadata": {
    "trusted": false
   },
   "outputs": [
    {
     "data": {
      "text/plain": [
       "platform\n",
       "2600    0.617647\n",
       "3DS     0.484653\n",
       "DS      0.260492\n",
       "GB      1.030000\n",
       "GBA     0.451818\n",
       "GC      0.157143\n",
       "N64     0.223333\n",
       "PC      0.248727\n",
       "PS      0.468571\n",
       "PS2     0.653235\n",
       "PS3     0.573552\n",
       "PS4     0.801378\n",
       "PSP     0.083122\n",
       "PSV     0.120000\n",
       "Wii     0.587500\n",
       "WiiU    0.559116\n",
       "X360    0.766211\n",
       "XB      0.293810\n",
       "XOne    0.645020\n",
       "Name: total_sales, dtype: float64"
      ]
     },
     "execution_count": 34,
     "metadata": {},
     "output_type": "execute_result"
    }
   ],
   "source": [
    "platform_mean_sales = df_games_filtered.groupby('platform')['total_sales'].mean()\n",
    "platform_mean_sales"
   ]
  },
  {
   "cell_type": "markdown",
   "metadata": {},
   "source": [
    "### Reseñas de usuarios"
   ]
  },
  {
   "cell_type": "code",
   "execution_count": 35,
   "metadata": {
    "trusted": false
   },
   "outputs": [
    {
     "data": {
      "text/html": [
       "<div>\n",
       "<style scoped>\n",
       "    .dataframe tbody tr th:only-of-type {\n",
       "        vertical-align: middle;\n",
       "    }\n",
       "\n",
       "    .dataframe tbody tr th {\n",
       "        vertical-align: top;\n",
       "    }\n",
       "\n",
       "    .dataframe thead th {\n",
       "        text-align: right;\n",
       "    }\n",
       "</style>\n",
       "<table border=\"1\" class=\"dataframe\">\n",
       "  <thead>\n",
       "    <tr style=\"text-align: right;\">\n",
       "      <th></th>\n",
       "      <th>name</th>\n",
       "      <th>platform</th>\n",
       "      <th>year_of_release</th>\n",
       "      <th>genre</th>\n",
       "      <th>na_sales</th>\n",
       "      <th>eu_sales</th>\n",
       "      <th>jp_sales</th>\n",
       "      <th>other_sales</th>\n",
       "      <th>critic_score</th>\n",
       "      <th>user_score</th>\n",
       "      <th>rating</th>\n",
       "      <th>total_sales</th>\n",
       "      <th>avg_score</th>\n",
       "    </tr>\n",
       "  </thead>\n",
       "  <tbody>\n",
       "    <tr>\n",
       "      <th>0</th>\n",
       "      <td>Grand Theft Auto V</td>\n",
       "      <td>X360</td>\n",
       "      <td>2013</td>\n",
       "      <td>Action</td>\n",
       "      <td>9.66</td>\n",
       "      <td>5.14</td>\n",
       "      <td>0.06</td>\n",
       "      <td>1.41</td>\n",
       "      <td>97.000000</td>\n",
       "      <td>8.100000</td>\n",
       "      <td>M</td>\n",
       "      <td>16.27</td>\n",
       "      <td>89.000000</td>\n",
       "    </tr>\n",
       "    <tr>\n",
       "      <th>1</th>\n",
       "      <td>Call of Duty: Black Ops II</td>\n",
       "      <td>X360</td>\n",
       "      <td>2012</td>\n",
       "      <td>Shooter</td>\n",
       "      <td>8.25</td>\n",
       "      <td>4.24</td>\n",
       "      <td>0.07</td>\n",
       "      <td>1.12</td>\n",
       "      <td>83.000000</td>\n",
       "      <td>4.800000</td>\n",
       "      <td>M</td>\n",
       "      <td>13.68</td>\n",
       "      <td>65.500000</td>\n",
       "    </tr>\n",
       "    <tr>\n",
       "      <th>2</th>\n",
       "      <td>Call of Duty: Ghosts</td>\n",
       "      <td>X360</td>\n",
       "      <td>2013</td>\n",
       "      <td>Shooter</td>\n",
       "      <td>6.73</td>\n",
       "      <td>2.56</td>\n",
       "      <td>0.04</td>\n",
       "      <td>0.91</td>\n",
       "      <td>73.000000</td>\n",
       "      <td>2.600000</td>\n",
       "      <td>M</td>\n",
       "      <td>10.24</td>\n",
       "      <td>49.500000</td>\n",
       "    </tr>\n",
       "    <tr>\n",
       "      <th>3</th>\n",
       "      <td>Halo 4</td>\n",
       "      <td>X360</td>\n",
       "      <td>2012</td>\n",
       "      <td>Shooter</td>\n",
       "      <td>6.65</td>\n",
       "      <td>2.28</td>\n",
       "      <td>0.04</td>\n",
       "      <td>0.74</td>\n",
       "      <td>87.000000</td>\n",
       "      <td>7.000000</td>\n",
       "      <td>M</td>\n",
       "      <td>9.71</td>\n",
       "      <td>78.500000</td>\n",
       "    </tr>\n",
       "    <tr>\n",
       "      <th>4</th>\n",
       "      <td>Minecraft</td>\n",
       "      <td>X360</td>\n",
       "      <td>2013</td>\n",
       "      <td>Misc</td>\n",
       "      <td>5.70</td>\n",
       "      <td>2.65</td>\n",
       "      <td>0.02</td>\n",
       "      <td>0.81</td>\n",
       "      <td>67.694444</td>\n",
       "      <td>6.486957</td>\n",
       "      <td>unknown</td>\n",
       "      <td>9.18</td>\n",
       "      <td>66.282005</td>\n",
       "    </tr>\n",
       "    <tr>\n",
       "      <th>...</th>\n",
       "      <td>...</td>\n",
       "      <td>...</td>\n",
       "      <td>...</td>\n",
       "      <td>...</td>\n",
       "      <td>...</td>\n",
       "      <td>...</td>\n",
       "      <td>...</td>\n",
       "      <td>...</td>\n",
       "      <td>...</td>\n",
       "      <td>...</td>\n",
       "      <td>...</td>\n",
       "      <td>...</td>\n",
       "      <td>...</td>\n",
       "    </tr>\n",
       "    <tr>\n",
       "      <th>317</th>\n",
       "      <td>Turbo: Super Stunt Squad</td>\n",
       "      <td>X360</td>\n",
       "      <td>2013</td>\n",
       "      <td>Sports</td>\n",
       "      <td>0.00</td>\n",
       "      <td>0.01</td>\n",
       "      <td>0.00</td>\n",
       "      <td>0.00</td>\n",
       "      <td>69.541401</td>\n",
       "      <td>4.500000</td>\n",
       "      <td>E</td>\n",
       "      <td>0.01</td>\n",
       "      <td>57.270701</td>\n",
       "    </tr>\n",
       "    <tr>\n",
       "      <th>318</th>\n",
       "      <td>Young Justice: Legacy</td>\n",
       "      <td>X360</td>\n",
       "      <td>2013</td>\n",
       "      <td>Action</td>\n",
       "      <td>0.00</td>\n",
       "      <td>0.01</td>\n",
       "      <td>0.00</td>\n",
       "      <td>0.00</td>\n",
       "      <td>67.118367</td>\n",
       "      <td>6.200000</td>\n",
       "      <td>T</td>\n",
       "      <td>0.01</td>\n",
       "      <td>64.559184</td>\n",
       "    </tr>\n",
       "    <tr>\n",
       "      <th>319</th>\n",
       "      <td>Ride</td>\n",
       "      <td>X360</td>\n",
       "      <td>2015</td>\n",
       "      <td>Racing</td>\n",
       "      <td>0.00</td>\n",
       "      <td>0.01</td>\n",
       "      <td>0.00</td>\n",
       "      <td>0.00</td>\n",
       "      <td>70.402597</td>\n",
       "      <td>6.702564</td>\n",
       "      <td>unknown</td>\n",
       "      <td>0.01</td>\n",
       "      <td>68.714119</td>\n",
       "    </tr>\n",
       "    <tr>\n",
       "      <th>320</th>\n",
       "      <td>Dragon Ball Z for Kinect</td>\n",
       "      <td>X360</td>\n",
       "      <td>2012</td>\n",
       "      <td>Fighting</td>\n",
       "      <td>0.01</td>\n",
       "      <td>0.00</td>\n",
       "      <td>0.00</td>\n",
       "      <td>0.00</td>\n",
       "      <td>49.000000</td>\n",
       "      <td>2.100000</td>\n",
       "      <td>T</td>\n",
       "      <td>0.01</td>\n",
       "      <td>35.000000</td>\n",
       "    </tr>\n",
       "    <tr>\n",
       "      <th>321</th>\n",
       "      <td>Ben 10 Omniverse 2</td>\n",
       "      <td>X360</td>\n",
       "      <td>2013</td>\n",
       "      <td>Action</td>\n",
       "      <td>0.00</td>\n",
       "      <td>0.01</td>\n",
       "      <td>0.00</td>\n",
       "      <td>0.00</td>\n",
       "      <td>67.118367</td>\n",
       "      <td>5.100000</td>\n",
       "      <td>E10+</td>\n",
       "      <td>0.01</td>\n",
       "      <td>59.059184</td>\n",
       "    </tr>\n",
       "  </tbody>\n",
       "</table>\n",
       "<p>322 rows × 13 columns</p>\n",
       "</div>"
      ],
      "text/plain": [
       "                           name platform  year_of_release     genre  na_sales  \\\n",
       "0            Grand Theft Auto V     X360             2013    Action      9.66   \n",
       "1    Call of Duty: Black Ops II     X360             2012   Shooter      8.25   \n",
       "2          Call of Duty: Ghosts     X360             2013   Shooter      6.73   \n",
       "3                        Halo 4     X360             2012   Shooter      6.65   \n",
       "4                     Minecraft     X360             2013      Misc      5.70   \n",
       "..                          ...      ...              ...       ...       ...   \n",
       "317    Turbo: Super Stunt Squad     X360             2013    Sports      0.00   \n",
       "318       Young Justice: Legacy     X360             2013    Action      0.00   \n",
       "319                        Ride     X360             2015    Racing      0.00   \n",
       "320    Dragon Ball Z for Kinect     X360             2012  Fighting      0.01   \n",
       "321          Ben 10 Omniverse 2     X360             2013    Action      0.00   \n",
       "\n",
       "     eu_sales  jp_sales  other_sales  critic_score  user_score   rating  \\\n",
       "0        5.14      0.06         1.41     97.000000    8.100000        M   \n",
       "1        4.24      0.07         1.12     83.000000    4.800000        M   \n",
       "2        2.56      0.04         0.91     73.000000    2.600000        M   \n",
       "3        2.28      0.04         0.74     87.000000    7.000000        M   \n",
       "4        2.65      0.02         0.81     67.694444    6.486957  unknown   \n",
       "..        ...       ...          ...           ...         ...      ...   \n",
       "317      0.01      0.00         0.00     69.541401    4.500000        E   \n",
       "318      0.01      0.00         0.00     67.118367    6.200000        T   \n",
       "319      0.01      0.00         0.00     70.402597    6.702564  unknown   \n",
       "320      0.00      0.00         0.00     49.000000    2.100000        T   \n",
       "321      0.01      0.00         0.00     67.118367    5.100000     E10+   \n",
       "\n",
       "     total_sales  avg_score  \n",
       "0          16.27  89.000000  \n",
       "1          13.68  65.500000  \n",
       "2          10.24  49.500000  \n",
       "3           9.71  78.500000  \n",
       "4           9.18  66.282005  \n",
       "..           ...        ...  \n",
       "317         0.01  57.270701  \n",
       "318         0.01  64.559184  \n",
       "319         0.01  68.714119  \n",
       "320         0.01  35.000000  \n",
       "321         0.01  59.059184  \n",
       "\n",
       "[322 rows x 13 columns]"
      ]
     },
     "execution_count": 35,
     "metadata": {},
     "output_type": "execute_result"
    }
   ],
   "source": [
    "# Mira cómo las reseñas de usuarios y profesionales afectan las ventas de una plataforma popular (tu elección). \n",
    "# Crea un gráfico de dispersión y calcula la correlación entre las reseñas y las ventas. Saca conclusiones.\n",
    "df_x360 = df_games_filtered[df_games_filtered['platform']=='X360'].reset_index(drop=True)\n",
    "df_x360['avg_score'] = (df_x360['critic_score'] + df_x360['user_score']*10) / 2\n",
    "df_x360\n"
   ]
  },
  {
   "cell_type": "code",
   "execution_count": 36,
   "metadata": {
    "trusted": false
   },
   "outputs": [
    {
     "data": {
      "image/png": "[encoded data removed]",
      "text/plain": [
       "<Figure size 1000x600 with 1 Axes>"
      ]
     },
     "metadata": {},
     "output_type": "display_data"
    }
   ],
   "source": [
    "plt.figure(figsize=(10, 6))\n",
    "sns.scatterplot(data=df_x360, x='avg_score', y='total_sales')\n",
    "\n",
    "\n",
    "plt.title('Average score vs total sales')\n",
    "plt.xlabel('Avg score')\n",
    "plt.ylabel('Total sales (millions)')\n",
    "plt.xlim(0, 100)\n",
    "plt.ylim(0, df_x360['total_sales'].max()+1)\n",
    "plt.grid()\n",
    "\n",
    "# Show the plot\n",
    "plt.show()"
   ]
  },
  {
   "cell_type": "markdown",
   "metadata": {},
   "source": [
    "No se encuentra relación alguna entre las ventas y las reseñas para la plataforma X360"
   ]
  },
  {
   "cell_type": "code",
   "execution_count": 34,
   "metadata": {
    "trusted": false
   },
   "outputs": [],
   "source": [
    "# Teniendo en cuenta las conclusiones compara las ventas de los mismos juegos en otras plataformas."
   ]
  },
  {
   "cell_type": "code",
   "execution_count": 35,
   "metadata": {
    "trusted": false
   },
   "outputs": [
    {
     "data": {
      "text/html": [
       "<div>\n",
       "<style scoped>\n",
       "    .dataframe tbody tr th:only-of-type {\n",
       "        vertical-align: middle;\n",
       "    }\n",
       "\n",
       "    .dataframe tbody tr th {\n",
       "        vertical-align: top;\n",
       "    }\n",
       "\n",
       "    .dataframe thead th {\n",
       "        text-align: right;\n",
       "    }\n",
       "</style>\n",
       "<table border=\"1\" class=\"dataframe\">\n",
       "  <thead>\n",
       "    <tr style=\"text-align: right;\">\n",
       "      <th></th>\n",
       "      <th>name</th>\n",
       "      <th>platform</th>\n",
       "      <th>total_sales</th>\n",
       "    </tr>\n",
       "  </thead>\n",
       "  <tbody>\n",
       "    <tr>\n",
       "      <th>20</th>\n",
       "      <td>Minecraft</td>\n",
       "      <td>X360</td>\n",
       "      <td>9.18</td>\n",
       "    </tr>\n",
       "    <tr>\n",
       "      <th>16</th>\n",
       "      <td>Minecraft</td>\n",
       "      <td>PS3</td>\n",
       "      <td>5.27</td>\n",
       "    </tr>\n",
       "    <tr>\n",
       "      <th>17</th>\n",
       "      <td>Minecraft</td>\n",
       "      <td>PS4</td>\n",
       "      <td>4.32</td>\n",
       "    </tr>\n",
       "    <tr>\n",
       "      <th>21</th>\n",
       "      <td>Minecraft</td>\n",
       "      <td>XOne</td>\n",
       "      <td>2.76</td>\n",
       "    </tr>\n",
       "    <tr>\n",
       "      <th>18</th>\n",
       "      <td>Minecraft</td>\n",
       "      <td>PSV</td>\n",
       "      <td>1.96</td>\n",
       "    </tr>\n",
       "    <tr>\n",
       "      <th>19</th>\n",
       "      <td>Minecraft</td>\n",
       "      <td>WiiU</td>\n",
       "      <td>0.67</td>\n",
       "    </tr>\n",
       "    <tr>\n",
       "      <th>15</th>\n",
       "      <td>Halo 4</td>\n",
       "      <td>X360</td>\n",
       "      <td>9.71</td>\n",
       "    </tr>\n",
       "    <tr>\n",
       "      <th>11</th>\n",
       "      <td>Grand Theft Auto V</td>\n",
       "      <td>PS3</td>\n",
       "      <td>21.05</td>\n",
       "    </tr>\n",
       "    <tr>\n",
       "      <th>13</th>\n",
       "      <td>Grand Theft Auto V</td>\n",
       "      <td>X360</td>\n",
       "      <td>16.27</td>\n",
       "    </tr>\n",
       "    <tr>\n",
       "      <th>12</th>\n",
       "      <td>Grand Theft Auto V</td>\n",
       "      <td>PS4</td>\n",
       "      <td>12.62</td>\n",
       "    </tr>\n",
       "    <tr>\n",
       "      <th>14</th>\n",
       "      <td>Grand Theft Auto V</td>\n",
       "      <td>XOne</td>\n",
       "      <td>5.47</td>\n",
       "    </tr>\n",
       "    <tr>\n",
       "      <th>10</th>\n",
       "      <td>Grand Theft Auto V</td>\n",
       "      <td>PC</td>\n",
       "      <td>1.17</td>\n",
       "    </tr>\n",
       "    <tr>\n",
       "      <th>8</th>\n",
       "      <td>Call of Duty: Ghosts</td>\n",
       "      <td>X360</td>\n",
       "      <td>10.24</td>\n",
       "    </tr>\n",
       "    <tr>\n",
       "      <th>5</th>\n",
       "      <td>Call of Duty: Ghosts</td>\n",
       "      <td>PS3</td>\n",
       "      <td>9.36</td>\n",
       "    </tr>\n",
       "    <tr>\n",
       "      <th>6</th>\n",
       "      <td>Call of Duty: Ghosts</td>\n",
       "      <td>PS4</td>\n",
       "      <td>3.83</td>\n",
       "    </tr>\n",
       "    <tr>\n",
       "      <th>9</th>\n",
       "      <td>Call of Duty: Ghosts</td>\n",
       "      <td>XOne</td>\n",
       "      <td>2.92</td>\n",
       "    </tr>\n",
       "    <tr>\n",
       "      <th>4</th>\n",
       "      <td>Call of Duty: Ghosts</td>\n",
       "      <td>PC</td>\n",
       "      <td>0.69</td>\n",
       "    </tr>\n",
       "    <tr>\n",
       "      <th>7</th>\n",
       "      <td>Call of Duty: Ghosts</td>\n",
       "      <td>WiiU</td>\n",
       "      <td>0.35</td>\n",
       "    </tr>\n",
       "    <tr>\n",
       "      <th>1</th>\n",
       "      <td>Call of Duty: Black Ops II</td>\n",
       "      <td>PS3</td>\n",
       "      <td>13.79</td>\n",
       "    </tr>\n",
       "    <tr>\n",
       "      <th>3</th>\n",
       "      <td>Call of Duty: Black Ops II</td>\n",
       "      <td>X360</td>\n",
       "      <td>13.68</td>\n",
       "    </tr>\n",
       "    <tr>\n",
       "      <th>0</th>\n",
       "      <td>Call of Duty: Black Ops II</td>\n",
       "      <td>PC</td>\n",
       "      <td>1.52</td>\n",
       "    </tr>\n",
       "    <tr>\n",
       "      <th>2</th>\n",
       "      <td>Call of Duty: Black Ops II</td>\n",
       "      <td>WiiU</td>\n",
       "      <td>0.41</td>\n",
       "    </tr>\n",
       "  </tbody>\n",
       "</table>\n",
       "</div>"
      ],
      "text/plain": [
       "                          name platform  total_sales\n",
       "20                   Minecraft     X360         9.18\n",
       "16                   Minecraft      PS3         5.27\n",
       "17                   Minecraft      PS4         4.32\n",
       "21                   Minecraft     XOne         2.76\n",
       "18                   Minecraft      PSV         1.96\n",
       "19                   Minecraft     WiiU         0.67\n",
       "15                      Halo 4     X360         9.71\n",
       "11          Grand Theft Auto V      PS3        21.05\n",
       "13          Grand Theft Auto V     X360        16.27\n",
       "12          Grand Theft Auto V      PS4        12.62\n",
       "14          Grand Theft Auto V     XOne         5.47\n",
       "10          Grand Theft Auto V       PC         1.17\n",
       "8         Call of Duty: Ghosts     X360        10.24\n",
       "5         Call of Duty: Ghosts      PS3         9.36\n",
       "6         Call of Duty: Ghosts      PS4         3.83\n",
       "9         Call of Duty: Ghosts     XOne         2.92\n",
       "4         Call of Duty: Ghosts       PC         0.69\n",
       "7         Call of Duty: Ghosts     WiiU         0.35\n",
       "1   Call of Duty: Black Ops II      PS3        13.79\n",
       "3   Call of Duty: Black Ops II     X360        13.68\n",
       "0   Call of Duty: Black Ops II       PC         1.52\n",
       "2   Call of Duty: Black Ops II     WiiU         0.41"
      ]
     },
     "execution_count": 35,
     "metadata": {},
     "output_type": "execute_result"
    }
   ],
   "source": [
    "games_in_x360 = df_x360.groupby('name')['total_sales'].sum().sort_values(ascending=False).reset_index()\n",
    "\n",
    "top_games_in_x360 = games_in_x360.head()\n",
    "top_games_in_x360\n",
    "\n",
    "games_comparison = df_games_filtered[df_games_filtered['name'].isin(top_games_in_x360['name'])]\n",
    "games_in_x360_comparison = games_comparison.groupby(['name','platform'])['total_sales'].sum().reset_index().sort_values(by=['name','total_sales'], ascending=False)\n",
    "games_in_x360_comparison\n",
    "\n"
   ]
  },
  {
   "cell_type": "code",
   "execution_count": 36,
   "metadata": {
    "trusted": false
   },
   "outputs": [
    {
     "data": {
      "image/png": "[encoded data removed]",
      "text/plain": [
       "<Figure size 1200x600 with 1 Axes>"
      ]
     },
     "metadata": {},
     "output_type": "display_data"
    }
   ],
   "source": [
    "plt.figure(figsize=(12, 6))\n",
    "sns.barplot(data=games_in_x360_comparison, x=\"name\", y=\"total_sales\", hue=\"platform\", palette = 'Paired')\n",
    "\n",
    "plt.title(\"Ventas Totales por Juego y Plataforma\")\n",
    "plt.xlabel(\"Nombre del juego\")\n",
    "plt.ylabel(\"Ventas totales del juego por plataforma\")\n",
    "plt.legend(title=\"Plataforma\")\n",
    "\n",
    "\n",
    "plt.show()"
   ]
  },
  {
   "cell_type": "markdown",
   "metadata": {},
   "source": [
    "### Géneros"
   ]
  },
  {
   "cell_type": "code",
   "execution_count": 37,
   "metadata": {
    "trusted": false
   },
   "outputs": [
    {
     "data": {
      "image/png": "[encoded data removed]",
      "text/plain": [
       "<Figure size 640x480 with 1 Axes>"
      ]
     },
     "metadata": {},
     "output_type": "display_data"
    }
   ],
   "source": [
    "# Echa un vistazo a la distribución general de los juegos por género. \n",
    "games_by_genre = df_games_filtered.groupby('genre')['name'].count().sort_values(ascending=False)\n",
    "games_by_genre.plot(kind='bar', title='Juegos por género', xlabel='Género', ylabel='Cantidad de juegos', rot = 45)\n",
    "\n",
    "plt.show()\n"
   ]
  },
  {
   "cell_type": "markdown",
   "metadata": {},
   "source": [
    "El género de juegos más popular es Acción."
   ]
  },
  {
   "cell_type": "code",
   "execution_count": 38,
   "metadata": {
    "trusted": false
   },
   "outputs": [
    {
     "data": {
      "text/html": [
       "<div>\n",
       "<style scoped>\n",
       "    .dataframe tbody tr th:only-of-type {\n",
       "        vertical-align: middle;\n",
       "    }\n",
       "\n",
       "    .dataframe tbody tr th {\n",
       "        vertical-align: top;\n",
       "    }\n",
       "\n",
       "    .dataframe thead th {\n",
       "        text-align: right;\n",
       "    }\n",
       "</style>\n",
       "<table border=\"1\" class=\"dataframe\">\n",
       "  <thead>\n",
       "    <tr style=\"text-align: right;\">\n",
       "      <th></th>\n",
       "      <th>genre</th>\n",
       "      <th>total_sales</th>\n",
       "    </tr>\n",
       "  </thead>\n",
       "  <tbody>\n",
       "    <tr>\n",
       "      <th>0</th>\n",
       "      <td>Action</td>\n",
       "      <td>468.77</td>\n",
       "    </tr>\n",
       "    <tr>\n",
       "      <th>1</th>\n",
       "      <td>Shooter</td>\n",
       "      <td>315.82</td>\n",
       "    </tr>\n",
       "    <tr>\n",
       "      <th>2</th>\n",
       "      <td>Sports</td>\n",
       "      <td>202.67</td>\n",
       "    </tr>\n",
       "    <tr>\n",
       "      <th>3</th>\n",
       "      <td>Role-Playing</td>\n",
       "      <td>196.28</td>\n",
       "    </tr>\n",
       "    <tr>\n",
       "      <th>4</th>\n",
       "      <td>Misc</td>\n",
       "      <td>97.26</td>\n",
       "    </tr>\n",
       "    <tr>\n",
       "      <th>5</th>\n",
       "      <td>Platform</td>\n",
       "      <td>63.22</td>\n",
       "    </tr>\n",
       "    <tr>\n",
       "      <th>6</th>\n",
       "      <td>Racing</td>\n",
       "      <td>58.68</td>\n",
       "    </tr>\n",
       "    <tr>\n",
       "      <th>7</th>\n",
       "      <td>Fighting</td>\n",
       "      <td>49.36</td>\n",
       "    </tr>\n",
       "    <tr>\n",
       "      <th>8</th>\n",
       "      <td>Simulation</td>\n",
       "      <td>37.13</td>\n",
       "    </tr>\n",
       "    <tr>\n",
       "      <th>9</th>\n",
       "      <td>Adventure</td>\n",
       "      <td>33.69</td>\n",
       "    </tr>\n",
       "    <tr>\n",
       "      <th>10</th>\n",
       "      <td>Strategy</td>\n",
       "      <td>15.00</td>\n",
       "    </tr>\n",
       "    <tr>\n",
       "      <th>11</th>\n",
       "      <td>Puzzle</td>\n",
       "      <td>7.57</td>\n",
       "    </tr>\n",
       "  </tbody>\n",
       "</table>\n",
       "</div>"
      ],
      "text/plain": [
       "           genre  total_sales\n",
       "0         Action       468.77\n",
       "1        Shooter       315.82\n",
       "2         Sports       202.67\n",
       "3   Role-Playing       196.28\n",
       "4           Misc        97.26\n",
       "5       Platform        63.22\n",
       "6         Racing        58.68\n",
       "7       Fighting        49.36\n",
       "8     Simulation        37.13\n",
       "9      Adventure        33.69\n",
       "10      Strategy        15.00\n",
       "11        Puzzle         7.57"
      ]
     },
     "execution_count": 38,
     "metadata": {},
     "output_type": "execute_result"
    }
   ],
   "source": [
    "# ¿Qué se puede decir de los géneros más rentables? ¿Puedes generalizar acerca de los géneros con ventas altas y bajas?\n",
    "\n",
    "sales_by_genre = df_games_filtered.groupby('genre')['total_sales'].sum().sort_values(ascending=False).reset_index()\n",
    "sales_by_genre"
   ]
  },
  {
   "cell_type": "code",
   "execution_count": 39,
   "metadata": {
    "trusted": false
   },
   "outputs": [
    {
     "data": {
      "text/html": [
       "<div>\n",
       "<style scoped>\n",
       "    .dataframe tbody tr th:only-of-type {\n",
       "        vertical-align: middle;\n",
       "    }\n",
       "\n",
       "    .dataframe tbody tr th {\n",
       "        vertical-align: top;\n",
       "    }\n",
       "\n",
       "    .dataframe thead th {\n",
       "        text-align: right;\n",
       "    }\n",
       "</style>\n",
       "<table border=\"1\" class=\"dataframe\">\n",
       "  <thead>\n",
       "    <tr style=\"text-align: right;\">\n",
       "      <th></th>\n",
       "      <th>genre</th>\n",
       "      <th>game_count</th>\n",
       "      <th>total_sales</th>\n",
       "      <th>profitability_ratio</th>\n",
       "    </tr>\n",
       "  </thead>\n",
       "  <tbody>\n",
       "    <tr>\n",
       "      <th>4</th>\n",
       "      <td>Shooter</td>\n",
       "      <td>262</td>\n",
       "      <td>315.82</td>\n",
       "      <td>1.205420</td>\n",
       "    </tr>\n",
       "    <tr>\n",
       "      <th>9</th>\n",
       "      <td>Platform</td>\n",
       "      <td>95</td>\n",
       "      <td>63.22</td>\n",
       "      <td>0.665474</td>\n",
       "    </tr>\n",
       "    <tr>\n",
       "      <th>3</th>\n",
       "      <td>Sports</td>\n",
       "      <td>310</td>\n",
       "      <td>202.67</td>\n",
       "      <td>0.653774</td>\n",
       "    </tr>\n",
       "    <tr>\n",
       "      <th>1</th>\n",
       "      <td>Role-Playing</td>\n",
       "      <td>387</td>\n",
       "      <td>196.28</td>\n",
       "      <td>0.507183</td>\n",
       "    </tr>\n",
       "    <tr>\n",
       "      <th>5</th>\n",
       "      <td>Misc</td>\n",
       "      <td>221</td>\n",
       "      <td>97.26</td>\n",
       "      <td>0.440090</td>\n",
       "    </tr>\n",
       "    <tr>\n",
       "      <th>0</th>\n",
       "      <td>Action</td>\n",
       "      <td>1093</td>\n",
       "      <td>468.77</td>\n",
       "      <td>0.428884</td>\n",
       "    </tr>\n",
       "    <tr>\n",
       "      <th>6</th>\n",
       "      <td>Racing</td>\n",
       "      <td>138</td>\n",
       "      <td>58.68</td>\n",
       "      <td>0.425217</td>\n",
       "    </tr>\n",
       "    <tr>\n",
       "      <th>7</th>\n",
       "      <td>Fighting</td>\n",
       "      <td>121</td>\n",
       "      <td>49.36</td>\n",
       "      <td>0.407934</td>\n",
       "    </tr>\n",
       "    <tr>\n",
       "      <th>8</th>\n",
       "      <td>Simulation</td>\n",
       "      <td>96</td>\n",
       "      <td>37.13</td>\n",
       "      <td>0.386771</td>\n",
       "    </tr>\n",
       "    <tr>\n",
       "      <th>11</th>\n",
       "      <td>Puzzle</td>\n",
       "      <td>39</td>\n",
       "      <td>7.57</td>\n",
       "      <td>0.194103</td>\n",
       "    </tr>\n",
       "    <tr>\n",
       "      <th>10</th>\n",
       "      <td>Strategy</td>\n",
       "      <td>81</td>\n",
       "      <td>15.00</td>\n",
       "      <td>0.185185</td>\n",
       "    </tr>\n",
       "    <tr>\n",
       "      <th>2</th>\n",
       "      <td>Adventure</td>\n",
       "      <td>312</td>\n",
       "      <td>33.69</td>\n",
       "      <td>0.107981</td>\n",
       "    </tr>\n",
       "  </tbody>\n",
       "</table>\n",
       "</div>"
      ],
      "text/plain": [
       "           genre  game_count  total_sales  profitability_ratio\n",
       "4        Shooter         262       315.82             1.205420\n",
       "9       Platform          95        63.22             0.665474\n",
       "3         Sports         310       202.67             0.653774\n",
       "1   Role-Playing         387       196.28             0.507183\n",
       "5           Misc         221        97.26             0.440090\n",
       "0         Action        1093       468.77             0.428884\n",
       "6         Racing         138        58.68             0.425217\n",
       "7       Fighting         121        49.36             0.407934\n",
       "8     Simulation          96        37.13             0.386771\n",
       "11        Puzzle          39         7.57             0.194103\n",
       "10      Strategy          81        15.00             0.185185\n",
       "2      Adventure         312        33.69             0.107981"
      ]
     },
     "execution_count": 39,
     "metadata": {},
     "output_type": "execute_result"
    }
   ],
   "source": [
    "games_by_genre = games_by_genre.reset_index()\n",
    "games_by_genre.rename(columns={'name':'game_count'},inplace=True)\n",
    "sales_by_games_and_genre = games_by_genre.merge(sales_by_genre, on='genre')\n",
    "sales_by_games_and_genre['profitability_ratio'] = sales_by_games_and_genre['total_sales'] / sales_by_games_and_genre['game_count']\n",
    "sales_by_games_and_genre.sort_values(by='profitability_ratio',ascending=False)"
   ]
  },
  {
   "cell_type": "markdown",
   "metadata": {},
   "source": [
    "Se observa que el género más rentable es 'Shooter', tomando en cuenta el ratio de rentabilidad. El género acción, a pesar de ser el más popular, no es el más rentable."
   ]
  },
  {
   "cell_type": "markdown",
   "metadata": {},
   "source": [
    "### Análisis por región"
   ]
  },
  {
   "cell_type": "code",
   "execution_count": 40,
   "metadata": {
    "trusted": false
   },
   "outputs": [],
   "source": [
    "# Crea un perfil de usuario para cada región\n",
    "df_na = df_games_filtered.drop(columns=['eu_sales','jp_sales', 'other_sales', 'total_sales'])\n",
    "df_eu = df_games_filtered.drop(columns=['na_sales','jp_sales', 'other_sales', 'total_sales'])\n",
    "df_jp = df_games_filtered.drop(columns=['na_sales','eu_sales', 'other_sales', 'total_sales'])\n"
   ]
  },
  {
   "cell_type": "code",
   "execution_count": 41,
   "metadata": {
    "trusted": false
   },
   "outputs": [
    {
     "data": {
      "text/plain": [
       "(  platform  na_sales\n",
       " 0     X360    146.78\n",
       " 1      PS4    108.74\n",
       " 2      PS3    106.74\n",
       " 3     XOne     93.12\n",
       " 4      3DS     56.15,\n",
       "   platform  eu_sales\n",
       " 0      PS4    141.09\n",
       " 1      PS3    109.94\n",
       " 2     X360     76.96\n",
       " 3     XOne     51.59\n",
       " 4      3DS     42.85,\n",
       "   platform  jp_sales\n",
       " 0      3DS     87.84\n",
       " 1      PS3     36.07\n",
       " 2      PSV     21.11\n",
       " 3      PS4     15.96\n",
       " 4     WiiU     13.01)"
      ]
     },
     "execution_count": 41,
     "metadata": {},
     "output_type": "execute_result"
    }
   ],
   "source": [
    "# Determina las cinco plataformas principales de cada región\n",
    "na_main_platforms = df_na.groupby('platform')['na_sales'].sum().sort_values(ascending=False).reset_index().head()\n",
    "eu_main_platforms = df_eu.groupby('platform')['eu_sales'].sum().sort_values(ascending=False).reset_index().head()\n",
    "jp_main_platforms = df_jp.groupby('platform')['jp_sales'].sum().sort_values(ascending=False).reset_index().head()\n",
    "\n",
    "na_main_platforms, eu_main_platforms, jp_main_platforms\n"
   ]
  },
  {
   "cell_type": "code",
   "execution_count": 42,
   "metadata": {
    "trusted": false
   },
   "outputs": [
    {
     "data": {
      "text/plain": [
       "(          genre  na_sales\n",
       " 0        Action    193.68\n",
       " 1       Shooter    152.18\n",
       " 2        Sports     94.76\n",
       " 3  Role-Playing     64.77\n",
       " 4          Misc     45.89,\n",
       " '',\n",
       "           genre  eu_sales\n",
       " 0        Action    167.48\n",
       " 1       Shooter    116.29\n",
       " 2        Sports     74.55\n",
       " 3  Role-Playing     49.00\n",
       " 4        Racing     29.31,\n",
       " '',\n",
       "           genre  jp_sales\n",
       " 0  Role-Playing     67.46\n",
       " 1        Action     54.09\n",
       " 2          Misc     13.95\n",
       " 3    Simulation     10.57\n",
       " 4      Fighting      9.64)"
      ]
     },
     "execution_count": 42,
     "metadata": {},
     "output_type": "execute_result"
    }
   ],
   "source": [
    "# Determina los cinco géneros principales de cada región. Explica la diferencia\n",
    "na_main_genres = df_na.groupby('genre')['na_sales'].sum().sort_values(ascending=False).reset_index().head()\n",
    "eu_main_genres = df_eu.groupby('genre')['eu_sales'].sum().sort_values(ascending=False).reset_index().head()\n",
    "jp_main_genres = df_jp.groupby('genre')['jp_sales'].sum().sort_values(ascending=False).reset_index().head()\n",
    "\n",
    "na_main_genres, '', eu_main_genres, '', jp_main_genres,"
   ]
  },
  {
   "cell_type": "markdown",
   "metadata": {},
   "source": [
    "Role-Playing y Acción son géneros populares en las tres regiones. PS3 es la plataforma que es popular en las tres regiones."
   ]
  },
  {
   "cell_type": "markdown",
   "metadata": {},
   "source": [
    "### Análisis por clasificación ESRB "
   ]
  },
  {
   "cell_type": "code",
   "execution_count": 43,
   "metadata": {
    "trusted": false
   },
   "outputs": [
    {
     "data": {
      "text/html": [
       "<div>\n",
       "<style scoped>\n",
       "    .dataframe tbody tr th:only-of-type {\n",
       "        vertical-align: middle;\n",
       "    }\n",
       "\n",
       "    .dataframe tbody tr th {\n",
       "        vertical-align: top;\n",
       "    }\n",
       "\n",
       "    .dataframe thead th {\n",
       "        text-align: right;\n",
       "    }\n",
       "</style>\n",
       "<table border=\"1\" class=\"dataframe\">\n",
       "  <thead>\n",
       "    <tr style=\"text-align: right;\">\n",
       "      <th></th>\n",
       "      <th>rating</th>\n",
       "      <th>na_sales</th>\n",
       "    </tr>\n",
       "  </thead>\n",
       "  <tbody>\n",
       "    <tr>\n",
       "      <th>0</th>\n",
       "      <td>M</td>\n",
       "      <td>237.16</td>\n",
       "    </tr>\n",
       "    <tr>\n",
       "      <th>1</th>\n",
       "      <td>E</td>\n",
       "      <td>133.12</td>\n",
       "    </tr>\n",
       "    <tr>\n",
       "      <th>2</th>\n",
       "      <td>unknown</td>\n",
       "      <td>118.15</td>\n",
       "    </tr>\n",
       "    <tr>\n",
       "      <th>3</th>\n",
       "      <td>E10+</td>\n",
       "      <td>83.52</td>\n",
       "    </tr>\n",
       "    <tr>\n",
       "      <th>4</th>\n",
       "      <td>T</td>\n",
       "      <td>78.17</td>\n",
       "    </tr>\n",
       "    <tr>\n",
       "      <th>5</th>\n",
       "      <td>RP</td>\n",
       "      <td>0.00</td>\n",
       "    </tr>\n",
       "  </tbody>\n",
       "</table>\n",
       "</div>"
      ],
      "text/plain": [
       "    rating  na_sales\n",
       "0        M    237.16\n",
       "1        E    133.12\n",
       "2  unknown    118.15\n",
       "3     E10+     83.52\n",
       "4        T     78.17\n",
       "5       RP      0.00"
      ]
     },
     "execution_count": 43,
     "metadata": {},
     "output_type": "execute_result"
    }
   ],
   "source": [
    "#Determina si las clasificaciones de ESRB afectan a las ventas en regiones individuales.\n",
    "\n",
    "df_na_rating = df_na.groupby('rating')['na_sales'].sum().sort_values(ascending=False).reset_index()\n",
    "df_na_rating"
   ]
  },
  {
   "cell_type": "code",
   "execution_count": 44,
   "metadata": {
    "trusted": false
   },
   "outputs": [
    {
     "data": {
      "text/html": [
       "<div>\n",
       "<style scoped>\n",
       "    .dataframe tbody tr th:only-of-type {\n",
       "        vertical-align: middle;\n",
       "    }\n",
       "\n",
       "    .dataframe tbody tr th {\n",
       "        vertical-align: top;\n",
       "    }\n",
       "\n",
       "    .dataframe thead th {\n",
       "        text-align: right;\n",
       "    }\n",
       "</style>\n",
       "<table border=\"1\" class=\"dataframe\">\n",
       "  <thead>\n",
       "    <tr style=\"text-align: right;\">\n",
       "      <th></th>\n",
       "      <th>rating</th>\n",
       "      <th>eu_sales</th>\n",
       "    </tr>\n",
       "  </thead>\n",
       "  <tbody>\n",
       "    <tr>\n",
       "      <th>0</th>\n",
       "      <td>M</td>\n",
       "      <td>197.93</td>\n",
       "    </tr>\n",
       "    <tr>\n",
       "      <th>1</th>\n",
       "      <td>E</td>\n",
       "      <td>119.41</td>\n",
       "    </tr>\n",
       "    <tr>\n",
       "      <th>2</th>\n",
       "      <td>unknown</td>\n",
       "      <td>95.15</td>\n",
       "    </tr>\n",
       "    <tr>\n",
       "      <th>3</th>\n",
       "      <td>E10+</td>\n",
       "      <td>60.54</td>\n",
       "    </tr>\n",
       "    <tr>\n",
       "      <th>4</th>\n",
       "      <td>T</td>\n",
       "      <td>58.20</td>\n",
       "    </tr>\n",
       "    <tr>\n",
       "      <th>5</th>\n",
       "      <td>RP</td>\n",
       "      <td>0.05</td>\n",
       "    </tr>\n",
       "  </tbody>\n",
       "</table>\n",
       "</div>"
      ],
      "text/plain": [
       "    rating  eu_sales\n",
       "0        M    197.93\n",
       "1        E    119.41\n",
       "2  unknown     95.15\n",
       "3     E10+     60.54\n",
       "4        T     58.20\n",
       "5       RP      0.05"
      ]
     },
     "execution_count": 44,
     "metadata": {},
     "output_type": "execute_result"
    }
   ],
   "source": [
    "df_eu_rating = df_eu.groupby('rating')['eu_sales'].sum().sort_values(ascending=False).reset_index()\n",
    "df_eu_rating"
   ]
  },
  {
   "cell_type": "code",
   "execution_count": 45,
   "metadata": {
    "trusted": false
   },
   "outputs": [
    {
     "data": {
      "text/html": [
       "<div>\n",
       "<style scoped>\n",
       "    .dataframe tbody tr th:only-of-type {\n",
       "        vertical-align: middle;\n",
       "    }\n",
       "\n",
       "    .dataframe tbody tr th {\n",
       "        vertical-align: top;\n",
       "    }\n",
       "\n",
       "    .dataframe thead th {\n",
       "        text-align: right;\n",
       "    }\n",
       "</style>\n",
       "<table border=\"1\" class=\"dataframe\">\n",
       "  <thead>\n",
       "    <tr style=\"text-align: right;\">\n",
       "      <th></th>\n",
       "      <th>rating</th>\n",
       "      <th>jp_sales</th>\n",
       "    </tr>\n",
       "  </thead>\n",
       "  <tbody>\n",
       "    <tr>\n",
       "      <th>0</th>\n",
       "      <td>unknown</td>\n",
       "      <td>114.03</td>\n",
       "    </tr>\n",
       "    <tr>\n",
       "      <th>1</th>\n",
       "      <td>E</td>\n",
       "      <td>28.48</td>\n",
       "    </tr>\n",
       "    <tr>\n",
       "      <th>2</th>\n",
       "      <td>T</td>\n",
       "      <td>26.72</td>\n",
       "    </tr>\n",
       "    <tr>\n",
       "      <th>3</th>\n",
       "      <td>M</td>\n",
       "      <td>21.86</td>\n",
       "    </tr>\n",
       "    <tr>\n",
       "      <th>4</th>\n",
       "      <td>E10+</td>\n",
       "      <td>8.19</td>\n",
       "    </tr>\n",
       "    <tr>\n",
       "      <th>5</th>\n",
       "      <td>RP</td>\n",
       "      <td>0.00</td>\n",
       "    </tr>\n",
       "  </tbody>\n",
       "</table>\n",
       "</div>"
      ],
      "text/plain": [
       "    rating  jp_sales\n",
       "0  unknown    114.03\n",
       "1        E     28.48\n",
       "2        T     26.72\n",
       "3        M     21.86\n",
       "4     E10+      8.19\n",
       "5       RP      0.00"
      ]
     },
     "execution_count": 45,
     "metadata": {},
     "output_type": "execute_result"
    }
   ],
   "source": [
    "df_jp_rating = df_jp.groupby('rating')['jp_sales'].sum().sort_values(ascending=False).reset_index()\n",
    "df_jp_rating"
   ]
  },
  {
   "cell_type": "markdown",
   "metadata": {},
   "source": [
    "Se observa que el rating de los juegos en Norte Armérica y Europa tiene una tendencia similar respecto a las ventas, sin embargo en Japón no se observa tal tendencia."
   ]
  },
  {
   "cell_type": "markdown",
   "metadata": {},
   "source": [
    "## Pruebas de Hipótesis"
   ]
  },
  {
   "cell_type": "markdown",
   "metadata": {},
   "source": [
    "### Primera prueba"
   ]
  },
  {
   "cell_type": "markdown",
   "metadata": {},
   "source": [
    "Se prueba la hipótesis de que las calificaciones promedio de los usuarios para las plataformas Xbox One y PC son las mismas.\n",
    "\n",
    "Se establece:\n",
    "\n",
    "-Hipótesis nula: las calificaciones de usuario promedio de las dos plataformas son iguales\n",
    "\n",
    "-Hipótesis alternativa: las calificaciones de usuario promedio de las dos plataformas no son iguales\n",
    "\n",
    "Para probar esta hipótesis de que las medias de las calificaciones de usuario de las plataformas son iguales según las muestras tomadas de ellas, se aplicará la función scipy.stats.ttest_ind, estableciendo el parámetro equal_var=False debido a que las varianzas no se consideran iguales.\n",
    "\n",
    "Se establece un nivel de significancia estadística crítica de alpha = 0.05, con el fin de tener un 95% de confianza en los resultados."
   ]
  },
  {
   "cell_type": "code",
   "execution_count": 46,
   "metadata": {
    "trusted": false
   },
   "outputs": [
    {
     "name": "stdout",
     "output_type": "stream",
     "text": [
      "Población total de calificaciones de usuarios para Xbox One: 247\n",
      "Población total de calificaciones de usuarios para PC: 267\n",
      "\n",
      "Varianza de las calificaciones de usuarios para Xbox One: 1.4684781692615487\n",
      "Varianza de las calificaciones de usuarios para PC: 2.3298997795898786\n"
     ]
    }
   ],
   "source": [
    "# Revisión de total y varianza de cada población\n",
    "df_xone = df_games_filtered[df_games_filtered['platform']=='XOne']\n",
    "print('Población total de calificaciones de usuarios para Xbox One:', df_xone['user_score'].count())\n",
    "\n",
    "df_pc = df_games_filtered[df_games_filtered['platform']=='PC']\n",
    "print('Población total de calificaciones de usuarios para PC:', df_pc['user_score'].count())\n",
    "\n",
    "print()\n",
    "print('Varianza de las calificaciones de usuarios para Xbox One:', np.var(df_xone['user_score']))\n",
    "print('Varianza de las calificaciones de usuarios para PC:', np.var(df_pc['user_score']))\n",
    "\n",
    "#print()\n",
    "#print('Media de las calificaciones de usuarios para Xbox One:', df_xone['user_score'].mean())\n",
    "#print('Media de las calificaciones de usuarios para PC:', df_pc['user_score'].mean())\n",
    "\n"
   ]
  },
  {
   "cell_type": "markdown",
   "metadata": {},
   "source": [
    "Para esta prueba se obtiene una muestra de 100 usuarios de cada plataforma para homogeneizar las muestras y tener que ambas muestras son > 30.  "
   ]
  },
  {
   "cell_type": "code",
   "execution_count": 47,
   "metadata": {
    "trusted": false
   },
   "outputs": [
    {
     "name": "stdout",
     "output_type": "stream",
     "text": [
      "valor p:  0.48568128728073634\n",
      "No podemos rechazar la hipótesis nula\n"
     ]
    }
   ],
   "source": [
    "# Establecer muestra\n",
    "np.random.seed(1)\n",
    "df_xone_sample = df_xone['user_score'].sample(100)\n",
    "df_pc_sample = df_pc['user_score'].sample(100)\n",
    "\n",
    "# Prueba de hipótesis\n",
    "alpha = 0.05  \n",
    "results = st.ttest_ind(df_xone_sample, df_pc_sample, equal_var=False)\n",
    "\n",
    "print('valor p: ', results.pvalue) \n",
    "\n",
    "if results.pvalue < alpha:\n",
    "    print(\"Rechazamos la hipótesis nula\")\n",
    "else:\n",
    "    print(\"No podemos rechazar la hipótesis nula\")\n"
   ]
  },
  {
   "cell_type": "markdown",
   "metadata": {},
   "source": [
    "El valor p 0.4856 (utilizando random seed 1) cae en el umbral de no rechazo de la hipótesis nula. Este valor indica que aunque las calificaciones de usuario promedio para las dos plataformas son diferentes, existe un 48.56% de probabilidad de obtener aleatoriamente una diferencia de ese tamaño o mayor. Esta probabilidad demasiado alta para concluir que existe una diferencia significativa entre las calificaciones de usuario de ambas plataformas.\n"
   ]
  },
  {
   "cell_type": "markdown",
   "metadata": {},
   "source": [
    "### Segunda prueba"
   ]
  },
  {
   "cell_type": "markdown",
   "metadata": {},
   "source": [
    "Se prueba la hipótesis de que las calificaciones promedio de los usuarios para los géneros de Acción y Deportes son diferentes."
   ]
  },
  {
   "cell_type": "markdown",
   "metadata": {},
   "source": [
    "Se establece:\n",
    "\n",
    "-Hipótesis nula: las calificaciones promedio de los usuarios para los géneros de Acción y Deportes son iguales\n",
    "\n",
    "-Hipótesis alternativa: las calificaciones promedio de los usuarios para los géneros de Acción y Deportes son diferentes\n",
    "\n",
    "Para probar esta hipótesis de que las medias de las calificaciones de usuario de los géneros Acción y Deportes son iguales, según las muestras tomadas de ellas, se aplicará la función scipy.stats.ttest_ind, estableciendo el parámetro equal_var=False debido a que las varianzas no se consideran iguales.\n",
    "\n",
    "Se establece un nivel de significancia estadística crítica de alpha = 0.05, con el fin de tener un 95% de confianza en los resultados."
   ]
  },
  {
   "cell_type": "code",
   "execution_count": 48,
   "metadata": {
    "trusted": false
   },
   "outputs": [
    {
     "name": "stdout",
     "output_type": "stream",
     "text": [
      "Población total de calificaciones de usuarios para género Acción: 1093\n",
      "Población total de calificaciones de usuarios para género Deportes: 310\n",
      "\n",
      "Varianza de las calificaciones de usuarios para Xbox One: 1.0015511682339053\n",
      "Varianza de las calificaciones de usuarios para PC: 2.4470581142775747\n"
     ]
    }
   ],
   "source": [
    "# Revisión de total y varianza de cada población\n",
    "df_genre_action = df_games_filtered[df_games_filtered['genre']=='Action']\n",
    "print('Población total de calificaciones de usuarios para género Acción:', df_genre_action['user_score'].count())\n",
    "\n",
    "df_genre_sports = df_games_filtered[df_games_filtered['genre']=='Sports']\n",
    "print('Población total de calificaciones de usuarios para género Deportes:', df_genre_sports['user_score'].count())\n",
    "\n",
    "print()\n",
    "print('Varianza de las calificaciones de usuarios para Xbox One:', np.var(df_genre_action['user_score']))\n",
    "print('Varianza de las calificaciones de usuarios para PC:', np.var(df_genre_sports['user_score']))\n",
    "\n",
    "#print()\n",
    "#print('Media de las calificaciones de usuarios para Xbox One:', df_genre_action['user_score'].mean())\n",
    "#print('Media de las calificaciones de usuarios para PC:', df_genre_sports['user_score'].mean())\n",
    "\n"
   ]
  },
  {
   "cell_type": "markdown",
   "metadata": {},
   "source": [
    "Para esta prueba se obtendrá de igual manera una muestra de 100 usuarios de cada género para homogeneizar las muestras y tener que ambas muestras son > 30."
   ]
  },
  {
   "cell_type": "code",
   "execution_count": 49,
   "metadata": {
    "trusted": false
   },
   "outputs": [
    {
     "name": "stdout",
     "output_type": "stream",
     "text": [
      "valor p:  2.766555108236377e-07\n",
      "Rechazamos la hipótesis nula\n"
     ]
    }
   ],
   "source": [
    "# Establecer muestra\n",
    "np.random.seed(1)\n",
    "df_action_sample = df_genre_action['user_score'].sample(100)\n",
    "df_sports_sample = df_genre_sports['user_score'].sample(100)\n",
    "\n",
    "# Prueba de hipótesis\n",
    "#alpha = 0.05  \n",
    "results = st.ttest_ind(df_action_sample, df_sports_sample, equal_var=False)\n",
    "\n",
    "print('valor p: ', results.pvalue) \n",
    "\n",
    "if results.pvalue < alpha:\n",
    "    print(\"Rechazamos la hipótesis nula\")\n",
    "else:\n",
    "    print(\"No podemos rechazar la hipótesis nula\")\n"
   ]
  },
  {
   "cell_type": "markdown",
   "metadata": {},
   "source": [
    "El valor p 0.000000027665 (utilizando random seed 1) cae en el umbral de rechazo de la hipótesis nula. Esta probabilidad demasiado baja para concluir que existe una diferencia significativa entre las calificaciones de usuario de ambas plataformas. Con un 95% de confianza se rechaza la hipótesis de que las calificaciones promedio de los usuarios para los géneros de Acción y Deportes son iguales"
   ]
  },
  {
   "cell_type": "markdown",
   "metadata": {},
   "source": [
    "## Conclusión general"
   ]
  },
  {
   "cell_type": "markdown",
   "metadata": {},
   "source": [
    "Parte fundamental de este proyecto ha sido la preparación de los datos, en donde se encontraron altos niveles de información faltante. Ha sido importante tomar en cuenta las medias por grupos de plataformas y géneros para no generalizar y rellenar valores demasiado globales en campos importantes como critic score y user score. \n",
    "\n",
    "Con la información generada a partir de los resultados obtenidos, se puede tomar en cuenta las plataformas y géneros principales en cada región así como de manera global, y si las críticas afectan o no las ventas, para efectos del principal objetivo del proyecto.\n",
    "\n",
    "Un descubrimiento importante a tomar en cuenta es el ratio de rentabilidad de cada género, donde se concluye que el hecho de que un género sea popular no asegura que será del todo rentable.\n",
    "\n",
    "Con base en el análisis, también se puede tomar en cuenta las plataformas que continuarán siendo populares para enfocar futuros proyectos y campañas en las mismas.\n",
    "\n",
    "A manera de reflexión final: la demanda de este proyecto requirió el uso y combinación de gran diversidad de métodos y fórmulas tanto para la preparación de los datos como para su posterior análisis. El pensamiento crítico continúa desarrollándose de tal manera que se indaga acerca de la información obtenida para una mejor comprensión de los resultados."
   ]
  },
  {
   "cell_type": "code",
   "execution_count": null,
   "metadata": {
    "trusted": false
   },
   "outputs": [],
   "source": []
  }
 ],
 "metadata": {
  "ExecuteTimeLog": [
   {
    "duration": 2486,
    "start_time": "2024-10-02T20:54:08.685Z"
   },
   {
    "duration": 36,
    "start_time": "2024-10-02T20:54:11.173Z"
   },
   {
    "duration": 18,
    "start_time": "2024-10-02T20:57:16.281Z"
   },
   {
    "duration": 211,
    "start_time": "2024-10-02T21:11:22.221Z"
   },
   {
    "duration": 16,
    "start_time": "2024-10-02T21:11:30.242Z"
   },
   {
    "duration": 14,
    "start_time": "2024-10-02T21:15:19.924Z"
   },
   {
    "duration": 4,
    "start_time": "2024-10-02T21:17:38.315Z"
   },
   {
    "duration": 13,
    "start_time": "2024-10-02T21:17:49.647Z"
   },
   {
    "duration": 13,
    "start_time": "2024-10-02T21:18:10.406Z"
   },
   {
    "duration": 12,
    "start_time": "2024-10-02T21:18:14.794Z"
   },
   {
    "duration": 14,
    "start_time": "2024-10-02T21:19:07.013Z"
   },
   {
    "duration": 14,
    "start_time": "2024-10-02T21:19:11.941Z"
   },
   {
    "duration": 17,
    "start_time": "2024-10-02T21:20:05.503Z"
   },
   {
    "duration": 13,
    "start_time": "2024-10-02T21:20:50.452Z"
   },
   {
    "duration": 4,
    "start_time": "2024-10-02T21:22:15.859Z"
   },
   {
    "duration": 63,
    "start_time": "2024-10-02T21:22:29.011Z"
   },
   {
    "duration": 16,
    "start_time": "2024-10-02T21:22:35.942Z"
   },
   {
    "duration": 15,
    "start_time": "2024-10-02T21:22:43.542Z"
   },
   {
    "duration": 5,
    "start_time": "2024-10-02T21:23:39.730Z"
   },
   {
    "duration": 26,
    "start_time": "2024-10-02T21:24:05.163Z"
   },
   {
    "duration": 2815,
    "start_time": "2024-10-04T01:08:52.238Z"
   },
   {
    "duration": 579,
    "start_time": "2024-10-04T01:08:55.056Z"
   },
   {
    "duration": 0,
    "start_time": "2024-10-04T01:08:55.637Z"
   },
   {
    "duration": 0,
    "start_time": "2024-10-04T01:08:55.638Z"
   },
   {
    "duration": 0,
    "start_time": "2024-10-04T01:08:55.639Z"
   },
   {
    "duration": 793,
    "start_time": "2024-10-04T01:09:22.519Z"
   },
   {
    "duration": 50,
    "start_time": "2024-10-04T01:09:23.315Z"
   },
   {
    "duration": 22,
    "start_time": "2024-10-04T01:09:23.366Z"
   },
   {
    "duration": 4,
    "start_time": "2024-10-04T01:09:23.390Z"
   },
   {
    "duration": 15,
    "start_time": "2024-10-04T01:09:23.396Z"
   },
   {
    "duration": 168,
    "start_time": "2024-10-04T01:10:04.670Z"
   },
   {
    "duration": 16,
    "start_time": "2024-10-04T01:10:15.372Z"
   },
   {
    "duration": 13,
    "start_time": "2024-10-04T01:10:23.658Z"
   },
   {
    "duration": 7,
    "start_time": "2024-10-04T01:10:27.103Z"
   },
   {
    "duration": 12,
    "start_time": "2024-10-04T01:10:37.337Z"
   },
   {
    "duration": 12,
    "start_time": "2024-10-04T01:11:25.036Z"
   },
   {
    "duration": 155,
    "start_time": "2024-10-04T01:11:43.549Z"
   },
   {
    "duration": 12,
    "start_time": "2024-10-04T01:11:58.429Z"
   },
   {
    "duration": 23,
    "start_time": "2024-10-04T01:12:14.586Z"
   },
   {
    "duration": 13,
    "start_time": "2024-10-04T01:12:29.632Z"
   },
   {
    "duration": 15,
    "start_time": "2024-10-04T01:13:21.705Z"
   },
   {
    "duration": 30,
    "start_time": "2024-10-04T01:13:33.975Z"
   },
   {
    "duration": 14,
    "start_time": "2024-10-04T01:13:39.584Z"
   },
   {
    "duration": 15,
    "start_time": "2024-10-04T01:14:43.245Z"
   },
   {
    "duration": 17,
    "start_time": "2024-10-04T01:15:16.134Z"
   },
   {
    "duration": 15,
    "start_time": "2024-10-04T01:15:32.613Z"
   },
   {
    "duration": 24,
    "start_time": "2024-10-04T01:15:40.843Z"
   },
   {
    "duration": 14,
    "start_time": "2024-10-04T01:16:02.777Z"
   },
   {
    "duration": 16,
    "start_time": "2024-10-04T01:16:44.268Z"
   },
   {
    "duration": 13,
    "start_time": "2024-10-04T01:16:51.863Z"
   },
   {
    "duration": 2468,
    "start_time": "2024-10-05T04:28:29.228Z"
   },
   {
    "duration": 43,
    "start_time": "2024-10-05T04:28:31.698Z"
   },
   {
    "duration": 19,
    "start_time": "2024-10-05T04:28:31.742Z"
   },
   {
    "duration": 4,
    "start_time": "2024-10-05T04:28:31.763Z"
   },
   {
    "duration": 16,
    "start_time": "2024-10-05T04:28:31.769Z"
   },
   {
    "duration": 12,
    "start_time": "2024-10-05T04:28:31.787Z"
   },
   {
    "duration": 738,
    "start_time": "2024-10-05T04:29:42.193Z"
   },
   {
    "duration": 3,
    "start_time": "2024-10-05T04:30:43.008Z"
   },
   {
    "duration": 3,
    "start_time": "2024-10-05T04:31:34.717Z"
   },
   {
    "duration": 4,
    "start_time": "2024-10-05T04:32:44.701Z"
   },
   {
    "duration": 13,
    "start_time": "2024-10-05T04:32:51.997Z"
   },
   {
    "duration": 3,
    "start_time": "2024-10-05T04:33:01.691Z"
   },
   {
    "duration": 13,
    "start_time": "2024-10-05T04:33:46.631Z"
   },
   {
    "duration": 16,
    "start_time": "2024-10-05T04:33:58.138Z"
   },
   {
    "duration": 5,
    "start_time": "2024-10-05T04:36:55.426Z"
   },
   {
    "duration": 4,
    "start_time": "2024-10-05T04:37:00.093Z"
   },
   {
    "duration": 12,
    "start_time": "2024-10-05T04:37:37.273Z"
   },
   {
    "duration": 13,
    "start_time": "2024-10-05T04:39:02.542Z"
   },
   {
    "duration": 4,
    "start_time": "2024-10-05T04:39:17.006Z"
   },
   {
    "duration": 14,
    "start_time": "2024-10-05T04:39:20.137Z"
   },
   {
    "duration": 6,
    "start_time": "2024-10-05T04:39:46.224Z"
   },
   {
    "duration": 4,
    "start_time": "2024-10-05T04:39:58.145Z"
   },
   {
    "duration": 13,
    "start_time": "2024-10-05T04:40:09.909Z"
   },
   {
    "duration": 95,
    "start_time": "2024-10-05T04:41:38.873Z"
   },
   {
    "duration": 7,
    "start_time": "2024-10-05T04:41:52.647Z"
   },
   {
    "duration": 10,
    "start_time": "2024-10-05T04:42:01.721Z"
   },
   {
    "duration": 5,
    "start_time": "2024-10-05T04:45:44.666Z"
   },
   {
    "duration": 357,
    "start_time": "2024-10-05T04:45:56.991Z"
   },
   {
    "duration": 5,
    "start_time": "2024-10-05T04:46:20.846Z"
   },
   {
    "duration": 225,
    "start_time": "2024-10-05T04:46:28.560Z"
   },
   {
    "duration": 786,
    "start_time": "2024-10-05T04:46:55.497Z"
   },
   {
    "duration": 24,
    "start_time": "2024-10-05T04:46:56.287Z"
   },
   {
    "duration": 17,
    "start_time": "2024-10-05T04:46:56.313Z"
   },
   {
    "duration": 4,
    "start_time": "2024-10-05T04:46:56.332Z"
   },
   {
    "duration": 10,
    "start_time": "2024-10-05T04:46:56.339Z"
   },
   {
    "duration": 151,
    "start_time": "2024-10-05T04:46:56.351Z"
   },
   {
    "duration": 0,
    "start_time": "2024-10-05T04:46:56.504Z"
   },
   {
    "duration": 0,
    "start_time": "2024-10-05T04:46:56.505Z"
   },
   {
    "duration": 412,
    "start_time": "2024-10-05T04:47:34.244Z"
   },
   {
    "duration": 717,
    "start_time": "2024-10-05T04:47:47.070Z"
   },
   {
    "duration": 23,
    "start_time": "2024-10-05T04:47:47.789Z"
   },
   {
    "duration": 17,
    "start_time": "2024-10-05T04:47:47.814Z"
   },
   {
    "duration": 6,
    "start_time": "2024-10-05T04:47:47.832Z"
   },
   {
    "duration": 13,
    "start_time": "2024-10-05T04:47:47.841Z"
   },
   {
    "duration": 40,
    "start_time": "2024-10-05T04:47:47.856Z"
   },
   {
    "duration": 12,
    "start_time": "2024-10-05T04:47:47.897Z"
   },
   {
    "duration": 13,
    "start_time": "2024-10-05T04:47:47.911Z"
   },
   {
    "duration": 11,
    "start_time": "2024-10-05T04:48:29.880Z"
   },
   {
    "duration": 4,
    "start_time": "2024-10-05T04:48:41.578Z"
   },
   {
    "duration": 4,
    "start_time": "2024-10-05T04:49:35.222Z"
   },
   {
    "duration": 11,
    "start_time": "2024-10-05T04:49:45.430Z"
   },
   {
    "duration": 11,
    "start_time": "2024-10-05T04:49:52.390Z"
   },
   {
    "duration": 5,
    "start_time": "2024-10-05T04:51:10.085Z"
   },
   {
    "duration": 12,
    "start_time": "2024-10-05T04:51:14.292Z"
   },
   {
    "duration": 11,
    "start_time": "2024-10-05T04:51:34.975Z"
   },
   {
    "duration": 749,
    "start_time": "2024-10-05T04:51:41.434Z"
   },
   {
    "duration": 24,
    "start_time": "2024-10-05T04:51:42.186Z"
   },
   {
    "duration": 18,
    "start_time": "2024-10-05T04:51:42.211Z"
   },
   {
    "duration": 4,
    "start_time": "2024-10-05T04:51:42.232Z"
   },
   {
    "duration": 11,
    "start_time": "2024-10-05T04:51:42.237Z"
   },
   {
    "duration": 36,
    "start_time": "2024-10-05T04:51:42.250Z"
   },
   {
    "duration": 12,
    "start_time": "2024-10-05T04:51:42.288Z"
   },
   {
    "duration": 12,
    "start_time": "2024-10-05T04:51:42.301Z"
   },
   {
    "duration": 16,
    "start_time": "2024-10-05T04:51:57.165Z"
   },
   {
    "duration": 16,
    "start_time": "2024-10-05T04:52:07.151Z"
   },
   {
    "duration": 26,
    "start_time": "2024-10-05T04:53:06.187Z"
   },
   {
    "duration": 222,
    "start_time": "2024-10-05T04:54:04.867Z"
   },
   {
    "duration": 14,
    "start_time": "2024-10-05T04:54:14.605Z"
   },
   {
    "duration": 15,
    "start_time": "2024-10-05T04:54:22.751Z"
   },
   {
    "duration": 13,
    "start_time": "2024-10-05T04:54:39.962Z"
   },
   {
    "duration": 743,
    "start_time": "2024-10-05T04:54:45.441Z"
   },
   {
    "duration": 24,
    "start_time": "2024-10-05T04:54:46.187Z"
   },
   {
    "duration": 26,
    "start_time": "2024-10-05T04:54:46.212Z"
   },
   {
    "duration": 5,
    "start_time": "2024-10-05T04:54:46.241Z"
   },
   {
    "duration": 14,
    "start_time": "2024-10-05T04:54:46.287Z"
   },
   {
    "duration": 489,
    "start_time": "2024-10-05T04:54:46.303Z"
   },
   {
    "duration": 0,
    "start_time": "2024-10-05T04:54:46.794Z"
   },
   {
    "duration": 0,
    "start_time": "2024-10-05T04:54:46.795Z"
   },
   {
    "duration": 18,
    "start_time": "2024-10-05T04:54:55.209Z"
   },
   {
    "duration": 12,
    "start_time": "2024-10-05T04:56:28.949Z"
   },
   {
    "duration": 4,
    "start_time": "2024-10-05T05:00:44.401Z"
   },
   {
    "duration": 9,
    "start_time": "2024-10-05T05:01:47.374Z"
   },
   {
    "duration": 806,
    "start_time": "2024-10-05T05:02:02.404Z"
   },
   {
    "duration": 24,
    "start_time": "2024-10-05T05:02:03.213Z"
   },
   {
    "duration": 18,
    "start_time": "2024-10-05T05:02:03.239Z"
   },
   {
    "duration": 4,
    "start_time": "2024-10-05T05:02:03.259Z"
   },
   {
    "duration": 31,
    "start_time": "2024-10-05T05:02:03.265Z"
   },
   {
    "duration": 11,
    "start_time": "2024-10-05T05:02:03.298Z"
   },
   {
    "duration": 11,
    "start_time": "2024-10-05T05:02:03.310Z"
   },
   {
    "duration": 4,
    "start_time": "2024-10-05T05:02:03.323Z"
   },
   {
    "duration": 68,
    "start_time": "2024-10-05T05:02:03.328Z"
   },
   {
    "duration": 13,
    "start_time": "2024-10-05T05:05:25.519Z"
   },
   {
    "duration": 13,
    "start_time": "2024-10-05T05:05:49.943Z"
   },
   {
    "duration": 4,
    "start_time": "2024-10-05T05:08:08.979Z"
   },
   {
    "duration": 4,
    "start_time": "2024-10-05T05:09:28.130Z"
   },
   {
    "duration": 5,
    "start_time": "2024-10-05T05:09:40.056Z"
   },
   {
    "duration": 6,
    "start_time": "2024-10-05T05:09:52.335Z"
   },
   {
    "duration": 7,
    "start_time": "2024-10-05T05:13:58.092Z"
   },
   {
    "duration": 581,
    "start_time": "2024-10-05T05:15:00.299Z"
   },
   {
    "duration": 8,
    "start_time": "2024-10-05T05:15:21.376Z"
   },
   {
    "duration": 6,
    "start_time": "2024-10-05T05:16:36.334Z"
   },
   {
    "duration": 1013,
    "start_time": "2024-10-05T05:16:54.611Z"
   },
   {
    "duration": 72,
    "start_time": "2024-10-05T05:16:55.626Z"
   },
   {
    "duration": 18,
    "start_time": "2024-10-05T05:16:55.700Z"
   },
   {
    "duration": 4,
    "start_time": "2024-10-05T05:16:55.720Z"
   },
   {
    "duration": 62,
    "start_time": "2024-10-05T05:16:55.726Z"
   },
   {
    "duration": 12,
    "start_time": "2024-10-05T05:16:55.790Z"
   },
   {
    "duration": 12,
    "start_time": "2024-10-05T05:16:55.804Z"
   },
   {
    "duration": 6,
    "start_time": "2024-10-05T05:16:55.818Z"
   },
   {
    "duration": 12,
    "start_time": "2024-10-05T05:16:55.825Z"
   },
   {
    "duration": 13,
    "start_time": "2024-10-05T05:21:22.041Z"
   },
   {
    "duration": 13,
    "start_time": "2024-10-05T05:34:51.182Z"
   },
   {
    "duration": 213,
    "start_time": "2024-10-05T05:35:31.191Z"
   },
   {
    "duration": 14,
    "start_time": "2024-10-05T05:35:39.689Z"
   },
   {
    "duration": 18,
    "start_time": "2024-10-05T05:35:53.488Z"
   },
   {
    "duration": 13,
    "start_time": "2024-10-05T05:35:59.104Z"
   },
   {
    "duration": 14,
    "start_time": "2024-10-05T05:36:30.662Z"
   },
   {
    "duration": 615,
    "start_time": "2024-10-05T05:41:23.474Z"
   },
   {
    "duration": 4,
    "start_time": "2024-10-05T05:44:41.645Z"
   },
   {
    "duration": 12,
    "start_time": "2024-10-05T05:44:52.576Z"
   },
   {
    "duration": 50,
    "start_time": "2024-10-05T05:45:19.569Z"
   },
   {
    "duration": 3,
    "start_time": "2024-10-05T05:45:29.057Z"
   },
   {
    "duration": 5,
    "start_time": "2024-10-05T05:49:15.777Z"
   },
   {
    "duration": 12,
    "start_time": "2024-10-05T05:49:23.307Z"
   },
   {
    "duration": 16,
    "start_time": "2024-10-05T05:49:37.320Z"
   },
   {
    "duration": 4,
    "start_time": "2024-10-05T05:49:51.714Z"
   },
   {
    "duration": 7,
    "start_time": "2024-10-05T05:51:36.179Z"
   },
   {
    "duration": 3,
    "start_time": "2024-10-05T05:51:50.784Z"
   },
   {
    "duration": 6,
    "start_time": "2024-10-05T05:52:33.037Z"
   },
   {
    "duration": 15,
    "start_time": "2024-10-05T05:53:17.341Z"
   },
   {
    "duration": 8,
    "start_time": "2024-10-05T05:53:57.456Z"
   },
   {
    "duration": 13,
    "start_time": "2024-10-05T05:54:09.407Z"
   },
   {
    "duration": 6,
    "start_time": "2024-10-05T05:54:30.212Z"
   },
   {
    "duration": 6,
    "start_time": "2024-10-05T05:56:05.377Z"
   },
   {
    "duration": 12,
    "start_time": "2024-10-05T05:56:47.835Z"
   },
   {
    "duration": 12,
    "start_time": "2024-10-05T06:01:47.065Z"
   },
   {
    "duration": 6,
    "start_time": "2024-10-05T06:05:00.609Z"
   },
   {
    "duration": 707,
    "start_time": "2024-10-05T06:05:53.474Z"
   },
   {
    "duration": 25,
    "start_time": "2024-10-05T06:05:54.183Z"
   },
   {
    "duration": 22,
    "start_time": "2024-10-05T06:05:54.210Z"
   },
   {
    "duration": 4,
    "start_time": "2024-10-05T06:05:54.235Z"
   },
   {
    "duration": 12,
    "start_time": "2024-10-05T06:05:54.241Z"
   },
   {
    "duration": 35,
    "start_time": "2024-10-05T06:05:54.254Z"
   },
   {
    "duration": 12,
    "start_time": "2024-10-05T06:05:54.291Z"
   },
   {
    "duration": 13,
    "start_time": "2024-10-05T06:05:54.304Z"
   },
   {
    "duration": 4,
    "start_time": "2024-10-05T06:05:54.319Z"
   },
   {
    "duration": 11,
    "start_time": "2024-10-05T06:05:54.325Z"
   },
   {
    "duration": 49,
    "start_time": "2024-10-05T06:05:54.338Z"
   },
   {
    "duration": 12,
    "start_time": "2024-10-05T06:05:54.389Z"
   },
   {
    "duration": 13,
    "start_time": "2024-10-05T06:06:53.174Z"
   },
   {
    "duration": 5,
    "start_time": "2024-10-05T06:07:10.772Z"
   },
   {
    "duration": 755,
    "start_time": "2024-10-05T06:07:18.222Z"
   },
   {
    "duration": 23,
    "start_time": "2024-10-05T06:07:18.986Z"
   },
   {
    "duration": 24,
    "start_time": "2024-10-05T06:07:19.011Z"
   },
   {
    "duration": 4,
    "start_time": "2024-10-05T06:07:19.038Z"
   },
   {
    "duration": 11,
    "start_time": "2024-10-05T06:07:19.044Z"
   },
   {
    "duration": 34,
    "start_time": "2024-10-05T06:07:19.056Z"
   },
   {
    "duration": 12,
    "start_time": "2024-10-05T06:07:19.092Z"
   },
   {
    "duration": 13,
    "start_time": "2024-10-05T06:07:19.106Z"
   },
   {
    "duration": 4,
    "start_time": "2024-10-05T06:07:19.120Z"
   },
   {
    "duration": 5,
    "start_time": "2024-10-05T06:07:19.126Z"
   },
   {
    "duration": 15,
    "start_time": "2024-10-05T06:07:19.133Z"
   },
   {
    "duration": 46,
    "start_time": "2024-10-05T06:07:19.151Z"
   },
   {
    "duration": 13,
    "start_time": "2024-10-05T06:09:52.243Z"
   },
   {
    "duration": 2494,
    "start_time": "2024-10-05T19:40:13.730Z"
   },
   {
    "duration": 38,
    "start_time": "2024-10-05T19:40:16.227Z"
   },
   {
    "duration": 18,
    "start_time": "2024-10-05T19:40:16.267Z"
   },
   {
    "duration": 4,
    "start_time": "2024-10-05T19:40:16.288Z"
   },
   {
    "duration": 20,
    "start_time": "2024-10-05T19:40:16.294Z"
   },
   {
    "duration": 10,
    "start_time": "2024-10-05T19:40:16.316Z"
   },
   {
    "duration": 12,
    "start_time": "2024-10-05T19:40:16.328Z"
   },
   {
    "duration": 12,
    "start_time": "2024-10-05T19:40:16.342Z"
   },
   {
    "duration": 3,
    "start_time": "2024-10-05T19:40:16.357Z"
   },
   {
    "duration": 6,
    "start_time": "2024-10-05T19:40:16.364Z"
   },
   {
    "duration": 49,
    "start_time": "2024-10-05T19:40:16.371Z"
   },
   {
    "duration": 11,
    "start_time": "2024-10-05T19:40:16.422Z"
   },
   {
    "duration": 6,
    "start_time": "2024-10-05T19:41:12.894Z"
   },
   {
    "duration": 19,
    "start_time": "2024-10-05T19:48:58.254Z"
   },
   {
    "duration": 19,
    "start_time": "2024-10-05T19:49:32.059Z"
   },
   {
    "duration": 243,
    "start_time": "2024-10-05T19:50:43.477Z"
   },
   {
    "duration": 15,
    "start_time": "2024-10-05T19:50:54.787Z"
   },
   {
    "duration": 16,
    "start_time": "2024-10-05T19:51:12.555Z"
   },
   {
    "duration": 5,
    "start_time": "2024-10-05T19:59:29.407Z"
   },
   {
    "duration": 4,
    "start_time": "2024-10-05T19:59:54.364Z"
   },
   {
    "duration": 6,
    "start_time": "2024-10-05T19:59:59.184Z"
   },
   {
    "duration": 223,
    "start_time": "2024-10-05T20:01:11.818Z"
   },
   {
    "duration": 5,
    "start_time": "2024-10-05T20:01:28.235Z"
   },
   {
    "duration": 5,
    "start_time": "2024-10-05T20:02:15.687Z"
   },
   {
    "duration": 8,
    "start_time": "2024-10-05T20:02:29.581Z"
   },
   {
    "duration": 211,
    "start_time": "2024-10-05T20:02:39.383Z"
   },
   {
    "duration": 272,
    "start_time": "2024-10-05T20:03:29.128Z"
   },
   {
    "duration": 268,
    "start_time": "2024-10-05T20:03:37.895Z"
   },
   {
    "duration": 122,
    "start_time": "2024-10-05T20:04:12.381Z"
   },
   {
    "duration": 33,
    "start_time": "2024-10-05T20:04:17.021Z"
   },
   {
    "duration": 93,
    "start_time": "2024-10-05T20:04:23.230Z"
   },
   {
    "duration": 747,
    "start_time": "2024-10-05T20:04:44.774Z"
   },
   {
    "duration": 235,
    "start_time": "2024-10-05T20:04:59.680Z"
   },
   {
    "duration": 253,
    "start_time": "2024-10-05T20:05:43.375Z"
   },
   {
    "duration": 238,
    "start_time": "2024-10-05T20:05:54.720Z"
   },
   {
    "duration": 229,
    "start_time": "2024-10-05T20:06:44.440Z"
   },
   {
    "duration": 6,
    "start_time": "2024-10-05T20:10:21.276Z"
   },
   {
    "duration": 356,
    "start_time": "2024-10-05T20:29:17.001Z"
   },
   {
    "duration": 13,
    "start_time": "2024-10-05T20:31:33.892Z"
   },
   {
    "duration": 4,
    "start_time": "2024-10-05T20:31:50.825Z"
   },
   {
    "duration": 7,
    "start_time": "2024-10-05T20:31:58.608Z"
   },
   {
    "duration": 10,
    "start_time": "2024-10-05T20:32:09.098Z"
   },
   {
    "duration": 11,
    "start_time": "2024-10-05T20:33:32.485Z"
   },
   {
    "duration": 11,
    "start_time": "2024-10-05T20:33:38.810Z"
   },
   {
    "duration": 17,
    "start_time": "2024-10-05T20:33:51.799Z"
   },
   {
    "duration": 29,
    "start_time": "2024-10-05T20:34:07.766Z"
   },
   {
    "duration": 11,
    "start_time": "2024-10-05T20:34:18.567Z"
   },
   {
    "duration": 16,
    "start_time": "2024-10-05T20:34:25.030Z"
   },
   {
    "duration": 11,
    "start_time": "2024-10-05T20:34:40.832Z"
   },
   {
    "duration": 10,
    "start_time": "2024-10-05T20:35:37.170Z"
   },
   {
    "duration": 6,
    "start_time": "2024-10-05T20:39:52.753Z"
   },
   {
    "duration": 9,
    "start_time": "2024-10-05T20:40:00.562Z"
   },
   {
    "duration": 384,
    "start_time": "2024-10-05T20:41:45.490Z"
   },
   {
    "duration": 8,
    "start_time": "2024-10-05T20:41:50.161Z"
   },
   {
    "duration": 12,
    "start_time": "2024-10-05T20:41:58.112Z"
   },
   {
    "duration": 12,
    "start_time": "2024-10-05T20:42:37.265Z"
   },
   {
    "duration": 7,
    "start_time": "2024-10-05T20:45:10.619Z"
   },
   {
    "duration": 10,
    "start_time": "2024-10-05T20:46:07.093Z"
   },
   {
    "duration": 10,
    "start_time": "2024-10-05T20:46:22.200Z"
   },
   {
    "duration": 57,
    "start_time": "2024-10-05T20:46:51.531Z"
   },
   {
    "duration": 46,
    "start_time": "2024-10-05T20:47:21.244Z"
   },
   {
    "duration": 437,
    "start_time": "2024-10-05T20:47:41.631Z"
   },
   {
    "duration": 309,
    "start_time": "2024-10-05T20:48:07.470Z"
   },
   {
    "duration": 322,
    "start_time": "2024-10-05T20:48:15.333Z"
   },
   {
    "duration": 317,
    "start_time": "2024-10-05T20:48:25.354Z"
   },
   {
    "duration": 352,
    "start_time": "2024-10-05T20:50:59.323Z"
   },
   {
    "duration": 833,
    "start_time": "2024-10-05T20:51:41.970Z"
   },
   {
    "duration": 301,
    "start_time": "2024-10-05T20:51:51.798Z"
   },
   {
    "duration": 50,
    "start_time": "2024-10-05T20:52:48.626Z"
   },
   {
    "duration": 396,
    "start_time": "2024-10-05T20:53:12.061Z"
   },
   {
    "duration": 75,
    "start_time": "2024-10-05T20:53:22.180Z"
   },
   {
    "duration": 18,
    "start_time": "2024-10-05T20:53:45.319Z"
   },
   {
    "duration": 13,
    "start_time": "2024-10-05T20:53:57.622Z"
   },
   {
    "duration": 71,
    "start_time": "2024-10-05T20:54:15.612Z"
   },
   {
    "duration": 15,
    "start_time": "2024-10-05T20:54:25.312Z"
   },
   {
    "duration": 18,
    "start_time": "2024-10-05T20:54:38.868Z"
   },
   {
    "duration": 53,
    "start_time": "2024-10-05T20:55:12.184Z"
   },
   {
    "duration": 18,
    "start_time": "2024-10-05T20:55:24.334Z"
   },
   {
    "duration": 14,
    "start_time": "2024-10-05T20:55:35.411Z"
   },
   {
    "duration": 69,
    "start_time": "2024-10-05T20:55:39.889Z"
   },
   {
    "duration": 18,
    "start_time": "2024-10-05T20:55:54.069Z"
   },
   {
    "duration": 300,
    "start_time": "2024-10-05T20:56:10.353Z"
   },
   {
    "duration": 4,
    "start_time": "2024-10-05T20:57:31.342Z"
   },
   {
    "duration": 318,
    "start_time": "2024-10-05T20:57:44.598Z"
   },
   {
    "duration": 293,
    "start_time": "2024-10-05T20:58:12.462Z"
   },
   {
    "duration": 298,
    "start_time": "2024-10-05T20:58:40.766Z"
   },
   {
    "duration": 455,
    "start_time": "2024-10-05T21:05:30.361Z"
   },
   {
    "duration": 321,
    "start_time": "2024-10-05T21:06:47.848Z"
   },
   {
    "duration": 294,
    "start_time": "2024-10-05T21:07:16.597Z"
   },
   {
    "duration": 690,
    "start_time": "2024-10-05T21:11:35.332Z"
   },
   {
    "duration": 542,
    "start_time": "2024-10-05T21:12:18.520Z"
   },
   {
    "duration": 572,
    "start_time": "2024-10-05T21:12:27.830Z"
   },
   {
    "duration": 470,
    "start_time": "2024-10-05T21:12:57.587Z"
   },
   {
    "duration": 625,
    "start_time": "2024-10-05T21:20:31.427Z"
   },
   {
    "duration": 439,
    "start_time": "2024-10-05T21:20:55.952Z"
   },
   {
    "duration": 444,
    "start_time": "2024-10-05T21:21:10.888Z"
   },
   {
    "duration": 436,
    "start_time": "2024-10-05T21:21:36.561Z"
   },
   {
    "duration": 453,
    "start_time": "2024-10-05T21:22:33.075Z"
   },
   {
    "duration": 25,
    "start_time": "2024-10-05T21:39:57.297Z"
   },
   {
    "duration": 9,
    "start_time": "2024-10-05T21:41:12.205Z"
   },
   {
    "duration": 9,
    "start_time": "2024-10-05T21:41:46.207Z"
   },
   {
    "duration": 9,
    "start_time": "2024-10-05T21:44:00.158Z"
   },
   {
    "duration": 9,
    "start_time": "2024-10-05T21:44:29.606Z"
   },
   {
    "duration": 8,
    "start_time": "2024-10-05T21:44:40.635Z"
   },
   {
    "duration": 8,
    "start_time": "2024-10-05T21:44:52.690Z"
   },
   {
    "duration": 4,
    "start_time": "2024-10-05T21:45:03.207Z"
   },
   {
    "duration": 7,
    "start_time": "2024-10-05T21:45:10.801Z"
   },
   {
    "duration": 8,
    "start_time": "2024-10-05T21:45:17.398Z"
   },
   {
    "duration": 8,
    "start_time": "2024-10-05T21:46:20.436Z"
   },
   {
    "duration": 8,
    "start_time": "2024-10-05T21:47:14.302Z"
   },
   {
    "duration": 6,
    "start_time": "2024-10-05T21:47:25.610Z"
   },
   {
    "duration": 5,
    "start_time": "2024-10-05T21:48:52.662Z"
   },
   {
    "duration": 2461,
    "start_time": "2024-10-06T00:44:00.692Z"
   },
   {
    "duration": 41,
    "start_time": "2024-10-06T00:44:03.155Z"
   },
   {
    "duration": 20,
    "start_time": "2024-10-06T00:44:03.198Z"
   },
   {
    "duration": 5,
    "start_time": "2024-10-06T00:44:03.221Z"
   },
   {
    "duration": 13,
    "start_time": "2024-10-06T00:44:03.228Z"
   },
   {
    "duration": 12,
    "start_time": "2024-10-06T00:44:03.242Z"
   },
   {
    "duration": 12,
    "start_time": "2024-10-06T00:44:03.255Z"
   },
   {
    "duration": 38,
    "start_time": "2024-10-06T00:44:03.269Z"
   },
   {
    "duration": 4,
    "start_time": "2024-10-06T00:44:03.308Z"
   },
   {
    "duration": 6,
    "start_time": "2024-10-06T00:44:03.313Z"
   },
   {
    "duration": 18,
    "start_time": "2024-10-06T00:44:03.321Z"
   },
   {
    "duration": 14,
    "start_time": "2024-10-06T00:44:03.341Z"
   },
   {
    "duration": 18,
    "start_time": "2024-10-06T00:44:03.356Z"
   },
   {
    "duration": 5,
    "start_time": "2024-10-06T00:44:03.406Z"
   },
   {
    "duration": 253,
    "start_time": "2024-10-06T00:44:03.413Z"
   },
   {
    "duration": 474,
    "start_time": "2024-10-06T00:44:03.668Z"
   },
   {
    "duration": 5,
    "start_time": "2024-10-06T00:44:04.144Z"
   },
   {
    "duration": 9,
    "start_time": "2024-10-06T00:44:04.153Z"
   },
   {
    "duration": 5,
    "start_time": "2024-10-06T00:44:04.164Z"
   },
   {
    "duration": 734,
    "start_time": "2024-10-06T00:45:54.556Z"
   },
   {
    "duration": 28,
    "start_time": "2024-10-06T00:45:55.292Z"
   },
   {
    "duration": 17,
    "start_time": "2024-10-06T00:45:55.323Z"
   },
   {
    "duration": 5,
    "start_time": "2024-10-06T00:45:55.343Z"
   },
   {
    "duration": 11,
    "start_time": "2024-10-06T00:45:55.349Z"
   },
   {
    "duration": 10,
    "start_time": "2024-10-06T00:45:55.362Z"
   },
   {
    "duration": 36,
    "start_time": "2024-10-06T00:45:55.373Z"
   },
   {
    "duration": 13,
    "start_time": "2024-10-06T00:45:55.410Z"
   },
   {
    "duration": 4,
    "start_time": "2024-10-06T00:45:55.424Z"
   },
   {
    "duration": 6,
    "start_time": "2024-10-06T00:45:55.431Z"
   },
   {
    "duration": 14,
    "start_time": "2024-10-06T00:45:55.439Z"
   },
   {
    "duration": 14,
    "start_time": "2024-10-06T00:45:55.454Z"
   },
   {
    "duration": 18,
    "start_time": "2024-10-06T00:45:55.505Z"
   },
   {
    "duration": 6,
    "start_time": "2024-10-06T00:45:55.525Z"
   },
   {
    "duration": 259,
    "start_time": "2024-10-06T00:45:55.532Z"
   },
   {
    "duration": 498,
    "start_time": "2024-10-06T00:45:55.793Z"
   },
   {
    "duration": 13,
    "start_time": "2024-10-06T00:45:56.293Z"
   },
   {
    "duration": 8,
    "start_time": "2024-10-06T00:45:56.307Z"
   },
   {
    "duration": 5,
    "start_time": "2024-10-06T00:45:56.316Z"
   },
   {
    "duration": 7,
    "start_time": "2024-10-06T00:46:07.770Z"
   },
   {
    "duration": 5,
    "start_time": "2024-10-06T00:46:13.742Z"
   },
   {
    "duration": 5,
    "start_time": "2024-10-06T00:48:25.129Z"
   },
   {
    "duration": 723,
    "start_time": "2024-10-06T00:55:13.069Z"
   },
   {
    "duration": 29,
    "start_time": "2024-10-06T00:55:13.794Z"
   },
   {
    "duration": 21,
    "start_time": "2024-10-06T00:55:13.825Z"
   },
   {
    "duration": 4,
    "start_time": "2024-10-06T00:55:13.849Z"
   },
   {
    "duration": 10,
    "start_time": "2024-10-06T00:55:13.855Z"
   },
   {
    "duration": 10,
    "start_time": "2024-10-06T00:55:13.867Z"
   },
   {
    "duration": 36,
    "start_time": "2024-10-06T00:55:13.879Z"
   },
   {
    "duration": 12,
    "start_time": "2024-10-06T00:55:13.916Z"
   },
   {
    "duration": 3,
    "start_time": "2024-10-06T00:55:13.930Z"
   },
   {
    "duration": 5,
    "start_time": "2024-10-06T00:55:13.937Z"
   },
   {
    "duration": 15,
    "start_time": "2024-10-06T00:55:13.944Z"
   },
   {
    "duration": 46,
    "start_time": "2024-10-06T00:55:13.960Z"
   },
   {
    "duration": 17,
    "start_time": "2024-10-06T00:55:14.008Z"
   },
   {
    "duration": 5,
    "start_time": "2024-10-06T00:55:14.027Z"
   },
   {
    "duration": 266,
    "start_time": "2024-10-06T00:55:14.033Z"
   },
   {
    "duration": 478,
    "start_time": "2024-10-06T00:55:14.304Z"
   },
   {
    "duration": 6,
    "start_time": "2024-10-06T00:55:14.784Z"
   },
   {
    "duration": 0,
    "start_time": "2024-10-06T00:55:14.791Z"
   },
   {
    "duration": 0,
    "start_time": "2024-10-06T00:55:14.792Z"
   },
   {
    "duration": 14,
    "start_time": "2024-10-06T00:55:21.270Z"
   },
   {
    "duration": 3,
    "start_time": "2024-10-06T00:55:25.146Z"
   },
   {
    "duration": 214,
    "start_time": "2024-10-06T00:55:27.819Z"
   },
   {
    "duration": 5,
    "start_time": "2024-10-06T00:55:42.710Z"
   },
   {
    "duration": 21,
    "start_time": "2024-10-06T00:57:00.900Z"
   },
   {
    "duration": 10,
    "start_time": "2024-10-06T00:57:05.703Z"
   },
   {
    "duration": 3,
    "start_time": "2024-10-06T00:57:07.753Z"
   },
   {
    "duration": 4,
    "start_time": "2024-10-06T00:57:09.852Z"
   },
   {
    "duration": 16,
    "start_time": "2024-10-06T00:58:22.219Z"
   },
   {
    "duration": 31,
    "start_time": "2024-10-06T00:59:15.797Z"
   },
   {
    "duration": 13,
    "start_time": "2024-10-06T00:59:46.590Z"
   },
   {
    "duration": 19,
    "start_time": "2024-10-06T00:59:53.737Z"
   },
   {
    "duration": 19,
    "start_time": "2024-10-06T01:01:26.463Z"
   },
   {
    "duration": 4,
    "start_time": "2024-10-06T01:01:54.802Z"
   },
   {
    "duration": 3,
    "start_time": "2024-10-06T01:01:56.795Z"
   },
   {
    "duration": 13,
    "start_time": "2024-10-06T01:04:03.980Z"
   },
   {
    "duration": 161,
    "start_time": "2024-10-06T01:07:21.201Z"
   },
   {
    "duration": 14,
    "start_time": "2024-10-06T01:08:26.733Z"
   },
   {
    "duration": 20,
    "start_time": "2024-10-06T01:08:35.622Z"
   },
   {
    "duration": 27,
    "start_time": "2024-10-06T01:09:18.505Z"
   },
   {
    "duration": 20,
    "start_time": "2024-10-06T01:10:01.659Z"
   },
   {
    "duration": 42,
    "start_time": "2024-10-06T01:14:09.973Z"
   },
   {
    "duration": 44,
    "start_time": "2024-10-06T01:15:32.901Z"
   },
   {
    "duration": 14,
    "start_time": "2024-10-06T01:16:28.327Z"
   },
   {
    "duration": 14,
    "start_time": "2024-10-06T01:17:12.370Z"
   },
   {
    "duration": 16,
    "start_time": "2024-10-06T01:17:21.289Z"
   },
   {
    "duration": 17,
    "start_time": "2024-10-06T01:17:47.391Z"
   },
   {
    "duration": 17,
    "start_time": "2024-10-06T01:19:38.634Z"
   },
   {
    "duration": 18,
    "start_time": "2024-10-06T01:19:59.419Z"
   },
   {
    "duration": 317,
    "start_time": "2024-10-06T01:23:14.905Z"
   },
   {
    "duration": 443,
    "start_time": "2024-10-06T01:23:24.019Z"
   },
   {
    "duration": 697,
    "start_time": "2024-10-06T01:26:15.089Z"
   },
   {
    "duration": 29,
    "start_time": "2024-10-06T01:26:15.789Z"
   },
   {
    "duration": 18,
    "start_time": "2024-10-06T01:26:15.820Z"
   },
   {
    "duration": 4,
    "start_time": "2024-10-06T01:26:15.840Z"
   },
   {
    "duration": 11,
    "start_time": "2024-10-06T01:26:15.846Z"
   },
   {
    "duration": 11,
    "start_time": "2024-10-06T01:26:15.858Z"
   },
   {
    "duration": 39,
    "start_time": "2024-10-06T01:26:15.871Z"
   },
   {
    "duration": 13,
    "start_time": "2024-10-06T01:26:15.912Z"
   },
   {
    "duration": 4,
    "start_time": "2024-10-06T01:26:15.926Z"
   },
   {
    "duration": 6,
    "start_time": "2024-10-06T01:26:15.932Z"
   },
   {
    "duration": 15,
    "start_time": "2024-10-06T01:26:15.939Z"
   },
   {
    "duration": 49,
    "start_time": "2024-10-06T01:26:15.957Z"
   },
   {
    "duration": 19,
    "start_time": "2024-10-06T01:26:16.007Z"
   },
   {
    "duration": 6,
    "start_time": "2024-10-06T01:26:16.027Z"
   },
   {
    "duration": 266,
    "start_time": "2024-10-06T01:26:16.034Z"
   },
   {
    "duration": 834,
    "start_time": "2024-10-06T01:26:16.301Z"
   },
   {
    "duration": 18,
    "start_time": "2024-10-06T01:26:17.137Z"
   },
   {
    "duration": 3,
    "start_time": "2024-10-06T01:26:17.157Z"
   },
   {
    "duration": 5,
    "start_time": "2024-10-06T01:26:17.161Z"
   },
   {
    "duration": 740,
    "start_time": "2024-10-06T01:26:33.276Z"
   },
   {
    "duration": 23,
    "start_time": "2024-10-06T01:26:34.018Z"
   },
   {
    "duration": 74,
    "start_time": "2024-10-06T01:26:34.042Z"
   },
   {
    "duration": 4,
    "start_time": "2024-10-06T01:26:34.120Z"
   },
   {
    "duration": 11,
    "start_time": "2024-10-06T01:26:34.126Z"
   },
   {
    "duration": 12,
    "start_time": "2024-10-06T01:26:34.139Z"
   },
   {
    "duration": 61,
    "start_time": "2024-10-06T01:26:34.155Z"
   },
   {
    "duration": 12,
    "start_time": "2024-10-06T01:26:34.218Z"
   },
   {
    "duration": 4,
    "start_time": "2024-10-06T01:26:34.232Z"
   },
   {
    "duration": 6,
    "start_time": "2024-10-06T01:26:34.238Z"
   },
   {
    "duration": 73,
    "start_time": "2024-10-06T01:26:34.245Z"
   },
   {
    "duration": 21,
    "start_time": "2024-10-06T01:26:34.320Z"
   },
   {
    "duration": 71,
    "start_time": "2024-10-06T01:26:34.342Z"
   },
   {
    "duration": 6,
    "start_time": "2024-10-06T01:26:34.414Z"
   },
   {
    "duration": 488,
    "start_time": "2024-10-06T01:26:34.421Z"
   },
   {
    "duration": 482,
    "start_time": "2024-10-06T01:26:34.911Z"
   },
   {
    "duration": 23,
    "start_time": "2024-10-06T01:26:35.396Z"
   },
   {
    "duration": 3,
    "start_time": "2024-10-06T01:26:35.421Z"
   },
   {
    "duration": 4,
    "start_time": "2024-10-06T01:26:35.426Z"
   },
   {
    "duration": 762,
    "start_time": "2024-10-06T01:26:48.932Z"
   },
   {
    "duration": 28,
    "start_time": "2024-10-06T01:26:49.696Z"
   },
   {
    "duration": 17,
    "start_time": "2024-10-06T01:26:49.726Z"
   },
   {
    "duration": 4,
    "start_time": "2024-10-06T01:26:49.746Z"
   },
   {
    "duration": 11,
    "start_time": "2024-10-06T01:26:49.751Z"
   },
   {
    "duration": 11,
    "start_time": "2024-10-06T01:26:49.763Z"
   },
   {
    "duration": 39,
    "start_time": "2024-10-06T01:26:49.775Z"
   },
   {
    "duration": 14,
    "start_time": "2024-10-06T01:26:49.815Z"
   },
   {
    "duration": 4,
    "start_time": "2024-10-06T01:26:49.830Z"
   },
   {
    "duration": 5,
    "start_time": "2024-10-06T01:26:49.837Z"
   },
   {
    "duration": 15,
    "start_time": "2024-10-06T01:26:49.843Z"
   },
   {
    "duration": 46,
    "start_time": "2024-10-06T01:26:49.860Z"
   },
   {
    "duration": 18,
    "start_time": "2024-10-06T01:26:49.907Z"
   },
   {
    "duration": 6,
    "start_time": "2024-10-06T01:26:49.927Z"
   },
   {
    "duration": 256,
    "start_time": "2024-10-06T01:26:49.936Z"
   },
   {
    "duration": 513,
    "start_time": "2024-10-06T01:26:50.195Z"
   },
   {
    "duration": 26,
    "start_time": "2024-10-06T01:26:50.712Z"
   },
   {
    "duration": 3,
    "start_time": "2024-10-06T01:26:50.740Z"
   },
   {
    "duration": 3,
    "start_time": "2024-10-06T01:26:50.745Z"
   },
   {
    "duration": 18,
    "start_time": "2024-10-06T01:32:32.266Z"
   },
   {
    "duration": 3,
    "start_time": "2024-10-06T01:48:52.341Z"
   },
   {
    "duration": 18,
    "start_time": "2024-10-06T01:54:02.183Z"
   },
   {
    "duration": 23,
    "start_time": "2024-10-06T01:54:24.659Z"
   },
   {
    "duration": 2681,
    "start_time": "2024-10-06T03:08:48.137Z"
   },
   {
    "duration": 41,
    "start_time": "2024-10-06T03:08:50.821Z"
   },
   {
    "duration": 19,
    "start_time": "2024-10-06T03:08:50.865Z"
   },
   {
    "duration": 5,
    "start_time": "2024-10-06T03:08:50.886Z"
   },
   {
    "duration": 11,
    "start_time": "2024-10-06T03:08:50.893Z"
   },
   {
    "duration": 27,
    "start_time": "2024-10-06T03:08:50.906Z"
   },
   {
    "duration": 13,
    "start_time": "2024-10-06T03:08:50.935Z"
   },
   {
    "duration": 13,
    "start_time": "2024-10-06T03:08:50.949Z"
   },
   {
    "duration": 4,
    "start_time": "2024-10-06T03:08:50.963Z"
   },
   {
    "duration": 6,
    "start_time": "2024-10-06T03:08:50.969Z"
   },
   {
    "duration": 16,
    "start_time": "2024-10-06T03:08:50.977Z"
   },
   {
    "duration": 52,
    "start_time": "2024-10-06T03:08:50.994Z"
   },
   {
    "duration": 18,
    "start_time": "2024-10-06T03:08:51.049Z"
   },
   {
    "duration": 5,
    "start_time": "2024-10-06T03:08:51.069Z"
   },
   {
    "duration": 283,
    "start_time": "2024-10-06T03:08:51.076Z"
   },
   {
    "duration": 457,
    "start_time": "2024-10-06T03:08:51.361Z"
   },
   {
    "duration": 94,
    "start_time": "2024-10-06T03:08:51.820Z"
   },
   {
    "duration": 15,
    "start_time": "2024-10-06T03:08:51.917Z"
   },
   {
    "duration": 3,
    "start_time": "2024-10-06T03:08:51.935Z"
   },
   {
    "duration": 24,
    "start_time": "2024-10-06T03:08:51.940Z"
   },
   {
    "duration": 6,
    "start_time": "2024-10-06T03:11:01.003Z"
   },
   {
    "duration": 7,
    "start_time": "2024-10-06T03:11:33.865Z"
   },
   {
    "duration": 7,
    "start_time": "2024-10-06T03:11:42.224Z"
   },
   {
    "duration": 8,
    "start_time": "2024-10-06T03:13:51.981Z"
   },
   {
    "duration": 788,
    "start_time": "2024-10-06T03:14:17.571Z"
   },
   {
    "duration": 25,
    "start_time": "2024-10-06T03:14:18.362Z"
   },
   {
    "duration": 18,
    "start_time": "2024-10-06T03:14:18.388Z"
   },
   {
    "duration": 4,
    "start_time": "2024-10-06T03:14:18.409Z"
   },
   {
    "duration": 14,
    "start_time": "2024-10-06T03:14:18.434Z"
   },
   {
    "duration": 12,
    "start_time": "2024-10-06T03:14:18.450Z"
   },
   {
    "duration": 12,
    "start_time": "2024-10-06T03:14:18.464Z"
   },
   {
    "duration": 13,
    "start_time": "2024-10-06T03:14:18.478Z"
   },
   {
    "duration": 4,
    "start_time": "2024-10-06T03:14:18.493Z"
   },
   {
    "duration": 6,
    "start_time": "2024-10-06T03:14:18.535Z"
   },
   {
    "duration": 17,
    "start_time": "2024-10-06T03:14:18.542Z"
   },
   {
    "duration": 16,
    "start_time": "2024-10-06T03:14:18.561Z"
   },
   {
    "duration": 18,
    "start_time": "2024-10-06T03:14:18.579Z"
   },
   {
    "duration": 38,
    "start_time": "2024-10-06T03:14:18.599Z"
   },
   {
    "duration": 270,
    "start_time": "2024-10-06T03:14:18.639Z"
   },
   {
    "duration": 523,
    "start_time": "2024-10-06T03:14:18.912Z"
   },
   {
    "duration": 21,
    "start_time": "2024-10-06T03:14:19.437Z"
   },
   {
    "duration": 3,
    "start_time": "2024-10-06T03:14:19.460Z"
   },
   {
    "duration": 6,
    "start_time": "2024-10-06T03:14:19.465Z"
   },
   {
    "duration": 27,
    "start_time": "2024-10-06T03:14:19.472Z"
   },
   {
    "duration": 37,
    "start_time": "2024-10-06T03:14:19.501Z"
   },
   {
    "duration": 2,
    "start_time": "2024-10-06T03:14:19.540Z"
   },
   {
    "duration": 824,
    "start_time": "2024-10-06T03:14:52.935Z"
   },
   {
    "duration": 25,
    "start_time": "2024-10-06T03:14:53.761Z"
   },
   {
    "duration": 18,
    "start_time": "2024-10-06T03:14:53.787Z"
   },
   {
    "duration": 4,
    "start_time": "2024-10-06T03:14:53.807Z"
   },
   {
    "duration": 12,
    "start_time": "2024-10-06T03:14:53.831Z"
   },
   {
    "duration": 11,
    "start_time": "2024-10-06T03:14:53.845Z"
   },
   {
    "duration": 12,
    "start_time": "2024-10-06T03:14:53.859Z"
   },
   {
    "duration": 13,
    "start_time": "2024-10-06T03:14:53.873Z"
   },
   {
    "duration": 4,
    "start_time": "2024-10-06T03:14:53.888Z"
   },
   {
    "duration": 37,
    "start_time": "2024-10-06T03:14:53.895Z"
   },
   {
    "duration": 17,
    "start_time": "2024-10-06T03:14:53.935Z"
   },
   {
    "duration": 15,
    "start_time": "2024-10-06T03:14:53.955Z"
   },
   {
    "duration": 20,
    "start_time": "2024-10-06T03:14:53.972Z"
   },
   {
    "duration": 42,
    "start_time": "2024-10-06T03:14:53.994Z"
   },
   {
    "duration": 259,
    "start_time": "2024-10-06T03:14:54.038Z"
   },
   {
    "duration": 512,
    "start_time": "2024-10-06T03:14:54.299Z"
   },
   {
    "duration": 31,
    "start_time": "2024-10-06T03:14:54.813Z"
   },
   {
    "duration": 3,
    "start_time": "2024-10-06T03:14:54.846Z"
   },
   {
    "duration": 4,
    "start_time": "2024-10-06T03:14:54.851Z"
   },
   {
    "duration": 19,
    "start_time": "2024-10-06T03:14:54.857Z"
   },
   {
    "duration": 6,
    "start_time": "2024-10-06T03:14:54.878Z"
   },
   {
    "duration": 3,
    "start_time": "2024-10-06T03:14:54.885Z"
   },
   {
    "duration": 801,
    "start_time": "2024-10-06T03:15:14.451Z"
   },
   {
    "duration": 25,
    "start_time": "2024-10-06T03:15:15.254Z"
   },
   {
    "duration": 17,
    "start_time": "2024-10-06T03:15:15.281Z"
   },
   {
    "duration": 4,
    "start_time": "2024-10-06T03:15:15.301Z"
   },
   {
    "duration": 33,
    "start_time": "2024-10-06T03:15:15.307Z"
   },
   {
    "duration": 12,
    "start_time": "2024-10-06T03:15:15.342Z"
   },
   {
    "duration": 12,
    "start_time": "2024-10-06T03:15:15.355Z"
   },
   {
    "duration": 13,
    "start_time": "2024-10-06T03:15:15.369Z"
   },
   {
    "duration": 4,
    "start_time": "2024-10-06T03:15:15.384Z"
   },
   {
    "duration": 43,
    "start_time": "2024-10-06T03:15:15.392Z"
   },
   {
    "duration": 17,
    "start_time": "2024-10-06T03:15:15.437Z"
   },
   {
    "duration": 15,
    "start_time": "2024-10-06T03:15:15.456Z"
   },
   {
    "duration": 22,
    "start_time": "2024-10-06T03:15:15.473Z"
   },
   {
    "duration": 34,
    "start_time": "2024-10-06T03:15:15.497Z"
   },
   {
    "duration": 255,
    "start_time": "2024-10-06T03:15:15.533Z"
   },
   {
    "duration": 527,
    "start_time": "2024-10-06T03:15:15.791Z"
   },
   {
    "duration": 23,
    "start_time": "2024-10-06T03:15:16.320Z"
   },
   {
    "duration": 3,
    "start_time": "2024-10-06T03:15:16.345Z"
   },
   {
    "duration": 4,
    "start_time": "2024-10-06T03:15:16.350Z"
   },
   {
    "duration": 20,
    "start_time": "2024-10-06T03:15:16.356Z"
   },
   {
    "duration": 7,
    "start_time": "2024-10-06T03:15:16.379Z"
   },
   {
    "duration": 4,
    "start_time": "2024-10-06T03:15:16.388Z"
   },
   {
    "duration": 767,
    "start_time": "2024-10-06T03:15:32.897Z"
   },
   {
    "duration": 25,
    "start_time": "2024-10-06T03:15:33.666Z"
   },
   {
    "duration": 19,
    "start_time": "2024-10-06T03:15:33.693Z"
   },
   {
    "duration": 21,
    "start_time": "2024-10-06T03:15:33.714Z"
   },
   {
    "duration": 11,
    "start_time": "2024-10-06T03:15:33.739Z"
   },
   {
    "duration": 12,
    "start_time": "2024-10-06T03:15:33.752Z"
   },
   {
    "duration": 13,
    "start_time": "2024-10-06T03:15:33.765Z"
   },
   {
    "duration": 13,
    "start_time": "2024-10-06T03:15:33.780Z"
   },
   {
    "duration": 40,
    "start_time": "2024-10-06T03:15:33.794Z"
   },
   {
    "duration": 7,
    "start_time": "2024-10-06T03:15:33.835Z"
   },
   {
    "duration": 16,
    "start_time": "2024-10-06T03:15:33.844Z"
   },
   {
    "duration": 16,
    "start_time": "2024-10-06T03:15:33.862Z"
   },
   {
    "duration": 52,
    "start_time": "2024-10-06T03:15:33.880Z"
   },
   {
    "duration": 7,
    "start_time": "2024-10-06T03:15:33.935Z"
   },
   {
    "duration": 277,
    "start_time": "2024-10-06T03:15:33.944Z"
   },
   {
    "duration": 512,
    "start_time": "2024-10-06T03:15:34.223Z"
   },
   {
    "duration": 18,
    "start_time": "2024-10-06T03:15:34.736Z"
   },
   {
    "duration": 3,
    "start_time": "2024-10-06T03:15:34.756Z"
   },
   {
    "duration": 4,
    "start_time": "2024-10-06T03:15:34.761Z"
   },
   {
    "duration": 19,
    "start_time": "2024-10-06T03:15:34.767Z"
   },
   {
    "duration": 6,
    "start_time": "2024-10-06T03:15:34.788Z"
   },
   {
    "duration": 37,
    "start_time": "2024-10-06T03:15:34.795Z"
   },
   {
    "duration": 10,
    "start_time": "2024-10-06T03:16:04.476Z"
   },
   {
    "duration": 195,
    "start_time": "2024-10-06T03:17:58.827Z"
   },
   {
    "duration": 331,
    "start_time": "2024-10-06T03:23:15.205Z"
   },
   {
    "duration": 197,
    "start_time": "2024-10-06T03:23:33.294Z"
   },
   {
    "duration": 9,
    "start_time": "2024-10-06T03:24:22.611Z"
   },
   {
    "duration": 9,
    "start_time": "2024-10-06T03:24:35.340Z"
   },
   {
    "duration": 9,
    "start_time": "2024-10-06T03:25:16.808Z"
   },
   {
    "duration": 288,
    "start_time": "2024-10-06T03:26:16.289Z"
   },
   {
    "duration": 2470,
    "start_time": "2024-10-06T20:57:11.268Z"
   },
   {
    "duration": 37,
    "start_time": "2024-10-06T20:57:13.740Z"
   },
   {
    "duration": 21,
    "start_time": "2024-10-06T20:57:13.779Z"
   },
   {
    "duration": 6,
    "start_time": "2024-10-06T20:57:13.803Z"
   },
   {
    "duration": 11,
    "start_time": "2024-10-06T20:57:13.812Z"
   },
   {
    "duration": 11,
    "start_time": "2024-10-06T20:57:13.825Z"
   },
   {
    "duration": 12,
    "start_time": "2024-10-06T20:57:13.837Z"
   },
   {
    "duration": 46,
    "start_time": "2024-10-06T20:57:13.850Z"
   },
   {
    "duration": 3,
    "start_time": "2024-10-06T20:57:13.898Z"
   },
   {
    "duration": 6,
    "start_time": "2024-10-06T20:57:13.904Z"
   },
   {
    "duration": 15,
    "start_time": "2024-10-06T20:57:13.912Z"
   },
   {
    "duration": 14,
    "start_time": "2024-10-06T20:57:13.929Z"
   },
   {
    "duration": 51,
    "start_time": "2024-10-06T20:57:13.944Z"
   },
   {
    "duration": 7,
    "start_time": "2024-10-06T20:57:13.997Z"
   },
   {
    "duration": 260,
    "start_time": "2024-10-06T20:57:14.005Z"
   },
   {
    "duration": 466,
    "start_time": "2024-10-06T20:57:14.267Z"
   },
   {
    "duration": 18,
    "start_time": "2024-10-06T20:57:14.735Z"
   },
   {
    "duration": 3,
    "start_time": "2024-10-06T20:57:14.755Z"
   },
   {
    "duration": 4,
    "start_time": "2024-10-06T20:57:14.760Z"
   },
   {
    "duration": 39,
    "start_time": "2024-10-06T20:57:14.765Z"
   },
   {
    "duration": 8,
    "start_time": "2024-10-06T20:57:14.806Z"
   },
   {
    "duration": 273,
    "start_time": "2024-10-06T20:57:14.816Z"
   },
   {
    "duration": 10,
    "start_time": "2024-10-06T20:57:15.090Z"
   },
   {
    "duration": 2,
    "start_time": "2024-10-06T20:57:15.101Z"
   },
   {
    "duration": 376,
    "start_time": "2024-10-06T20:58:11.836Z"
   },
   {
    "duration": 16,
    "start_time": "2024-10-06T20:58:26.866Z"
   },
   {
    "duration": 16,
    "start_time": "2024-10-06T20:58:36.223Z"
   },
   {
    "duration": 7,
    "start_time": "2024-10-06T20:59:41.135Z"
   },
   {
    "duration": 19,
    "start_time": "2024-10-06T21:01:56.091Z"
   },
   {
    "duration": 20,
    "start_time": "2024-10-06T21:02:09.463Z"
   },
   {
    "duration": 19,
    "start_time": "2024-10-06T21:02:59.677Z"
   },
   {
    "duration": 20,
    "start_time": "2024-10-06T21:03:07.678Z"
   },
   {
    "duration": 30,
    "start_time": "2024-10-06T21:05:18.112Z"
   },
   {
    "duration": 21,
    "start_time": "2024-10-06T21:05:27.792Z"
   },
   {
    "duration": 19,
    "start_time": "2024-10-06T21:07:32.800Z"
   },
   {
    "duration": 740,
    "start_time": "2024-10-06T21:07:55.043Z"
   },
   {
    "duration": 24,
    "start_time": "2024-10-06T21:07:55.786Z"
   },
   {
    "duration": 17,
    "start_time": "2024-10-06T21:07:55.812Z"
   },
   {
    "duration": 4,
    "start_time": "2024-10-06T21:07:55.831Z"
   },
   {
    "duration": 11,
    "start_time": "2024-10-06T21:07:55.837Z"
   },
   {
    "duration": 38,
    "start_time": "2024-10-06T21:07:55.849Z"
   },
   {
    "duration": 11,
    "start_time": "2024-10-06T21:07:55.889Z"
   },
   {
    "duration": 12,
    "start_time": "2024-10-06T21:07:55.902Z"
   },
   {
    "duration": 4,
    "start_time": "2024-10-06T21:07:55.916Z"
   },
   {
    "duration": 6,
    "start_time": "2024-10-06T21:07:55.921Z"
   },
   {
    "duration": 16,
    "start_time": "2024-10-06T21:07:55.929Z"
   },
   {
    "duration": 51,
    "start_time": "2024-10-06T21:07:55.947Z"
   },
   {
    "duration": 17,
    "start_time": "2024-10-06T21:07:56.000Z"
   },
   {
    "duration": 5,
    "start_time": "2024-10-06T21:07:56.021Z"
   },
   {
    "duration": 267,
    "start_time": "2024-10-06T21:07:56.027Z"
   },
   {
    "duration": 505,
    "start_time": "2024-10-06T21:07:56.296Z"
   },
   {
    "duration": 19,
    "start_time": "2024-10-06T21:07:56.803Z"
   },
   {
    "duration": 4,
    "start_time": "2024-10-06T21:07:56.823Z"
   },
   {
    "duration": 3,
    "start_time": "2024-10-06T21:07:56.829Z"
   },
   {
    "duration": 19,
    "start_time": "2024-10-06T21:07:56.833Z"
   },
   {
    "duration": 40,
    "start_time": "2024-10-06T21:07:56.853Z"
   },
   {
    "duration": 206,
    "start_time": "2024-10-06T21:07:56.895Z"
   },
   {
    "duration": 6,
    "start_time": "2024-10-06T21:07:57.103Z"
   },
   {
    "duration": 17,
    "start_time": "2024-10-06T21:07:57.111Z"
   },
   {
    "duration": 24,
    "start_time": "2024-10-06T21:08:13.376Z"
   },
   {
    "duration": 710,
    "start_time": "2024-10-06T21:08:29.769Z"
   },
   {
    "duration": 26,
    "start_time": "2024-10-06T21:08:30.481Z"
   },
   {
    "duration": 17,
    "start_time": "2024-10-06T21:08:30.509Z"
   },
   {
    "duration": 4,
    "start_time": "2024-10-06T21:08:30.528Z"
   },
   {
    "duration": 10,
    "start_time": "2024-10-06T21:08:30.535Z"
   },
   {
    "duration": 10,
    "start_time": "2024-10-06T21:08:30.547Z"
   },
   {
    "duration": 12,
    "start_time": "2024-10-06T21:08:30.586Z"
   },
   {
    "duration": 12,
    "start_time": "2024-10-06T21:08:30.600Z"
   },
   {
    "duration": 4,
    "start_time": "2024-10-06T21:08:30.614Z"
   },
   {
    "duration": 6,
    "start_time": "2024-10-06T21:08:30.619Z"
   },
   {
    "duration": 15,
    "start_time": "2024-10-06T21:08:30.626Z"
   },
   {
    "duration": 51,
    "start_time": "2024-10-06T21:08:30.642Z"
   },
   {
    "duration": 19,
    "start_time": "2024-10-06T21:08:30.695Z"
   },
   {
    "duration": 5,
    "start_time": "2024-10-06T21:08:30.718Z"
   },
   {
    "duration": 266,
    "start_time": "2024-10-06T21:08:30.725Z"
   },
   {
    "duration": 513,
    "start_time": "2024-10-06T21:08:30.993Z"
   },
   {
    "duration": 18,
    "start_time": "2024-10-06T21:08:31.508Z"
   },
   {
    "duration": 3,
    "start_time": "2024-10-06T21:08:31.528Z"
   },
   {
    "duration": 4,
    "start_time": "2024-10-06T21:08:31.533Z"
   },
   {
    "duration": 18,
    "start_time": "2024-10-06T21:08:31.539Z"
   },
   {
    "duration": 9,
    "start_time": "2024-10-06T21:08:31.587Z"
   },
   {
    "duration": 212,
    "start_time": "2024-10-06T21:08:31.597Z"
   },
   {
    "duration": 5,
    "start_time": "2024-10-06T21:08:31.811Z"
   },
   {
    "duration": 19,
    "start_time": "2024-10-06T21:08:31.818Z"
   },
   {
    "duration": 20,
    "start_time": "2024-10-06T21:08:47.223Z"
   },
   {
    "duration": 5,
    "start_time": "2024-10-06T21:09:09.495Z"
   },
   {
    "duration": 4,
    "start_time": "2024-10-06T21:09:13.878Z"
   },
   {
    "duration": 4,
    "start_time": "2024-10-06T21:09:19.713Z"
   },
   {
    "duration": 20,
    "start_time": "2024-10-06T21:09:30.259Z"
   },
   {
    "duration": 20,
    "start_time": "2024-10-06T21:12:20.009Z"
   },
   {
    "duration": 909,
    "start_time": "2024-10-06T21:13:28.044Z"
   },
   {
    "duration": 36,
    "start_time": "2024-10-06T21:13:38.332Z"
   },
   {
    "duration": 21,
    "start_time": "2024-10-06T21:13:52.494Z"
   },
   {
    "duration": 18,
    "start_time": "2024-10-06T21:13:58.162Z"
   },
   {
    "duration": 21,
    "start_time": "2024-10-06T21:16:46.747Z"
   },
   {
    "duration": 6,
    "start_time": "2024-10-06T21:17:40.282Z"
   },
   {
    "duration": 22,
    "start_time": "2024-10-06T21:18:28.375Z"
   },
   {
    "duration": 12,
    "start_time": "2024-10-06T21:19:15.208Z"
   },
   {
    "duration": 14,
    "start_time": "2024-10-06T21:19:30.146Z"
   },
   {
    "duration": 11,
    "start_time": "2024-10-06T21:19:40.300Z"
   },
   {
    "duration": 13,
    "start_time": "2024-10-06T21:23:32.063Z"
   },
   {
    "duration": 8,
    "start_time": "2024-10-06T21:24:24.757Z"
   },
   {
    "duration": 9,
    "start_time": "2024-10-06T21:24:38.545Z"
   },
   {
    "duration": 7,
    "start_time": "2024-10-06T21:25:03.584Z"
   },
   {
    "duration": 9,
    "start_time": "2024-10-06T21:25:21.481Z"
   },
   {
    "duration": 110,
    "start_time": "2024-10-06T21:26:06.693Z"
   },
   {
    "duration": 127,
    "start_time": "2024-10-06T21:26:15.511Z"
   },
   {
    "duration": 131,
    "start_time": "2024-10-06T21:26:27.325Z"
   },
   {
    "duration": 8,
    "start_time": "2024-10-06T21:26:48.217Z"
   },
   {
    "duration": 10,
    "start_time": "2024-10-06T21:26:56.563Z"
   },
   {
    "duration": 9,
    "start_time": "2024-10-06T21:34:07.881Z"
   },
   {
    "duration": 17,
    "start_time": "2024-10-06T21:35:07.473Z"
   },
   {
    "duration": 16,
    "start_time": "2024-10-06T21:35:22.302Z"
   },
   {
    "duration": 15,
    "start_time": "2024-10-06T21:35:27.930Z"
   },
   {
    "duration": 17,
    "start_time": "2024-10-06T21:35:32.879Z"
   },
   {
    "duration": 9,
    "start_time": "2024-10-06T21:35:45.675Z"
   },
   {
    "duration": 7,
    "start_time": "2024-10-06T21:35:53.624Z"
   },
   {
    "duration": 18,
    "start_time": "2024-10-06T21:41:00.936Z"
   },
   {
    "duration": 710,
    "start_time": "2024-10-06T21:41:08.474Z"
   },
   {
    "duration": 24,
    "start_time": "2024-10-06T21:41:09.187Z"
   },
   {
    "duration": 22,
    "start_time": "2024-10-06T21:41:09.213Z"
   },
   {
    "duration": 5,
    "start_time": "2024-10-06T21:41:09.238Z"
   },
   {
    "duration": 13,
    "start_time": "2024-10-06T21:41:09.245Z"
   },
   {
    "duration": 11,
    "start_time": "2024-10-06T21:41:09.286Z"
   },
   {
    "duration": 11,
    "start_time": "2024-10-06T21:41:09.298Z"
   },
   {
    "duration": 13,
    "start_time": "2024-10-06T21:41:09.311Z"
   },
   {
    "duration": 4,
    "start_time": "2024-10-06T21:41:09.325Z"
   },
   {
    "duration": 5,
    "start_time": "2024-10-06T21:41:09.333Z"
   },
   {
    "duration": 49,
    "start_time": "2024-10-06T21:41:09.340Z"
   },
   {
    "duration": 14,
    "start_time": "2024-10-06T21:41:09.391Z"
   },
   {
    "duration": 18,
    "start_time": "2024-10-06T21:41:09.407Z"
   },
   {
    "duration": 6,
    "start_time": "2024-10-06T21:41:09.427Z"
   },
   {
    "duration": 481,
    "start_time": "2024-10-06T21:41:09.434Z"
   },
   {
    "duration": 629,
    "start_time": "2024-10-06T21:41:09.917Z"
   },
   {
    "duration": 19,
    "start_time": "2024-10-06T21:41:10.547Z"
   },
   {
    "duration": 3,
    "start_time": "2024-10-06T21:41:10.567Z"
   },
   {
    "duration": 2,
    "start_time": "2024-10-06T21:41:10.587Z"
   },
   {
    "duration": 17,
    "start_time": "2024-10-06T21:41:10.591Z"
   },
   {
    "duration": 8,
    "start_time": "2024-10-06T21:41:10.610Z"
   },
   {
    "duration": 219,
    "start_time": "2024-10-06T21:41:10.620Z"
   },
   {
    "duration": 6,
    "start_time": "2024-10-06T21:41:10.842Z"
   },
   {
    "duration": 12,
    "start_time": "2024-10-06T21:41:10.850Z"
   },
   {
    "duration": 2,
    "start_time": "2024-10-06T21:41:10.864Z"
   },
   {
    "duration": 6,
    "start_time": "2024-10-06T21:41:10.887Z"
   },
   {
    "duration": 9,
    "start_time": "2024-10-06T21:41:10.894Z"
   },
   {
    "duration": 4,
    "start_time": "2024-10-06T21:41:10.906Z"
   },
   {
    "duration": 20,
    "start_time": "2024-10-06T21:41:32.757Z"
   },
   {
    "duration": 11,
    "start_time": "2024-10-06T21:41:45.794Z"
   },
   {
    "duration": 2,
    "start_time": "2024-10-06T21:43:00.533Z"
   },
   {
    "duration": 159,
    "start_time": "2024-10-06T23:45:03.760Z"
   },
   {
    "duration": 2664,
    "start_time": "2024-10-06T23:45:26.489Z"
   },
   {
    "duration": 43,
    "start_time": "2024-10-06T23:45:29.156Z"
   },
   {
    "duration": 19,
    "start_time": "2024-10-06T23:45:29.201Z"
   },
   {
    "duration": 4,
    "start_time": "2024-10-06T23:45:29.222Z"
   },
   {
    "duration": 13,
    "start_time": "2024-10-06T23:45:29.233Z"
   },
   {
    "duration": 13,
    "start_time": "2024-10-06T23:45:29.247Z"
   },
   {
    "duration": 12,
    "start_time": "2024-10-06T23:45:29.262Z"
   },
   {
    "duration": 13,
    "start_time": "2024-10-06T23:45:29.277Z"
   },
   {
    "duration": 43,
    "start_time": "2024-10-06T23:45:29.292Z"
   },
   {
    "duration": 7,
    "start_time": "2024-10-06T23:45:29.337Z"
   },
   {
    "duration": 16,
    "start_time": "2024-10-06T23:45:29.346Z"
   },
   {
    "duration": 22,
    "start_time": "2024-10-06T23:45:29.365Z"
   },
   {
    "duration": 53,
    "start_time": "2024-10-06T23:45:29.389Z"
   },
   {
    "duration": 8,
    "start_time": "2024-10-06T23:45:29.447Z"
   },
   {
    "duration": 283,
    "start_time": "2024-10-06T23:45:29.457Z"
   },
   {
    "duration": 580,
    "start_time": "2024-10-06T23:45:29.742Z"
   },
   {
    "duration": 26,
    "start_time": "2024-10-06T23:45:30.325Z"
   },
   {
    "duration": 4,
    "start_time": "2024-10-06T23:45:30.353Z"
   },
   {
    "duration": 4,
    "start_time": "2024-10-06T23:45:30.359Z"
   },
   {
    "duration": 30,
    "start_time": "2024-10-06T23:45:30.365Z"
   },
   {
    "duration": 35,
    "start_time": "2024-10-06T23:45:30.397Z"
   },
   {
    "duration": 218,
    "start_time": "2024-10-06T23:45:30.434Z"
   },
   {
    "duration": 6,
    "start_time": "2024-10-06T23:45:30.654Z"
   },
   {
    "duration": 10,
    "start_time": "2024-10-06T23:45:30.662Z"
   },
   {
    "duration": 2,
    "start_time": "2024-10-06T23:45:30.674Z"
   },
   {
    "duration": 8,
    "start_time": "2024-10-06T23:45:30.678Z"
   },
   {
    "duration": 10,
    "start_time": "2024-10-06T23:45:30.688Z"
   },
   {
    "duration": 18,
    "start_time": "2024-10-06T23:45:30.731Z"
   },
   {
    "duration": 2,
    "start_time": "2024-10-06T23:45:30.752Z"
   },
   {
    "duration": 17,
    "start_time": "2024-10-06T23:46:32.024Z"
   },
   {
    "duration": 16,
    "start_time": "2024-10-06T23:47:10.607Z"
   },
   {
    "duration": 16,
    "start_time": "2024-10-06T23:47:39.172Z"
   },
   {
    "duration": 6,
    "start_time": "2024-10-06T23:47:46.213Z"
   },
   {
    "duration": 7,
    "start_time": "2024-10-06T23:51:11.510Z"
   },
   {
    "duration": 7,
    "start_time": "2024-10-06T23:51:25.078Z"
   },
   {
    "duration": 8,
    "start_time": "2024-10-06T23:51:31.540Z"
   },
   {
    "duration": 10,
    "start_time": "2024-10-06T23:52:31.417Z"
   },
   {
    "duration": 9,
    "start_time": "2024-10-06T23:52:45.806Z"
   },
   {
    "duration": 7,
    "start_time": "2024-10-06T23:53:30.486Z"
   },
   {
    "duration": 12,
    "start_time": "2024-10-06T23:53:44.939Z"
   },
   {
    "duration": 10,
    "start_time": "2024-10-06T23:54:27.109Z"
   },
   {
    "duration": 13,
    "start_time": "2024-10-06T23:56:37.774Z"
   },
   {
    "duration": 10,
    "start_time": "2024-10-06T23:56:48.929Z"
   },
   {
    "duration": 2520,
    "start_time": "2024-10-09T14:27:29.518Z"
   },
   {
    "duration": 40,
    "start_time": "2024-10-09T14:27:32.040Z"
   },
   {
    "duration": 21,
    "start_time": "2024-10-09T14:27:32.081Z"
   },
   {
    "duration": 4,
    "start_time": "2024-10-09T14:27:32.108Z"
   },
   {
    "duration": 12,
    "start_time": "2024-10-09T14:27:32.114Z"
   },
   {
    "duration": 14,
    "start_time": "2024-10-09T14:27:32.127Z"
   },
   {
    "duration": 14,
    "start_time": "2024-10-09T14:27:32.142Z"
   },
   {
    "duration": 16,
    "start_time": "2024-10-09T14:27:32.158Z"
   },
   {
    "duration": 37,
    "start_time": "2024-10-09T14:27:32.175Z"
   },
   {
    "duration": 7,
    "start_time": "2024-10-09T14:27:32.216Z"
   },
   {
    "duration": 21,
    "start_time": "2024-10-09T14:27:32.225Z"
   },
   {
    "duration": 21,
    "start_time": "2024-10-09T14:27:32.248Z"
   },
   {
    "duration": 49,
    "start_time": "2024-10-09T14:27:32.271Z"
   },
   {
    "duration": 6,
    "start_time": "2024-10-09T14:27:32.322Z"
   },
   {
    "duration": 267,
    "start_time": "2024-10-09T14:27:32.330Z"
   },
   {
    "duration": 461,
    "start_time": "2024-10-09T14:27:32.599Z"
   },
   {
    "duration": 19,
    "start_time": "2024-10-09T14:27:33.062Z"
   },
   {
    "duration": 3,
    "start_time": "2024-10-09T14:27:33.083Z"
   },
   {
    "duration": 21,
    "start_time": "2024-10-09T14:27:33.088Z"
   },
   {
    "duration": 17,
    "start_time": "2024-10-09T14:27:33.110Z"
   },
   {
    "duration": 8,
    "start_time": "2024-10-09T14:27:33.129Z"
   },
   {
    "duration": 292,
    "start_time": "2024-10-09T14:27:33.139Z"
   },
   {
    "duration": 7,
    "start_time": "2024-10-09T14:27:33.433Z"
   },
   {
    "duration": 11,
    "start_time": "2024-10-09T14:27:33.443Z"
   },
   {
    "duration": 2,
    "start_time": "2024-10-09T14:27:33.456Z"
   },
   {
    "duration": 7,
    "start_time": "2024-10-09T14:27:33.459Z"
   },
   {
    "duration": 8,
    "start_time": "2024-10-09T14:27:33.468Z"
   },
   {
    "duration": 17,
    "start_time": "2024-10-09T14:27:33.510Z"
   },
   {
    "duration": 5,
    "start_time": "2024-10-09T14:27:33.530Z"
   },
   {
    "duration": 10,
    "start_time": "2024-10-09T14:27:33.538Z"
   },
   {
    "duration": 8,
    "start_time": "2024-10-09T14:27:33.550Z"
   },
   {
    "duration": 13,
    "start_time": "2024-10-09T14:36:00.070Z"
   },
   {
    "duration": 867,
    "start_time": "2024-10-09T14:36:10.427Z"
   },
   {
    "duration": 30,
    "start_time": "2024-10-09T14:36:11.296Z"
   },
   {
    "duration": 19,
    "start_time": "2024-10-09T14:36:11.328Z"
   },
   {
    "duration": 4,
    "start_time": "2024-10-09T14:36:11.350Z"
   },
   {
    "duration": 19,
    "start_time": "2024-10-09T14:36:11.356Z"
   },
   {
    "duration": 37,
    "start_time": "2024-10-09T14:36:11.376Z"
   },
   {
    "duration": 12,
    "start_time": "2024-10-09T14:36:11.415Z"
   },
   {
    "duration": 16,
    "start_time": "2024-10-09T14:36:11.429Z"
   },
   {
    "duration": 5,
    "start_time": "2024-10-09T14:36:11.447Z"
   },
   {
    "duration": 5,
    "start_time": "2024-10-09T14:36:11.456Z"
   },
   {
    "duration": 50,
    "start_time": "2024-10-09T14:36:11.464Z"
   },
   {
    "duration": 16,
    "start_time": "2024-10-09T14:36:11.517Z"
   },
   {
    "duration": 21,
    "start_time": "2024-10-09T14:36:11.535Z"
   },
   {
    "duration": 5,
    "start_time": "2024-10-09T14:36:11.558Z"
   },
   {
    "duration": 282,
    "start_time": "2024-10-09T14:36:11.566Z"
   },
   {
    "duration": 532,
    "start_time": "2024-10-09T14:36:11.850Z"
   },
   {
    "duration": 27,
    "start_time": "2024-10-09T14:36:12.384Z"
   },
   {
    "duration": 4,
    "start_time": "2024-10-09T14:36:12.414Z"
   },
   {
    "duration": 4,
    "start_time": "2024-10-09T14:36:12.420Z"
   },
   {
    "duration": 21,
    "start_time": "2024-10-09T14:36:12.425Z"
   },
   {
    "duration": 8,
    "start_time": "2024-10-09T14:36:12.447Z"
   },
   {
    "duration": 225,
    "start_time": "2024-10-09T14:36:12.457Z"
   },
   {
    "duration": 6,
    "start_time": "2024-10-09T14:36:12.684Z"
   },
   {
    "duration": 25,
    "start_time": "2024-10-09T14:36:12.692Z"
   },
   {
    "duration": 3,
    "start_time": "2024-10-09T14:36:12.718Z"
   },
   {
    "duration": 7,
    "start_time": "2024-10-09T14:36:12.722Z"
   },
   {
    "duration": 9,
    "start_time": "2024-10-09T14:36:12.731Z"
   },
   {
    "duration": 66,
    "start_time": "2024-10-09T14:36:12.744Z"
   },
   {
    "duration": 6,
    "start_time": "2024-10-09T14:36:12.812Z"
   },
   {
    "duration": 15,
    "start_time": "2024-10-09T14:36:12.820Z"
   },
   {
    "duration": 10,
    "start_time": "2024-10-09T14:36:12.836Z"
   },
   {
    "duration": 11,
    "start_time": "2024-10-09T14:42:00.991Z"
   },
   {
    "duration": 785,
    "start_time": "2024-10-09T14:42:49.899Z"
   },
   {
    "duration": 28,
    "start_time": "2024-10-09T14:42:50.686Z"
   },
   {
    "duration": 20,
    "start_time": "2024-10-09T14:42:50.716Z"
   },
   {
    "duration": 5,
    "start_time": "2024-10-09T14:42:50.737Z"
   },
   {
    "duration": 15,
    "start_time": "2024-10-09T14:42:50.744Z"
   },
   {
    "duration": 12,
    "start_time": "2024-10-09T14:42:50.761Z"
   },
   {
    "duration": 49,
    "start_time": "2024-10-09T14:42:50.774Z"
   },
   {
    "duration": 15,
    "start_time": "2024-10-09T14:42:50.824Z"
   },
   {
    "duration": 4,
    "start_time": "2024-10-09T14:42:50.841Z"
   },
   {
    "duration": 9,
    "start_time": "2024-10-09T14:42:50.848Z"
   },
   {
    "duration": 69,
    "start_time": "2024-10-09T14:42:50.859Z"
   },
   {
    "duration": 18,
    "start_time": "2024-10-09T14:42:50.930Z"
   },
   {
    "duration": 72,
    "start_time": "2024-10-09T14:42:50.950Z"
   },
   {
    "duration": 7,
    "start_time": "2024-10-09T14:42:51.025Z"
   },
   {
    "duration": 580,
    "start_time": "2024-10-09T14:42:51.034Z"
   },
   {
    "duration": 519,
    "start_time": "2024-10-09T14:42:51.615Z"
   },
   {
    "duration": 17,
    "start_time": "2024-10-09T14:42:52.136Z"
   },
   {
    "duration": 3,
    "start_time": "2024-10-09T14:42:52.155Z"
   },
   {
    "duration": 4,
    "start_time": "2024-10-09T14:42:52.160Z"
   },
   {
    "duration": 47,
    "start_time": "2024-10-09T14:42:52.165Z"
   },
   {
    "duration": 10,
    "start_time": "2024-10-09T14:42:52.214Z"
   },
   {
    "duration": 287,
    "start_time": "2024-10-09T14:42:52.226Z"
   },
   {
    "duration": 6,
    "start_time": "2024-10-09T14:42:52.515Z"
   },
   {
    "duration": 12,
    "start_time": "2024-10-09T14:42:52.523Z"
   },
   {
    "duration": 3,
    "start_time": "2024-10-09T14:42:52.538Z"
   },
   {
    "duration": 7,
    "start_time": "2024-10-09T14:42:52.542Z"
   },
   {
    "duration": 10,
    "start_time": "2024-10-09T14:42:52.550Z"
   },
   {
    "duration": 52,
    "start_time": "2024-10-09T14:42:52.562Z"
   },
   {
    "duration": 5,
    "start_time": "2024-10-09T14:42:52.617Z"
   },
   {
    "duration": 9,
    "start_time": "2024-10-09T14:42:52.623Z"
   },
   {
    "duration": 8,
    "start_time": "2024-10-09T14:42:52.634Z"
   },
   {
    "duration": 239,
    "start_time": "2024-10-09T14:44:37.709Z"
   },
   {
    "duration": 13,
    "start_time": "2024-10-09T14:44:44.125Z"
   },
   {
    "duration": 718,
    "start_time": "2024-10-09T14:45:01.193Z"
   },
   {
    "duration": 33,
    "start_time": "2024-10-09T14:45:01.913Z"
   },
   {
    "duration": 20,
    "start_time": "2024-10-09T14:45:01.948Z"
   },
   {
    "duration": 5,
    "start_time": "2024-10-09T14:45:01.971Z"
   },
   {
    "duration": 37,
    "start_time": "2024-10-09T14:45:01.978Z"
   },
   {
    "duration": 12,
    "start_time": "2024-10-09T14:45:02.016Z"
   },
   {
    "duration": 12,
    "start_time": "2024-10-09T14:45:02.030Z"
   },
   {
    "duration": 16,
    "start_time": "2024-10-09T14:45:02.044Z"
   },
   {
    "duration": 4,
    "start_time": "2024-10-09T14:45:02.062Z"
   },
   {
    "duration": 6,
    "start_time": "2024-10-09T14:45:02.070Z"
   },
   {
    "duration": 17,
    "start_time": "2024-10-09T14:45:02.109Z"
   },
   {
    "duration": 19,
    "start_time": "2024-10-09T14:45:02.127Z"
   },
   {
    "duration": 24,
    "start_time": "2024-10-09T14:45:02.147Z"
   },
   {
    "duration": 6,
    "start_time": "2024-10-09T14:45:02.172Z"
   },
   {
    "duration": 288,
    "start_time": "2024-10-09T14:45:02.180Z"
   },
   {
    "duration": 529,
    "start_time": "2024-10-09T14:45:02.470Z"
   },
   {
    "duration": 22,
    "start_time": "2024-10-09T14:45:03.002Z"
   },
   {
    "duration": 3,
    "start_time": "2024-10-09T14:45:03.026Z"
   },
   {
    "duration": 4,
    "start_time": "2024-10-09T14:45:03.031Z"
   },
   {
    "duration": 20,
    "start_time": "2024-10-09T14:45:03.037Z"
   },
   {
    "duration": 11,
    "start_time": "2024-10-09T14:45:03.058Z"
   },
   {
    "duration": 286,
    "start_time": "2024-10-09T14:45:03.070Z"
   },
   {
    "duration": 8,
    "start_time": "2024-10-09T14:45:03.358Z"
   },
   {
    "duration": 11,
    "start_time": "2024-10-09T14:45:03.370Z"
   },
   {
    "duration": 2,
    "start_time": "2024-10-09T14:45:03.383Z"
   },
   {
    "duration": 27,
    "start_time": "2024-10-09T14:45:03.387Z"
   },
   {
    "duration": 11,
    "start_time": "2024-10-09T14:45:03.416Z"
   },
   {
    "duration": 78,
    "start_time": "2024-10-09T14:45:03.432Z"
   },
   {
    "duration": 6,
    "start_time": "2024-10-09T14:45:03.512Z"
   },
   {
    "duration": 12,
    "start_time": "2024-10-09T14:45:03.520Z"
   },
   {
    "duration": 12,
    "start_time": "2024-10-09T14:45:03.534Z"
   },
   {
    "duration": 18,
    "start_time": "2024-10-09T14:51:45.996Z"
   },
   {
    "duration": 12,
    "start_time": "2024-10-09T14:51:54.564Z"
   },
   {
    "duration": 806,
    "start_time": "2024-10-09T14:52:01.644Z"
   },
   {
    "duration": 25,
    "start_time": "2024-10-09T14:52:02.453Z"
   },
   {
    "duration": 32,
    "start_time": "2024-10-09T14:52:02.480Z"
   },
   {
    "duration": 4,
    "start_time": "2024-10-09T14:52:02.515Z"
   },
   {
    "duration": 17,
    "start_time": "2024-10-09T14:52:02.521Z"
   },
   {
    "duration": 12,
    "start_time": "2024-10-09T14:52:02.540Z"
   },
   {
    "duration": 15,
    "start_time": "2024-10-09T14:52:02.554Z"
   },
   {
    "duration": 45,
    "start_time": "2024-10-09T14:52:02.571Z"
   },
   {
    "duration": 13,
    "start_time": "2024-10-09T14:52:02.618Z"
   },
   {
    "duration": 6,
    "start_time": "2024-10-09T14:52:02.635Z"
   },
   {
    "duration": 16,
    "start_time": "2024-10-09T14:52:02.642Z"
   },
   {
    "duration": 49,
    "start_time": "2024-10-09T14:52:02.660Z"
   },
   {
    "duration": 19,
    "start_time": "2024-10-09T14:52:02.711Z"
   },
   {
    "duration": 6,
    "start_time": "2024-10-09T14:52:02.732Z"
   },
   {
    "duration": 281,
    "start_time": "2024-10-09T14:52:02.739Z"
   },
   {
    "duration": 533,
    "start_time": "2024-10-09T14:52:03.022Z"
   },
   {
    "duration": 18,
    "start_time": "2024-10-09T14:52:03.557Z"
   },
   {
    "duration": 4,
    "start_time": "2024-10-09T14:52:03.576Z"
   },
   {
    "duration": 4,
    "start_time": "2024-10-09T14:52:03.581Z"
   },
   {
    "duration": 41,
    "start_time": "2024-10-09T14:52:03.587Z"
   },
   {
    "duration": 12,
    "start_time": "2024-10-09T14:52:03.630Z"
   },
   {
    "duration": 282,
    "start_time": "2024-10-09T14:52:03.644Z"
   },
   {
    "duration": 10,
    "start_time": "2024-10-09T14:52:03.928Z"
   },
   {
    "duration": 13,
    "start_time": "2024-10-09T14:52:03.939Z"
   },
   {
    "duration": 2,
    "start_time": "2024-10-09T14:52:03.954Z"
   },
   {
    "duration": 6,
    "start_time": "2024-10-09T14:52:03.958Z"
   },
   {
    "duration": 10,
    "start_time": "2024-10-09T14:52:03.966Z"
   },
   {
    "duration": 50,
    "start_time": "2024-10-09T14:52:03.979Z"
   },
   {
    "duration": 6,
    "start_time": "2024-10-09T14:52:04.031Z"
   },
   {
    "duration": 11,
    "start_time": "2024-10-09T14:52:04.039Z"
   },
   {
    "duration": 9,
    "start_time": "2024-10-09T14:52:04.052Z"
   },
   {
    "duration": 2,
    "start_time": "2024-10-09T14:54:01.829Z"
   },
   {
    "duration": 13,
    "start_time": "2024-10-09T14:58:01.659Z"
   },
   {
    "duration": 748,
    "start_time": "2024-10-09T14:58:10.878Z"
   },
   {
    "duration": 25,
    "start_time": "2024-10-09T14:58:11.628Z"
   },
   {
    "duration": 19,
    "start_time": "2024-10-09T14:58:11.655Z"
   },
   {
    "duration": 6,
    "start_time": "2024-10-09T14:58:11.677Z"
   },
   {
    "duration": 35,
    "start_time": "2024-10-09T14:58:11.686Z"
   },
   {
    "duration": 12,
    "start_time": "2024-10-09T14:58:11.723Z"
   },
   {
    "duration": 12,
    "start_time": "2024-10-09T14:58:11.737Z"
   },
   {
    "duration": 14,
    "start_time": "2024-10-09T14:58:11.751Z"
   },
   {
    "duration": 4,
    "start_time": "2024-10-09T14:58:11.767Z"
   },
   {
    "duration": 37,
    "start_time": "2024-10-09T14:58:11.773Z"
   },
   {
    "duration": 20,
    "start_time": "2024-10-09T14:58:11.811Z"
   },
   {
    "duration": 20,
    "start_time": "2024-10-09T14:58:11.833Z"
   },
   {
    "duration": 23,
    "start_time": "2024-10-09T14:58:11.855Z"
   },
   {
    "duration": 6,
    "start_time": "2024-10-09T14:58:11.908Z"
   },
   {
    "duration": 435,
    "start_time": "2024-10-09T14:58:11.916Z"
   },
   {
    "duration": 774,
    "start_time": "2024-10-09T14:58:12.353Z"
   },
   {
    "duration": 22,
    "start_time": "2024-10-09T14:58:13.130Z"
   },
   {
    "duration": 3,
    "start_time": "2024-10-09T14:58:13.154Z"
   },
   {
    "duration": 4,
    "start_time": "2024-10-09T14:58:13.159Z"
   },
   {
    "duration": 24,
    "start_time": "2024-10-09T14:58:13.165Z"
   },
   {
    "duration": 9,
    "start_time": "2024-10-09T14:58:13.209Z"
   },
   {
    "duration": 282,
    "start_time": "2024-10-09T14:58:13.219Z"
   },
   {
    "duration": 14,
    "start_time": "2024-10-09T14:58:13.503Z"
   },
   {
    "duration": 16,
    "start_time": "2024-10-09T14:58:13.520Z"
   },
   {
    "duration": 3,
    "start_time": "2024-10-09T14:58:13.538Z"
   },
   {
    "duration": 6,
    "start_time": "2024-10-09T14:58:13.542Z"
   },
   {
    "duration": 9,
    "start_time": "2024-10-09T14:58:13.549Z"
   },
   {
    "duration": 19,
    "start_time": "2024-10-09T14:58:13.561Z"
   },
   {
    "duration": 26,
    "start_time": "2024-10-09T14:58:13.583Z"
   },
   {
    "duration": 10,
    "start_time": "2024-10-09T14:58:13.610Z"
   },
   {
    "duration": 7,
    "start_time": "2024-10-09T14:58:13.622Z"
   },
   {
    "duration": 5,
    "start_time": "2024-10-09T14:58:52.345Z"
   },
   {
    "duration": 878,
    "start_time": "2024-10-09T14:58:59.044Z"
   },
   {
    "duration": 24,
    "start_time": "2024-10-09T14:58:59.924Z"
   },
   {
    "duration": 71,
    "start_time": "2024-10-09T14:58:59.950Z"
   },
   {
    "duration": 5,
    "start_time": "2024-10-09T14:59:00.025Z"
   },
   {
    "duration": 79,
    "start_time": "2024-10-09T14:59:00.032Z"
   },
   {
    "duration": 13,
    "start_time": "2024-10-09T14:59:00.113Z"
   },
   {
    "duration": 14,
    "start_time": "2024-10-09T14:59:00.128Z"
   },
   {
    "duration": 67,
    "start_time": "2024-10-09T14:59:00.143Z"
   },
   {
    "duration": 2,
    "start_time": "2024-10-09T14:59:00.212Z"
   },
   {
    "duration": 8,
    "start_time": "2024-10-09T14:59:00.219Z"
   },
   {
    "duration": 24,
    "start_time": "2024-10-09T14:59:00.229Z"
   },
   {
    "duration": 26,
    "start_time": "2024-10-09T14:59:00.310Z"
   },
   {
    "duration": 85,
    "start_time": "2024-10-09T14:59:00.338Z"
   },
   {
    "duration": 7,
    "start_time": "2024-10-09T14:59:00.425Z"
   },
   {
    "duration": 442,
    "start_time": "2024-10-09T14:59:00.434Z"
   },
   {
    "duration": 533,
    "start_time": "2024-10-09T14:59:00.878Z"
   },
   {
    "duration": 18,
    "start_time": "2024-10-09T14:59:01.412Z"
   },
   {
    "duration": 3,
    "start_time": "2024-10-09T14:59:01.432Z"
   },
   {
    "duration": 4,
    "start_time": "2024-10-09T14:59:01.437Z"
   },
   {
    "duration": 18,
    "start_time": "2024-10-09T14:59:01.442Z"
   },
   {
    "duration": 9,
    "start_time": "2024-10-09T14:59:01.463Z"
   },
   {
    "duration": 318,
    "start_time": "2024-10-09T14:59:01.473Z"
   },
   {
    "duration": 15,
    "start_time": "2024-10-09T14:59:01.794Z"
   },
   {
    "duration": 11,
    "start_time": "2024-10-09T14:59:01.810Z"
   },
   {
    "duration": 2,
    "start_time": "2024-10-09T14:59:01.823Z"
   },
   {
    "duration": 6,
    "start_time": "2024-10-09T14:59:01.826Z"
   },
   {
    "duration": 9,
    "start_time": "2024-10-09T14:59:01.834Z"
   },
   {
    "duration": 17,
    "start_time": "2024-10-09T14:59:01.847Z"
   },
   {
    "duration": 5,
    "start_time": "2024-10-09T14:59:01.865Z"
   },
   {
    "duration": 45,
    "start_time": "2024-10-09T14:59:01.872Z"
   },
   {
    "duration": 10,
    "start_time": "2024-10-09T14:59:01.919Z"
   },
   {
    "duration": 845,
    "start_time": "2024-10-09T15:00:45.007Z"
   },
   {
    "duration": 84,
    "start_time": "2024-10-09T15:00:45.854Z"
   },
   {
    "duration": 79,
    "start_time": "2024-10-09T15:00:45.941Z"
   },
   {
    "duration": 5,
    "start_time": "2024-10-09T15:00:46.023Z"
   },
   {
    "duration": 23,
    "start_time": "2024-10-09T15:00:46.030Z"
   },
   {
    "duration": 65,
    "start_time": "2024-10-09T15:00:46.055Z"
   },
   {
    "duration": 16,
    "start_time": "2024-10-09T15:00:46.122Z"
   },
   {
    "duration": 72,
    "start_time": "2024-10-09T15:00:46.140Z"
   },
   {
    "duration": 3,
    "start_time": "2024-10-09T15:00:46.214Z"
   },
   {
    "duration": 8,
    "start_time": "2024-10-09T15:00:46.220Z"
   },
   {
    "duration": 21,
    "start_time": "2024-10-09T15:00:46.229Z"
   },
   {
    "duration": 85,
    "start_time": "2024-10-09T15:00:46.252Z"
   },
   {
    "duration": 77,
    "start_time": "2024-10-09T15:00:46.339Z"
   },
   {
    "duration": 5,
    "start_time": "2024-10-09T15:00:46.418Z"
   },
   {
    "duration": 392,
    "start_time": "2024-10-09T15:00:46.425Z"
   },
   {
    "duration": 579,
    "start_time": "2024-10-09T15:00:46.820Z"
   },
   {
    "duration": 26,
    "start_time": "2024-10-09T15:00:47.403Z"
   },
   {
    "duration": 3,
    "start_time": "2024-10-09T15:00:47.432Z"
   },
   {
    "duration": 4,
    "start_time": "2024-10-09T15:00:47.437Z"
   },
   {
    "duration": 22,
    "start_time": "2024-10-09T15:00:47.442Z"
   },
   {
    "duration": 9,
    "start_time": "2024-10-09T15:00:47.467Z"
   },
   {
    "duration": 306,
    "start_time": "2024-10-09T15:00:47.477Z"
   },
   {
    "duration": 5,
    "start_time": "2024-10-09T15:00:47.785Z"
   },
   {
    "duration": 28,
    "start_time": "2024-10-09T15:00:47.792Z"
   },
   {
    "duration": 4,
    "start_time": "2024-10-09T15:00:47.824Z"
   },
   {
    "duration": 7,
    "start_time": "2024-10-09T15:00:47.829Z"
   },
   {
    "duration": 11,
    "start_time": "2024-10-09T15:00:47.839Z"
   },
   {
    "duration": 21,
    "start_time": "2024-10-09T15:00:47.854Z"
   },
   {
    "duration": 5,
    "start_time": "2024-10-09T15:00:47.877Z"
   },
   {
    "duration": 32,
    "start_time": "2024-10-09T15:00:47.884Z"
   },
   {
    "duration": 9,
    "start_time": "2024-10-09T15:00:47.918Z"
   },
   {
    "duration": 20,
    "start_time": "2024-10-09T15:01:34.289Z"
   },
   {
    "duration": 869,
    "start_time": "2024-10-09T15:01:55.852Z"
   },
   {
    "duration": 32,
    "start_time": "2024-10-09T15:01:56.724Z"
   },
   {
    "duration": 21,
    "start_time": "2024-10-09T15:01:56.809Z"
   },
   {
    "duration": 6,
    "start_time": "2024-10-09T15:01:56.832Z"
   },
   {
    "duration": 78,
    "start_time": "2024-10-09T15:01:56.839Z"
   },
   {
    "duration": 12,
    "start_time": "2024-10-09T15:01:56.919Z"
   },
   {
    "duration": 13,
    "start_time": "2024-10-09T15:01:56.932Z"
   },
   {
    "duration": 67,
    "start_time": "2024-10-09T15:01:56.947Z"
   },
   {
    "duration": 3,
    "start_time": "2024-10-09T15:01:57.016Z"
   },
   {
    "duration": 7,
    "start_time": "2024-10-09T15:01:57.022Z"
   },
   {
    "duration": 19,
    "start_time": "2024-10-09T15:01:57.030Z"
   },
   {
    "duration": 91,
    "start_time": "2024-10-09T15:01:57.051Z"
   },
   {
    "duration": 80,
    "start_time": "2024-10-09T15:01:57.144Z"
   },
   {
    "duration": 6,
    "start_time": "2024-10-09T15:01:57.226Z"
   },
   {
    "duration": 467,
    "start_time": "2024-10-09T15:01:57.234Z"
   },
   {
    "duration": 554,
    "start_time": "2024-10-09T15:01:57.703Z"
   },
   {
    "duration": 18,
    "start_time": "2024-10-09T15:01:58.259Z"
   },
   {
    "duration": 3,
    "start_time": "2024-10-09T15:01:58.279Z"
   },
   {
    "duration": 3,
    "start_time": "2024-10-09T15:01:58.284Z"
   },
   {
    "duration": 19,
    "start_time": "2024-10-09T15:01:58.308Z"
   },
   {
    "duration": 10,
    "start_time": "2024-10-09T15:01:58.329Z"
   },
   {
    "duration": 277,
    "start_time": "2024-10-09T15:01:58.341Z"
   },
   {
    "duration": 6,
    "start_time": "2024-10-09T15:01:58.621Z"
   },
   {
    "duration": 12,
    "start_time": "2024-10-09T15:01:58.630Z"
   },
   {
    "duration": 2,
    "start_time": "2024-10-09T15:01:58.643Z"
   },
   {
    "duration": 8,
    "start_time": "2024-10-09T15:01:58.647Z"
   },
   {
    "duration": 9,
    "start_time": "2024-10-09T15:01:58.657Z"
   },
   {
    "duration": 47,
    "start_time": "2024-10-09T15:01:58.670Z"
   },
   {
    "duration": 5,
    "start_time": "2024-10-09T15:01:58.719Z"
   },
   {
    "duration": 10,
    "start_time": "2024-10-09T15:01:58.726Z"
   },
   {
    "duration": 8,
    "start_time": "2024-10-09T15:01:58.738Z"
   },
   {
    "duration": 721,
    "start_time": "2024-10-09T15:07:02.278Z"
   },
   {
    "duration": 30,
    "start_time": "2024-10-09T15:07:03.001Z"
   },
   {
    "duration": 22,
    "start_time": "2024-10-09T15:07:03.033Z"
   },
   {
    "duration": 5,
    "start_time": "2024-10-09T15:07:03.057Z"
   },
   {
    "duration": 20,
    "start_time": "2024-10-09T15:07:03.064Z"
   },
   {
    "duration": 33,
    "start_time": "2024-10-09T15:07:03.086Z"
   },
   {
    "duration": 12,
    "start_time": "2024-10-09T15:07:03.121Z"
   },
   {
    "duration": 14,
    "start_time": "2024-10-09T15:07:03.135Z"
   },
   {
    "duration": 2,
    "start_time": "2024-10-09T15:07:03.151Z"
   },
   {
    "duration": 5,
    "start_time": "2024-10-09T15:07:03.156Z"
   },
   {
    "duration": 50,
    "start_time": "2024-10-09T15:07:03.163Z"
   },
   {
    "duration": 25,
    "start_time": "2024-10-09T15:07:03.215Z"
   },
   {
    "duration": 19,
    "start_time": "2024-10-09T15:07:03.242Z"
   },
   {
    "duration": 7,
    "start_time": "2024-10-09T15:07:03.263Z"
   },
   {
    "duration": 281,
    "start_time": "2024-10-09T15:07:03.271Z"
   },
   {
    "duration": 499,
    "start_time": "2024-10-09T15:07:03.554Z"
   },
   {
    "duration": 18,
    "start_time": "2024-10-09T15:07:04.055Z"
   },
   {
    "duration": 6,
    "start_time": "2024-10-09T15:07:04.074Z"
   },
   {
    "duration": 3,
    "start_time": "2024-10-09T15:07:04.082Z"
   },
   {
    "duration": 38,
    "start_time": "2024-10-09T15:07:04.086Z"
   },
   {
    "duration": 11,
    "start_time": "2024-10-09T15:07:04.126Z"
   },
   {
    "duration": 291,
    "start_time": "2024-10-09T15:07:04.139Z"
   },
   {
    "duration": 6,
    "start_time": "2024-10-09T15:07:04.432Z"
   },
   {
    "duration": 12,
    "start_time": "2024-10-09T15:07:04.440Z"
   },
   {
    "duration": 3,
    "start_time": "2024-10-09T15:07:04.454Z"
   },
   {
    "duration": 7,
    "start_time": "2024-10-09T15:07:04.459Z"
   },
   {
    "duration": 9,
    "start_time": "2024-10-09T15:07:04.467Z"
   },
   {
    "duration": 17,
    "start_time": "2024-10-09T15:07:04.509Z"
   },
   {
    "duration": 5,
    "start_time": "2024-10-09T15:07:04.528Z"
   },
   {
    "duration": 9,
    "start_time": "2024-10-09T15:07:04.536Z"
   },
   {
    "duration": 9,
    "start_time": "2024-10-09T15:07:04.547Z"
   },
   {
    "duration": 2614,
    "start_time": "2024-10-12T05:01:50.993Z"
   },
   {
    "duration": 47,
    "start_time": "2024-10-12T05:01:53.610Z"
   },
   {
    "duration": 18,
    "start_time": "2024-10-12T05:01:53.659Z"
   },
   {
    "duration": 4,
    "start_time": "2024-10-12T05:01:53.679Z"
   },
   {
    "duration": 17,
    "start_time": "2024-10-12T05:01:53.685Z"
   },
   {
    "duration": 33,
    "start_time": "2024-10-12T05:01:53.703Z"
   },
   {
    "duration": 12,
    "start_time": "2024-10-12T05:01:53.737Z"
   },
   {
    "duration": 14,
    "start_time": "2024-10-12T05:01:53.751Z"
   },
   {
    "duration": 2,
    "start_time": "2024-10-12T05:01:53.767Z"
   },
   {
    "duration": 6,
    "start_time": "2024-10-12T05:01:53.773Z"
   },
   {
    "duration": 15,
    "start_time": "2024-10-12T05:01:53.781Z"
   },
   {
    "duration": 26,
    "start_time": "2024-10-12T05:01:53.831Z"
   },
   {
    "duration": 19,
    "start_time": "2024-10-12T05:01:53.859Z"
   },
   {
    "duration": 6,
    "start_time": "2024-10-12T05:01:53.879Z"
   },
   {
    "duration": 293,
    "start_time": "2024-10-12T05:01:53.887Z"
   },
   {
    "duration": 531,
    "start_time": "2024-10-12T05:01:54.182Z"
   },
   {
    "duration": 25,
    "start_time": "2024-10-12T05:01:54.716Z"
   },
   {
    "duration": 4,
    "start_time": "2024-10-12T05:01:54.743Z"
   },
   {
    "duration": 4,
    "start_time": "2024-10-12T05:01:54.749Z"
   },
   {
    "duration": 21,
    "start_time": "2024-10-12T05:01:54.755Z"
   },
   {
    "duration": 10,
    "start_time": "2024-10-12T05:01:54.778Z"
   },
   {
    "duration": 295,
    "start_time": "2024-10-12T05:01:54.790Z"
   },
   {
    "duration": 7,
    "start_time": "2024-10-12T05:01:55.088Z"
   },
   {
    "duration": 11,
    "start_time": "2024-10-12T05:01:55.096Z"
   },
   {
    "duration": 24,
    "start_time": "2024-10-12T05:01:55.108Z"
   },
   {
    "duration": 8,
    "start_time": "2024-10-12T05:01:55.133Z"
   },
   {
    "duration": 9,
    "start_time": "2024-10-12T05:01:55.143Z"
   },
   {
    "duration": 17,
    "start_time": "2024-10-12T05:01:55.156Z"
   },
   {
    "duration": 6,
    "start_time": "2024-10-12T05:01:55.174Z"
   },
   {
    "duration": 10,
    "start_time": "2024-10-12T05:01:55.182Z"
   },
   {
    "duration": 43,
    "start_time": "2024-10-12T05:01:55.193Z"
   },
   {
    "duration": 14,
    "start_time": "2024-10-12T05:03:13.905Z"
   },
   {
    "duration": 766,
    "start_time": "2024-10-12T05:03:20.598Z"
   },
   {
    "duration": 24,
    "start_time": "2024-10-12T05:03:21.366Z"
   },
   {
    "duration": 17,
    "start_time": "2024-10-12T05:03:21.392Z"
   },
   {
    "duration": 5,
    "start_time": "2024-10-12T05:03:21.411Z"
   },
   {
    "duration": 32,
    "start_time": "2024-10-12T05:03:21.417Z"
   },
   {
    "duration": 16,
    "start_time": "2024-10-12T05:03:21.450Z"
   },
   {
    "duration": 11,
    "start_time": "2024-10-12T05:03:21.468Z"
   },
   {
    "duration": 18,
    "start_time": "2024-10-12T05:03:21.481Z"
   },
   {
    "duration": 31,
    "start_time": "2024-10-12T05:03:21.502Z"
   },
   {
    "duration": 6,
    "start_time": "2024-10-12T05:03:21.537Z"
   },
   {
    "duration": 16,
    "start_time": "2024-10-12T05:03:21.545Z"
   },
   {
    "duration": 25,
    "start_time": "2024-10-12T05:03:21.562Z"
   },
   {
    "duration": 43,
    "start_time": "2024-10-12T05:03:21.589Z"
   },
   {
    "duration": 6,
    "start_time": "2024-10-12T05:03:21.634Z"
   },
   {
    "duration": 284,
    "start_time": "2024-10-12T05:03:21.641Z"
   },
   {
    "duration": 544,
    "start_time": "2024-10-12T05:03:21.927Z"
   },
   {
    "duration": 20,
    "start_time": "2024-10-12T05:03:22.473Z"
   },
   {
    "duration": 4,
    "start_time": "2024-10-12T05:03:22.494Z"
   },
   {
    "duration": 4,
    "start_time": "2024-10-12T05:03:22.500Z"
   },
   {
    "duration": 44,
    "start_time": "2024-10-12T05:03:22.506Z"
   },
   {
    "duration": 11,
    "start_time": "2024-10-12T05:03:22.551Z"
   },
   {
    "duration": 284,
    "start_time": "2024-10-12T05:03:22.563Z"
   },
   {
    "duration": 7,
    "start_time": "2024-10-12T05:03:22.849Z"
   },
   {
    "duration": 13,
    "start_time": "2024-10-12T05:03:22.857Z"
   },
   {
    "duration": 2,
    "start_time": "2024-10-12T05:03:22.872Z"
   },
   {
    "duration": 6,
    "start_time": "2024-10-12T05:03:22.876Z"
   },
   {
    "duration": 9,
    "start_time": "2024-10-12T05:03:22.884Z"
   },
   {
    "duration": 21,
    "start_time": "2024-10-12T05:03:22.930Z"
   },
   {
    "duration": 5,
    "start_time": "2024-10-12T05:03:22.953Z"
   },
   {
    "duration": 9,
    "start_time": "2024-10-12T05:03:22.960Z"
   },
   {
    "duration": 11,
    "start_time": "2024-10-12T05:03:22.971Z"
   },
   {
    "duration": 11,
    "start_time": "2024-10-12T05:05:16.472Z"
   },
   {
    "duration": 12,
    "start_time": "2024-10-12T05:06:27.954Z"
   },
   {
    "duration": 738,
    "start_time": "2024-10-12T05:06:36.008Z"
   },
   {
    "duration": 25,
    "start_time": "2024-10-12T05:06:36.748Z"
   },
   {
    "duration": 19,
    "start_time": "2024-10-12T05:06:36.775Z"
   },
   {
    "duration": 5,
    "start_time": "2024-10-12T05:06:36.796Z"
   },
   {
    "duration": 38,
    "start_time": "2024-10-12T05:06:36.802Z"
   },
   {
    "duration": 17,
    "start_time": "2024-10-12T05:06:36.842Z"
   },
   {
    "duration": 15,
    "start_time": "2024-10-12T05:06:36.861Z"
   },
   {
    "duration": 17,
    "start_time": "2024-10-12T05:06:36.878Z"
   },
   {
    "duration": 3,
    "start_time": "2024-10-12T05:06:36.897Z"
   },
   {
    "duration": 34,
    "start_time": "2024-10-12T05:06:36.903Z"
   },
   {
    "duration": 16,
    "start_time": "2024-10-12T05:06:36.939Z"
   },
   {
    "duration": 27,
    "start_time": "2024-10-12T05:06:36.957Z"
   },
   {
    "duration": 51,
    "start_time": "2024-10-12T05:06:36.986Z"
   },
   {
    "duration": 5,
    "start_time": "2024-10-12T05:06:37.039Z"
   },
   {
    "duration": 265,
    "start_time": "2024-10-12T05:06:37.046Z"
   },
   {
    "duration": 559,
    "start_time": "2024-10-12T05:06:37.313Z"
   },
   {
    "duration": 19,
    "start_time": "2024-10-12T05:06:37.874Z"
   },
   {
    "duration": 4,
    "start_time": "2024-10-12T05:06:37.895Z"
   },
   {
    "duration": 5,
    "start_time": "2024-10-12T05:06:37.901Z"
   },
   {
    "duration": 22,
    "start_time": "2024-10-12T05:06:37.931Z"
   },
   {
    "duration": 10,
    "start_time": "2024-10-12T05:06:37.955Z"
   },
   {
    "duration": 289,
    "start_time": "2024-10-12T05:06:37.968Z"
   },
   {
    "duration": 6,
    "start_time": "2024-10-12T05:06:38.259Z"
   },
   {
    "duration": 11,
    "start_time": "2024-10-12T05:06:38.267Z"
   },
   {
    "duration": 3,
    "start_time": "2024-10-12T05:06:38.280Z"
   },
   {
    "duration": 7,
    "start_time": "2024-10-12T05:06:38.284Z"
   },
   {
    "duration": 43,
    "start_time": "2024-10-12T05:06:38.293Z"
   },
   {
    "duration": 18,
    "start_time": "2024-10-12T05:06:38.342Z"
   },
   {
    "duration": 5,
    "start_time": "2024-10-12T05:06:38.362Z"
   },
   {
    "duration": 9,
    "start_time": "2024-10-12T05:06:38.369Z"
   },
   {
    "duration": 9,
    "start_time": "2024-10-12T05:06:38.380Z"
   },
   {
    "duration": 756,
    "start_time": "2024-10-12T05:09:16.408Z"
   },
   {
    "duration": 28,
    "start_time": "2024-10-12T05:09:17.166Z"
   },
   {
    "duration": 19,
    "start_time": "2024-10-12T05:09:17.196Z"
   },
   {
    "duration": 229,
    "start_time": "2024-10-12T05:09:17.217Z"
   },
   {
    "duration": 0,
    "start_time": "2024-10-12T05:09:17.449Z"
   },
   {
    "duration": 0,
    "start_time": "2024-10-12T05:09:17.450Z"
   },
   {
    "duration": 0,
    "start_time": "2024-10-12T05:09:17.452Z"
   },
   {
    "duration": 0,
    "start_time": "2024-10-12T05:09:17.453Z"
   },
   {
    "duration": 0,
    "start_time": "2024-10-12T05:09:17.454Z"
   },
   {
    "duration": 0,
    "start_time": "2024-10-12T05:09:17.455Z"
   },
   {
    "duration": 0,
    "start_time": "2024-10-12T05:09:17.456Z"
   },
   {
    "duration": 0,
    "start_time": "2024-10-12T05:09:17.459Z"
   },
   {
    "duration": 0,
    "start_time": "2024-10-12T05:09:17.460Z"
   },
   {
    "duration": 0,
    "start_time": "2024-10-12T05:09:17.462Z"
   },
   {
    "duration": 0,
    "start_time": "2024-10-12T05:09:17.463Z"
   },
   {
    "duration": 0,
    "start_time": "2024-10-12T05:09:17.464Z"
   },
   {
    "duration": 0,
    "start_time": "2024-10-12T05:09:17.466Z"
   },
   {
    "duration": 0,
    "start_time": "2024-10-12T05:09:17.467Z"
   },
   {
    "duration": 0,
    "start_time": "2024-10-12T05:09:17.468Z"
   },
   {
    "duration": 0,
    "start_time": "2024-10-12T05:09:17.469Z"
   },
   {
    "duration": 0,
    "start_time": "2024-10-12T05:09:17.470Z"
   },
   {
    "duration": 0,
    "start_time": "2024-10-12T05:09:17.471Z"
   },
   {
    "duration": 0,
    "start_time": "2024-10-12T05:09:17.472Z"
   },
   {
    "duration": 0,
    "start_time": "2024-10-12T05:09:17.473Z"
   },
   {
    "duration": 0,
    "start_time": "2024-10-12T05:09:17.474Z"
   },
   {
    "duration": 0,
    "start_time": "2024-10-12T05:09:17.475Z"
   },
   {
    "duration": 0,
    "start_time": "2024-10-12T05:09:17.476Z"
   },
   {
    "duration": 0,
    "start_time": "2024-10-12T05:09:17.478Z"
   },
   {
    "duration": 0,
    "start_time": "2024-10-12T05:09:17.479Z"
   },
   {
    "duration": 0,
    "start_time": "2024-10-12T05:09:17.480Z"
   },
   {
    "duration": 0,
    "start_time": "2024-10-12T05:09:17.481Z"
   },
   {
    "duration": 5,
    "start_time": "2024-10-12T05:09:39.183Z"
   },
   {
    "duration": 17,
    "start_time": "2024-10-12T05:09:41.960Z"
   },
   {
    "duration": 16,
    "start_time": "2024-10-12T05:09:45.071Z"
   },
   {
    "duration": 13,
    "start_time": "2024-10-12T05:09:50.013Z"
   },
   {
    "duration": 6,
    "start_time": "2024-10-12T05:10:05.625Z"
   },
   {
    "duration": 11,
    "start_time": "2024-10-12T05:10:20.999Z"
   },
   {
    "duration": 5,
    "start_time": "2024-10-12T05:26:10.042Z"
   },
   {
    "duration": 13,
    "start_time": "2024-10-12T05:26:23.446Z"
   },
   {
    "duration": 16,
    "start_time": "2024-10-12T05:26:35.821Z"
   },
   {
    "duration": 20,
    "start_time": "2024-10-12T05:27:17.064Z"
   },
   {
    "duration": 14,
    "start_time": "2024-10-12T05:27:25.236Z"
   },
   {
    "duration": 16,
    "start_time": "2024-10-12T05:27:53.554Z"
   },
   {
    "duration": 7,
    "start_time": "2024-10-12T05:28:09.519Z"
   },
   {
    "duration": 14,
    "start_time": "2024-10-12T05:29:18.347Z"
   },
   {
    "duration": 18,
    "start_time": "2024-10-12T05:31:07.590Z"
   },
   {
    "duration": 18,
    "start_time": "2024-10-12T05:32:17.353Z"
   },
   {
    "duration": 5,
    "start_time": "2024-10-12T05:32:32.897Z"
   },
   {
    "duration": 10,
    "start_time": "2024-10-12T05:32:38.817Z"
   },
   {
    "duration": 15,
    "start_time": "2024-10-12T05:34:15.640Z"
   },
   {
    "duration": 16,
    "start_time": "2024-10-12T05:39:09.903Z"
   },
   {
    "duration": 7,
    "start_time": "2024-10-12T05:39:23.533Z"
   },
   {
    "duration": 7,
    "start_time": "2024-10-12T05:39:47.121Z"
   },
   {
    "duration": 7,
    "start_time": "2024-10-12T05:40:12.008Z"
   },
   {
    "duration": 11,
    "start_time": "2024-10-12T05:40:36.953Z"
   },
   {
    "duration": 14,
    "start_time": "2024-10-12T05:40:56.272Z"
   },
   {
    "duration": 16,
    "start_time": "2024-10-12T05:41:35.022Z"
   },
   {
    "duration": 17,
    "start_time": "2024-10-12T05:43:26.212Z"
   },
   {
    "duration": 16,
    "start_time": "2024-10-12T05:48:39.059Z"
   },
   {
    "duration": 23,
    "start_time": "2024-10-12T05:50:20.831Z"
   },
   {
    "duration": 24,
    "start_time": "2024-10-12T05:51:05.870Z"
   },
   {
    "duration": 23,
    "start_time": "2024-10-12T05:51:14.585Z"
   },
   {
    "duration": 17,
    "start_time": "2024-10-12T05:52:35.640Z"
   },
   {
    "duration": 461,
    "start_time": "2024-10-12T05:52:39.968Z"
   },
   {
    "duration": 20,
    "start_time": "2024-10-12T05:54:44.559Z"
   },
   {
    "duration": 31,
    "start_time": "2024-10-12T05:54:50.598Z"
   },
   {
    "duration": 26,
    "start_time": "2024-10-12T05:55:00.825Z"
   },
   {
    "duration": 785,
    "start_time": "2024-10-12T05:55:14.469Z"
   },
   {
    "duration": 25,
    "start_time": "2024-10-12T05:55:15.256Z"
   },
   {
    "duration": 18,
    "start_time": "2024-10-12T05:55:15.282Z"
   },
   {
    "duration": 5,
    "start_time": "2024-10-12T05:55:15.331Z"
   },
   {
    "duration": 22,
    "start_time": "2024-10-12T05:55:15.339Z"
   },
   {
    "duration": 82,
    "start_time": "2024-10-12T05:55:15.363Z"
   },
   {
    "duration": 12,
    "start_time": "2024-10-12T05:55:15.447Z"
   },
   {
    "duration": 10,
    "start_time": "2024-10-12T05:55:15.461Z"
   },
   {
    "duration": 58,
    "start_time": "2024-10-12T05:55:15.473Z"
   },
   {
    "duration": 23,
    "start_time": "2024-10-12T05:55:15.536Z"
   },
   {
    "duration": 80,
    "start_time": "2024-10-12T05:55:15.561Z"
   },
   {
    "duration": 3,
    "start_time": "2024-10-12T05:55:15.643Z"
   },
   {
    "duration": 518,
    "start_time": "2024-10-12T05:55:15.647Z"
   },
   {
    "duration": 0,
    "start_time": "2024-10-12T05:55:16.167Z"
   },
   {
    "duration": 0,
    "start_time": "2024-10-12T05:55:16.169Z"
   },
   {
    "duration": 0,
    "start_time": "2024-10-12T05:55:16.170Z"
   },
   {
    "duration": 0,
    "start_time": "2024-10-12T05:55:16.171Z"
   },
   {
    "duration": 0,
    "start_time": "2024-10-12T05:55:16.172Z"
   },
   {
    "duration": 0,
    "start_time": "2024-10-12T05:55:16.173Z"
   },
   {
    "duration": 0,
    "start_time": "2024-10-12T05:55:16.175Z"
   },
   {
    "duration": 0,
    "start_time": "2024-10-12T05:55:16.177Z"
   },
   {
    "duration": 0,
    "start_time": "2024-10-12T05:55:16.178Z"
   },
   {
    "duration": 0,
    "start_time": "2024-10-12T05:55:16.179Z"
   },
   {
    "duration": 0,
    "start_time": "2024-10-12T05:55:16.181Z"
   },
   {
    "duration": 0,
    "start_time": "2024-10-12T05:55:16.231Z"
   },
   {
    "duration": 0,
    "start_time": "2024-10-12T05:55:16.232Z"
   },
   {
    "duration": 0,
    "start_time": "2024-10-12T05:55:16.233Z"
   },
   {
    "duration": 0,
    "start_time": "2024-10-12T05:55:16.234Z"
   },
   {
    "duration": 0,
    "start_time": "2024-10-12T05:55:16.235Z"
   },
   {
    "duration": 0,
    "start_time": "2024-10-12T05:55:16.236Z"
   },
   {
    "duration": 0,
    "start_time": "2024-10-12T05:55:16.237Z"
   },
   {
    "duration": 0,
    "start_time": "2024-10-12T05:55:16.238Z"
   },
   {
    "duration": 0,
    "start_time": "2024-10-12T05:55:16.239Z"
   },
   {
    "duration": 0,
    "start_time": "2024-10-12T05:55:16.241Z"
   },
   {
    "duration": 824,
    "start_time": "2024-10-12T05:58:40.341Z"
   },
   {
    "duration": 76,
    "start_time": "2024-10-12T05:58:41.167Z"
   },
   {
    "duration": 19,
    "start_time": "2024-10-12T05:58:41.245Z"
   },
   {
    "duration": 5,
    "start_time": "2024-10-12T05:58:41.266Z"
   },
   {
    "duration": 64,
    "start_time": "2024-10-12T05:58:41.272Z"
   },
   {
    "duration": 16,
    "start_time": "2024-10-12T05:58:41.338Z"
   },
   {
    "duration": 11,
    "start_time": "2024-10-12T05:58:41.356Z"
   },
   {
    "duration": 65,
    "start_time": "2024-10-12T05:58:41.368Z"
   },
   {
    "duration": 6,
    "start_time": "2024-10-12T05:58:41.435Z"
   },
   {
    "duration": 11,
    "start_time": "2024-10-12T05:58:41.444Z"
   },
   {
    "duration": 16,
    "start_time": "2024-10-12T05:58:41.456Z"
   },
   {
    "duration": 36,
    "start_time": "2024-10-12T05:58:41.530Z"
   },
   {
    "duration": 2,
    "start_time": "2024-10-12T05:58:41.568Z"
   },
   {
    "duration": 452,
    "start_time": "2024-10-12T05:58:41.572Z"
   },
   {
    "duration": 0,
    "start_time": "2024-10-12T05:58:42.026Z"
   },
   {
    "duration": 0,
    "start_time": "2024-10-12T05:58:42.027Z"
   },
   {
    "duration": 1,
    "start_time": "2024-10-12T05:58:42.031Z"
   },
   {
    "duration": 0,
    "start_time": "2024-10-12T05:58:42.033Z"
   },
   {
    "duration": 0,
    "start_time": "2024-10-12T05:58:42.034Z"
   },
   {
    "duration": 0,
    "start_time": "2024-10-12T05:58:42.035Z"
   },
   {
    "duration": 0,
    "start_time": "2024-10-12T05:58:42.036Z"
   },
   {
    "duration": 0,
    "start_time": "2024-10-12T05:58:42.037Z"
   },
   {
    "duration": 0,
    "start_time": "2024-10-12T05:58:42.039Z"
   },
   {
    "duration": 0,
    "start_time": "2024-10-12T05:58:42.041Z"
   },
   {
    "duration": 0,
    "start_time": "2024-10-12T05:58:42.042Z"
   },
   {
    "duration": 0,
    "start_time": "2024-10-12T05:58:42.043Z"
   },
   {
    "duration": 0,
    "start_time": "2024-10-12T05:58:42.044Z"
   },
   {
    "duration": 0,
    "start_time": "2024-10-12T05:58:42.046Z"
   },
   {
    "duration": 0,
    "start_time": "2024-10-12T05:58:42.047Z"
   },
   {
    "duration": 0,
    "start_time": "2024-10-12T05:58:42.048Z"
   },
   {
    "duration": 0,
    "start_time": "2024-10-12T05:58:42.049Z"
   },
   {
    "duration": 0,
    "start_time": "2024-10-12T05:58:42.050Z"
   },
   {
    "duration": 0,
    "start_time": "2024-10-12T05:58:42.051Z"
   },
   {
    "duration": 0,
    "start_time": "2024-10-12T05:58:42.052Z"
   },
   {
    "duration": 0,
    "start_time": "2024-10-12T05:58:42.054Z"
   },
   {
    "duration": 734,
    "start_time": "2024-10-12T05:58:56.002Z"
   },
   {
    "duration": 23,
    "start_time": "2024-10-12T05:58:56.739Z"
   },
   {
    "duration": 21,
    "start_time": "2024-10-12T05:58:56.764Z"
   },
   {
    "duration": 4,
    "start_time": "2024-10-12T05:58:56.787Z"
   },
   {
    "duration": 51,
    "start_time": "2024-10-12T05:58:56.793Z"
   },
   {
    "duration": 21,
    "start_time": "2024-10-12T05:58:56.846Z"
   },
   {
    "duration": 69,
    "start_time": "2024-10-12T05:58:56.869Z"
   },
   {
    "duration": 14,
    "start_time": "2024-10-12T05:58:56.940Z"
   },
   {
    "duration": 6,
    "start_time": "2024-10-12T05:58:56.956Z"
   },
   {
    "duration": 71,
    "start_time": "2024-10-12T05:58:56.965Z"
   },
   {
    "duration": 17,
    "start_time": "2024-10-12T05:58:57.038Z"
   },
   {
    "duration": 75,
    "start_time": "2024-10-12T05:58:57.057Z"
   },
   {
    "duration": 2,
    "start_time": "2024-10-12T05:58:57.134Z"
   },
   {
    "duration": 440,
    "start_time": "2024-10-12T05:58:57.138Z"
   },
   {
    "duration": 0,
    "start_time": "2024-10-12T05:58:57.580Z"
   },
   {
    "duration": 0,
    "start_time": "2024-10-12T05:58:57.581Z"
   },
   {
    "duration": 0,
    "start_time": "2024-10-12T05:58:57.583Z"
   },
   {
    "duration": 0,
    "start_time": "2024-10-12T05:58:57.585Z"
   },
   {
    "duration": 0,
    "start_time": "2024-10-12T05:58:57.586Z"
   },
   {
    "duration": 0,
    "start_time": "2024-10-12T05:58:57.587Z"
   },
   {
    "duration": 0,
    "start_time": "2024-10-12T05:58:57.589Z"
   },
   {
    "duration": 0,
    "start_time": "2024-10-12T05:58:57.590Z"
   },
   {
    "duration": 0,
    "start_time": "2024-10-12T05:58:57.632Z"
   },
   {
    "duration": 0,
    "start_time": "2024-10-12T05:58:57.633Z"
   },
   {
    "duration": 0,
    "start_time": "2024-10-12T05:58:57.634Z"
   },
   {
    "duration": 0,
    "start_time": "2024-10-12T05:58:57.635Z"
   },
   {
    "duration": 0,
    "start_time": "2024-10-12T05:58:57.635Z"
   },
   {
    "duration": 0,
    "start_time": "2024-10-12T05:58:57.636Z"
   },
   {
    "duration": 0,
    "start_time": "2024-10-12T05:58:57.638Z"
   },
   {
    "duration": 0,
    "start_time": "2024-10-12T05:58:57.639Z"
   },
   {
    "duration": 0,
    "start_time": "2024-10-12T05:58:57.640Z"
   },
   {
    "duration": 0,
    "start_time": "2024-10-12T05:58:57.641Z"
   },
   {
    "duration": 0,
    "start_time": "2024-10-12T05:58:57.642Z"
   },
   {
    "duration": 0,
    "start_time": "2024-10-12T05:58:57.643Z"
   },
   {
    "duration": 0,
    "start_time": "2024-10-12T05:58:57.645Z"
   },
   {
    "duration": 22,
    "start_time": "2024-10-12T05:59:49.022Z"
   },
   {
    "duration": 812,
    "start_time": "2024-10-12T05:59:57.220Z"
   },
   {
    "duration": 29,
    "start_time": "2024-10-12T05:59:58.034Z"
   },
   {
    "duration": 78,
    "start_time": "2024-10-12T05:59:58.064Z"
   },
   {
    "duration": 6,
    "start_time": "2024-10-12T05:59:58.144Z"
   },
   {
    "duration": 22,
    "start_time": "2024-10-12T05:59:58.154Z"
   },
   {
    "duration": 28,
    "start_time": "2024-10-12T05:59:58.232Z"
   },
   {
    "duration": 69,
    "start_time": "2024-10-12T05:59:58.262Z"
   },
   {
    "duration": 18,
    "start_time": "2024-10-12T05:59:58.333Z"
   },
   {
    "duration": 6,
    "start_time": "2024-10-12T05:59:58.353Z"
   },
   {
    "duration": 81,
    "start_time": "2024-10-12T05:59:58.361Z"
   },
   {
    "duration": 21,
    "start_time": "2024-10-12T05:59:58.444Z"
   },
   {
    "duration": 82,
    "start_time": "2024-10-12T05:59:58.467Z"
   },
   {
    "duration": 2,
    "start_time": "2024-10-12T05:59:58.551Z"
   },
   {
    "duration": 382,
    "start_time": "2024-10-12T05:59:58.557Z"
   },
   {
    "duration": 0,
    "start_time": "2024-10-12T05:59:58.941Z"
   },
   {
    "duration": 0,
    "start_time": "2024-10-12T05:59:58.942Z"
   },
   {
    "duration": 0,
    "start_time": "2024-10-12T05:59:58.943Z"
   },
   {
    "duration": 0,
    "start_time": "2024-10-12T05:59:58.945Z"
   },
   {
    "duration": 0,
    "start_time": "2024-10-12T05:59:58.946Z"
   },
   {
    "duration": 0,
    "start_time": "2024-10-12T05:59:58.947Z"
   },
   {
    "duration": 0,
    "start_time": "2024-10-12T05:59:58.949Z"
   },
   {
    "duration": 0,
    "start_time": "2024-10-12T05:59:58.950Z"
   },
   {
    "duration": 0,
    "start_time": "2024-10-12T05:59:58.951Z"
   },
   {
    "duration": 0,
    "start_time": "2024-10-12T05:59:58.952Z"
   },
   {
    "duration": 0,
    "start_time": "2024-10-12T05:59:58.953Z"
   },
   {
    "duration": 0,
    "start_time": "2024-10-12T05:59:58.954Z"
   },
   {
    "duration": 0,
    "start_time": "2024-10-12T05:59:58.955Z"
   },
   {
    "duration": 0,
    "start_time": "2024-10-12T05:59:58.956Z"
   },
   {
    "duration": 0,
    "start_time": "2024-10-12T05:59:58.956Z"
   },
   {
    "duration": 0,
    "start_time": "2024-10-12T05:59:58.957Z"
   },
   {
    "duration": 0,
    "start_time": "2024-10-12T05:59:58.958Z"
   },
   {
    "duration": 0,
    "start_time": "2024-10-12T05:59:58.959Z"
   },
   {
    "duration": 0,
    "start_time": "2024-10-12T05:59:58.960Z"
   },
   {
    "duration": 0,
    "start_time": "2024-10-12T05:59:58.961Z"
   },
   {
    "duration": 0,
    "start_time": "2024-10-12T05:59:58.962Z"
   },
   {
    "duration": 17,
    "start_time": "2024-10-12T06:02:14.699Z"
   },
   {
    "duration": 17,
    "start_time": "2024-10-12T06:03:05.480Z"
   },
   {
    "duration": 24,
    "start_time": "2024-10-12T06:03:23.284Z"
   },
   {
    "duration": 1096,
    "start_time": "2024-10-12T06:03:29.874Z"
   },
   {
    "duration": 75,
    "start_time": "2024-10-12T06:03:30.973Z"
   },
   {
    "duration": 19,
    "start_time": "2024-10-12T06:03:31.050Z"
   },
   {
    "duration": 4,
    "start_time": "2024-10-12T06:03:31.071Z"
   },
   {
    "duration": 17,
    "start_time": "2024-10-12T06:03:31.077Z"
   },
   {
    "duration": 19,
    "start_time": "2024-10-12T06:03:31.132Z"
   },
   {
    "duration": 12,
    "start_time": "2024-10-12T06:03:31.152Z"
   },
   {
    "duration": 9,
    "start_time": "2024-10-12T06:03:31.165Z"
   },
   {
    "duration": 6,
    "start_time": "2024-10-12T06:03:31.176Z"
   },
   {
    "duration": 47,
    "start_time": "2024-10-12T06:03:31.186Z"
   },
   {
    "duration": 23,
    "start_time": "2024-10-12T06:03:31.234Z"
   },
   {
    "duration": 2,
    "start_time": "2024-10-12T06:03:31.259Z"
   },
   {
    "duration": 238,
    "start_time": "2024-10-12T06:03:31.263Z"
   },
   {
    "duration": 0,
    "start_time": "2024-10-12T06:03:31.503Z"
   },
   {
    "duration": 0,
    "start_time": "2024-10-12T06:03:31.504Z"
   },
   {
    "duration": 1,
    "start_time": "2024-10-12T06:03:31.505Z"
   },
   {
    "duration": 0,
    "start_time": "2024-10-12T06:03:31.507Z"
   },
   {
    "duration": 0,
    "start_time": "2024-10-12T06:03:31.509Z"
   },
   {
    "duration": 0,
    "start_time": "2024-10-12T06:03:31.510Z"
   },
   {
    "duration": 0,
    "start_time": "2024-10-12T06:03:31.512Z"
   },
   {
    "duration": 0,
    "start_time": "2024-10-12T06:03:31.513Z"
   },
   {
    "duration": 0,
    "start_time": "2024-10-12T06:03:31.531Z"
   },
   {
    "duration": 0,
    "start_time": "2024-10-12T06:03:31.533Z"
   },
   {
    "duration": 0,
    "start_time": "2024-10-12T06:03:31.534Z"
   },
   {
    "duration": 0,
    "start_time": "2024-10-12T06:03:31.536Z"
   },
   {
    "duration": 0,
    "start_time": "2024-10-12T06:03:31.538Z"
   },
   {
    "duration": 0,
    "start_time": "2024-10-12T06:03:31.539Z"
   },
   {
    "duration": 0,
    "start_time": "2024-10-12T06:03:31.541Z"
   },
   {
    "duration": 1,
    "start_time": "2024-10-12T06:03:31.542Z"
   },
   {
    "duration": 0,
    "start_time": "2024-10-12T06:03:31.544Z"
   },
   {
    "duration": 0,
    "start_time": "2024-10-12T06:03:31.545Z"
   },
   {
    "duration": 0,
    "start_time": "2024-10-12T06:03:31.547Z"
   },
   {
    "duration": 0,
    "start_time": "2024-10-12T06:03:31.549Z"
   },
   {
    "duration": 0,
    "start_time": "2024-10-12T06:03:31.550Z"
   },
   {
    "duration": 807,
    "start_time": "2024-10-12T06:04:33.848Z"
   },
   {
    "duration": 25,
    "start_time": "2024-10-12T06:04:34.658Z"
   },
   {
    "duration": 19,
    "start_time": "2024-10-12T06:04:34.685Z"
   },
   {
    "duration": 4,
    "start_time": "2024-10-12T06:04:34.706Z"
   },
   {
    "duration": 16,
    "start_time": "2024-10-12T06:04:34.732Z"
   },
   {
    "duration": 17,
    "start_time": "2024-10-12T06:04:34.749Z"
   },
   {
    "duration": 13,
    "start_time": "2024-10-12T06:04:34.768Z"
   },
   {
    "duration": 10,
    "start_time": "2024-10-12T06:04:34.783Z"
   },
   {
    "duration": 7,
    "start_time": "2024-10-12T06:04:34.794Z"
   },
   {
    "duration": 18,
    "start_time": "2024-10-12T06:04:34.834Z"
   },
   {
    "duration": 86,
    "start_time": "2024-10-12T06:04:34.854Z"
   },
   {
    "duration": 3,
    "start_time": "2024-10-12T06:04:34.942Z"
   },
   {
    "duration": 686,
    "start_time": "2024-10-12T06:04:34.947Z"
   },
   {
    "duration": 0,
    "start_time": "2024-10-12T06:04:35.635Z"
   },
   {
    "duration": 0,
    "start_time": "2024-10-12T06:04:35.636Z"
   },
   {
    "duration": 0,
    "start_time": "2024-10-12T06:04:35.637Z"
   },
   {
    "duration": 0,
    "start_time": "2024-10-12T06:04:35.639Z"
   },
   {
    "duration": 0,
    "start_time": "2024-10-12T06:04:35.640Z"
   },
   {
    "duration": 0,
    "start_time": "2024-10-12T06:04:35.641Z"
   },
   {
    "duration": 0,
    "start_time": "2024-10-12T06:04:35.642Z"
   },
   {
    "duration": 0,
    "start_time": "2024-10-12T06:04:35.643Z"
   },
   {
    "duration": 0,
    "start_time": "2024-10-12T06:04:35.644Z"
   },
   {
    "duration": 0,
    "start_time": "2024-10-12T06:04:35.646Z"
   },
   {
    "duration": 0,
    "start_time": "2024-10-12T06:04:35.647Z"
   },
   {
    "duration": 0,
    "start_time": "2024-10-12T06:04:35.648Z"
   },
   {
    "duration": 0,
    "start_time": "2024-10-12T06:04:35.649Z"
   },
   {
    "duration": 0,
    "start_time": "2024-10-12T06:04:35.650Z"
   },
   {
    "duration": 0,
    "start_time": "2024-10-12T06:04:35.651Z"
   },
   {
    "duration": 0,
    "start_time": "2024-10-12T06:04:35.652Z"
   },
   {
    "duration": 0,
    "start_time": "2024-10-12T06:04:35.653Z"
   },
   {
    "duration": 0,
    "start_time": "2024-10-12T06:04:35.654Z"
   },
   {
    "duration": 0,
    "start_time": "2024-10-12T06:04:35.655Z"
   },
   {
    "duration": 0,
    "start_time": "2024-10-12T06:04:35.656Z"
   },
   {
    "duration": 0,
    "start_time": "2024-10-12T06:04:35.657Z"
   },
   {
    "duration": 443,
    "start_time": "2024-10-12T06:07:10.635Z"
   },
   {
    "duration": 1008,
    "start_time": "2024-10-12T06:07:17.846Z"
   },
   {
    "duration": 77,
    "start_time": "2024-10-12T06:07:18.856Z"
   },
   {
    "duration": 30,
    "start_time": "2024-10-12T06:07:18.935Z"
   },
   {
    "duration": 4,
    "start_time": "2024-10-12T06:07:18.967Z"
   },
   {
    "duration": 62,
    "start_time": "2024-10-12T06:07:18.975Z"
   },
   {
    "duration": 21,
    "start_time": "2024-10-12T06:07:19.039Z"
   },
   {
    "duration": 12,
    "start_time": "2024-10-12T06:07:19.062Z"
   },
   {
    "duration": 65,
    "start_time": "2024-10-12T06:07:19.075Z"
   },
   {
    "duration": 7,
    "start_time": "2024-10-12T06:07:19.142Z"
   },
   {
    "duration": 22,
    "start_time": "2024-10-12T06:07:19.150Z"
   },
   {
    "duration": 77,
    "start_time": "2024-10-12T06:07:19.174Z"
   },
   {
    "duration": 2,
    "start_time": "2024-10-12T06:07:19.253Z"
   },
   {
    "duration": 228,
    "start_time": "2024-10-12T06:07:19.257Z"
   },
   {
    "duration": 0,
    "start_time": "2024-10-12T06:07:19.487Z"
   },
   {
    "duration": 0,
    "start_time": "2024-10-12T06:07:19.488Z"
   },
   {
    "duration": 0,
    "start_time": "2024-10-12T06:07:19.489Z"
   },
   {
    "duration": 0,
    "start_time": "2024-10-12T06:07:19.490Z"
   },
   {
    "duration": 0,
    "start_time": "2024-10-12T06:07:19.491Z"
   },
   {
    "duration": 0,
    "start_time": "2024-10-12T06:07:19.492Z"
   },
   {
    "duration": 0,
    "start_time": "2024-10-12T06:07:19.493Z"
   },
   {
    "duration": 0,
    "start_time": "2024-10-12T06:07:19.494Z"
   },
   {
    "duration": 0,
    "start_time": "2024-10-12T06:07:19.495Z"
   },
   {
    "duration": 0,
    "start_time": "2024-10-12T06:07:19.496Z"
   },
   {
    "duration": 0,
    "start_time": "2024-10-12T06:07:19.497Z"
   },
   {
    "duration": 0,
    "start_time": "2024-10-12T06:07:19.498Z"
   },
   {
    "duration": 0,
    "start_time": "2024-10-12T06:07:19.499Z"
   },
   {
    "duration": 0,
    "start_time": "2024-10-12T06:07:19.500Z"
   },
   {
    "duration": 0,
    "start_time": "2024-10-12T06:07:19.502Z"
   },
   {
    "duration": 0,
    "start_time": "2024-10-12T06:07:19.503Z"
   },
   {
    "duration": 0,
    "start_time": "2024-10-12T06:07:19.532Z"
   },
   {
    "duration": 0,
    "start_time": "2024-10-12T06:07:19.537Z"
   },
   {
    "duration": 0,
    "start_time": "2024-10-12T06:07:19.538Z"
   },
   {
    "duration": 0,
    "start_time": "2024-10-12T06:07:19.540Z"
   },
   {
    "duration": 0,
    "start_time": "2024-10-12T06:07:19.541Z"
   },
   {
    "duration": 783,
    "start_time": "2024-10-12T06:07:57.584Z"
   },
   {
    "duration": 24,
    "start_time": "2024-10-12T06:07:58.369Z"
   },
   {
    "duration": 20,
    "start_time": "2024-10-12T06:07:58.395Z"
   },
   {
    "duration": 6,
    "start_time": "2024-10-12T06:07:58.431Z"
   },
   {
    "duration": 16,
    "start_time": "2024-10-12T06:07:58.438Z"
   },
   {
    "duration": 16,
    "start_time": "2024-10-12T06:07:58.456Z"
   },
   {
    "duration": 70,
    "start_time": "2024-10-12T06:07:58.475Z"
   },
   {
    "duration": 10,
    "start_time": "2024-10-12T06:07:58.548Z"
   },
   {
    "duration": 7,
    "start_time": "2024-10-12T06:07:58.561Z"
   },
   {
    "duration": 74,
    "start_time": "2024-10-12T06:07:58.573Z"
   },
   {
    "duration": 27,
    "start_time": "2024-10-12T06:07:58.649Z"
   },
   {
    "duration": 53,
    "start_time": "2024-10-12T06:07:58.679Z"
   },
   {
    "duration": 429,
    "start_time": "2024-10-12T06:07:58.734Z"
   },
   {
    "duration": 0,
    "start_time": "2024-10-12T06:07:59.165Z"
   },
   {
    "duration": 0,
    "start_time": "2024-10-12T06:07:59.167Z"
   },
   {
    "duration": 0,
    "start_time": "2024-10-12T06:07:59.168Z"
   },
   {
    "duration": 0,
    "start_time": "2024-10-12T06:07:59.169Z"
   },
   {
    "duration": 0,
    "start_time": "2024-10-12T06:07:59.170Z"
   },
   {
    "duration": 0,
    "start_time": "2024-10-12T06:07:59.171Z"
   },
   {
    "duration": 0,
    "start_time": "2024-10-12T06:07:59.172Z"
   },
   {
    "duration": 0,
    "start_time": "2024-10-12T06:07:59.173Z"
   },
   {
    "duration": 0,
    "start_time": "2024-10-12T06:07:59.174Z"
   },
   {
    "duration": 0,
    "start_time": "2024-10-12T06:07:59.176Z"
   },
   {
    "duration": 0,
    "start_time": "2024-10-12T06:07:59.232Z"
   },
   {
    "duration": 0,
    "start_time": "2024-10-12T06:07:59.233Z"
   },
   {
    "duration": 0,
    "start_time": "2024-10-12T06:07:59.235Z"
   },
   {
    "duration": 0,
    "start_time": "2024-10-12T06:07:59.236Z"
   },
   {
    "duration": 0,
    "start_time": "2024-10-12T06:07:59.239Z"
   },
   {
    "duration": 0,
    "start_time": "2024-10-12T06:07:59.240Z"
   },
   {
    "duration": 0,
    "start_time": "2024-10-12T06:07:59.242Z"
   },
   {
    "duration": 0,
    "start_time": "2024-10-12T06:07:59.243Z"
   },
   {
    "duration": 0,
    "start_time": "2024-10-12T06:07:59.245Z"
   },
   {
    "duration": 0,
    "start_time": "2024-10-12T06:07:59.246Z"
   },
   {
    "duration": 0,
    "start_time": "2024-10-12T06:07:59.247Z"
   },
   {
    "duration": 1101,
    "start_time": "2024-10-12T06:09:29.541Z"
   },
   {
    "duration": 25,
    "start_time": "2024-10-12T06:09:30.644Z"
   },
   {
    "duration": 80,
    "start_time": "2024-10-12T06:09:30.670Z"
   },
   {
    "duration": 4,
    "start_time": "2024-10-12T06:09:30.751Z"
   },
   {
    "duration": 74,
    "start_time": "2024-10-12T06:09:30.759Z"
   },
   {
    "duration": 23,
    "start_time": "2024-10-12T06:09:30.835Z"
   },
   {
    "duration": 16,
    "start_time": "2024-10-12T06:09:30.861Z"
   },
   {
    "duration": 15,
    "start_time": "2024-10-12T06:09:30.933Z"
   },
   {
    "duration": 7,
    "start_time": "2024-10-12T06:09:30.950Z"
   },
   {
    "duration": 16,
    "start_time": "2024-10-12T06:09:30.959Z"
   },
   {
    "duration": 73,
    "start_time": "2024-10-12T06:09:30.976Z"
   },
   {
    "duration": 2,
    "start_time": "2024-10-12T06:09:31.051Z"
   },
   {
    "duration": 238,
    "start_time": "2024-10-12T06:09:31.055Z"
   },
   {
    "duration": 0,
    "start_time": "2024-10-12T06:09:31.296Z"
   },
   {
    "duration": 0,
    "start_time": "2024-10-12T06:09:31.296Z"
   },
   {
    "duration": 0,
    "start_time": "2024-10-12T06:09:31.297Z"
   },
   {
    "duration": 0,
    "start_time": "2024-10-12T06:09:31.299Z"
   },
   {
    "duration": 0,
    "start_time": "2024-10-12T06:09:31.299Z"
   },
   {
    "duration": 1,
    "start_time": "2024-10-12T06:09:31.303Z"
   },
   {
    "duration": 0,
    "start_time": "2024-10-12T06:09:31.305Z"
   },
   {
    "duration": 0,
    "start_time": "2024-10-12T06:09:31.306Z"
   },
   {
    "duration": 0,
    "start_time": "2024-10-12T06:09:31.308Z"
   },
   {
    "duration": 0,
    "start_time": "2024-10-12T06:09:31.332Z"
   },
   {
    "duration": 0,
    "start_time": "2024-10-12T06:09:31.333Z"
   },
   {
    "duration": 0,
    "start_time": "2024-10-12T06:09:31.335Z"
   },
   {
    "duration": 0,
    "start_time": "2024-10-12T06:09:31.336Z"
   },
   {
    "duration": 0,
    "start_time": "2024-10-12T06:09:31.338Z"
   },
   {
    "duration": 0,
    "start_time": "2024-10-12T06:09:31.339Z"
   },
   {
    "duration": 0,
    "start_time": "2024-10-12T06:09:31.340Z"
   },
   {
    "duration": 0,
    "start_time": "2024-10-12T06:09:31.342Z"
   },
   {
    "duration": 0,
    "start_time": "2024-10-12T06:09:31.344Z"
   },
   {
    "duration": 0,
    "start_time": "2024-10-12T06:09:31.346Z"
   },
   {
    "duration": 0,
    "start_time": "2024-10-12T06:09:31.347Z"
   },
   {
    "duration": 0,
    "start_time": "2024-10-12T06:09:31.349Z"
   },
   {
    "duration": 750,
    "start_time": "2024-10-12T06:10:09.612Z"
   },
   {
    "duration": 24,
    "start_time": "2024-10-12T06:10:10.365Z"
   },
   {
    "duration": 22,
    "start_time": "2024-10-12T06:10:10.391Z"
   },
   {
    "duration": 18,
    "start_time": "2024-10-12T06:10:10.416Z"
   },
   {
    "duration": 20,
    "start_time": "2024-10-12T06:10:10.438Z"
   },
   {
    "duration": 19,
    "start_time": "2024-10-12T06:10:10.460Z"
   },
   {
    "duration": 12,
    "start_time": "2024-10-12T06:10:10.481Z"
   },
   {
    "duration": 40,
    "start_time": "2024-10-12T06:10:10.495Z"
   },
   {
    "duration": 33,
    "start_time": "2024-10-12T06:10:10.537Z"
   },
   {
    "duration": 18,
    "start_time": "2024-10-12T06:10:10.573Z"
   },
   {
    "duration": 29,
    "start_time": "2024-10-12T06:10:10.593Z"
   },
   {
    "duration": 2,
    "start_time": "2024-10-12T06:10:10.624Z"
   },
   {
    "duration": 223,
    "start_time": "2024-10-12T06:10:10.628Z"
   },
   {
    "duration": 0,
    "start_time": "2024-10-12T06:10:10.854Z"
   },
   {
    "duration": 0,
    "start_time": "2024-10-12T06:10:10.855Z"
   },
   {
    "duration": 0,
    "start_time": "2024-10-12T06:10:10.856Z"
   },
   {
    "duration": 0,
    "start_time": "2024-10-12T06:10:10.857Z"
   },
   {
    "duration": 0,
    "start_time": "2024-10-12T06:10:10.858Z"
   },
   {
    "duration": 0,
    "start_time": "2024-10-12T06:10:10.859Z"
   },
   {
    "duration": 0,
    "start_time": "2024-10-12T06:10:10.860Z"
   },
   {
    "duration": 0,
    "start_time": "2024-10-12T06:10:10.861Z"
   },
   {
    "duration": 0,
    "start_time": "2024-10-12T06:10:10.862Z"
   },
   {
    "duration": 0,
    "start_time": "2024-10-12T06:10:10.863Z"
   },
   {
    "duration": 0,
    "start_time": "2024-10-12T06:10:10.864Z"
   },
   {
    "duration": 0,
    "start_time": "2024-10-12T06:10:10.865Z"
   },
   {
    "duration": 0,
    "start_time": "2024-10-12T06:10:10.866Z"
   },
   {
    "duration": 0,
    "start_time": "2024-10-12T06:10:10.868Z"
   },
   {
    "duration": 0,
    "start_time": "2024-10-12T06:10:10.869Z"
   },
   {
    "duration": 0,
    "start_time": "2024-10-12T06:10:10.870Z"
   },
   {
    "duration": 0,
    "start_time": "2024-10-12T06:10:10.872Z"
   },
   {
    "duration": 0,
    "start_time": "2024-10-12T06:10:10.873Z"
   },
   {
    "duration": 0,
    "start_time": "2024-10-12T06:10:10.874Z"
   },
   {
    "duration": 0,
    "start_time": "2024-10-12T06:10:10.875Z"
   },
   {
    "duration": 0,
    "start_time": "2024-10-12T06:10:10.876Z"
   },
   {
    "duration": 5,
    "start_time": "2024-10-12T06:11:39.290Z"
   },
   {
    "duration": 15,
    "start_time": "2024-10-12T06:12:07.814Z"
   },
   {
    "duration": 16,
    "start_time": "2024-10-12T06:12:22.233Z"
   },
   {
    "duration": 18,
    "start_time": "2024-10-12T06:12:29.895Z"
   },
   {
    "duration": 16,
    "start_time": "2024-10-12T06:21:01.794Z"
   },
   {
    "duration": 758,
    "start_time": "2024-10-12T06:21:08.005Z"
   },
   {
    "duration": 28,
    "start_time": "2024-10-12T06:21:08.765Z"
   },
   {
    "duration": 19,
    "start_time": "2024-10-12T06:21:08.795Z"
   },
   {
    "duration": 18,
    "start_time": "2024-10-12T06:21:08.817Z"
   },
   {
    "duration": 17,
    "start_time": "2024-10-12T06:21:08.837Z"
   },
   {
    "duration": 21,
    "start_time": "2024-10-12T06:21:08.856Z"
   },
   {
    "duration": 12,
    "start_time": "2024-10-12T06:21:08.879Z"
   },
   {
    "duration": 39,
    "start_time": "2024-10-12T06:21:08.893Z"
   },
   {
    "duration": 7,
    "start_time": "2024-10-12T06:21:08.935Z"
   },
   {
    "duration": 16,
    "start_time": "2024-10-12T06:21:08.945Z"
   },
   {
    "duration": 29,
    "start_time": "2024-10-12T06:21:08.963Z"
   },
   {
    "duration": 53,
    "start_time": "2024-10-12T06:21:08.994Z"
   },
   {
    "duration": 593,
    "start_time": "2024-10-12T06:21:09.049Z"
   },
   {
    "duration": 0,
    "start_time": "2024-10-12T06:21:09.644Z"
   },
   {
    "duration": 0,
    "start_time": "2024-10-12T06:21:09.645Z"
   },
   {
    "duration": 0,
    "start_time": "2024-10-12T06:21:09.646Z"
   },
   {
    "duration": 0,
    "start_time": "2024-10-12T06:21:09.646Z"
   },
   {
    "duration": 0,
    "start_time": "2024-10-12T06:21:09.647Z"
   },
   {
    "duration": 0,
    "start_time": "2024-10-12T06:21:09.649Z"
   },
   {
    "duration": 0,
    "start_time": "2024-10-12T06:21:09.649Z"
   },
   {
    "duration": 0,
    "start_time": "2024-10-12T06:21:09.651Z"
   },
   {
    "duration": 0,
    "start_time": "2024-10-12T06:21:09.651Z"
   },
   {
    "duration": 0,
    "start_time": "2024-10-12T06:21:09.652Z"
   },
   {
    "duration": 0,
    "start_time": "2024-10-12T06:21:09.654Z"
   },
   {
    "duration": 0,
    "start_time": "2024-10-12T06:21:09.655Z"
   },
   {
    "duration": 0,
    "start_time": "2024-10-12T06:21:09.655Z"
   },
   {
    "duration": 0,
    "start_time": "2024-10-12T06:21:09.656Z"
   },
   {
    "duration": 0,
    "start_time": "2024-10-12T06:21:09.657Z"
   },
   {
    "duration": 0,
    "start_time": "2024-10-12T06:21:09.658Z"
   },
   {
    "duration": 0,
    "start_time": "2024-10-12T06:21:09.659Z"
   },
   {
    "duration": 0,
    "start_time": "2024-10-12T06:21:09.661Z"
   },
   {
    "duration": 0,
    "start_time": "2024-10-12T06:21:09.662Z"
   },
   {
    "duration": 760,
    "start_time": "2024-10-12T06:22:46.001Z"
   },
   {
    "duration": 25,
    "start_time": "2024-10-12T06:22:46.764Z"
   },
   {
    "duration": 43,
    "start_time": "2024-10-12T06:22:46.791Z"
   },
   {
    "duration": 5,
    "start_time": "2024-10-12T06:22:46.836Z"
   },
   {
    "duration": 16,
    "start_time": "2024-10-12T06:22:46.842Z"
   },
   {
    "duration": 77,
    "start_time": "2024-10-12T06:22:46.859Z"
   },
   {
    "duration": 11,
    "start_time": "2024-10-12T06:22:46.937Z"
   },
   {
    "duration": 13,
    "start_time": "2024-10-12T06:22:46.950Z"
   },
   {
    "duration": 6,
    "start_time": "2024-10-12T06:22:46.966Z"
   },
   {
    "duration": 76,
    "start_time": "2024-10-12T06:22:46.976Z"
   },
   {
    "duration": 84,
    "start_time": "2024-10-12T06:22:47.053Z"
   },
   {
    "duration": 29,
    "start_time": "2024-10-12T06:22:47.140Z"
   },
   {
    "duration": 483,
    "start_time": "2024-10-12T06:22:47.171Z"
   },
   {
    "duration": 0,
    "start_time": "2024-10-12T06:22:47.656Z"
   },
   {
    "duration": 0,
    "start_time": "2024-10-12T06:22:47.657Z"
   },
   {
    "duration": 0,
    "start_time": "2024-10-12T06:22:47.658Z"
   },
   {
    "duration": 0,
    "start_time": "2024-10-12T06:22:47.661Z"
   },
   {
    "duration": 0,
    "start_time": "2024-10-12T06:22:47.662Z"
   },
   {
    "duration": 0,
    "start_time": "2024-10-12T06:22:47.663Z"
   },
   {
    "duration": 0,
    "start_time": "2024-10-12T06:22:47.664Z"
   },
   {
    "duration": 0,
    "start_time": "2024-10-12T06:22:47.665Z"
   },
   {
    "duration": 0,
    "start_time": "2024-10-12T06:22:47.666Z"
   },
   {
    "duration": 0,
    "start_time": "2024-10-12T06:22:47.676Z"
   },
   {
    "duration": 0,
    "start_time": "2024-10-12T06:22:47.678Z"
   },
   {
    "duration": 0,
    "start_time": "2024-10-12T06:22:47.679Z"
   },
   {
    "duration": 0,
    "start_time": "2024-10-12T06:22:47.681Z"
   },
   {
    "duration": 0,
    "start_time": "2024-10-12T06:22:47.682Z"
   },
   {
    "duration": 0,
    "start_time": "2024-10-12T06:22:47.684Z"
   },
   {
    "duration": 0,
    "start_time": "2024-10-12T06:22:47.685Z"
   },
   {
    "duration": 0,
    "start_time": "2024-10-12T06:22:47.686Z"
   },
   {
    "duration": 0,
    "start_time": "2024-10-12T06:22:47.687Z"
   },
   {
    "duration": 0,
    "start_time": "2024-10-12T06:22:47.688Z"
   },
   {
    "duration": 13,
    "start_time": "2024-10-12T06:24:03.029Z"
   },
   {
    "duration": 13,
    "start_time": "2024-10-12T06:26:14.442Z"
   },
   {
    "duration": 31,
    "start_time": "2024-10-12T06:26:17.470Z"
   },
   {
    "duration": 425,
    "start_time": "2024-10-12T06:26:35.012Z"
   },
   {
    "duration": 830,
    "start_time": "2024-10-12T06:26:48.501Z"
   },
   {
    "duration": 36,
    "start_time": "2024-10-12T06:26:49.334Z"
   },
   {
    "duration": 80,
    "start_time": "2024-10-12T06:26:49.372Z"
   },
   {
    "duration": 4,
    "start_time": "2024-10-12T06:26:49.454Z"
   },
   {
    "duration": 22,
    "start_time": "2024-10-12T06:26:49.460Z"
   },
   {
    "duration": 62,
    "start_time": "2024-10-12T06:26:49.484Z"
   },
   {
    "duration": 12,
    "start_time": "2024-10-12T06:26:49.548Z"
   },
   {
    "duration": 10,
    "start_time": "2024-10-12T06:26:49.561Z"
   },
   {
    "duration": 62,
    "start_time": "2024-10-12T06:26:49.573Z"
   },
   {
    "duration": 17,
    "start_time": "2024-10-12T06:26:49.638Z"
   },
   {
    "duration": 84,
    "start_time": "2024-10-12T06:26:49.657Z"
   },
   {
    "duration": 24,
    "start_time": "2024-10-12T06:26:49.743Z"
   },
   {
    "duration": 70,
    "start_time": "2024-10-12T06:26:49.770Z"
   },
   {
    "duration": 101,
    "start_time": "2024-10-12T06:26:49.842Z"
   },
   {
    "duration": 359,
    "start_time": "2024-10-12T06:26:49.945Z"
   },
   {
    "duration": 0,
    "start_time": "2024-10-12T06:26:50.307Z"
   },
   {
    "duration": 0,
    "start_time": "2024-10-12T06:26:50.308Z"
   },
   {
    "duration": 0,
    "start_time": "2024-10-12T06:26:50.309Z"
   },
   {
    "duration": 0,
    "start_time": "2024-10-12T06:26:50.310Z"
   },
   {
    "duration": 0,
    "start_time": "2024-10-12T06:26:50.311Z"
   },
   {
    "duration": 0,
    "start_time": "2024-10-12T06:26:50.312Z"
   },
   {
    "duration": 0,
    "start_time": "2024-10-12T06:26:50.313Z"
   },
   {
    "duration": 0,
    "start_time": "2024-10-12T06:26:50.314Z"
   },
   {
    "duration": 0,
    "start_time": "2024-10-12T06:26:50.332Z"
   },
   {
    "duration": 0,
    "start_time": "2024-10-12T06:26:50.333Z"
   },
   {
    "duration": 0,
    "start_time": "2024-10-12T06:26:50.334Z"
   },
   {
    "duration": 0,
    "start_time": "2024-10-12T06:26:50.335Z"
   },
   {
    "duration": 0,
    "start_time": "2024-10-12T06:26:50.336Z"
   },
   {
    "duration": 0,
    "start_time": "2024-10-12T06:26:50.338Z"
   },
   {
    "duration": 0,
    "start_time": "2024-10-12T06:26:50.339Z"
   },
   {
    "duration": 0,
    "start_time": "2024-10-12T06:26:50.340Z"
   },
   {
    "duration": 0,
    "start_time": "2024-10-12T06:26:50.341Z"
   },
   {
    "duration": 0,
    "start_time": "2024-10-12T06:26:50.342Z"
   },
   {
    "duration": 0,
    "start_time": "2024-10-12T06:26:50.343Z"
   },
   {
    "duration": 801,
    "start_time": "2024-10-12T06:28:29.446Z"
   },
   {
    "duration": 24,
    "start_time": "2024-10-12T06:28:30.250Z"
   },
   {
    "duration": 18,
    "start_time": "2024-10-12T06:28:30.275Z"
   },
   {
    "duration": 4,
    "start_time": "2024-10-12T06:28:30.295Z"
   },
   {
    "duration": 37,
    "start_time": "2024-10-12T06:28:30.302Z"
   },
   {
    "duration": 18,
    "start_time": "2024-10-12T06:28:30.341Z"
   },
   {
    "duration": 11,
    "start_time": "2024-10-12T06:28:30.361Z"
   },
   {
    "duration": 11,
    "start_time": "2024-10-12T06:28:30.374Z"
   },
   {
    "duration": 6,
    "start_time": "2024-10-12T06:28:30.387Z"
   },
   {
    "duration": 49,
    "start_time": "2024-10-12T06:28:30.394Z"
   },
   {
    "duration": 30,
    "start_time": "2024-10-12T06:28:30.445Z"
   },
   {
    "duration": 19,
    "start_time": "2024-10-12T06:28:30.477Z"
   },
   {
    "duration": 39,
    "start_time": "2024-10-12T06:28:30.497Z"
   },
   {
    "duration": 30,
    "start_time": "2024-10-12T06:28:30.540Z"
   },
   {
    "duration": 238,
    "start_time": "2024-10-12T06:28:30.572Z"
   },
   {
    "duration": 0,
    "start_time": "2024-10-12T06:28:30.812Z"
   },
   {
    "duration": 0,
    "start_time": "2024-10-12T06:28:30.814Z"
   },
   {
    "duration": 0,
    "start_time": "2024-10-12T06:28:30.815Z"
   },
   {
    "duration": 0,
    "start_time": "2024-10-12T06:28:30.817Z"
   },
   {
    "duration": 0,
    "start_time": "2024-10-12T06:28:30.818Z"
   },
   {
    "duration": 0,
    "start_time": "2024-10-12T06:28:30.831Z"
   },
   {
    "duration": 0,
    "start_time": "2024-10-12T06:28:30.832Z"
   },
   {
    "duration": 0,
    "start_time": "2024-10-12T06:28:30.834Z"
   },
   {
    "duration": 0,
    "start_time": "2024-10-12T06:28:30.835Z"
   },
   {
    "duration": 0,
    "start_time": "2024-10-12T06:28:30.837Z"
   },
   {
    "duration": 0,
    "start_time": "2024-10-12T06:28:30.838Z"
   },
   {
    "duration": 0,
    "start_time": "2024-10-12T06:28:30.840Z"
   },
   {
    "duration": 0,
    "start_time": "2024-10-12T06:28:30.841Z"
   },
   {
    "duration": 0,
    "start_time": "2024-10-12T06:28:30.842Z"
   },
   {
    "duration": 0,
    "start_time": "2024-10-12T06:28:30.844Z"
   },
   {
    "duration": 0,
    "start_time": "2024-10-12T06:28:30.845Z"
   },
   {
    "duration": 0,
    "start_time": "2024-10-12T06:28:30.847Z"
   },
   {
    "duration": 0,
    "start_time": "2024-10-12T06:28:30.848Z"
   },
   {
    "duration": 0,
    "start_time": "2024-10-12T06:28:30.849Z"
   },
   {
    "duration": 7,
    "start_time": "2024-10-12T06:29:32.717Z"
   },
   {
    "duration": 8,
    "start_time": "2024-10-12T06:33:29.102Z"
   },
   {
    "duration": 893,
    "start_time": "2024-10-12T06:33:43.154Z"
   },
   {
    "duration": 24,
    "start_time": "2024-10-12T06:33:44.049Z"
   },
   {
    "duration": 19,
    "start_time": "2024-10-12T06:33:44.075Z"
   },
   {
    "duration": 4,
    "start_time": "2024-10-12T06:33:44.096Z"
   },
   {
    "duration": 38,
    "start_time": "2024-10-12T06:33:44.102Z"
   },
   {
    "duration": 18,
    "start_time": "2024-10-12T06:33:44.141Z"
   },
   {
    "duration": 11,
    "start_time": "2024-10-12T06:33:44.161Z"
   },
   {
    "duration": 11,
    "start_time": "2024-10-12T06:33:44.174Z"
   },
   {
    "duration": 6,
    "start_time": "2024-10-12T06:33:44.186Z"
   },
   {
    "duration": 50,
    "start_time": "2024-10-12T06:33:44.195Z"
   },
   {
    "duration": 31,
    "start_time": "2024-10-12T06:33:44.247Z"
   },
   {
    "duration": 9,
    "start_time": "2024-10-12T06:33:44.279Z"
   },
   {
    "duration": 47,
    "start_time": "2024-10-12T06:33:44.289Z"
   },
   {
    "duration": 12,
    "start_time": "2024-10-12T06:33:44.338Z"
   },
   {
    "duration": 30,
    "start_time": "2024-10-12T06:33:44.352Z"
   },
   {
    "duration": 239,
    "start_time": "2024-10-12T06:33:44.384Z"
   },
   {
    "duration": 0,
    "start_time": "2024-10-12T06:33:44.625Z"
   },
   {
    "duration": 0,
    "start_time": "2024-10-12T06:33:44.631Z"
   },
   {
    "duration": 0,
    "start_time": "2024-10-12T06:33:44.633Z"
   },
   {
    "duration": 0,
    "start_time": "2024-10-12T06:33:44.634Z"
   },
   {
    "duration": 0,
    "start_time": "2024-10-12T06:33:44.636Z"
   },
   {
    "duration": 0,
    "start_time": "2024-10-12T06:33:44.637Z"
   },
   {
    "duration": 0,
    "start_time": "2024-10-12T06:33:44.639Z"
   },
   {
    "duration": 0,
    "start_time": "2024-10-12T06:33:44.640Z"
   },
   {
    "duration": 0,
    "start_time": "2024-10-12T06:33:44.642Z"
   },
   {
    "duration": 0,
    "start_time": "2024-10-12T06:33:44.643Z"
   },
   {
    "duration": 0,
    "start_time": "2024-10-12T06:33:44.644Z"
   },
   {
    "duration": 0,
    "start_time": "2024-10-12T06:33:44.646Z"
   },
   {
    "duration": 0,
    "start_time": "2024-10-12T06:33:44.647Z"
   },
   {
    "duration": 0,
    "start_time": "2024-10-12T06:33:44.649Z"
   },
   {
    "duration": 0,
    "start_time": "2024-10-12T06:33:44.650Z"
   },
   {
    "duration": 0,
    "start_time": "2024-10-12T06:33:44.652Z"
   },
   {
    "duration": 0,
    "start_time": "2024-10-12T06:33:44.653Z"
   },
   {
    "duration": 0,
    "start_time": "2024-10-12T06:33:44.655Z"
   },
   {
    "duration": 0,
    "start_time": "2024-10-12T06:33:44.656Z"
   },
   {
    "duration": 9,
    "start_time": "2024-10-12T06:36:05.332Z"
   },
   {
    "duration": 783,
    "start_time": "2024-10-12T06:41:27.968Z"
   },
   {
    "duration": 25,
    "start_time": "2024-10-12T06:41:28.754Z"
   },
   {
    "duration": 19,
    "start_time": "2024-10-12T06:41:28.781Z"
   },
   {
    "duration": 5,
    "start_time": "2024-10-12T06:41:28.802Z"
   },
   {
    "duration": 34,
    "start_time": "2024-10-12T06:41:28.808Z"
   },
   {
    "duration": 18,
    "start_time": "2024-10-12T06:41:28.844Z"
   },
   {
    "duration": 10,
    "start_time": "2024-10-12T06:41:28.864Z"
   },
   {
    "duration": 10,
    "start_time": "2024-10-12T06:41:28.876Z"
   },
   {
    "duration": 5,
    "start_time": "2024-10-12T06:41:28.888Z"
   },
   {
    "duration": 17,
    "start_time": "2024-10-12T06:41:28.931Z"
   },
   {
    "duration": 32,
    "start_time": "2024-10-12T06:41:28.949Z"
   },
   {
    "duration": 9,
    "start_time": "2024-10-12T06:41:28.982Z"
   },
   {
    "duration": 9,
    "start_time": "2024-10-12T06:41:28.993Z"
   },
   {
    "duration": 12,
    "start_time": "2024-10-12T06:41:29.032Z"
   },
   {
    "duration": 12,
    "start_time": "2024-10-12T06:41:29.046Z"
   },
   {
    "duration": 32,
    "start_time": "2024-10-12T06:41:29.060Z"
   },
   {
    "duration": 254,
    "start_time": "2024-10-12T06:41:29.094Z"
   },
   {
    "duration": 0,
    "start_time": "2024-10-12T06:41:29.350Z"
   },
   {
    "duration": 0,
    "start_time": "2024-10-12T06:41:29.352Z"
   },
   {
    "duration": 0,
    "start_time": "2024-10-12T06:41:29.353Z"
   },
   {
    "duration": 0,
    "start_time": "2024-10-12T06:41:29.354Z"
   },
   {
    "duration": 0,
    "start_time": "2024-10-12T06:41:29.355Z"
   },
   {
    "duration": 0,
    "start_time": "2024-10-12T06:41:29.357Z"
   },
   {
    "duration": 0,
    "start_time": "2024-10-12T06:41:29.358Z"
   },
   {
    "duration": 0,
    "start_time": "2024-10-12T06:41:29.359Z"
   },
   {
    "duration": 0,
    "start_time": "2024-10-12T06:41:29.360Z"
   },
   {
    "duration": 0,
    "start_time": "2024-10-12T06:41:29.361Z"
   },
   {
    "duration": 0,
    "start_time": "2024-10-12T06:41:29.363Z"
   },
   {
    "duration": 0,
    "start_time": "2024-10-12T06:41:29.364Z"
   },
   {
    "duration": 0,
    "start_time": "2024-10-12T06:41:29.365Z"
   },
   {
    "duration": 0,
    "start_time": "2024-10-12T06:41:29.367Z"
   },
   {
    "duration": 0,
    "start_time": "2024-10-12T06:41:29.370Z"
   },
   {
    "duration": 0,
    "start_time": "2024-10-12T06:41:29.371Z"
   },
   {
    "duration": 0,
    "start_time": "2024-10-12T06:41:29.373Z"
   },
   {
    "duration": 0,
    "start_time": "2024-10-12T06:41:29.375Z"
   },
   {
    "duration": 0,
    "start_time": "2024-10-12T06:41:29.376Z"
   },
   {
    "duration": 451,
    "start_time": "2024-10-12T06:41:58.018Z"
   },
   {
    "duration": 893,
    "start_time": "2024-10-12T06:42:03.876Z"
   },
   {
    "duration": 81,
    "start_time": "2024-10-12T06:42:04.771Z"
   },
   {
    "duration": 19,
    "start_time": "2024-10-12T06:42:04.854Z"
   },
   {
    "duration": 59,
    "start_time": "2024-10-12T06:42:04.874Z"
   },
   {
    "duration": 22,
    "start_time": "2024-10-12T06:42:04.937Z"
   },
   {
    "duration": 75,
    "start_time": "2024-10-12T06:42:04.961Z"
   },
   {
    "duration": 17,
    "start_time": "2024-10-12T06:42:05.038Z"
   },
   {
    "duration": 15,
    "start_time": "2024-10-12T06:42:05.057Z"
   },
   {
    "duration": 59,
    "start_time": "2024-10-12T06:42:05.073Z"
   },
   {
    "duration": 17,
    "start_time": "2024-10-12T06:42:05.134Z"
   },
   {
    "duration": 93,
    "start_time": "2024-10-12T06:42:05.153Z"
   },
   {
    "duration": 9,
    "start_time": "2024-10-12T06:42:05.249Z"
   },
   {
    "duration": 9,
    "start_time": "2024-10-12T06:42:05.260Z"
   },
   {
    "duration": 68,
    "start_time": "2024-10-12T06:42:05.273Z"
   },
   {
    "duration": 14,
    "start_time": "2024-10-12T06:42:05.343Z"
   },
   {
    "duration": 79,
    "start_time": "2024-10-12T06:42:05.359Z"
   },
   {
    "duration": 265,
    "start_time": "2024-10-12T06:42:05.440Z"
   },
   {
    "duration": 0,
    "start_time": "2024-10-12T06:42:05.707Z"
   },
   {
    "duration": 0,
    "start_time": "2024-10-12T06:42:05.709Z"
   },
   {
    "duration": 0,
    "start_time": "2024-10-12T06:42:05.711Z"
   },
   {
    "duration": 0,
    "start_time": "2024-10-12T06:42:05.712Z"
   },
   {
    "duration": 0,
    "start_time": "2024-10-12T06:42:05.714Z"
   },
   {
    "duration": 0,
    "start_time": "2024-10-12T06:42:05.715Z"
   },
   {
    "duration": 1,
    "start_time": "2024-10-12T06:42:05.716Z"
   },
   {
    "duration": 0,
    "start_time": "2024-10-12T06:42:05.731Z"
   },
   {
    "duration": 0,
    "start_time": "2024-10-12T06:42:05.732Z"
   },
   {
    "duration": 0,
    "start_time": "2024-10-12T06:42:05.733Z"
   },
   {
    "duration": 0,
    "start_time": "2024-10-12T06:42:05.735Z"
   },
   {
    "duration": 0,
    "start_time": "2024-10-12T06:42:05.735Z"
   },
   {
    "duration": 0,
    "start_time": "2024-10-12T06:42:05.737Z"
   },
   {
    "duration": 0,
    "start_time": "2024-10-12T06:42:05.738Z"
   },
   {
    "duration": 0,
    "start_time": "2024-10-12T06:42:05.740Z"
   },
   {
    "duration": 1,
    "start_time": "2024-10-12T06:42:05.741Z"
   },
   {
    "duration": 0,
    "start_time": "2024-10-12T06:42:05.743Z"
   },
   {
    "duration": 0,
    "start_time": "2024-10-12T06:42:05.745Z"
   },
   {
    "duration": 0,
    "start_time": "2024-10-12T06:42:05.747Z"
   },
   {
    "duration": 800,
    "start_time": "2024-10-12T06:43:51.750Z"
   },
   {
    "duration": 43,
    "start_time": "2024-10-12T06:43:52.552Z"
   },
   {
    "duration": 19,
    "start_time": "2024-10-12T06:43:52.596Z"
   },
   {
    "duration": 4,
    "start_time": "2024-10-12T06:43:52.617Z"
   },
   {
    "duration": 19,
    "start_time": "2024-10-12T06:43:52.623Z"
   },
   {
    "duration": 17,
    "start_time": "2024-10-12T06:43:52.644Z"
   },
   {
    "duration": 68,
    "start_time": "2024-10-12T06:43:52.663Z"
   },
   {
    "duration": 14,
    "start_time": "2024-10-12T06:43:52.734Z"
   },
   {
    "duration": 6,
    "start_time": "2024-10-12T06:43:52.751Z"
   },
   {
    "duration": 72,
    "start_time": "2024-10-12T06:43:52.759Z"
   },
   {
    "duration": 32,
    "start_time": "2024-10-12T06:43:52.833Z"
   },
   {
    "duration": 12,
    "start_time": "2024-10-12T06:43:52.868Z"
   },
   {
    "duration": 58,
    "start_time": "2024-10-12T06:43:52.881Z"
   },
   {
    "duration": 11,
    "start_time": "2024-10-12T06:43:52.941Z"
   },
   {
    "duration": 20,
    "start_time": "2024-10-12T06:43:52.953Z"
   },
   {
    "duration": 94,
    "start_time": "2024-10-12T06:43:52.974Z"
   },
   {
    "duration": 481,
    "start_time": "2024-10-12T06:43:53.070Z"
   },
   {
    "duration": 0,
    "start_time": "2024-10-12T06:43:53.554Z"
   },
   {
    "duration": 0,
    "start_time": "2024-10-12T06:43:53.555Z"
   },
   {
    "duration": 0,
    "start_time": "2024-10-12T06:43:53.556Z"
   },
   {
    "duration": 0,
    "start_time": "2024-10-12T06:43:53.558Z"
   },
   {
    "duration": 0,
    "start_time": "2024-10-12T06:43:53.559Z"
   },
   {
    "duration": 0,
    "start_time": "2024-10-12T06:43:53.560Z"
   },
   {
    "duration": 0,
    "start_time": "2024-10-12T06:43:53.561Z"
   },
   {
    "duration": 0,
    "start_time": "2024-10-12T06:43:53.562Z"
   },
   {
    "duration": 0,
    "start_time": "2024-10-12T06:43:53.563Z"
   },
   {
    "duration": 0,
    "start_time": "2024-10-12T06:43:53.564Z"
   },
   {
    "duration": 0,
    "start_time": "2024-10-12T06:43:53.565Z"
   },
   {
    "duration": 0,
    "start_time": "2024-10-12T06:43:53.566Z"
   },
   {
    "duration": 0,
    "start_time": "2024-10-12T06:43:53.567Z"
   },
   {
    "duration": 0,
    "start_time": "2024-10-12T06:43:53.568Z"
   },
   {
    "duration": 0,
    "start_time": "2024-10-12T06:43:53.569Z"
   },
   {
    "duration": 0,
    "start_time": "2024-10-12T06:43:53.570Z"
   },
   {
    "duration": 0,
    "start_time": "2024-10-12T06:43:53.571Z"
   },
   {
    "duration": 0,
    "start_time": "2024-10-12T06:43:53.572Z"
   },
   {
    "duration": 0,
    "start_time": "2024-10-12T06:43:53.573Z"
   },
   {
    "duration": 445,
    "start_time": "2024-10-12T06:45:13.169Z"
   },
   {
    "duration": 1222,
    "start_time": "2024-10-12T06:45:18.462Z"
   },
   {
    "duration": 25,
    "start_time": "2024-10-12T06:45:19.686Z"
   },
   {
    "duration": 28,
    "start_time": "2024-10-12T06:45:19.713Z"
   },
   {
    "duration": 4,
    "start_time": "2024-10-12T06:45:19.743Z"
   },
   {
    "duration": 22,
    "start_time": "2024-10-12T06:45:19.749Z"
   },
   {
    "duration": 22,
    "start_time": "2024-10-12T06:45:19.773Z"
   },
   {
    "duration": 39,
    "start_time": "2024-10-12T06:45:19.797Z"
   },
   {
    "duration": 12,
    "start_time": "2024-10-12T06:45:19.838Z"
   },
   {
    "duration": 6,
    "start_time": "2024-10-12T06:45:19.852Z"
   },
   {
    "duration": 17,
    "start_time": "2024-10-12T06:45:19.861Z"
   },
   {
    "duration": 64,
    "start_time": "2024-10-12T06:45:19.880Z"
   },
   {
    "duration": 10,
    "start_time": "2024-10-12T06:45:19.946Z"
   },
   {
    "duration": 9,
    "start_time": "2024-10-12T06:45:19.957Z"
   },
   {
    "duration": 11,
    "start_time": "2024-10-12T06:45:19.967Z"
   },
   {
    "duration": 13,
    "start_time": "2024-10-12T06:45:19.980Z"
   },
   {
    "duration": 58,
    "start_time": "2024-10-12T06:45:19.994Z"
   },
   {
    "duration": 233,
    "start_time": "2024-10-12T06:45:20.054Z"
   },
   {
    "duration": 0,
    "start_time": "2024-10-12T06:45:20.290Z"
   },
   {
    "duration": 0,
    "start_time": "2024-10-12T06:45:20.291Z"
   },
   {
    "duration": 0,
    "start_time": "2024-10-12T06:45:20.293Z"
   },
   {
    "duration": 0,
    "start_time": "2024-10-12T06:45:20.294Z"
   },
   {
    "duration": 0,
    "start_time": "2024-10-12T06:45:20.296Z"
   },
   {
    "duration": 0,
    "start_time": "2024-10-12T06:45:20.297Z"
   },
   {
    "duration": 0,
    "start_time": "2024-10-12T06:45:20.299Z"
   },
   {
    "duration": 0,
    "start_time": "2024-10-12T06:45:20.300Z"
   },
   {
    "duration": 0,
    "start_time": "2024-10-12T06:45:20.302Z"
   },
   {
    "duration": 0,
    "start_time": "2024-10-12T06:45:20.303Z"
   },
   {
    "duration": 0,
    "start_time": "2024-10-12T06:45:20.305Z"
   },
   {
    "duration": 0,
    "start_time": "2024-10-12T06:45:20.306Z"
   },
   {
    "duration": 0,
    "start_time": "2024-10-12T06:45:20.331Z"
   },
   {
    "duration": 0,
    "start_time": "2024-10-12T06:45:20.333Z"
   },
   {
    "duration": 0,
    "start_time": "2024-10-12T06:45:20.334Z"
   },
   {
    "duration": 0,
    "start_time": "2024-10-12T06:45:20.336Z"
   },
   {
    "duration": 0,
    "start_time": "2024-10-12T06:45:20.336Z"
   },
   {
    "duration": 0,
    "start_time": "2024-10-12T06:45:20.337Z"
   },
   {
    "duration": 0,
    "start_time": "2024-10-12T06:45:20.338Z"
   },
   {
    "duration": 735,
    "start_time": "2024-10-12T06:47:09.212Z"
   },
   {
    "duration": 26,
    "start_time": "2024-10-12T06:47:09.949Z"
   },
   {
    "duration": 24,
    "start_time": "2024-10-12T06:47:09.977Z"
   },
   {
    "duration": 4,
    "start_time": "2024-10-12T06:47:10.004Z"
   },
   {
    "duration": 34,
    "start_time": "2024-10-12T06:47:10.010Z"
   },
   {
    "duration": 17,
    "start_time": "2024-10-12T06:47:10.045Z"
   },
   {
    "duration": 11,
    "start_time": "2024-10-12T06:47:10.064Z"
   },
   {
    "duration": 13,
    "start_time": "2024-10-12T06:47:10.076Z"
   },
   {
    "duration": 5,
    "start_time": "2024-10-12T06:47:10.091Z"
   },
   {
    "duration": 46,
    "start_time": "2024-10-12T06:47:10.100Z"
   },
   {
    "duration": 32,
    "start_time": "2024-10-12T06:47:10.147Z"
   },
   {
    "duration": 9,
    "start_time": "2024-10-12T06:47:10.180Z"
   },
   {
    "duration": 10,
    "start_time": "2024-10-12T06:47:10.190Z"
   },
   {
    "duration": 47,
    "start_time": "2024-10-12T06:47:10.202Z"
   },
   {
    "duration": 14,
    "start_time": "2024-10-12T06:47:10.251Z"
   },
   {
    "duration": 26,
    "start_time": "2024-10-12T06:47:10.267Z"
   },
   {
    "duration": 279,
    "start_time": "2024-10-12T06:47:10.295Z"
   },
   {
    "duration": 0,
    "start_time": "2024-10-12T06:47:10.576Z"
   },
   {
    "duration": 0,
    "start_time": "2024-10-12T06:47:10.578Z"
   },
   {
    "duration": 0,
    "start_time": "2024-10-12T06:47:10.579Z"
   },
   {
    "duration": 0,
    "start_time": "2024-10-12T06:47:10.632Z"
   },
   {
    "duration": 0,
    "start_time": "2024-10-12T06:47:10.633Z"
   },
   {
    "duration": 0,
    "start_time": "2024-10-12T06:47:10.634Z"
   },
   {
    "duration": 0,
    "start_time": "2024-10-12T06:47:10.635Z"
   },
   {
    "duration": 0,
    "start_time": "2024-10-12T06:47:10.636Z"
   },
   {
    "duration": 0,
    "start_time": "2024-10-12T06:47:10.637Z"
   },
   {
    "duration": 0,
    "start_time": "2024-10-12T06:47:10.638Z"
   },
   {
    "duration": 0,
    "start_time": "2024-10-12T06:47:10.639Z"
   },
   {
    "duration": 0,
    "start_time": "2024-10-12T06:47:10.640Z"
   },
   {
    "duration": 0,
    "start_time": "2024-10-12T06:47:10.641Z"
   },
   {
    "duration": 0,
    "start_time": "2024-10-12T06:47:10.642Z"
   },
   {
    "duration": 0,
    "start_time": "2024-10-12T06:47:10.643Z"
   },
   {
    "duration": 0,
    "start_time": "2024-10-12T06:47:10.644Z"
   },
   {
    "duration": 0,
    "start_time": "2024-10-12T06:47:10.645Z"
   },
   {
    "duration": 0,
    "start_time": "2024-10-12T06:47:10.646Z"
   },
   {
    "duration": 0,
    "start_time": "2024-10-12T06:47:10.647Z"
   },
   {
    "duration": 776,
    "start_time": "2024-10-12T06:48:19.776Z"
   },
   {
    "duration": 77,
    "start_time": "2024-10-12T06:48:20.554Z"
   },
   {
    "duration": 27,
    "start_time": "2024-10-12T06:48:20.634Z"
   },
   {
    "duration": 4,
    "start_time": "2024-10-12T06:48:20.663Z"
   },
   {
    "duration": 69,
    "start_time": "2024-10-12T06:48:20.669Z"
   },
   {
    "duration": 18,
    "start_time": "2024-10-12T06:48:20.740Z"
   },
   {
    "duration": 12,
    "start_time": "2024-10-12T06:48:20.759Z"
   },
   {
    "duration": 65,
    "start_time": "2024-10-12T06:48:20.772Z"
   },
   {
    "duration": 6,
    "start_time": "2024-10-12T06:48:20.839Z"
   },
   {
    "duration": 16,
    "start_time": "2024-10-12T06:48:20.846Z"
   },
   {
    "duration": 87,
    "start_time": "2024-10-12T06:48:20.863Z"
   },
   {
    "duration": 10,
    "start_time": "2024-10-12T06:48:20.952Z"
   },
   {
    "duration": 9,
    "start_time": "2024-10-12T06:48:20.964Z"
   },
   {
    "duration": 302,
    "start_time": "2024-10-12T06:48:21.030Z"
   },
   {
    "duration": 0,
    "start_time": "2024-10-12T06:48:21.334Z"
   },
   {
    "duration": 0,
    "start_time": "2024-10-12T06:48:21.335Z"
   },
   {
    "duration": 0,
    "start_time": "2024-10-12T06:48:21.337Z"
   },
   {
    "duration": 0,
    "start_time": "2024-10-12T06:48:21.338Z"
   },
   {
    "duration": 0,
    "start_time": "2024-10-12T06:48:21.340Z"
   },
   {
    "duration": 0,
    "start_time": "2024-10-12T06:48:21.341Z"
   },
   {
    "duration": 0,
    "start_time": "2024-10-12T06:48:21.342Z"
   },
   {
    "duration": 0,
    "start_time": "2024-10-12T06:48:21.343Z"
   },
   {
    "duration": 0,
    "start_time": "2024-10-12T06:48:21.344Z"
   },
   {
    "duration": 0,
    "start_time": "2024-10-12T06:48:21.345Z"
   },
   {
    "duration": 0,
    "start_time": "2024-10-12T06:48:21.346Z"
   },
   {
    "duration": 0,
    "start_time": "2024-10-12T06:48:21.347Z"
   },
   {
    "duration": 0,
    "start_time": "2024-10-12T06:48:21.348Z"
   },
   {
    "duration": 0,
    "start_time": "2024-10-12T06:48:21.349Z"
   },
   {
    "duration": 0,
    "start_time": "2024-10-12T06:48:21.350Z"
   },
   {
    "duration": 0,
    "start_time": "2024-10-12T06:48:21.351Z"
   },
   {
    "duration": 0,
    "start_time": "2024-10-12T06:48:21.352Z"
   },
   {
    "duration": 0,
    "start_time": "2024-10-12T06:48:21.353Z"
   },
   {
    "duration": 0,
    "start_time": "2024-10-12T06:48:21.354Z"
   },
   {
    "duration": 0,
    "start_time": "2024-10-12T06:48:21.355Z"
   },
   {
    "duration": 0,
    "start_time": "2024-10-12T06:48:21.356Z"
   },
   {
    "duration": 0,
    "start_time": "2024-10-12T06:48:21.357Z"
   },
   {
    "duration": 751,
    "start_time": "2024-10-12T06:48:33.304Z"
   },
   {
    "duration": 24,
    "start_time": "2024-10-12T06:48:34.057Z"
   },
   {
    "duration": 20,
    "start_time": "2024-10-12T06:48:34.082Z"
   },
   {
    "duration": 4,
    "start_time": "2024-10-12T06:48:34.104Z"
   },
   {
    "duration": 33,
    "start_time": "2024-10-12T06:48:34.110Z"
   },
   {
    "duration": 17,
    "start_time": "2024-10-12T06:48:34.144Z"
   },
   {
    "duration": 11,
    "start_time": "2024-10-12T06:48:34.162Z"
   },
   {
    "duration": 10,
    "start_time": "2024-10-12T06:48:34.175Z"
   },
   {
    "duration": 6,
    "start_time": "2024-10-12T06:48:34.187Z"
   },
   {
    "duration": 49,
    "start_time": "2024-10-12T06:48:34.197Z"
   },
   {
    "duration": 30,
    "start_time": "2024-10-12T06:48:34.248Z"
   },
   {
    "duration": 9,
    "start_time": "2024-10-12T06:48:34.279Z"
   },
   {
    "duration": 9,
    "start_time": "2024-10-12T06:48:34.289Z"
   },
   {
    "duration": 48,
    "start_time": "2024-10-12T06:48:34.300Z"
   },
   {
    "duration": 12,
    "start_time": "2024-10-12T06:48:34.350Z"
   },
   {
    "duration": 28,
    "start_time": "2024-10-12T06:48:34.365Z"
   },
   {
    "duration": 240,
    "start_time": "2024-10-12T06:48:34.395Z"
   },
   {
    "duration": 0,
    "start_time": "2024-10-12T06:48:34.638Z"
   },
   {
    "duration": 0,
    "start_time": "2024-10-12T06:48:34.639Z"
   },
   {
    "duration": 0,
    "start_time": "2024-10-12T06:48:34.641Z"
   },
   {
    "duration": 0,
    "start_time": "2024-10-12T06:48:34.643Z"
   },
   {
    "duration": 0,
    "start_time": "2024-10-12T06:48:34.643Z"
   },
   {
    "duration": 0,
    "start_time": "2024-10-12T06:48:34.644Z"
   },
   {
    "duration": 0,
    "start_time": "2024-10-12T06:48:34.646Z"
   },
   {
    "duration": 0,
    "start_time": "2024-10-12T06:48:34.647Z"
   },
   {
    "duration": 0,
    "start_time": "2024-10-12T06:48:34.648Z"
   },
   {
    "duration": 0,
    "start_time": "2024-10-12T06:48:34.649Z"
   },
   {
    "duration": 0,
    "start_time": "2024-10-12T06:48:34.650Z"
   },
   {
    "duration": 0,
    "start_time": "2024-10-12T06:48:34.651Z"
   },
   {
    "duration": 0,
    "start_time": "2024-10-12T06:48:34.652Z"
   },
   {
    "duration": 0,
    "start_time": "2024-10-12T06:48:34.653Z"
   },
   {
    "duration": 0,
    "start_time": "2024-10-12T06:48:34.656Z"
   },
   {
    "duration": 0,
    "start_time": "2024-10-12T06:48:34.657Z"
   },
   {
    "duration": 0,
    "start_time": "2024-10-12T06:48:34.659Z"
   },
   {
    "duration": 0,
    "start_time": "2024-10-12T06:48:34.660Z"
   },
   {
    "duration": 0,
    "start_time": "2024-10-12T06:48:34.662Z"
   },
   {
    "duration": 9,
    "start_time": "2024-10-12T06:50:05.187Z"
   },
   {
    "duration": 4,
    "start_time": "2024-10-12T07:01:40.437Z"
   },
   {
    "duration": 6,
    "start_time": "2024-10-12T07:01:54.621Z"
   },
   {
    "duration": 6,
    "start_time": "2024-10-12T07:02:26.165Z"
   },
   {
    "duration": 8,
    "start_time": "2024-10-12T07:02:47.919Z"
   },
   {
    "duration": 2487,
    "start_time": "2024-10-13T05:26:37.983Z"
   },
   {
    "duration": 37,
    "start_time": "2024-10-13T05:26:40.473Z"
   },
   {
    "duration": 18,
    "start_time": "2024-10-13T05:26:40.511Z"
   },
   {
    "duration": 5,
    "start_time": "2024-10-13T05:26:40.530Z"
   },
   {
    "duration": 15,
    "start_time": "2024-10-13T05:26:40.537Z"
   },
   {
    "duration": 38,
    "start_time": "2024-10-13T05:26:40.553Z"
   },
   {
    "duration": 11,
    "start_time": "2024-10-13T05:26:40.593Z"
   },
   {
    "duration": 10,
    "start_time": "2024-10-13T05:26:40.605Z"
   },
   {
    "duration": 5,
    "start_time": "2024-10-13T05:26:40.617Z"
   },
   {
    "duration": 15,
    "start_time": "2024-10-13T05:26:40.624Z"
   },
   {
    "duration": 56,
    "start_time": "2024-10-13T05:26:40.640Z"
   },
   {
    "duration": 8,
    "start_time": "2024-10-13T05:26:40.698Z"
   },
   {
    "duration": 9,
    "start_time": "2024-10-13T05:26:40.707Z"
   },
   {
    "duration": 19,
    "start_time": "2024-10-13T05:26:40.720Z"
   },
   {
    "duration": 37,
    "start_time": "2024-10-13T05:26:40.741Z"
   },
   {
    "duration": 26,
    "start_time": "2024-10-13T05:26:40.780Z"
   },
   {
    "duration": 8,
    "start_time": "2024-10-13T05:26:40.808Z"
   },
   {
    "duration": 6,
    "start_time": "2024-10-13T05:26:40.817Z"
   },
   {
    "duration": 238,
    "start_time": "2024-10-13T05:26:40.825Z"
   },
   {
    "duration": 0,
    "start_time": "2024-10-13T05:26:41.069Z"
   },
   {
    "duration": 0,
    "start_time": "2024-10-13T05:26:41.070Z"
   },
   {
    "duration": 0,
    "start_time": "2024-10-13T05:26:41.071Z"
   },
   {
    "duration": 0,
    "start_time": "2024-10-13T05:26:41.072Z"
   },
   {
    "duration": 0,
    "start_time": "2024-10-13T05:26:41.073Z"
   },
   {
    "duration": 0,
    "start_time": "2024-10-13T05:26:41.074Z"
   },
   {
    "duration": 0,
    "start_time": "2024-10-13T05:26:41.074Z"
   },
   {
    "duration": 0,
    "start_time": "2024-10-13T05:26:41.076Z"
   },
   {
    "duration": 0,
    "start_time": "2024-10-13T05:26:41.077Z"
   },
   {
    "duration": 1,
    "start_time": "2024-10-13T05:26:41.078Z"
   },
   {
    "duration": 0,
    "start_time": "2024-10-13T05:26:41.080Z"
   },
   {
    "duration": 0,
    "start_time": "2024-10-13T05:26:41.082Z"
   },
   {
    "duration": 0,
    "start_time": "2024-10-13T05:26:41.083Z"
   },
   {
    "duration": 0,
    "start_time": "2024-10-13T05:26:41.085Z"
   },
   {
    "duration": 0,
    "start_time": "2024-10-13T05:26:41.087Z"
   },
   {
    "duration": 0,
    "start_time": "2024-10-13T05:26:41.088Z"
   },
   {
    "duration": 0,
    "start_time": "2024-10-13T05:26:41.089Z"
   },
   {
    "duration": 0,
    "start_time": "2024-10-13T05:26:41.091Z"
   },
   {
    "duration": 0,
    "start_time": "2024-10-13T05:26:41.092Z"
   },
   {
    "duration": 6,
    "start_time": "2024-10-13T05:27:24.451Z"
   },
   {
    "duration": 9,
    "start_time": "2024-10-13T05:29:34.732Z"
   },
   {
    "duration": 9,
    "start_time": "2024-10-13T05:29:48.802Z"
   },
   {
    "duration": 10,
    "start_time": "2024-10-13T05:30:10.906Z"
   },
   {
    "duration": 767,
    "start_time": "2024-10-13T05:30:52.983Z"
   },
   {
    "duration": 29,
    "start_time": "2024-10-13T05:30:53.752Z"
   },
   {
    "duration": 17,
    "start_time": "2024-10-13T05:30:53.782Z"
   },
   {
    "duration": 4,
    "start_time": "2024-10-13T05:30:53.802Z"
   },
   {
    "duration": 19,
    "start_time": "2024-10-13T05:30:53.807Z"
   },
   {
    "duration": 18,
    "start_time": "2024-10-13T05:30:53.828Z"
   },
   {
    "duration": 12,
    "start_time": "2024-10-13T05:30:53.869Z"
   },
   {
    "duration": 9,
    "start_time": "2024-10-13T05:30:53.883Z"
   },
   {
    "duration": 5,
    "start_time": "2024-10-13T05:30:53.894Z"
   },
   {
    "duration": 15,
    "start_time": "2024-10-13T05:30:53.903Z"
   },
   {
    "duration": 63,
    "start_time": "2024-10-13T05:30:53.920Z"
   },
   {
    "duration": 7,
    "start_time": "2024-10-13T05:30:53.985Z"
   },
   {
    "duration": 8,
    "start_time": "2024-10-13T05:30:53.994Z"
   },
   {
    "duration": 17,
    "start_time": "2024-10-13T05:30:54.003Z"
   },
   {
    "duration": 13,
    "start_time": "2024-10-13T05:30:54.021Z"
   },
   {
    "duration": 55,
    "start_time": "2024-10-13T05:30:54.036Z"
   },
   {
    "duration": 7,
    "start_time": "2024-10-13T05:30:54.092Z"
   },
   {
    "duration": 5,
    "start_time": "2024-10-13T05:30:54.101Z"
   },
   {
    "duration": 8,
    "start_time": "2024-10-13T05:30:54.108Z"
   },
   {
    "duration": 235,
    "start_time": "2024-10-13T05:30:54.118Z"
   },
   {
    "duration": 0,
    "start_time": "2024-10-13T05:30:54.355Z"
   },
   {
    "duration": 0,
    "start_time": "2024-10-13T05:30:54.356Z"
   },
   {
    "duration": 0,
    "start_time": "2024-10-13T05:30:54.357Z"
   },
   {
    "duration": 0,
    "start_time": "2024-10-13T05:30:54.371Z"
   },
   {
    "duration": 0,
    "start_time": "2024-10-13T05:30:54.373Z"
   },
   {
    "duration": 0,
    "start_time": "2024-10-13T05:30:54.374Z"
   },
   {
    "duration": 0,
    "start_time": "2024-10-13T05:30:54.376Z"
   },
   {
    "duration": 0,
    "start_time": "2024-10-13T05:30:54.377Z"
   },
   {
    "duration": 0,
    "start_time": "2024-10-13T05:30:54.378Z"
   },
   {
    "duration": 0,
    "start_time": "2024-10-13T05:30:54.379Z"
   },
   {
    "duration": 0,
    "start_time": "2024-10-13T05:30:54.380Z"
   },
   {
    "duration": 0,
    "start_time": "2024-10-13T05:30:54.381Z"
   },
   {
    "duration": 0,
    "start_time": "2024-10-13T05:30:54.383Z"
   },
   {
    "duration": 0,
    "start_time": "2024-10-13T05:30:54.384Z"
   },
   {
    "duration": 0,
    "start_time": "2024-10-13T05:30:54.385Z"
   },
   {
    "duration": 0,
    "start_time": "2024-10-13T05:30:54.386Z"
   },
   {
    "duration": 0,
    "start_time": "2024-10-13T05:30:54.387Z"
   },
   {
    "duration": 0,
    "start_time": "2024-10-13T05:30:54.388Z"
   },
   {
    "duration": 0,
    "start_time": "2024-10-13T05:30:54.389Z"
   },
   {
    "duration": 754,
    "start_time": "2024-10-13T05:32:20.917Z"
   },
   {
    "duration": 24,
    "start_time": "2024-10-13T05:32:21.673Z"
   },
   {
    "duration": 18,
    "start_time": "2024-10-13T05:32:21.698Z"
   },
   {
    "duration": 4,
    "start_time": "2024-10-13T05:32:21.718Z"
   },
   {
    "duration": 16,
    "start_time": "2024-10-13T05:32:21.726Z"
   },
   {
    "duration": 41,
    "start_time": "2024-10-13T05:32:21.744Z"
   },
   {
    "duration": 11,
    "start_time": "2024-10-13T05:32:21.787Z"
   },
   {
    "duration": 10,
    "start_time": "2024-10-13T05:32:21.800Z"
   },
   {
    "duration": 5,
    "start_time": "2024-10-13T05:32:21.812Z"
   },
   {
    "duration": 15,
    "start_time": "2024-10-13T05:32:21.819Z"
   },
   {
    "duration": 32,
    "start_time": "2024-10-13T05:32:21.869Z"
   },
   {
    "duration": 7,
    "start_time": "2024-10-13T05:32:21.902Z"
   },
   {
    "duration": 9,
    "start_time": "2024-10-13T05:32:21.911Z"
   },
   {
    "duration": 20,
    "start_time": "2024-10-13T05:32:21.923Z"
   },
   {
    "duration": 14,
    "start_time": "2024-10-13T05:32:21.971Z"
   },
   {
    "duration": 26,
    "start_time": "2024-10-13T05:32:21.986Z"
   },
   {
    "duration": 8,
    "start_time": "2024-10-13T05:32:22.013Z"
   },
   {
    "duration": 7,
    "start_time": "2024-10-13T05:32:22.022Z"
   },
   {
    "duration": 8,
    "start_time": "2024-10-13T05:32:22.030Z"
   },
   {
    "duration": 233,
    "start_time": "2024-10-13T05:32:22.069Z"
   },
   {
    "duration": 0,
    "start_time": "2024-10-13T05:32:22.304Z"
   },
   {
    "duration": 0,
    "start_time": "2024-10-13T05:32:22.305Z"
   },
   {
    "duration": 0,
    "start_time": "2024-10-13T05:32:22.306Z"
   },
   {
    "duration": 0,
    "start_time": "2024-10-13T05:32:22.307Z"
   },
   {
    "duration": 0,
    "start_time": "2024-10-13T05:32:22.308Z"
   },
   {
    "duration": 0,
    "start_time": "2024-10-13T05:32:22.309Z"
   },
   {
    "duration": 0,
    "start_time": "2024-10-13T05:32:22.310Z"
   },
   {
    "duration": 0,
    "start_time": "2024-10-13T05:32:22.312Z"
   },
   {
    "duration": 0,
    "start_time": "2024-10-13T05:32:22.313Z"
   },
   {
    "duration": 0,
    "start_time": "2024-10-13T05:32:22.315Z"
   },
   {
    "duration": 0,
    "start_time": "2024-10-13T05:32:22.316Z"
   },
   {
    "duration": 0,
    "start_time": "2024-10-13T05:32:22.317Z"
   },
   {
    "duration": 0,
    "start_time": "2024-10-13T05:32:22.318Z"
   },
   {
    "duration": 0,
    "start_time": "2024-10-13T05:32:22.319Z"
   },
   {
    "duration": 0,
    "start_time": "2024-10-13T05:32:22.321Z"
   },
   {
    "duration": 0,
    "start_time": "2024-10-13T05:32:22.322Z"
   },
   {
    "duration": 0,
    "start_time": "2024-10-13T05:32:22.324Z"
   },
   {
    "duration": 0,
    "start_time": "2024-10-13T05:32:22.325Z"
   },
   {
    "duration": 0,
    "start_time": "2024-10-13T05:32:22.327Z"
   },
   {
    "duration": 23,
    "start_time": "2024-10-13T05:34:04.759Z"
   },
   {
    "duration": 23,
    "start_time": "2024-10-13T05:34:09.775Z"
   },
   {
    "duration": 22,
    "start_time": "2024-10-13T05:34:15.401Z"
   },
   {
    "duration": 16,
    "start_time": "2024-10-13T05:34:32.060Z"
   },
   {
    "duration": 27,
    "start_time": "2024-10-13T05:35:21.062Z"
   },
   {
    "duration": 29,
    "start_time": "2024-10-13T05:36:03.982Z"
   },
   {
    "duration": 29,
    "start_time": "2024-10-13T05:37:23.250Z"
   },
   {
    "duration": 29,
    "start_time": "2024-10-13T05:37:34.675Z"
   },
   {
    "duration": 21,
    "start_time": "2024-10-13T05:38:10.169Z"
   },
   {
    "duration": 7,
    "start_time": "2024-10-13T05:38:44.254Z"
   },
   {
    "duration": 5,
    "start_time": "2024-10-13T05:38:53.320Z"
   },
   {
    "duration": 286,
    "start_time": "2024-10-13T05:38:59.654Z"
   },
   {
    "duration": 445,
    "start_time": "2024-10-13T05:41:32.891Z"
   },
   {
    "duration": 445,
    "start_time": "2024-10-13T05:41:47.516Z"
   },
   {
    "duration": 498,
    "start_time": "2024-10-13T05:41:53.736Z"
   },
   {
    "duration": 435,
    "start_time": "2024-10-13T05:41:59.089Z"
   },
   {
    "duration": 18,
    "start_time": "2024-10-13T05:44:52.156Z"
   },
   {
    "duration": 18,
    "start_time": "2024-10-13T05:45:57.021Z"
   },
   {
    "duration": 17,
    "start_time": "2024-10-13T05:47:16.622Z"
   },
   {
    "duration": 3,
    "start_time": "2024-10-13T05:48:02.710Z"
   },
   {
    "duration": 4,
    "start_time": "2024-10-13T05:48:05.274Z"
   },
   {
    "duration": 3,
    "start_time": "2024-10-13T05:49:05.957Z"
   },
   {
    "duration": 3,
    "start_time": "2024-10-13T05:49:11.054Z"
   },
   {
    "duration": 15,
    "start_time": "2024-10-13T05:50:51.313Z"
   },
   {
    "duration": 17,
    "start_time": "2024-10-13T05:51:10.101Z"
   },
   {
    "duration": 16,
    "start_time": "2024-10-13T05:51:57.337Z"
   },
   {
    "duration": 17,
    "start_time": "2024-10-13T05:52:18.301Z"
   },
   {
    "duration": 10,
    "start_time": "2024-10-13T05:52:54.895Z"
   },
   {
    "duration": 274,
    "start_time": "2024-10-13T05:53:21.350Z"
   },
   {
    "duration": 358,
    "start_time": "2024-10-13T05:53:55.101Z"
   },
   {
    "duration": 6,
    "start_time": "2024-10-13T05:54:11.962Z"
   },
   {
    "duration": 12,
    "start_time": "2024-10-13T05:55:02.149Z"
   },
   {
    "duration": 18,
    "start_time": "2024-10-13T05:55:48.502Z"
   },
   {
    "duration": 2433,
    "start_time": "2024-10-14T04:09:35.121Z"
   },
   {
    "duration": 44,
    "start_time": "2024-10-14T04:09:37.556Z"
   },
   {
    "duration": 18,
    "start_time": "2024-10-14T04:09:37.602Z"
   },
   {
    "duration": 4,
    "start_time": "2024-10-14T04:09:37.622Z"
   },
   {
    "duration": 16,
    "start_time": "2024-10-14T04:09:37.627Z"
   },
   {
    "duration": 18,
    "start_time": "2024-10-14T04:09:37.645Z"
   },
   {
    "duration": 11,
    "start_time": "2024-10-14T04:09:37.665Z"
   },
   {
    "duration": 9,
    "start_time": "2024-10-14T04:09:37.678Z"
   },
   {
    "duration": 5,
    "start_time": "2024-10-14T04:09:37.689Z"
   },
   {
    "duration": 48,
    "start_time": "2024-10-14T04:09:37.697Z"
   },
   {
    "duration": 31,
    "start_time": "2024-10-14T04:09:37.747Z"
   },
   {
    "duration": 8,
    "start_time": "2024-10-14T04:09:37.780Z"
   },
   {
    "duration": 9,
    "start_time": "2024-10-14T04:09:37.789Z"
   },
   {
    "duration": 52,
    "start_time": "2024-10-14T04:09:37.799Z"
   },
   {
    "duration": 14,
    "start_time": "2024-10-14T04:09:37.853Z"
   },
   {
    "duration": 25,
    "start_time": "2024-10-14T04:09:37.869Z"
   },
   {
    "duration": 8,
    "start_time": "2024-10-14T04:09:37.897Z"
   },
   {
    "duration": 6,
    "start_time": "2024-10-14T04:09:37.907Z"
   },
   {
    "duration": 10,
    "start_time": "2024-10-14T04:09:37.943Z"
   },
   {
    "duration": 31,
    "start_time": "2024-10-14T04:09:37.955Z"
   },
   {
    "duration": 17,
    "start_time": "2024-10-14T04:09:37.987Z"
   },
   {
    "duration": 5,
    "start_time": "2024-10-14T04:09:38.005Z"
   },
   {
    "duration": 281,
    "start_time": "2024-10-14T04:09:38.012Z"
   },
   {
    "duration": 503,
    "start_time": "2024-10-14T04:09:38.295Z"
   },
   {
    "duration": 18,
    "start_time": "2024-10-14T04:09:38.800Z"
   },
   {
    "duration": 4,
    "start_time": "2024-10-14T04:09:38.820Z"
   },
   {
    "duration": 20,
    "start_time": "2024-10-14T04:09:38.825Z"
   },
   {
    "duration": 19,
    "start_time": "2024-10-14T04:09:38.850Z"
   },
   {
    "duration": 10,
    "start_time": "2024-10-14T04:09:38.870Z"
   },
   {
    "duration": 333,
    "start_time": "2024-10-14T04:09:38.882Z"
   },
   {
    "duration": 6,
    "start_time": "2024-10-14T04:09:39.217Z"
   },
   {
    "duration": 18,
    "start_time": "2024-10-14T04:09:39.227Z"
   },
   {
    "duration": 2,
    "start_time": "2024-10-14T04:09:39.247Z"
   },
   {
    "duration": 7,
    "start_time": "2024-10-14T04:09:39.251Z"
   },
   {
    "duration": 8,
    "start_time": "2024-10-14T04:09:39.260Z"
   },
   {
    "duration": 14,
    "start_time": "2024-10-14T04:09:39.270Z"
   },
   {
    "duration": 250,
    "start_time": "2024-10-14T04:09:39.286Z"
   },
   {
    "duration": 0,
    "start_time": "2024-10-14T04:09:39.537Z"
   },
   {
    "duration": 0,
    "start_time": "2024-10-14T04:09:39.539Z"
   },
   {
    "duration": 20,
    "start_time": "2024-10-14T04:14:43.386Z"
   },
   {
    "duration": 19,
    "start_time": "2024-10-14T04:14:51.729Z"
   },
   {
    "duration": 373,
    "start_time": "2024-10-14T04:18:12.106Z"
   },
   {
    "duration": 6,
    "start_time": "2024-10-14T04:19:13.621Z"
   },
   {
    "duration": 230,
    "start_time": "2024-10-14T04:21:09.620Z"
   },
   {
    "duration": 20,
    "start_time": "2024-10-14T04:24:09.641Z"
   },
   {
    "duration": 223,
    "start_time": "2024-10-14T04:24:19.899Z"
   },
   {
    "duration": 814,
    "start_time": "2024-10-14T04:27:21.433Z"
   },
   {
    "duration": 28,
    "start_time": "2024-10-14T04:27:22.249Z"
   },
   {
    "duration": 68,
    "start_time": "2024-10-14T04:27:22.279Z"
   },
   {
    "duration": 4,
    "start_time": "2024-10-14T04:27:22.350Z"
   },
   {
    "duration": 17,
    "start_time": "2024-10-14T04:27:22.355Z"
   },
   {
    "duration": 69,
    "start_time": "2024-10-14T04:27:22.374Z"
   },
   {
    "duration": 12,
    "start_time": "2024-10-14T04:27:22.445Z"
   },
   {
    "duration": 15,
    "start_time": "2024-10-14T04:27:22.459Z"
   },
   {
    "duration": 6,
    "start_time": "2024-10-14T04:27:22.475Z"
   },
   {
    "duration": 71,
    "start_time": "2024-10-14T04:27:22.491Z"
   },
   {
    "duration": 86,
    "start_time": "2024-10-14T04:27:22.563Z"
   },
   {
    "duration": 9,
    "start_time": "2024-10-14T04:27:22.651Z"
   },
   {
    "duration": 11,
    "start_time": "2024-10-14T04:27:22.662Z"
   },
   {
    "duration": 83,
    "start_time": "2024-10-14T04:27:22.675Z"
   },
   {
    "duration": 18,
    "start_time": "2024-10-14T04:27:22.761Z"
   },
   {
    "duration": 82,
    "start_time": "2024-10-14T04:27:22.780Z"
   },
   {
    "duration": 8,
    "start_time": "2024-10-14T04:27:22.863Z"
   },
   {
    "duration": 6,
    "start_time": "2024-10-14T04:27:22.873Z"
   },
   {
    "duration": 7,
    "start_time": "2024-10-14T04:27:22.881Z"
   },
   {
    "duration": 94,
    "start_time": "2024-10-14T04:27:22.890Z"
   },
   {
    "duration": 68,
    "start_time": "2024-10-14T04:27:22.986Z"
   },
   {
    "duration": 7,
    "start_time": "2024-10-14T04:27:23.056Z"
   },
   {
    "duration": 334,
    "start_time": "2024-10-14T04:27:23.065Z"
   },
   {
    "duration": 516,
    "start_time": "2024-10-14T04:27:23.401Z"
   },
   {
    "duration": 26,
    "start_time": "2024-10-14T04:27:23.920Z"
   },
   {
    "duration": 3,
    "start_time": "2024-10-14T04:27:23.948Z"
   },
   {
    "duration": 11,
    "start_time": "2024-10-14T04:27:23.953Z"
   },
   {
    "duration": 19,
    "start_time": "2024-10-14T04:27:23.968Z"
   },
   {
    "duration": 9,
    "start_time": "2024-10-14T04:27:23.988Z"
   },
   {
    "duration": 449,
    "start_time": "2024-10-14T04:27:23.998Z"
   },
   {
    "duration": 6,
    "start_time": "2024-10-14T04:27:24.449Z"
   },
   {
    "duration": 18,
    "start_time": "2024-10-14T04:27:24.457Z"
   },
   {
    "duration": 368,
    "start_time": "2024-10-14T04:27:24.476Z"
   },
   {
    "duration": 0,
    "start_time": "2024-10-14T04:27:24.846Z"
   },
   {
    "duration": 0,
    "start_time": "2024-10-14T04:27:24.850Z"
   },
   {
    "duration": 0,
    "start_time": "2024-10-14T04:27:24.852Z"
   },
   {
    "duration": 0,
    "start_time": "2024-10-14T04:27:24.853Z"
   },
   {
    "duration": 0,
    "start_time": "2024-10-14T04:27:24.855Z"
   },
   {
    "duration": 0,
    "start_time": "2024-10-14T04:27:24.856Z"
   },
   {
    "duration": 0,
    "start_time": "2024-10-14T04:27:24.857Z"
   },
   {
    "duration": 207,
    "start_time": "2024-10-14T04:27:32.730Z"
   },
   {
    "duration": 829,
    "start_time": "2024-10-14T04:28:25.670Z"
   },
   {
    "duration": 24,
    "start_time": "2024-10-14T04:28:26.502Z"
   },
   {
    "duration": 22,
    "start_time": "2024-10-14T04:28:26.528Z"
   },
   {
    "duration": 4,
    "start_time": "2024-10-14T04:28:26.552Z"
   },
   {
    "duration": 16,
    "start_time": "2024-10-14T04:28:26.559Z"
   },
   {
    "duration": 17,
    "start_time": "2024-10-14T04:28:26.577Z"
   },
   {
    "duration": 11,
    "start_time": "2024-10-14T04:28:26.596Z"
   },
   {
    "duration": 43,
    "start_time": "2024-10-14T04:28:26.609Z"
   },
   {
    "duration": 6,
    "start_time": "2024-10-14T04:28:26.653Z"
   },
   {
    "duration": 16,
    "start_time": "2024-10-14T04:28:26.660Z"
   },
   {
    "duration": 30,
    "start_time": "2024-10-14T04:28:26.678Z"
   },
   {
    "duration": 38,
    "start_time": "2024-10-14T04:28:26.709Z"
   },
   {
    "duration": 8,
    "start_time": "2024-10-14T04:28:26.749Z"
   },
   {
    "duration": 19,
    "start_time": "2024-10-14T04:28:26.761Z"
   },
   {
    "duration": 13,
    "start_time": "2024-10-14T04:28:26.782Z"
   },
   {
    "duration": 56,
    "start_time": "2024-10-14T04:28:26.797Z"
   },
   {
    "duration": 8,
    "start_time": "2024-10-14T04:28:26.855Z"
   },
   {
    "duration": 5,
    "start_time": "2024-10-14T04:28:26.865Z"
   },
   {
    "duration": 7,
    "start_time": "2024-10-14T04:28:26.873Z"
   },
   {
    "duration": 29,
    "start_time": "2024-10-14T04:28:26.882Z"
   },
   {
    "duration": 46,
    "start_time": "2024-10-14T04:28:26.912Z"
   },
   {
    "duration": 6,
    "start_time": "2024-10-14T04:28:26.960Z"
   },
   {
    "duration": 258,
    "start_time": "2024-10-14T04:28:26.967Z"
   },
   {
    "duration": 511,
    "start_time": "2024-10-14T04:28:27.227Z"
   },
   {
    "duration": 17,
    "start_time": "2024-10-14T04:28:27.744Z"
   },
   {
    "duration": 4,
    "start_time": "2024-10-14T04:28:27.763Z"
   },
   {
    "duration": 3,
    "start_time": "2024-10-14T04:28:27.769Z"
   },
   {
    "duration": 16,
    "start_time": "2024-10-14T04:28:27.773Z"
   },
   {
    "duration": 8,
    "start_time": "2024-10-14T04:28:27.791Z"
   },
   {
    "duration": 286,
    "start_time": "2024-10-14T04:28:27.801Z"
   },
   {
    "duration": 6,
    "start_time": "2024-10-14T04:28:28.090Z"
   },
   {
    "duration": 18,
    "start_time": "2024-10-14T04:28:28.098Z"
   },
   {
    "duration": 176,
    "start_time": "2024-10-14T04:28:28.118Z"
   },
   {
    "duration": 2,
    "start_time": "2024-10-14T04:28:28.296Z"
   },
   {
    "duration": 6,
    "start_time": "2024-10-14T04:28:28.300Z"
   },
   {
    "duration": 8,
    "start_time": "2024-10-14T04:28:28.308Z"
   },
   {
    "duration": 31,
    "start_time": "2024-10-14T04:28:28.317Z"
   },
   {
    "duration": 293,
    "start_time": "2024-10-14T04:28:28.350Z"
   },
   {
    "duration": 0,
    "start_time": "2024-10-14T04:28:28.645Z"
   },
   {
    "duration": 0,
    "start_time": "2024-10-14T04:28:28.647Z"
   },
   {
    "duration": 140,
    "start_time": "2024-10-14T04:28:55.663Z"
   },
   {
    "duration": 153,
    "start_time": "2024-10-14T04:29:11.630Z"
   },
   {
    "duration": 141,
    "start_time": "2024-10-14T04:29:26.496Z"
   },
   {
    "duration": 586,
    "start_time": "2024-10-14T04:29:52.343Z"
   },
   {
    "duration": 144,
    "start_time": "2024-10-14T04:30:00.574Z"
   },
   {
    "duration": 151,
    "start_time": "2024-10-14T04:31:56.653Z"
   },
   {
    "duration": 151,
    "start_time": "2024-10-14T04:32:42.319Z"
   },
   {
    "duration": 141,
    "start_time": "2024-10-14T04:32:47.484Z"
   },
   {
    "duration": 144,
    "start_time": "2024-10-14T04:33:01.802Z"
   },
   {
    "duration": 141,
    "start_time": "2024-10-14T04:33:08.230Z"
   },
   {
    "duration": 5,
    "start_time": "2024-10-14T04:35:44.501Z"
   },
   {
    "duration": 6,
    "start_time": "2024-10-14T04:36:57.843Z"
   },
   {
    "duration": 20,
    "start_time": "2024-10-14T04:37:16.232Z"
   },
   {
    "duration": 433,
    "start_time": "2024-10-14T04:39:32.292Z"
   },
   {
    "duration": 59,
    "start_time": "2024-10-14T04:40:45.257Z"
   },
   {
    "duration": 57,
    "start_time": "2024-10-14T04:41:11.162Z"
   },
   {
    "duration": 20,
    "start_time": "2024-10-14T04:41:45.008Z"
   },
   {
    "duration": 14,
    "start_time": "2024-10-14T04:42:00.740Z"
   },
   {
    "duration": 12,
    "start_time": "2024-10-14T04:42:27.412Z"
   },
   {
    "duration": 15,
    "start_time": "2024-10-14T04:43:10.911Z"
   },
   {
    "duration": 13,
    "start_time": "2024-10-14T04:43:55.895Z"
   },
   {
    "duration": 13,
    "start_time": "2024-10-14T04:44:10.073Z"
   },
   {
    "duration": 13,
    "start_time": "2024-10-14T04:44:32.525Z"
   },
   {
    "duration": 15,
    "start_time": "2024-10-14T04:44:50.440Z"
   },
   {
    "duration": 20,
    "start_time": "2024-10-14T04:45:15.222Z"
   },
   {
    "duration": 22,
    "start_time": "2024-10-14T04:45:37.313Z"
   },
   {
    "duration": 14,
    "start_time": "2024-10-14T04:45:47.192Z"
   },
   {
    "duration": 21838,
    "start_time": "2024-10-14T04:48:08.885Z"
   },
   {
    "duration": 1651,
    "start_time": "2024-10-14T04:49:05.680Z"
   },
   {
    "duration": 890,
    "start_time": "2024-10-14T04:49:15.096Z"
   },
   {
    "duration": 15,
    "start_time": "2024-10-14T04:49:32.132Z"
   },
   {
    "duration": 7,
    "start_time": "2024-10-14T04:50:25.338Z"
   },
   {
    "duration": 6,
    "start_time": "2024-10-14T04:50:30.269Z"
   },
   {
    "duration": 1179,
    "start_time": "2024-10-14T04:51:23.807Z"
   },
   {
    "duration": 5,
    "start_time": "2024-10-14T04:51:31.788Z"
   },
   {
    "duration": 9,
    "start_time": "2024-10-14T04:51:38.329Z"
   },
   {
    "duration": 11,
    "start_time": "2024-10-14T04:51:49.091Z"
   },
   {
    "duration": 3356,
    "start_time": "2024-10-15T15:21:23.256Z"
   },
   {
    "duration": 52,
    "start_time": "2024-10-15T15:21:26.614Z"
   },
   {
    "duration": 17,
    "start_time": "2024-10-15T15:21:26.668Z"
   },
   {
    "duration": 4,
    "start_time": "2024-10-15T15:21:26.686Z"
   },
   {
    "duration": 15,
    "start_time": "2024-10-15T15:21:26.692Z"
   },
   {
    "duration": 21,
    "start_time": "2024-10-15T15:21:26.708Z"
   },
   {
    "duration": 12,
    "start_time": "2024-10-15T15:21:26.731Z"
   },
   {
    "duration": 11,
    "start_time": "2024-10-15T15:21:26.744Z"
   },
   {
    "duration": 6,
    "start_time": "2024-10-15T15:21:26.758Z"
   },
   {
    "duration": 19,
    "start_time": "2024-10-15T15:21:26.768Z"
   },
   {
    "duration": 61,
    "start_time": "2024-10-15T15:21:26.789Z"
   },
   {
    "duration": 8,
    "start_time": "2024-10-15T15:21:26.852Z"
   },
   {
    "duration": 11,
    "start_time": "2024-10-15T15:21:26.862Z"
   },
   {
    "duration": 17,
    "start_time": "2024-10-15T15:21:26.874Z"
   },
   {
    "duration": 43,
    "start_time": "2024-10-15T15:21:26.893Z"
   },
   {
    "duration": 34,
    "start_time": "2024-10-15T15:21:26.937Z"
   },
   {
    "duration": 7,
    "start_time": "2024-10-15T15:21:26.973Z"
   },
   {
    "duration": 6,
    "start_time": "2024-10-15T15:21:26.981Z"
   },
   {
    "duration": 7,
    "start_time": "2024-10-15T15:21:26.989Z"
   },
   {
    "duration": 64,
    "start_time": "2024-10-15T15:21:26.998Z"
   },
   {
    "duration": 16,
    "start_time": "2024-10-15T15:21:27.064Z"
   },
   {
    "duration": 5,
    "start_time": "2024-10-15T15:21:27.082Z"
   },
   {
    "duration": 275,
    "start_time": "2024-10-15T15:21:27.088Z"
   },
   {
    "duration": 567,
    "start_time": "2024-10-15T15:21:27.365Z"
   },
   {
    "duration": 24,
    "start_time": "2024-10-15T15:21:27.934Z"
   },
   {
    "duration": 3,
    "start_time": "2024-10-15T15:21:27.960Z"
   },
   {
    "duration": 6,
    "start_time": "2024-10-15T15:21:27.965Z"
   },
   {
    "duration": 18,
    "start_time": "2024-10-15T15:21:27.977Z"
   },
   {
    "duration": 31,
    "start_time": "2024-10-15T15:21:27.996Z"
   },
   {
    "duration": 368,
    "start_time": "2024-10-15T15:21:28.029Z"
   },
   {
    "duration": 5,
    "start_time": "2024-10-15T15:21:28.399Z"
   },
   {
    "duration": 30,
    "start_time": "2024-10-15T15:21:28.405Z"
   },
   {
    "duration": 151,
    "start_time": "2024-10-15T15:21:28.437Z"
   },
   {
    "duration": 3,
    "start_time": "2024-10-15T15:21:28.590Z"
   },
   {
    "duration": 12,
    "start_time": "2024-10-15T15:21:28.595Z"
   },
   {
    "duration": 19,
    "start_time": "2024-10-15T15:21:28.609Z"
   },
   {
    "duration": 14,
    "start_time": "2024-10-15T15:21:28.630Z"
   },
   {
    "duration": 17,
    "start_time": "2024-10-15T15:21:28.645Z"
   },
   {
    "duration": 5,
    "start_time": "2024-10-15T15:21:28.664Z"
   },
   {
    "duration": 8,
    "start_time": "2024-10-15T15:21:28.670Z"
   },
   {
    "duration": 8,
    "start_time": "2024-10-15T15:21:28.679Z"
   },
   {
    "duration": 10,
    "start_time": "2024-10-15T15:25:29.017Z"
   },
   {
    "duration": 10,
    "start_time": "2024-10-15T15:26:15.631Z"
   },
   {
    "duration": 15,
    "start_time": "2024-10-15T15:26:50.068Z"
   },
   {
    "duration": 18,
    "start_time": "2024-10-15T15:27:03.461Z"
   },
   {
    "duration": 247,
    "start_time": "2024-10-15T15:28:20.652Z"
   },
   {
    "duration": 21,
    "start_time": "2024-10-15T15:28:36.372Z"
   },
   {
    "duration": 9,
    "start_time": "2024-10-15T15:28:57.314Z"
   },
   {
    "duration": 13,
    "start_time": "2024-10-15T15:29:05.668Z"
   },
   {
    "duration": 17,
    "start_time": "2024-10-15T15:29:15.863Z"
   },
   {
    "duration": 19,
    "start_time": "2024-10-15T15:29:30.956Z"
   },
   {
    "duration": 25,
    "start_time": "2024-10-15T15:29:42.835Z"
   },
   {
    "duration": 17,
    "start_time": "2024-10-15T15:29:54.306Z"
   },
   {
    "duration": 625,
    "start_time": "2024-10-15T15:31:08.644Z"
   },
   {
    "duration": 14,
    "start_time": "2024-10-15T15:31:25.152Z"
   },
   {
    "duration": 216,
    "start_time": "2024-10-15T15:31:32.385Z"
   },
   {
    "duration": 42,
    "start_time": "2024-10-15T15:31:43.243Z"
   },
   {
    "duration": 17,
    "start_time": "2024-10-15T15:31:56.272Z"
   },
   {
    "duration": 619,
    "start_time": "2024-10-15T15:32:03.756Z"
   },
   {
    "duration": 855,
    "start_time": "2024-10-15T15:35:06.714Z"
   },
   {
    "duration": 18,
    "start_time": "2024-10-15T15:35:26.309Z"
   },
   {
    "duration": 520,
    "start_time": "2024-10-15T15:35:29.157Z"
   },
   {
    "duration": 594,
    "start_time": "2024-10-15T15:35:44.146Z"
   },
   {
    "duration": 435,
    "start_time": "2024-10-15T15:36:39.136Z"
   },
   {
    "duration": 421,
    "start_time": "2024-10-15T15:37:35.693Z"
   },
   {
    "duration": 296,
    "start_time": "2024-10-15T15:37:46.868Z"
   },
   {
    "duration": 303,
    "start_time": "2024-10-15T15:38:06.362Z"
   },
   {
    "duration": 322,
    "start_time": "2024-10-15T15:38:14.389Z"
   },
   {
    "duration": 424,
    "start_time": "2024-10-15T15:38:22.147Z"
   },
   {
    "duration": 104,
    "start_time": "2024-10-15T16:19:18.708Z"
   },
   {
    "duration": 159,
    "start_time": "2024-10-15T16:19:26.393Z"
   },
   {
    "duration": 172,
    "start_time": "2024-10-15T16:20:22.686Z"
   },
   {
    "duration": 164,
    "start_time": "2024-10-15T16:20:31.950Z"
   },
   {
    "duration": 5,
    "start_time": "2024-10-15T16:21:13.336Z"
   },
   {
    "duration": 7,
    "start_time": "2024-10-15T16:24:15.100Z"
   },
   {
    "duration": 11,
    "start_time": "2024-10-15T16:25:21.206Z"
   },
   {
    "duration": 15,
    "start_time": "2024-10-15T16:25:31.121Z"
   },
   {
    "duration": 345,
    "start_time": "2024-10-15T16:26:01.438Z"
   },
   {
    "duration": 37,
    "start_time": "2024-10-15T16:26:17.521Z"
   },
   {
    "duration": 801,
    "start_time": "2024-10-15T16:26:29.660Z"
   },
   {
    "duration": 25,
    "start_time": "2024-10-15T16:26:30.463Z"
   },
   {
    "duration": 17,
    "start_time": "2024-10-15T16:26:30.490Z"
   },
   {
    "duration": 3,
    "start_time": "2024-10-15T16:26:30.510Z"
   },
   {
    "duration": 14,
    "start_time": "2024-10-15T16:26:30.525Z"
   },
   {
    "duration": 15,
    "start_time": "2024-10-15T16:26:30.541Z"
   },
   {
    "duration": 10,
    "start_time": "2024-10-15T16:26:30.558Z"
   },
   {
    "duration": 10,
    "start_time": "2024-10-15T16:26:30.569Z"
   },
   {
    "duration": 5,
    "start_time": "2024-10-15T16:26:30.581Z"
   },
   {
    "duration": 15,
    "start_time": "2024-10-15T16:26:30.625Z"
   },
   {
    "duration": 29,
    "start_time": "2024-10-15T16:26:30.641Z"
   },
   {
    "duration": 7,
    "start_time": "2024-10-15T16:26:30.672Z"
   },
   {
    "duration": 8,
    "start_time": "2024-10-15T16:26:30.680Z"
   },
   {
    "duration": 18,
    "start_time": "2024-10-15T16:26:30.725Z"
   },
   {
    "duration": 13,
    "start_time": "2024-10-15T16:26:30.745Z"
   },
   {
    "duration": 77,
    "start_time": "2024-10-15T16:26:30.759Z"
   },
   {
    "duration": 10,
    "start_time": "2024-10-15T16:26:30.837Z"
   },
   {
    "duration": 7,
    "start_time": "2024-10-15T16:26:30.849Z"
   },
   {
    "duration": 8,
    "start_time": "2024-10-15T16:26:30.857Z"
   },
   {
    "duration": 84,
    "start_time": "2024-10-15T16:26:30.866Z"
   },
   {
    "duration": 78,
    "start_time": "2024-10-15T16:26:30.952Z"
   },
   {
    "duration": 5,
    "start_time": "2024-10-15T16:26:31.031Z"
   },
   {
    "duration": 452,
    "start_time": "2024-10-15T16:26:31.038Z"
   },
   {
    "duration": 537,
    "start_time": "2024-10-15T16:26:31.492Z"
   },
   {
    "duration": 17,
    "start_time": "2024-10-15T16:26:32.031Z"
   },
   {
    "duration": 3,
    "start_time": "2024-10-15T16:26:32.049Z"
   },
   {
    "duration": 3,
    "start_time": "2024-10-15T16:26:32.054Z"
   },
   {
    "duration": 15,
    "start_time": "2024-10-15T16:26:32.061Z"
   },
   {
    "duration": 9,
    "start_time": "2024-10-15T16:26:32.078Z"
   },
   {
    "duration": 282,
    "start_time": "2024-10-15T16:26:32.088Z"
   },
   {
    "duration": 6,
    "start_time": "2024-10-15T16:26:32.372Z"
   },
   {
    "duration": 18,
    "start_time": "2024-10-15T16:26:32.379Z"
   },
   {
    "duration": 161,
    "start_time": "2024-10-15T16:26:32.398Z"
   },
   {
    "duration": 2,
    "start_time": "2024-10-15T16:26:32.561Z"
   },
   {
    "duration": 14,
    "start_time": "2024-10-15T16:26:32.565Z"
   },
   {
    "duration": 274,
    "start_time": "2024-10-15T16:26:32.580Z"
   },
   {
    "duration": 150,
    "start_time": "2024-10-15T16:26:32.856Z"
   },
   {
    "duration": 18,
    "start_time": "2024-10-15T16:26:33.008Z"
   },
   {
    "duration": 10,
    "start_time": "2024-10-15T16:26:33.027Z"
   },
   {
    "duration": 5,
    "start_time": "2024-10-15T16:26:33.038Z"
   },
   {
    "duration": 84,
    "start_time": "2024-10-15T16:26:33.044Z"
   },
   {
    "duration": 8,
    "start_time": "2024-10-15T16:26:33.130Z"
   },
   {
    "duration": 10,
    "start_time": "2024-10-15T16:27:42.729Z"
   },
   {
    "duration": 808,
    "start_time": "2024-10-15T16:27:51.574Z"
   },
   {
    "duration": 23,
    "start_time": "2024-10-15T16:27:52.384Z"
   },
   {
    "duration": 23,
    "start_time": "2024-10-15T16:27:52.408Z"
   },
   {
    "duration": 4,
    "start_time": "2024-10-15T16:27:52.433Z"
   },
   {
    "duration": 15,
    "start_time": "2024-10-15T16:27:52.438Z"
   },
   {
    "duration": 16,
    "start_time": "2024-10-15T16:27:52.455Z"
   },
   {
    "duration": 11,
    "start_time": "2024-10-15T16:27:52.472Z"
   },
   {
    "duration": 40,
    "start_time": "2024-10-15T16:27:52.484Z"
   },
   {
    "duration": 5,
    "start_time": "2024-10-15T16:27:52.525Z"
   },
   {
    "duration": 15,
    "start_time": "2024-10-15T16:27:52.533Z"
   },
   {
    "duration": 83,
    "start_time": "2024-10-15T16:27:52.550Z"
   },
   {
    "duration": 9,
    "start_time": "2024-10-15T16:27:52.635Z"
   },
   {
    "duration": 11,
    "start_time": "2024-10-15T16:27:52.645Z"
   },
   {
    "duration": 77,
    "start_time": "2024-10-15T16:27:52.658Z"
   },
   {
    "duration": 12,
    "start_time": "2024-10-15T16:27:52.737Z"
   },
   {
    "duration": 73,
    "start_time": "2024-10-15T16:27:52.751Z"
   },
   {
    "duration": 9,
    "start_time": "2024-10-15T16:27:52.826Z"
   },
   {
    "duration": 5,
    "start_time": "2024-10-15T16:27:52.837Z"
   },
   {
    "duration": 8,
    "start_time": "2024-10-15T16:27:52.844Z"
   },
   {
    "duration": 82,
    "start_time": "2024-10-15T16:27:52.853Z"
   },
   {
    "duration": 16,
    "start_time": "2024-10-15T16:27:52.937Z"
   },
   {
    "duration": 6,
    "start_time": "2024-10-15T16:27:52.954Z"
   },
   {
    "duration": 446,
    "start_time": "2024-10-15T16:27:52.962Z"
   },
   {
    "duration": 506,
    "start_time": "2024-10-15T16:27:53.410Z"
   },
   {
    "duration": 21,
    "start_time": "2024-10-15T16:27:53.918Z"
   },
   {
    "duration": 4,
    "start_time": "2024-10-15T16:27:53.940Z"
   },
   {
    "duration": 5,
    "start_time": "2024-10-15T16:27:53.945Z"
   },
   {
    "duration": 14,
    "start_time": "2024-10-15T16:27:53.954Z"
   },
   {
    "duration": 9,
    "start_time": "2024-10-15T16:27:53.971Z"
   },
   {
    "duration": 270,
    "start_time": "2024-10-15T16:27:53.981Z"
   },
   {
    "duration": 6,
    "start_time": "2024-10-15T16:27:54.253Z"
   },
   {
    "duration": 18,
    "start_time": "2024-10-15T16:27:54.261Z"
   },
   {
    "duration": 159,
    "start_time": "2024-10-15T16:27:54.281Z"
   },
   {
    "duration": 3,
    "start_time": "2024-10-15T16:27:54.442Z"
   },
   {
    "duration": 14,
    "start_time": "2024-10-15T16:27:54.446Z"
   },
   {
    "duration": 272,
    "start_time": "2024-10-15T16:27:54.462Z"
   },
   {
    "duration": 146,
    "start_time": "2024-10-15T16:27:54.736Z"
   },
   {
    "duration": 10,
    "start_time": "2024-10-15T16:27:54.884Z"
   },
   {
    "duration": 10,
    "start_time": "2024-10-15T16:27:54.895Z"
   },
   {
    "duration": 4,
    "start_time": "2024-10-15T16:27:54.924Z"
   },
   {
    "duration": 71,
    "start_time": "2024-10-15T16:27:54.930Z"
   },
   {
    "duration": 22,
    "start_time": "2024-10-15T16:27:55.002Z"
   },
   {
    "duration": 10,
    "start_time": "2024-10-15T16:28:27.961Z"
   },
   {
    "duration": 834,
    "start_time": "2024-10-15T16:28:34.736Z"
   },
   {
    "duration": 24,
    "start_time": "2024-10-15T16:28:35.572Z"
   },
   {
    "duration": 32,
    "start_time": "2024-10-15T16:28:35.597Z"
   },
   {
    "duration": 5,
    "start_time": "2024-10-15T16:28:35.631Z"
   },
   {
    "duration": 17,
    "start_time": "2024-10-15T16:28:35.639Z"
   },
   {
    "duration": 17,
    "start_time": "2024-10-15T16:28:35.658Z"
   },
   {
    "duration": 11,
    "start_time": "2024-10-15T16:28:35.676Z"
   },
   {
    "duration": 39,
    "start_time": "2024-10-15T16:28:35.689Z"
   },
   {
    "duration": 5,
    "start_time": "2024-10-15T16:28:35.729Z"
   },
   {
    "duration": 15,
    "start_time": "2024-10-15T16:28:35.736Z"
   },
   {
    "duration": 29,
    "start_time": "2024-10-15T16:28:35.753Z"
   },
   {
    "duration": 9,
    "start_time": "2024-10-15T16:28:35.783Z"
   },
   {
    "duration": 35,
    "start_time": "2024-10-15T16:28:35.795Z"
   },
   {
    "duration": 17,
    "start_time": "2024-10-15T16:28:35.834Z"
   },
   {
    "duration": 13,
    "start_time": "2024-10-15T16:28:35.852Z"
   },
   {
    "duration": 25,
    "start_time": "2024-10-15T16:28:35.867Z"
   },
   {
    "duration": 32,
    "start_time": "2024-10-15T16:28:35.893Z"
   },
   {
    "duration": 6,
    "start_time": "2024-10-15T16:28:35.927Z"
   },
   {
    "duration": 8,
    "start_time": "2024-10-15T16:28:35.934Z"
   },
   {
    "duration": 32,
    "start_time": "2024-10-15T16:28:35.943Z"
   },
   {
    "duration": 17,
    "start_time": "2024-10-15T16:28:35.977Z"
   },
   {
    "duration": 33,
    "start_time": "2024-10-15T16:28:35.995Z"
   },
   {
    "duration": 242,
    "start_time": "2024-10-15T16:28:36.029Z"
   },
   {
    "duration": 480,
    "start_time": "2024-10-15T16:28:36.273Z"
   },
   {
    "duration": 17,
    "start_time": "2024-10-15T16:28:36.755Z"
   },
   {
    "duration": 3,
    "start_time": "2024-10-15T16:28:36.774Z"
   },
   {
    "duration": 3,
    "start_time": "2024-10-15T16:28:36.779Z"
   },
   {
    "duration": 41,
    "start_time": "2024-10-15T16:28:36.784Z"
   },
   {
    "duration": 8,
    "start_time": "2024-10-15T16:28:36.827Z"
   },
   {
    "duration": 257,
    "start_time": "2024-10-15T16:28:36.836Z"
   },
   {
    "duration": 6,
    "start_time": "2024-10-15T16:28:37.095Z"
   },
   {
    "duration": 34,
    "start_time": "2024-10-15T16:28:37.103Z"
   },
   {
    "duration": 145,
    "start_time": "2024-10-15T16:28:37.138Z"
   },
   {
    "duration": 2,
    "start_time": "2024-10-15T16:28:37.285Z"
   },
   {
    "duration": 15,
    "start_time": "2024-10-15T16:28:37.289Z"
   },
   {
    "duration": 285,
    "start_time": "2024-10-15T16:28:37.306Z"
   },
   {
    "duration": 136,
    "start_time": "2024-10-15T16:28:37.593Z"
   },
   {
    "duration": 10,
    "start_time": "2024-10-15T16:28:37.736Z"
   },
   {
    "duration": 13,
    "start_time": "2024-10-15T16:28:37.748Z"
   },
   {
    "duration": 6,
    "start_time": "2024-10-15T16:28:37.763Z"
   },
   {
    "duration": 8,
    "start_time": "2024-10-15T16:28:37.774Z"
   },
   {
    "duration": 8,
    "start_time": "2024-10-15T16:28:37.783Z"
   },
   {
    "duration": 801,
    "start_time": "2024-10-15T16:31:34.265Z"
   },
   {
    "duration": 27,
    "start_time": "2024-10-15T16:31:35.068Z"
   },
   {
    "duration": 17,
    "start_time": "2024-10-15T16:31:35.096Z"
   },
   {
    "duration": 9,
    "start_time": "2024-10-15T16:31:35.116Z"
   },
   {
    "duration": 15,
    "start_time": "2024-10-15T16:31:35.127Z"
   },
   {
    "duration": 16,
    "start_time": "2024-10-15T16:31:35.144Z"
   },
   {
    "duration": 11,
    "start_time": "2024-10-15T16:31:35.162Z"
   },
   {
    "duration": 9,
    "start_time": "2024-10-15T16:31:35.174Z"
   },
   {
    "duration": 38,
    "start_time": "2024-10-15T16:31:35.186Z"
   },
   {
    "duration": 15,
    "start_time": "2024-10-15T16:31:35.227Z"
   },
   {
    "duration": 29,
    "start_time": "2024-10-15T16:31:35.243Z"
   },
   {
    "duration": 7,
    "start_time": "2024-10-15T16:31:35.274Z"
   },
   {
    "duration": 8,
    "start_time": "2024-10-15T16:31:35.282Z"
   },
   {
    "duration": 48,
    "start_time": "2024-10-15T16:31:35.291Z"
   },
   {
    "duration": 12,
    "start_time": "2024-10-15T16:31:35.341Z"
   },
   {
    "duration": 25,
    "start_time": "2024-10-15T16:31:35.354Z"
   },
   {
    "duration": 10,
    "start_time": "2024-10-15T16:31:35.380Z"
   },
   {
    "duration": 34,
    "start_time": "2024-10-15T16:31:35.392Z"
   },
   {
    "duration": 8,
    "start_time": "2024-10-15T16:31:35.427Z"
   },
   {
    "duration": 29,
    "start_time": "2024-10-15T16:31:35.436Z"
   },
   {
    "duration": 16,
    "start_time": "2024-10-15T16:31:35.466Z"
   },
   {
    "duration": 5,
    "start_time": "2024-10-15T16:31:35.484Z"
   },
   {
    "duration": 259,
    "start_time": "2024-10-15T16:31:35.490Z"
   },
   {
    "duration": 988,
    "start_time": "2024-10-15T16:31:35.751Z"
   },
   {
    "duration": 18,
    "start_time": "2024-10-15T16:31:36.741Z"
   },
   {
    "duration": 3,
    "start_time": "2024-10-15T16:31:36.761Z"
   },
   {
    "duration": 5,
    "start_time": "2024-10-15T16:31:36.765Z"
   },
   {
    "duration": 15,
    "start_time": "2024-10-15T16:31:36.773Z"
   },
   {
    "duration": 35,
    "start_time": "2024-10-15T16:31:36.790Z"
   },
   {
    "duration": 256,
    "start_time": "2024-10-15T16:31:36.827Z"
   },
   {
    "duration": 11,
    "start_time": "2024-10-15T16:31:37.085Z"
   },
   {
    "duration": 28,
    "start_time": "2024-10-15T16:31:37.097Z"
   },
   {
    "duration": 150,
    "start_time": "2024-10-15T16:31:37.127Z"
   },
   {
    "duration": 3,
    "start_time": "2024-10-15T16:31:37.278Z"
   },
   {
    "duration": 16,
    "start_time": "2024-10-15T16:31:37.282Z"
   },
   {
    "duration": 281,
    "start_time": "2024-10-15T16:31:37.300Z"
   },
   {
    "duration": 141,
    "start_time": "2024-10-15T16:31:37.583Z"
   },
   {
    "duration": 9,
    "start_time": "2024-10-15T16:31:37.726Z"
   },
   {
    "duration": 12,
    "start_time": "2024-10-15T16:31:37.737Z"
   },
   {
    "duration": 4,
    "start_time": "2024-10-15T16:31:37.751Z"
   },
   {
    "duration": 99,
    "start_time": "2024-10-15T16:31:37.757Z"
   },
   {
    "duration": 8,
    "start_time": "2024-10-15T16:31:37.858Z"
   },
   {
    "duration": 12,
    "start_time": "2024-10-15T16:32:13.964Z"
   },
   {
    "duration": 772,
    "start_time": "2024-10-15T16:32:30.195Z"
   },
   {
    "duration": 24,
    "start_time": "2024-10-15T16:32:30.969Z"
   },
   {
    "duration": 18,
    "start_time": "2024-10-15T16:32:30.994Z"
   },
   {
    "duration": 4,
    "start_time": "2024-10-15T16:32:31.023Z"
   },
   {
    "duration": 16,
    "start_time": "2024-10-15T16:32:31.029Z"
   },
   {
    "duration": 17,
    "start_time": "2024-10-15T16:32:31.047Z"
   },
   {
    "duration": 11,
    "start_time": "2024-10-15T16:32:31.066Z"
   },
   {
    "duration": 9,
    "start_time": "2024-10-15T16:32:31.079Z"
   },
   {
    "duration": 39,
    "start_time": "2024-10-15T16:32:31.090Z"
   },
   {
    "duration": 15,
    "start_time": "2024-10-15T16:32:31.132Z"
   },
   {
    "duration": 29,
    "start_time": "2024-10-15T16:32:31.149Z"
   },
   {
    "duration": 11,
    "start_time": "2024-10-15T16:32:31.179Z"
   },
   {
    "duration": 31,
    "start_time": "2024-10-15T16:32:31.193Z"
   },
   {
    "duration": 18,
    "start_time": "2024-10-15T16:32:31.227Z"
   },
   {
    "duration": 13,
    "start_time": "2024-10-15T16:32:31.247Z"
   },
   {
    "duration": 25,
    "start_time": "2024-10-15T16:32:31.261Z"
   },
   {
    "duration": 7,
    "start_time": "2024-10-15T16:32:31.287Z"
   },
   {
    "duration": 33,
    "start_time": "2024-10-15T16:32:31.295Z"
   },
   {
    "duration": 9,
    "start_time": "2024-10-15T16:32:31.329Z"
   },
   {
    "duration": 29,
    "start_time": "2024-10-15T16:32:31.339Z"
   },
   {
    "duration": 16,
    "start_time": "2024-10-15T16:32:31.369Z"
   },
   {
    "duration": 5,
    "start_time": "2024-10-15T16:32:31.386Z"
   },
   {
    "duration": 272,
    "start_time": "2024-10-15T16:32:31.392Z"
   },
   {
    "duration": 495,
    "start_time": "2024-10-15T16:32:31.666Z"
   },
   {
    "duration": 17,
    "start_time": "2024-10-15T16:32:32.162Z"
   },
   {
    "duration": 3,
    "start_time": "2024-10-15T16:32:32.181Z"
   },
   {
    "duration": 4,
    "start_time": "2024-10-15T16:32:32.186Z"
   },
   {
    "duration": 42,
    "start_time": "2024-10-15T16:32:32.194Z"
   },
   {
    "duration": 9,
    "start_time": "2024-10-15T16:32:32.237Z"
   },
   {
    "duration": 278,
    "start_time": "2024-10-15T16:32:32.248Z"
   },
   {
    "duration": 7,
    "start_time": "2024-10-15T16:32:32.528Z"
   },
   {
    "duration": 19,
    "start_time": "2024-10-15T16:32:32.536Z"
   },
   {
    "duration": 311,
    "start_time": "2024-10-15T16:32:32.557Z"
   },
   {
    "duration": 2,
    "start_time": "2024-10-15T16:32:32.870Z"
   },
   {
    "duration": 20,
    "start_time": "2024-10-15T16:32:32.925Z"
   },
   {
    "duration": 419,
    "start_time": "2024-10-15T16:32:32.947Z"
   },
   {
    "duration": 135,
    "start_time": "2024-10-15T16:32:33.367Z"
   },
   {
    "duration": 20,
    "start_time": "2024-10-15T16:32:33.504Z"
   },
   {
    "duration": 12,
    "start_time": "2024-10-15T16:32:33.525Z"
   },
   {
    "duration": 5,
    "start_time": "2024-10-15T16:32:33.539Z"
   },
   {
    "duration": 86,
    "start_time": "2024-10-15T16:32:33.546Z"
   },
   {
    "duration": 7,
    "start_time": "2024-10-15T16:32:33.636Z"
   },
   {
    "duration": 175,
    "start_time": "2024-10-15T17:58:06.420Z"
   },
   {
    "duration": 2919,
    "start_time": "2024-10-15T17:58:13.180Z"
   },
   {
    "duration": 36,
    "start_time": "2024-10-15T17:58:16.101Z"
   },
   {
    "duration": 19,
    "start_time": "2024-10-15T17:58:16.139Z"
   },
   {
    "duration": 5,
    "start_time": "2024-10-15T17:58:16.160Z"
   },
   {
    "duration": 16,
    "start_time": "2024-10-15T17:58:16.170Z"
   },
   {
    "duration": 18,
    "start_time": "2024-10-15T17:58:16.187Z"
   },
   {
    "duration": 11,
    "start_time": "2024-10-15T17:58:16.206Z"
   },
   {
    "duration": 9,
    "start_time": "2024-10-15T17:58:16.219Z"
   },
   {
    "duration": 5,
    "start_time": "2024-10-15T17:58:16.230Z"
   },
   {
    "duration": 17,
    "start_time": "2024-10-15T17:58:16.272Z"
   },
   {
    "duration": 40,
    "start_time": "2024-10-15T17:58:16.291Z"
   },
   {
    "duration": 11,
    "start_time": "2024-10-15T17:58:16.332Z"
   },
   {
    "duration": 35,
    "start_time": "2024-10-15T17:58:16.345Z"
   },
   {
    "duration": 19,
    "start_time": "2024-10-15T17:58:16.382Z"
   },
   {
    "duration": 13,
    "start_time": "2024-10-15T17:58:16.403Z"
   },
   {
    "duration": 53,
    "start_time": "2024-10-15T17:58:16.418Z"
   },
   {
    "duration": 8,
    "start_time": "2024-10-15T17:58:16.473Z"
   },
   {
    "duration": 7,
    "start_time": "2024-10-15T17:58:16.483Z"
   },
   {
    "duration": 10,
    "start_time": "2024-10-15T17:58:16.491Z"
   },
   {
    "duration": 36,
    "start_time": "2024-10-15T17:58:16.502Z"
   },
   {
    "duration": 50,
    "start_time": "2024-10-15T17:58:16.540Z"
   },
   {
    "duration": 6,
    "start_time": "2024-10-15T17:58:16.591Z"
   },
   {
    "duration": 272,
    "start_time": "2024-10-15T17:58:16.599Z"
   },
   {
    "duration": 545,
    "start_time": "2024-10-15T17:58:16.873Z"
   },
   {
    "duration": 18,
    "start_time": "2024-10-15T17:58:17.420Z"
   },
   {
    "duration": 4,
    "start_time": "2024-10-15T17:58:17.440Z"
   },
   {
    "duration": 3,
    "start_time": "2024-10-15T17:58:17.446Z"
   },
   {
    "duration": 16,
    "start_time": "2024-10-15T17:58:17.474Z"
   },
   {
    "duration": 10,
    "start_time": "2024-10-15T17:58:17.491Z"
   },
   {
    "duration": 293,
    "start_time": "2024-10-15T17:58:17.503Z"
   },
   {
    "duration": 7,
    "start_time": "2024-10-15T17:58:17.798Z"
   },
   {
    "duration": 18,
    "start_time": "2024-10-15T17:58:17.807Z"
   },
   {
    "duration": 161,
    "start_time": "2024-10-15T17:58:17.826Z"
   },
   {
    "duration": 2,
    "start_time": "2024-10-15T17:58:17.989Z"
   },
   {
    "duration": 16,
    "start_time": "2024-10-15T17:58:17.993Z"
   },
   {
    "duration": 282,
    "start_time": "2024-10-15T17:58:18.010Z"
   },
   {
    "duration": 139,
    "start_time": "2024-10-15T17:58:18.294Z"
   },
   {
    "duration": 9,
    "start_time": "2024-10-15T17:58:18.435Z"
   },
   {
    "duration": 28,
    "start_time": "2024-10-15T17:58:18.445Z"
   },
   {
    "duration": 5,
    "start_time": "2024-10-15T17:58:18.475Z"
   },
   {
    "duration": 13,
    "start_time": "2024-10-15T17:58:18.481Z"
   },
   {
    "duration": 9,
    "start_time": "2024-10-15T17:58:18.495Z"
   },
   {
    "duration": 13,
    "start_time": "2024-10-15T17:58:57.252Z"
   },
   {
    "duration": 13,
    "start_time": "2024-10-15T17:59:39.491Z"
   },
   {
    "duration": 23,
    "start_time": "2024-10-15T18:01:21.595Z"
   },
   {
    "duration": 14,
    "start_time": "2024-10-15T18:01:31.290Z"
   },
   {
    "duration": 3059,
    "start_time": "2024-10-16T16:33:52.301Z"
   },
   {
    "duration": 35,
    "start_time": "2024-10-16T16:33:55.362Z"
   },
   {
    "duration": 22,
    "start_time": "2024-10-16T16:33:55.398Z"
   },
   {
    "duration": 4,
    "start_time": "2024-10-16T16:33:55.423Z"
   },
   {
    "duration": 17,
    "start_time": "2024-10-16T16:33:55.429Z"
   },
   {
    "duration": 16,
    "start_time": "2024-10-16T16:33:55.448Z"
   },
   {
    "duration": 11,
    "start_time": "2024-10-16T16:33:55.466Z"
   },
   {
    "duration": 42,
    "start_time": "2024-10-16T16:33:55.478Z"
   },
   {
    "duration": 6,
    "start_time": "2024-10-16T16:33:55.522Z"
   },
   {
    "duration": 17,
    "start_time": "2024-10-16T16:33:55.531Z"
   },
   {
    "duration": 31,
    "start_time": "2024-10-16T16:33:55.550Z"
   },
   {
    "duration": 34,
    "start_time": "2024-10-16T16:33:55.582Z"
   },
   {
    "duration": 9,
    "start_time": "2024-10-16T16:33:55.618Z"
   },
   {
    "duration": 19,
    "start_time": "2024-10-16T16:33:55.628Z"
   },
   {
    "duration": 14,
    "start_time": "2024-10-16T16:33:55.648Z"
   },
   {
    "duration": 55,
    "start_time": "2024-10-16T16:33:55.664Z"
   },
   {
    "duration": 8,
    "start_time": "2024-10-16T16:33:55.721Z"
   },
   {
    "duration": 6,
    "start_time": "2024-10-16T16:33:55.731Z"
   },
   {
    "duration": 8,
    "start_time": "2024-10-16T16:33:55.739Z"
   },
   {
    "duration": 29,
    "start_time": "2024-10-16T16:33:55.749Z"
   },
   {
    "duration": 17,
    "start_time": "2024-10-16T16:33:55.811Z"
   },
   {
    "duration": 8,
    "start_time": "2024-10-16T16:33:55.829Z"
   },
   {
    "duration": 287,
    "start_time": "2024-10-16T16:33:55.840Z"
   },
   {
    "duration": 514,
    "start_time": "2024-10-16T16:33:56.128Z"
   },
   {
    "duration": 17,
    "start_time": "2024-10-16T16:33:56.644Z"
   },
   {
    "duration": 4,
    "start_time": "2024-10-16T16:33:56.662Z"
   },
   {
    "duration": 4,
    "start_time": "2024-10-16T16:33:56.667Z"
   },
   {
    "duration": 43,
    "start_time": "2024-10-16T16:33:56.675Z"
   },
   {
    "duration": 9,
    "start_time": "2024-10-16T16:33:56.721Z"
   },
   {
    "duration": 264,
    "start_time": "2024-10-16T16:33:56.732Z"
   },
   {
    "duration": 14,
    "start_time": "2024-10-16T16:33:56.998Z"
   },
   {
    "duration": 18,
    "start_time": "2024-10-16T16:33:57.015Z"
   },
   {
    "duration": 153,
    "start_time": "2024-10-16T16:33:57.034Z"
   },
   {
    "duration": 2,
    "start_time": "2024-10-16T16:33:57.189Z"
   },
   {
    "duration": 32,
    "start_time": "2024-10-16T16:33:57.193Z"
   },
   {
    "duration": 286,
    "start_time": "2024-10-16T16:33:57.227Z"
   },
   {
    "duration": 141,
    "start_time": "2024-10-16T16:33:57.515Z"
   },
   {
    "duration": 9,
    "start_time": "2024-10-16T16:33:57.658Z"
   },
   {
    "duration": 12,
    "start_time": "2024-10-16T16:33:57.668Z"
   },
   {
    "duration": 5,
    "start_time": "2024-10-16T16:33:57.681Z"
   },
   {
    "duration": 36,
    "start_time": "2024-10-16T16:33:57.687Z"
   },
   {
    "duration": 13,
    "start_time": "2024-10-16T16:33:57.724Z"
   },
   {
    "duration": 3,
    "start_time": "2024-10-16T16:37:44.180Z"
   },
   {
    "duration": 6,
    "start_time": "2024-10-16T16:37:49.037Z"
   },
   {
    "duration": 5,
    "start_time": "2024-10-16T16:37:57.118Z"
   },
   {
    "duration": 755,
    "start_time": "2024-10-16T16:40:46.256Z"
   },
   {
    "duration": 49,
    "start_time": "2024-10-16T16:41:22.951Z"
   },
   {
    "duration": 8,
    "start_time": "2024-10-16T16:41:33.624Z"
   },
   {
    "duration": 3,
    "start_time": "2024-10-16T16:42:02.169Z"
   },
   {
    "duration": 9,
    "start_time": "2024-10-16T16:43:24.101Z"
   },
   {
    "duration": 16,
    "start_time": "2024-10-16T16:43:44.559Z"
   },
   {
    "duration": 9,
    "start_time": "2024-10-16T16:43:52.378Z"
   },
   {
    "duration": 8,
    "start_time": "2024-10-16T16:44:35.344Z"
   },
   {
    "duration": 8,
    "start_time": "2024-10-16T16:44:39.660Z"
   },
   {
    "duration": 8,
    "start_time": "2024-10-16T16:45:11.041Z"
   },
   {
    "duration": 16,
    "start_time": "2024-10-16T16:49:25.651Z"
   },
   {
    "duration": 234,
    "start_time": "2024-10-16T16:49:37.366Z"
   },
   {
    "duration": 99,
    "start_time": "2024-10-16T16:51:56.024Z"
   },
   {
    "duration": 186,
    "start_time": "2024-10-16T16:52:16.974Z"
   },
   {
    "duration": 602,
    "start_time": "2024-10-16T16:52:37.178Z"
   },
   {
    "duration": 15,
    "start_time": "2024-10-16T16:53:05.236Z"
   },
   {
    "duration": 344,
    "start_time": "2024-10-16T16:53:41.380Z"
   },
   {
    "duration": 7,
    "start_time": "2024-10-16T17:08:22.631Z"
   },
   {
    "duration": 4,
    "start_time": "2024-10-16T17:08:47.772Z"
   },
   {
    "duration": 6,
    "start_time": "2024-10-16T17:08:51.113Z"
   },
   {
    "duration": 10,
    "start_time": "2024-10-16T17:09:25.949Z"
   },
   {
    "duration": 10,
    "start_time": "2024-10-16T17:09:40.369Z"
   },
   {
    "duration": 18,
    "start_time": "2024-10-16T17:11:00.618Z"
   },
   {
    "duration": 20,
    "start_time": "2024-10-16T17:11:35.112Z"
   },
   {
    "duration": 8,
    "start_time": "2024-10-16T17:11:51.405Z"
   },
   {
    "duration": 9,
    "start_time": "2024-10-16T17:12:16.130Z"
   },
   {
    "duration": 8,
    "start_time": "2024-10-16T17:12:26.052Z"
   },
   {
    "duration": 9,
    "start_time": "2024-10-16T17:12:57.094Z"
   },
   {
    "duration": 8,
    "start_time": "2024-10-16T17:13:14.149Z"
   },
   {
    "duration": 5,
    "start_time": "2024-10-16T17:14:04.383Z"
   },
   {
    "duration": 20,
    "start_time": "2024-10-16T17:14:11.915Z"
   },
   {
    "duration": 7,
    "start_time": "2024-10-16T17:14:17.048Z"
   },
   {
    "duration": 8,
    "start_time": "2024-10-16T17:17:46.914Z"
   },
   {
    "duration": 6,
    "start_time": "2024-10-16T17:18:10.419Z"
   },
   {
    "duration": 6,
    "start_time": "2024-10-16T17:18:26.524Z"
   },
   {
    "duration": 4,
    "start_time": "2024-10-16T17:18:48.449Z"
   },
   {
    "duration": 7,
    "start_time": "2024-10-16T17:18:58.929Z"
   },
   {
    "duration": 4,
    "start_time": "2024-10-16T17:19:02.683Z"
   },
   {
    "duration": 5,
    "start_time": "2024-10-16T17:19:06.441Z"
   },
   {
    "duration": 6,
    "start_time": "2024-10-16T17:19:09.105Z"
   },
   {
    "duration": 6,
    "start_time": "2024-10-16T17:20:16.459Z"
   },
   {
    "duration": 4,
    "start_time": "2024-10-16T17:20:19.170Z"
   },
   {
    "duration": 4,
    "start_time": "2024-10-16T17:20:21.234Z"
   },
   {
    "duration": 5,
    "start_time": "2024-10-16T17:20:25.936Z"
   },
   {
    "duration": 7,
    "start_time": "2024-10-16T17:23:03.625Z"
   },
   {
    "duration": 8,
    "start_time": "2024-10-16T17:26:34.438Z"
   },
   {
    "duration": 8,
    "start_time": "2024-10-16T17:27:00.042Z"
   },
   {
    "duration": 7,
    "start_time": "2024-10-16T17:27:09.319Z"
   },
   {
    "duration": 12,
    "start_time": "2024-10-16T17:27:42.763Z"
   },
   {
    "duration": 7,
    "start_time": "2024-10-16T17:27:55.060Z"
   },
   {
    "duration": 6,
    "start_time": "2024-10-16T17:28:15.350Z"
   },
   {
    "duration": 7,
    "start_time": "2024-10-16T17:32:32.115Z"
   },
   {
    "duration": 7,
    "start_time": "2024-10-16T17:34:37.161Z"
   },
   {
    "duration": 6,
    "start_time": "2024-10-16T17:35:29.140Z"
   },
   {
    "duration": 6,
    "start_time": "2024-10-16T17:37:01.054Z"
   },
   {
    "duration": 5,
    "start_time": "2024-10-16T17:37:10.981Z"
   },
   {
    "duration": 5,
    "start_time": "2024-10-16T17:37:12.836Z"
   },
   {
    "duration": 7,
    "start_time": "2024-10-16T17:37:20.119Z"
   },
   {
    "duration": 7,
    "start_time": "2024-10-16T17:37:27.478Z"
   },
   {
    "duration": 4,
    "start_time": "2024-10-16T17:37:49.851Z"
   },
   {
    "duration": 4,
    "start_time": "2024-10-16T17:37:54.207Z"
   },
   {
    "duration": 5,
    "start_time": "2024-10-16T17:38:00.198Z"
   },
   {
    "duration": 5,
    "start_time": "2024-10-16T17:38:15.039Z"
   },
   {
    "duration": 5,
    "start_time": "2024-10-16T17:38:18.370Z"
   },
   {
    "duration": 5,
    "start_time": "2024-10-16T17:38:22.740Z"
   },
   {
    "duration": 5,
    "start_time": "2024-10-16T17:38:26.313Z"
   },
   {
    "duration": 5,
    "start_time": "2024-10-16T17:38:30.821Z"
   },
   {
    "duration": 5,
    "start_time": "2024-10-16T17:38:34.070Z"
   },
   {
    "duration": 263,
    "start_time": "2024-10-16T17:49:43.250Z"
   },
   {
    "duration": 259,
    "start_time": "2024-10-16T17:50:14.328Z"
   },
   {
    "duration": 286,
    "start_time": "2024-10-16T17:50:37.800Z"
   },
   {
    "duration": 795,
    "start_time": "2024-10-16T17:50:47.590Z"
   },
   {
    "duration": 29,
    "start_time": "2024-10-16T17:50:48.387Z"
   },
   {
    "duration": 19,
    "start_time": "2024-10-16T17:50:48.418Z"
   },
   {
    "duration": 5,
    "start_time": "2024-10-16T17:50:48.440Z"
   },
   {
    "duration": 17,
    "start_time": "2024-10-16T17:50:48.446Z"
   },
   {
    "duration": 17,
    "start_time": "2024-10-16T17:50:48.465Z"
   },
   {
    "duration": 39,
    "start_time": "2024-10-16T17:50:48.484Z"
   },
   {
    "duration": 11,
    "start_time": "2024-10-16T17:50:48.524Z"
   },
   {
    "duration": 5,
    "start_time": "2024-10-16T17:50:48.537Z"
   },
   {
    "duration": 15,
    "start_time": "2024-10-16T17:50:48.545Z"
   },
   {
    "duration": 66,
    "start_time": "2024-10-16T17:50:48.562Z"
   },
   {
    "duration": 8,
    "start_time": "2024-10-16T17:50:48.630Z"
   },
   {
    "duration": 10,
    "start_time": "2024-10-16T17:50:48.640Z"
   },
   {
    "duration": 19,
    "start_time": "2024-10-16T17:50:48.652Z"
   },
   {
    "duration": 42,
    "start_time": "2024-10-16T17:50:48.673Z"
   },
   {
    "duration": 27,
    "start_time": "2024-10-16T17:50:48.716Z"
   },
   {
    "duration": 8,
    "start_time": "2024-10-16T17:50:48.745Z"
   },
   {
    "duration": 6,
    "start_time": "2024-10-16T17:50:48.755Z"
   },
   {
    "duration": 8,
    "start_time": "2024-10-16T17:50:48.763Z"
   },
   {
    "duration": 62,
    "start_time": "2024-10-16T17:50:48.772Z"
   },
   {
    "duration": 17,
    "start_time": "2024-10-16T17:50:48.836Z"
   },
   {
    "duration": 5,
    "start_time": "2024-10-16T17:50:48.855Z"
   },
   {
    "duration": 270,
    "start_time": "2024-10-16T17:50:48.861Z"
   },
   {
    "duration": 507,
    "start_time": "2024-10-16T17:50:49.133Z"
   },
   {
    "duration": 18,
    "start_time": "2024-10-16T17:50:49.642Z"
   },
   {
    "duration": 4,
    "start_time": "2024-10-16T17:50:49.661Z"
   },
   {
    "duration": 4,
    "start_time": "2024-10-16T17:50:49.667Z"
   },
   {
    "duration": 41,
    "start_time": "2024-10-16T17:50:49.675Z"
   },
   {
    "duration": 9,
    "start_time": "2024-10-16T17:50:49.718Z"
   },
   {
    "duration": 293,
    "start_time": "2024-10-16T17:50:49.728Z"
   },
   {
    "duration": 6,
    "start_time": "2024-10-16T17:50:50.023Z"
   },
   {
    "duration": 19,
    "start_time": "2024-10-16T17:50:50.030Z"
   },
   {
    "duration": 163,
    "start_time": "2024-10-16T17:50:50.050Z"
   },
   {
    "duration": 2,
    "start_time": "2024-10-16T17:50:50.215Z"
   },
   {
    "duration": 15,
    "start_time": "2024-10-16T17:50:50.219Z"
   },
   {
    "duration": 275,
    "start_time": "2024-10-16T17:50:50.236Z"
   },
   {
    "duration": 138,
    "start_time": "2024-10-16T17:50:50.513Z"
   },
   {
    "duration": 9,
    "start_time": "2024-10-16T17:50:50.653Z"
   },
   {
    "duration": 11,
    "start_time": "2024-10-16T17:50:50.664Z"
   },
   {
    "duration": 6,
    "start_time": "2024-10-16T17:50:50.677Z"
   },
   {
    "duration": 112,
    "start_time": "2024-10-16T17:50:50.684Z"
   },
   {
    "duration": 19,
    "start_time": "2024-10-16T17:50:50.798Z"
   },
   {
    "duration": 9,
    "start_time": "2024-10-16T17:50:50.819Z"
   },
   {
    "duration": 7,
    "start_time": "2024-10-16T17:50:50.831Z"
   },
   {
    "duration": 8,
    "start_time": "2024-10-16T17:50:50.840Z"
   },
   {
    "duration": 6,
    "start_time": "2024-10-16T17:50:50.850Z"
   },
   {
    "duration": 4,
    "start_time": "2024-10-16T17:50:50.859Z"
   },
   {
    "duration": 6,
    "start_time": "2024-10-16T17:50:50.865Z"
   },
   {
    "duration": 42,
    "start_time": "2024-10-16T17:50:50.872Z"
   },
   {
    "duration": 8,
    "start_time": "2024-10-17T15:00:18.912Z"
   },
   {
    "duration": 4,
    "start_time": "2024-10-17T15:57:50.017Z"
   },
   {
    "duration": 162,
    "start_time": "2024-10-17T16:11:57.240Z"
   },
   {
    "duration": 2601,
    "start_time": "2024-10-17T16:12:07.448Z"
   },
   {
    "duration": 38,
    "start_time": "2024-10-17T16:12:10.745Z"
   },
   {
    "duration": 19,
    "start_time": "2024-10-17T16:12:11.248Z"
   },
   {
    "duration": 5,
    "start_time": "2024-10-17T16:12:11.374Z"
   },
   {
    "duration": 17,
    "start_time": "2024-10-17T16:12:11.493Z"
   },
   {
    "duration": 18,
    "start_time": "2024-10-17T16:12:11.984Z"
   },
   {
    "duration": 13,
    "start_time": "2024-10-17T16:12:12.472Z"
   },
   {
    "duration": 10,
    "start_time": "2024-10-17T16:12:12.983Z"
   },
   {
    "duration": 6,
    "start_time": "2024-10-17T16:12:13.130Z"
   },
   {
    "duration": 17,
    "start_time": "2024-10-17T16:12:13.799Z"
   },
   {
    "duration": 32,
    "start_time": "2024-10-17T16:12:13.966Z"
   },
   {
    "duration": 9,
    "start_time": "2024-10-17T16:12:14.127Z"
   },
   {
    "duration": 9,
    "start_time": "2024-10-17T16:12:14.486Z"
   },
   {
    "duration": 18,
    "start_time": "2024-10-17T16:12:14.840Z"
   },
   {
    "duration": 13,
    "start_time": "2024-10-17T16:12:15.197Z"
   },
   {
    "duration": 27,
    "start_time": "2024-10-17T16:12:15.414Z"
   },
   {
    "duration": 8,
    "start_time": "2024-10-17T16:12:15.772Z"
   },
   {
    "duration": 7,
    "start_time": "2024-10-17T16:12:16.242Z"
   },
   {
    "duration": 8,
    "start_time": "2024-10-17T16:12:16.906Z"
   },
   {
    "duration": 30,
    "start_time": "2024-10-17T16:12:19.199Z"
   },
   {
    "duration": 18,
    "start_time": "2024-10-17T16:12:20.243Z"
   },
   {
    "duration": 6,
    "start_time": "2024-10-17T16:12:21.522Z"
   },
   {
    "duration": 245,
    "start_time": "2024-10-17T16:12:21.973Z"
   },
   {
    "duration": 543,
    "start_time": "2024-10-17T16:12:22.867Z"
   },
   {
    "duration": 18,
    "start_time": "2024-10-17T16:12:23.412Z"
   },
   {
    "duration": 3,
    "start_time": "2024-10-17T16:12:23.548Z"
   },
   {
    "duration": 4,
    "start_time": "2024-10-17T16:12:23.734Z"
   },
   {
    "duration": 17,
    "start_time": "2024-10-17T16:12:24.732Z"
   },
   {
    "duration": 9,
    "start_time": "2024-10-17T16:12:24.919Z"
   },
   {
    "duration": 256,
    "start_time": "2024-10-17T16:12:25.825Z"
   },
   {
    "duration": 6,
    "start_time": "2024-10-17T16:12:29.828Z"
   },
   {
    "duration": 20,
    "start_time": "2024-10-17T16:12:38.823Z"
   },
   {
    "duration": 144,
    "start_time": "2024-10-17T16:12:41.559Z"
   },
   {
    "duration": 5,
    "start_time": "2024-10-17T16:17:09.929Z"
   }
  ],
  "kernelspec": {
   "display_name": "Python 3 (ipykernel)",
   "language": "python",
   "name": "python3"
  },
  "language_info": {
   "codemirror_mode": {
    "name": "ipython",
    "version": 3
   },
   "file_extension": ".py",
   "mimetype": "text/x-python",
   "name": "python",
   "nbconvert_exporter": "python",
   "pygments_lexer": "ipython3",
   "version": "3.9.19"
  },
  "toc": {
   "base_numbering": 1,
   "nav_menu": {
    "height": "221.99px",
    "width": "188.99px"
   },
   "number_sections": true,
   "sideBar": true,
   "skip_h1_title": true,
   "title_cell": "Table of Contents",
   "title_sidebar": "Contents",
   "toc_cell": false,
   "toc_position": {
    "height": "calc(100% - 180px)",
    "left": "10px",
    "top": "150px",
    "width": "165px"
   },
   "toc_section_display": true,
   "toc_window_display": true
  }
 },
 "nbformat": 4,
 "nbformat_minor": 2
}
