{
 "cells": [
  {
   "cell_type": "markdown",
   "metadata": {},
   "source": [
    "# Proyecto Sprint 10: Aprendizaje Supervisado\n"
   ]
  },
  {
   "cell_type": "markdown",
   "metadata": {},
   "source": [
    "\n",
    "Los clientes de Beta Bank se están yendo, cada mes, poco a poco. Los banqueros descubrieron que es más barato salvar a los clientes existentes que atraer nuevos. Se necesita predecir si un cliente dejará el banco pronto. \n",
    "\n",
    "Se tienen los datos sobre el comportamiento pasado de los clientes y la terminación de contratos con el banco.\n",
    "\n",
    "Se busca crear un modelo con el máximo valor F1 posible y compararlo con la métrica AUC-ROC."
   ]
  },
  {
   "cell_type": "markdown",
   "metadata": {},
   "source": [
    "## Preparación de los datos"
   ]
  },
  {
   "cell_type": "code",
   "execution_count": 1,
   "metadata": {},
   "outputs": [],
   "source": [
    "# importar todas las librerías\n",
    "import pandas as pd\n",
    "import numpy as np\n",
    "import matplotlib.pyplot as plt\n",
    "from sklearn.model_selection import train_test_split\n",
    "from sklearn.preprocessing import StandardScaler\n",
    "from sklearn.tree import DecisionTreeClassifier\n",
    "from sklearn.metrics import recall_score, precision_score, f1_score, precision_recall_curve, roc_curve, roc_auc_score\n",
    "from sklearn.linear_model import LogisticRegression\n",
    "from sklearn.ensemble import RandomForestClassifier\n",
    "from sklearn.utils import shuffle\n"
   ]
  },
  {
   "cell_type": "markdown",
   "metadata": {},
   "source": [
    "<div class=\"alert alert-block alert-success\"> \n",
    "<b>Comentario del Revisor</b> <a class=\"tocSkip\"></a>\n",
    "\n",
    "Perfecto, buen trabajo importando las librerías necesarias para el desarrollo del proyecto. </div>"
   ]
  },
  {
   "cell_type": "code",
   "execution_count": 2,
   "metadata": {},
   "outputs": [
    {
     "data": {
      "text/html": [
       "<div>\n",
       "<style scoped>\n",
       "    .dataframe tbody tr th:only-of-type {\n",
       "        vertical-align: middle;\n",
       "    }\n",
       "\n",
       "    .dataframe tbody tr th {\n",
       "        vertical-align: top;\n",
       "    }\n",
       "\n",
       "    .dataframe thead th {\n",
       "        text-align: right;\n",
       "    }\n",
       "</style>\n",
       "<table border=\"1\" class=\"dataframe\">\n",
       "  <thead>\n",
       "    <tr style=\"text-align: right;\">\n",
       "      <th></th>\n",
       "      <th>RowNumber</th>\n",
       "      <th>CustomerId</th>\n",
       "      <th>Surname</th>\n",
       "      <th>CreditScore</th>\n",
       "      <th>Geography</th>\n",
       "      <th>Gender</th>\n",
       "      <th>Age</th>\n",
       "      <th>Tenure</th>\n",
       "      <th>Balance</th>\n",
       "      <th>NumOfProducts</th>\n",
       "      <th>HasCrCard</th>\n",
       "      <th>IsActiveMember</th>\n",
       "      <th>EstimatedSalary</th>\n",
       "      <th>Exited</th>\n",
       "    </tr>\n",
       "  </thead>\n",
       "  <tbody>\n",
       "    <tr>\n",
       "      <th>0</th>\n",
       "      <td>1</td>\n",
       "      <td>15634602</td>\n",
       "      <td>Hargrave</td>\n",
       "      <td>619</td>\n",
       "      <td>France</td>\n",
       "      <td>Female</td>\n",
       "      <td>42</td>\n",
       "      <td>2.0</td>\n",
       "      <td>0.00</td>\n",
       "      <td>1</td>\n",
       "      <td>1</td>\n",
       "      <td>1</td>\n",
       "      <td>101348.88</td>\n",
       "      <td>1</td>\n",
       "    </tr>\n",
       "    <tr>\n",
       "      <th>1</th>\n",
       "      <td>2</td>\n",
       "      <td>15647311</td>\n",
       "      <td>Hill</td>\n",
       "      <td>608</td>\n",
       "      <td>Spain</td>\n",
       "      <td>Female</td>\n",
       "      <td>41</td>\n",
       "      <td>1.0</td>\n",
       "      <td>83807.86</td>\n",
       "      <td>1</td>\n",
       "      <td>0</td>\n",
       "      <td>1</td>\n",
       "      <td>112542.58</td>\n",
       "      <td>0</td>\n",
       "    </tr>\n",
       "    <tr>\n",
       "      <th>2</th>\n",
       "      <td>3</td>\n",
       "      <td>15619304</td>\n",
       "      <td>Onio</td>\n",
       "      <td>502</td>\n",
       "      <td>France</td>\n",
       "      <td>Female</td>\n",
       "      <td>42</td>\n",
       "      <td>8.0</td>\n",
       "      <td>159660.80</td>\n",
       "      <td>3</td>\n",
       "      <td>1</td>\n",
       "      <td>0</td>\n",
       "      <td>113931.57</td>\n",
       "      <td>1</td>\n",
       "    </tr>\n",
       "    <tr>\n",
       "      <th>3</th>\n",
       "      <td>4</td>\n",
       "      <td>15701354</td>\n",
       "      <td>Boni</td>\n",
       "      <td>699</td>\n",
       "      <td>France</td>\n",
       "      <td>Female</td>\n",
       "      <td>39</td>\n",
       "      <td>1.0</td>\n",
       "      <td>0.00</td>\n",
       "      <td>2</td>\n",
       "      <td>0</td>\n",
       "      <td>0</td>\n",
       "      <td>93826.63</td>\n",
       "      <td>0</td>\n",
       "    </tr>\n",
       "    <tr>\n",
       "      <th>4</th>\n",
       "      <td>5</td>\n",
       "      <td>15737888</td>\n",
       "      <td>Mitchell</td>\n",
       "      <td>850</td>\n",
       "      <td>Spain</td>\n",
       "      <td>Female</td>\n",
       "      <td>43</td>\n",
       "      <td>2.0</td>\n",
       "      <td>125510.82</td>\n",
       "      <td>1</td>\n",
       "      <td>1</td>\n",
       "      <td>1</td>\n",
       "      <td>79084.10</td>\n",
       "      <td>0</td>\n",
       "    </tr>\n",
       "    <tr>\n",
       "      <th>...</th>\n",
       "      <td>...</td>\n",
       "      <td>...</td>\n",
       "      <td>...</td>\n",
       "      <td>...</td>\n",
       "      <td>...</td>\n",
       "      <td>...</td>\n",
       "      <td>...</td>\n",
       "      <td>...</td>\n",
       "      <td>...</td>\n",
       "      <td>...</td>\n",
       "      <td>...</td>\n",
       "      <td>...</td>\n",
       "      <td>...</td>\n",
       "      <td>...</td>\n",
       "    </tr>\n",
       "    <tr>\n",
       "      <th>9995</th>\n",
       "      <td>9996</td>\n",
       "      <td>15606229</td>\n",
       "      <td>Obijiaku</td>\n",
       "      <td>771</td>\n",
       "      <td>France</td>\n",
       "      <td>Male</td>\n",
       "      <td>39</td>\n",
       "      <td>5.0</td>\n",
       "      <td>0.00</td>\n",
       "      <td>2</td>\n",
       "      <td>1</td>\n",
       "      <td>0</td>\n",
       "      <td>96270.64</td>\n",
       "      <td>0</td>\n",
       "    </tr>\n",
       "    <tr>\n",
       "      <th>9996</th>\n",
       "      <td>9997</td>\n",
       "      <td>15569892</td>\n",
       "      <td>Johnstone</td>\n",
       "      <td>516</td>\n",
       "      <td>France</td>\n",
       "      <td>Male</td>\n",
       "      <td>35</td>\n",
       "      <td>10.0</td>\n",
       "      <td>57369.61</td>\n",
       "      <td>1</td>\n",
       "      <td>1</td>\n",
       "      <td>1</td>\n",
       "      <td>101699.77</td>\n",
       "      <td>0</td>\n",
       "    </tr>\n",
       "    <tr>\n",
       "      <th>9997</th>\n",
       "      <td>9998</td>\n",
       "      <td>15584532</td>\n",
       "      <td>Liu</td>\n",
       "      <td>709</td>\n",
       "      <td>France</td>\n",
       "      <td>Female</td>\n",
       "      <td>36</td>\n",
       "      <td>7.0</td>\n",
       "      <td>0.00</td>\n",
       "      <td>1</td>\n",
       "      <td>0</td>\n",
       "      <td>1</td>\n",
       "      <td>42085.58</td>\n",
       "      <td>1</td>\n",
       "    </tr>\n",
       "    <tr>\n",
       "      <th>9998</th>\n",
       "      <td>9999</td>\n",
       "      <td>15682355</td>\n",
       "      <td>Sabbatini</td>\n",
       "      <td>772</td>\n",
       "      <td>Germany</td>\n",
       "      <td>Male</td>\n",
       "      <td>42</td>\n",
       "      <td>3.0</td>\n",
       "      <td>75075.31</td>\n",
       "      <td>2</td>\n",
       "      <td>1</td>\n",
       "      <td>0</td>\n",
       "      <td>92888.52</td>\n",
       "      <td>1</td>\n",
       "    </tr>\n",
       "    <tr>\n",
       "      <th>9999</th>\n",
       "      <td>10000</td>\n",
       "      <td>15628319</td>\n",
       "      <td>Walker</td>\n",
       "      <td>792</td>\n",
       "      <td>France</td>\n",
       "      <td>Female</td>\n",
       "      <td>28</td>\n",
       "      <td>NaN</td>\n",
       "      <td>130142.79</td>\n",
       "      <td>1</td>\n",
       "      <td>1</td>\n",
       "      <td>0</td>\n",
       "      <td>38190.78</td>\n",
       "      <td>0</td>\n",
       "    </tr>\n",
       "  </tbody>\n",
       "</table>\n",
       "<p>10000 rows × 14 columns</p>\n",
       "</div>"
      ],
      "text/plain": [
       "      RowNumber  CustomerId    Surname  CreditScore Geography  Gender  Age  \\\n",
       "0             1    15634602   Hargrave          619    France  Female   42   \n",
       "1             2    15647311       Hill          608     Spain  Female   41   \n",
       "2             3    15619304       Onio          502    France  Female   42   \n",
       "3             4    15701354       Boni          699    France  Female   39   \n",
       "4             5    15737888   Mitchell          850     Spain  Female   43   \n",
       "...         ...         ...        ...          ...       ...     ...  ...   \n",
       "9995       9996    15606229   Obijiaku          771    France    Male   39   \n",
       "9996       9997    15569892  Johnstone          516    France    Male   35   \n",
       "9997       9998    15584532        Liu          709    France  Female   36   \n",
       "9998       9999    15682355  Sabbatini          772   Germany    Male   42   \n",
       "9999      10000    15628319     Walker          792    France  Female   28   \n",
       "\n",
       "      Tenure    Balance  NumOfProducts  HasCrCard  IsActiveMember  \\\n",
       "0        2.0       0.00              1          1               1   \n",
       "1        1.0   83807.86              1          0               1   \n",
       "2        8.0  159660.80              3          1               0   \n",
       "3        1.0       0.00              2          0               0   \n",
       "4        2.0  125510.82              1          1               1   \n",
       "...      ...        ...            ...        ...             ...   \n",
       "9995     5.0       0.00              2          1               0   \n",
       "9996    10.0   57369.61              1          1               1   \n",
       "9997     7.0       0.00              1          0               1   \n",
       "9998     3.0   75075.31              2          1               0   \n",
       "9999     NaN  130142.79              1          1               0   \n",
       "\n",
       "      EstimatedSalary  Exited  \n",
       "0           101348.88       1  \n",
       "1           112542.58       0  \n",
       "2           113931.57       1  \n",
       "3            93826.63       0  \n",
       "4            79084.10       0  \n",
       "...               ...     ...  \n",
       "9995         96270.64       0  \n",
       "9996        101699.77       0  \n",
       "9997         42085.58       1  \n",
       "9998         92888.52       1  \n",
       "9999         38190.78       0  \n",
       "\n",
       "[10000 rows x 14 columns]"
      ]
     },
     "execution_count": 2,
     "metadata": {},
     "output_type": "execute_result"
    }
   ],
   "source": [
    "# leer los datos y convertir a dataframe\n",
    "df = pd.read_csv('/datasets/Churn.csv')\n",
    "\n",
    "df"
   ]
  },
  {
   "cell_type": "markdown",
   "metadata": {},
   "source": [
    "<div class=\"alert alert-block alert-success\"> \n",
    "<b>Comentario del Revisor</b> <a class=\"tocSkip\"></a>\n",
    "\n",
    "Perfecto, buen trabajo cargando el dataset necesario para el desarrollo del proyecto.  </div>"
   ]
  },
  {
   "cell_type": "markdown",
   "metadata": {},
   "source": [
    "A primera vista, se observa que las columnas 'RowNumber', 'CustomerId', y 'Surname' son irrelevantes para incluir en el modelo y, en realidad, dejarlas afectaría el entrenamiento del modelo.\n"
   ]
  },
  {
   "cell_type": "code",
   "execution_count": 3,
   "metadata": {},
   "outputs": [
    {
     "name": "stdout",
     "output_type": "stream",
     "text": [
      "<class 'pandas.core.frame.DataFrame'>\n",
      "RangeIndex: 10000 entries, 0 to 9999\n",
      "Data columns (total 11 columns):\n",
      " #   Column           Non-Null Count  Dtype  \n",
      "---  ------           --------------  -----  \n",
      " 0   CreditScore      10000 non-null  int64  \n",
      " 1   Geography        10000 non-null  object \n",
      " 2   Gender           10000 non-null  object \n",
      " 3   Age              10000 non-null  int64  \n",
      " 4   Tenure           9091 non-null   float64\n",
      " 5   Balance          10000 non-null  float64\n",
      " 6   NumOfProducts    10000 non-null  int64  \n",
      " 7   HasCrCard        10000 non-null  int64  \n",
      " 8   IsActiveMember   10000 non-null  int64  \n",
      " 9   EstimatedSalary  10000 non-null  float64\n",
      " 10  Exited           10000 non-null  int64  \n",
      "dtypes: float64(3), int64(6), object(2)\n",
      "memory usage: 859.5+ KB\n"
     ]
    }
   ],
   "source": [
    "# Eliminar las columnas 'RowNumber', 'CustomerId' y 'Surname'\n",
    "df = df.drop(['RowNumber', 'CustomerId', 'Surname'], axis = 1)\n",
    "df.info()"
   ]
  },
  {
   "cell_type": "code",
   "execution_count": 4,
   "metadata": {},
   "outputs": [],
   "source": [
    "# renombrar las columnas\n",
    "df.columns = df.columns.str.lower()\n",
    "df = df.rename(columns={'creditscore': 'credit_score', 'numofproducts': 'num_of_products', 'hascrcard' : 'has_cr_card', 'isactivemember' : 'is_active_member', 'estimatedsalary' : 'estimated_salary'})\n",
    "#print(df.columns)"
   ]
  },
  {
   "cell_type": "code",
   "execution_count": 5,
   "metadata": {},
   "outputs": [
    {
     "name": "stdout",
     "output_type": "stream",
     "text": [
      "      credit_score geography  gender  age  tenure    balance  num_of_products  \\\n",
      "30             591     Spain  Female   39     NaN       0.00                3   \n",
      "48             550   Germany    Male   38     NaN  103391.38                1   \n",
      "51             585   Germany    Male   36     NaN  146050.97                2   \n",
      "53             655   Germany    Male   41     NaN  125561.97                1   \n",
      "60             742   Germany    Male   35     NaN  136857.00                1   \n",
      "...            ...       ...     ...  ...     ...        ...              ...   \n",
      "9944           744   Germany    Male   41     NaN  190409.34                2   \n",
      "9956           520    France  Female   46     NaN   85216.61                1   \n",
      "9964           479    France    Male   34     NaN  117593.48                2   \n",
      "9985           659    France    Male   36     NaN  123841.49                2   \n",
      "9999           792    France  Female   28     NaN  130142.79                1   \n",
      "\n",
      "      has_cr_card  is_active_member  estimated_salary  exited  \n",
      "30              1                 0         140469.38       1  \n",
      "48              0                 1          90878.13       0  \n",
      "51              0                 0          86424.57       0  \n",
      "53              0                 0         164040.94       1  \n",
      "60              0                 0          84509.57       0  \n",
      "...           ...               ...               ...     ...  \n",
      "9944            1                 1         138361.48       0  \n",
      "9956            1                 0         117369.52       1  \n",
      "9964            0                 0         113308.29       0  \n",
      "9985            1                 0          96833.00       0  \n",
      "9999            1                 0          38190.78       0  \n",
      "\n",
      "[909 rows x 11 columns]\n"
     ]
    }
   ],
   "source": [
    "#revisar valores nulos en la columna 'tenure'\n",
    "print(df[df['tenure'].isnull()])"
   ]
  },
  {
   "cell_type": "code",
   "execution_count": 6,
   "metadata": {},
   "outputs": [],
   "source": [
    "#rellenar los valores nulos con la media\n",
    "df['tenure'] = df['tenure'].fillna(df['tenure'].mean())"
   ]
  },
  {
   "cell_type": "markdown",
   "metadata": {},
   "source": [
    "Se rellenaron los valores nulos de la columna 'tenure', que representaban el 9% de la misma.\n",
    "\n",
    "Se tiene que todas las columnas son numéricas, excepto 2: 'geography' y 'gender'."
   ]
  },
  {
   "cell_type": "code",
   "execution_count": 7,
   "metadata": {},
   "outputs": [
    {
     "name": "stdout",
     "output_type": "stream",
     "text": [
      "['France' 'Spain' 'Germany']\n",
      "['Female' 'Male']\n"
     ]
    }
   ],
   "source": [
    "#revisar los valores de las columnas 'geography' y 'gender'\n",
    "\n",
    "print(df['geography'].unique())\n",
    "print(df['gender'].unique())"
   ]
  },
  {
   "cell_type": "markdown",
   "metadata": {},
   "source": [
    "La columna 'geography' sólo tiene tres valores distintos y 'gender' dos, por lo que no se consideran variables de alta cardinalidad y el enfoque One-Hot Encoding servirá muy bien para esta tarea, ya sea que se entrene un árbol de decisión, bosque aleatorio o una regresión logística."
   ]
  },
  {
   "cell_type": "code",
   "execution_count": 8,
   "metadata": {},
   "outputs": [
    {
     "data": {
      "text/html": [
       "<div>\n",
       "<style scoped>\n",
       "    .dataframe tbody tr th:only-of-type {\n",
       "        vertical-align: middle;\n",
       "    }\n",
       "\n",
       "    .dataframe tbody tr th {\n",
       "        vertical-align: top;\n",
       "    }\n",
       "\n",
       "    .dataframe thead th {\n",
       "        text-align: right;\n",
       "    }\n",
       "</style>\n",
       "<table border=\"1\" class=\"dataframe\">\n",
       "  <thead>\n",
       "    <tr style=\"text-align: right;\">\n",
       "      <th></th>\n",
       "      <th>credit_score</th>\n",
       "      <th>age</th>\n",
       "      <th>tenure</th>\n",
       "      <th>balance</th>\n",
       "      <th>num_of_products</th>\n",
       "      <th>has_cr_card</th>\n",
       "      <th>is_active_member</th>\n",
       "      <th>estimated_salary</th>\n",
       "      <th>exited</th>\n",
       "      <th>geography_Germany</th>\n",
       "      <th>geography_Spain</th>\n",
       "      <th>gender_Male</th>\n",
       "    </tr>\n",
       "  </thead>\n",
       "  <tbody>\n",
       "    <tr>\n",
       "      <th>0</th>\n",
       "      <td>619</td>\n",
       "      <td>42</td>\n",
       "      <td>2.0</td>\n",
       "      <td>0.00</td>\n",
       "      <td>1</td>\n",
       "      <td>1</td>\n",
       "      <td>1</td>\n",
       "      <td>101348.88</td>\n",
       "      <td>1</td>\n",
       "      <td>0</td>\n",
       "      <td>0</td>\n",
       "      <td>0</td>\n",
       "    </tr>\n",
       "    <tr>\n",
       "      <th>1</th>\n",
       "      <td>608</td>\n",
       "      <td>41</td>\n",
       "      <td>1.0</td>\n",
       "      <td>83807.86</td>\n",
       "      <td>1</td>\n",
       "      <td>0</td>\n",
       "      <td>1</td>\n",
       "      <td>112542.58</td>\n",
       "      <td>0</td>\n",
       "      <td>0</td>\n",
       "      <td>1</td>\n",
       "      <td>0</td>\n",
       "    </tr>\n",
       "    <tr>\n",
       "      <th>2</th>\n",
       "      <td>502</td>\n",
       "      <td>42</td>\n",
       "      <td>8.0</td>\n",
       "      <td>159660.80</td>\n",
       "      <td>3</td>\n",
       "      <td>1</td>\n",
       "      <td>0</td>\n",
       "      <td>113931.57</td>\n",
       "      <td>1</td>\n",
       "      <td>0</td>\n",
       "      <td>0</td>\n",
       "      <td>0</td>\n",
       "    </tr>\n",
       "    <tr>\n",
       "      <th>3</th>\n",
       "      <td>699</td>\n",
       "      <td>39</td>\n",
       "      <td>1.0</td>\n",
       "      <td>0.00</td>\n",
       "      <td>2</td>\n",
       "      <td>0</td>\n",
       "      <td>0</td>\n",
       "      <td>93826.63</td>\n",
       "      <td>0</td>\n",
       "      <td>0</td>\n",
       "      <td>0</td>\n",
       "      <td>0</td>\n",
       "    </tr>\n",
       "    <tr>\n",
       "      <th>4</th>\n",
       "      <td>850</td>\n",
       "      <td>43</td>\n",
       "      <td>2.0</td>\n",
       "      <td>125510.82</td>\n",
       "      <td>1</td>\n",
       "      <td>1</td>\n",
       "      <td>1</td>\n",
       "      <td>79084.10</td>\n",
       "      <td>0</td>\n",
       "      <td>0</td>\n",
       "      <td>1</td>\n",
       "      <td>0</td>\n",
       "    </tr>\n",
       "  </tbody>\n",
       "</table>\n",
       "</div>"
      ],
      "text/plain": [
       "   credit_score  age  tenure    balance  num_of_products  has_cr_card  \\\n",
       "0           619   42     2.0       0.00                1            1   \n",
       "1           608   41     1.0   83807.86                1            0   \n",
       "2           502   42     8.0  159660.80                3            1   \n",
       "3           699   39     1.0       0.00                2            0   \n",
       "4           850   43     2.0  125510.82                1            1   \n",
       "\n",
       "   is_active_member  estimated_salary  exited  geography_Germany  \\\n",
       "0                 1         101348.88       1                  0   \n",
       "1                 1         112542.58       0                  0   \n",
       "2                 0         113931.57       1                  0   \n",
       "3                 0          93826.63       0                  0   \n",
       "4                 1          79084.10       0                  0   \n",
       "\n",
       "   geography_Spain  gender_Male  \n",
       "0                0            0  \n",
       "1                1            0  \n",
       "2                0            0  \n",
       "3                0            0  \n",
       "4                1            0  "
      ]
     },
     "execution_count": 8,
     "metadata": {},
     "output_type": "execute_result"
    }
   ],
   "source": [
    "# programa nuevo dataframe con One-Hot, con el argumento drop_first=True para evitar la alta correlación en los datos. \n",
    "df_ohe = pd.get_dummies(df, drop_first=True)\n",
    "df_ohe.head()"
   ]
  },
  {
   "cell_type": "markdown",
   "metadata": {},
   "source": [
    "Se han convertido las variables nominales en booleanas, y el siguiente paso es estandarizar la escala de las variables numéricas.\n",
    "\n",
    "Para ello, se prepararán previamente todos los datos, obteniendo los conjuntos de entrenamiento y validación."
   ]
  },
  {
   "cell_type": "code",
   "execution_count": 9,
   "metadata": {},
   "outputs": [
    {
     "name": "stdout",
     "output_type": "stream",
     "text": [
      "(7500, 11)\n",
      "(2500, 11)\n",
      "(7500,)\n",
      "(2500,)\n"
     ]
    },
    {
     "name": "stderr",
     "output_type": "stream",
     "text": [
      "/tmp/ipykernel_349/4201111925.py:16: SettingWithCopyWarning: \n",
      "A value is trying to be set on a copy of a slice from a DataFrame.\n",
      "Try using .loc[row_indexer,col_indexer] = value instead\n",
      "\n",
      "See the caveats in the documentation: https://pandas.pydata.org/pandas-docs/stable/user_guide/indexing.html#returning-a-view-versus-a-copy\n",
      "  features_train[numeric] = scaler.transform(features_train[numeric])\n",
      "/opt/conda/envs/python3/lib/python3.9/site-packages/pandas/core/indexing.py:1738: SettingWithCopyWarning: \n",
      "A value is trying to be set on a copy of a slice from a DataFrame.\n",
      "Try using .loc[row_indexer,col_indexer] = value instead\n",
      "\n",
      "See the caveats in the documentation: https://pandas.pydata.org/pandas-docs/stable/user_guide/indexing.html#returning-a-view-versus-a-copy\n",
      "  self._setitem_single_column(loc, value[:, i].tolist(), pi)\n",
      "/tmp/ipykernel_349/4201111925.py:17: SettingWithCopyWarning: \n",
      "A value is trying to be set on a copy of a slice from a DataFrame.\n",
      "Try using .loc[row_indexer,col_indexer] = value instead\n",
      "\n",
      "See the caveats in the documentation: https://pandas.pydata.org/pandas-docs/stable/user_guide/indexing.html#returning-a-view-versus-a-copy\n",
      "  features_valid[numeric] = scaler.transform(features_valid[numeric])\n",
      "/opt/conda/envs/python3/lib/python3.9/site-packages/pandas/core/indexing.py:1738: SettingWithCopyWarning: \n",
      "A value is trying to be set on a copy of a slice from a DataFrame.\n",
      "Try using .loc[row_indexer,col_indexer] = value instead\n",
      "\n",
      "See the caveats in the documentation: https://pandas.pydata.org/pandas-docs/stable/user_guide/indexing.html#returning-a-view-versus-a-copy\n",
      "  self._setitem_single_column(loc, value[:, i].tolist(), pi)\n"
     ]
    }
   ],
   "source": [
    "# separar los datos en target y features\n",
    "target = df_ohe['exited']\n",
    "features = df_ohe.drop('exited', axis=1)\n",
    "\n",
    "# dividir los conjuntos de entrenamiento (75%) y validación (25%)\n",
    "features_train, features_valid, target_train, target_valid = train_test_split(features, target, test_size=0.25, random_state=12345)\n",
    "\n",
    "# define las variables numéricas\n",
    "numeric = ['credit_score', 'age', 'tenure', 'balance', 'num_of_products', 'estimated_salary']\n",
    "\n",
    "#crea instancia de scaler\n",
    "scaler = StandardScaler()\n",
    "\n",
    "# escalar las variables numéricas usando transform()\n",
    "scaler.fit(features_train[numeric])\n",
    "features_train[numeric] = scaler.transform(features_train[numeric])\n",
    "features_valid[numeric] = scaler.transform(features_valid[numeric])\n",
    "\n",
    "print(features_train.shape)\n",
    "print(features_valid.shape)\n",
    "print(target_train.shape)\n",
    "print(target_valid.shape)\n",
    "\n"
   ]
  },
  {
   "cell_type": "markdown",
   "metadata": {},
   "source": [
    "## Entrenamiento del modelo (parte 1)\n",
    "Se entrenarán diferentes modelos sin tener en cuenta el desequilibrio de clases."
   ]
  },
  {
   "cell_type": "markdown",
   "metadata": {},
   "source": [
    "### Árbol de decisión"
   ]
  },
  {
   "cell_type": "code",
   "execution_count": 10,
   "metadata": {},
   "outputs": [
    {
     "name": "stdout",
     "output_type": "stream",
     "text": [
      "Recall: 0.491588785046729\n",
      "Precisión: 0.4781818181818182\n",
      "Puntuación F1 0.48479262672811063\n"
     ]
    }
   ],
   "source": [
    "# entrenamiento de árbol de decisión\n",
    "model = DecisionTreeClassifier(random_state=12345)\n",
    "model.fit(features_train, target_train)\n",
    "predicted_valid = model.predict(features_valid)\n",
    "\n",
    "\n",
    "precision = precision_score(target_valid, predicted_valid)\n",
    "recall = recall_score(target_valid, predicted_valid)\n",
    "f1 = f1_score(target_valid, predicted_valid)\n",
    "\n",
    "\n",
    "print('Recall:', recall)\n",
    "print('Precisión:', precision)\n",
    "print('Puntuación F1', f1)\n"
   ]
  },
  {
   "cell_type": "markdown",
   "metadata": {},
   "source": [
    "La métrica de recall indica que el modelo ha identificado correctamente 49% de las respuestas positivas de entre todas las que tienen una etiqueta positiva.\n",
    "La métrica de precisión indica que el modelo obtuvo correctamente un 47% de sus predicciones positivas.\n",
    "El valor F1 combina las dos anteriores, obteniendo una puntuación de 0.48.\n",
    "\n",
    "Por lo anterior, el modelo es mejor para encontrar verdaderos positivos, pero no lo suficientemente bueno."
   ]
  },
  {
   "cell_type": "markdown",
   "metadata": {},
   "source": [
    "### Regresión Logística"
   ]
  },
  {
   "cell_type": "code",
   "execution_count": 11,
   "metadata": {},
   "outputs": [
    {
     "name": "stdout",
     "output_type": "stream",
     "text": [
      "Recall: 0.19813084112149532\n",
      "Precision: 0.5760869565217391\n",
      "F1: 0.2948539638386648\n"
     ]
    }
   ],
   "source": [
    "# entrenamiento de regresión logística\n",
    "model = LogisticRegression(random_state=12345, solver='liblinear')\n",
    "model.fit(features_train, target_train)\n",
    "predicted_valid = model.predict(features_valid)\n",
    "\n",
    "print('Recall:', recall_score(target_valid, predicted_valid))\n",
    "print('Precision:', precision_score(target_valid, predicted_valid))\n",
    "print('F1:', f1_score(target_valid, predicted_valid))\n"
   ]
  },
  {
   "cell_type": "markdown",
   "metadata": {},
   "source": [
    "Este modelo no es mejor para encontrar verdaderos positivos (métrica de recall) pero predice correctamente una mayor cantidad de positivos (predice menos falsos positivos con lo que incrementa la precisión). Por lo anterior, la puntuación F1 no mejora."
   ]
  },
  {
   "cell_type": "markdown",
   "metadata": {},
   "source": [
    "### Bosque Aleatorio"
   ]
  },
  {
   "cell_type": "code",
   "execution_count": 12,
   "metadata": {},
   "outputs": [
    {
     "name": "stdout",
     "output_type": "stream",
     "text": [
      "Puntuación del modelo con (n_estimators = 24 y max_depth = 9): \n",
      "Recall: 0.4280373831775701\n",
      "Precision: 0.8120567375886525\n",
      "F1: 0.5605875152998776\n"
     ]
    }
   ],
   "source": [
    "# entrenamiento de bosque aleatorio\n",
    "\n",
    "best_score = 0\n",
    "best_est = 0\n",
    "best_depth = 0\n",
    "for est in range(10, 41): # selección del rango del hiperparámetro\n",
    "    for depth in range (1, 11):\n",
    "        model = RandomForestClassifier(random_state=54321, n_estimators=est, max_depth = depth) # configura el número y profundidad de árboles\n",
    "        model.fit(features_train, target_train)\n",
    "        predicted_valid = model.predict(features_valid)\n",
    "        f1 = f1_score(target_valid, predicted_valid)   \n",
    "\n",
    "        if f1 > best_score:\n",
    "                best_score = f1 # guarda la mejor puntuación de accuracy en el conjunto de validación\n",
    "                recall_best_score = recall_score(target_valid, predicted_valid)\n",
    "                precision_best_score = precision_score(target_valid, predicted_valid)\n",
    "                best_est = est # guarda el número de estimadores que corresponden a la mejor puntuación de exactitud\n",
    "                best_depth = depth\n",
    "\n",
    "print(\"Puntuación del modelo con (n_estimators = {} y max_depth = {}): \".format(best_est, best_depth))\n",
    "print('Recall:', recall_best_score)\n",
    "print('Precision:', precision_best_score)\n",
    "print('F1:', best_score)"
   ]
  },
  {
   "cell_type": "markdown",
   "metadata": {},
   "source": [
    "Se encontró que un árbol de decisión con 24 árboles y profundidad de 9 obtiene una puntuación f1 de 0.56, aunque no es muy bueno encontrando verdaderos positivos y la puntuación final sigue siendo insuficiente."
   ]
  },
  {
   "cell_type": "markdown",
   "metadata": {},
   "source": [
    "## Equilibrio de clases"
   ]
  },
  {
   "cell_type": "markdown",
   "metadata": {},
   "source": [
    "### Class_weight"
   ]
  },
  {
   "cell_type": "markdown",
   "metadata": {},
   "source": [
    "El primer enfoque a probar para mejorar el equilibrio de clases es con la regresión logística, ponderando igualmente las clases con el argumento class_weight='balanced'."
   ]
  },
  {
   "cell_type": "code",
   "execution_count": 13,
   "metadata": {},
   "outputs": [
    {
     "name": "stdout",
     "output_type": "stream",
     "text": [
      "Recall: 0.7046728971962617\n",
      "Precision: 0.3935281837160752\n",
      "F1: 0.5050234427327529\n"
     ]
    }
   ],
   "source": [
    "model = LogisticRegression(random_state=12345, class_weight='balanced', solver='liblinear')\n",
    "model.fit(features_train, target_train)\n",
    "predicted_valid = model.predict(features_valid)\n",
    "\n",
    "print('Recall:', recall_score(target_valid, predicted_valid))\n",
    "print('Precision:', precision_score(target_valid, predicted_valid))\n",
    "print('F1:', f1_score(target_valid, predicted_valid))"
   ]
  },
  {
   "cell_type": "markdown",
   "metadata": {},
   "source": [
    "Este modelo es significativamente mejor para encontrar verdaderos positivos (métrica de recall) pero predice incorrectamente una gran cantidad de positivos (predice muchos falsos positivos, al rededor del 61%). La puntuación F1 mejora en contraste con el mismo modelo sin equilibrio de clases, pero no es el mejor."
   ]
  },
  {
   "cell_type": "markdown",
   "metadata": {},
   "source": [
    "### Sobremuestreo"
   ]
  },
  {
   "cell_type": "code",
   "execution_count": 14,
   "metadata": {},
   "outputs": [
    {
     "name": "stdout",
     "output_type": "stream",
     "text": [
      "1502\n",
      "5998\n"
     ]
    }
   ],
   "source": [
    "# investiga la occurrencia de clases\n",
    "print(target_train[target_train==1].count())\n",
    "print(target_train[target_train==0].count())"
   ]
  },
  {
   "cell_type": "markdown",
   "metadata": {},
   "source": [
    "Las clases negativas representan aproximadamente el 80% de las ocurrencias."
   ]
  },
  {
   "cell_type": "markdown",
   "metadata": {},
   "source": [
    "Después, se probarán los métodos de sobremuestreo y submuestreo."
   ]
  },
  {
   "cell_type": "markdown",
   "metadata": {},
   "source": [
    "Para el sobremuestreo, se duplicarán las ocurrencias positivas de manera que representen un 33% de las ocurrencias, en lugar de 20% sin sobremuestreo."
   ]
  },
  {
   "cell_type": "code",
   "execution_count": 15,
   "metadata": {},
   "outputs": [
    {
     "name": "stdout",
     "output_type": "stream",
     "text": [
      "3004\n",
      "5998\n",
      "(9002, 11)\n",
      "(9002,)\n"
     ]
    }
   ],
   "source": [
    "features_zeros = features_train[target_train == 0]\n",
    "features_ones = features_train[target_train == 1]\n",
    "target_zeros = target_train[target_train == 0]\n",
    "target_ones = target_train[target_train == 1]\n",
    "\n",
    "features_train_upsampled = pd.concat([features_zeros] + [features_ones] * 2)\n",
    "target_train_upsampled = pd.concat([target_zeros] + [target_ones] * 2)\n",
    "\n",
    "\n",
    "# mezcla los datos\n",
    "features_upsampled, target_upsampled = shuffle(features_train_upsampled, target_train_upsampled, random_state=12345)\n",
    "\n",
    "print(target_upsampled[target_upsampled==1].count())\n",
    "print(target_upsampled[target_upsampled==0].count())\n",
    "\n",
    "print(features_upsampled.shape)\n",
    "print(target_upsampled.shape)"
   ]
  },
  {
   "cell_type": "markdown",
   "metadata": {},
   "source": [
    "#### Regresión logística"
   ]
  },
  {
   "cell_type": "code",
   "execution_count": 16,
   "metadata": {},
   "outputs": [
    {
     "name": "stdout",
     "output_type": "stream",
     "text": [
      "F1 sobremuestreo sin balance de clase: 0.46138807429130013\n",
      "F1 sobremuestreo con balance de clase: 0.5050234427327529\n"
     ]
    }
   ],
   "source": [
    "# entrena modelo de regresión logística con los datos con sobremuestra\n",
    "model = LogisticRegression(random_state = 12345, solver = 'liblinear')\n",
    "model.fit(features_upsampled, target_upsampled)\n",
    "predicted_valid = model.predict(features_valid)\n",
    "\n",
    "print('F1 sobremuestreo sin balance de clase:', f1_score(target_valid, predicted_valid))\n",
    "\n",
    "model = LogisticRegression(random_state = 12345, class_weight='balanced', solver = 'liblinear')\n",
    "model.fit(features_upsampled, target_upsampled)\n",
    "predicted_valid = model.predict(features_valid)\n",
    "\n",
    "print('F1 sobremuestreo con balance de clase:', f1_score(target_valid, predicted_valid))\n"
   ]
  },
  {
   "cell_type": "markdown",
   "metadata": {},
   "source": [
    "El score F1 mejoró en contraste con el primer modelo de regresión logística que se entrenó, sin balanceo de clases, pero no lo hizo en comparación con el modelo de regresión logística con balance de clase."
   ]
  },
  {
   "cell_type": "markdown",
   "metadata": {},
   "source": [
    "#### Árbol de decisión"
   ]
  },
  {
   "cell_type": "code",
   "execution_count": 17,
   "metadata": {},
   "outputs": [
    {
     "name": "stdout",
     "output_type": "stream",
     "text": [
      "F1 : 0.48314606741573035\n"
     ]
    }
   ],
   "source": [
    "# entrena árbol de decisión con los datos con sobremuestra\n",
    "\n",
    "model = DecisionTreeClassifier(random_state=12345)\n",
    "model.fit(features_upsampled, target_upsampled)\n",
    "predicted_valid = model.predict(features_valid)\n",
    "\n",
    "print('F1 :', f1_score(target_valid, predicted_valid))"
   ]
  },
  {
   "cell_type": "markdown",
   "metadata": {},
   "source": [
    "El árbol de decisión con sobremuestreo tampoco demuestra mejoría."
   ]
  },
  {
   "cell_type": "markdown",
   "metadata": {},
   "source": [
    "#### Bosque aleatorio"
   ]
  },
  {
   "cell_type": "code",
   "execution_count": 18,
   "metadata": {},
   "outputs": [
    {
     "name": "stdout",
     "output_type": "stream",
     "text": [
      "F1 : 0.6286919831223629\n"
     ]
    }
   ],
   "source": [
    "# entrenamiento de bosque aleatorio con los datos con sobremuestra, y el número de estimadores y profundidad encontrados previamente.\n",
    "\n",
    "model = RandomForestClassifier(random_state=54321, n_estimators=24, max_depth = 9) \n",
    "model.fit(features_upsampled, target_upsampled)\n",
    "predicted_valid = model.predict(features_valid)\n",
    "\n",
    "print('F1 :', f1_score(target_valid, predicted_valid))"
   ]
  },
  {
   "cell_type": "code",
   "execution_count": 19,
   "metadata": {},
   "outputs": [
    {
     "name": "stdout",
     "output_type": "stream",
     "text": [
      "Puntuación del modelo con (n_estimators = 21 y max_depth = 9): \n",
      "F1: 0.6337880377754459\n"
     ]
    }
   ],
   "source": [
    "# entrena otro bosque aleatorio que encuentre un valor f1 óptimo dentro de los rangos de los hiperparámetros\n",
    "best_score = 0\n",
    "best_est = 0\n",
    "best_depth = 0\n",
    "for est in range(10, 41): # selección del rango del hiperparámetro\n",
    "    for depth in range (1, 11):\n",
    "        model = RandomForestClassifier(random_state=54321, n_estimators=est, max_depth = depth) # configura el número y profundidad de árboles\n",
    "        model.fit(features_upsampled, target_upsampled)\n",
    "        predicted_valid = model.predict(features_valid)\n",
    "        f1 = f1_score(target_valid, predicted_valid)   \n",
    "\n",
    "        if f1 > best_score:\n",
    "                best_score = f1 # guarda la mejor puntuación de accuracy en el conjunto de validación\n",
    "                best_est = est # guarda el número de estimadores que corresponden a la mejor puntuación de exactitud\n",
    "                best_depth = depth\n",
    "\n",
    "print(\"Puntuación del modelo con (n_estimators = {} y max_depth = {}): \".format(best_est, best_depth))\n",
    "print('F1:', best_score)"
   ]
  },
  {
   "cell_type": "markdown",
   "metadata": {},
   "source": [
    "El bosque aleatorio con los datos con sobremuestra tiene una mejoría aceptable."
   ]
  },
  {
   "cell_type": "markdown",
   "metadata": {},
   "source": [
    "### Submuestreo"
   ]
  },
  {
   "cell_type": "markdown",
   "metadata": {},
   "source": [
    "Para el submuestreo, la última técnica de equilibrio de clases a probar, se reducirá la frecuencia de la clase predominante (0) en un 35%, es decir, quedará un 65% de los datos de la clase negativa."
   ]
  },
  {
   "cell_type": "code",
   "execution_count": 36,
   "metadata": {},
   "outputs": [
    {
     "name": "stdout",
     "output_type": "stream",
     "text": [
      "1196\n",
      "3123\n",
      "(4319, 11)\n",
      "(4319,)\n"
     ]
    }
   ],
   "source": [
    "# obtén features y target eliminando 35% de las ocurrencias negativas.\n",
    "features_downsampled = pd.concat([features_zeros.sample(frac = 0.65, random_state=12345)] + [features_ones])\n",
    "target_downsampled = pd.concat([target_zeros.sample(frac = 0.65, random_state=12345)] + [target_ones])\n",
    "\n",
    "# mezcla los datos\n",
    "features_downsampled, target_downsampled = shuffle(features_downsampled, target_downsampled, random_state = 12345)\n",
    "\n",
    "print(target_downsampled[target_downsampled==1].count())\n",
    "print(target_downsampled[target_downsampled==0].count())\n",
    "\n",
    "print(features_downsampled.shape)\n",
    "print(target_downsampled.shape)\n"
   ]
  },
  {
   "cell_type": "markdown",
   "metadata": {},
   "source": [
    "#### Regresión logística"
   ]
  },
  {
   "cell_type": "code",
   "execution_count": 21,
   "metadata": {},
   "outputs": [
    {
     "name": "stdout",
     "output_type": "stream",
     "text": [
      "F1 con submuestra de datos: 0.41269841269841273\n",
      "F1 con submuestra de datos y balanceo de clase: 0.505685618729097\n"
     ]
    }
   ],
   "source": [
    "# entrena modelo regresión logística con los nuevos datos\n",
    "\n",
    "model = LogisticRegression(random_state = 12345, solver = 'liblinear')\n",
    "model.fit(features_downsampled, target_downsampled)\n",
    "predicted_valid = model.predict(features_valid)\n",
    "\n",
    "print('F1 con submuestra de datos:', f1_score(target_valid, predicted_valid))\n",
    "\n",
    "\n",
    "model = LogisticRegression(random_state = 12345, class_weight='balanced', solver = 'liblinear')\n",
    "model.fit(features_downsampled, target_downsampled)\n",
    "predicted_valid = model.predict(features_valid)\n",
    "\n",
    "print('F1 con submuestra de datos y balanceo de clase:', f1_score(target_valid, predicted_valid))"
   ]
  },
  {
   "cell_type": "markdown",
   "metadata": {},
   "source": [
    "La regresión logística continua sin dar resultados notablemente mejorados."
   ]
  },
  {
   "cell_type": "markdown",
   "metadata": {},
   "source": [
    "#### Árbol de decisión"
   ]
  },
  {
   "cell_type": "code",
   "execution_count": 22,
   "metadata": {},
   "outputs": [
    {
     "name": "stdout",
     "output_type": "stream",
     "text": [
      "F1 : 0.51067463706234\n"
     ]
    }
   ],
   "source": [
    "# entrena árbol de decisión con los datos con submuestra\n",
    "\n",
    "model = DecisionTreeClassifier(random_state=12345)\n",
    "model.fit(features_downsampled, target_downsampled)\n",
    "predicted_valid = model.predict(features_valid)\n",
    "\n",
    "print('F1 :', f1_score(target_valid, predicted_valid))"
   ]
  },
  {
   "cell_type": "markdown",
   "metadata": {},
   "source": [
    "#### Bosque aleatorio"
   ]
  },
  {
   "cell_type": "code",
   "execution_count": 23,
   "metadata": {},
   "outputs": [
    {
     "name": "stdout",
     "output_type": "stream",
     "text": [
      "F1 : 0.6019845644983463\n"
     ]
    }
   ],
   "source": [
    "# entrenamiento de bosque aleatorio\n",
    "\n",
    "model = RandomForestClassifier(random_state=54321, n_estimators=24, max_depth = 9) \n",
    "model.fit(features_downsampled, target_downsampled)\n",
    "predicted_valid = model.predict(features_valid)\n",
    "\n",
    "print('F1 :', f1_score(target_valid, predicted_valid))"
   ]
  },
  {
   "cell_type": "code",
   "execution_count": 24,
   "metadata": {},
   "outputs": [
    {
     "name": "stdout",
     "output_type": "stream",
     "text": [
      "Puntuación del modelo con (n_estimators = 21 y max_depth = 8): \n",
      "F1: 0.6114221724524076\n"
     ]
    }
   ],
   "source": [
    "# entrena otro bosque aleatorio\n",
    "best_score = 0\n",
    "best_est = 0\n",
    "best_depth = 0\n",
    "for est in range(10, 41): # selección del rango del hiperparámetro\n",
    "    for depth in range (1, 11):\n",
    "        model = RandomForestClassifier(random_state=54321, n_estimators=est, max_depth = depth) # configura el número y profundidad de árboles\n",
    "        model.fit(features_downsampled, target_downsampled)\n",
    "        predicted_valid = model.predict(features_valid)\n",
    "        f1 = f1_score(target_valid, predicted_valid)   \n",
    "\n",
    "        if f1 > best_score:\n",
    "                best_score = f1 # guarda la mejor puntuación de accuracy en el conjunto de validación\n",
    "                best_est = est # guarda el número de estimadores que corresponden a la mejor puntuación de exactitud\n",
    "                best_depth = depth\n",
    "\n",
    "print(\"Puntuación del modelo con (n_estimators = {} y max_depth = {}): \".format(best_est, best_depth))\n",
    "print('F1:', best_score)"
   ]
  },
  {
   "cell_type": "markdown",
   "metadata": {},
   "source": [
    "El submuestreo en el bosque aleatorio también mejoró el modelo, pero no tanto como el sobremuestreo."
   ]
  },
  {
   "cell_type": "markdown",
   "metadata": {},
   "source": [
    "## Prueba final\n",
    "\n",
    "Para la prueba final, se divide finalmente el dataset en conjuntos de entrenamiento (60%), validación (20%) y prueba (20%), para testar el mejor modelo: el bosque aleatorio aplicando la técnica de sobremuestreo."
   ]
  },
  {
   "cell_type": "code",
   "execution_count": 25,
   "metadata": {},
   "outputs": [],
   "source": [
    "# dividir el dataset en conjunto de entrenamiento y resto\n",
    "df_train, df_test_and_validation = train_test_split(df_ohe, test_size=0.40, random_state=12345) # separa los datos en entrenamiento y resto\n",
    "df_test, df_validation = train_test_split(df_test_and_validation, test_size=0.50, random_state=12345) # separa los datos restantes en prueba y validación\n",
    "\n",
    "# declara variables para las características y para la característica objetivo\n",
    "\n",
    "features_train = df_train.drop(['exited'], axis=1)\n",
    "target_train = df_train['exited']\n",
    "\n",
    "features_validation = df_validation.drop(['exited'], axis=1)\n",
    "target_validation = df_validation['exited']\n",
    "\n",
    "features_test = df_test.drop(['exited'], axis=1)\n",
    "target_test = df_test['exited']\n",
    "\n"
   ]
  },
  {
   "cell_type": "code",
   "execution_count": 26,
   "metadata": {},
   "outputs": [
    {
     "name": "stdout",
     "output_type": "stream",
     "text": [
      "(6000, 11)\n",
      "(6000,)\n",
      "(2000, 11)\n",
      "(2000,)\n",
      "(2000, 11)\n",
      "(2000,)\n"
     ]
    },
    {
     "name": "stderr",
     "output_type": "stream",
     "text": [
      "/tmp/ipykernel_349/3222388798.py:4: SettingWithCopyWarning: \n",
      "A value is trying to be set on a copy of a slice from a DataFrame.\n",
      "Try using .loc[row_indexer,col_indexer] = value instead\n",
      "\n",
      "See the caveats in the documentation: https://pandas.pydata.org/pandas-docs/stable/user_guide/indexing.html#returning-a-view-versus-a-copy\n",
      "  features_valid[numeric] = scaler.transform(features_valid[numeric])\n",
      "/opt/conda/envs/python3/lib/python3.9/site-packages/pandas/core/indexing.py:1738: SettingWithCopyWarning: \n",
      "A value is trying to be set on a copy of a slice from a DataFrame.\n",
      "Try using .loc[row_indexer,col_indexer] = value instead\n",
      "\n",
      "See the caveats in the documentation: https://pandas.pydata.org/pandas-docs/stable/user_guide/indexing.html#returning-a-view-versus-a-copy\n",
      "  self._setitem_single_column(loc, value[:, i].tolist(), pi)\n"
     ]
    }
   ],
   "source": [
    "\n",
    "# escalar las variables numéricas usando transform()\n",
    "scaler.fit(features_train[numeric])\n",
    "features_train[numeric] = scaler.transform(features_train[numeric])\n",
    "features_valid[numeric] = scaler.transform(features_valid[numeric])\n",
    "features_test[numeric] = scaler.transform(features_test[numeric])\n",
    "\n",
    "print(features_train.shape)\n",
    "print(target_train.shape)\n",
    "print(features_validation.shape)\n",
    "print(target_validation.shape)\n",
    "print(features_test.shape)\n",
    "print(target_test.shape)\n"
   ]
  },
  {
   "cell_type": "code",
   "execution_count": 27,
   "metadata": {},
   "outputs": [
    {
     "name": "stdout",
     "output_type": "stream",
     "text": [
      "1196\n",
      "4804\n"
     ]
    }
   ],
   "source": [
    "# investiga la occurrencia de clases\n",
    "print(target_train[target_train==1].count())\n",
    "print(target_train[target_train==0].count())"
   ]
  },
  {
   "cell_type": "code",
   "execution_count": 28,
   "metadata": {},
   "outputs": [
    {
     "name": "stdout",
     "output_type": "stream",
     "text": [
      "2392\n",
      "4804\n",
      "(7196, 11)\n",
      "(7196,)\n"
     ]
    }
   ],
   "source": [
    "# realiza el sobremuestreo\n",
    "features_zeros = features_train[target_train == 0]\n",
    "features_ones = features_train[target_train == 1]\n",
    "target_zeros = target_train[target_train == 0]\n",
    "target_ones = target_train[target_train == 1]\n",
    "\n",
    "features_train_upsampled = pd.concat([features_zeros] + [features_ones] * 2)\n",
    "target_train_upsampled = pd.concat([target_zeros] + [target_ones] * 2)\n",
    "\n",
    "# mezcla los datos\n",
    "features_upsampled, target_upsampled = shuffle(features_train_upsampled, target_train_upsampled, random_state=12345)\n",
    "\n",
    "print(target_upsampled[target_upsampled==1].count())\n",
    "print(target_upsampled[target_upsampled==0].count())\n",
    "\n",
    "print(features_upsampled.shape)\n",
    "print(target_upsampled.shape)"
   ]
  },
  {
   "cell_type": "code",
   "execution_count": 29,
   "metadata": {},
   "outputs": [
    {
     "name": "stdout",
     "output_type": "stream",
     "text": [
      "Puntuación del modelo final con (n_estimators = 36 y max_depth = 8): \n",
      "F1: 0.6298788694481829\n"
     ]
    }
   ],
   "source": [
    "# entrenamiento del bosque aleatorio para aplicar al conjunto de prueba\n",
    "best_score = 0\n",
    "best_est = 0\n",
    "best_depth = 0\n",
    "for est in range(10, 41): # selección del rango del hiperparámetro\n",
    "    for depth in range (1, 11):\n",
    "        model = RandomForestClassifier(random_state=54321, n_estimators=est, max_depth = depth) # configura el número y profundidad de árboles\n",
    "        model.fit(features_upsampled, target_upsampled)\n",
    "        predicted_test = model.predict(features_test)\n",
    "        f1 = f1_score(target_test, predicted_test)   \n",
    "\n",
    "        if f1 > best_score:\n",
    "                best_score = f1 # guarda la mejor puntuación de accuracy en el conjunto de validación\n",
    "                best_est = est # guarda el número de estimadores que corresponden a la mejor puntuación de exactitud\n",
    "                best_depth = depth\n",
    "\n",
    "print(\"Puntuación del modelo final con (n_estimators = {} y max_depth = {}): \".format(best_est, best_depth))\n",
    "print('F1:', best_score)"
   ]
  },
  {
   "cell_type": "markdown",
   "metadata": {},
   "source": [
    "El modelo de la prueba final tiene una puntuación de 0.629. Para ver si esta puntuación puede mejorar, se ajustará el umbral en 10 puntos porcentuales."
   ]
  },
  {
   "cell_type": "code",
   "execution_count": 33,
   "metadata": {},
   "outputs": [
    {
     "name": "stdout",
     "output_type": "stream",
     "text": [
      "F1 score:  0.6307339449541286\n"
     ]
    }
   ],
   "source": [
    "# recrea el modelo anterior con los hiperparámetros obtenidos.\n",
    "\n",
    "model = RandomForestClassifier(random_state=54321, n_estimators = 36, max_depth = 8)\n",
    "model.fit(features_upsampled, target_upsampled)\n",
    "\n",
    "probabilities_test = model.predict_proba(features_test)\n",
    "probabilities_one_test = probabilities_test[:, 1]\n",
    "\n",
    "# Ajuste de umbral\n",
    "threshold = 0.40\n",
    "predicted_test = probabilities_one_test > threshold\n",
    "\n",
    "print('F1 score: ',f1_score(target_test, predicted_test))\n",
    "\n"
   ]
  },
  {
   "cell_type": "markdown",
   "metadata": {},
   "source": [
    "## Curva AUC-ROC\n",
    "La métrica AUC-ROC, a diferencia del valor F1, considera métricas que no implican dividir entre cero: la tasa de verdaderos positivos y la tasa de falsos positivos."
   ]
  },
  {
   "cell_type": "code",
   "execution_count": 34,
   "metadata": {},
   "outputs": [
    {
     "data": {
      "image/png": "[encoded data removed]",
      "text/plain": [
       "<Figure size 640x480 with 1 Axes>"
      ]
     },
     "metadata": {},
     "output_type": "display_data"
    }
   ],
   "source": [
    "# encuentra la curva roc\n",
    "\n",
    "fpr, tpr, thresholds = roc_curve(target_test, probabilities_one_test)\n",
    "\n",
    "plt.figure()\n",
    "\n",
    "# traza la gráfica\n",
    "plt.plot(fpr, tpr)\n",
    "# Curva ROC para modelo aleatorio\n",
    "plt.plot([0, 1], [0, 1], linestyle='--')\n",
    "\n",
    "# establecer el límite para los ejes\n",
    "plt.xlim([0.0, 1.0])\n",
    "plt.ylim([0.0, 1.0])\n",
    "\n",
    "# nombra los ejes y el título\n",
    "plt.xlabel('Tasa de falsos positivos')\n",
    "plt.ylabel('Tasa de verdaderos positivos')\n",
    "plt.title('Curva ROC')\n",
    "plt.show()\n",
    "\n"
   ]
  },
  {
   "cell_type": "code",
   "execution_count": 35,
   "metadata": {},
   "outputs": [
    {
     "name": "stdout",
     "output_type": "stream",
     "text": [
      "0.8504406632026568\n"
     ]
    }
   ],
   "source": [
    "# calcula el valor AUC-ROC\n",
    "auc_roc = roc_auc_score(target_test, probabilities_one_test)\n",
    "\n",
    "print(auc_roc)\n"
   ]
  },
  {
   "cell_type": "markdown",
   "metadata": {},
   "source": [
    "El valor del área bajo la curva ROC sugiere que hay un 85% de probabilidades de que el modelo clasificará de manera correcta una ocurrencia positiva elegido al azar más alta que una ocurrencia negativa elegida al azar."
   ]
  },
  {
   "cell_type": "markdown",
   "metadata": {},
   "source": [
    "## Conclusión"
   ]
  },
  {
   "cell_type": "markdown",
   "metadata": {},
   "source": [
    "**Resumen de los hallazgos obtenidos:**\n",
    "    \n",
    "**Puntuación F1 de los modelos sin tomar en cuenta el desequilibrio de clases:**\n",
    "\n",
    "Árbol de decisión: 0.484\n",
    "\n",
    "Regresión logística: 0.294\n",
    "\n",
    "Bosque aleatorio: 0.56\n",
    "\n",
    "\n",
    "\n",
    "**Puntuacíón F1 de los modelos aplicando técnicas para corregir el desequilibrio de clases:**\n",
    "\n",
    "Árbol de decisión: 0.51\n",
    "\n",
    "Regresión logística: 0.505\n",
    "\n",
    "Bosque aleatorio: 0.634\n",
    "\n",
    "**Puntuación F1 del modelo final:**\n",
    "\n",
    "Sin ajuste de umbral: 0.629\n",
    "\n",
    "Con ajuste de umbral: 0.63\n",
    "\n",
    "**Puntuación AUC-ROC del modelo elegido:**\n",
    "\n",
    "0.85\n"
   ]
  }
 ],
 "metadata": {
  "ExecuteTimeLog": [
   {
    "duration": 290,
    "start_time": "2025-01-11T18:50:43.111Z"
   },
   {
    "duration": 36,
    "start_time": "2025-01-11T18:51:58.474Z"
   },
   {
    "duration": 834,
    "start_time": "2025-01-11T18:55:39.712Z"
   },
   {
    "duration": 4,
    "start_time": "2025-01-11T18:56:12.092Z"
   },
   {
    "duration": 13,
    "start_time": "2025-01-11T18:56:18.447Z"
   },
   {
    "duration": 318,
    "start_time": "2025-01-11T18:56:42.977Z"
   },
   {
    "duration": 37,
    "start_time": "2025-01-11T18:56:43.297Z"
   },
   {
    "duration": 5,
    "start_time": "2025-01-11T18:56:43.335Z"
   },
   {
    "duration": 176,
    "start_time": "2025-01-11T18:56:55.421Z"
   },
   {
    "duration": 13,
    "start_time": "2025-01-11T18:57:49.148Z"
   },
   {
    "duration": 299,
    "start_time": "2025-01-11T18:57:58.528Z"
   },
   {
    "duration": 31,
    "start_time": "2025-01-11T18:57:58.829Z"
   },
   {
    "duration": 205,
    "start_time": "2025-01-11T18:57:58.862Z"
   },
   {
    "duration": 4,
    "start_time": "2025-01-11T18:58:15.312Z"
   },
   {
    "duration": 14,
    "start_time": "2025-01-11T18:58:18.881Z"
   },
   {
    "duration": 316,
    "start_time": "2025-01-11T18:58:47.361Z"
   },
   {
    "duration": 31,
    "start_time": "2025-01-11T18:58:47.679Z"
   },
   {
    "duration": 11,
    "start_time": "2025-01-11T18:58:47.711Z"
   },
   {
    "duration": 9,
    "start_time": "2025-01-11T19:04:38.742Z"
   },
   {
    "duration": 3,
    "start_time": "2025-01-11T19:05:50.680Z"
   },
   {
    "duration": 3,
    "start_time": "2025-01-11T19:05:56.242Z"
   },
   {
    "duration": 3,
    "start_time": "2025-01-11T19:12:46.539Z"
   },
   {
    "duration": 3,
    "start_time": "2025-01-11T19:13:04.210Z"
   },
   {
    "duration": 549,
    "start_time": "2025-01-11T19:13:08.243Z"
   },
   {
    "duration": 10,
    "start_time": "2025-01-11T19:13:12.074Z"
   },
   {
    "duration": 321,
    "start_time": "2025-01-11T19:13:30.055Z"
   },
   {
    "duration": 37,
    "start_time": "2025-01-11T19:13:30.379Z"
   },
   {
    "duration": 19,
    "start_time": "2025-01-11T19:13:30.419Z"
   },
   {
    "duration": 2,
    "start_time": "2025-01-11T19:13:30.440Z"
   },
   {
    "duration": 8,
    "start_time": "2025-01-11T19:13:30.444Z"
   },
   {
    "duration": 4,
    "start_time": "2025-01-11T19:15:39.566Z"
   },
   {
    "duration": 8,
    "start_time": "2025-01-11T19:15:51.835Z"
   },
   {
    "duration": 4,
    "start_time": "2025-01-11T19:16:25.746Z"
   },
   {
    "duration": 10,
    "start_time": "2025-01-11T19:16:29.202Z"
   },
   {
    "duration": 7,
    "start_time": "2025-01-11T19:31:44.284Z"
   },
   {
    "duration": 11,
    "start_time": "2025-01-11T19:31:58.578Z"
   },
   {
    "duration": 4,
    "start_time": "2025-01-11T19:32:23.962Z"
   },
   {
    "duration": 12,
    "start_time": "2025-01-11T19:32:27.454Z"
   },
   {
    "duration": 4,
    "start_time": "2025-01-11T19:38:01.828Z"
   },
   {
    "duration": 4,
    "start_time": "2025-01-11T19:38:22.707Z"
   },
   {
    "duration": 7,
    "start_time": "2025-01-11T19:43:39.819Z"
   },
   {
    "duration": 7,
    "start_time": "2025-01-11T19:44:09.996Z"
   },
   {
    "duration": 6,
    "start_time": "2025-01-11T19:45:19.032Z"
   },
   {
    "duration": 10,
    "start_time": "2025-01-11T19:46:13.550Z"
   },
   {
    "duration": 25,
    "start_time": "2025-01-11T19:46:18.811Z"
   },
   {
    "duration": 14,
    "start_time": "2025-01-11T19:46:59.714Z"
   },
   {
    "duration": 2,
    "start_time": "2025-01-11T20:01:20.811Z"
   },
   {
    "duration": 176,
    "start_time": "2025-01-11T20:01:52.575Z"
   },
   {
    "duration": 439,
    "start_time": "2025-01-11T20:01:56.390Z"
   },
   {
    "duration": 3,
    "start_time": "2025-01-11T20:01:59.370Z"
   },
   {
    "duration": 14,
    "start_time": "2025-01-11T20:03:00.143Z"
   },
   {
    "duration": 30,
    "start_time": "2025-01-11T20:12:32.746Z"
   },
   {
    "duration": 28,
    "start_time": "2025-01-11T20:17:02.992Z"
   },
   {
    "duration": 19,
    "start_time": "2025-01-11T20:22:45.506Z"
   },
   {
    "duration": 4,
    "start_time": "2025-01-11T20:23:07.625Z"
   },
   {
    "duration": 12,
    "start_time": "2025-01-11T20:23:54.205Z"
   },
   {
    "duration": 3,
    "start_time": "2025-01-11T20:24:04.300Z"
   },
   {
    "duration": 27,
    "start_time": "2025-01-11T20:37:49.676Z"
   },
   {
    "duration": 97,
    "start_time": "2025-01-11T20:39:58.594Z"
   },
   {
    "duration": 51,
    "start_time": "2025-01-11T20:40:40.987Z"
   },
   {
    "duration": 50,
    "start_time": "2025-01-11T20:40:53.627Z"
   },
   {
    "duration": 51,
    "start_time": "2025-01-11T20:41:21.170Z"
   },
   {
    "duration": 821,
    "start_time": "2025-01-11T20:41:27.552Z"
   },
   {
    "duration": 33,
    "start_time": "2025-01-11T20:41:28.375Z"
   },
   {
    "duration": 10,
    "start_time": "2025-01-11T20:41:28.411Z"
   },
   {
    "duration": 5,
    "start_time": "2025-01-11T20:41:28.430Z"
   },
   {
    "duration": 9,
    "start_time": "2025-01-11T20:41:28.437Z"
   },
   {
    "duration": 4,
    "start_time": "2025-01-11T20:41:28.447Z"
   },
   {
    "duration": 4,
    "start_time": "2025-01-11T20:41:28.452Z"
   },
   {
    "duration": 16,
    "start_time": "2025-01-11T20:41:28.458Z"
   },
   {
    "duration": 23,
    "start_time": "2025-01-11T20:41:28.476Z"
   },
   {
    "duration": 41,
    "start_time": "2025-01-11T20:41:28.534Z"
   },
   {
    "duration": 35,
    "start_time": "2025-01-11T20:51:54.815Z"
   },
   {
    "duration": 37,
    "start_time": "2025-01-11T20:53:13.710Z"
   },
   {
    "duration": 10,
    "start_time": "2025-01-11T20:58:21.187Z"
   },
   {
    "duration": 235,
    "start_time": "2025-01-11T20:59:37.294Z"
   },
   {
    "duration": 31407,
    "start_time": "2025-01-11T21:06:43.179Z"
   },
   {
    "duration": 32257,
    "start_time": "2025-01-11T21:08:08.896Z"
   },
   {
    "duration": 32092,
    "start_time": "2025-01-11T21:09:52.796Z"
   },
   {
    "duration": 31391,
    "start_time": "2025-01-11T21:10:46.340Z"
   },
   {
    "duration": 22,
    "start_time": "2025-01-11T21:28:34.173Z"
   },
   {
    "duration": 781,
    "start_time": "2025-01-11T21:29:44.920Z"
   },
   {
    "duration": 31,
    "start_time": "2025-01-11T21:29:45.704Z"
   },
   {
    "duration": 10,
    "start_time": "2025-01-11T21:29:45.737Z"
   },
   {
    "duration": 3,
    "start_time": "2025-01-11T21:29:45.749Z"
   },
   {
    "duration": 9,
    "start_time": "2025-01-11T21:29:45.754Z"
   },
   {
    "duration": 3,
    "start_time": "2025-01-11T21:29:45.764Z"
   },
   {
    "duration": 4,
    "start_time": "2025-01-11T21:29:45.769Z"
   },
   {
    "duration": 16,
    "start_time": "2025-01-11T21:29:45.775Z"
   },
   {
    "duration": 23,
    "start_time": "2025-01-11T21:29:45.831Z"
   },
   {
    "duration": 41,
    "start_time": "2025-01-11T21:29:45.855Z"
   },
   {
    "duration": 39,
    "start_time": "2025-01-11T21:29:45.898Z"
   },
   {
    "duration": 30760,
    "start_time": "2025-01-11T21:29:45.938Z"
   },
   {
    "duration": 21,
    "start_time": "2025-01-11T21:33:38.479Z"
   },
   {
    "duration": 554,
    "start_time": "2025-01-11T21:49:18.169Z"
   },
   {
    "duration": 7,
    "start_time": "2025-01-11T21:50:02.612Z"
   },
   {
    "duration": 11,
    "start_time": "2025-01-11T21:50:15.463Z"
   },
   {
    "duration": 6,
    "start_time": "2025-01-11T21:50:25.758Z"
   },
   {
    "duration": 9,
    "start_time": "2025-01-11T21:51:32.545Z"
   },
   {
    "duration": 9,
    "start_time": "2025-01-11T21:53:40.930Z"
   },
   {
    "duration": 814,
    "start_time": "2025-01-11T21:54:24.957Z"
   },
   {
    "duration": 40,
    "start_time": "2025-01-11T21:54:25.773Z"
   },
   {
    "duration": 16,
    "start_time": "2025-01-11T21:54:25.815Z"
   },
   {
    "duration": 4,
    "start_time": "2025-01-11T21:54:25.833Z"
   },
   {
    "duration": 8,
    "start_time": "2025-01-11T21:54:25.840Z"
   },
   {
    "duration": 3,
    "start_time": "2025-01-11T21:54:25.851Z"
   },
   {
    "duration": 4,
    "start_time": "2025-01-11T21:54:25.856Z"
   },
   {
    "duration": 14,
    "start_time": "2025-01-11T21:54:25.862Z"
   },
   {
    "duration": 59,
    "start_time": "2025-01-11T21:54:25.878Z"
   },
   {
    "duration": 51,
    "start_time": "2025-01-11T21:54:25.939Z"
   },
   {
    "duration": 55,
    "start_time": "2025-01-11T21:54:25.992Z"
   },
   {
    "duration": 31065,
    "start_time": "2025-01-11T21:54:26.049Z"
   },
   {
    "duration": 28,
    "start_time": "2025-01-11T21:54:57.116Z"
   },
   {
    "duration": 10,
    "start_time": "2025-01-11T21:54:57.148Z"
   },
   {
    "duration": 21,
    "start_time": "2025-01-11T21:55:57.394Z"
   },
   {
    "duration": 4,
    "start_time": "2025-01-11T21:57:21.359Z"
   },
   {
    "duration": 129,
    "start_time": "2025-01-11T21:58:06.138Z"
   },
   {
    "duration": 5,
    "start_time": "2025-01-11T21:58:19.813Z"
   },
   {
    "duration": 13,
    "start_time": "2025-01-11T21:58:29.132Z"
   },
   {
    "duration": 5,
    "start_time": "2025-01-11T21:58:40.120Z"
   },
   {
    "duration": 3,
    "start_time": "2025-01-11T21:59:25.441Z"
   },
   {
    "duration": 3,
    "start_time": "2025-01-11T21:59:36.307Z"
   },
   {
    "duration": 3,
    "start_time": "2025-01-11T21:59:43.517Z"
   },
   {
    "duration": 4,
    "start_time": "2025-01-11T22:21:45.280Z"
   },
   {
    "duration": 7,
    "start_time": "2025-01-11T22:26:12.786Z"
   },
   {
    "duration": 12,
    "start_time": "2025-01-11T22:27:00.119Z"
   },
   {
    "duration": 10,
    "start_time": "2025-01-11T22:27:28.521Z"
   },
   {
    "duration": 10,
    "start_time": "2025-01-11T22:27:40.734Z"
   },
   {
    "duration": 6,
    "start_time": "2025-01-11T22:28:20.061Z"
   },
   {
    "duration": 3,
    "start_time": "2025-01-11T22:28:30.075Z"
   },
   {
    "duration": 5,
    "start_time": "2025-01-11T22:29:39.023Z"
   },
   {
    "duration": 21,
    "start_time": "2025-01-11T22:35:30.126Z"
   },
   {
    "duration": 24,
    "start_time": "2025-01-11T22:35:51.049Z"
   },
   {
    "duration": 20,
    "start_time": "2025-01-11T22:35:57.861Z"
   },
   {
    "duration": 19,
    "start_time": "2025-01-11T22:36:09.228Z"
   },
   {
    "duration": 19,
    "start_time": "2025-01-11T22:36:47.708Z"
   },
   {
    "duration": 40,
    "start_time": "2025-01-11T22:37:58.911Z"
   },
   {
    "duration": 10,
    "start_time": "2025-01-11T22:38:36.408Z"
   },
   {
    "duration": 6,
    "start_time": "2025-01-11T22:38:40.164Z"
   },
   {
    "duration": 99,
    "start_time": "2025-01-11T22:38:42.844Z"
   },
   {
    "duration": 7,
    "start_time": "2025-01-11T22:38:53.700Z"
   },
   {
    "duration": 5,
    "start_time": "2025-01-11T22:38:56.510Z"
   },
   {
    "duration": 42,
    "start_time": "2025-01-11T22:38:58.496Z"
   },
   {
    "duration": 41,
    "start_time": "2025-01-11T22:43:01.892Z"
   },
   {
    "duration": 772,
    "start_time": "2025-01-11T22:43:34.387Z"
   },
   {
    "duration": 36,
    "start_time": "2025-01-11T22:43:35.161Z"
   },
   {
    "duration": 10,
    "start_time": "2025-01-11T22:43:35.200Z"
   },
   {
    "duration": 3,
    "start_time": "2025-01-11T22:43:35.212Z"
   },
   {
    "duration": 8,
    "start_time": "2025-01-11T22:43:35.231Z"
   },
   {
    "duration": 3,
    "start_time": "2025-01-11T22:43:35.241Z"
   },
   {
    "duration": 4,
    "start_time": "2025-01-11T22:43:35.246Z"
   },
   {
    "duration": 14,
    "start_time": "2025-01-11T22:43:35.252Z"
   },
   {
    "duration": 23,
    "start_time": "2025-01-11T22:43:35.267Z"
   },
   {
    "duration": 69,
    "start_time": "2025-01-11T22:43:35.293Z"
   },
   {
    "duration": 68,
    "start_time": "2025-01-11T22:43:35.364Z"
   },
   {
    "duration": 30807,
    "start_time": "2025-01-11T22:43:35.433Z"
   },
   {
    "duration": 21,
    "start_time": "2025-01-11T22:44:06.243Z"
   },
   {
    "duration": 65,
    "start_time": "2025-01-11T22:44:06.268Z"
   },
   {
    "duration": 11,
    "start_time": "2025-01-11T22:44:06.337Z"
   },
   {
    "duration": 81,
    "start_time": "2025-01-11T22:44:06.353Z"
   },
   {
    "duration": 98,
    "start_time": "2025-01-11T22:44:06.436Z"
   },
   {
    "duration": 115,
    "start_time": "2025-01-11T22:44:06.536Z"
   },
   {
    "duration": 139,
    "start_time": "2025-01-11T22:47:09.117Z"
   },
   {
    "duration": 159,
    "start_time": "2025-01-11T22:47:27.199Z"
   },
   {
    "duration": 5,
    "start_time": "2025-01-11T22:48:19.277Z"
   },
   {
    "duration": 8,
    "start_time": "2025-01-11T22:53:35.750Z"
   },
   {
    "duration": 11,
    "start_time": "2025-01-11T22:54:16.360Z"
   },
   {
    "duration": 9,
    "start_time": "2025-01-11T22:54:24.876Z"
   },
   {
    "duration": 8,
    "start_time": "2025-01-11T22:55:29.147Z"
   },
   {
    "duration": 16,
    "start_time": "2025-01-11T22:56:10.962Z"
   },
   {
    "duration": 16,
    "start_time": "2025-01-11T22:56:32.797Z"
   },
   {
    "duration": 30,
    "start_time": "2025-01-11T22:56:58.297Z"
   },
   {
    "duration": 29,
    "start_time": "2025-01-11T22:57:25.643Z"
   },
   {
    "duration": 33,
    "start_time": "2025-01-11T22:58:40.079Z"
   },
   {
    "duration": 8,
    "start_time": "2025-01-11T22:59:05.344Z"
   },
   {
    "duration": 32,
    "start_time": "2025-01-11T22:59:08.338Z"
   },
   {
    "duration": 31,
    "start_time": "2025-01-11T22:59:13.708Z"
   },
   {
    "duration": 8,
    "start_time": "2025-01-11T22:59:43.491Z"
   },
   {
    "duration": 32,
    "start_time": "2025-01-11T22:59:56.112Z"
   },
   {
    "duration": 30,
    "start_time": "2025-01-11T22:59:59.603Z"
   },
   {
    "duration": 7,
    "start_time": "2025-01-11T23:00:10.928Z"
   },
   {
    "duration": 29,
    "start_time": "2025-01-11T23:00:17.340Z"
   },
   {
    "duration": 29,
    "start_time": "2025-01-11T23:00:20.981Z"
   },
   {
    "duration": 7,
    "start_time": "2025-01-11T23:01:10.751Z"
   },
   {
    "duration": 9,
    "start_time": "2025-01-11T23:02:23.037Z"
   },
   {
    "duration": 10,
    "start_time": "2025-01-11T23:03:13.719Z"
   },
   {
    "duration": 28,
    "start_time": "2025-01-11T23:03:27.760Z"
   },
   {
    "duration": 28,
    "start_time": "2025-01-11T23:03:37.044Z"
   },
   {
    "duration": 108,
    "start_time": "2025-01-11T23:04:52.666Z"
   },
   {
    "duration": 8,
    "start_time": "2025-01-11T23:05:14.985Z"
   },
   {
    "duration": 113,
    "start_time": "2025-01-11T23:05:19.157Z"
   },
   {
    "duration": 11,
    "start_time": "2025-01-11T23:05:30.814Z"
   },
   {
    "duration": 102,
    "start_time": "2025-01-11T23:05:33.377Z"
   },
   {
    "duration": 104,
    "start_time": "2025-01-11T23:05:50.609Z"
   },
   {
    "duration": 9,
    "start_time": "2025-01-11T23:05:56.759Z"
   },
   {
    "duration": 107,
    "start_time": "2025-01-11T23:05:59.359Z"
   },
   {
    "duration": 9,
    "start_time": "2025-01-11T23:07:05.209Z"
   },
   {
    "duration": 160,
    "start_time": "2025-01-11T23:07:13.841Z"
   },
   {
    "duration": 751,
    "start_time": "2025-01-11T23:07:21.621Z"
   },
   {
    "duration": 32,
    "start_time": "2025-01-11T23:07:22.375Z"
   },
   {
    "duration": 10,
    "start_time": "2025-01-11T23:07:22.409Z"
   },
   {
    "duration": 4,
    "start_time": "2025-01-11T23:07:22.431Z"
   },
   {
    "duration": 8,
    "start_time": "2025-01-11T23:07:22.436Z"
   },
   {
    "duration": 3,
    "start_time": "2025-01-11T23:07:22.445Z"
   },
   {
    "duration": 9,
    "start_time": "2025-01-11T23:07:22.450Z"
   },
   {
    "duration": 15,
    "start_time": "2025-01-11T23:07:22.460Z"
   },
   {
    "duration": 24,
    "start_time": "2025-01-11T23:07:22.477Z"
   },
   {
    "duration": 42,
    "start_time": "2025-01-11T23:07:22.530Z"
   },
   {
    "duration": 57,
    "start_time": "2025-01-11T23:07:22.574Z"
   },
   {
    "duration": 31010,
    "start_time": "2025-01-11T23:07:22.633Z"
   },
   {
    "duration": 21,
    "start_time": "2025-01-11T23:07:53.645Z"
   },
   {
    "duration": 6,
    "start_time": "2025-01-11T23:07:53.668Z"
   },
   {
    "duration": 62,
    "start_time": "2025-01-11T23:07:53.676Z"
   },
   {
    "duration": 9,
    "start_time": "2025-01-11T23:07:53.740Z"
   },
   {
    "duration": 183,
    "start_time": "2025-01-11T23:07:53.751Z"
   },
   {
    "duration": 121,
    "start_time": "2025-01-11T23:07:53.936Z"
   },
   {
    "duration": 186,
    "start_time": "2025-01-11T23:07:54.058Z"
   },
   {
    "duration": 9,
    "start_time": "2025-01-11T23:07:54.246Z"
   },
   {
    "duration": 79,
    "start_time": "2025-01-11T23:07:54.256Z"
   },
   {
    "duration": 108,
    "start_time": "2025-01-11T23:07:54.337Z"
   },
   {
    "duration": 118,
    "start_time": "2025-01-11T23:07:54.447Z"
   },
   {
    "duration": 8,
    "start_time": "2025-01-11T23:08:09.319Z"
   },
   {
    "duration": 7,
    "start_time": "2025-01-11T23:08:14.708Z"
   },
   {
    "duration": 166,
    "start_time": "2025-01-11T23:08:19.809Z"
   },
   {
    "duration": 1062,
    "start_time": "2025-01-11T23:09:06.872Z"
   },
   {
    "duration": 849,
    "start_time": "2025-01-11T23:09:31.861Z"
   },
   {
    "duration": 43,
    "start_time": "2025-01-11T23:09:32.713Z"
   },
   {
    "duration": 21,
    "start_time": "2025-01-11T23:09:32.757Z"
   },
   {
    "duration": 5,
    "start_time": "2025-01-11T23:09:32.781Z"
   },
   {
    "duration": 9,
    "start_time": "2025-01-11T23:09:32.789Z"
   },
   {
    "duration": 3,
    "start_time": "2025-01-11T23:09:32.799Z"
   },
   {
    "duration": 28,
    "start_time": "2025-01-11T23:09:32.804Z"
   },
   {
    "duration": 15,
    "start_time": "2025-01-11T23:09:32.834Z"
   },
   {
    "duration": 24,
    "start_time": "2025-01-11T23:09:32.851Z"
   },
   {
    "duration": 58,
    "start_time": "2025-01-11T23:09:32.877Z"
   },
   {
    "duration": 22,
    "start_time": "2025-01-11T23:09:32.936Z"
   },
   {
    "duration": 31219,
    "start_time": "2025-01-11T23:09:32.960Z"
   },
   {
    "duration": 22,
    "start_time": "2025-01-11T23:10:04.180Z"
   },
   {
    "duration": 5,
    "start_time": "2025-01-11T23:10:04.234Z"
   },
   {
    "duration": 1096,
    "start_time": "2025-01-11T23:10:04.241Z"
   },
   {
    "duration": 0,
    "start_time": "2025-01-11T23:10:05.339Z"
   },
   {
    "duration": 0,
    "start_time": "2025-01-11T23:10:05.340Z"
   },
   {
    "duration": 0,
    "start_time": "2025-01-11T23:10:05.341Z"
   },
   {
    "duration": 0,
    "start_time": "2025-01-11T23:10:05.342Z"
   },
   {
    "duration": 0,
    "start_time": "2025-01-11T23:10:05.343Z"
   },
   {
    "duration": 0,
    "start_time": "2025-01-11T23:10:05.344Z"
   },
   {
    "duration": 0,
    "start_time": "2025-01-11T23:10:05.345Z"
   },
   {
    "duration": 70,
    "start_time": "2025-01-11T23:10:48.003Z"
   },
   {
    "duration": 10,
    "start_time": "2025-01-11T23:11:07.590Z"
   },
   {
    "duration": 44,
    "start_time": "2025-01-11T23:11:22.098Z"
   },
   {
    "duration": 40,
    "start_time": "2025-01-11T23:11:25.521Z"
   },
   {
    "duration": 165,
    "start_time": "2025-01-11T23:11:27.817Z"
   },
   {
    "duration": 11,
    "start_time": "2025-01-11T23:11:35.562Z"
   },
   {
    "duration": 174,
    "start_time": "2025-01-11T23:11:43.406Z"
   },
   {
    "duration": 10,
    "start_time": "2025-01-11T23:11:52.112Z"
   },
   {
    "duration": 160,
    "start_time": "2025-01-11T23:11:57.185Z"
   },
   {
    "duration": 10,
    "start_time": "2025-01-11T23:12:14.440Z"
   },
   {
    "duration": 28,
    "start_time": "2025-01-11T23:12:17.101Z"
   },
   {
    "duration": 28,
    "start_time": "2025-01-11T23:12:25.017Z"
   },
   {
    "duration": 106,
    "start_time": "2025-01-11T23:12:30.938Z"
   },
   {
    "duration": 113,
    "start_time": "2025-01-11T23:12:38.631Z"
   },
   {
    "duration": 134,
    "start_time": "2025-01-11T23:12:46.050Z"
   },
   {
    "duration": 150,
    "start_time": "2025-01-11T23:12:50.836Z"
   },
   {
    "duration": 93,
    "start_time": "2025-01-11T23:12:57.786Z"
   },
   {
    "duration": 104,
    "start_time": "2025-01-11T23:13:03.520Z"
   },
   {
    "duration": 108,
    "start_time": "2025-01-11T23:13:07.524Z"
   },
   {
    "duration": 114,
    "start_time": "2025-01-11T23:13:15.951Z"
   },
   {
    "duration": 128,
    "start_time": "2025-01-11T23:13:29.839Z"
   },
   {
    "duration": 140,
    "start_time": "2025-01-11T23:14:05.806Z"
   },
   {
    "duration": 118,
    "start_time": "2025-01-11T23:14:12.051Z"
   },
   {
    "duration": 108,
    "start_time": "2025-01-11T23:14:17.544Z"
   },
   {
    "duration": 156,
    "start_time": "2025-01-11T23:14:25.756Z"
   },
   {
    "duration": 176,
    "start_time": "2025-01-11T23:14:32.542Z"
   },
   {
    "duration": 178,
    "start_time": "2025-01-11T23:14:37.938Z"
   },
   {
    "duration": 205,
    "start_time": "2025-01-11T23:14:42.438Z"
   },
   {
    "duration": 231,
    "start_time": "2025-01-11T23:14:48.169Z"
   },
   {
    "duration": 159,
    "start_time": "2025-01-11T23:14:54.384Z"
   },
   {
    "duration": 227,
    "start_time": "2025-01-11T23:14:58.244Z"
   },
   {
    "duration": 216,
    "start_time": "2025-01-11T23:15:04.526Z"
   },
   {
    "duration": 231,
    "start_time": "2025-01-11T23:15:08.147Z"
   },
   {
    "duration": 213,
    "start_time": "2025-01-11T23:15:34.785Z"
   },
   {
    "duration": 228,
    "start_time": "2025-01-11T23:15:39.112Z"
   },
   {
    "duration": 36418,
    "start_time": "2025-01-11T23:16:41.186Z"
   },
   {
    "duration": 130,
    "start_time": "2025-01-11T23:17:43.586Z"
   },
   {
    "duration": 141,
    "start_time": "2025-01-11T23:17:48.672Z"
   },
   {
    "duration": 159,
    "start_time": "2025-01-11T23:17:56.372Z"
   },
   {
    "duration": 107,
    "start_time": "2025-01-11T23:19:10.137Z"
   },
   {
    "duration": 24765,
    "start_time": "2025-01-11T23:19:39.162Z"
   },
   {
    "duration": 95,
    "start_time": "2025-01-11T23:20:29.559Z"
   },
   {
    "duration": 108,
    "start_time": "2025-01-11T23:20:34.848Z"
   },
   {
    "duration": 3,
    "start_time": "2025-01-11T23:21:22.543Z"
   },
   {
    "duration": 819,
    "start_time": "2025-01-11T23:26:24.947Z"
   },
   {
    "duration": 34,
    "start_time": "2025-01-11T23:26:25.769Z"
   },
   {
    "duration": 11,
    "start_time": "2025-01-11T23:26:25.805Z"
   },
   {
    "duration": 16,
    "start_time": "2025-01-11T23:26:25.817Z"
   },
   {
    "duration": 9,
    "start_time": "2025-01-11T23:26:25.835Z"
   },
   {
    "duration": 4,
    "start_time": "2025-01-11T23:26:25.847Z"
   },
   {
    "duration": 5,
    "start_time": "2025-01-11T23:26:25.853Z"
   },
   {
    "duration": 15,
    "start_time": "2025-01-11T23:26:25.860Z"
   },
   {
    "duration": 24,
    "start_time": "2025-01-11T23:26:25.877Z"
   },
   {
    "duration": 40,
    "start_time": "2025-01-11T23:26:25.933Z"
   },
   {
    "duration": 22,
    "start_time": "2025-01-11T23:26:25.975Z"
   },
   {
    "duration": 30857,
    "start_time": "2025-01-11T23:26:26.033Z"
   },
   {
    "duration": 40,
    "start_time": "2025-01-11T23:26:56.892Z"
   },
   {
    "duration": 9,
    "start_time": "2025-01-11T23:26:56.937Z"
   },
   {
    "duration": 88,
    "start_time": "2025-01-11T23:26:56.950Z"
   },
   {
    "duration": 95,
    "start_time": "2025-01-11T23:26:57.040Z"
   },
   {
    "duration": 118,
    "start_time": "2025-01-11T23:26:57.140Z"
   },
   {
    "duration": 182,
    "start_time": "2025-01-11T23:26:57.260Z"
   },
   {
    "duration": 35700,
    "start_time": "2025-01-11T23:26:57.444Z"
   },
   {
    "duration": 9,
    "start_time": "2025-01-11T23:27:33.146Z"
   },
   {
    "duration": 77,
    "start_time": "2025-01-11T23:27:33.157Z"
   },
   {
    "duration": 107,
    "start_time": "2025-01-11T23:27:33.235Z"
   },
   {
    "duration": 122,
    "start_time": "2025-01-11T23:27:33.345Z"
   },
   {
    "duration": 24555,
    "start_time": "2025-01-11T23:27:33.469Z"
   },
   {
    "duration": 10,
    "start_time": "2025-01-11T23:33:47.098Z"
   },
   {
    "duration": 287,
    "start_time": "2025-01-11T23:35:46.664Z"
   },
   {
    "duration": 21,
    "start_time": "2025-01-11T23:35:57.365Z"
   },
   {
    "duration": 19,
    "start_time": "2025-01-11T23:36:36.416Z"
   },
   {
    "duration": 19,
    "start_time": "2025-01-11T23:37:21.923Z"
   },
   {
    "duration": 5,
    "start_time": "2025-01-11T23:38:43.858Z"
   },
   {
    "duration": 11,
    "start_time": "2025-01-11T23:41:21.960Z"
   },
   {
    "duration": 29297,
    "start_time": "2025-01-11T23:43:41.208Z"
   },
   {
    "duration": 851,
    "start_time": "2025-01-11T23:44:26.174Z"
   },
   {
    "duration": 33,
    "start_time": "2025-01-11T23:44:27.028Z"
   },
   {
    "duration": 10,
    "start_time": "2025-01-11T23:44:27.063Z"
   },
   {
    "duration": 4,
    "start_time": "2025-01-11T23:44:27.075Z"
   },
   {
    "duration": 12,
    "start_time": "2025-01-11T23:44:27.081Z"
   },
   {
    "duration": 3,
    "start_time": "2025-01-11T23:44:27.095Z"
   },
   {
    "duration": 5,
    "start_time": "2025-01-11T23:44:27.099Z"
   },
   {
    "duration": 45,
    "start_time": "2025-01-11T23:44:27.105Z"
   },
   {
    "duration": 31,
    "start_time": "2025-01-11T23:44:27.151Z"
   },
   {
    "duration": 56,
    "start_time": "2025-01-11T23:44:27.184Z"
   },
   {
    "duration": 31,
    "start_time": "2025-01-11T23:44:27.242Z"
   },
   {
    "duration": 31342,
    "start_time": "2025-01-11T23:44:27.275Z"
   },
   {
    "duration": 37,
    "start_time": "2025-01-11T23:44:58.619Z"
   },
   {
    "duration": 80,
    "start_time": "2025-01-11T23:44:58.663Z"
   },
   {
    "duration": 10,
    "start_time": "2025-01-11T23:44:58.746Z"
   },
   {
    "duration": 89,
    "start_time": "2025-01-11T23:44:58.759Z"
   },
   {
    "duration": 108,
    "start_time": "2025-01-11T23:44:58.850Z"
   },
   {
    "duration": 206,
    "start_time": "2025-01-11T23:44:58.960Z"
   },
   {
    "duration": 36126,
    "start_time": "2025-01-11T23:44:59.168Z"
   },
   {
    "duration": 9,
    "start_time": "2025-01-11T23:45:35.296Z"
   },
   {
    "duration": 56,
    "start_time": "2025-01-11T23:45:35.307Z"
   },
   {
    "duration": 93,
    "start_time": "2025-01-11T23:45:35.368Z"
   },
   {
    "duration": 167,
    "start_time": "2025-01-11T23:45:35.463Z"
   },
   {
    "duration": 24815,
    "start_time": "2025-01-11T23:45:35.632Z"
   },
   {
    "duration": 10,
    "start_time": "2025-01-11T23:46:00.448Z"
   },
   {
    "duration": 21,
    "start_time": "2025-01-11T23:46:00.462Z"
   },
   {
    "duration": 4,
    "start_time": "2025-01-11T23:46:00.485Z"
   },
   {
    "duration": 10,
    "start_time": "2025-01-11T23:46:00.491Z"
   },
   {
    "duration": 29652,
    "start_time": "2025-01-11T23:46:00.503Z"
   },
   {
    "duration": 291,
    "start_time": "2025-01-11T23:53:19.507Z"
   },
   {
    "duration": 187,
    "start_time": "2025-01-11T23:53:25.835Z"
   },
   {
    "duration": 3,
    "start_time": "2025-01-11T23:53:38.910Z"
   },
   {
    "duration": 207,
    "start_time": "2025-01-11T23:53:44.195Z"
   },
   {
    "duration": 1955,
    "start_time": "2025-01-11T23:54:56.206Z"
   },
   {
    "duration": 197,
    "start_time": "2025-01-11T23:57:01.040Z"
   },
   {
    "duration": 3,
    "start_time": "2025-01-11T23:57:51.317Z"
   },
   {
    "duration": 285,
    "start_time": "2025-01-11T23:57:56.074Z"
   },
   {
    "duration": 15,
    "start_time": "2025-01-11T23:58:41.067Z"
   },
   {
    "duration": 4,
    "start_time": "2025-01-11T23:58:59.645Z"
   },
   {
    "duration": 5,
    "start_time": "2025-01-11T23:59:04.299Z"
   },
   {
    "duration": 984,
    "start_time": "2025-01-12T00:08:29.419Z"
   },
   {
    "duration": 43,
    "start_time": "2025-01-12T00:08:30.406Z"
   },
   {
    "duration": 94,
    "start_time": "2025-01-12T00:08:30.451Z"
   },
   {
    "duration": 5,
    "start_time": "2025-01-12T00:08:30.548Z"
   },
   {
    "duration": 10,
    "start_time": "2025-01-12T00:08:30.557Z"
   },
   {
    "duration": 5,
    "start_time": "2025-01-12T00:08:30.569Z"
   },
   {
    "duration": 5,
    "start_time": "2025-01-12T00:08:30.576Z"
   },
   {
    "duration": 18,
    "start_time": "2025-01-12T00:08:30.583Z"
   },
   {
    "duration": 53,
    "start_time": "2025-01-12T00:08:30.603Z"
   },
   {
    "duration": 43,
    "start_time": "2025-01-12T00:08:30.658Z"
   },
   {
    "duration": 60,
    "start_time": "2025-01-12T00:08:30.703Z"
   },
   {
    "duration": 31017,
    "start_time": "2025-01-12T00:08:30.765Z"
   },
   {
    "duration": 47,
    "start_time": "2025-01-12T00:09:01.784Z"
   },
   {
    "duration": 15,
    "start_time": "2025-01-12T00:09:01.836Z"
   },
   {
    "duration": 86,
    "start_time": "2025-01-12T00:09:01.854Z"
   },
   {
    "duration": 102,
    "start_time": "2025-01-12T00:09:01.941Z"
   },
   {
    "duration": 118,
    "start_time": "2025-01-12T00:09:02.045Z"
   },
   {
    "duration": 198,
    "start_time": "2025-01-12T00:09:02.165Z"
   },
   {
    "duration": 35996,
    "start_time": "2025-01-12T00:09:02.364Z"
   },
   {
    "duration": 11,
    "start_time": "2025-01-12T00:09:38.362Z"
   },
   {
    "duration": 68,
    "start_time": "2025-01-12T00:09:38.375Z"
   },
   {
    "duration": 104,
    "start_time": "2025-01-12T00:09:38.445Z"
   },
   {
    "duration": 142,
    "start_time": "2025-01-12T00:09:38.551Z"
   },
   {
    "duration": 24486,
    "start_time": "2025-01-12T00:09:38.695Z"
   },
   {
    "duration": 10,
    "start_time": "2025-01-12T00:10:03.183Z"
   },
   {
    "duration": 20,
    "start_time": "2025-01-12T00:10:03.195Z"
   },
   {
    "duration": 4,
    "start_time": "2025-01-12T00:10:03.232Z"
   },
   {
    "duration": 9,
    "start_time": "2025-01-12T00:10:03.238Z"
   },
   {
    "duration": 29746,
    "start_time": "2025-01-12T00:10:03.248Z"
   },
   {
    "duration": 285,
    "start_time": "2025-01-12T00:10:32.996Z"
   },
   {
    "duration": 5,
    "start_time": "2025-01-12T00:10:33.282Z"
   },
   {
    "duration": 170,
    "start_time": "2025-01-12T00:34:43.944Z"
   },
   {
    "duration": 168,
    "start_time": "2025-01-12T00:34:52.479Z"
   },
   {
    "duration": 170,
    "start_time": "2025-01-12T00:35:02.562Z"
   },
   {
    "duration": 173,
    "start_time": "2025-01-12T00:35:21.836Z"
   },
   {
    "duration": 169,
    "start_time": "2025-01-12T00:35:26.030Z"
   },
   {
    "duration": 170,
    "start_time": "2025-01-12T00:35:33.322Z"
   },
   {
    "duration": 168,
    "start_time": "2025-01-12T00:35:41.601Z"
   },
   {
    "duration": 172,
    "start_time": "2025-01-12T00:35:51.907Z"
   },
   {
    "duration": 171,
    "start_time": "2025-01-12T00:36:00.327Z"
   },
   {
    "duration": 171,
    "start_time": "2025-01-12T00:36:06.234Z"
   },
   {
    "duration": 169,
    "start_time": "2025-01-12T00:36:10.185Z"
   },
   {
    "duration": 171,
    "start_time": "2025-01-12T00:36:13.913Z"
   },
   {
    "duration": 171,
    "start_time": "2025-01-12T00:36:19.129Z"
   },
   {
    "duration": 169,
    "start_time": "2025-01-12T00:36:24.139Z"
   },
   {
    "duration": 168,
    "start_time": "2025-01-12T00:36:31.406Z"
   },
   {
    "duration": 168,
    "start_time": "2025-01-12T00:36:35.984Z"
   },
   {
    "duration": 969,
    "start_time": "2025-01-12T00:37:04.950Z"
   },
   {
    "duration": 32,
    "start_time": "2025-01-12T00:37:05.921Z"
   },
   {
    "duration": 79,
    "start_time": "2025-01-12T00:37:05.954Z"
   },
   {
    "duration": 3,
    "start_time": "2025-01-12T00:37:06.035Z"
   },
   {
    "duration": 9,
    "start_time": "2025-01-12T00:37:06.041Z"
   },
   {
    "duration": 4,
    "start_time": "2025-01-12T00:37:06.052Z"
   },
   {
    "duration": 4,
    "start_time": "2025-01-12T00:37:06.058Z"
   },
   {
    "duration": 15,
    "start_time": "2025-01-12T00:37:06.063Z"
   },
   {
    "duration": 55,
    "start_time": "2025-01-12T00:37:06.080Z"
   },
   {
    "duration": 42,
    "start_time": "2025-01-12T00:37:06.138Z"
   },
   {
    "duration": 52,
    "start_time": "2025-01-12T00:37:06.182Z"
   },
   {
    "duration": 30689,
    "start_time": "2025-01-12T00:37:06.236Z"
   },
   {
    "duration": 23,
    "start_time": "2025-01-12T00:37:36.930Z"
   },
   {
    "duration": 5,
    "start_time": "2025-01-12T00:37:36.956Z"
   },
   {
    "duration": 75,
    "start_time": "2025-01-12T00:37:36.963Z"
   },
   {
    "duration": 103,
    "start_time": "2025-01-12T00:37:37.040Z"
   },
   {
    "duration": 120,
    "start_time": "2025-01-12T00:37:37.147Z"
   },
   {
    "duration": 206,
    "start_time": "2025-01-12T00:37:37.269Z"
   },
   {
    "duration": 35521,
    "start_time": "2025-01-12T00:37:37.477Z"
   },
   {
    "duration": 9,
    "start_time": "2025-01-12T00:38:13.000Z"
   },
   {
    "duration": 41,
    "start_time": "2025-01-12T00:38:13.011Z"
   },
   {
    "duration": 106,
    "start_time": "2025-01-12T00:38:13.054Z"
   },
   {
    "duration": 161,
    "start_time": "2025-01-12T00:38:13.163Z"
   },
   {
    "duration": 24327,
    "start_time": "2025-01-12T00:38:13.332Z"
   },
   {
    "duration": 11,
    "start_time": "2025-01-12T00:38:37.661Z"
   },
   {
    "duration": 20,
    "start_time": "2025-01-12T00:38:37.674Z"
   },
   {
    "duration": 4,
    "start_time": "2025-01-12T00:38:37.696Z"
   },
   {
    "duration": 36,
    "start_time": "2025-01-12T00:38:37.702Z"
   },
   {
    "duration": 29133,
    "start_time": "2025-01-12T00:38:37.742Z"
   },
   {
    "duration": 392,
    "start_time": "2025-01-12T00:39:06.877Z"
   },
   {
    "duration": 0,
    "start_time": "2025-01-12T00:39:07.271Z"
   },
   {
    "duration": 0,
    "start_time": "2025-01-12T00:39:07.272Z"
   },
   {
    "duration": 177,
    "start_time": "2025-01-12T00:40:03.589Z"
   },
   {
    "duration": 177,
    "start_time": "2025-01-12T00:40:13.001Z"
   },
   {
    "duration": 178,
    "start_time": "2025-01-12T00:40:17.139Z"
   },
   {
    "duration": 111,
    "start_time": "2025-01-12T00:41:18.598Z"
   },
   {
    "duration": 6,
    "start_time": "2025-01-12T00:41:21.859Z"
   },
   {
    "duration": 8,
    "start_time": "2025-01-12T01:10:25.009Z"
   }
  ],
  "kernelspec": {
   "display_name": "Python 3 (ipykernel)",
   "language": "python",
   "name": "python3"
  },
  "language_info": {
   "codemirror_mode": {
    "name": "ipython",
    "version": 3
   },
   "file_extension": ".py",
   "mimetype": "text/x-python",
   "name": "python",
   "nbconvert_exporter": "python",
   "pygments_lexer": "ipython3",
   "version": "3.9.19"
  },
  "toc": {
   "base_numbering": 1,
   "nav_menu": {},
   "number_sections": true,
   "sideBar": true,
   "skip_h1_title": true,
   "title_cell": "Table of Contents",
   "title_sidebar": "Contents",
   "toc_cell": false,
   "toc_position": {
    "height": "calc(100% - 180px)",
    "left": "10px",
    "top": "150px",
    "width": "380.797px"
   },
   "toc_section_display": true,
   "toc_window_display": true
  }
 },
 "nbformat": 4,
 "nbformat_minor": 2
}
