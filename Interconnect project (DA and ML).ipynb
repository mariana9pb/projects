{
 "cells": [
  {
   "cell_type": "markdown",
   "metadata": {},
   "source": [
    "# __Sprint 18: Proyecto final__"
   ]
  },
  {
   "cell_type": "markdown",
   "metadata": {},
   "source": [
    "Al operador de telecomunicaciones  le gustaría poder pronosticar su tasa de cancelación de clientes. Si se descubre que un usuario o usuaria planea irse, se le ofrecerán códigos promocionales y opciones de planes especiales. El equipo de marketing de Interconnect ha recopilado algunos de los datos personales de sus clientes, incluyendo información sobre sus planes y contratos."
   ]
  },
  {
   "cell_type": "markdown",
   "metadata": {},
   "source": [
    "## __1. Preparación y limpieza de datos__"
   ]
  },
  {
   "cell_type": "markdown",
   "metadata": {},
   "source": [
    "#### __*Inicialización*__"
   ]
  },
  {
   "cell_type": "code",
   "execution_count": 1,
   "metadata": {},
   "outputs": [],
   "source": [
    "#importar librerías\n",
    "import pandas as pd\n",
    "import numpy as np\n",
    "import seaborn as sns\n",
    "from matplotlib import pyplot as plt\n",
    "from sklearn.preprocessing import StandardScaler\n",
    "from sklearn.model_selection import train_test_split, cross_val_score, GridSearchCV\n",
    "from sklearn.dummy import DummyClassifier\n",
    "from sklearn.tree import DecisionTreeClassifier\n",
    "from sklearn.ensemble import RandomForestClassifier\n",
    "from sklearn.linear_model import LogisticRegression\n",
    "from sklearn.metrics import classification_report, f1_score, precision_score, recall_score\n",
    "from xgboost import XGBClassifier\n",
    "from sklearn.ensemble import GradientBoostingClassifier\n",
    "from lightgbm import LGBMClassifier\n"
   ]
  },
  {
   "cell_type": "code",
   "execution_count": 2,
   "metadata": {},
   "outputs": [],
   "source": [
    "#leer datasets\n",
    "contract_df = pd.read_csv('/datasets/final_provider/contract.csv')\n",
    "personal_df = pd.read_csv('/datasets/final_provider/personal.csv')\n",
    "internet_df = pd.read_csv('/datasets/final_provider/internet.csv')\n",
    "phone_df = pd.read_csv('/datasets/final_provider/phone.csv')"
   ]
  },
  {
   "cell_type": "markdown",
   "metadata": {},
   "source": [
    "##### *Personal dataset*"
   ]
  },
  {
   "cell_type": "code",
   "execution_count": 3,
   "metadata": {},
   "outputs": [],
   "source": [
    "#personal_df"
   ]
  },
  {
   "cell_type": "code",
   "execution_count": 4,
   "metadata": {},
   "outputs": [
    {
     "name": "stdout",
     "output_type": "stream",
     "text": [
      "<class 'pandas.core.frame.DataFrame'>\n",
      "RangeIndex: 7043 entries, 0 to 7042\n",
      "Data columns (total 5 columns):\n",
      " #   Column         Non-Null Count  Dtype \n",
      "---  ------         --------------  ----- \n",
      " 0   customerID     7043 non-null   object\n",
      " 1   gender         7043 non-null   object\n",
      " 2   SeniorCitizen  7043 non-null   int64 \n",
      " 3   Partner        7043 non-null   object\n",
      " 4   Dependents     7043 non-null   object\n",
      "dtypes: int64(1), object(4)\n",
      "memory usage: 275.2+ KB\n"
     ]
    },
    {
     "data": {
      "text/plain": [
       "7043"
      ]
     },
     "execution_count": 4,
     "metadata": {},
     "output_type": "execute_result"
    }
   ],
   "source": [
    "personal_df.info()\n",
    "personal_df['customerID'].nunique()"
   ]
  },
  {
   "cell_type": "code",
   "execution_count": 5,
   "metadata": {},
   "outputs": [
    {
     "name": "stdout",
     "output_type": "stream",
     "text": [
      "['Female' 'Male']\n",
      "['Yes' 'No']\n",
      "['No' 'Yes']\n",
      "<class 'pandas.core.frame.DataFrame'>\n",
      "RangeIndex: 7043 entries, 0 to 7042\n",
      "Data columns (total 5 columns):\n",
      " #   Column         Non-Null Count  Dtype   \n",
      "---  ------         --------------  -----   \n",
      " 0   customerID     7043 non-null   object  \n",
      " 1   gender         7043 non-null   category\n",
      " 2   SeniorCitizen  7043 non-null   int64   \n",
      " 3   Partner        7043 non-null   category\n",
      " 4   Dependents     7043 non-null   category\n",
      "dtypes: category(3), int64(1), object(1)\n",
      "memory usage: 131.2+ KB\n"
     ]
    }
   ],
   "source": [
    "# columnas con categoría\n",
    "cat_cols = ['gender', 'Partner', 'Dependents']\n",
    "for i in cat_cols:\n",
    "    print(personal_df[i].unique())\n",
    "\n",
    "\n",
    "personal_df[cat_cols] = personal_df[cat_cols].astype('category')\n",
    "\n",
    "personal_df.info()"
   ]
  },
  {
   "cell_type": "code",
   "execution_count": 6,
   "metadata": {},
   "outputs": [],
   "source": [
    "#convertir SeniorCitizen a bool type\n",
    "\n",
    "personal_df['SeniorCitizen'] = personal_df['SeniorCitizen'].astype(bool)"
   ]
  },
  {
   "cell_type": "code",
   "execution_count": 7,
   "metadata": {},
   "outputs": [],
   "source": [
    "#personal_df"
   ]
  },
  {
   "cell_type": "markdown",
   "metadata": {},
   "source": [
    "##### *Internet dataset*"
   ]
  },
  {
   "cell_type": "code",
   "execution_count": 8,
   "metadata": {},
   "outputs": [],
   "source": [
    "#internet_df"
   ]
  },
  {
   "cell_type": "code",
   "execution_count": 9,
   "metadata": {},
   "outputs": [
    {
     "name": "stdout",
     "output_type": "stream",
     "text": [
      "<class 'pandas.core.frame.DataFrame'>\n",
      "RangeIndex: 5517 entries, 0 to 5516\n",
      "Data columns (total 8 columns):\n",
      " #   Column            Non-Null Count  Dtype \n",
      "---  ------            --------------  ----- \n",
      " 0   customerID        5517 non-null   object\n",
      " 1   InternetService   5517 non-null   object\n",
      " 2   OnlineSecurity    5517 non-null   object\n",
      " 3   OnlineBackup      5517 non-null   object\n",
      " 4   DeviceProtection  5517 non-null   object\n",
      " 5   TechSupport       5517 non-null   object\n",
      " 6   StreamingTV       5517 non-null   object\n",
      " 7   StreamingMovies   5517 non-null   object\n",
      "dtypes: object(8)\n",
      "memory usage: 344.9+ KB\n"
     ]
    },
    {
     "data": {
      "text/plain": [
       "5517"
      ]
     },
     "execution_count": 9,
     "metadata": {},
     "output_type": "execute_result"
    }
   ],
   "source": [
    "internet_df.info()\n",
    "internet_df['customerID'].nunique()"
   ]
  },
  {
   "cell_type": "code",
   "execution_count": 10,
   "metadata": {},
   "outputs": [
    {
     "name": "stdout",
     "output_type": "stream",
     "text": [
      "['DSL' 'Fiber optic']\n",
      "['No' 'Yes']\n",
      "['Yes' 'No']\n",
      "['No' 'Yes']\n",
      "['No' 'Yes']\n",
      "['No' 'Yes']\n",
      "['No' 'Yes']\n"
     ]
    }
   ],
   "source": [
    "cat_cols = internet_df.columns.drop('customerID')\n",
    "for i in cat_cols:\n",
    "    print(internet_df[i].unique())\n",
    "\n",
    "    \n",
    "internet_df[cat_cols] = internet_df[cat_cols].astype('category')"
   ]
  },
  {
   "cell_type": "markdown",
   "metadata": {},
   "source": [
    "##### *Phone dataset*"
   ]
  },
  {
   "cell_type": "code",
   "execution_count": 11,
   "metadata": {},
   "outputs": [],
   "source": [
    "#phone_df"
   ]
  },
  {
   "cell_type": "code",
   "execution_count": 12,
   "metadata": {},
   "outputs": [
    {
     "name": "stdout",
     "output_type": "stream",
     "text": [
      "<class 'pandas.core.frame.DataFrame'>\n",
      "RangeIndex: 6361 entries, 0 to 6360\n",
      "Data columns (total 2 columns):\n",
      " #   Column         Non-Null Count  Dtype \n",
      "---  ------         --------------  ----- \n",
      " 0   customerID     6361 non-null   object\n",
      " 1   MultipleLines  6361 non-null   object\n",
      "dtypes: object(2)\n",
      "memory usage: 99.5+ KB\n"
     ]
    },
    {
     "data": {
      "text/plain": [
       "0"
      ]
     },
     "execution_count": 12,
     "metadata": {},
     "output_type": "execute_result"
    }
   ],
   "source": [
    "phone_df.info()\n",
    "phone_df['customerID'].duplicated().sum()"
   ]
  },
  {
   "cell_type": "code",
   "execution_count": 13,
   "metadata": {},
   "outputs": [
    {
     "name": "stdout",
     "output_type": "stream",
     "text": [
      "['No' 'Yes']\n"
     ]
    }
   ],
   "source": [
    "print(phone_df['MultipleLines'].unique())\n",
    "phone_df['MultipleLines'] = phone_df['MultipleLines'].astype('category')"
   ]
  },
  {
   "cell_type": "markdown",
   "metadata": {},
   "source": [
    "##### *Contract dataset*"
   ]
  },
  {
   "cell_type": "code",
   "execution_count": 14,
   "metadata": {},
   "outputs": [],
   "source": [
    "#contract_df"
   ]
  },
  {
   "cell_type": "code",
   "execution_count": 15,
   "metadata": {},
   "outputs": [
    {
     "name": "stdout",
     "output_type": "stream",
     "text": [
      "<class 'pandas.core.frame.DataFrame'>\n",
      "RangeIndex: 7043 entries, 0 to 7042\n",
      "Data columns (total 8 columns):\n",
      " #   Column            Non-Null Count  Dtype  \n",
      "---  ------            --------------  -----  \n",
      " 0   customerID        7043 non-null   object \n",
      " 1   BeginDate         7043 non-null   object \n",
      " 2   EndDate           7043 non-null   object \n",
      " 3   Type              7043 non-null   object \n",
      " 4   PaperlessBilling  7043 non-null   object \n",
      " 5   PaymentMethod     7043 non-null   object \n",
      " 6   MonthlyCharges    7043 non-null   float64\n",
      " 7   TotalCharges      7043 non-null   object \n",
      "dtypes: float64(1), object(7)\n",
      "memory usage: 440.3+ KB\n"
     ]
    }
   ],
   "source": [
    "contract_df.info()"
   ]
  },
  {
   "cell_type": "code",
   "execution_count": 16,
   "metadata": {},
   "outputs": [
    {
     "name": "stdout",
     "output_type": "stream",
     "text": [
      "7043\n"
     ]
    }
   ],
   "source": [
    "print(contract_df['customerID'].nunique())"
   ]
  },
  {
   "cell_type": "code",
   "execution_count": 17,
   "metadata": {},
   "outputs": [],
   "source": [
    "#convertir TotalCharges a número\n",
    "contract_df['TotalCharges'] = pd.to_numeric(contract_df['TotalCharges'].str.strip(), errors='coerce')"
   ]
  },
  {
   "cell_type": "code",
   "execution_count": 18,
   "metadata": {},
   "outputs": [
    {
     "name": "stdout",
     "output_type": "stream",
     "text": [
      "11\n"
     ]
    }
   ],
   "source": [
    "#Revisar nulos en total charges\n",
    "print(contract_df['TotalCharges'].isna().sum())"
   ]
  },
  {
   "cell_type": "code",
   "execution_count": 19,
   "metadata": {},
   "outputs": [],
   "source": [
    "#convertir columnas de fechas a datetime\n",
    "contract_df['BeginDate'] = pd.to_datetime(contract_df['BeginDate'],errors='coerce')\n",
    "contract_df['EndDate'] = pd.to_datetime(contract_df['EndDate'],errors='coerce')"
   ]
  },
  {
   "cell_type": "code",
   "execution_count": 20,
   "metadata": {},
   "outputs": [
    {
     "data": {
      "text/plain": [
       "5174"
      ]
     },
     "execution_count": 20,
     "metadata": {},
     "output_type": "execute_result"
    }
   ],
   "source": [
    "contract_df['BeginDate'].isna().sum()\n",
    "contract_df['EndDate'].isna().sum()"
   ]
  },
  {
   "cell_type": "code",
   "execution_count": 21,
   "metadata": {},
   "outputs": [],
   "source": [
    "# columna para identificar clientes que ya se fueron\n",
    "contract_df['churn'] = contract_df['EndDate'].notna()\n",
    "#contract_df"
   ]
  },
  {
   "cell_type": "code",
   "execution_count": 22,
   "metadata": {},
   "outputs": [
    {
     "name": "stdout",
     "output_type": "stream",
     "text": [
      "['Month-to-month' 'One year' 'Two year']\n",
      "['Yes' 'No']\n",
      "['Electronic check' 'Mailed check' 'Bank transfer (automatic)'\n",
      " 'Credit card (automatic)']\n",
      "<class 'pandas.core.frame.DataFrame'>\n",
      "RangeIndex: 7043 entries, 0 to 7042\n",
      "Data columns (total 9 columns):\n",
      " #   Column            Non-Null Count  Dtype         \n",
      "---  ------            --------------  -----         \n",
      " 0   customerID        7043 non-null   object        \n",
      " 1   BeginDate         7043 non-null   datetime64[ns]\n",
      " 2   EndDate           1869 non-null   datetime64[ns]\n",
      " 3   Type              7043 non-null   category      \n",
      " 4   PaperlessBilling  7043 non-null   category      \n",
      " 5   PaymentMethod     7043 non-null   category      \n",
      " 6   MonthlyCharges    7043 non-null   float64       \n",
      " 7   TotalCharges      7032 non-null   float64       \n",
      " 8   churn             7043 non-null   bool          \n",
      "dtypes: bool(1), category(3), datetime64[ns](2), float64(2), object(1)\n",
      "memory usage: 303.2+ KB\n"
     ]
    }
   ],
   "source": [
    "# columnas con categoría\n",
    "cat_cols = ['Type', 'PaperlessBilling', 'PaymentMethod']\n",
    "for i in cat_cols:\n",
    "    print(contract_df[i].unique())\n",
    "\n",
    "\n",
    "contract_df[cat_cols] = contract_df[cat_cols].astype('category')\n",
    "\n",
    "contract_df.info()"
   ]
  },
  {
   "cell_type": "code",
   "execution_count": 23,
   "metadata": {},
   "outputs": [],
   "source": [
    "# calcular meses de servicio al día de hoy(tenure)\n",
    "contract_df['tenure_months'] = (\n",
    "    (pd.Timestamp('2025-07-21') - contract_df['BeginDate']).dt.days // 30\n",
    ")\n",
    "\n"
   ]
  },
  {
   "cell_type": "code",
   "execution_count": 24,
   "metadata": {},
   "outputs": [
    {
     "name": "stdout",
     "output_type": "stream",
     "text": [
      "0\n"
     ]
    }
   ],
   "source": [
    "# rellenar nulos de 'TotalCharges'\n",
    "contract_df['TotalCharges'] = contract_df['TotalCharges'].fillna(\n",
    "    contract_df['MonthlyCharges'] * contract_df['tenure_months']\n",
    ")\n",
    "\n",
    "print(contract_df['TotalCharges'].isna().sum())"
   ]
  },
  {
   "cell_type": "markdown",
   "metadata": {},
   "source": [
    "## __2. Análisis exploratorio de datos__"
   ]
  },
  {
   "cell_type": "markdown",
   "metadata": {},
   "source": [
    "__*Full dataset*__"
   ]
  },
  {
   "cell_type": "code",
   "execution_count": 25,
   "metadata": {},
   "outputs": [],
   "source": [
    "#unir dataframes\n",
    "full_df = (contract_df\n",
    "           .merge(personal_df, on='customerID')\n",
    "           .merge(internet_df, on='customerID', how='left')\n",
    "           .merge(phone_df, on='customerID', how='left'))\n",
    "\n",
    "#full_df"
   ]
  },
  {
   "cell_type": "code",
   "execution_count": 26,
   "metadata": {},
   "outputs": [
    {
     "name": "stdout",
     "output_type": "stream",
     "text": [
      "\n",
      "Tasa de cancelación por Type:\n",
      " Type\n",
      "Month-to-month    0.427\n",
      "One year          0.113\n",
      "Two year          0.028\n",
      "Name: churn, dtype: float64\n",
      "\n",
      "Tasa de cancelación por PaymentMethod:\n",
      " PaymentMethod\n",
      "Electronic check             0.453\n",
      "Mailed check                 0.191\n",
      "Bank transfer (automatic)    0.167\n",
      "Credit card (automatic)      0.152\n",
      "Name: churn, dtype: float64\n",
      "\n",
      "Tasa de cancelación por SeniorCitizen:\n",
      " SeniorCitizen\n",
      "True     0.417\n",
      "False    0.236\n",
      "Name: churn, dtype: float64\n",
      "\n",
      "Tasa de cancelación por InternetService:\n",
      " InternetService\n",
      "Fiber optic    0.419\n",
      "DSL            0.190\n",
      "Name: churn, dtype: float64\n",
      "\n",
      "Tasa de cancelación por MultipleLines:\n",
      " MultipleLines\n",
      "Yes    0.286\n",
      "No     0.250\n",
      "Name: churn, dtype: float64\n"
     ]
    }
   ],
   "source": [
    "def cancelation_rate(column):\n",
    "    result = full_df.groupby(column)['churn'].mean().sort_values(ascending=False)\n",
    "    print(f\"\\nTasa de cancelación por {column}:\\n\", result.round(3))\n",
    "\n",
    "cancelation_rate('Type')\n",
    "cancelation_rate('PaymentMethod')\n",
    "cancelation_rate('SeniorCitizen')\n",
    "cancelation_rate('InternetService')\n",
    "cancelation_rate('MultipleLines')"
   ]
  },
  {
   "cell_type": "code",
   "execution_count": 27,
   "metadata": {},
   "outputs": [],
   "source": [
    "# columna para número de servicios de internet contratados\n",
    "servicios = ['OnlineSecurity', 'OnlineBackup', 'DeviceProtection', 'TechSupport', 'StreamingTV', 'StreamingMovies']\n",
    "full_df['n_internet_services'] = (full_df[servicios] == 'Yes').sum(axis=1)"
   ]
  },
  {
   "cell_type": "code",
   "execution_count": 28,
   "metadata": {},
   "outputs": [],
   "source": [
    "# ratio totalCharges/tenure_months\n",
    "full_df['charges_ratio'] = full_df['TotalCharges'] / full_df['tenure_months']"
   ]
  },
  {
   "cell_type": "code",
   "execution_count": 29,
   "metadata": {},
   "outputs": [],
   "source": [
    "# columnas complementarias: tipo de servicio de internet y cuántos servicios contrata\n",
    "full_df['DSL_services'] = (full_df['InternetService'] == 'DSL') * full_df['n_internet_services']\n",
    "full_df['Fiber_services'] = (full_df['InternetService'] == 'Fiber optic') * full_df['n_internet_services']\n",
    "full_df['NoInternet_services'] = (full_df['InternetService'].isna()) * full_df['n_internet_services']"
   ]
  },
  {
   "cell_type": "code",
   "execution_count": 30,
   "metadata": {},
   "outputs": [],
   "source": [
    "#full_df.info()"
   ]
  },
  {
   "cell_type": "code",
   "execution_count": 31,
   "metadata": {},
   "outputs": [
    {
     "data": {
      "image/png": "[encoded data removed]",
      "text/plain": [
       "<Figure size 640x480 with 1 Axes>"
      ]
     },
     "metadata": {},
     "output_type": "display_data"
    },
    {
     "name": "stdout",
     "output_type": "stream",
     "text": [
      "False    0.73463\n",
      "True     0.26537\n",
      "Name: churn, dtype: float64\n"
     ]
    }
   ],
   "source": [
    "# distribución de churn\n",
    "\n",
    "sns.countplot(data=full_df, x='churn')\n",
    "plt.title('Distribución de clases (cancelación)')\n",
    "plt.xlabel('¿Canceló?')\n",
    "plt.ylabel('Cantidad')\n",
    "plt.show()\n",
    "\n",
    "# Proporción\n",
    "print(full_df['churn'].value_counts(normalize=True))"
   ]
  },
  {
   "cell_type": "markdown",
   "metadata": {},
   "source": [
    "La distribución de clases está ligeramente desbalanceada, por lo que se considerará usar 'class_weight=balanced' en los modelos a entrenar, y usar F1 score como métrica principal."
   ]
  },
  {
   "cell_type": "code",
   "execution_count": 32,
   "metadata": {},
   "outputs": [
    {
     "data": {
      "image/png": "[encoded data removed]",
      "text/plain": [
       "<Figure size 600x400 with 1 Axes>"
      ]
     },
     "metadata": {},
     "output_type": "display_data"
    }
   ],
   "source": [
    "# tasa de cancelación por tipo de contrato\n",
    "\n",
    "plt.figure(figsize=(6,4))\n",
    "sns.barplot(data=full_df, x='Type', y='churn')\n",
    "plt.title('Tasa de cancelación por tipo de contrato')\n",
    "plt.ylabel('Proporción de cancelaciones')\n",
    "plt.xlabel('Tipo de contrato')\n",
    "plt.show()"
   ]
  },
  {
   "cell_type": "markdown",
   "metadata": {},
   "source": [
    "Los contratos mensuales tienen más cancelaciones"
   ]
  },
  {
   "cell_type": "code",
   "execution_count": 33,
   "metadata": {},
   "outputs": [
    {
     "data": {
      "image/png": "[encoded data removed]",
      "text/plain": [
       "<Figure size 800x400 with 1 Axes>"
      ]
     },
     "metadata": {},
     "output_type": "display_data"
    }
   ],
   "source": [
    "# tasa de cancelación por tipo de pago\n",
    "plt.figure(figsize=(8,4))\n",
    "sns.barplot(data=full_df, x='PaymentMethod', y='churn')\n",
    "plt.title('Tasa de cancelación por método de pago')\n",
    "plt.xticks(rotation=20)\n",
    "plt.ylabel('Proporción de cancelaciones')\n",
    "plt.show()"
   ]
  },
  {
   "cell_type": "markdown",
   "metadata": {},
   "source": [
    "Los clientes que eligen cheque electrónico como método de pago cancelan más que el resto."
   ]
  },
  {
   "cell_type": "code",
   "execution_count": 34,
   "metadata": {},
   "outputs": [
    {
     "data": {
      "image/png": "[encoded data removed]",
      "text/plain": [
       "<Figure size 800x400 with 1 Axes>"
      ]
     },
     "metadata": {},
     "output_type": "display_data"
    }
   ],
   "source": [
    "# tasa de cancelación por tipo de pago\n",
    "plt.figure(figsize=(8,4))\n",
    "sns.barplot(data=full_df, x='InternetService', y='churn')\n",
    "plt.title('Tasa de cancelación por tipo de Internet')\n",
    "plt.xticks(rotation=20)\n",
    "plt.ylabel('Proporción de cancelaciones')\n",
    "plt.show()"
   ]
  },
  {
   "cell_type": "markdown",
   "metadata": {},
   "source": [
    "Clientes con fibra óptica son más propensos a cancelar."
   ]
  },
  {
   "cell_type": "code",
   "execution_count": 35,
   "metadata": {},
   "outputs": [
    {
     "data": {
      "image/png": "[encoded data removed]",
      "text/plain": [
       "<Figure size 400x400 with 1 Axes>"
      ]
     },
     "metadata": {},
     "output_type": "display_data"
    }
   ],
   "source": [
    "# Cancelación por grupo de edad (senior vs no senior)\n",
    "\n",
    "plt.figure(figsize=(4,4))\n",
    "sns.barplot(data=full_df, x='SeniorCitizen', y='churn')\n",
    "plt.title('Cancelaciones: personas mayores vs no mayores')\n",
    "plt.xticks([0,1], ['No Senior', 'Senior'])\n",
    "plt.ylabel('Proporción de cancelaciones')\n",
    "plt.show()"
   ]
  },
  {
   "cell_type": "markdown",
   "metadata": {},
   "source": [
    "Los clientes senior cancelan más."
   ]
  },
  {
   "cell_type": "code",
   "execution_count": 36,
   "metadata": {},
   "outputs": [
    {
     "data": {
      "image/png": "[encoded data removed]",
      "text/plain": [
       "<Figure size 800x500 with 1 Axes>"
      ]
     },
     "metadata": {},
     "output_type": "display_data"
    }
   ],
   "source": [
    "# comparación de distribución de monthly charges entre cancelados y no cancelados\n",
    "plt.figure(figsize=(8,5))\n",
    "sns.boxplot(data=full_df, x='churn', y='MonthlyCharges')\n",
    "plt.title('Distribución de Monthly Charges según cancelación')\n",
    "plt.xticks([0,1], ['Activos', 'Cancelados'])\n",
    "plt.ylabel('Monthly Charges ($)')\n",
    "plt.xlabel('Estado del cliente')\n",
    "plt.show()"
   ]
  },
  {
   "cell_type": "markdown",
   "metadata": {},
   "source": [
    "Los cientes con cargos mensuales más altos cancelan en mayor medida."
   ]
  },
  {
   "cell_type": "code",
   "execution_count": 37,
   "metadata": {},
   "outputs": [
    {
     "data": {
      "image/png": "[encoded data removed]",
      "text/plain": [
       "<Figure size 800x400 with 1 Axes>"
      ]
     },
     "metadata": {},
     "output_type": "display_data"
    }
   ],
   "source": [
    "#Relación entre tenure_months y cancelación\n",
    "plt.figure(figsize=(8,4))\n",
    "sns.histplot(data=full_df, x='tenure_months', hue='churn', multiple='stack', bins=50)\n",
    "plt.title('Distribución de tiempo en el servicio según cancelación')\n",
    "plt.xlabel('Meses de servicio')\n",
    "plt.ylabel('Cantidad de clientes')\n",
    "plt.show()"
   ]
  },
  {
   "cell_type": "markdown",
   "metadata": {},
   "source": [
    "Gran parte de las cancelaciones suelen ser alrededor de 70 meses."
   ]
  },
  {
   "cell_type": "code",
   "execution_count": 38,
   "metadata": {},
   "outputs": [
    {
     "data": {
      "image/png": "[encoded data removed]",
      "text/plain": [
       "<Figure size 600x400 with 1 Axes>"
      ]
     },
     "metadata": {},
     "output_type": "display_data"
    }
   ],
   "source": [
    "# número de servicios de internet vs cancelación\n",
    "plt.figure(figsize=(6,4))\n",
    "sns.barplot(data=full_df, x='n_internet_services', y='churn')\n",
    "plt.title('Cancelación según número de servicios de internet')\n",
    "plt.xlabel('Cantidad de servicios de internet')\n",
    "plt.ylabel('Proporción de cancelaciones')\n",
    "plt.show()"
   ]
  },
  {
   "cell_type": "markdown",
   "metadata": {},
   "source": [
    "Se podría sugerir que más servicios contratados retienen mejor a los clientes."
   ]
  },
  {
   "cell_type": "code",
   "execution_count": 39,
   "metadata": {},
   "outputs": [
    {
     "data": {
      "text/html": [
       "<div>\n",
       "<style scoped>\n",
       "    .dataframe tbody tr th:only-of-type {\n",
       "        vertical-align: middle;\n",
       "    }\n",
       "\n",
       "    .dataframe tbody tr th {\n",
       "        vertical-align: top;\n",
       "    }\n",
       "\n",
       "    .dataframe thead th {\n",
       "        text-align: right;\n",
       "    }\n",
       "</style>\n",
       "<table border=\"1\" class=\"dataframe\">\n",
       "  <thead>\n",
       "    <tr style=\"text-align: right;\">\n",
       "      <th></th>\n",
       "      <th>MonthlyCharges</th>\n",
       "      <th>TotalCharges</th>\n",
       "      <th>tenure_months</th>\n",
       "      <th>n_internet_services</th>\n",
       "      <th>SeniorCitizen</th>\n",
       "      <th>churn</th>\n",
       "    </tr>\n",
       "  </thead>\n",
       "  <tbody>\n",
       "    <tr>\n",
       "      <th>MonthlyCharges</th>\n",
       "      <td>1.000000</td>\n",
       "      <td>0.650765</td>\n",
       "      <td>0.260700</td>\n",
       "      <td>0.724706</td>\n",
       "      <td>0.220173</td>\n",
       "      <td>0.193356</td>\n",
       "    </tr>\n",
       "    <tr>\n",
       "      <th>TotalCharges</th>\n",
       "      <td>0.650765</td>\n",
       "      <td>1.000000</td>\n",
       "      <td>0.826892</td>\n",
       "      <td>0.746136</td>\n",
       "      <td>0.102220</td>\n",
       "      <td>-0.199540</td>\n",
       "    </tr>\n",
       "    <tr>\n",
       "      <th>tenure_months</th>\n",
       "      <td>0.260700</td>\n",
       "      <td>0.826892</td>\n",
       "      <td>1.000000</td>\n",
       "      <td>0.497468</td>\n",
       "      <td>0.023656</td>\n",
       "      <td>-0.311935</td>\n",
       "    </tr>\n",
       "    <tr>\n",
       "      <th>n_internet_services</th>\n",
       "      <td>0.724706</td>\n",
       "      <td>0.746136</td>\n",
       "      <td>0.497468</td>\n",
       "      <td>1.000000</td>\n",
       "      <td>0.067493</td>\n",
       "      <td>-0.087698</td>\n",
       "    </tr>\n",
       "    <tr>\n",
       "      <th>SeniorCitizen</th>\n",
       "      <td>0.220173</td>\n",
       "      <td>0.102220</td>\n",
       "      <td>0.023656</td>\n",
       "      <td>0.067493</td>\n",
       "      <td>1.000000</td>\n",
       "      <td>0.150889</td>\n",
       "    </tr>\n",
       "    <tr>\n",
       "      <th>churn</th>\n",
       "      <td>0.193356</td>\n",
       "      <td>-0.199540</td>\n",
       "      <td>-0.311935</td>\n",
       "      <td>-0.087698</td>\n",
       "      <td>0.150889</td>\n",
       "      <td>1.000000</td>\n",
       "    </tr>\n",
       "  </tbody>\n",
       "</table>\n",
       "</div>"
      ],
      "text/plain": [
       "                     MonthlyCharges  TotalCharges  tenure_months  \\\n",
       "MonthlyCharges             1.000000      0.650765       0.260700   \n",
       "TotalCharges               0.650765      1.000000       0.826892   \n",
       "tenure_months              0.260700      0.826892       1.000000   \n",
       "n_internet_services        0.724706      0.746136       0.497468   \n",
       "SeniorCitizen              0.220173      0.102220       0.023656   \n",
       "churn                      0.193356     -0.199540      -0.311935   \n",
       "\n",
       "                     n_internet_services  SeniorCitizen     churn  \n",
       "MonthlyCharges                  0.724706       0.220173  0.193356  \n",
       "TotalCharges                    0.746136       0.102220 -0.199540  \n",
       "tenure_months                   0.497468       0.023656 -0.311935  \n",
       "n_internet_services             1.000000       0.067493 -0.087698  \n",
       "SeniorCitizen                   0.067493       1.000000  0.150889  \n",
       "churn                          -0.087698       0.150889  1.000000  "
      ]
     },
     "execution_count": 39,
     "metadata": {},
     "output_type": "execute_result"
    }
   ],
   "source": [
    "# correlación de variables numéricas con churn\n",
    "full_df[['MonthlyCharges', 'TotalCharges', 'tenure_months', 'n_internet_services', 'SeniorCitizen', 'churn']].corr()"
   ]
  },
  {
   "cell_type": "code",
   "execution_count": 40,
   "metadata": {},
   "outputs": [
    {
     "data": {
      "image/png": "[encoded data removed]",
      "text/plain": [
       "<Figure size 600x400 with 2 Axes>"
      ]
     },
     "metadata": {},
     "output_type": "display_data"
    }
   ],
   "source": [
    "# graficar correlación\n",
    "\n",
    "num_cols = ['MonthlyCharges', 'TotalCharges', 'tenure_months', 'n_internet_services', 'SeniorCitizen', 'churn']\n",
    "corr_matrix = full_df[num_cols].corr()\n",
    "\n",
    "# Mostrar solo la correlación con churn\n",
    "plt.figure(figsize=(6, 4))\n",
    "sns.heatmap(corr_matrix[['churn']].sort_values(by='churn', ascending=False),\n",
    "            annot=True, cmap='coolwarm', vmin=-1, vmax=1)\n",
    "plt.title('Correlación de variables numéricas con churn')\n",
    "plt.show()"
   ]
  },
  {
   "cell_type": "markdown",
   "metadata": {},
   "source": [
    "No resulta de gran relevancia pero respalda las observaciones de que: a mayor monthly charge, mayor posibilidad de que cancelen. Y entre más meses de servicio, menor probabilidad de que cancelen.\n",
    "\n",
    "Parece contradictorio que TotalCharges muestra una correlación negativa en casi la misma proporción que Monthly Charges muestra correlación positiva, pero TotalCharges tiene alta correlación con tenure: clientes con total charges altos tienen mayor historial de pagos."
   ]
  },
  {
   "cell_type": "markdown",
   "metadata": {},
   "source": [
    "## __3. Transformación y codificación__"
   ]
  },
  {
   "cell_type": "code",
   "execution_count": 41,
   "metadata": {},
   "outputs": [
    {
     "name": "stdout",
     "output_type": "stream",
     "text": [
      "<class 'pandas.core.frame.DataFrame'>\n",
      "Int64Index: 7043 entries, 0 to 7042\n",
      "Data columns (total 18 columns):\n",
      " #   Column               Non-Null Count  Dtype   \n",
      "---  ------               --------------  -----   \n",
      " 0   Type                 7043 non-null   category\n",
      " 1   PaperlessBilling     7043 non-null   category\n",
      " 2   PaymentMethod        7043 non-null   category\n",
      " 3   MonthlyCharges       7043 non-null   float64 \n",
      " 4   TotalCharges         7043 non-null   float64 \n",
      " 5   churn                7043 non-null   bool    \n",
      " 6   tenure_months        7043 non-null   int64   \n",
      " 7   gender               7043 non-null   category\n",
      " 8   SeniorCitizen        7043 non-null   bool    \n",
      " 9   Partner              7043 non-null   category\n",
      " 10  Dependents           7043 non-null   category\n",
      " 11  InternetService      5517 non-null   category\n",
      " 12  MultipleLines        6361 non-null   category\n",
      " 13  n_internet_services  7043 non-null   int64   \n",
      " 14  charges_ratio        7043 non-null   float64 \n",
      " 15  DSL_services         7043 non-null   int64   \n",
      " 16  Fiber_services       7043 non-null   int64   \n",
      " 17  NoInternet_services  7043 non-null   int64   \n",
      "dtypes: bool(2), category(8), float64(3), int64(5)\n",
      "memory usage: 823.1 KB\n"
     ]
    }
   ],
   "source": [
    "#eliminar columnas innecesarias\n",
    "\n",
    "cols_to_drop = [\n",
    "    'customerID', 'BeginDate', 'EndDate',\n",
    "    'OnlineSecurity', 'OnlineBackup', 'DeviceProtection',\n",
    "    'TechSupport', 'StreamingTV', 'StreamingMovies'\n",
    "]\n",
    "\n",
    "\n",
    "df = full_df.drop(columns=cols_to_drop)\n",
    "\n",
    "df.info()"
   ]
  },
  {
   "cell_type": "code",
   "execution_count": 42,
   "metadata": {},
   "outputs": [],
   "source": [
    "# manejar los valores nulos antes de codificar\n",
    "df['InternetService'] = df['InternetService'].cat.add_categories('No service').fillna('No service')\n",
    "df['MultipleLines'] = df['MultipleLines'].cat.add_categories('No service').fillna('No service')\n",
    "\n",
    "\n",
    "#df.info()"
   ]
  },
  {
   "cell_type": "code",
   "execution_count": 43,
   "metadata": {},
   "outputs": [],
   "source": [
    "df_encoded = pd.get_dummies(df, drop_first=False)"
   ]
  },
  {
   "cell_type": "code",
   "execution_count": 44,
   "metadata": {},
   "outputs": [],
   "source": [
    "# dividir en entrenamiento y validación usando el parámetro 'stratify' para mantener la proporción de clases\n",
    "features = df_encoded.drop(columns='churn')\n",
    "target = df_encoded['churn']\n",
    "\n",
    "features_train, features_valid, target_train, target_valid = train_test_split(features, target, test_size=0.25, random_state=12345, stratify=target)\n"
   ]
  },
  {
   "cell_type": "code",
   "execution_count": 45,
   "metadata": {},
   "outputs": [
    {
     "name": "stderr",
     "output_type": "stream",
     "text": [
      "/tmp/ipykernel_308/1459860229.py:6: SettingWithCopyWarning: \n",
      "A value is trying to be set on a copy of a slice from a DataFrame.\n",
      "Try using .loc[row_indexer,col_indexer] = value instead\n",
      "\n",
      "See the caveats in the documentation: https://pandas.pydata.org/pandas-docs/stable/user_guide/indexing.html#returning-a-view-versus-a-copy\n",
      "  features_train[numeric] = scaler.fit_transform(features_train[numeric])\n",
      "/.venv/lib/python3.9/site-packages/pandas/core/indexing.py:1738: SettingWithCopyWarning: \n",
      "A value is trying to be set on a copy of a slice from a DataFrame.\n",
      "Try using .loc[row_indexer,col_indexer] = value instead\n",
      "\n",
      "See the caveats in the documentation: https://pandas.pydata.org/pandas-docs/stable/user_guide/indexing.html#returning-a-view-versus-a-copy\n",
      "  self._setitem_single_column(loc, value[:, i].tolist(), pi)\n",
      "/tmp/ipykernel_308/1459860229.py:7: SettingWithCopyWarning: \n",
      "A value is trying to be set on a copy of a slice from a DataFrame.\n",
      "Try using .loc[row_indexer,col_indexer] = value instead\n",
      "\n",
      "See the caveats in the documentation: https://pandas.pydata.org/pandas-docs/stable/user_guide/indexing.html#returning-a-view-versus-a-copy\n",
      "  features_valid[numeric] = scaler.transform(features_valid[numeric])\n",
      "/.venv/lib/python3.9/site-packages/pandas/core/indexing.py:1738: SettingWithCopyWarning: \n",
      "A value is trying to be set on a copy of a slice from a DataFrame.\n",
      "Try using .loc[row_indexer,col_indexer] = value instead\n",
      "\n",
      "See the caveats in the documentation: https://pandas.pydata.org/pandas-docs/stable/user_guide/indexing.html#returning-a-view-versus-a-copy\n",
      "  self._setitem_single_column(loc, value[:, i].tolist(), pi)\n"
     ]
    }
   ],
   "source": [
    "# escalado de columnas numéricas\n",
    "numeric = ['MonthlyCharges', 'TotalCharges', 'tenure_months', 'n_internet_services', 'charges_ratio', 'DSL_services', 'Fiber_services', 'NoInternet_services']\n",
    "\n",
    "scaler = StandardScaler()\n",
    "\n",
    "features_train[numeric] = scaler.fit_transform(features_train[numeric])\n",
    "features_valid[numeric] = scaler.transform(features_valid[numeric])\n",
    "\n"
   ]
  },
  {
   "cell_type": "markdown",
   "metadata": {},
   "source": [
    "## __4. Entrenamiento y evaluación de modelos__"
   ]
  },
  {
   "cell_type": "markdown",
   "metadata": {},
   "source": [
    "#### Modelo dummy"
   ]
  },
  {
   "cell_type": "code",
   "execution_count": 46,
   "metadata": {},
   "outputs": [
    {
     "name": "stdout",
     "output_type": "stream",
     "text": [
      "              precision    recall  f1-score   support\n",
      "\n",
      "       False       0.00      0.00      0.00      1294\n",
      "        True       0.27      1.00      0.42       467\n",
      "\n",
      "    accuracy                           0.27      1761\n",
      "   macro avg       0.13      0.50      0.21      1761\n",
      "weighted avg       0.07      0.27      0.11      1761\n",
      "\n"
     ]
    },
    {
     "name": "stderr",
     "output_type": "stream",
     "text": [
      "/.venv/lib/python3.9/site-packages/sklearn/metrics/_classification.py:1245: UndefinedMetricWarning: Precision and F-score are ill-defined and being set to 0.0 in labels with no predicted samples. Use `zero_division` parameter to control this behavior.\n",
      "  _warn_prf(average, modifier, msg_start, len(result))\n",
      "/.venv/lib/python3.9/site-packages/sklearn/metrics/_classification.py:1245: UndefinedMetricWarning: Precision and F-score are ill-defined and being set to 0.0 in labels with no predicted samples. Use `zero_division` parameter to control this behavior.\n",
      "  _warn_prf(average, modifier, msg_start, len(result))\n",
      "/.venv/lib/python3.9/site-packages/sklearn/metrics/_classification.py:1245: UndefinedMetricWarning: Precision and F-score are ill-defined and being set to 0.0 in labels with no predicted samples. Use `zero_division` parameter to control this behavior.\n",
      "  _warn_prf(average, modifier, msg_start, len(result))\n"
     ]
    }
   ],
   "source": [
    "# prueba de cordura\n",
    "target_pred = np.ones_like(target_valid)\n",
    "print(classification_report(target_valid, target_pred))\n"
   ]
  },
  {
   "cell_type": "markdown",
   "metadata": {},
   "source": [
    "Un modelo aceptable debería superar un valor F1 de 0.42, y se busca que el modelo idealmente supere un valor F1 de 0.75."
   ]
  },
  {
   "cell_type": "markdown",
   "metadata": {},
   "source": [
    "#### Decission Tree Classifier"
   ]
  },
  {
   "cell_type": "code",
   "execution_count": 47,
   "metadata": {},
   "outputs": [
    {
     "name": "stdout",
     "output_type": "stream",
     "text": [
      "Decision Tree\n",
      "Entrenamiento F1: 0.7311688311688311\n",
      "Validación F1: 0.6673114119922631\n"
     ]
    }
   ],
   "source": [
    "# DecisionTreeClassifier\n",
    "model = DecisionTreeClassifier(max_depth=7, random_state=12345, class_weight='balanced')\n",
    "model.fit(features_train, target_train)\n",
    "\n",
    "train_pred = model.predict(features_train)\n",
    "valid_pred = model.predict(features_valid)\n",
    "\n",
    "print(\"Decision Tree\")\n",
    "print(\"Entrenamiento F1:\", f1_score(target_train, train_pred))\n",
    "print(\"Validación F1:\", f1_score(target_valid, valid_pred))"
   ]
  },
  {
   "cell_type": "markdown",
   "metadata": {},
   "source": [
    "#### Random Forest Classifier"
   ]
  },
  {
   "cell_type": "code",
   "execution_count": 48,
   "metadata": {},
   "outputs": [
    {
     "name": "stdout",
     "output_type": "stream",
     "text": [
      "Random Forest\n",
      "Train F1: 0.7225067791503464\n",
      "Validation F1: 0.6758494031221303\n"
     ]
    }
   ],
   "source": [
    "#random forest classifier\n",
    "\n",
    "model = RandomForestClassifier(n_estimators=30, max_depth=8, random_state=12345, class_weight='balanced')\n",
    "model.fit(features_train, target_train)\n",
    "\n",
    "train_pred = model.predict(features_train)\n",
    "valid_pred = model.predict(features_valid)\n",
    "\n",
    "print(\"Random Forest\")\n",
    "print(\"Train F1:\", f1_score(target_train, train_pred))\n",
    "print(\"Validation F1:\", f1_score(target_valid, valid_pred))\n",
    "\n"
   ]
  },
  {
   "cell_type": "code",
   "execution_count": 49,
   "metadata": {},
   "outputs": [
    {
     "name": "stdout",
     "output_type": "stream",
     "text": [
      "Best Random Forest F1:\n",
      " 0.6803013993541444\n"
     ]
    }
   ],
   "source": [
    "#random forest classifier con GridSearch\n",
    "\n",
    "param_grid = {\n",
    "    'n_estimators': [30, 50, 100],\n",
    "    'max_depth': [8, 12, 15],\n",
    "    'min_samples_split': [2, 5, 10],\n",
    "}\n",
    "\n",
    "model = RandomForestClassifier(random_state=12345, class_weight='balanced')\n",
    "grid_search = GridSearchCV(model, param_grid, scoring='f1', cv=3, n_jobs=-1)\n",
    "grid_search.fit(features_train, target_train)\n",
    "\n",
    "best_rf = grid_search.best_estimator_\n",
    "\n",
    "target_pred = best_rf.predict(features_valid)\n",
    "\n",
    "print(\"Best Random Forest F1:\\n\", f1_score(target_valid, target_pred))"
   ]
  },
  {
   "cell_type": "markdown",
   "metadata": {},
   "source": [
    "#### Logistic Regression"
   ]
  },
  {
   "cell_type": "code",
   "execution_count": 50,
   "metadata": {},
   "outputs": [
    {
     "name": "stdout",
     "output_type": "stream",
     "text": [
      "Logistic Regression\n",
      "Train F1: 0.6535455861070912\n",
      "Validation F1: 0.6552901023890786\n"
     ]
    }
   ],
   "source": [
    "# Logistic Regression\n",
    "model = LogisticRegression(random_state=0, class_weight='balanced', max_iter=1000)\n",
    "model.fit(features_train, target_train)\n",
    "\n",
    "train_pred = model.predict(features_train)\n",
    "valid_pred = model.predict(features_valid)\n",
    "\n",
    "print(\"Logistic Regression\")\n",
    "print(\"Train F1:\", f1_score(target_train, train_pred))\n",
    "print(\"Validation F1:\", f1_score(target_valid, valid_pred))\n"
   ]
  },
  {
   "cell_type": "markdown",
   "metadata": {},
   "source": [
    "No se observa sobreajuste en los modelos Decision Tree, Random Forest y Logistic regression, pero al evaluar el set de validación, tampoco tienen el desempeño que buscamos."
   ]
  },
  {
   "cell_type": "markdown",
   "metadata": {},
   "source": [
    "#### XG Boost Classifier"
   ]
  },
  {
   "cell_type": "code",
   "execution_count": 51,
   "metadata": {},
   "outputs": [
    {
     "name": "stdout",
     "output_type": "stream",
     "text": [
      "[16:50:43] WARNING: ../src/learner.cc:1115: Starting in XGBoost 1.3.0, the default evaluation metric used with the objective 'binary:logistic' was changed from 'error' to 'logloss'. Explicitly set eval_metric if you'd like to restore the old behavior.\n"
     ]
    },
    {
     "name": "stderr",
     "output_type": "stream",
     "text": [
      "/.venv/lib/python3.9/site-packages/xgboost/sklearn.py:1224: UserWarning: The use of label encoder in XGBClassifier is deprecated and will be removed in a future release. To remove this warning, do the following: 1) Pass option use_label_encoder=False when constructing XGBClassifier object; and 2) Encode your labels (y) as integers starting with 0, i.e. 0, 1, 2, ..., [num_class - 1].\n",
      "  warnings.warn(label_encoder_deprecation_msg, UserWarning)\n"
     ]
    },
    {
     "name": "stdout",
     "output_type": "stream",
     "text": [
      "XGBoost Train F1-score: 0.9943262411347518\n",
      "XGBoost Validation F1-score: 0.7995735607675907\n"
     ]
    }
   ],
   "source": [
    "#XG Boost Classifier\n",
    "scale_pos_weight = (target_train == 0).sum() / (target_train == 1).sum()\n",
    "xgb_model = XGBClassifier(random_state=12345, scale_pos_weight=scale_pos_weight)  \n",
    "xgb_model.fit(features_train, target_train)\n",
    "\n",
    "train_pred = xgb_model.predict(features_train)\n",
    "valid_pred = xgb_model.predict(features_valid)\n",
    "print(\"XGBoost Train F1-score:\", f1_score(target_train, train_pred))\n",
    "print(\"XGBoost Validation F1-score:\", f1_score(target_valid, valid_pred))"
   ]
  },
  {
   "cell_type": "markdown",
   "metadata": {},
   "source": [
    "Aunque XGBoost supera el valor F1 deseado, se observa sobreajuste en el modelo, que puede mitigarse con parámetros como número de esimadores, early stopping rounds, max depth, etc:"
   ]
  },
  {
   "cell_type": "code",
   "execution_count": 52,
   "metadata": {},
   "outputs": [
    {
     "name": "stdout",
     "output_type": "stream",
     "text": [
      "[16:50:45] WARNING: ../src/learner.cc:576: \n",
      "Parameters: { \"early_stopping_rounds\" } might not be used.\n",
      "\n",
      "  This could be a false alarm, with some parameters getting used by language bindings but\n",
      "  then being mistakenly passed down to XGBoost core, or some parameter actually being used\n",
      "  but getting flagged wrongly here. Please open an issue if you find any such cases.\n",
      "\n",
      "\n",
      "[16:50:45] WARNING: ../src/learner.cc:1115: Starting in XGBoost 1.3.0, the default evaluation metric used with the objective 'binary:logistic' was changed from 'error' to 'logloss'. Explicitly set eval_metric if you'd like to restore the old behavior.\n"
     ]
    },
    {
     "name": "stderr",
     "output_type": "stream",
     "text": [
      "/.venv/lib/python3.9/site-packages/xgboost/sklearn.py:1224: UserWarning: The use of label encoder in XGBClassifier is deprecated and will be removed in a future release. To remove this warning, do the following: 1) Pass option use_label_encoder=False when constructing XGBClassifier object; and 2) Encode your labels (y) as integers starting with 0, i.e. 0, 1, 2, ..., [num_class - 1].\n",
      "  warnings.warn(label_encoder_deprecation_msg, UserWarning)\n"
     ]
    },
    {
     "name": "stdout",
     "output_type": "stream",
     "text": [
      "XGBoost Train F1-score: 0.967411204686928\n",
      "XGBoost Validation F1-score: 0.8371559633027523\n"
     ]
    }
   ],
   "source": [
    "#XG Boost Classifier con ajuste de parámetros \n",
    "\n",
    "xgb_model = XGBClassifier(random_state=123, n_estimators=400, early_stopping_rounds=50, max_depth=4, learning_rate=0.3, gamma=0.1, subsample=0.6, colsample_bytree=0.8, reg_alpha=1, reg_lambda=5) \n",
    "xgb_model.fit(features_train, target_train)\n",
    "\n",
    "train_pred = xgb_model.predict(features_train)\n",
    "valid_pred = xgb_model.predict(features_valid)\n",
    "print(\"XGBoost Train F1-score:\", f1_score(target_train, train_pred))\n",
    "print(\"XGBoost Validation F1-score:\", f1_score(target_valid, valid_pred))\n",
    "\n"
   ]
  },
  {
   "cell_type": "markdown",
   "metadata": {},
   "source": [
    "Los parámetros han reducido el sobreajuste, y el modelo en el set de validación muestra aún mejor desempeño. Para ver si puede mejorar, ajustar el umbral de probabilidad que separa a las clases positivas de las negativas puede ser una opción:"
   ]
  },
  {
   "cell_type": "code",
   "execution_count": 53,
   "metadata": {},
   "outputs": [
    {
     "name": "stdout",
     "output_type": "stream",
     "text": [
      "Training set\n",
      "Threshold: 0.46\n",
      "F1-score: 0.9724238026124818\n",
      "Precision: 0.9896602658788775\n",
      "Recall: 0.9557774607703281\n",
      "\n",
      "Validation set\n",
      "Threshold: 0.46\n",
      "F1-score: 0.8419864559819414\n",
      "Precision: 0.8902147971360382\n",
      "Recall: 0.7987152034261242\n"
     ]
    }
   ],
   "source": [
    "#añadir umbral personalizado\n",
    "xgb_train_prob = xgb_model.predict_proba(features_train)[:, 1]\n",
    "xgb_valid_prob = xgb_model.predict_proba(features_valid)[:, 1]\n",
    "\n",
    "threshold = 0.46\n",
    "xgb_train_thresh = (xgb_train_prob >= threshold).astype(int)\n",
    "xgb_valid_thresh = (xgb_valid_prob >= threshold).astype(int)\n",
    "\n",
    "#evaluar el resultado con métricas\n",
    "print(\"Training set\")\n",
    "print(f\"Threshold: {threshold:.2f}\")\n",
    "print(\"F1-score:\", f1_score(target_train, xgb_train_thresh))\n",
    "print(\"Precision:\", precision_score(target_train, xgb_train_thresh))\n",
    "print(\"Recall:\", recall_score(target_train, xgb_train_thresh))\n",
    "\n",
    "print()\n",
    "\n",
    "print(\"Validation set\")\n",
    "print(f\"Threshold: {threshold:.2f}\")\n",
    "print(\"F1-score:\", f1_score(target_valid, xgb_valid_thresh))\n",
    "print(\"Precision:\", precision_score(target_valid, xgb_valid_thresh))\n",
    "print(\"Recall:\", recall_score(target_valid, xgb_valid_thresh))"
   ]
  },
  {
   "cell_type": "markdown",
   "metadata": {},
   "source": [
    "El ajuste de umbral mantiene una diferencia similar en los valores F1, y muestra una mejora en el desempeño del modelo, con un F1 score de F1-score: 0.84198646 en el set de validación."
   ]
  },
  {
   "cell_type": "markdown",
   "metadata": {},
   "source": [
    "#### Gradient Boosting Classifier"
   ]
  },
  {
   "cell_type": "code",
   "execution_count": 54,
   "metadata": {},
   "outputs": [
    {
     "name": "stdout",
     "output_type": "stream",
     "text": [
      "Gradient Boosting Training F1-score: 0.7686688311688311\n",
      "Gradient Boosting Validation F1-score: 0.7071428571428572\n"
     ]
    }
   ],
   "source": [
    "#Gradient Boosting Classifier\n",
    "\n",
    "gb_model = GradientBoostingClassifier(random_state=12345)\n",
    "gb_model.fit(features_train, target_train)\n",
    "\n",
    "gb_train = gb_model.predict(features_train)\n",
    "gb_valid = gb_model.predict(features_valid)\n",
    "print(\"Gradient Boosting Training F1-score:\", f1_score(target_train, gb_train))\n",
    "print(\"Gradient Boosting Validation F1-score:\", f1_score(target_valid, gb_valid))"
   ]
  },
  {
   "cell_type": "markdown",
   "metadata": {},
   "source": [
    "Este modelo de Gradient Boosting sencillo tampoco muestra sobreajuste pero no es competitivo."
   ]
  },
  {
   "cell_type": "markdown",
   "metadata": {},
   "source": [
    "#### Light GBM"
   ]
  },
  {
   "cell_type": "code",
   "execution_count": 55,
   "metadata": {},
   "outputs": [
    {
     "name": "stdout",
     "output_type": "stream",
     "text": [
      "LightGBM Train F1-score: 0.9294520547945205\n",
      "LightGBM Validation F1-score: 0.7966976264189887\n"
     ]
    }
   ],
   "source": [
    "#Light GBM\n",
    "lgbm_model = LGBMClassifier(random_state=12345, class_weight='balanced')\n",
    "lgbm_model.fit(features_train, target_train)\n",
    "\n",
    "lgbm_train = lgbm_model.predict(features_train)\n",
    "lgbm_valid = lgbm_model.predict(features_valid)\n",
    "print(\"LightGBM Train F1-score:\", f1_score(target_train, lgbm_train))\n",
    "print(\"LightGBM Validation F1-score:\", f1_score(target_valid, lgbm_valid))"
   ]
  },
  {
   "cell_type": "markdown",
   "metadata": {},
   "source": [
    "Light GB Model que puede incrementar su desempeño (y reduciendo sobreajuste) explorando parámetros."
   ]
  },
  {
   "cell_type": "code",
   "execution_count": 56,
   "metadata": {},
   "outputs": [
    {
     "name": "stdout",
     "output_type": "stream",
     "text": [
      "Fitting 3 folds for each of 216 candidates, totalling 648 fits\n",
      "(Training LightGBM F1-score: 0.9324324324324325\n",
      "(Validation LightGBM F1-score: 0.8153310104529617\n"
     ]
    }
   ],
   "source": [
    "#LGB con Grid Search para explorar parámetros\n",
    "lgb_model = LGBMClassifier(random_state=42)\n",
    "\n",
    "param_grid_lgb = {\n",
    "    'n_estimators': [100, 200],\n",
    "    'max_depth': [4, 6, 8],\n",
    "    'learning_rate': [0.05, 0.1, 0.2],\n",
    "    'num_leaves': [15, 31, 63],\n",
    "    'subsample': [0.8, 1.0],\n",
    "    'colsample_bytree': [0.8, 1.0]\n",
    "}\n",
    "\n",
    "grid_lgb = GridSearchCV(lgb_model, param_grid_lgb, scoring='f1', cv=3, n_jobs=-1, verbose=1)\n",
    "grid_lgb.fit(features_train, target_train)\n",
    "\n",
    "best_lgb = grid_lgb.best_estimator_\n",
    "\n",
    "train_pred = best_lgb.predict(features_train)\n",
    "valid_pred = best_lgb.predict(features_valid)\n",
    "\n",
    "print(\"(Training LightGBM F1-score:\", f1_score(target_train, train_pred))\n",
    "print(\"(Validation LightGBM F1-score:\", f1_score(target_valid, valid_pred))\n"
   ]
  },
  {
   "cell_type": "code",
   "execution_count": 57,
   "metadata": {},
   "outputs": [
    {
     "name": "stdout",
     "output_type": "stream",
     "text": [
      "Training set\n",
      "Threshold: 0.52\n",
      "F1-score: 0.9269216205982582\n",
      "Precision: 0.9878934624697336\n",
      "Recall: 0.8730385164051355\n",
      "\n",
      "Validaiton set\n",
      "Threshold: 0.52\n",
      "F1-score: 0.8131609870740305\n",
      "Precision: 0.9010416666666666\n",
      "Recall: 0.7408993576017131\n"
     ]
    }
   ],
   "source": [
    "# añadir umbral personalizado\n",
    "lgb_train_prob = best_lgb.predict_proba(features_train)[:, 1]\n",
    "lgb_valid_prob = best_lgb.predict_proba(features_valid)[:, 1]\n",
    "\n",
    "threshold = 0.52\n",
    "\n",
    "lgb_train_thresh = (lgb_train_prob >= threshold).astype(int)\n",
    "lgb_valid_thresh = (lgb_valid_prob >= threshold).astype(int)\n",
    "\n",
    "# evaluar el resultado \n",
    "print('Training set')\n",
    "print(f\"Threshold: {threshold:.2f}\")\n",
    "print(\"F1-score:\", f1_score(target_train, lgb_train_thresh))\n",
    "print(\"Precision:\", precision_score(target_train, lgb_train_thresh))\n",
    "print(\"Recall:\", recall_score(target_train, lgb_train_thresh))\n",
    "\n",
    "print()\n",
    "\n",
    "print('Validaiton set')\n",
    "print(f\"Threshold: {threshold:.2f}\")\n",
    "print(\"F1-score:\", f1_score(target_valid, lgb_valid_thresh))\n",
    "print(\"Precision:\", precision_score(target_valid, lgb_valid_thresh))\n",
    "print(\"Recall:\", recall_score(target_valid, lgb_valid_thresh))\n"
   ]
  },
  {
   "cell_type": "markdown",
   "metadata": {},
   "source": [
    "Después de explorar parámetros y umbrales de probabilidad, este modelo también muestra buen desempeño."
   ]
  },
  {
   "cell_type": "markdown",
   "metadata": {},
   "source": [
    "## __5. Conclusión de resultados__"
   ]
  },
  {
   "cell_type": "markdown",
   "metadata": {},
   "source": [
    "Para predecir la cancelación de clientes (churn), se probaron y compararon diversos modelos de clasificación como:\n",
    "\n",
    "- **Decision Tree**\n",
    "- **Random Forest**\n",
    "- **Logistic Regression**\n",
    "- **Gradient Boosting**\n",
    "- **LightGBM**\n",
    "- **XGBoost**\n",
    "\n",
    "La métrica principal utilizada fue el **F1-score**, dado el ligero desbalance de clases (26% churn). Se aplicó class_weight='balanced' y ajustes de umbral para mitigarlo.\n",
    "Se buscó optimizar los modelos con mejores desempeño mediante ajuste de parámetros y umbrales.\n",
    "\n",
    "#### El modelo con mejor rendimiento fue:\n",
    "\n",
    "**XGBoostClassifier** con hiperparámetros ajustados y early_stopping_rounds=50, obteniendo:\n",
    "\n",
    "- **Train F1-score**: 0.967\n",
    "- **Validation F1-score**: 0.837\n",
    "- Buen balance entre precisión y recall.\n",
    "Por lo que el modelo es capaz de detectar de manera efectiva a los clientes que probablemente cancelarán.\n",
    "\n",
    "---\n",
    "\n",
    "Durante el análisis exploratorio se identificaron algunas variables clave que influyen en la cancelación:\n",
    "\n",
    "- **Tenure**: Los clientes que han estado poco tiempo tienen mayor probabilidad de cancelar.\n",
    "- **TotalCharges vs MonthlyCharges**: Cargos mensuales altos con bajo tiempo de permanencia indican riesgo de churn.\n",
    "- **Servicios de internet**: Los usuarios de fibra óptica y aquellos con pocos servicios adicionales son más propensos a cancelar.\n",
    "- **PaymentMethod**: El pago con tarjeta electrónica está asociado con mayores tasas de cancelación.\n",
    "- **SeniorCitizen**: Este grupo de edad tiene una tasa de cancelación más alta.\n",
    "\n",
    "---\n",
    "\n",
    "Con lo anterior, se puede recomendar al área de marketing:\n",
    "\n",
    "- Enfoque en clientes nuevos: diseñar campañas de retención para los clientes con menor tenure.\n",
    "- Ofrecer paquetes: Incentivar la contratación de varios servicios de internet para aumentar la permanencia.\n",
    "- Ofrecer promociones: a clientes con tarifas mensuales altas y bajo historial."
   ]
  },
  {
   "cell_type": "code",
   "execution_count": null,
   "metadata": {},
   "outputs": [],
   "source": []
  }
 ],
 "metadata": {
  "kernelspec": {
   "display_name": "Python 3 (ipykernel)",
   "language": "python",
   "name": "python3"
  },
  "language_info": {
   "codemirror_mode": {
    "name": "ipython",
    "version": 3
   },
   "file_extension": ".py",
   "mimetype": "text/x-python",
   "name": "python",
   "nbconvert_exporter": "python",
   "pygments_lexer": "ipython3",
   "version": "3.9.23"
  }
 },
 "nbformat": 4,
 "nbformat_minor": 4
}
